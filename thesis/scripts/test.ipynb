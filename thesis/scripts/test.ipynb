{
 "cells": [
  {
   "cell_type": "code",
   "execution_count": 1,
   "metadata": {},
   "outputs": [],
   "source": [
    "import pandas as pd\n",
    "\n",
    "from sklearn.model_selection import RepeatedStratifiedKFold, RandomizedSearchCV\n",
    "from sklearn.ensemble import RandomForestClassifier\n",
    "from sklearn.neural_network import MLPClassifier\n",
    "from sklearn.metrics import classification_report, confusion_matrix\n",
    "\n",
    "\n",
    "from xgboost.sklearn import XGBClassifier\n"
   ]
  },
  {
   "cell_type": "code",
   "execution_count": 12,
   "metadata": {},
   "outputs": [],
   "source": [
    "class DataLoader:\n",
    "    def __init__(self, name) -> None:\n",
    "        datasets = {\n",
    "        \"kbr\": \"/home/agata/urban-mobility-project/thesis/data/kbr_data.csv\",\n",
    "        \"gadow_agg\": \"/home/agata/urban-mobility-project/thesis/data/gadow_data_agg.csv\",\n",
    "        \"gadow_not_agg\": \"/home/agata/urban-mobility-project/thesis/data/gadow_data_not_agg.csv\"\n",
    "        }\n",
    "        self.name = name\n",
    "        self.df = pd.read_csv(datasets[name])\n",
    "\n",
    "    def get_X_y(self):\n",
    "        y = self.df['travel_mode']\n",
    "        X = self.df.drop(columns=['travel_mode'])\n",
    "        return X, y\n",
    "        \n"
   ]
  },
  {
   "cell_type": "code",
   "execution_count": 15,
   "metadata": {},
   "outputs": [],
   "source": [
    "import os\n",
    "\n",
    "def train_model(model, X, y, outpath, **kwargs):\n",
    "\n",
    "    rskf = RepeatedStratifiedKFold(\n",
    "        n_splits=kwargs[\"n_splits\"],\n",
    "        n_repeats=kwargs[\"n_repeats\"],\n",
    "        random_state=kwargs[\"random_state\"],\n",
    "    )\n",
    "\n",
    "    random_search = RandomizedSearchCV(\n",
    "        model,\n",
    "        param_distributions=kwargs[\"params\"],\n",
    "        n_iter=kwargs[\"n_iter\"],\n",
    "        scoring=[\"accuracy\", \"precision\", \"recall\", \"f1_micro\"],\n",
    "        n_jobs=4,\n",
    "        cv=rskf.split(X, y),\n",
    "    )\n",
    "\n",
    "    random_search.fit(X, y)\n",
    "\n",
    "    print('\\n All results:')\n",
    "    print(random_search.cv_results_)\n",
    "    print('\\n Best estimator:')\n",
    "    print(random_search.best_estimator_)\n",
    "    print('\\n Best normalized gini score for %d-fold search with %d parameter combinations:' % (kwargs[\"n_splits\"], kwargs[\"n_iter\"]))\n",
    "    print(random_search.best_score_ * 2 - 1)\n",
    "    print('\\n Best hyperparameters:')\n",
    "    print(random_search.best_params_)\n",
    "    results = pd.DataFrame(random_search.cv_results_)\n",
    "    results.to_csv(os.path.join(outpath, f'{type(model).__name__}-random-grid-search-results-01.csv', index=False))\n",
    "\n"
   ]
  },
  {
   "cell_type": "code",
   "execution_count": null,
   "metadata": {},
   "outputs": [],
   "source": [
    "model_params = params = {\n",
    "    \"min_child_weight\": [1, 5, 10],\n",
    "    \"gamma\": [0.5, 1, 1.5, 2, 5],\n",
    "    \"subsample\": [0.6, 0.8, 1.0],\n",
    "    \"colsample_bytree\": [0.6, 0.8, 1.0],\n",
    "    \"max_depth\": [3, 4, 5],\n",
    "}\n",
    "\n",
    "xgb = XGBClassifier(learning_rate=0.02, n_estimators=600, objective='binary:logistic',\n",
    "                    silent=True, nthread=1)"
   ]
  }
 ],
 "metadata": {
  "interpreter": {
   "hash": "32de5f327a305b2d405f2ce0b7b6add28c5c95f496e6cf7604b0748837a2fa46"
  },
  "kernelspec": {
   "display_name": "Python 3.9.7 64-bit ('.venv': poetry)",
   "language": "python",
   "name": "python3"
  },
  "language_info": {
   "codemirror_mode": {
    "name": "ipython",
    "version": 3
   },
   "file_extension": ".py",
   "mimetype": "text/x-python",
   "name": "python",
   "nbconvert_exporter": "python",
   "pygments_lexer": "ipython3",
   "version": "3.9.7"
  },
  "orig_nbformat": 4
 },
 "nbformat": 4,
 "nbformat_minor": 2
}
