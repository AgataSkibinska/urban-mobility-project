{
 "metadata": {
  "language_info": {
   "codemirror_mode": {
    "name": "ipython",
    "version": 3
   },
   "file_extension": ".py",
   "mimetype": "text/x-python",
   "name": "python",
   "nbconvert_exporter": "python",
   "pygments_lexer": "ipython3",
   "version": "3.8.5-final"
  },
  "orig_nbformat": 2,
  "kernelspec": {
   "name": "python38564bitmobilityvenvvenvb8bc7019d78143fca132b66bd746cad0",
   "display_name": "Python 3.8.5 64-bit ('mobility_venv': venv)",
   "language": "python"
  }
 },
 "nbformat": 4,
 "nbformat_minor": 2,
 "cells": [
  {
   "cell_type": "code",
   "execution_count": 22,
   "metadata": {},
   "outputs": [],
   "source": [
    "from typing import List\n",
    "import itertools\n",
    "import json\n",
    "from copy import deepcopy\n",
    "import itertools\n",
    "import json\n",
    "import os\n",
    "import shutil\n",
    "import sys\n",
    "from typing import List\n",
    "import json\n",
    "import os\n",
    "import sys\n",
    "from distutils.dir_util import copy_tree\n",
    "from typing import Dict"
   ]
  },
  {
   "cell_type": "code",
   "execution_count": 5,
   "metadata": {},
   "outputs": [],
   "source": [
    "def prepare_scenarios(\n",
    "    distributions: List[str],\n",
    "    values_of_change: List[float]\n",
    "):\n",
    "    lists_to_product = []\n",
    "    for dist in distributions:\n",
    "        lists_to_product.append(\n",
    "            list(itertools.product([dist], values_of_change))\n",
    "        )\n",
    "\n",
    "    all_combinations = list(itertools.product(*lists_to_product))\n",
    "\n",
    "    return all_combinations\n",
    "\n",
    "\n",
    "def chunkIt(seq, num):\n",
    "    avg = len(seq) / float(num)\n",
    "    out = []\n",
    "    last = 0.0\n",
    "\n",
    "    while last < len(seq):\n",
    "        out.append(seq[int(last):int(last + avg)])\n",
    "        last += avg\n",
    "\n",
    "    return out"
   ]
  },
  {
   "cell_type": "code",
   "execution_count": 23,
   "metadata": {},
   "outputs": [],
   "source": [
    "dists = ['a', 'b', 'c']\n",
    "values = [0, 0.1, 0.2, 0.3]\n",
    "\n",
    "scenarios = prepare_scenarios(dists, values)"
   ]
  },
  {
   "cell_type": "code",
   "execution_count": 24,
   "metadata": {},
   "outputs": [
    {
     "output_type": "execute_result",
     "data": {
      "text/plain": [
       "64"
      ]
     },
     "metadata": {},
     "execution_count": 24
    }
   ],
   "source": [
    "len(scenarios)"
   ]
  },
  {
   "cell_type": "code",
   "execution_count": 25,
   "metadata": {},
   "outputs": [],
   "source": [
    "chunks = chunkIt(scenarios, 10)"
   ]
  },
  {
   "cell_type": "code",
   "execution_count": 26,
   "metadata": {},
   "outputs": [
    {
     "output_type": "execute_result",
     "data": {
      "text/plain": [
       "11"
      ]
     },
     "metadata": {},
     "execution_count": 26
    }
   ],
   "source": [
    "len(chunks)"
   ]
  },
  {
   "cell_type": "code",
   "execution_count": 27,
   "metadata": {},
   "outputs": [
    {
     "output_type": "stream",
     "name": "stdout",
     "text": [
      "6\n6\n7\n6\n7\n6\n6\n7\n6\n6\n1\n\n64\n"
     ]
    }
   ],
   "source": [
    "s = 0\n",
    "for c in chunks:\n",
    "    print(len(c))\n",
    "    s += len(c)\n",
    "print()\n",
    "print(s)"
   ]
  },
  {
   "cell_type": "code",
   "execution_count": 28,
   "metadata": {},
   "outputs": [],
   "source": [
    "def change_dist(\n",
    "    dist: Dict[str, Dict[str, float]],\n",
    "    value: float\n",
    "):\n",
    "\n",
    "    if value != 0:\n",
    "\n",
    "        if value < 0:\n",
    "            value = abs(value)\n",
    "            reverse = False\n",
    "        else:\n",
    "            reverse = True\n",
    "\n",
    "        for dist_key in dist.keys():\n",
    "            d = dist[dist_key]\n",
    "            prev_key = None\n",
    "            for k in sorted(d.keys(), reverse=reverse):\n",
    "                if prev_key:\n",
    "                    change_value = value * d[k]\n",
    "                    d[prev_key] = d[prev_key] + change_value\n",
    "                    d[k] = d[k] - change_value\n",
    "                prev_key = k\n",
    "            dist[dist_key] = d\n",
    "\n",
    "    return dist"
   ]
  },
  {
   "cell_type": "code",
   "execution_count": 29,
   "metadata": {},
   "outputs": [],
   "source": [
    "dist = {\n",
    "    'a': {\n",
    "        '1': 0.2,\n",
    "        '2': 0.3,\n",
    "        '3': 0.5\n",
    "    },\n",
    "    'b': {\n",
    "        '1': 0.1,\n",
    "        '2': 0.1,\n",
    "        '3': 0.3,\n",
    "        '4': 0.25,\n",
    "        '5': 0.25\n",
    "    }\n",
    "}"
   ]
  },
  {
   "cell_type": "code",
   "execution_count": 31,
   "metadata": {},
   "outputs": [
    {
     "output_type": "execute_result",
     "data": {
      "text/plain": [
       "{'a': {'1': 0.18, '2': 0.29000000000000004, '3': 0.53},\n",
       " 'b': {'1': 0.09, '2': 0.1, '3': 0.28, '4': 0.255, '5': 0.275}}"
      ]
     },
     "metadata": {},
     "execution_count": 31
    }
   ],
   "source": [
    "change_dist(deepcopy(dist), 0.1)"
   ]
  },
  {
   "cell_type": "code",
   "execution_count": 33,
   "metadata": {},
   "outputs": [
    {
     "output_type": "execute_result",
     "data": {
      "text/plain": [
       "{'a': {'1': 0.23, '2': 0.32, '3': 0.45},\n",
       " 'b': {'1': 0.11000000000000001,\n",
       "  '2': 0.12,\n",
       "  '3': 0.29500000000000004,\n",
       "  '4': 0.25,\n",
       "  '5': 0.225}}"
      ]
     },
     "metadata": {},
     "execution_count": 33
    }
   ],
   "source": [
    "change_dist(deepcopy(dist), -0.1)"
   ]
  },
  {
   "cell_type": "code",
   "execution_count": 35,
   "metadata": {},
   "outputs": [],
   "source": [
    "def get_output_folder_postfix(scenario):\n",
    "    postfix = ''\n",
    "\n",
    "    for [dist, value] in scenario:\n",
    "        postfix += '_'\n",
    "        postfix += dist.split('/')[-1]\n",
    "        postfix += '_'\n",
    "        postfix += str(value).replace('.', '_')\n",
    "\n",
    "    return postfix"
   ]
  },
  {
   "cell_type": "code",
   "execution_count": 38,
   "metadata": {},
   "outputs": [
    {
     "output_type": "execute_result",
     "data": {
      "text/plain": [
       "'_pub_trans_comfort_dist-up_0_1_pub_trans_punctuality_dist-up_0_0_household_cars_dist-down_0_5'"
      ]
     },
     "metadata": {},
     "execution_count": 38
    }
   ],
   "source": [
    "get_output_folder_postfix([[\"decision_tree/pub_trans_comfort_dist-up\", 0.1], [\"decision_tree/pub_trans_punctuality_dist-up\", 0.0], [\"decision_tree/household_cars_dist-down\", 0.5]])"
   ]
  },
  {
   "cell_type": "code",
   "execution_count": null,
   "metadata": {},
   "outputs": [],
   "source": []
  }
 ]
}