{
 "metadata": {
  "language_info": {
   "codemirror_mode": {
    "name": "ipython",
    "version": 3
   },
   "file_extension": ".py",
   "mimetype": "text/x-python",
   "name": "python",
   "nbconvert_exporter": "python",
   "pygments_lexer": "ipython3",
   "version": "3.8.5-final"
  },
  "orig_nbformat": 2,
  "kernelspec": {
   "name": "python38564bitmobilityvenvvenvb8bc7019d78143fca132b66bd746cad0",
   "display_name": "Python 3.8.5 64-bit ('mobility_venv': venv)",
   "language": "python"
  }
 },
 "nbformat": 4,
 "nbformat_minor": 2,
 "cells": [
  {
   "cell_type": "code",
   "execution_count": 32,
   "metadata": {},
   "outputs": [],
   "source": [
    "from typing import List\n",
    "import itertools\n",
    "import json\n",
    "from copy import deepcopy"
   ]
  },
  {
   "cell_type": "code",
   "execution_count": 4,
   "metadata": {},
   "outputs": [],
   "source": [
    "dist = 'decision_tree/households_cars_dist'\n",
    "change_value = 0.2"
   ]
  },
  {
   "cell_type": "code",
   "execution_count": 33,
   "metadata": {},
   "outputs": [],
   "source": [
    "dd = {\n",
    "    'a': {\n",
    "        '1': 0.2,\n",
    "        '2': 0.3,\n",
    "        '3': 0.5\n",
    "    },\n",
    "    'b': {\n",
    "        '1': 0.2,\n",
    "        '2': 0.3,\n",
    "        '3': 0.5\n",
    "    }\n",
    "}"
   ]
  },
  {
   "cell_type": "code",
   "execution_count": 42,
   "metadata": {},
   "outputs": [],
   "source": [
    "def change_dist(dist, value):\n",
    "\n",
    "    if value != 0:\n",
    "\n",
    "        if value < 0:\n",
    "            value = abs(value)\n",
    "            reverse = False\n",
    "        else:\n",
    "            reverse = True\n",
    "\n",
    "        for dist_key in dist.keys():\n",
    "            d = dist[dist_key]\n",
    "            prev_key = None\n",
    "            for k in sorted(d.keys(), reverse=reverse):\n",
    "                if prev_key:\n",
    "                    change_value = 0.1 * d[k]\n",
    "                    d[prev_key] = d[prev_key] + change_value\n",
    "                    d[k] = d[k] - change_value\n",
    "                prev_key = k\n",
    "            dist[dist_key] = d\n",
    "\n",
    "    return dist"
   ]
  },
  {
   "cell_type": "code",
   "execution_count": 43,
   "metadata": {},
   "outputs": [
    {
     "output_type": "execute_result",
     "data": {
      "text/plain": [
       "{'a': {'1': 0.18, '2': 0.29000000000000004, '3': 0.53},\n",
       " 'b': {'1': 0.18, '2': 0.29000000000000004, '3': 0.53}}"
      ]
     },
     "metadata": {},
     "execution_count": 43
    }
   ],
   "source": [
    "change_dist(deepcopy(dd), 0.2)"
   ]
  },
  {
   "cell_type": "code",
   "execution_count": 44,
   "metadata": {},
   "outputs": [
    {
     "output_type": "execute_result",
     "data": {
      "text/plain": [
       "{'a': {'1': 0.23, '2': 0.32, '3': 0.45},\n",
       " 'b': {'1': 0.23, '2': 0.32, '3': 0.45}}"
      ]
     },
     "metadata": {},
     "execution_count": 44
    }
   ],
   "source": [
    "change_dist(deepcopy(dd), -0.2)"
   ]
  },
  {
   "cell_type": "code",
   "execution_count": 45,
   "metadata": {},
   "outputs": [
    {
     "output_type": "execute_result",
     "data": {
      "text/plain": [
       "{'a': {'1': 0.2, '2': 0.3, '3': 0.5}, 'b': {'1': 0.2, '2': 0.3, '3': 0.5}}"
      ]
     },
     "metadata": {},
     "execution_count": 45
    }
   ],
   "source": [
    "dd"
   ]
  },
  {
   "cell_type": "code",
   "execution_count": 38,
   "metadata": {},
   "outputs": [
    {
     "output_type": "execute_result",
     "data": {
      "text/plain": [
       "['1', '2', '3']"
      ]
     },
     "metadata": {},
     "execution_count": 38
    }
   ],
   "source": [
    "sorted(dd['a'].keys(), reverse=False)"
   ]
  },
  {
   "cell_type": "code",
   "execution_count": 48,
   "metadata": {},
   "outputs": [],
   "source": [
    "sc = [[\"tr/f1\", 0.1], [\"tr/f2\", 0.1], [\"tr/f3\", 0.1]]"
   ]
  },
  {
   "cell_type": "code",
   "execution_count": 54,
   "metadata": {},
   "outputs": [],
   "source": [
    "def get_output_folder_postfix(scenario):\n",
    "    postfix = ''\n",
    "\n",
    "    for [dist, value] in scenario:\n",
    "        postfix += '_'\n",
    "        postfix += dist.split('/')[-1]\n",
    "        postfix += '_'\n",
    "        postfix += str(value).replace('.', '_')\n",
    "\n",
    "    return postfix"
   ]
  },
  {
   "cell_type": "code",
   "execution_count": 55,
   "metadata": {},
   "outputs": [
    {
     "output_type": "execute_result",
     "data": {
      "text/plain": [
       "'_f1_0_1_f2_0_1_f3_0_1'"
      ]
     },
     "metadata": {},
     "execution_count": 55
    }
   ],
   "source": [
    "get_output_folder_postfix(sc)"
   ]
  },
  {
   "cell_type": "code",
   "execution_count": 2,
   "metadata": {},
   "outputs": [
    {
     "output_type": "error",
     "ename": "Exception",
     "evalue": "aa",
     "traceback": [
      "\u001b[0;31m---------------------------------------------------------------------------\u001b[0m",
      "\u001b[0;31mException\u001b[0m                                 Traceback (most recent call last)",
      "\u001b[0;32m<ipython-input-2-6479000e63b6>\u001b[0m in \u001b[0;36m<module>\u001b[0;34m\u001b[0m\n\u001b[0;32m----> 1\u001b[0;31m \u001b[0;32mraise\u001b[0m \u001b[0mException\u001b[0m\u001b[0;34m(\u001b[0m\u001b[0;34m'aa'\u001b[0m\u001b[0;34m)\u001b[0m\u001b[0;34m\u001b[0m\u001b[0;34m\u001b[0m\u001b[0m\n\u001b[0m",
      "\u001b[0;31mException\u001b[0m: aa"
     ]
    }
   ],
   "source": [
    "raise Exception('aa')"
   ]
  },
  {
   "cell_type": "code",
   "execution_count": null,
   "metadata": {},
   "outputs": [],
   "source": []
  }
 ]
}