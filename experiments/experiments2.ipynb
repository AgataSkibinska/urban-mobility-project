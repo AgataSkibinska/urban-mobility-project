{
 "metadata": {
  "language_info": {
   "codemirror_mode": {
    "name": "ipython",
    "version": 3
   },
   "file_extension": ".py",
   "mimetype": "text/x-python",
   "name": "python",
   "nbconvert_exporter": "python",
   "pygments_lexer": "ipython3",
   "version": "3.8.5-final"
  },
  "orig_nbformat": 2,
  "kernelspec": {
   "name": "python38564bitmobilityvenvvenvb8bc7019d78143fca132b66bd746cad0",
   "display_name": "Python 3.8.5 64-bit ('mobility_venv': venv)",
   "language": "python"
  }
 },
 "nbformat": 4,
 "nbformat_minor": 2,
 "cells": [
  {
   "cell_type": "code",
   "execution_count": 5,
   "metadata": {},
   "outputs": [],
   "source": [
    "import time\n",
    "\n",
    "from src.runners import run"
   ]
  },
  {
   "cell_type": "code",
   "execution_count": 7,
   "metadata": {},
   "outputs": [
    {
     "output_type": "stream",
     "name": "stdout",
     "text": [
      "476.29380464553833\n"
     ]
    }
   ],
   "source": [
    "start_timer = time.time()\n",
    "\n",
    "run(\n",
    "    in_dir_path = './input_data/base_distributions',\n",
    "    out_dir_path = './results/base_distributions',\n",
    "    num_agents = 100000,\n",
    "    sim_start_time = 4*60,\n",
    "    sim_step_time = 60,\n",
    "    sim_end_time = 24*60,\n",
    "    num_simulations = 10,\n",
    "    num_processes = 1\n",
    ")\n",
    "\n",
    "print(time.time() - start_timer)"
   ]
  },
  {
   "cell_type": "code",
   "execution_count": 8,
   "metadata": {},
   "outputs": [
    {
     "output_type": "stream",
     "name": "stdout",
     "text": [
      "261.722371339798\n"
     ]
    }
   ],
   "source": [
    "start_timer = time.time()\n",
    "\n",
    "run(\n",
    "    in_dir_path = './input_data/base_distributions',\n",
    "    out_dir_path = './results/base_distributions',\n",
    "    num_agents = 100000,\n",
    "    sim_start_time = 4*60,\n",
    "    sim_step_time = 60,\n",
    "    sim_end_time = 24*60,\n",
    "    num_simulations = 10,\n",
    "    num_processes = 7\n",
    ")\n",
    "\n",
    "print(time.time() - start_timer)"
   ]
  },
  {
   "cell_type": "code",
   "execution_count": null,
   "metadata": {},
   "outputs": [],
   "source": []
  }
 ]
}