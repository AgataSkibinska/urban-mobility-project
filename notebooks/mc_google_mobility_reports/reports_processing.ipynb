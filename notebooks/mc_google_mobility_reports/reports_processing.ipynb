{
 "metadata": {
  "language_info": {
   "codemirror_mode": {
    "name": "ipython",
    "version": 3
   },
   "file_extension": ".py",
   "mimetype": "text/x-python",
   "name": "python",
   "nbconvert_exporter": "python",
   "pygments_lexer": "ipython3",
   "version": "3.8.2"
  },
  "orig_nbformat": 2,
  "kernelspec": {
   "name": "python382jvsc74a57bd0949029d92ec5e65609893ae6417d70f6e4b61e42c3828da5fd372a1d70154353",
   "display_name": "Python 3.8.2 64-bit ('mobility_venv': venv)"
  }
 },
 "nbformat": 4,
 "nbformat_minor": 2,
 "cells": [
  {
   "cell_type": "code",
   "execution_count": 1,
   "metadata": {},
   "outputs": [
    {
     "output_type": "execute_result",
     "data": {
      "text/plain": [
       "'mobility_venv'"
      ]
     },
     "metadata": {},
     "execution_count": 1
    }
   ],
   "source": [
    "import sys\n",
    "\n",
    "sys.executable.split('/')[-3]"
   ]
  },
  {
   "cell_type": "code",
   "execution_count": 2,
   "metadata": {},
   "outputs": [],
   "source": [
    "import datetime\n",
    "import json\n",
    "import os\n",
    "import warnings\n",
    "\n",
    "import numpy as np\n",
    "import pandas as pd\n",
    "from tqdm import tqdm\n",
    "\n",
    "warnings.filterwarnings('ignore')\n",
    "tqdm.pandas()\n",
    "pd.options.display.max_columns = None"
   ]
  },
  {
   "source": [
    "## Load google mobility reports data"
   ],
   "cell_type": "markdown",
   "metadata": {}
  },
  {
   "cell_type": "code",
   "execution_count": 3,
   "metadata": {},
   "outputs": [],
   "source": [
    "google_data = '../../data/external/google_mobility_reports'\n",
    "reports_dir = '11-05-2021'\n",
    "report_2020_file = '2020_PL_Region_Mobility_Report.csv'\n",
    "report_2021_file = '2021_PL_Region_Mobility_Report.csv'\n",
    "\n",
    "data_2020 = pd.read_csv(os.path.join(google_data, reports_dir, report_2020_file))\n",
    "data_2021 = pd.read_csv(os.path.join(google_data, reports_dir, report_2021_file))"
   ]
  },
  {
   "source": [
    "## Clear data"
   ],
   "cell_type": "markdown",
   "metadata": {}
  },
  {
   "cell_type": "code",
   "execution_count": 4,
   "metadata": {},
   "outputs": [],
   "source": [
    "# delete unnecessary columns\n",
    "drop_cols = ['country_region_code', 'country_region', 'metro_area', 'census_fips_code']\n",
    "\n",
    "data_2020.drop(drop_cols, axis=1, inplace=True)\n",
    "data_2021.drop(drop_cols, axis=1, inplace=True)\n",
    "\n",
    "# map long column names\n",
    "data_2020.columns = [col.replace('_percent_change_from_baseline','') for col in data_2020.columns.to_list()]\n",
    "data_2021.columns = [col.replace('_percent_change_from_baseline','') for col in data_2021.columns.to_list()]\n",
    "\n",
    "# convert 'date' column from string to datetime format\n",
    "data_2020['date'] = pd.to_datetime(data_2020['date'])\n",
    "data_2021['date'] = pd.to_datetime(data_2021['date'])\n",
    "\n",
    "# column iso_3166_2_code -> 16 unique el + NaN = 17 | codes for the names of the principal subdivisions (kody województw)\n",
    "#   handy: 'PL-DS'\n",
    "# column sub_region_1 -> 16 unique el + NaN = 17 | provinces (województwa)\n",
    "#   handy: 'Lower Silesian Voivodeship'\n",
    "# column sub_region_2 -> 380 unique el + NaN = 381 | e.g.: 'Aleksandrów County', 'Augustów County', 'Bartoszyce County', ...\n",
    "#   handy: 'Wrocław County', 'wrocławski'"
   ]
  },
  {
   "cell_type": "code",
   "execution_count": 5,
   "metadata": {},
   "outputs": [
    {
     "output_type": "execute_result",
     "data": {
      "text/plain": [
       "  sub_region_1 sub_region_2 iso_3166_2_code                     place_id  \\\n",
       "0          NaN          NaN             NaN  ChIJuwtkpGSZAEcR6lXMScpzdQk   \n",
       "1          NaN          NaN             NaN  ChIJuwtkpGSZAEcR6lXMScpzdQk   \n",
       "2          NaN          NaN             NaN  ChIJuwtkpGSZAEcR6lXMScpzdQk   \n",
       "3          NaN          NaN             NaN  ChIJuwtkpGSZAEcR6lXMScpzdQk   \n",
       "4          NaN          NaN             NaN  ChIJuwtkpGSZAEcR6lXMScpzdQk   \n",
       "\n",
       "        date  retail_and_recreation  grocery_and_pharmacy  parks  \\\n",
       "0 2020-02-15                    7.0                  -1.0   26.0   \n",
       "1 2020-02-16                   12.0                 -13.0   18.0   \n",
       "2 2020-02-17                    6.0                   1.0   20.0   \n",
       "3 2020-02-18                    3.0                  -1.0   13.0   \n",
       "4 2020-02-19                    5.0                   0.0   13.0   \n",
       "\n",
       "   transit_stations  workplaces  residential  \n",
       "0               4.0         0.0         -1.0  \n",
       "1               6.0        -2.0          0.0  \n",
       "2               1.0         1.0          0.0  \n",
       "3              -1.0         1.0          1.0  \n",
       "4              -1.0         1.0          0.0  "
      ],
      "text/html": "<div>\n<style scoped>\n    .dataframe tbody tr th:only-of-type {\n        vertical-align: middle;\n    }\n\n    .dataframe tbody tr th {\n        vertical-align: top;\n    }\n\n    .dataframe thead th {\n        text-align: right;\n    }\n</style>\n<table border=\"1\" class=\"dataframe\">\n  <thead>\n    <tr style=\"text-align: right;\">\n      <th></th>\n      <th>sub_region_1</th>\n      <th>sub_region_2</th>\n      <th>iso_3166_2_code</th>\n      <th>place_id</th>\n      <th>date</th>\n      <th>retail_and_recreation</th>\n      <th>grocery_and_pharmacy</th>\n      <th>parks</th>\n      <th>transit_stations</th>\n      <th>workplaces</th>\n      <th>residential</th>\n    </tr>\n  </thead>\n  <tbody>\n    <tr>\n      <th>0</th>\n      <td>NaN</td>\n      <td>NaN</td>\n      <td>NaN</td>\n      <td>ChIJuwtkpGSZAEcR6lXMScpzdQk</td>\n      <td>2020-02-15</td>\n      <td>7.0</td>\n      <td>-1.0</td>\n      <td>26.0</td>\n      <td>4.0</td>\n      <td>0.0</td>\n      <td>-1.0</td>\n    </tr>\n    <tr>\n      <th>1</th>\n      <td>NaN</td>\n      <td>NaN</td>\n      <td>NaN</td>\n      <td>ChIJuwtkpGSZAEcR6lXMScpzdQk</td>\n      <td>2020-02-16</td>\n      <td>12.0</td>\n      <td>-13.0</td>\n      <td>18.0</td>\n      <td>6.0</td>\n      <td>-2.0</td>\n      <td>0.0</td>\n    </tr>\n    <tr>\n      <th>2</th>\n      <td>NaN</td>\n      <td>NaN</td>\n      <td>NaN</td>\n      <td>ChIJuwtkpGSZAEcR6lXMScpzdQk</td>\n      <td>2020-02-17</td>\n      <td>6.0</td>\n      <td>1.0</td>\n      <td>20.0</td>\n      <td>1.0</td>\n      <td>1.0</td>\n      <td>0.0</td>\n    </tr>\n    <tr>\n      <th>3</th>\n      <td>NaN</td>\n      <td>NaN</td>\n      <td>NaN</td>\n      <td>ChIJuwtkpGSZAEcR6lXMScpzdQk</td>\n      <td>2020-02-18</td>\n      <td>3.0</td>\n      <td>-1.0</td>\n      <td>13.0</td>\n      <td>-1.0</td>\n      <td>1.0</td>\n      <td>1.0</td>\n    </tr>\n    <tr>\n      <th>4</th>\n      <td>NaN</td>\n      <td>NaN</td>\n      <td>NaN</td>\n      <td>ChIJuwtkpGSZAEcR6lXMScpzdQk</td>\n      <td>2020-02-19</td>\n      <td>5.0</td>\n      <td>0.0</td>\n      <td>13.0</td>\n      <td>-1.0</td>\n      <td>1.0</td>\n      <td>0.0</td>\n    </tr>\n  </tbody>\n</table>\n</div>"
     },
     "metadata": {},
     "execution_count": 5
    }
   ],
   "source": [
    "data_2020.head()"
   ]
  },
  {
   "cell_type": "code",
   "execution_count": 6,
   "metadata": {},
   "outputs": [
    {
     "output_type": "execute_result",
     "data": {
      "text/plain": [
       "['Inowrocław County', 'Wrocław County', 'wrocławski']"
      ]
     },
     "metadata": {},
     "execution_count": 6
    }
   ],
   "source": [
    "unique_sub_region_2 = data_2020['sub_region_2'].unique().tolist()\n",
    "unique_sub_region_2 = sorted(([sub_region for sub_region in unique_sub_region_2 if str(sub_region) != 'nan']))\n",
    "\n",
    "[sub_region for sub_region in unique_sub_region_2 if 'wrocław' in sub_region.lower()]"
   ]
  },
  {
   "cell_type": "code",
   "execution_count": 7,
   "metadata": {},
   "outputs": [
    {
     "output_type": "execute_result",
     "data": {
      "text/plain": [
       "9630"
      ]
     },
     "metadata": {},
     "execution_count": 7
    }
   ],
   "source": [
    "data_2020[\n",
    "    data_2020['sub_region_1'] == 'Lower Silesian Voivodeship'\n",
    "].shape[0] # ['iso_3166_2_code'].unique()"
   ]
  },
  {
   "cell_type": "code",
   "execution_count": 8,
   "metadata": {},
   "outputs": [
    {
     "output_type": "execute_result",
     "data": {
      "text/plain": [
       "321"
      ]
     },
     "metadata": {},
     "execution_count": 8
    }
   ],
   "source": [
    "data_2020[\n",
    "    (data_2020['sub_region_2'] == 'Wrocław County')\n",
    "    # | (data_2020['sub_region_2'] == 'wrocławski')\n",
    "].shape[0] # ['iso_3166_2_code'].unique()"
   ]
  },
  {
   "cell_type": "code",
   "execution_count": 9,
   "metadata": {},
   "outputs": [
    {
     "output_type": "execute_result",
     "data": {
      "text/plain": [
       "321"
      ]
     },
     "metadata": {},
     "execution_count": 9
    }
   ],
   "source": [
    "data_2020[\n",
    "    data_2020['iso_3166_2_code'] == 'PL-DS'\n",
    "].shape[0] # ['sub_region_1'].unique()"
   ]
  },
  {
   "source": [
    "### Focus on sub_region_2 == 'Wrocław County'"
   ],
   "cell_type": "markdown",
   "metadata": {}
  },
  {
   "cell_type": "code",
   "execution_count": 10,
   "metadata": {},
   "outputs": [],
   "source": [
    "date_start = pd.to_datetime(datetime.date(2020, 6, 15))\n",
    "date_end = pd.to_datetime(datetime.date(2020, 7, 15))\n",
    "\n",
    "date_start = pd.to_datetime('2020-06-15')\n",
    "date_end = pd.to_datetime('2020-07-15')\n",
    "\n",
    "data = data_2020[\n",
    "    (data_2020['sub_region_2'] == 'Wrocław County') & \n",
    "    (data_2020['date'] >= date_start) & \n",
    "    (data_2020['date'] <= date_end) \n",
    "]"
   ]
  },
  {
   "cell_type": "code",
   "execution_count": 11,
   "metadata": {},
   "outputs": [],
   "source": [
    "# drop weekends\n",
    "data['is_weekend'] = np.where(data['date'].dt.dayofweek < 5, 0, 1) # 0: Monday, ..., 6: Sunday0\n",
    "\n",
    "data = data[\n",
    "    (data['is_weekend'] == 0)\n",
    "]\n",
    "del data['is_weekend']"
   ]
  },
  {
   "cell_type": "code",
   "execution_count": 12,
   "metadata": {},
   "outputs": [
    {
     "output_type": "stream",
     "name": "stdout",
     "text": [
      "<class 'pandas.core.frame.DataFrame'>\nInt64Index: 23 entries, 41848 to 41878\nData columns (total 11 columns):\n #   Column                 Non-Null Count  Dtype         \n---  ------                 --------------  -----         \n 0   sub_region_1           23 non-null     object        \n 1   sub_region_2           23 non-null     object        \n 2   iso_3166_2_code        0 non-null      object        \n 3   place_id               23 non-null     object        \n 4   date                   23 non-null     datetime64[ns]\n 5   retail_and_recreation  23 non-null     float64       \n 6   grocery_and_pharmacy   23 non-null     float64       \n 7   parks                  23 non-null     float64       \n 8   transit_stations       23 non-null     float64       \n 9   workplaces             23 non-null     float64       \n 10  residential            23 non-null     float64       \ndtypes: datetime64[ns](1), float64(6), object(4)\nmemory usage: 2.2+ KB\nNone\n"
     ]
    },
    {
     "output_type": "execute_result",
     "data": {
      "text/plain": [
       "                     sub_region_1    sub_region_2 iso_3166_2_code  \\\n",
       "41848  Lower Silesian Voivodeship  Wrocław County             NaN   \n",
       "41849  Lower Silesian Voivodeship  Wrocław County             NaN   \n",
       "41850  Lower Silesian Voivodeship  Wrocław County             NaN   \n",
       "41851  Lower Silesian Voivodeship  Wrocław County             NaN   \n",
       "41852  Lower Silesian Voivodeship  Wrocław County             NaN   \n",
       "\n",
       "                          place_id       date  retail_and_recreation  \\\n",
       "41848  ChIJv4q11MLpD0cRwFAALURV1YE 2020-06-15                  -16.0   \n",
       "41849  ChIJv4q11MLpD0cRwFAALURV1YE 2020-06-16                  -15.0   \n",
       "41850  ChIJv4q11MLpD0cRwFAALURV1YE 2020-06-17                  -16.0   \n",
       "41851  ChIJv4q11MLpD0cRwFAALURV1YE 2020-06-18                  -20.0   \n",
       "41852  ChIJv4q11MLpD0cRwFAALURV1YE 2020-06-19                  -26.0   \n",
       "\n",
       "       grocery_and_pharmacy  parks  transit_stations  workplaces  residential  \n",
       "41848                 -14.0   65.0             -42.0       -34.0          7.0  \n",
       "41849                 -17.0   98.0             -41.0       -34.0          9.0  \n",
       "41850                 -17.0  105.0             -39.0       -33.0          7.0  \n",
       "41851                 -16.0   35.0             -42.0       -35.0          9.0  \n",
       "41852                 -19.0  -20.0             -44.0       -35.0         10.0  "
      ],
      "text/html": "<div>\n<style scoped>\n    .dataframe tbody tr th:only-of-type {\n        vertical-align: middle;\n    }\n\n    .dataframe tbody tr th {\n        vertical-align: top;\n    }\n\n    .dataframe thead th {\n        text-align: right;\n    }\n</style>\n<table border=\"1\" class=\"dataframe\">\n  <thead>\n    <tr style=\"text-align: right;\">\n      <th></th>\n      <th>sub_region_1</th>\n      <th>sub_region_2</th>\n      <th>iso_3166_2_code</th>\n      <th>place_id</th>\n      <th>date</th>\n      <th>retail_and_recreation</th>\n      <th>grocery_and_pharmacy</th>\n      <th>parks</th>\n      <th>transit_stations</th>\n      <th>workplaces</th>\n      <th>residential</th>\n    </tr>\n  </thead>\n  <tbody>\n    <tr>\n      <th>41848</th>\n      <td>Lower Silesian Voivodeship</td>\n      <td>Wrocław County</td>\n      <td>NaN</td>\n      <td>ChIJv4q11MLpD0cRwFAALURV1YE</td>\n      <td>2020-06-15</td>\n      <td>-16.0</td>\n      <td>-14.0</td>\n      <td>65.0</td>\n      <td>-42.0</td>\n      <td>-34.0</td>\n      <td>7.0</td>\n    </tr>\n    <tr>\n      <th>41849</th>\n      <td>Lower Silesian Voivodeship</td>\n      <td>Wrocław County</td>\n      <td>NaN</td>\n      <td>ChIJv4q11MLpD0cRwFAALURV1YE</td>\n      <td>2020-06-16</td>\n      <td>-15.0</td>\n      <td>-17.0</td>\n      <td>98.0</td>\n      <td>-41.0</td>\n      <td>-34.0</td>\n      <td>9.0</td>\n    </tr>\n    <tr>\n      <th>41850</th>\n      <td>Lower Silesian Voivodeship</td>\n      <td>Wrocław County</td>\n      <td>NaN</td>\n      <td>ChIJv4q11MLpD0cRwFAALURV1YE</td>\n      <td>2020-06-17</td>\n      <td>-16.0</td>\n      <td>-17.0</td>\n      <td>105.0</td>\n      <td>-39.0</td>\n      <td>-33.0</td>\n      <td>7.0</td>\n    </tr>\n    <tr>\n      <th>41851</th>\n      <td>Lower Silesian Voivodeship</td>\n      <td>Wrocław County</td>\n      <td>NaN</td>\n      <td>ChIJv4q11MLpD0cRwFAALURV1YE</td>\n      <td>2020-06-18</td>\n      <td>-20.0</td>\n      <td>-16.0</td>\n      <td>35.0</td>\n      <td>-42.0</td>\n      <td>-35.0</td>\n      <td>9.0</td>\n    </tr>\n    <tr>\n      <th>41852</th>\n      <td>Lower Silesian Voivodeship</td>\n      <td>Wrocław County</td>\n      <td>NaN</td>\n      <td>ChIJv4q11MLpD0cRwFAALURV1YE</td>\n      <td>2020-06-19</td>\n      <td>-26.0</td>\n      <td>-19.0</td>\n      <td>-20.0</td>\n      <td>-44.0</td>\n      <td>-35.0</td>\n      <td>10.0</td>\n    </tr>\n  </tbody>\n</table>\n</div>"
     },
     "metadata": {},
     "execution_count": 12
    }
   ],
   "source": [
    "print(data.info())\n",
    "data.head()"
   ]
  },
  {
   "cell_type": "code",
   "execution_count": 13,
   "metadata": {},
   "outputs": [
    {
     "output_type": "execute_result",
     "data": {
      "text/plain": [
       "       retail_and_recreation  grocery_and_pharmacy       parks  \\\n",
       "count              23.000000             23.000000   23.000000   \n",
       "mean              -14.869565            -17.782609   66.869565   \n",
       "std                 4.836456              2.859697   40.895993   \n",
       "min               -27.000000            -26.000000  -26.000000   \n",
       "25%               -16.000000            -19.000000   47.500000   \n",
       "50%               -14.000000            -17.000000   73.000000   \n",
       "75%               -12.000000            -16.000000   92.000000   \n",
       "max                -7.000000            -14.000000  130.000000   \n",
       "\n",
       "       transit_stations  workplaces  residential  \n",
       "count         23.000000   23.000000    23.000000  \n",
       "mean         -38.000000  -34.739130     6.869565  \n",
       "std            3.316625    1.214211     1.841549  \n",
       "min          -45.000000  -37.000000     4.000000  \n",
       "25%          -40.000000  -35.500000     5.500000  \n",
       "50%          -38.000000  -35.000000     7.000000  \n",
       "75%          -36.000000  -34.000000     7.500000  \n",
       "max          -33.000000  -33.000000    11.000000  "
      ],
      "text/html": "<div>\n<style scoped>\n    .dataframe tbody tr th:only-of-type {\n        vertical-align: middle;\n    }\n\n    .dataframe tbody tr th {\n        vertical-align: top;\n    }\n\n    .dataframe thead th {\n        text-align: right;\n    }\n</style>\n<table border=\"1\" class=\"dataframe\">\n  <thead>\n    <tr style=\"text-align: right;\">\n      <th></th>\n      <th>retail_and_recreation</th>\n      <th>grocery_and_pharmacy</th>\n      <th>parks</th>\n      <th>transit_stations</th>\n      <th>workplaces</th>\n      <th>residential</th>\n    </tr>\n  </thead>\n  <tbody>\n    <tr>\n      <th>count</th>\n      <td>23.000000</td>\n      <td>23.000000</td>\n      <td>23.000000</td>\n      <td>23.000000</td>\n      <td>23.000000</td>\n      <td>23.000000</td>\n    </tr>\n    <tr>\n      <th>mean</th>\n      <td>-14.869565</td>\n      <td>-17.782609</td>\n      <td>66.869565</td>\n      <td>-38.000000</td>\n      <td>-34.739130</td>\n      <td>6.869565</td>\n    </tr>\n    <tr>\n      <th>std</th>\n      <td>4.836456</td>\n      <td>2.859697</td>\n      <td>40.895993</td>\n      <td>3.316625</td>\n      <td>1.214211</td>\n      <td>1.841549</td>\n    </tr>\n    <tr>\n      <th>min</th>\n      <td>-27.000000</td>\n      <td>-26.000000</td>\n      <td>-26.000000</td>\n      <td>-45.000000</td>\n      <td>-37.000000</td>\n      <td>4.000000</td>\n    </tr>\n    <tr>\n      <th>25%</th>\n      <td>-16.000000</td>\n      <td>-19.000000</td>\n      <td>47.500000</td>\n      <td>-40.000000</td>\n      <td>-35.500000</td>\n      <td>5.500000</td>\n    </tr>\n    <tr>\n      <th>50%</th>\n      <td>-14.000000</td>\n      <td>-17.000000</td>\n      <td>73.000000</td>\n      <td>-38.000000</td>\n      <td>-35.000000</td>\n      <td>7.000000</td>\n    </tr>\n    <tr>\n      <th>75%</th>\n      <td>-12.000000</td>\n      <td>-16.000000</td>\n      <td>92.000000</td>\n      <td>-36.000000</td>\n      <td>-34.000000</td>\n      <td>7.500000</td>\n    </tr>\n    <tr>\n      <th>max</th>\n      <td>-7.000000</td>\n      <td>-14.000000</td>\n      <td>130.000000</td>\n      <td>-33.000000</td>\n      <td>-33.000000</td>\n      <td>11.000000</td>\n    </tr>\n  </tbody>\n</table>\n</div>"
     },
     "metadata": {},
     "execution_count": 13
    }
   ],
   "source": [
    "data.describe()"
   ]
  },
  {
   "cell_type": "code",
   "execution_count": 14,
   "metadata": {},
   "outputs": [],
   "source": [
    "def save_object(obj, name, out_dir='out'):\n",
    "    file_name = name if name.endswith('.json') else name + '.json'\n",
    "    file_path = os.path.join(out_dir, file_name)\n",
    "    with open(file_path, 'w') as f:\n",
    "        json.dump(obj, f)"
   ]
  },
  {
   "cell_type": "code",
   "execution_count": 15,
   "metadata": {},
   "outputs": [
    {
     "output_type": "execute_result",
     "data": {
      "text/plain": [
       "{'retail_and_recreation': -14.869565217391305,\n",
       " 'grocery_and_pharmacy': -17.782608695652176,\n",
       " 'parks': 66.8695652173913,\n",
       " 'transit_stations': -38.0,\n",
       " 'workplaces': -34.73913043478261,\n",
       " 'residential': 6.869565217391305}"
      ]
     },
     "metadata": {},
     "execution_count": 15
    }
   ],
   "source": [
    "means_dict = dict(data.describe().loc['mean'])\n",
    "means_dict"
   ]
  },
  {
   "cell_type": "code",
   "execution_count": 16,
   "metadata": {},
   "outputs": [],
   "source": [
    "out_dir = '../../data/processed/mc/pandemic_mobility'\n",
    "\n",
    "if not os.path.exists(out_dir):\n",
    "    os.makedirs(out_dir)"
   ]
  },
  {
   "cell_type": "code",
   "execution_count": 17,
   "metadata": {},
   "outputs": [],
   "source": [
    "save_object(\n",
    "    obj=means_dict, \n",
    "    name='mobility_change', \n",
    "    out_dir=out_dir\n",
    ")"
   ]
  },
  {
   "cell_type": "code",
   "execution_count": null,
   "metadata": {},
   "outputs": [],
   "source": []
  }
 ]
}