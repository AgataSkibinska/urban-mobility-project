{
 "cells": [
  {
   "cell_type": "code",
   "execution_count": 2,
   "metadata": {
    "pycharm": {
     "is_executing": false,
     "name": "#%%\n"
    }
   },
   "outputs": [],
   "source": [
    "import pandas as pd\n",
    "import plotly.express as px"
   ]
  },
  {
   "cell_type": "code",
   "execution_count": 3,
   "metadata": {
    "pycharm": {
     "is_executing": false,
     "name": "#%%\n"
    }
   },
   "outputs": [],
   "source": [
    "path = \"KBR_Gadow_2019_bez_hasla.xlsx\""
   ]
  },
  {
   "cell_type": "code",
   "execution_count": 4,
   "metadata": {
    "pycharm": {
     "is_executing": false,
     "name": "#%%\n"
    }
   },
   "outputs": [],
   "source": [
    "df = pd.read_excel(path, index_col=0, header=[0,1])"
   ]
  },
  {
   "cell_type": "code",
   "execution_count": 5,
   "metadata": {
    "pycharm": {
     "is_executing": false,
     "name": "#%%\n"
    }
   },
   "outputs": [],
   "source": [
    "df_house = df.loc[:,['Ilu jest domowników w Twoim miejscu zamieszkania włącznie z Tobą?']]"
   ]
  },
  {
   "cell_type": "code",
   "execution_count": 6,
   "metadata": {
    "pycharm": {
     "is_executing": false,
     "name": "#%%\n"
    }
   },
   "outputs": [
    {
     "name": "stdout",
     "output_type": "stream",
     "text": [
      "<class 'pandas.core.frame.DataFrame'>\n",
      "Index: 427 entries, a5e86f0b-8d67-47b3-a11b-6354d55ea59b to a2c98ece-dec2-4e17-8d67-48cb04748b4f\n",
      "Data columns (total 4 columns):\n",
      " #   Column                                                                                                                                      Non-Null Count  Dtype\n",
      "---  ------                                                                                                                                      --------------  -----\n",
      " 0   (Ilu jest domowników w Twoim miejscu zamieszkania włącznie z Tobą?, Dzieci poniżej 6 roku życia)                                            427 non-null    int64\n",
      " 1   (Ilu jest domowników w Twoim miejscu zamieszkania włącznie z Tobą?, Dzieci w wieku 6-15 lat)                                                427 non-null    int64\n",
      " 2   (Ilu jest domowników w Twoim miejscu zamieszkania włącznie z Tobą?, Dorośli powyżej 15 roku życia wśród członków Twojej rodziny)            427 non-null    int64\n",
      " 3   (Ilu jest domowników w Twoim miejscu zamieszkania włącznie z Tobą?, Dorośli powyżej 15 roku życia wśród wśród niezależnych współlokatorów)  427 non-null    int64\n",
      "dtypes: int64(4)\n",
      "memory usage: 16.7+ KB\n"
     ]
    }
   ],
   "source": [
    "df_house.info()"
   ]
  },
  {
   "cell_type": "code",
   "execution_count": 7,
   "metadata": {
    "pycharm": {
     "is_executing": false,
     "name": "#%%\n"
    }
   },
   "outputs": [
    {
     "data": {
      "text/html": [
       "<div>\n",
       "<style scoped>\n",
       "    .dataframe tbody tr th:only-of-type {\n",
       "        vertical-align: middle;\n",
       "    }\n",
       "\n",
       "    .dataframe tbody tr th {\n",
       "        vertical-align: top;\n",
       "    }\n",
       "\n",
       "    .dataframe thead th {\n",
       "        text-align: right;\n",
       "    }\n",
       "</style>\n",
       "<table border=\"1\" class=\"dataframe\">\n",
       "  <thead>\n",
       "    <tr style=\"text-align: right;\">\n",
       "      <th>ID odpowiedzi</th>\n",
       "      <th>Dzieci poniżej 6 roku życia</th>\n",
       "      <th>Dzieci w wieku 6-15 lat</th>\n",
       "      <th>Dorośli powyżej 15 roku życia wśród członków Twojej rodziny</th>\n",
       "      <th>Dorośli powyżej 15 roku życia wśród wśród niezależnych współlokatorów</th>\n",
       "    </tr>\n",
       "  </thead>\n",
       "  <tbody>\n",
       "    <tr>\n",
       "      <th>a5e86f0b-8d67-47b3-a11b-6354d55ea59b</th>\n",
       "      <td>0</td>\n",
       "      <td>0</td>\n",
       "      <td>0</td>\n",
       "      <td>3</td>\n",
       "    </tr>\n",
       "    <tr>\n",
       "      <th>25cf0a84-82b9-4f17-ad17-392bfa680f79</th>\n",
       "      <td>0</td>\n",
       "      <td>0</td>\n",
       "      <td>0</td>\n",
       "      <td>2</td>\n",
       "    </tr>\n",
       "    <tr>\n",
       "      <th>417f9428-6782-4206-9b5a-abad64a6f6d0</th>\n",
       "      <td>0</td>\n",
       "      <td>0</td>\n",
       "      <td>2</td>\n",
       "      <td>0</td>\n",
       "    </tr>\n",
       "    <tr>\n",
       "      <th>f18069b2-954d-48ae-bbc0-8e7277c25f24</th>\n",
       "      <td>0</td>\n",
       "      <td>1</td>\n",
       "      <td>3</td>\n",
       "      <td>0</td>\n",
       "    </tr>\n",
       "    <tr>\n",
       "      <th>bf383a4f-6336-4a36-8600-77529691cd65</th>\n",
       "      <td>0</td>\n",
       "      <td>0</td>\n",
       "      <td>2</td>\n",
       "      <td>0</td>\n",
       "    </tr>\n",
       "    <tr>\n",
       "      <th>...</th>\n",
       "      <td>...</td>\n",
       "      <td>...</td>\n",
       "      <td>...</td>\n",
       "      <td>...</td>\n",
       "    </tr>\n",
       "    <tr>\n",
       "      <th>40a39b94-ac1a-47fd-83d5-2cb45ff9e498</th>\n",
       "      <td>0</td>\n",
       "      <td>0</td>\n",
       "      <td>2</td>\n",
       "      <td>0</td>\n",
       "    </tr>\n",
       "    <tr>\n",
       "      <th>b73ed632-18aa-4213-87dc-0e076bc65924</th>\n",
       "      <td>0</td>\n",
       "      <td>0</td>\n",
       "      <td>1</td>\n",
       "      <td>0</td>\n",
       "    </tr>\n",
       "    <tr>\n",
       "      <th>399829a8-be82-43ad-ac90-f2d3e2e3c1f8</th>\n",
       "      <td>0</td>\n",
       "      <td>0</td>\n",
       "      <td>1</td>\n",
       "      <td>0</td>\n",
       "    </tr>\n",
       "    <tr>\n",
       "      <th>c3621b18-88ec-4e5c-bc3b-e29fefb75d39</th>\n",
       "      <td>0</td>\n",
       "      <td>0</td>\n",
       "      <td>1</td>\n",
       "      <td>0</td>\n",
       "    </tr>\n",
       "    <tr>\n",
       "      <th>a2c98ece-dec2-4e17-8d67-48cb04748b4f</th>\n",
       "      <td>0</td>\n",
       "      <td>0</td>\n",
       "      <td>3</td>\n",
       "      <td>0</td>\n",
       "    </tr>\n",
       "  </tbody>\n",
       "</table>\n",
       "<p>427 rows × 4 columns</p>\n",
       "</div>"
      ],
      "text/plain": [
       "ID odpowiedzi                         Dzieci poniżej 6 roku życia  \\\n",
       "a5e86f0b-8d67-47b3-a11b-6354d55ea59b                            0   \n",
       "25cf0a84-82b9-4f17-ad17-392bfa680f79                            0   \n",
       "417f9428-6782-4206-9b5a-abad64a6f6d0                            0   \n",
       "f18069b2-954d-48ae-bbc0-8e7277c25f24                            0   \n",
       "bf383a4f-6336-4a36-8600-77529691cd65                            0   \n",
       "...                                                           ...   \n",
       "40a39b94-ac1a-47fd-83d5-2cb45ff9e498                            0   \n",
       "b73ed632-18aa-4213-87dc-0e076bc65924                            0   \n",
       "399829a8-be82-43ad-ac90-f2d3e2e3c1f8                            0   \n",
       "c3621b18-88ec-4e5c-bc3b-e29fefb75d39                            0   \n",
       "a2c98ece-dec2-4e17-8d67-48cb04748b4f                            0   \n",
       "\n",
       "ID odpowiedzi                         Dzieci w wieku 6-15 lat  \\\n",
       "a5e86f0b-8d67-47b3-a11b-6354d55ea59b                        0   \n",
       "25cf0a84-82b9-4f17-ad17-392bfa680f79                        0   \n",
       "417f9428-6782-4206-9b5a-abad64a6f6d0                        0   \n",
       "f18069b2-954d-48ae-bbc0-8e7277c25f24                        1   \n",
       "bf383a4f-6336-4a36-8600-77529691cd65                        0   \n",
       "...                                                       ...   \n",
       "40a39b94-ac1a-47fd-83d5-2cb45ff9e498                        0   \n",
       "b73ed632-18aa-4213-87dc-0e076bc65924                        0   \n",
       "399829a8-be82-43ad-ac90-f2d3e2e3c1f8                        0   \n",
       "c3621b18-88ec-4e5c-bc3b-e29fefb75d39                        0   \n",
       "a2c98ece-dec2-4e17-8d67-48cb04748b4f                        0   \n",
       "\n",
       "ID odpowiedzi                         Dorośli powyżej 15 roku życia wśród członków Twojej rodziny  \\\n",
       "a5e86f0b-8d67-47b3-a11b-6354d55ea59b                                                  0             \n",
       "25cf0a84-82b9-4f17-ad17-392bfa680f79                                                  0             \n",
       "417f9428-6782-4206-9b5a-abad64a6f6d0                                                  2             \n",
       "f18069b2-954d-48ae-bbc0-8e7277c25f24                                                  3             \n",
       "bf383a4f-6336-4a36-8600-77529691cd65                                                  2             \n",
       "...                                                                                 ...             \n",
       "40a39b94-ac1a-47fd-83d5-2cb45ff9e498                                                  2             \n",
       "b73ed632-18aa-4213-87dc-0e076bc65924                                                  1             \n",
       "399829a8-be82-43ad-ac90-f2d3e2e3c1f8                                                  1             \n",
       "c3621b18-88ec-4e5c-bc3b-e29fefb75d39                                                  1             \n",
       "a2c98ece-dec2-4e17-8d67-48cb04748b4f                                                  3             \n",
       "\n",
       "ID odpowiedzi                         Dorośli powyżej 15 roku życia wśród wśród niezależnych współlokatorów  \n",
       "a5e86f0b-8d67-47b3-a11b-6354d55ea59b                                                  3                      \n",
       "25cf0a84-82b9-4f17-ad17-392bfa680f79                                                  2                      \n",
       "417f9428-6782-4206-9b5a-abad64a6f6d0                                                  0                      \n",
       "f18069b2-954d-48ae-bbc0-8e7277c25f24                                                  0                      \n",
       "bf383a4f-6336-4a36-8600-77529691cd65                                                  0                      \n",
       "...                                                                                 ...                      \n",
       "40a39b94-ac1a-47fd-83d5-2cb45ff9e498                                                  0                      \n",
       "b73ed632-18aa-4213-87dc-0e076bc65924                                                  0                      \n",
       "399829a8-be82-43ad-ac90-f2d3e2e3c1f8                                                  0                      \n",
       "c3621b18-88ec-4e5c-bc3b-e29fefb75d39                                                  0                      \n",
       "a2c98ece-dec2-4e17-8d67-48cb04748b4f                                                  0                      \n",
       "\n",
       "[427 rows x 4 columns]"
      ]
     },
     "execution_count": 7,
     "metadata": {},
     "output_type": "execute_result"
    }
   ],
   "source": [
    "df_house.columns = df_house.columns.droplevel(0)\n",
    "df_house"
   ]
  },
  {
   "cell_type": "code",
   "execution_count": 11,
   "metadata": {
    "pycharm": {
     "name": "#%%\n",
     "is_executing": false
    }
   },
   "outputs": [],
   "source": [
    "#  pd.crosstab(df_house['Dzieci poniżej 6 roku życia'], df_house['Dzieci w wieku 6-15 lat'], df_house['Dorośli powyżej 15 roku życia wśród członków Twojej rodziny'])\n",
    "# "
   ]
  },
  {
   "cell_type": "code",
   "execution_count": null,
   "outputs": [],
   "source": [
    "# px.imshow(df_jobcorr)\n",
    "\n"
   ],
   "metadata": {
    "collapsed": false,
    "pycharm": {
     "name": "#%%\n"
    }
   }
  },
  {
   "cell_type": "code",
   "execution_count": null,
   "outputs": [],
   "source": [],
   "metadata": {
    "collapsed": false,
    "pycharm": {
     "name": "#%%\n"
    }
   }
  },
  {
   "cell_type": "code",
   "execution_count": null,
   "metadata": {},
   "outputs": [],
   "source": []
  }
 ],
 "metadata": {
  "kernelspec": {
   "display_name": "Python 3",
   "language": "python",
   "name": "python3"
  },
  "language_info": {
   "codemirror_mode": {
    "name": "ipython",
    "version": 3
   },
   "file_extension": ".py",
   "mimetype": "text/x-python",
   "name": "python",
   "nbconvert_exporter": "python",
   "pygments_lexer": "ipython3",
   "version": "3.6.8"
  },
  "pycharm": {
   "stem_cell": {
    "cell_type": "raw",
    "source": [],
    "metadata": {
     "collapsed": false
    }
   }
  }
 },
 "nbformat": 4,
 "nbformat_minor": 1
}