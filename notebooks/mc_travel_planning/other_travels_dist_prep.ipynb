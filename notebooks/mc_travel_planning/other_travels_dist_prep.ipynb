{
 "metadata": {
  "language_info": {
   "codemirror_mode": {
    "name": "ipython",
    "version": 3
   },
   "file_extension": ".py",
   "mimetype": "text/x-python",
   "name": "python",
   "nbconvert_exporter": "python",
   "pygments_lexer": "ipython3",
   "version": "3.8.2"
  },
  "orig_nbformat": 2,
  "kernelspec": {
   "name": "python382jvsc74a57bd0949029d92ec5e65609893ae6417d70f6e4b61e42c3828da5fd372a1d70154353",
   "display_name": "Python 3.8.2 64-bit ('mobility_venv': venv)"
  }
 },
 "nbformat": 4,
 "nbformat_minor": 2,
 "cells": [
  {
   "cell_type": "code",
   "execution_count": 1,
   "metadata": {},
   "outputs": [
    {
     "output_type": "execute_result",
     "data": {
      "text/plain": [
       "'mobility_venv'"
      ]
     },
     "metadata": {},
     "execution_count": 1
    }
   ],
   "source": [
    "import sys\n",
    "\n",
    "sys.executable.split('/')[-3]"
   ]
  },
  {
   "cell_type": "code",
   "execution_count": 2,
   "metadata": {},
   "outputs": [],
   "source": [
    "import datetime\n",
    "import json\n",
    "import os\n",
    "import warnings\n",
    "\n",
    "import numpy as np\n",
    "import pandas as pd\n",
    "from tqdm import tqdm\n",
    "\n",
    "warnings.filterwarnings('ignore')\n",
    "tqdm.pandas()\n",
    "pd.options.display.max_columns = None"
   ]
  },
  {
   "source": [
    "## Load data"
   ],
   "cell_type": "markdown",
   "metadata": {}
  },
  {
   "cell_type": "code",
   "execution_count": 3,
   "metadata": {},
   "outputs": [],
   "source": [
    "def save_object(obj, name, out_dir='out'):\n",
    "    file_name = name if name.endswith('.json') else (name + '.json')\n",
    "    file_path = os.path.join(out_dir, file_name)\n",
    "    with open(file_path, 'w') as f:\n",
    "        json.dump(obj, f)\n",
    "\n",
    "def load_object(name, in_dir='out'):\n",
    "    file_name = name if name.endswith('.json') else (name + '.json')\n",
    "    file_path = os.path.join(in_dir, file_name)\n",
    "    with open(file_path, 'r') as f:\n",
    "        return json.load(f)"
   ]
  },
  {
   "cell_type": "code",
   "execution_count": 4,
   "metadata": {},
   "outputs": [],
   "source": [
    "data_dir = '../../data/processed/mc/travel_planning/other_travels_split'\n",
    "others_dist_file = 'others_dist_2019.json'\n",
    "\n",
    "others_dist = load_object(name=others_dist_file, in_dir=data_dir)\n",
    "\n",
    "# ---\n",
    "data_dir = '../../data/processed/mc/travel_planning'\n",
    "dest_type_file = 'dest_type_dist.json'\n",
    "\n",
    "dest_type = load_object(name=dest_type_file, in_dir=data_dir)"
   ]
  },
  {
   "cell_type": "code",
   "execution_count": 6,
   "metadata": {},
   "outputs": [
    {
     "output_type": "execute_result",
     "data": {
      "text/plain": [
       "{'adults_entertainment': 0.022895324258243158,\n",
       " 'culture_and_entertainment': 0.013298253579917782,\n",
       " 'gastronomy': 0.24017780308644648,\n",
       " 'grocery_shopping': 0.1919794250805611,\n",
       " 'healthcare': 0.053113521102279015,\n",
       " 'leisure_time_schools': 0.004430775078293828,\n",
       " 'official_matters': 0.054796675014766955,\n",
       " 'other': 0.008860610293082695,\n",
       " 'other_shopping': 0.2907082855217977,\n",
       " 'religion': 0.010188303444913368,\n",
       " 'services': 0.10784038612101979,\n",
       " 'sport': 0.001710637418678041}"
      ]
     },
     "metadata": {},
     "execution_count": 6
    }
   ],
   "source": [
    "others_dist"
   ]
  },
  {
   "cell_type": "code",
   "execution_count": 8,
   "metadata": {},
   "outputs": [
    {
     "output_type": "execute_result",
     "data": {
      "text/plain": [
       "0.9999999999999999"
      ]
     },
     "metadata": {},
     "execution_count": 8
    }
   ],
   "source": [
    "sum(others_dist.values())"
   ]
  },
  {
   "cell_type": "code",
   "execution_count": 11,
   "metadata": {},
   "outputs": [],
   "source": [
    "others_dist_2 = others_dist.copy()\n",
    "\n",
    "keys_to_delete = [key for key in others_dist_2.keys() if key.startswith('adults')]\n",
    "for key_to_delete in keys_to_delete:\n",
    "    del others_dist_2[key_to_delete]\n",
    "\n",
    "probs_sum = sum(others_dist_2.values())\n",
    "for other_type, prob in others_dist_2.items():\n",
    "    others_dist_2[other_type] = prob / probs_sum\n",
    "\n",
    "other_travels_dist = {}\n",
    "for age_sex in dest_type.keys():\n",
    "    if age_sex.startswith('6-15'):\n",
    "        other_travels_dist[age_sex] = others_dist_2\n",
    "    else:\n",
    "        other_travels_dist[age_sex] = others_dist"
   ]
  },
  {
   "cell_type": "code",
   "execution_count": 14,
   "metadata": {},
   "outputs": [
    {
     "output_type": "execute_result",
     "data": {
      "text/plain": [
       "[0.9999999999999999,\n",
       " 0.9999999999999999,\n",
       " 0.9999999999999999,\n",
       " 0.9999999999999999,\n",
       " 0.9999999999999999,\n",
       " 0.9999999999999999,\n",
       " 0.9999999999999999,\n",
       " 0.9999999999999999,\n",
       " 1.0,\n",
       " 1.0,\n",
       " 0.9999999999999999,\n",
       " 0.9999999999999999]"
      ]
     },
     "metadata": {},
     "execution_count": 14
    }
   ],
   "source": [
    "[sum(other_travels_dist[age_sex].values()) for age_sex in other_travels_dist.keys()]"
   ]
  },
  {
   "cell_type": "code",
   "execution_count": 15,
   "metadata": {},
   "outputs": [],
   "source": [
    "out_dir = '../../data/processed/mc/travel_planning/other_travels_split'\n",
    "\n",
    "if not os.path.exists(out_dir):\n",
    "    os.makedirs(out_dir)"
   ]
  },
  {
   "cell_type": "code",
   "execution_count": 16,
   "metadata": {},
   "outputs": [],
   "source": [
    "save_object(\n",
    "    obj=other_travels_dist, \n",
    "    name='other_travels_dist', \n",
    "    out_dir=out_dir\n",
    ")"
   ]
  },
  {
   "cell_type": "code",
   "execution_count": null,
   "metadata": {},
   "outputs": [],
   "source": []
  }
 ]
}