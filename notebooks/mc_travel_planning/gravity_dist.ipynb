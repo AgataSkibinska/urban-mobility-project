{
 "metadata": {
  "language_info": {
   "codemirror_mode": {
    "name": "ipython",
    "version": 3
   },
   "file_extension": ".py",
   "mimetype": "text/x-python",
   "name": "python",
   "nbconvert_exporter": "python",
   "pygments_lexer": "ipython3",
   "version": "3.8.2"
  },
  "orig_nbformat": 2,
  "kernelspec": {
   "name": "python382jvsc74a57bd0949029d92ec5e65609893ae6417d70f6e4b61e42c3828da5fd372a1d70154353",
   "display_name": "Python 3.8.2 64-bit ('mobility_venv': venv)"
  }
 },
 "nbformat": 4,
 "nbformat_minor": 2,
 "cells": [
  {
   "cell_type": "code",
   "execution_count": 1,
   "metadata": {},
   "outputs": [
    {
     "output_type": "execute_result",
     "data": {
      "text/plain": [
       "'mobility_venv'"
      ]
     },
     "metadata": {},
     "execution_count": 1
    }
   ],
   "source": [
    "import sys\n",
    "\n",
    "sys.executable.split('/')[-3]"
   ]
  },
  {
   "cell_type": "code",
   "execution_count": 2,
   "metadata": {},
   "outputs": [],
   "source": [
    "import datetime\n",
    "import json\n",
    "import os\n",
    "import warnings\n",
    "\n",
    "import numpy as np\n",
    "import pandas as pd\n",
    "from tqdm import tqdm\n",
    "\n",
    "warnings.filterwarnings('ignore')\n",
    "tqdm.pandas()\n",
    "pd.options.display.max_columns = None"
   ]
  },
  {
   "source": [
    "## Load data"
   ],
   "cell_type": "markdown",
   "metadata": {}
  },
  {
   "cell_type": "code",
   "execution_count": 3,
   "metadata": {},
   "outputs": [],
   "source": [
    "def save_object(obj, name, out_dir='out'):\n",
    "    file_name = name if name.endswith('.json') else (name + '.json')\n",
    "    file_path = os.path.join(out_dir, file_name)\n",
    "    with open(file_path, 'w') as f:\n",
    "        json.dump(obj, f)\n",
    "\n",
    "def load_object(name, in_dir='out'):\n",
    "    file_name = name if name.endswith('.json') else (name + '.json')\n",
    "    file_path = os.path.join(in_dir, file_name)\n",
    "    with open(file_path, 'r') as f:\n",
    "        return json.load(f)"
   ]
  },
  {
   "cell_type": "code",
   "execution_count": 18,
   "metadata": {},
   "outputs": [],
   "source": [
    "# OSM facilities\n",
    "data_dir = '../../data/external/osm'\n",
    "facilities_file = 'facilities.csv'\n",
    "\n",
    "facilities_df = pd.read_csv(os.path.join(data_dir, facilities_file))\n",
    "\n",
    "# KBR regions\n",
    "data_dir = '../../data/interim'\n",
    "regions_file = 'regions_info.csv'\n",
    "\n",
    "regions_df = pd.read_csv(os.path.join(data_dir, regions_file), index_col=0)\n",
    "\n",
    "# tags to 'other' subcategories map\n",
    "data_dir = '../../data/processed/mc/travel_planning/other_travels_split'\n",
    "tags_map_file = 'tags.json'\n",
    "\n",
    "tags_map = load_object(name=tags_map_file, in_dir=data_dir)\n",
    "other_travels_map = tags_map['other']\n",
    "\n",
    "# gravity distribution\n",
    "data_dir = '../../data/processed/mc/travel_planning/old'\n",
    "gravity_file = 'gravity_dist.json'\n",
    "\n",
    "gravity_dist = load_object(name=gravity_file, in_dir=data_dir)"
   ]
  },
  {
   "cell_type": "code",
   "execution_count": 20,
   "metadata": {},
   "outputs": [
    {
     "output_type": "execute_result",
     "data": {
      "text/plain": [
       "               id category          tag        name  region_id             x  \\\n",
       "0  shop_265644030     shop  greengrocer         NaN         48  6.430831e+06   \n",
       "1  shop_265644193     shop  supermarket       Rabat         47  6.430721e+06   \n",
       "2  shop_265644198     shop        kiosk         NaN         47  6.430865e+06   \n",
       "3  shop_265644220     shop  convenience  Przystanek         47  6.431049e+06   \n",
       "4  shop_266010556     shop        kiosk         NaN        117  6.429292e+06   \n",
       "\n",
       "              y  \n",
       "0  5.664721e+06  \n",
       "1  5.665215e+06  \n",
       "2  5.665051e+06  \n",
       "3  5.664961e+06  \n",
       "4  5.666063e+06  "
      ],
      "text/html": "<div>\n<style scoped>\n    .dataframe tbody tr th:only-of-type {\n        vertical-align: middle;\n    }\n\n    .dataframe tbody tr th {\n        vertical-align: top;\n    }\n\n    .dataframe thead th {\n        text-align: right;\n    }\n</style>\n<table border=\"1\" class=\"dataframe\">\n  <thead>\n    <tr style=\"text-align: right;\">\n      <th></th>\n      <th>id</th>\n      <th>category</th>\n      <th>tag</th>\n      <th>name</th>\n      <th>region_id</th>\n      <th>x</th>\n      <th>y</th>\n    </tr>\n  </thead>\n  <tbody>\n    <tr>\n      <th>0</th>\n      <td>shop_265644030</td>\n      <td>shop</td>\n      <td>greengrocer</td>\n      <td>NaN</td>\n      <td>48</td>\n      <td>6.430831e+06</td>\n      <td>5.664721e+06</td>\n    </tr>\n    <tr>\n      <th>1</th>\n      <td>shop_265644193</td>\n      <td>shop</td>\n      <td>supermarket</td>\n      <td>Rabat</td>\n      <td>47</td>\n      <td>6.430721e+06</td>\n      <td>5.665215e+06</td>\n    </tr>\n    <tr>\n      <th>2</th>\n      <td>shop_265644198</td>\n      <td>shop</td>\n      <td>kiosk</td>\n      <td>NaN</td>\n      <td>47</td>\n      <td>6.430865e+06</td>\n      <td>5.665051e+06</td>\n    </tr>\n    <tr>\n      <th>3</th>\n      <td>shop_265644220</td>\n      <td>shop</td>\n      <td>convenience</td>\n      <td>Przystanek</td>\n      <td>47</td>\n      <td>6.431049e+06</td>\n      <td>5.664961e+06</td>\n    </tr>\n    <tr>\n      <th>4</th>\n      <td>shop_266010556</td>\n      <td>shop</td>\n      <td>kiosk</td>\n      <td>NaN</td>\n      <td>117</td>\n      <td>6.429292e+06</td>\n      <td>5.666063e+06</td>\n    </tr>\n  </tbody>\n</table>\n</div>"
     },
     "metadata": {},
     "execution_count": 20
    }
   ],
   "source": [
    "facilities_df.head()"
   ]
  },
  {
   "cell_type": "code",
   "execution_count": 21,
   "metadata": {},
   "outputs": [
    {
     "output_type": "execute_result",
     "data": {
      "text/plain": [
       "   Regions Regions_agr       Region_name  Objects_offices  Objects_shops  \\\n",
       "0        1         A10             Rynek           106538          58760   \n",
       "1        2          A9               UWr            12954           4082   \n",
       "2        3          A9      Hala Targowa             9500          12060   \n",
       "3        4         A11  Pl. Dominikański            70156         104991   \n",
       "4        5         A11            Skargi            13656          10927   \n",
       "\n",
       "   Objects_apartments  Objects_industry  Objects_schools  \\\n",
       "0              131606               288                0   \n",
       "1              101166              3824              244   \n",
       "2               62071               271              434   \n",
       "3               64536               188                0   \n",
       "4               60003               286             1785   \n",
       "\n",
       "   Objects_universitites  Poluation_UM  Population_6plus_UM  Population_BD  \\\n",
       "0                      0          1695                 1645           5785   \n",
       "1                   5911          1719                 1657            565   \n",
       "2                   1412          1301                 1253           1348   \n",
       "3                      0           650                  620            704   \n",
       "4                      0          1072                 1034            696   \n",
       "\n",
       "   Population_AUT  Population_MET1  Population_MET2  Jobs_GUS  Jobs_AUT  \\\n",
       "0            1698             2714             2105     10354      6986   \n",
       "1            1710              226              339      4798       609   \n",
       "2            1391              548              713      4751      1139   \n",
       "3             726              269              191      4250       722   \n",
       "4            1067              400              348      5194       965   \n",
       "\n",
       "   Jobs_MET3  Jobs_MET4  \n",
       "0       9875       2262  \n",
       "1       1026        182  \n",
       "2       2349        730  \n",
       "3       1566        217  \n",
       "4       1305        321  "
      ],
      "text/html": "<div>\n<style scoped>\n    .dataframe tbody tr th:only-of-type {\n        vertical-align: middle;\n    }\n\n    .dataframe tbody tr th {\n        vertical-align: top;\n    }\n\n    .dataframe thead th {\n        text-align: right;\n    }\n</style>\n<table border=\"1\" class=\"dataframe\">\n  <thead>\n    <tr style=\"text-align: right;\">\n      <th></th>\n      <th>Regions</th>\n      <th>Regions_agr</th>\n      <th>Region_name</th>\n      <th>Objects_offices</th>\n      <th>Objects_shops</th>\n      <th>Objects_apartments</th>\n      <th>Objects_industry</th>\n      <th>Objects_schools</th>\n      <th>Objects_universitites</th>\n      <th>Poluation_UM</th>\n      <th>Population_6plus_UM</th>\n      <th>Population_BD</th>\n      <th>Population_AUT</th>\n      <th>Population_MET1</th>\n      <th>Population_MET2</th>\n      <th>Jobs_GUS</th>\n      <th>Jobs_AUT</th>\n      <th>Jobs_MET3</th>\n      <th>Jobs_MET4</th>\n    </tr>\n  </thead>\n  <tbody>\n    <tr>\n      <th>0</th>\n      <td>1</td>\n      <td>A10</td>\n      <td>Rynek</td>\n      <td>106538</td>\n      <td>58760</td>\n      <td>131606</td>\n      <td>288</td>\n      <td>0</td>\n      <td>0</td>\n      <td>1695</td>\n      <td>1645</td>\n      <td>5785</td>\n      <td>1698</td>\n      <td>2714</td>\n      <td>2105</td>\n      <td>10354</td>\n      <td>6986</td>\n      <td>9875</td>\n      <td>2262</td>\n    </tr>\n    <tr>\n      <th>1</th>\n      <td>2</td>\n      <td>A9</td>\n      <td>UWr</td>\n      <td>12954</td>\n      <td>4082</td>\n      <td>101166</td>\n      <td>3824</td>\n      <td>244</td>\n      <td>5911</td>\n      <td>1719</td>\n      <td>1657</td>\n      <td>565</td>\n      <td>1710</td>\n      <td>226</td>\n      <td>339</td>\n      <td>4798</td>\n      <td>609</td>\n      <td>1026</td>\n      <td>182</td>\n    </tr>\n    <tr>\n      <th>2</th>\n      <td>3</td>\n      <td>A9</td>\n      <td>Hala Targowa</td>\n      <td>9500</td>\n      <td>12060</td>\n      <td>62071</td>\n      <td>271</td>\n      <td>434</td>\n      <td>1412</td>\n      <td>1301</td>\n      <td>1253</td>\n      <td>1348</td>\n      <td>1391</td>\n      <td>548</td>\n      <td>713</td>\n      <td>4751</td>\n      <td>1139</td>\n      <td>2349</td>\n      <td>730</td>\n    </tr>\n    <tr>\n      <th>3</th>\n      <td>4</td>\n      <td>A11</td>\n      <td>Pl. Dominikański</td>\n      <td>70156</td>\n      <td>104991</td>\n      <td>64536</td>\n      <td>188</td>\n      <td>0</td>\n      <td>0</td>\n      <td>650</td>\n      <td>620</td>\n      <td>704</td>\n      <td>726</td>\n      <td>269</td>\n      <td>191</td>\n      <td>4250</td>\n      <td>722</td>\n      <td>1566</td>\n      <td>217</td>\n    </tr>\n    <tr>\n      <th>4</th>\n      <td>5</td>\n      <td>A11</td>\n      <td>Skargi</td>\n      <td>13656</td>\n      <td>10927</td>\n      <td>60003</td>\n      <td>286</td>\n      <td>1785</td>\n      <td>0</td>\n      <td>1072</td>\n      <td>1034</td>\n      <td>696</td>\n      <td>1067</td>\n      <td>400</td>\n      <td>348</td>\n      <td>5194</td>\n      <td>965</td>\n      <td>1305</td>\n      <td>321</td>\n    </tr>\n  </tbody>\n</table>\n</div>"
     },
     "metadata": {},
     "execution_count": 21
    }
   ],
   "source": [
    "regions_df.head()"
   ]
  },
  {
   "cell_type": "code",
   "execution_count": 17,
   "metadata": {},
   "outputs": [
    {
     "output_type": "execute_result",
     "data": {
      "text/plain": [
       "['gastronomy',\n",
       " 'culture_and_entertainment',\n",
       " 'adults_entertainment',\n",
       " 'sport',\n",
       " 'official_matters',\n",
       " 'other',\n",
       " 'grocery_shopping',\n",
       " 'other_shopping',\n",
       " 'pharmacy',\n",
       " 'healthcare',\n",
       " 'services',\n",
       " 'leisure_time_schools',\n",
       " 'religion']"
      ]
     },
     "metadata": {},
     "execution_count": 17
    }
   ],
   "source": [
    "other_subcats = list(other_travels_map.keys())\n",
    "other_subcats"
   ]
  },
  {
   "cell_type": "code",
   "execution_count": 13,
   "metadata": {},
   "outputs": [
    {
     "output_type": "execute_result",
     "data": {
      "text/plain": [
       "dict_keys(['dom', 'praca', 'szkola', 'uczelnia', 'inne'])"
      ]
     },
     "metadata": {},
     "execution_count": 13
    }
   ],
   "source": [
    "gravity_dist.keys()"
   ]
  },
  {
   "cell_type": "code",
   "execution_count": 26,
   "metadata": {},
   "outputs": [
    {
     "output_type": "execute_result",
     "data": {
      "text/plain": [
       "                      id  category          tag                        name  \\\n",
       "0         shop_265644030      shop  greengrocer                         NaN   \n",
       "1         shop_265644193      shop  supermarket                       Rabat   \n",
       "2         shop_265644198      shop        kiosk                         NaN   \n",
       "3         shop_265644220      shop  convenience                  Przystanek   \n",
       "4         shop_266010556      shop        kiosk                         NaN   \n",
       "...                  ...       ...          ...                         ...   \n",
       "69462  building_12310645  building          yes                         NaN   \n",
       "69463  building_12318163  building   university                         NaN   \n",
       "69464  building_12318164  building          yes                         NaN   \n",
       "69465  building_12318165  building          yes                         NaN   \n",
       "69466  building_12318166  building          yes  Pa?ac Wallenberg-Pachalych   \n",
       "\n",
       "       region_id             x             y  \n",
       "0             48  6.430831e+06  5.664721e+06  \n",
       "1             47  6.430721e+06  5.665215e+06  \n",
       "2             47  6.430865e+06  5.665051e+06  \n",
       "3             47  6.431049e+06  5.664961e+06  \n",
       "4            117  6.429292e+06  5.666063e+06  \n",
       "...          ...           ...           ...  \n",
       "69462          1  6.432195e+06  5.664141e+06  \n",
       "69463        350  6.431931e+06  5.664193e+06  \n",
       "69464        350  6.432000e+06  5.664158e+06  \n",
       "69465        350  6.432011e+06  5.664154e+06  \n",
       "69466        350  6.431971e+06  5.664170e+06  \n",
       "\n",
       "[69467 rows x 7 columns]"
      ],
      "text/html": "<div>\n<style scoped>\n    .dataframe tbody tr th:only-of-type {\n        vertical-align: middle;\n    }\n\n    .dataframe tbody tr th {\n        vertical-align: top;\n    }\n\n    .dataframe thead th {\n        text-align: right;\n    }\n</style>\n<table border=\"1\" class=\"dataframe\">\n  <thead>\n    <tr style=\"text-align: right;\">\n      <th></th>\n      <th>id</th>\n      <th>category</th>\n      <th>tag</th>\n      <th>name</th>\n      <th>region_id</th>\n      <th>x</th>\n      <th>y</th>\n    </tr>\n  </thead>\n  <tbody>\n    <tr>\n      <th>0</th>\n      <td>shop_265644030</td>\n      <td>shop</td>\n      <td>greengrocer</td>\n      <td>NaN</td>\n      <td>48</td>\n      <td>6.430831e+06</td>\n      <td>5.664721e+06</td>\n    </tr>\n    <tr>\n      <th>1</th>\n      <td>shop_265644193</td>\n      <td>shop</td>\n      <td>supermarket</td>\n      <td>Rabat</td>\n      <td>47</td>\n      <td>6.430721e+06</td>\n      <td>5.665215e+06</td>\n    </tr>\n    <tr>\n      <th>2</th>\n      <td>shop_265644198</td>\n      <td>shop</td>\n      <td>kiosk</td>\n      <td>NaN</td>\n      <td>47</td>\n      <td>6.430865e+06</td>\n      <td>5.665051e+06</td>\n    </tr>\n    <tr>\n      <th>3</th>\n      <td>shop_265644220</td>\n      <td>shop</td>\n      <td>convenience</td>\n      <td>Przystanek</td>\n      <td>47</td>\n      <td>6.431049e+06</td>\n      <td>5.664961e+06</td>\n    </tr>\n    <tr>\n      <th>4</th>\n      <td>shop_266010556</td>\n      <td>shop</td>\n      <td>kiosk</td>\n      <td>NaN</td>\n      <td>117</td>\n      <td>6.429292e+06</td>\n      <td>5.666063e+06</td>\n    </tr>\n    <tr>\n      <th>...</th>\n      <td>...</td>\n      <td>...</td>\n      <td>...</td>\n      <td>...</td>\n      <td>...</td>\n      <td>...</td>\n      <td>...</td>\n    </tr>\n    <tr>\n      <th>69462</th>\n      <td>building_12310645</td>\n      <td>building</td>\n      <td>yes</td>\n      <td>NaN</td>\n      <td>1</td>\n      <td>6.432195e+06</td>\n      <td>5.664141e+06</td>\n    </tr>\n    <tr>\n      <th>69463</th>\n      <td>building_12318163</td>\n      <td>building</td>\n      <td>university</td>\n      <td>NaN</td>\n      <td>350</td>\n      <td>6.431931e+06</td>\n      <td>5.664193e+06</td>\n    </tr>\n    <tr>\n      <th>69464</th>\n      <td>building_12318164</td>\n      <td>building</td>\n      <td>yes</td>\n      <td>NaN</td>\n      <td>350</td>\n      <td>6.432000e+06</td>\n      <td>5.664158e+06</td>\n    </tr>\n    <tr>\n      <th>69465</th>\n      <td>building_12318165</td>\n      <td>building</td>\n      <td>yes</td>\n      <td>NaN</td>\n      <td>350</td>\n      <td>6.432011e+06</td>\n      <td>5.664154e+06</td>\n    </tr>\n    <tr>\n      <th>69466</th>\n      <td>building_12318166</td>\n      <td>building</td>\n      <td>yes</td>\n      <td>Pa?ac Wallenberg-Pachalych</td>\n      <td>350</td>\n      <td>6.431971e+06</td>\n      <td>5.664170e+06</td>\n    </tr>\n  </tbody>\n</table>\n<p>69467 rows × 7 columns</p>\n</div>"
     },
     "metadata": {},
     "execution_count": 26
    }
   ],
   "source": [
    "def add_other_subcat(tag):\n",
    "    for other_subcat, tags in \n",
    "\n",
    "facilities_df['other_subcat'] = facilities_df['tag'].apply(add_other_subcat)"
   ]
  },
  {
   "cell_type": "code",
   "execution_count": 25,
   "metadata": {},
   "outputs": [
    {
     "output_type": "error",
     "ename": "SyntaxError",
     "evalue": "Generator expression must be parenthesized (<ipython-input-25-5bc2fb7ca603>, line 11)",
     "traceback": [
      "\u001b[0;36m  File \u001b[0;32m\"<ipython-input-25-5bc2fb7ca603>\"\u001b[0;36m, line \u001b[0;32m11\u001b[0m\n\u001b[0;31m    lambda row: other_subcat for other_subcat, tags in other_travels_map.items() if row['tag'] in tags,\u001b[0m\n\u001b[0m    ^\u001b[0m\n\u001b[0;31mSyntaxError\u001b[0m\u001b[0;31m:\u001b[0m Generator expression must be parenthesized\n"
     ]
    }
   ],
   "source": [
    "def add_other_subcat(row):\n",
    "    subcat = np.NaN\n",
    "    for other_subcat, tags in other_travels_map.items():\n",
    "        if row['tag'] in tags:\n",
    "            subcat = other_subcat\n",
    "    \n",
    "    return subcat\n",
    "\n",
    "\n",
    "facilities_df['other_subcat'] = facilities_df.apply(\n",
    "    lambda row: other_subcat for other_subcat, tags in other_travels_map.items() if row['tag'] in tags,\n",
    "    axis=1\n",
    ")"
   ]
  },
  {
   "cell_type": "code",
   "execution_count": null,
   "metadata": {},
   "outputs": [],
   "source": [
    "\n",
    "for other_subcat, tags in other_travels_map.items():\n",
    "    facilities_df['']update(df.name.isin(names) * key) # True * 1000 = 1000"
   ]
  },
  {
   "cell_type": "code",
   "execution_count": null,
   "metadata": {},
   "outputs": [],
   "source": [
    "data_dir = '../../data/processed/mc/travel_planning/other_travels_split'\n",
    "others_dist_file = 'others_dist_2019.json'\n",
    "\n",
    "others_dist = load_object(name=others_dist_file, in_dir=data_dir)\n",
    "\n",
    "# ---\n",
    "data_dir = '../../data/processed/mc/travel_planning'\n",
    "dest_type_file = 'dest_type_dist.json'\n",
    "\n",
    "dest_type = load_object(name=dest_type_file, in_dir=data_dir)"
   ]
  }
 ]
}