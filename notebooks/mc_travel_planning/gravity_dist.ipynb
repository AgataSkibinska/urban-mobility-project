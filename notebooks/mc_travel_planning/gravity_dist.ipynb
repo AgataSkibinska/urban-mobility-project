{
 "metadata": {
  "language_info": {
   "codemirror_mode": {
    "name": "ipython",
    "version": 3
   },
   "file_extension": ".py",
   "mimetype": "text/x-python",
   "name": "python",
   "nbconvert_exporter": "python",
   "pygments_lexer": "ipython3",
   "version": "3.8.2"
  },
  "orig_nbformat": 2,
  "kernelspec": {
   "name": "python382jvsc74a57bd0949029d92ec5e65609893ae6417d70f6e4b61e42c3828da5fd372a1d70154353",
   "display_name": "Python 3.8.2 64-bit ('mobility_venv': venv)"
  }
 },
 "nbformat": 4,
 "nbformat_minor": 2,
 "cells": [
  {
   "cell_type": "code",
   "execution_count": 1,
   "metadata": {},
   "outputs": [
    {
     "output_type": "execute_result",
     "data": {
      "text/plain": [
       "'mobility_venv'"
      ]
     },
     "metadata": {},
     "execution_count": 1
    }
   ],
   "source": [
    "import sys\n",
    "\n",
    "sys.executable.split('/')[-3]"
   ]
  },
  {
   "cell_type": "code",
   "execution_count": 2,
   "metadata": {},
   "outputs": [],
   "source": [
    "import datetime\n",
    "import json\n",
    "import os\n",
    "import warnings\n",
    "\n",
    "import numpy as np\n",
    "import pandas as pd\n",
    "from tqdm import tqdm\n",
    "\n",
    "warnings.filterwarnings('ignore')\n",
    "tqdm.pandas()\n",
    "pd.options.display.max_columns = None"
   ]
  },
  {
   "source": [
    "## Load data"
   ],
   "cell_type": "markdown",
   "metadata": {}
  },
  {
   "cell_type": "code",
   "execution_count": 3,
   "metadata": {},
   "outputs": [],
   "source": [
    "def save_object(obj, name, out_dir='out'):\n",
    "    file_name = name if name.endswith('.json') else (name + '.json')\n",
    "    file_path = os.path.join(out_dir, file_name)\n",
    "    with open(file_path, 'w') as f:\n",
    "        json.dump(obj, f)\n",
    "\n",
    "def load_object(name, in_dir='out'):\n",
    "    file_name = name if name.endswith('.json') else (name + '.json')\n",
    "    file_path = os.path.join(in_dir, file_name)\n",
    "    with open(file_path, 'r') as f:\n",
    "        return json.load(f)"
   ]
  },
  {
   "cell_type": "code",
   "execution_count": 4,
   "metadata": {},
   "outputs": [],
   "source": [
    "# OSM facilities\n",
    "data_dir = '../../data/external/osm'\n",
    "facilities_file = 'facilities.csv'\n",
    "\n",
    "facilities_df = pd.read_csv(os.path.join(data_dir, facilities_file))\n",
    "\n",
    "# KBR regions\n",
    "data_dir = '../../data/interim'\n",
    "regions_file = 'regions_info.csv'\n",
    "\n",
    "regions_df = pd.read_csv(os.path.join(data_dir, regions_file), index_col=0)\n",
    "\n",
    "# tags to 'other' subcategories map\n",
    "data_dir = '../../data/processed/mc/travel_planning/other_travels_split'\n",
    "tags_map_file = 'tags.json'\n",
    "\n",
    "tags_map = load_object(name=tags_map_file, in_dir=data_dir)\n",
    "other_travels_map = tags_map['other']\n",
    "\n",
    "# gravity distribution\n",
    "data_dir = '../../data/processed/mc/travel_planning/old'\n",
    "gravity_file = 'gravity_dist.json'\n",
    "\n",
    "gravity_dist = load_object(name=gravity_file, in_dir=data_dir)\n",
    "\n",
    "# distance between regions\n",
    "data_dir = '../../data/processed/kr'\n",
    "distance_between_regions_file = 'distance_between_regions.json'\n",
    "distance_between_regions = load_object(name=distance_between_regions_file, in_dir=data_dir)"
   ]
  },
  {
   "source": [
    "### Facilities dataframe"
   ],
   "cell_type": "markdown",
   "metadata": {}
  },
  {
   "cell_type": "code",
   "execution_count": 5,
   "metadata": {},
   "outputs": [
    {
     "output_type": "stream",
     "name": "stdout",
     "text": [
      "<class 'pandas.core.frame.DataFrame'>\nRangeIndex: 69467 entries, 0 to 69466\nData columns (total 7 columns):\n #   Column     Non-Null Count  Dtype  \n---  ------     --------------  -----  \n 0   id         69467 non-null  object \n 1   category   69467 non-null  object \n 2   tag        69467 non-null  object \n 3   name       7131 non-null   object \n 4   region_id  69467 non-null  int64  \n 5   x          69467 non-null  float64\n 6   y          69467 non-null  float64\ndtypes: float64(2), int64(1), object(4)\nmemory usage: 3.7+ MB\nNone\n"
     ]
    },
    {
     "output_type": "execute_result",
     "data": {
      "text/plain": [
       "               id category          tag        name  region_id             x  \\\n",
       "0  shop_265644030     shop  greengrocer         NaN         48  6.430831e+06   \n",
       "1  shop_265644193     shop  supermarket       Rabat         47  6.430721e+06   \n",
       "2  shop_265644198     shop        kiosk         NaN         47  6.430865e+06   \n",
       "3  shop_265644220     shop  convenience  Przystanek         47  6.431049e+06   \n",
       "4  shop_266010556     shop        kiosk         NaN        117  6.429292e+06   \n",
       "\n",
       "              y  \n",
       "0  5.664721e+06  \n",
       "1  5.665215e+06  \n",
       "2  5.665051e+06  \n",
       "3  5.664961e+06  \n",
       "4  5.666063e+06  "
      ],
      "text/html": "<div>\n<style scoped>\n    .dataframe tbody tr th:only-of-type {\n        vertical-align: middle;\n    }\n\n    .dataframe tbody tr th {\n        vertical-align: top;\n    }\n\n    .dataframe thead th {\n        text-align: right;\n    }\n</style>\n<table border=\"1\" class=\"dataframe\">\n  <thead>\n    <tr style=\"text-align: right;\">\n      <th></th>\n      <th>id</th>\n      <th>category</th>\n      <th>tag</th>\n      <th>name</th>\n      <th>region_id</th>\n      <th>x</th>\n      <th>y</th>\n    </tr>\n  </thead>\n  <tbody>\n    <tr>\n      <th>0</th>\n      <td>shop_265644030</td>\n      <td>shop</td>\n      <td>greengrocer</td>\n      <td>NaN</td>\n      <td>48</td>\n      <td>6.430831e+06</td>\n      <td>5.664721e+06</td>\n    </tr>\n    <tr>\n      <th>1</th>\n      <td>shop_265644193</td>\n      <td>shop</td>\n      <td>supermarket</td>\n      <td>Rabat</td>\n      <td>47</td>\n      <td>6.430721e+06</td>\n      <td>5.665215e+06</td>\n    </tr>\n    <tr>\n      <th>2</th>\n      <td>shop_265644198</td>\n      <td>shop</td>\n      <td>kiosk</td>\n      <td>NaN</td>\n      <td>47</td>\n      <td>6.430865e+06</td>\n      <td>5.665051e+06</td>\n    </tr>\n    <tr>\n      <th>3</th>\n      <td>shop_265644220</td>\n      <td>shop</td>\n      <td>convenience</td>\n      <td>Przystanek</td>\n      <td>47</td>\n      <td>6.431049e+06</td>\n      <td>5.664961e+06</td>\n    </tr>\n    <tr>\n      <th>4</th>\n      <td>shop_266010556</td>\n      <td>shop</td>\n      <td>kiosk</td>\n      <td>NaN</td>\n      <td>117</td>\n      <td>6.429292e+06</td>\n      <td>5.666063e+06</td>\n    </tr>\n  </tbody>\n</table>\n</div>"
     },
     "metadata": {},
     "execution_count": 5
    }
   ],
   "source": [
    "print(facilities_df.info())\n",
    "facilities_df.head()"
   ]
  },
  {
   "cell_type": "code",
   "execution_count": 6,
   "metadata": {},
   "outputs": [
    {
     "output_type": "execute_result",
     "data": {
      "text/plain": [
       "array(['greengrocer', 'supermarket', 'kiosk', 'convenience', 'computer',\n",
       "       'furniture', 'gift', 'alcohol', 'books', 'pet', 'outdoor', 'shoes',\n",
       "       'electronics', 'hairdresser', 'bicycle', 'optician', 'bakery',\n",
       "       'copyshop', 'clothes', 'money_lender', 'car', 'florist', 'pastry',\n",
       "       'toys', 'beauty', 'garden_centre', 'car_repair', 'chemist',\n",
       "       'musical_instrument', 'doityourself', 'curtain', 'tyres',\n",
       "       'bookmaker', 'trade', 'car_parts', 'lighting', 'hardware',\n",
       "       'jewelry', 'hearing_aids', 'butcher', 'paint', 'variety_store',\n",
       "       'health_food', 'newsagent', 'pawnbroker', 'stationery',\n",
       "       'bathroom_furnishing', 'travel_agency', 'sports', 'motorcycle',\n",
       "       'radiotechnics', 'seafood', 'photo', 'games', 'houseware',\n",
       "       'herbalist', 'perfumery', 'photo_studio', 'nutrition_supplements',\n",
       "       'deli', 'funeral_directors', 'appliance', 'fishing',\n",
       "       'mobile_phone', 'model', 'wholesale', 'honey', 'dry_cleaning',\n",
       "       'baby_goods', 'sewing', 'coffee', 'lottery', 'art', 'fabric',\n",
       "       'medical_supply', 'chocolate', 'erotic', 'pet_grooming', 'grocery',\n",
       "       'pawnshop', 'tailor', 'antiques', 'music', 'video_games',\n",
       "       'laundry', 'wool', 'frame', 'e-cigarette', 'leather', 'craft',\n",
       "       'interior_decoration', 'glaziery', 'sewing_tools', 'rental',\n",
       "       'vacuum_cleaner', 'locksmith', 'bag', 'household_linen',\n",
       "       'car_electronics', 'printing', 'tiles', 'caravan', 'cosmetics',\n",
       "       'hifi', 'cannabis', 'wine', 'safety', 'flooring', 'collector',\n",
       "       'outpost', 'spy', 'tattoo', 'watches', 'road_mirrors', 'massage',\n",
       "       'bed', 'devotional_articles', 'spices', 'general', 'hunting',\n",
       "       'video', 'window_blind', 'printer_ink', 'tobacco', 'confectionery',\n",
       "       'tea', 'pottery', 'fireplace', 'kitchen', 'fashion_accessories',\n",
       "       'second_hand', 'anime', 'forest_in_a_jar', 'storage_rental',\n",
       "       'brewing_supplies', 'electrical', 'carpet', 'bedlinen', 'farm',\n",
       "       'cash_register', 'party', 'dairy', 'doors', 'scuba_diving',\n",
       "       'trophy', 'balloon', 'gates', 'boat', 'scooter', 'tool_hire',\n",
       "       'wigs', 'wood', 'weapons', 'eggs', 'fuel', 'post_office',\n",
       "       'fast_food', 'restaurant', 'fountain', 'pub', 'cafe', 'police',\n",
       "       'place_of_worship', 'car_wash', 'library', 'bank', 'ice_cream',\n",
       "       'pharmacy', 'fire_station', 'cinema', 'clinic', 'school',\n",
       "       'theatre', 'veterinary', 'hospital', 'doctors', 'dentist',\n",
       "       'vehicle_inspection', 'bureau_de_change', 'kindergarten',\n",
       "       'arts_centre', 'language_school', 'bar', 'community_centre',\n",
       "       'nightclub', 'payment_centre', 'events_venue', 'marketplace',\n",
       "       'social_facility', 'nursing_home', 'townhall', 'driving_school',\n",
       "       'college', 'boat_rental', 'research_institute', 'casino',\n",
       "       'dancing_school', 'bus_station', 'childcare', 'bbq', 'biergarten',\n",
       "       'guitar_lessons', 'music_school', 'music_venue', 'internet_cafe',\n",
       "       'singing_lessons', 'social_centre', 'post_depot', 'grave_yard',\n",
       "       'prison', 'conference_centre', 'animal_shelter',\n",
       "       'education_centre', 'semidetached_house', 'yes', 'residential',\n",
       "       'apartments', 'house', 'detached', 'hotel', 'office', 'warehouse',\n",
       "       'industrial', 'commercial', 'construction', 'government',\n",
       "       'riding_hall', 'train_station', 'service', 'university',\n",
       "       'gymnasium', 'sports_hall', 'allotment_house', 'dormitory',\n",
       "       'public', 'manufacture', 'hostel', 'concert_hall', 'sports_centre',\n",
       "       'stadium'], dtype=object)"
      ]
     },
     "metadata": {},
     "execution_count": 6
    }
   ],
   "source": [
    "facilities_df['tag'].unique()"
   ]
  },
  {
   "source": [
    "### Regions dataframe"
   ],
   "cell_type": "markdown",
   "metadata": {}
  },
  {
   "cell_type": "code",
   "execution_count": 7,
   "metadata": {},
   "outputs": [
    {
     "output_type": "stream",
     "name": "stdout",
     "text": [
      "<class 'pandas.core.frame.DataFrame'>\nInt64Index: 375 entries, 0 to 374\nData columns (total 19 columns):\n #   Column                 Non-Null Count  Dtype \n---  ------                 --------------  ----- \n 0   Regions                375 non-null    int64 \n 1   Regions_agr            375 non-null    object\n 2   Region_name            375 non-null    object\n 3   Objects_offices        375 non-null    int64 \n 4   Objects_shops          375 non-null    int64 \n 5   Objects_apartments     375 non-null    int64 \n 6   Objects_industry       375 non-null    int64 \n 7   Objects_schools        375 non-null    int64 \n 8   Objects_universitites  375 non-null    int64 \n 9   Poluation_UM           375 non-null    int64 \n 10  Population_6plus_UM    375 non-null    int64 \n 11  Population_BD          375 non-null    int64 \n 12  Population_AUT         375 non-null    int64 \n 13  Population_MET1        375 non-null    int64 \n 14  Population_MET2        375 non-null    int64 \n 15  Jobs_GUS               375 non-null    int64 \n 16  Jobs_AUT               375 non-null    int64 \n 17  Jobs_MET3              375 non-null    int64 \n 18  Jobs_MET4              375 non-null    int64 \ndtypes: int64(17), object(2)\nmemory usage: 58.6+ KB\nNone\n"
     ]
    },
    {
     "output_type": "execute_result",
     "data": {
      "text/plain": [
       "   Regions Regions_agr       Region_name  Objects_offices  Objects_shops  \\\n",
       "0        1         A10             Rynek           106538          58760   \n",
       "1        2          A9               UWr            12954           4082   \n",
       "2        3          A9      Hala Targowa             9500          12060   \n",
       "3        4         A11  Pl. Dominikański            70156         104991   \n",
       "4        5         A11            Skargi            13656          10927   \n",
       "\n",
       "   Objects_apartments  Objects_industry  Objects_schools  \\\n",
       "0              131606               288                0   \n",
       "1              101166              3824              244   \n",
       "2               62071               271              434   \n",
       "3               64536               188                0   \n",
       "4               60003               286             1785   \n",
       "\n",
       "   Objects_universitites  Poluation_UM  Population_6plus_UM  Population_BD  \\\n",
       "0                      0          1695                 1645           5785   \n",
       "1                   5911          1719                 1657            565   \n",
       "2                   1412          1301                 1253           1348   \n",
       "3                      0           650                  620            704   \n",
       "4                      0          1072                 1034            696   \n",
       "\n",
       "   Population_AUT  Population_MET1  Population_MET2  Jobs_GUS  Jobs_AUT  \\\n",
       "0            1698             2714             2105     10354      6986   \n",
       "1            1710              226              339      4798       609   \n",
       "2            1391              548              713      4751      1139   \n",
       "3             726              269              191      4250       722   \n",
       "4            1067              400              348      5194       965   \n",
       "\n",
       "   Jobs_MET3  Jobs_MET4  \n",
       "0       9875       2262  \n",
       "1       1026        182  \n",
       "2       2349        730  \n",
       "3       1566        217  \n",
       "4       1305        321  "
      ],
      "text/html": "<div>\n<style scoped>\n    .dataframe tbody tr th:only-of-type {\n        vertical-align: middle;\n    }\n\n    .dataframe tbody tr th {\n        vertical-align: top;\n    }\n\n    .dataframe thead th {\n        text-align: right;\n    }\n</style>\n<table border=\"1\" class=\"dataframe\">\n  <thead>\n    <tr style=\"text-align: right;\">\n      <th></th>\n      <th>Regions</th>\n      <th>Regions_agr</th>\n      <th>Region_name</th>\n      <th>Objects_offices</th>\n      <th>Objects_shops</th>\n      <th>Objects_apartments</th>\n      <th>Objects_industry</th>\n      <th>Objects_schools</th>\n      <th>Objects_universitites</th>\n      <th>Poluation_UM</th>\n      <th>Population_6plus_UM</th>\n      <th>Population_BD</th>\n      <th>Population_AUT</th>\n      <th>Population_MET1</th>\n      <th>Population_MET2</th>\n      <th>Jobs_GUS</th>\n      <th>Jobs_AUT</th>\n      <th>Jobs_MET3</th>\n      <th>Jobs_MET4</th>\n    </tr>\n  </thead>\n  <tbody>\n    <tr>\n      <th>0</th>\n      <td>1</td>\n      <td>A10</td>\n      <td>Rynek</td>\n      <td>106538</td>\n      <td>58760</td>\n      <td>131606</td>\n      <td>288</td>\n      <td>0</td>\n      <td>0</td>\n      <td>1695</td>\n      <td>1645</td>\n      <td>5785</td>\n      <td>1698</td>\n      <td>2714</td>\n      <td>2105</td>\n      <td>10354</td>\n      <td>6986</td>\n      <td>9875</td>\n      <td>2262</td>\n    </tr>\n    <tr>\n      <th>1</th>\n      <td>2</td>\n      <td>A9</td>\n      <td>UWr</td>\n      <td>12954</td>\n      <td>4082</td>\n      <td>101166</td>\n      <td>3824</td>\n      <td>244</td>\n      <td>5911</td>\n      <td>1719</td>\n      <td>1657</td>\n      <td>565</td>\n      <td>1710</td>\n      <td>226</td>\n      <td>339</td>\n      <td>4798</td>\n      <td>609</td>\n      <td>1026</td>\n      <td>182</td>\n    </tr>\n    <tr>\n      <th>2</th>\n      <td>3</td>\n      <td>A9</td>\n      <td>Hala Targowa</td>\n      <td>9500</td>\n      <td>12060</td>\n      <td>62071</td>\n      <td>271</td>\n      <td>434</td>\n      <td>1412</td>\n      <td>1301</td>\n      <td>1253</td>\n      <td>1348</td>\n      <td>1391</td>\n      <td>548</td>\n      <td>713</td>\n      <td>4751</td>\n      <td>1139</td>\n      <td>2349</td>\n      <td>730</td>\n    </tr>\n    <tr>\n      <th>3</th>\n      <td>4</td>\n      <td>A11</td>\n      <td>Pl. Dominikański</td>\n      <td>70156</td>\n      <td>104991</td>\n      <td>64536</td>\n      <td>188</td>\n      <td>0</td>\n      <td>0</td>\n      <td>650</td>\n      <td>620</td>\n      <td>704</td>\n      <td>726</td>\n      <td>269</td>\n      <td>191</td>\n      <td>4250</td>\n      <td>722</td>\n      <td>1566</td>\n      <td>217</td>\n    </tr>\n    <tr>\n      <th>4</th>\n      <td>5</td>\n      <td>A11</td>\n      <td>Skargi</td>\n      <td>13656</td>\n      <td>10927</td>\n      <td>60003</td>\n      <td>286</td>\n      <td>1785</td>\n      <td>0</td>\n      <td>1072</td>\n      <td>1034</td>\n      <td>696</td>\n      <td>1067</td>\n      <td>400</td>\n      <td>348</td>\n      <td>5194</td>\n      <td>965</td>\n      <td>1305</td>\n      <td>321</td>\n    </tr>\n  </tbody>\n</table>\n</div>"
     },
     "metadata": {},
     "execution_count": 7
    }
   ],
   "source": [
    "print(regions_df.info())\n",
    "regions_df.head()"
   ]
  },
  {
   "source": [
    "### Other travels map keys"
   ],
   "cell_type": "markdown",
   "metadata": {}
  },
  {
   "cell_type": "code",
   "execution_count": 8,
   "metadata": {},
   "outputs": [
    {
     "output_type": "execute_result",
     "data": {
      "text/plain": [
       "['gastronomy',\n",
       " 'culture_and_entertainment',\n",
       " 'adults_entertainment',\n",
       " 'sport',\n",
       " 'official_matters',\n",
       " 'other',\n",
       " 'grocery_shopping',\n",
       " 'other_shopping',\n",
       " 'pharmacy',\n",
       " 'healthcare',\n",
       " 'services',\n",
       " 'leisure_time_schools',\n",
       " 'religion']"
      ]
     },
     "metadata": {},
     "execution_count": 8
    }
   ],
   "source": [
    "other_subcats = list(other_travels_map.keys())\n",
    "other_subcats"
   ]
  },
  {
   "source": [
    "### Gravity keys"
   ],
   "cell_type": "markdown",
   "metadata": {}
  },
  {
   "cell_type": "code",
   "execution_count": 9,
   "metadata": {},
   "outputs": [
    {
     "output_type": "execute_result",
     "data": {
      "text/plain": [
       "dict_keys(['dom', 'praca', 'szkola', 'uczelnia', 'inne'])"
      ]
     },
     "metadata": {},
     "execution_count": 9
    }
   ],
   "source": [
    "gravity_dist.keys()"
   ]
  },
  {
   "source": [
    "### Distance between regions keys"
   ],
   "cell_type": "markdown",
   "metadata": {}
  },
  {
   "cell_type": "code",
   "execution_count": 10,
   "metadata": {},
   "outputs": [
    {
     "output_type": "execute_result",
     "data": {
      "text/plain": [
       "dict_keys(['22', '23', '24', '25', '26', '27', '28', '29', '30', '31', '32', '33', '34', '35', '36', '37', '38', '39', '40', '41', '42', '1', '2', '3', '4', '5', '6', '7', '8', '9', '10', '11', '12', '13', '14', '15', '16', '17', '18', '19', '20', '21', '43', '44', '45', '46', '47', '48', '49', '50', '51', '52', '53', '54', '55', '56', '57', '58', '59', '60', '61', '62', '63', '64', '65', '66', '67', '68', '69', '70', '71', '72', '73', '74', '75', '76', '77', '78', '79', '80', '81', '82', '83', '84', '85', '86', '87', '88', '89', '90', '91', '92', '93', '94', '95', '96', '97', '98', '99', '100', '101', '102', '103', '104', '105', '106', '107', '108', '109', '110', '111', '112', '113', '114', '115', '116', '117', '118', '119', '120', '121', '122', '123', '124', '125', '126', '127', '128', '129', '130', '131', '132', '133', '134', '135', '136', '137', '138', '139', '140', '141', '142', '143', '144', '145', '146', '147', '148', '149', '150', '151', '152', '153', '154', '155', '156', '157', '158', '159', '160', '161', '162', '163', '164', '165', '166', '167', '168', '169', '170', '171', '172', '173', '174', '175', '176', '177', '178', '179', '180', '181', '182', '183', '184', '185', '186', '187', '188', '189', '190', '191', '192', '193', '194', '195', '196', '197', '198', '199', '200', '201', '202', '203', '204', '205', '206', '207', '208', '209', '210', '211', '212', '213', '214', '215', '216', '217', '218', '219', '220', '221', '222', '223', '224', '225', '226', '227', '228', '229', '230', '231', '232', '233', '234', '235', '236', '237', '238', '239', '240', '241', '242', '243', '244', '245', '246', '247', '248', '249', '250', '251', '252', '253', '254', '255', '256', '257', '258', '259', '260', '261', '262', '263', '264', '265', '266', '267', '268', '269', '270', '271', '272', '273', '274', '275', '276', '277', '278', '279', '280', '281', '282', '283', '284', '285', '286', '287', '288', '289', '290', '291', '292', '293', '294', '295', '296', '297', '298', '299', '300', '301', '302', '303', '304', '305', '306', '307', '308', '309', '310', '311', '312', '313', '314', '315', '316', '317', '318', '319', '320', '321', '322', '323', '324', '325', '326', '327', '328', '329', '330', '331', '332', '333', '334', '335', '336', '337', '338', '339', '340', '341', '342', '343', '344', '345', '346', '347', '348', '349', '350', '351', '352', '353', '354', '355', '356', '357', '358', '359', '360', '361', '362', '363', '364', '365', '366', '367', '368', '369', '401', '404', '451', '452', '453', '454'])"
      ]
     },
     "metadata": {},
     "execution_count": 10
    }
   ],
   "source": [
    "distance_between_regions.keys()"
   ]
  },
  {
   "source": [
    "### Prepare other subcats to gravity"
   ],
   "cell_type": "markdown",
   "metadata": {}
  },
  {
   "cell_type": "code",
   "execution_count": 11,
   "metadata": {},
   "outputs": [],
   "source": [
    "def add_other_subcat(row):\n",
    "    subcat = np.NaN\n",
    "    for other_subcat, tags in other_travels_map.items():\n",
    "        if row['tag'] in tags:\n",
    "            subcat = other_subcat\n",
    "    return subcat\n",
    "\n",
    "facilities_df['other_subcat'] = facilities_df.apply(add_other_subcat, axis=1)"
   ]
  },
  {
   "cell_type": "code",
   "execution_count": 12,
   "metadata": {},
   "outputs": [
    {
     "output_type": "execute_result",
     "data": {
      "text/plain": [
       "NaN                          62606\n",
       "other_shopping                1852\n",
       "gastronomy                    1401\n",
       "grocery_shopping              1300\n",
       "services                       900\n",
       "healthcare                     316\n",
       "official_matters               302\n",
       "pharmacy                       215\n",
       "adults_entertainment           142\n",
       "other                          132\n",
       "culture_and_entertainment      129\n",
       "religion                       117\n",
       "leisure_time_schools            38\n",
       "sport                           17\n",
       "Name: other_subcat, dtype: int64"
      ]
     },
     "metadata": {},
     "execution_count": 12
    }
   ],
   "source": [
    "facilities_df['other_subcat'].value_counts(dropna=False)"
   ]
  },
  {
   "cell_type": "code",
   "execution_count": 13,
   "metadata": {},
   "outputs": [
    {
     "output_type": "stream",
     "name": "stdout",
     "text": [
      "________________________________________________________________________________\ngastronomy:\n\t['fast_food' 'restaurant' 'cafe' 'ice_cream' 'bar' 'bbq']\n________________________________________________________________________________\nculture_and_entertainment:\n\t['library' 'cinema' 'theatre' 'arts_centre' 'community_centre'\n 'events_venue' 'music_venue' 'riding_hall' 'concert_hall']\n________________________________________________________________________________\nadults_entertainment:\n\t['pub' 'nightclub' 'biergarten']\n________________________________________________________________________________\nsport:\n\t['gymnasium' 'sports_hall' 'sports_centre' 'stadium']\n________________________________________________________________________________\nofficial_matters:\n\t['police' 'bank' 'social_facility' 'townhall' 'government' 'public']\n________________________________________________________________________________\nother:\n\t['trade' 'vehicle_inspection' 'research_institute' 'bus_station'\n 'social_centre' 'grave_yard' 'prison' 'train_station' 'service']\n________________________________________________________________________________\ngrocery_shopping:\n\t['greengrocer' 'supermarket' 'convenience' 'alcohol' 'bakery' 'pastry'\n 'butcher' 'health_food' 'seafood' 'deli' 'honey' 'grocery' 'wine'\n 'spices' 'farm' 'dairy' 'eggs' 'marketplace']\n________________________________________________________________________________\nother_shopping:\n\t['kiosk' 'computer' 'furniture' 'gift' 'books' 'pet' 'outdoor' 'shoes'\n 'electronics' 'bicycle' 'optician' 'copyshop' 'clothes' 'car' 'florist'\n 'toys' 'garden_centre' 'chemist' 'musical_instrument' 'doityourself'\n 'curtain' 'tyres' 'bookmaker' 'car_parts' 'lighting' 'hardware' 'jewelry'\n 'hearing_aids' 'paint' 'variety_store' 'newsagent' 'pawnbroker'\n 'stationery' 'bathroom_furnishing' 'sports' 'motorcycle' 'radiotechnics'\n 'games' 'houseware' 'herbalist' 'perfumery' 'nutrition_supplements'\n 'funeral_directors' 'appliance' 'fishing' 'mobile_phone' 'model'\n 'wholesale' 'dry_cleaning' 'baby_goods' 'coffee' 'lottery' 'art' 'fabric'\n 'chocolate' 'erotic' 'antiques' 'music' 'video_games' 'wool' 'frame'\n 'e-cigarette' 'leather' 'craft' 'interior_decoration' 'glaziery'\n 'sewing_tools' 'vacuum_cleaner' 'locksmith' 'bag' 'household_linen'\n 'car_electronics' 'tiles' 'caravan' 'cosmetics' 'hifi' 'cannabis'\n 'safety' 'collector' 'outpost' 'spy' 'watches' 'road_mirrors' 'bed'\n 'devotional_articles' 'general' 'hunting' 'video' 'window_blind'\n 'tobacco' 'confectionery' 'tea' 'fireplace' 'kitchen'\n 'fashion_accessories' 'second_hand' 'anime' 'forest_in_a_jar'\n 'brewing_supplies' 'electrical' 'carpet' 'bedlinen' 'cash_register'\n 'party' 'doors' 'scuba_diving' 'trophy' 'balloon' 'gates' 'boat'\n 'scooter' 'wigs' 'wood' 'weapons' 'fuel']\n________________________________________________________________________________\npharmacy:\n\t['pharmacy']\n________________________________________________________________________________\nhealthcare:\n\t['medical_supply' 'massage' 'clinic' 'hospital' 'doctors' 'dentist'\n 'nursing_home']\n________________________________________________________________________________\nservices:\n\t['hairdresser' 'money_lender' 'beauty' 'car_repair' 'travel_agency'\n 'photo' 'photo_studio' 'sewing' 'pet_grooming' 'tailor' 'laundry'\n 'rental' 'printing' 'tattoo' 'printer_ink' 'pottery' 'storage_rental'\n 'tool_hire' 'post_office' 'car_wash' 'veterinary' 'bureau_de_change'\n 'payment_centre' 'boat_rental' 'internet_cafe' 'post_depot']\n________________________________________________________________________________\nleisure_time_schools:\n\t['language_school' 'driving_school' 'college' 'dancing_school'\n 'guitar_lessons' 'music_school' 'singing_lessons' 'conference_centre'\n 'education_centre']\n________________________________________________________________________________\nreligion:\n\t['place_of_worship']\n"
     ]
    }
   ],
   "source": [
    "for other_subcat in other_subcats:\n",
    "    subcat_tags = facilities_df[ \n",
    "        facilities_df['other_subcat'] == other_subcat\n",
    "    ]['tag'].unique()\n",
    "    print('__'*40)\n",
    "    print(f'{other_subcat}:\\n\\t{subcat_tags}')"
   ]
  },
  {
   "cell_type": "code",
   "execution_count": 14,
   "metadata": {},
   "outputs": [
    {
     "output_type": "execute_result",
     "data": {
      "text/plain": [
       "           other_subcat  region_id  count\n",
       "0  adults_entertainment          1     15\n",
       "1  adults_entertainment          2      4\n",
       "2  adults_entertainment          3      3\n",
       "3  adults_entertainment          4      4\n",
       "4  adults_entertainment          6     13"
      ],
      "text/html": "<div>\n<style scoped>\n    .dataframe tbody tr th:only-of-type {\n        vertical-align: middle;\n    }\n\n    .dataframe tbody tr th {\n        vertical-align: top;\n    }\n\n    .dataframe thead th {\n        text-align: right;\n    }\n</style>\n<table border=\"1\" class=\"dataframe\">\n  <thead>\n    <tr style=\"text-align: right;\">\n      <th></th>\n      <th>other_subcat</th>\n      <th>region_id</th>\n      <th>count</th>\n    </tr>\n  </thead>\n  <tbody>\n    <tr>\n      <th>0</th>\n      <td>adults_entertainment</td>\n      <td>1</td>\n      <td>15</td>\n    </tr>\n    <tr>\n      <th>1</th>\n      <td>adults_entertainment</td>\n      <td>2</td>\n      <td>4</td>\n    </tr>\n    <tr>\n      <th>2</th>\n      <td>adults_entertainment</td>\n      <td>3</td>\n      <td>3</td>\n    </tr>\n    <tr>\n      <th>3</th>\n      <td>adults_entertainment</td>\n      <td>4</td>\n      <td>4</td>\n    </tr>\n    <tr>\n      <th>4</th>\n      <td>adults_entertainment</td>\n      <td>6</td>\n      <td>13</td>\n    </tr>\n  </tbody>\n</table>\n</div>"
     },
     "metadata": {},
     "execution_count": 14
    }
   ],
   "source": [
    "grouped_facilities_df = facilities_df.groupby(by=['other_subcat', 'region_id']).size().reset_index(name='count')\n",
    "\n",
    "grouped_facilities_df.head()"
   ]
  },
  {
   "cell_type": "code",
   "execution_count": 15,
   "metadata": {},
   "outputs": [
    {
     "output_type": "execute_result",
     "data": {
      "text/plain": [
       "other_subcat  region_id  adults_entertainment  culture_and_entertainment  \\\n",
       "0                     1                  15.0                        3.0   \n",
       "1                     2                   4.0                        2.0   \n",
       "2                     3                   3.0                        0.0   \n",
       "3                     4                   4.0                        2.0   \n",
       "4                     5                   0.0                        2.0   \n",
       "\n",
       "other_subcat  gastronomy  grocery_shopping  healthcare  leisure_time_schools  \\\n",
       "0                   97.0              14.0         4.0                   2.0   \n",
       "1                   51.0               4.0         0.0                   1.0   \n",
       "2                   13.0              12.0         0.0                   0.0   \n",
       "3                   26.0              15.0         8.0                   0.0   \n",
       "4                    7.0               1.0         3.0                   0.0   \n",
       "\n",
       "other_subcat  official_matters  other  other_shopping  pharmacy  religion  \\\n",
       "0                         11.0    1.0            36.0       3.0       2.0   \n",
       "1                          2.0    0.0            16.0       0.0       3.0   \n",
       "2                          1.0    0.0            10.0       2.0       3.0   \n",
       "3                         10.0    0.0            52.0       2.0       1.0   \n",
       "4                          2.0    0.0             7.0       0.0       1.0   \n",
       "\n",
       "other_subcat  services  sport  \n",
       "0                 11.0    0.0  \n",
       "1                  4.0    0.0  \n",
       "2                  4.0    1.0  \n",
       "3                  8.0    0.0  \n",
       "4                  5.0    1.0  "
      ],
      "text/html": "<div>\n<style scoped>\n    .dataframe tbody tr th:only-of-type {\n        vertical-align: middle;\n    }\n\n    .dataframe tbody tr th {\n        vertical-align: top;\n    }\n\n    .dataframe thead th {\n        text-align: right;\n    }\n</style>\n<table border=\"1\" class=\"dataframe\">\n  <thead>\n    <tr style=\"text-align: right;\">\n      <th>other_subcat</th>\n      <th>region_id</th>\n      <th>adults_entertainment</th>\n      <th>culture_and_entertainment</th>\n      <th>gastronomy</th>\n      <th>grocery_shopping</th>\n      <th>healthcare</th>\n      <th>leisure_time_schools</th>\n      <th>official_matters</th>\n      <th>other</th>\n      <th>other_shopping</th>\n      <th>pharmacy</th>\n      <th>religion</th>\n      <th>services</th>\n      <th>sport</th>\n    </tr>\n  </thead>\n  <tbody>\n    <tr>\n      <th>0</th>\n      <td>1</td>\n      <td>15.0</td>\n      <td>3.0</td>\n      <td>97.0</td>\n      <td>14.0</td>\n      <td>4.0</td>\n      <td>2.0</td>\n      <td>11.0</td>\n      <td>1.0</td>\n      <td>36.0</td>\n      <td>3.0</td>\n      <td>2.0</td>\n      <td>11.0</td>\n      <td>0.0</td>\n    </tr>\n    <tr>\n      <th>1</th>\n      <td>2</td>\n      <td>4.0</td>\n      <td>2.0</td>\n      <td>51.0</td>\n      <td>4.0</td>\n      <td>0.0</td>\n      <td>1.0</td>\n      <td>2.0</td>\n      <td>0.0</td>\n      <td>16.0</td>\n      <td>0.0</td>\n      <td>3.0</td>\n      <td>4.0</td>\n      <td>0.0</td>\n    </tr>\n    <tr>\n      <th>2</th>\n      <td>3</td>\n      <td>3.0</td>\n      <td>0.0</td>\n      <td>13.0</td>\n      <td>12.0</td>\n      <td>0.0</td>\n      <td>0.0</td>\n      <td>1.0</td>\n      <td>0.0</td>\n      <td>10.0</td>\n      <td>2.0</td>\n      <td>3.0</td>\n      <td>4.0</td>\n      <td>1.0</td>\n    </tr>\n    <tr>\n      <th>3</th>\n      <td>4</td>\n      <td>4.0</td>\n      <td>2.0</td>\n      <td>26.0</td>\n      <td>15.0</td>\n      <td>8.0</td>\n      <td>0.0</td>\n      <td>10.0</td>\n      <td>0.0</td>\n      <td>52.0</td>\n      <td>2.0</td>\n      <td>1.0</td>\n      <td>8.0</td>\n      <td>0.0</td>\n    </tr>\n    <tr>\n      <th>4</th>\n      <td>5</td>\n      <td>0.0</td>\n      <td>2.0</td>\n      <td>7.0</td>\n      <td>1.0</td>\n      <td>3.0</td>\n      <td>0.0</td>\n      <td>2.0</td>\n      <td>0.0</td>\n      <td>7.0</td>\n      <td>0.0</td>\n      <td>1.0</td>\n      <td>5.0</td>\n      <td>1.0</td>\n    </tr>\n  </tbody>\n</table>\n</div>"
     },
     "metadata": {},
     "execution_count": 15
    }
   ],
   "source": [
    "pivot_facilities_df = grouped_facilities_df.pivot(index='region_id', columns='other_subcat', values='count').reset_index()\n",
    "# pivot_facilities_df.reset_index(inplace=True, drop=True)\n",
    "# pivot_facilities_df.index.name = None\n",
    "pivot_facilities_df.fillna(0, inplace=True)\n",
    "\n",
    "pivot_facilities_df.head()"
   ]
  },
  {
   "source": [
    "## Prepare new gravity (including other subcats)"
   ],
   "cell_type": "markdown",
   "metadata": {}
  },
  {
   "cell_type": "code",
   "execution_count": 17,
   "metadata": {},
   "outputs": [],
   "source": [
    "leave_old = list(gravity_dist.keys())\n",
    "leave_old.remove('inne')\n",
    "\n",
    "regions = regions_df['Regions'].to_list()\n",
    "\n",
    "# list(set(regions) - set(pivot_facilities_df['region_id'].unique()))"
   ]
  },
  {
   "cell_type": "code",
   "execution_count": 19,
   "metadata": {},
   "outputs": [],
   "source": [
    "# int(pivot_facilities_df[\n",
    "#     pivot_facilities_df['region_id'] == 404\n",
    "# ]['adults_entertainment'])"
   ]
  },
  {
   "cell_type": "code",
   "execution_count": 20,
   "metadata": {},
   "outputs": [
    {
     "output_type": "stream",
     "name": "stderr",
     "text": [
      "100%|██████████| 375/375 [01:08<00:00,  5.45it/s]\n",
      "100%|██████████| 375/375 [01:04<00:00,  5.80it/s]\n",
      "100%|██████████| 375/375 [01:06<00:00,  5.61it/s]\n",
      "100%|██████████| 375/375 [00:59<00:00,  6.29it/s]\n",
      "100%|██████████| 375/375 [00:59<00:00,  6.31it/s]\n",
      "100%|██████████| 375/375 [00:59<00:00,  6.30it/s]\n",
      "100%|██████████| 375/375 [00:59<00:00,  6.30it/s]\n",
      "100%|██████████| 375/375 [00:59<00:00,  6.30it/s]\n",
      "100%|██████████| 375/375 [00:59<00:00,  6.28it/s]\n",
      "100%|██████████| 375/375 [00:59<00:00,  6.31it/s]\n",
      "100%|██████████| 375/375 [00:59<00:00,  6.30it/s]\n",
      "100%|██████████| 375/375 [00:59<00:00,  6.29it/s]\n",
      "100%|██████████| 375/375 [00:59<00:00,  6.31it/s]\n"
     ]
    }
   ],
   "source": [
    "new_gravity_dist = {}\n",
    "fill_0_distance_with = 150\n",
    "\n",
    "# ['dom', 'praca', 'szkola', 'uczelnia']\n",
    "for destination in leave_old:\n",
    "    new_gravity_dist[destination] = gravity_dist[destination]\n",
    "\n",
    "# other subcats\n",
    "for destination in other_subcats:\n",
    "    new_gravity_dist[destination] = {}\n",
    "\n",
    "    for from_region in tqdm(regions):\n",
    "        new_gravity_dist[destination][from_region] = {}\n",
    "\n",
    "        for to_region in regions:\n",
    "            try:\n",
    "                count = int(pivot_facilities_df[\n",
    "                    pivot_facilities_df['region_id'] == to_region\n",
    "                ][destination])\n",
    "            except TypeError:\n",
    "                count = 0\n",
    "            # if type(columns_for_dest[destination]) == str:\n",
    "            #     value_j = gdf[gdf['Region']==to_region].iloc[0][columns_for_dest[destination]]\n",
    "            # else:\n",
    "            #     value_j = columns_for_dest[destination]\n",
    "\n",
    "            distance = distance_between_regions[str(from_region)][str(to_region)]\n",
    "            if distance == 0:\n",
    "                distance = fill_0_distance_with\n",
    "\n",
    "            new_gravity_dist[destination][from_region][to_region] = count / distance\n",
    "\n",
    "        # normalization\n",
    "        s = np.sum(np.array(list(new_gravity_dist[destination][from_region].values())))\n",
    "        for to_region, count in new_gravity_dist[destination][from_region].items():\n",
    "            new_gravity_dist[destination][from_region][to_region] = count / s"
   ]
  },
  {
   "cell_type": "code",
   "execution_count": 22,
   "metadata": {},
   "outputs": [
    {
     "output_type": "stream",
     "name": "stdout",
     "text": [
      "0.10018998707259459\n"
     ]
    }
   ],
   "source": [
    "destination = 'adults_entertainment'\n",
    "from_region = 10\n",
    "to_region = 1\n",
    "\n",
    "print(new_gravity_dist[destination][from_region][to_region])"
   ]
  },
  {
   "cell_type": "code",
   "execution_count": 23,
   "metadata": {},
   "outputs": [],
   "source": [
    "out_dir = '../../data/processed/mc/travel_planning'\n",
    "\n",
    "if not os.path.exists(out_dir):\n",
    "    os.makedirs(out_dir)"
   ]
  },
  {
   "cell_type": "code",
   "execution_count": 25,
   "metadata": {},
   "outputs": [],
   "source": [
    "save_object(\n",
    "    obj=new_gravity_dist,\n",
    "    name='gravity_dist', \n",
    "    out_dir=out_dir\n",
    ")"
   ]
  },
  {
   "cell_type": "code",
   "execution_count": null,
   "metadata": {},
   "outputs": [],
   "source": []
  }
 ]
}