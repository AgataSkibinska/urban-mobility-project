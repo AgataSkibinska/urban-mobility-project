{
 "metadata": {
  "language_info": {
   "codemirror_mode": {
    "name": "ipython",
    "version": 3
   },
   "file_extension": ".py",
   "mimetype": "text/x-python",
   "name": "python",
   "nbconvert_exporter": "python",
   "pygments_lexer": "ipython3",
   "version": "3.8.2"
  },
  "orig_nbformat": 2,
  "kernelspec": {
   "name": "python382jvsc74a57bd0949029d92ec5e65609893ae6417d70f6e4b61e42c3828da5fd372a1d70154353",
   "display_name": "Python 3.8.2 64-bit ('mobility_venv': venv)"
  }
 },
 "nbformat": 4,
 "nbformat_minor": 2,
 "cells": [
  {
   "cell_type": "code",
   "execution_count": 1,
   "metadata": {},
   "outputs": [
    {
     "output_type": "execute_result",
     "data": {
      "text/plain": [
       "'mobility_venv'"
      ]
     },
     "metadata": {},
     "execution_count": 1
    }
   ],
   "source": [
    "import sys\n",
    "\n",
    "sys.executable.split('/')[-3]"
   ]
  },
  {
   "cell_type": "code",
   "execution_count": 2,
   "metadata": {},
   "outputs": [],
   "source": [
    "import datetime\n",
    "import json\n",
    "import os\n",
    "import warnings\n",
    "\n",
    "import numpy as np\n",
    "import pandas as pd\n",
    "from tqdm import tqdm\n",
    "\n",
    "warnings.filterwarnings('ignore')\n",
    "tqdm.pandas()\n",
    "pd.options.display.max_columns = None"
   ]
  },
  {
   "source": [
    "## Load data "
   ],
   "cell_type": "markdown",
   "metadata": {}
  },
  {
   "cell_type": "code",
   "execution_count": 3,
   "metadata": {},
   "outputs": [],
   "source": [
    "def save_object(obj, name, out_dir='out'):\n",
    "    file_name = name if name.endswith('.json') else (name + '.json')\n",
    "    file_path = os.path.join(out_dir, file_name)\n",
    "    with open(file_path, 'w') as f:\n",
    "        json.dump(obj, f)\n",
    "\n",
    "def load_object(name, in_dir='out'):\n",
    "    file_name = name if name.endswith('.json') else (name + '.json')\n",
    "    file_path = os.path.join(in_dir, file_name)\n",
    "    with open(file_path, 'r') as f:\n",
    "        return json.load(f)"
   ]
  },
  {
   "cell_type": "code",
   "execution_count": 8,
   "metadata": {},
   "outputs": [],
   "source": [
    "data_dir = '../../data/processed/mc/travel_planning/other_travels_split'\n",
    "others_dist_file = 'others_dist_2019.json'\n",
    "\n",
    "others_dist = load_object(name=others_dist_file, in_dir=data_dir)\n",
    "\n",
    "data_dir = '../../data/processed/mc/travel_planning'\n",
    "spend_time_file = 'spend_time_dist_params.json'\n",
    "\n",
    "spend_time_dist_params = load_object(name=spend_time_file, in_dir=data_dir)"
   ]
  },
  {
   "cell_type": "code",
   "execution_count": 27,
   "metadata": {},
   "outputs": [
    {
     "output_type": "execute_result",
     "data": {
      "text/plain": [
       "['adults_entertainment',\n",
       " 'culture_and_entertainment',\n",
       " 'gastronomy',\n",
       " 'grocery_shopping',\n",
       " 'healthcare',\n",
       " 'leisure_time_schools',\n",
       " 'official_matters',\n",
       " 'other',\n",
       " 'other_shopping',\n",
       " 'religion',\n",
       " 'services',\n",
       " 'sport']"
      ]
     },
     "metadata": {},
     "execution_count": 27
    }
   ],
   "source": [
    "others_subcats = list(others_dist.keys())\n",
    "others_subcats"
   ]
  },
  {
   "cell_type": "code",
   "execution_count": 30,
   "metadata": {},
   "outputs": [],
   "source": [
    "spend_time_dist_params_new = {}\n",
    "for age_sex in spend_time_dist_params.keys():\n",
    "    spend_time_dist_params_new[age_sex] = {}\n",
    "    for place_type in spend_time_dist_params[age_sex].keys():\n",
    "        if place_type == 'inne':\n",
    "            default_params = spend_time_dist_params[age_sex][place_type]  # place_type -> 'inne'\n",
    "            for others_subcat in others_subcats:\n",
    "                spend_time_dist_params_new[age_sex][others_subcat] = default_params\n",
    "        else:\n",
    "            spend_time_dist_params_new[age_sex][place_type] = {}\n",
    "            for param, val in spend_time_dist_params[age_sex][place_type].items():\n",
    "                spend_time_dist_params_new[age_sex][place_type][param] = val"
   ]
  },
  {
   "cell_type": "code",
   "execution_count": 31,
   "metadata": {},
   "outputs": [],
   "source": [
    "out_dir = '../../data/processed/mc/travel_planning'\n",
    "\n",
    "if not os.path.exists(out_dir):\n",
    "    os.makedirs(out_dir)"
   ]
  },
  {
   "cell_type": "code",
   "execution_count": 32,
   "metadata": {},
   "outputs": [],
   "source": [
    "save_object(\n",
    "    obj=spend_time_dist_params_new, \n",
    "    name='spend_time_dist_params_new', \n",
    "    out_dir=out_dir\n",
    ")"
   ]
  },
  {
   "cell_type": "code",
   "execution_count": null,
   "metadata": {},
   "outputs": [],
   "source": []
  }
 ]
}