{
 "metadata": {
  "language_info": {
   "codemirror_mode": {
    "name": "ipython",
    "version": 3
   },
   "file_extension": ".py",
   "mimetype": "text/x-python",
   "name": "python",
   "nbconvert_exporter": "python",
   "pygments_lexer": "ipython3",
   "version": "3.8.2"
  },
  "orig_nbformat": 2,
  "kernelspec": {
   "name": "python382jvsc74a57bd0949029d92ec5e65609893ae6417d70f6e4b61e42c3828da5fd372a1d70154353",
   "display_name": "Python 3.8.2 64-bit ('mobility_venv': venv)"
  }
 },
 "nbformat": 4,
 "nbformat_minor": 2,
 "cells": [
  {
   "cell_type": "code",
   "execution_count": 1,
   "metadata": {},
   "outputs": [
    {
     "output_type": "execute_result",
     "data": {
      "text/plain": [
       "'mobility_venv'"
      ]
     },
     "metadata": {},
     "execution_count": 1
    }
   ],
   "source": [
    "import sys\n",
    "\n",
    "sys.executable.split('/')[-3]"
   ]
  },
  {
   "cell_type": "code",
   "execution_count": 2,
   "metadata": {},
   "outputs": [],
   "source": [
    "import datetime\n",
    "import json\n",
    "import os\n",
    "import warnings\n",
    "\n",
    "import numpy as np\n",
    "import pandas as pd\n",
    "from tqdm import tqdm\n",
    "\n",
    "warnings.filterwarnings('ignore')\n",
    "tqdm.pandas()\n",
    "pd.options.display.max_columns = None"
   ]
  },
  {
   "cell_type": "code",
   "execution_count": 3,
   "metadata": {},
   "outputs": [],
   "source": [
    "def save_object(obj, name, out_dir='out'):\n",
    "    file_name = name if name.endswith('.json') else (name + '.json')\n",
    "    file_path = os.path.join(out_dir, file_name)\n",
    "    with open(file_path, 'w') as f:\n",
    "        json.dump(obj, f)\n",
    "\n",
    "def load_object(name, in_dir='out'):\n",
    "    file_name = name if name.endswith('.json') else (name + '.json')\n",
    "    file_path = os.path.join(in_dir, file_name)\n",
    "    with open(file_path, 'r') as f:\n",
    "        return json.load(f)"
   ]
  },
  {
   "cell_type": "code",
   "execution_count": 4,
   "metadata": {},
   "outputs": [],
   "source": [
    "# spend time dist params (to get all possible destinations)\n",
    "data_dir = '../../data/processed/mc/travel_planning'\n",
    "spend_time_file = 'spend_time_dist_params.json'\n",
    "\n",
    "spend_time_dist_params = load_object(name=spend_time_file, in_dir=data_dir)\n",
    "\n",
    "# mobility_change (to get google mobility categories)\n",
    "data_dir = '../../data/processed/mc/pandemic_mobility'\n",
    "mobility_change_file = 'mobility_change.json'\n",
    "\n",
    "mobility_change = load_object(name=mobility_change_file, in_dir=data_dir)"
   ]
  },
  {
   "source": [
    "### Possible destinations"
   ],
   "cell_type": "markdown",
   "metadata": {}
  },
  {
   "cell_type": "code",
   "execution_count": 5,
   "metadata": {},
   "outputs": [
    {
     "output_type": "execute_result",
     "data": {
      "text/plain": [
       "['dom',\n",
       " 'praca',\n",
       " 'szkola',\n",
       " 'uczelnia',\n",
       " 'adults_entertainment',\n",
       " 'culture_and_entertainment',\n",
       " 'gastronomy',\n",
       " 'grocery_shopping',\n",
       " 'healthcare',\n",
       " 'leisure_time_schools',\n",
       " 'official_matters',\n",
       " 'other',\n",
       " 'other_shopping',\n",
       " 'pharmacy',\n",
       " 'religion',\n",
       " 'services',\n",
       " 'sport']"
      ]
     },
     "metadata": {},
     "execution_count": 5
    }
   ],
   "source": [
    "first_key = next(iter(spend_time_dist_params))  # doesn't matter\n",
    "possible_destinations = list(spend_time_dist_params[first_key].keys())\n",
    "\n",
    "possible_destinations"
   ]
  },
  {
   "source": [
    "### Google mobility categories"
   ],
   "cell_type": "markdown",
   "metadata": {}
  },
  {
   "cell_type": "code",
   "execution_count": 6,
   "metadata": {},
   "outputs": [
    {
     "output_type": "execute_result",
     "data": {
      "text/plain": [
       "['retail_and_recreation',\n",
       " 'grocery_and_pharmacy',\n",
       " 'parks',\n",
       " 'transit_stations',\n",
       " 'workplaces',\n",
       " 'residential']"
      ]
     },
     "metadata": {},
     "execution_count": 6
    }
   ],
   "source": [
    "google_mobility_categories = list(mobility_change.keys())\n",
    "\n",
    "google_mobility_categories"
   ]
  },
  {
   "source": [
    "### Map possible destinations to Google mobility categories"
   ],
   "cell_type": "markdown",
   "metadata": {}
  },
  {
   "cell_type": "code",
   "execution_count": 7,
   "metadata": {},
   "outputs": [],
   "source": [
    "trip_cancel_prob = {}\n",
    "\n",
    "for destination in possible_destinations:\n",
    "    # dest_to_google_cats_map[destination] = google_mobility_categories\n",
    "    trip_cancel_prob[destination] = 0.0"
   ]
  },
  {
   "source": [
    "### Save map to .json file"
   ],
   "cell_type": "markdown",
   "metadata": {}
  },
  {
   "cell_type": "code",
   "execution_count": 8,
   "metadata": {},
   "outputs": [],
   "source": [
    "out_dir = '../../data/processed/mc/travel_planning'\n",
    "\n",
    "if not os.path.exists(out_dir):\n",
    "    os.makedirs(out_dir)"
   ]
  },
  {
   "cell_type": "code",
   "execution_count": 9,
   "metadata": {},
   "outputs": [],
   "source": [
    "save_object(\n",
    "    obj=trip_cancel_prob, \n",
    "    name='trip_cancel_prob', \n",
    "    out_dir=out_dir\n",
    ")"
   ]
  },
  {
   "cell_type": "code",
   "execution_count": null,
   "metadata": {},
   "outputs": [],
   "source": []
  }
 ]
}