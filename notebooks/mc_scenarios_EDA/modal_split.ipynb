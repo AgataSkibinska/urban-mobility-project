{
 "metadata": {
  "language_info": {
   "codemirror_mode": {
    "name": "ipython",
    "version": 3
   },
   "file_extension": ".py",
   "mimetype": "text/x-python",
   "name": "python",
   "nbconvert_exporter": "python",
   "pygments_lexer": "ipython3",
   "version": "3.8.2-final"
  },
  "orig_nbformat": 2,
  "kernelspec": {
   "name": "python3",
   "display_name": "Python 3",
   "language": "python"
  }
 },
 "nbformat": 4,
 "nbformat_minor": 2,
 "cells": [
  {
   "cell_type": "code",
   "execution_count": 168,
   "metadata": {},
   "outputs": [],
   "source": [
    "import json\n",
    "import os\n",
    "import statistics\n",
    "\n",
    "import numpy as np\n",
    "import pandas as pd\n",
    "from tqdm import tqdm\n",
    "\n",
    "tqdm.pandas()\n",
    "pd.options.display.max_columns = None"
   ]
  },
  {
   "source": [
    "# Example"
   ],
   "cell_type": "markdown",
   "metadata": {}
  },
  {
   "cell_type": "code",
   "execution_count": null,
   "metadata": {},
   "outputs": [],
   "source": [
    "scenarios_dir = '../../data/processed/scenarios/'\n",
    "scenario_dir = 'scenarios_1_1_pub_trans_comfort_dist-up_0_0_pub_trans_punctuality_dist-up_0_0_household_cars_dist-down_0_0/'\n",
    "\n",
    "scenario_path = os.path.join(scenarios_dir, scenario_dir)"
   ]
  },
  {
   "cell_type": "code",
   "execution_count": 12,
   "metadata": {},
   "outputs": [],
   "source": [
    "data = pd.read_csv(os.path.join(scenario_path, 'travels_results_1.csv'))"
   ]
  },
  {
   "cell_type": "code",
   "execution_count": 18,
   "metadata": {},
   "outputs": [
    {
     "output_type": "execute_result",
     "data": {
      "text/plain": [
       "   Unnamed: 0  agent_id  start_region start_place_type  dest_region  \\\n",
       "0           0         0           228              dom          126   \n",
       "1           1         0           126            praca          228   \n",
       "2           2         1            19              dom            1   \n",
       "3           3         1             1             inne           19   \n",
       "4           4         2           116              dom          147   \n",
       "\n",
       "  dest_place_type  travel_start_time  transport_mode  is_driver  \n",
       "0           praca               1219               0        1.0  \n",
       "1             dom               1229               0        1.0  \n",
       "2            inne                977               1        NaN  \n",
       "3             dom                987               1        NaN  \n",
       "4            inne                397               2        NaN  "
      ],
      "text/html": "<div>\n<style scoped>\n    .dataframe tbody tr th:only-of-type {\n        vertical-align: middle;\n    }\n\n    .dataframe tbody tr th {\n        vertical-align: top;\n    }\n\n    .dataframe thead th {\n        text-align: right;\n    }\n</style>\n<table border=\"1\" class=\"dataframe\">\n  <thead>\n    <tr style=\"text-align: right;\">\n      <th></th>\n      <th>Unnamed: 0</th>\n      <th>agent_id</th>\n      <th>start_region</th>\n      <th>start_place_type</th>\n      <th>dest_region</th>\n      <th>dest_place_type</th>\n      <th>travel_start_time</th>\n      <th>transport_mode</th>\n      <th>is_driver</th>\n    </tr>\n  </thead>\n  <tbody>\n    <tr>\n      <th>0</th>\n      <td>0</td>\n      <td>0</td>\n      <td>228</td>\n      <td>dom</td>\n      <td>126</td>\n      <td>praca</td>\n      <td>1219</td>\n      <td>0</td>\n      <td>1.0</td>\n    </tr>\n    <tr>\n      <th>1</th>\n      <td>1</td>\n      <td>0</td>\n      <td>126</td>\n      <td>praca</td>\n      <td>228</td>\n      <td>dom</td>\n      <td>1229</td>\n      <td>0</td>\n      <td>1.0</td>\n    </tr>\n    <tr>\n      <th>2</th>\n      <td>2</td>\n      <td>1</td>\n      <td>19</td>\n      <td>dom</td>\n      <td>1</td>\n      <td>inne</td>\n      <td>977</td>\n      <td>1</td>\n      <td>NaN</td>\n    </tr>\n    <tr>\n      <th>3</th>\n      <td>3</td>\n      <td>1</td>\n      <td>1</td>\n      <td>inne</td>\n      <td>19</td>\n      <td>dom</td>\n      <td>987</td>\n      <td>1</td>\n      <td>NaN</td>\n    </tr>\n    <tr>\n      <th>4</th>\n      <td>4</td>\n      <td>2</td>\n      <td>116</td>\n      <td>dom</td>\n      <td>147</td>\n      <td>inne</td>\n      <td>397</td>\n      <td>2</td>\n      <td>NaN</td>\n    </tr>\n  </tbody>\n</table>\n</div>"
     },
     "metadata": {},
     "execution_count": 18
    }
   ],
   "source": [
    "data.head()"
   ]
  },
  {
   "source": [
    "# Automa"
   ],
   "cell_type": "markdown",
   "metadata": {}
  },
  {
   "cell_type": "code",
   "execution_count": null,
   "metadata": {},
   "outputs": [],
   "source": [
    "# {\n",
    "# \t‘komunikacja’: {\n",
    "#         średnia: średnia liczba przejazdów komunikacją,\n",
    "#         ‘std’: wartość\n",
    "#     }\n",
    "# \t‘auta_kierowca’: jw\n",
    "# \t‘auta_nie_kierowca’: jw\n",
    "# \titd.\n",
    "# }"
   ]
  },
  {
   "cell_type": "code",
   "execution_count": 213,
   "metadata": {},
   "outputs": [],
   "source": [
    "scenarios_dir = '../../data/processed/scenarios/'\n",
    "\n",
    "# 0 0 0\n",
    "# scenario_dir = 'scenarios_1_1_pub_trans_comfort_dist-up_0_0_pub_trans_punctuality_dist-up_0_0_household_cars_dist-down_0_0/'\n",
    "# out_file = 'ms_scenario_0_0_0.json'\n",
    "\n",
    "# 0 0 3\n",
    "# scenario_dir = 'scenarios_2_1_pub_trans_comfort_dist-up_0_0_pub_trans_punctuality_dist-up_0_0_household_cars_dist-down_0_3/'\n",
    "# out_file = 'ms_scenario_0_0_3.json'\n",
    "\n",
    "# 3 3 0\n",
    "# scenario_dir = 'scenarios_10_1_pub_trans_comfort_dist-up_0_3_pub_trans_punctuality_dist-up_0_3_household_cars_dist-down_0_0/'\n",
    "# out_file = 'ms_scenario_3_3_0.json'\n",
    "\n",
    "# 3 3 3\n",
    "# scenario_dir = 'scenarios_11_1_pub_trans_comfort_dist-up_0_3_pub_trans_punctuality_dist-up_0_3_household_cars_dist-down_0_3/'\n",
    "# out_file = 'ms_scenario_3_3_3.json'\n",
    "\n",
    "# 0 0 15\n",
    "# scenario_dir = 'scenarios_9_1_pub_trans_comfort_dist-up_0_0_pub_trans_punctuality_dist-up_0_0_household_cars_dist-down_0_15/'\n",
    "# out_file = 'ms_scenario_0_0_15.json'\n",
    "\n",
    "# 15 15 0\n",
    "# scenario_dir = 'scenarios_5_1_pub_trans_comfort_dist-up_0_15_pub_trans_punctuality_dist-up_0_15_household_cars_dist-down_0_0/'\n",
    "# out_file = 'ms_scenario_15_15_0.json'\n",
    "\n",
    "# 15 15 15\n",
    "scenario_dir = 'scenarios_6_1_pub_trans_comfort_dist-up_0_15_pub_trans_punctuality_dist-up_0_15_household_cars_dist-down_0_15/'\n",
    "out_file = 'ms_scenario_15_15_15.json'\n",
    "\n",
    "scenario_path = os.path.join(scenarios_dir, scenario_dir)"
   ]
  },
  {
   "cell_type": "code",
   "execution_count": 214,
   "metadata": {},
   "outputs": [],
   "source": [
    "unique_transport_mode = [\n",
    "    'car_driver',\n",
    "    'car_passenger',\n",
    "    'public',\n",
    "    'pedestrian',\n",
    "    'bicycle'\n",
    "]\n",
    "\n",
    "statistics = [\n",
    "    'mean', \n",
    "    'std'\n",
    "]\n",
    "\n",
    "\n",
    "json_dict = {}\n",
    "\n",
    "for tm in unique_transport_mode:\n",
    "    json_dict[tm] = {}\n",
    "    for stat in statistics:\n",
    "        json_dict[tm][stat] = []"
   ]
  },
  {
   "cell_type": "code",
   "execution_count": 215,
   "metadata": {},
   "outputs": [],
   "source": [
    "def transport_mode_count(df_travels, tm):\n",
    "    if tm.startswith('car_'):\n",
    "        if tm == 'car_driver':\n",
    "            transport_mode = 0\n",
    "            is_driver = 1.0\n",
    "        else:\n",
    "            transport_mode = 0\n",
    "            is_driver = 0.0\n",
    "\n",
    "        count = df_travels[\n",
    "            (df_travels['transport_mode'] == transport_mode) &\n",
    "            (df_travels['is_driver'] == is_driver)\n",
    "        ].shape[0]\n",
    "    else:\n",
    "        if tm == 'public':\n",
    "            transport_mode = 1\n",
    "        elif tm == 'pedestrian':\n",
    "            transport_mode = 2\n",
    "        elif tm == 'bicycle':\n",
    "            transport_mode = 3\n",
    "        else:\n",
    "            transport_mode = -1\n",
    "        \n",
    "        count = df_travels[\n",
    "            df_travels['transport_mode'] == transport_mode\n",
    "        ].shape[0]\n",
    "    \n",
    "    return count"
   ]
  },
  {
   "cell_type": "code",
   "execution_count": 216,
   "metadata": {},
   "outputs": [
    {
     "output_type": "stream",
     "name": "stderr",
     "text": [
      "100%|██████████| 100/100 [01:14<00:00,  1.35it/s]\n"
     ]
    }
   ],
   "source": [
    "simulations_files = [f for f in os.listdir(scenario_path) if f.startswith(('agents_results_', 'travels_results_'))]\n",
    "num_simulations = int(len(simulations_files) / 2)\n",
    "\n",
    "# for simulation in tqdm(range(1, 3)):\n",
    "for simulation in tqdm(range(1, num_simulations+1)):\n",
    "    travels_file = 'travels_results_' + str(simulation) + '.csv'\n",
    "    df_travels = pd.read_csv(os.path.join(scenario_path, travels_file), index_col=0)\n",
    "\n",
    "    travels_num = df_travels.shape[0]\n",
    "\n",
    "    for tm in unique_transport_mode:\n",
    "        count = transport_mode_count(df_travels, tm)\n",
    "        percentage = count / travels_num * 100\n",
    "        for stat in statistics:\n",
    "            json_dict[tm][stat].append(percentage)"
   ]
  },
  {
   "cell_type": "code",
   "execution_count": 217,
   "metadata": {},
   "outputs": [
    {
     "output_type": "stream",
     "name": "stderr",
     "text": [
      "100%|██████████| 5/5 [00:00<00:00, 1111.13it/s]\n"
     ]
    }
   ],
   "source": [
    "import statistics\n",
    "\n",
    "for tm in tqdm(unique_transport_mode):\n",
    "    json_dict[tm]['mean'] = statistics.mean(json_dict[tm]['mean'])\n",
    "    json_dict[tm]['std'] = statistics.stdev(json_dict[tm]['std'])"
   ]
  },
  {
   "cell_type": "code",
   "execution_count": 218,
   "metadata": {},
   "outputs": [
    {
     "output_type": "execute_result",
     "data": {
      "text/plain": [
       "{'car_driver': {'mean': 26.00142229864044, 'std': 0.0674108111290693},\n",
       " 'car_passenger': {'mean': 9.129015768698288, 'std': 0.04144142048604447},\n",
       " 'public': {'mean': 34.54015167185465, 'std': 0.05752514629895113},\n",
       " 'pedestrian': {'mean': 20.967568407721974, 'std': 0.05572320705849282},\n",
       " 'bicycle': {'mean': 9.361841853084652, 'std': 0.04843156366373326}}"
      ]
     },
     "metadata": {},
     "execution_count": 218
    }
   ],
   "source": [
    "json_dict"
   ]
  },
  {
   "cell_type": "code",
   "execution_count": 219,
   "metadata": {},
   "outputs": [],
   "source": [
    "out_dir = '../../data/processed/mc/scenarios'\n",
    "\n",
    "if not os.path.exists(out_dir):\n",
    "    os.makedirs(out_dir)"
   ]
  },
  {
   "cell_type": "code",
   "execution_count": 220,
   "metadata": {},
   "outputs": [],
   "source": [
    "out_path = os.path.join(out_dir, out_file)\n",
    "\n",
    "with open(out_path, 'w') as f:\n",
    "    json.dump(json_dict, f)"
   ]
  },
  {
   "source": [
    "# Scenarios"
   ],
   "cell_type": "markdown",
   "metadata": {}
  },
  {
   "source": [
    "## Scenario 0 0 0"
   ],
   "cell_type": "markdown",
   "metadata": {}
  },
  {
   "cell_type": "code",
   "execution_count": 131,
   "metadata": {},
   "outputs": [],
   "source": [
    "scenarios_dir = '../../data/processed/scenarios/'\n",
    "scenario_dir = 'scenarios_1_1_pub_trans_comfort_dist-up_0_0_pub_trans_punctuality_dist-up_0_0_household_cars_dist-down_0_0/'\n",
    "\n",
    "scenario_path = os.path.join(scenarios_dir, scenario_dir)"
   ]
  },
  {
   "cell_type": "code",
   "execution_count": 132,
   "metadata": {},
   "outputs": [
    {
     "output_type": "stream",
     "name": "stderr",
     "text": [
      "100%|██████████| 100/100 [00:20<00:00,  4.85it/s]\n"
     ]
    }
   ],
   "source": [
    "total_data = pd.DataFrame(columns=['transport_mode', 'total_count', 'modal_split'])\n",
    "\n",
    "for simulation_file in tqdm(os.listdir(scenario_path)):\n",
    "    if simulation_file.startswith('travels_results_'):\n",
    "        data = pd.read_csv(os.path.join(scenario_path, simulation_file))\n",
    "\n",
    "        transport_mode_vc = data['transport_mode'].value_counts().rename_axis('transport_mode').reset_index(name='total_count')\n",
    "        transport_mode_vc['modal_split'] = transport_mode_vc['total_count'] / transport_mode_vc['total_count'].sum() * 100\n",
    "\n",
    "        total_data = pd.concat([total_data, transport_mode_vc])\n",
    "\n",
    "\n",
    "var_map_dict = {\n",
    "    0: 'komunikacja samochodowa',\n",
    "    1: 'komunikacja zbiorowa',\n",
    "    2: 'pieszo',\n",
    "    3: 'rower',\n",
    "}\n",
    "\n",
    "total_data.replace({'transport_mode': var_map_dict}, inplace=True)\n",
    "\n",
    "total_data.reset_index(inplace=True)"
   ]
  },
  {
   "cell_type": "code",
   "execution_count": 133,
   "metadata": {},
   "outputs": [
    {
     "output_type": "execute_result",
     "data": {
      "text/plain": [
       "['komunikacja samochodowa', 'komunikacja zbiorowa', 'pieszo', 'rower']"
      ]
     },
     "metadata": {},
     "execution_count": 133
    }
   ],
   "source": [
    "list(total_data['transport_mode'].unique())"
   ]
  },
  {
   "cell_type": "code",
   "execution_count": 134,
   "metadata": {},
   "outputs": [
    {
     "output_type": "stream",
     "name": "stdout",
     "text": [
      "komunikacja samochodowa\n0.09007087180728351\nkomunikacja zbiorowa\n0.09402402575265148\npieszo\n0.0655132359694321\nrower\n0.04254365743866603\n"
     ]
    }
   ],
   "source": [
    "transport_modes = list(total_data['transport_mode'].unique())\n",
    "\n",
    "for transport_mode in transport_modes:\n",
    "    print(transport_mode)\n",
    "    print(total_data[\n",
    "        total_data['transport_mode'] == transport_mode\n",
    "    ]['modal_split'].std(axis=0))"
   ]
  },
  {
   "cell_type": "code",
   "execution_count": 136,
   "metadata": {},
   "outputs": [
    {
     "output_type": "execute_result",
     "data": {
      "text/plain": [
       "            transport_mode  total_count  modal_split\n",
       "0  komunikacja samochodowa     12362723    39.313819\n",
       "1     komunikacja zbiorowa      9880738    31.421034\n",
       "2                   pieszo      6364737    20.240049\n",
       "3                    rower      2838055     9.025098"
      ],
      "text/html": "<div>\n<style scoped>\n    .dataframe tbody tr th:only-of-type {\n        vertical-align: middle;\n    }\n\n    .dataframe tbody tr th {\n        vertical-align: top;\n    }\n\n    .dataframe thead th {\n        text-align: right;\n    }\n</style>\n<table border=\"1\" class=\"dataframe\">\n  <thead>\n    <tr style=\"text-align: right;\">\n      <th></th>\n      <th>transport_mode</th>\n      <th>total_count</th>\n      <th>modal_split</th>\n    </tr>\n  </thead>\n  <tbody>\n    <tr>\n      <th>0</th>\n      <td>komunikacja samochodowa</td>\n      <td>12362723</td>\n      <td>39.313819</td>\n    </tr>\n    <tr>\n      <th>1</th>\n      <td>komunikacja zbiorowa</td>\n      <td>9880738</td>\n      <td>31.421034</td>\n    </tr>\n    <tr>\n      <th>2</th>\n      <td>pieszo</td>\n      <td>6364737</td>\n      <td>20.240049</td>\n    </tr>\n    <tr>\n      <th>3</th>\n      <td>rower</td>\n      <td>2838055</td>\n      <td>9.025098</td>\n    </tr>\n  </tbody>\n</table>\n</div>"
     },
     "metadata": {},
     "execution_count": 136
    }
   ],
   "source": [
    "total_data_grouped = total_data.groupby(['transport_mode'])['total_count'].sum().reset_index()\n",
    "\n",
    "total_data_0_0_0 = total_data_grouped\n",
    "total_data_0_0_0['modal_split'] = total_data_0_0_0['total_count'] / total_data_0_0_0['total_count'].sum() * 100\n",
    "\n",
    "total_data_0_0_0"
   ]
  },
  {
   "source": [
    "## Scenario 0.3 0.3 0"
   ],
   "cell_type": "markdown",
   "metadata": {}
  },
  {
   "cell_type": "code",
   "execution_count": 141,
   "metadata": {},
   "outputs": [],
   "source": [
    "scenarios_dir = '../../data/processed/scenarios/'\n",
    "scenario_dir = 'scenarios_10_1_pub_trans_comfort_dist-up_0_3_pub_trans_punctuality_dist-up_0_3_household_cars_dist-down_0_0/'\n",
    "\n",
    "scenario_path = os.path.join(scenarios_dir, scenario_dir)"
   ]
  },
  {
   "cell_type": "code",
   "execution_count": 142,
   "metadata": {},
   "outputs": [
    {
     "output_type": "stream",
     "name": "stderr",
     "text": [
      "100%|██████████| 100/100 [00:20<00:00,  4.91it/s]\n"
     ]
    }
   ],
   "source": [
    "total_data = pd.DataFrame(columns=['transport_mode', 'total_count', 'modal_split'])\n",
    "\n",
    "for simulation_file in tqdm(os.listdir(scenario_path)):\n",
    "    if simulation_file.startswith('travels_results_'):\n",
    "        data = pd.read_csv(os.path.join(scenario_path, simulation_file))\n",
    "\n",
    "        transport_mode_vc = data['transport_mode'].value_counts().rename_axis('transport_mode').reset_index(name='total_count')\n",
    "        transport_mode_vc['modal_split'] = transport_mode_vc['total_count'] / transport_mode_vc['total_count'].sum() * 100\n",
    "\n",
    "        total_data = pd.concat([total_data, transport_mode_vc])\n",
    "\n",
    "\n",
    "var_map_dict = {\n",
    "    0: 'komunikacja samochodowa',\n",
    "    1: 'komunikacja zbiorowa',\n",
    "    2: 'pieszo',\n",
    "    3: 'rower',\n",
    "}\n",
    "\n",
    "total_data.replace({'transport_mode': var_map_dict}, inplace=True)\n",
    "\n",
    "total_data.reset_index(inplace=True)"
   ]
  },
  {
   "cell_type": "code",
   "execution_count": 143,
   "metadata": {},
   "outputs": [
    {
     "output_type": "stream",
     "name": "stdout",
     "text": [
      "komunikacja samochodowa\n0.08900713935566026\nkomunikacja zbiorowa\n0.08166558252994376\npieszo\n0.07062194552837282\nrower\n0.046044550296766296\n"
     ]
    }
   ],
   "source": [
    "transport_modes = list(total_data['transport_mode'].unique())\n",
    "\n",
    "for transport_mode in transport_modes:\n",
    "    print(transport_mode)\n",
    "    print(total_data[\n",
    "        total_data['transport_mode'] == transport_mode\n",
    "    ]['modal_split'].std(axis=0))"
   ]
  },
  {
   "cell_type": "code",
   "execution_count": 144,
   "metadata": {},
   "outputs": [
    {
     "output_type": "execute_result",
     "data": {
      "text/plain": [
       "            transport_mode  total_count  modal_split\n",
       "0  komunikacja samochodowa     11506820    36.607064\n",
       "1     komunikacja zbiorowa     10733408    34.146580\n",
       "2                   pieszo      6444110    20.500881\n",
       "3                    rower      2748994     8.745474"
      ],
      "text/html": "<div>\n<style scoped>\n    .dataframe tbody tr th:only-of-type {\n        vertical-align: middle;\n    }\n\n    .dataframe tbody tr th {\n        vertical-align: top;\n    }\n\n    .dataframe thead th {\n        text-align: right;\n    }\n</style>\n<table border=\"1\" class=\"dataframe\">\n  <thead>\n    <tr style=\"text-align: right;\">\n      <th></th>\n      <th>transport_mode</th>\n      <th>total_count</th>\n      <th>modal_split</th>\n    </tr>\n  </thead>\n  <tbody>\n    <tr>\n      <th>0</th>\n      <td>komunikacja samochodowa</td>\n      <td>11506820</td>\n      <td>36.607064</td>\n    </tr>\n    <tr>\n      <th>1</th>\n      <td>komunikacja zbiorowa</td>\n      <td>10733408</td>\n      <td>34.146580</td>\n    </tr>\n    <tr>\n      <th>2</th>\n      <td>pieszo</td>\n      <td>6444110</td>\n      <td>20.500881</td>\n    </tr>\n    <tr>\n      <th>3</th>\n      <td>rower</td>\n      <td>2748994</td>\n      <td>8.745474</td>\n    </tr>\n  </tbody>\n</table>\n</div>"
     },
     "metadata": {},
     "execution_count": 144
    }
   ],
   "source": [
    "total_data_grouped = total_data.groupby(['transport_mode'])['total_count'].sum().reset_index()\n",
    "\n",
    "total_data_3_3_0 = total_data_grouped\n",
    "total_data_3_3_0['modal_split'] = total_data_3_3_0['total_count'] / total_data_3_3_0['total_count'].sum() * 100\n",
    "\n",
    "total_data_3_3_0"
   ]
  },
  {
   "source": [
    "## Scenario 0 0 0.3"
   ],
   "cell_type": "markdown",
   "metadata": {}
  },
  {
   "cell_type": "code",
   "execution_count": 145,
   "metadata": {},
   "outputs": [],
   "source": [
    "scenarios_dir = '../../data/processed/scenarios/'\n",
    "scenario_dir = 'scenarios_2_1_pub_trans_comfort_dist-up_0_0_pub_trans_punctuality_dist-up_0_0_household_cars_dist-down_0_3/'\n",
    "\n",
    "scenario_path = os.path.join(scenarios_dir, scenario_dir)"
   ]
  },
  {
   "cell_type": "code",
   "execution_count": 146,
   "metadata": {},
   "outputs": [
    {
     "output_type": "stream",
     "name": "stderr",
     "text": [
      "100%|██████████| 100/100 [00:20<00:00,  4.95it/s]\n"
     ]
    }
   ],
   "source": [
    "total_data = pd.DataFrame(columns=['transport_mode', 'total_count', 'modal_split'])\n",
    "\n",
    "for simulation_file in tqdm(os.listdir(scenario_path)):\n",
    "    if simulation_file.startswith('travels_results_'):\n",
    "        data = pd.read_csv(os.path.join(scenario_path, simulation_file))\n",
    "\n",
    "        transport_mode_vc = data['transport_mode'].value_counts().rename_axis('transport_mode').reset_index(name='total_count')\n",
    "        transport_mode_vc['modal_split'] = transport_mode_vc['total_count'] / transport_mode_vc['total_count'].sum() * 100\n",
    "\n",
    "        total_data = pd.concat([total_data, transport_mode_vc])\n",
    "\n",
    "\n",
    "var_map_dict = {\n",
    "    0: 'komunikacja samochodowa',\n",
    "    1: 'komunikacja zbiorowa',\n",
    "    2: 'pieszo',\n",
    "    3: 'rower',\n",
    "}\n",
    "\n",
    "total_data.replace({'transport_mode': var_map_dict}, inplace=True)\n",
    "\n",
    "total_data.reset_index(inplace=True)"
   ]
  },
  {
   "cell_type": "code",
   "execution_count": 147,
   "metadata": {},
   "outputs": [
    {
     "output_type": "stream",
     "name": "stdout",
     "text": [
      "komunikacja zbiorowa\n0.07688851904994906\nkomunikacja samochodowa\n0.08437993544355891\npieszo\n0.07222312904478517\nrower\n0.04307761010030198\n"
     ]
    }
   ],
   "source": [
    "transport_modes = list(total_data['transport_mode'].unique())\n",
    "\n",
    "for transport_mode in transport_modes:\n",
    "    print(transport_mode)\n",
    "    print(total_data[\n",
    "        total_data['transport_mode'] == transport_mode\n",
    "    ]['modal_split'].std(axis=0))"
   ]
  },
  {
   "cell_type": "code",
   "execution_count": 148,
   "metadata": {},
   "outputs": [
    {
     "output_type": "execute_result",
     "data": {
      "text/plain": [
       "            transport_mode  total_count  modal_split\n",
       "0  komunikacja samochodowa     10539424    33.523908\n",
       "1     komunikacja zbiorowa     10926328    34.754577\n",
       "2                   pieszo      6773475    21.545139\n",
       "3                    rower      3199303    10.176376"
      ],
      "text/html": "<div>\n<style scoped>\n    .dataframe tbody tr th:only-of-type {\n        vertical-align: middle;\n    }\n\n    .dataframe tbody tr th {\n        vertical-align: top;\n    }\n\n    .dataframe thead th {\n        text-align: right;\n    }\n</style>\n<table border=\"1\" class=\"dataframe\">\n  <thead>\n    <tr style=\"text-align: right;\">\n      <th></th>\n      <th>transport_mode</th>\n      <th>total_count</th>\n      <th>modal_split</th>\n    </tr>\n  </thead>\n  <tbody>\n    <tr>\n      <th>0</th>\n      <td>komunikacja samochodowa</td>\n      <td>10539424</td>\n      <td>33.523908</td>\n    </tr>\n    <tr>\n      <th>1</th>\n      <td>komunikacja zbiorowa</td>\n      <td>10926328</td>\n      <td>34.754577</td>\n    </tr>\n    <tr>\n      <th>2</th>\n      <td>pieszo</td>\n      <td>6773475</td>\n      <td>21.545139</td>\n    </tr>\n    <tr>\n      <th>3</th>\n      <td>rower</td>\n      <td>3199303</td>\n      <td>10.176376</td>\n    </tr>\n  </tbody>\n</table>\n</div>"
     },
     "metadata": {},
     "execution_count": 148
    }
   ],
   "source": [
    "total_data_grouped = total_data.groupby(['transport_mode'])['total_count'].sum().reset_index()\n",
    "\n",
    "total_data_0_0_3 = total_data_grouped\n",
    "total_data_0_0_3['modal_split'] = total_data_0_0_3['total_count'] / total_data_0_0_3['total_count'].sum() * 100\n",
    "\n",
    "total_data_0_0_3"
   ]
  },
  {
   "cell_type": "code",
   "execution_count": null,
   "metadata": {},
   "outputs": [],
   "source": []
  }
 ]
}