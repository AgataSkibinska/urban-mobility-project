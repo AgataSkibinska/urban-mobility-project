{
 "metadata": {
  "language_info": {
   "codemirror_mode": {
    "name": "ipython",
    "version": 3
   },
   "file_extension": ".py",
   "mimetype": "text/x-python",
   "name": "python",
   "nbconvert_exporter": "python",
   "pygments_lexer": "ipython3",
   "version": "3.8.2-final"
  },
  "orig_nbformat": 2,
  "kernelspec": {
   "name": "python3",
   "display_name": "Python 3",
   "language": "python"
  }
 },
 "nbformat": 4,
 "nbformat_minor": 2,
 "cells": [
  {
   "cell_type": "code",
   "execution_count": 5,
   "metadata": {},
   "outputs": [],
   "source": [
    "import json\n",
    "import os\n",
    "import statistics\n",
    "\n",
    "import numpy as np\n",
    "import pandas as pd\n",
    "from tqdm import tqdm\n",
    "\n",
    "tqdm.pandas()\n",
    "pd.options.display.max_columns = None"
   ]
  },
  {
   "cell_type": "code",
   "execution_count": 6,
   "metadata": {},
   "outputs": [],
   "source": [
    "scenarios_dir = '../../data/processed/scenarios/'\n",
    "scenario_dir = 'scenarios_1_1_pub_trans_comfort_dist-up_0_0_pub_trans_punctuality_dist-up_0_0_household_cars_dist-down_0_0/'\n",
    "\n",
    "scenario_path = os.path.join(scenarios_dir, scenario_dir)"
   ]
  },
  {
   "cell_type": "code",
   "execution_count": 7,
   "metadata": {},
   "outputs": [
    {
     "output_type": "execute_result",
     "data": {
      "text/plain": [
       "   Step  AgentID  agent_id  home_region  age_sex  pub_trans_comfort  \\\n",
       "0     0        0         0          184   61-x_K                3.0   \n",
       "1     0        1         1          195  45-60_K                2.0   \n",
       "2     0        2         2           68      0-5                NaN   \n",
       "3     0        3         3          160  16-19_M                3.0   \n",
       "4     0        4         4          261  45-65_M                3.0   \n",
       "\n",
       "   pub_trans_punctuality  bicycle_infrastr_comfort  pedestrian_inconvenience  \\\n",
       "0                    4.0                       2.0                       0.0   \n",
       "1                    2.0                       2.0                       3.0   \n",
       "2                    NaN                       NaN                       NaN   \n",
       "3                    2.0                       3.0                       1.0   \n",
       "4                    2.0                       2.0                       0.0   \n",
       "\n",
       "   household_persons  household_cars  household_bicycles  travels_num  \n",
       "0                3.0             0.0                 2.0            0  \n",
       "1                3.0             0.0                 3.0            2  \n",
       "2                NaN             NaN                 NaN            0  \n",
       "3                3.0             1.0                 3.0            2  \n",
       "4                2.0             1.0                 2.0            0  "
      ],
      "text/html": "<div>\n<style scoped>\n    .dataframe tbody tr th:only-of-type {\n        vertical-align: middle;\n    }\n\n    .dataframe tbody tr th {\n        vertical-align: top;\n    }\n\n    .dataframe thead th {\n        text-align: right;\n    }\n</style>\n<table border=\"1\" class=\"dataframe\">\n  <thead>\n    <tr style=\"text-align: right;\">\n      <th></th>\n      <th>Step</th>\n      <th>AgentID</th>\n      <th>agent_id</th>\n      <th>home_region</th>\n      <th>age_sex</th>\n      <th>pub_trans_comfort</th>\n      <th>pub_trans_punctuality</th>\n      <th>bicycle_infrastr_comfort</th>\n      <th>pedestrian_inconvenience</th>\n      <th>household_persons</th>\n      <th>household_cars</th>\n      <th>household_bicycles</th>\n      <th>travels_num</th>\n    </tr>\n  </thead>\n  <tbody>\n    <tr>\n      <th>0</th>\n      <td>0</td>\n      <td>0</td>\n      <td>0</td>\n      <td>184</td>\n      <td>61-x_K</td>\n      <td>3.0</td>\n      <td>4.0</td>\n      <td>2.0</td>\n      <td>0.0</td>\n      <td>3.0</td>\n      <td>0.0</td>\n      <td>2.0</td>\n      <td>0</td>\n    </tr>\n    <tr>\n      <th>1</th>\n      <td>0</td>\n      <td>1</td>\n      <td>1</td>\n      <td>195</td>\n      <td>45-60_K</td>\n      <td>2.0</td>\n      <td>2.0</td>\n      <td>2.0</td>\n      <td>3.0</td>\n      <td>3.0</td>\n      <td>0.0</td>\n      <td>3.0</td>\n      <td>2</td>\n    </tr>\n    <tr>\n      <th>2</th>\n      <td>0</td>\n      <td>2</td>\n      <td>2</td>\n      <td>68</td>\n      <td>0-5</td>\n      <td>NaN</td>\n      <td>NaN</td>\n      <td>NaN</td>\n      <td>NaN</td>\n      <td>NaN</td>\n      <td>NaN</td>\n      <td>NaN</td>\n      <td>0</td>\n    </tr>\n    <tr>\n      <th>3</th>\n      <td>0</td>\n      <td>3</td>\n      <td>3</td>\n      <td>160</td>\n      <td>16-19_M</td>\n      <td>3.0</td>\n      <td>2.0</td>\n      <td>3.0</td>\n      <td>1.0</td>\n      <td>3.0</td>\n      <td>1.0</td>\n      <td>3.0</td>\n      <td>2</td>\n    </tr>\n    <tr>\n      <th>4</th>\n      <td>0</td>\n      <td>4</td>\n      <td>4</td>\n      <td>261</td>\n      <td>45-65_M</td>\n      <td>3.0</td>\n      <td>2.0</td>\n      <td>2.0</td>\n      <td>0.0</td>\n      <td>2.0</td>\n      <td>1.0</td>\n      <td>2.0</td>\n      <td>0</td>\n    </tr>\n  </tbody>\n</table>\n</div>"
     },
     "metadata": {},
     "execution_count": 7
    }
   ],
   "source": [
    "agents_examp = pd.read_csv(os.path.join(scenario_path, 'agents_results_1.csv'))\n",
    "\n",
    "agents_examp.head()"
   ]
  },
  {
   "cell_type": "code",
   "execution_count": 8,
   "metadata": {},
   "outputs": [
    {
     "output_type": "execute_result",
     "data": {
      "text/plain": [
       "   agent_id  start_region start_place_type  dest_region dest_place_type  \\\n",
       "0         1           195              dom          195            inne   \n",
       "1         1           195             inne          195             dom   \n",
       "2         3           160              dom          135          szkola   \n",
       "3         3           135           szkola          160             dom   \n",
       "4         5           205              dom          139            inne   \n",
       "\n",
       "   travel_start_time  transport_mode  is_driver  \n",
       "0                787               2        NaN  \n",
       "1                797               2        NaN  \n",
       "2                468               1        NaN  \n",
       "3                478               1        NaN  \n",
       "4               1099               0        0.0  "
      ],
      "text/html": "<div>\n<style scoped>\n    .dataframe tbody tr th:only-of-type {\n        vertical-align: middle;\n    }\n\n    .dataframe tbody tr th {\n        vertical-align: top;\n    }\n\n    .dataframe thead th {\n        text-align: right;\n    }\n</style>\n<table border=\"1\" class=\"dataframe\">\n  <thead>\n    <tr style=\"text-align: right;\">\n      <th></th>\n      <th>agent_id</th>\n      <th>start_region</th>\n      <th>start_place_type</th>\n      <th>dest_region</th>\n      <th>dest_place_type</th>\n      <th>travel_start_time</th>\n      <th>transport_mode</th>\n      <th>is_driver</th>\n    </tr>\n  </thead>\n  <tbody>\n    <tr>\n      <th>0</th>\n      <td>1</td>\n      <td>195</td>\n      <td>dom</td>\n      <td>195</td>\n      <td>inne</td>\n      <td>787</td>\n      <td>2</td>\n      <td>NaN</td>\n    </tr>\n    <tr>\n      <th>1</th>\n      <td>1</td>\n      <td>195</td>\n      <td>inne</td>\n      <td>195</td>\n      <td>dom</td>\n      <td>797</td>\n      <td>2</td>\n      <td>NaN</td>\n    </tr>\n    <tr>\n      <th>2</th>\n      <td>3</td>\n      <td>160</td>\n      <td>dom</td>\n      <td>135</td>\n      <td>szkola</td>\n      <td>468</td>\n      <td>1</td>\n      <td>NaN</td>\n    </tr>\n    <tr>\n      <th>3</th>\n      <td>3</td>\n      <td>135</td>\n      <td>szkola</td>\n      <td>160</td>\n      <td>dom</td>\n      <td>478</td>\n      <td>1</td>\n      <td>NaN</td>\n    </tr>\n    <tr>\n      <th>4</th>\n      <td>5</td>\n      <td>205</td>\n      <td>dom</td>\n      <td>139</td>\n      <td>inne</td>\n      <td>1099</td>\n      <td>0</td>\n      <td>0.0</td>\n    </tr>\n  </tbody>\n</table>\n</div>"
     },
     "metadata": {},
     "execution_count": 8
    }
   ],
   "source": [
    "travels_examp = pd.read_csv(os.path.join(scenario_path, 'travels_results_1.csv'), index_col=0)\n",
    "\n",
    "travels_examp.head()"
   ]
  },
  {
   "cell_type": "code",
   "execution_count": 9,
   "metadata": {},
   "outputs": [
    {
     "output_type": "execute_result",
     "data": {
      "text/plain": [
       "(944739, 8)"
      ]
     },
     "metadata": {},
     "execution_count": 9
    }
   ],
   "source": [
    "travels_examp.shape"
   ]
  },
  {
   "cell_type": "code",
   "execution_count": 10,
   "metadata": {},
   "outputs": [],
   "source": [
    "# {\n",
    "#     ‘grupa_wiek_plec’: {\n",
    "# \t\t‘modal_split’: {\n",
    "# \t\t\t‘komunikacja’: {\n",
    "#                 średnia: średnia liczba przejazdów komunikacją,\n",
    "#                 ‘std’: wartość\n",
    "#             }\n",
    "# \t\t\t‘auta_kierowca’: jw\n",
    "# \t\t\t‘auta_nie_kierowca’: jw\n",
    "# \t\t\titd.\n",
    "# \t\t},\n",
    "# \t\t‘rozklad na cele podrozy’: {\n",
    "# \t\t\t‘dom’: {\n",
    "#                 ‘średnia’: średnia liczba podróży do domu\n",
    "#                 ‘std’: std:\n",
    "#             }\n",
    "# \t\t\titd.\n",
    "# \t\t},\n",
    "# \t\t‘liczba podróży’: {\n",
    "#             średnia\n",
    "#         },\n",
    "#         pub_trans_comfort: {\n",
    "#             średnia ocena\n",
    "#         },\n",
    "#         pub_trans_punctuality: {\n",
    "#             średnia ocena\n",
    "#         },\n",
    "#         bicycle_infrastr_comfort: {\n",
    "#             średnia ocena\n",
    "#         },\n",
    "#         pedestrian_inconvenience: {\n",
    "#             średnia\n",
    "#         },\n",
    "#         household_persons: {\n",
    "#             średnia\n",
    "#         },\n",
    "#         household_cars: {\n",
    "#             średnia\n",
    "#         },\n",
    "#         household_bicycles: {\n",
    "#             średnia\n",
    "#         }\n",
    "# \t}\n",
    "# }"
   ]
  },
  {
   "source": [
    "## Automa"
   ],
   "cell_type": "markdown",
   "metadata": {}
  },
  {
   "cell_type": "code",
   "execution_count": 11,
   "metadata": {},
   "outputs": [],
   "source": [
    "scenarios_dir = '../../data/processed/scenarios/'\n",
    "\n",
    "# 0 0 0\n",
    "# scenario_dir = 'scenarios_1_1_pub_trans_comfort_dist-up_0_0_pub_trans_punctuality_dist-up_0_0_household_cars_dist-down_0_0/'\n",
    "# out_file = 'asc_scenario_0_0_0.json'\n",
    "\n",
    "# 0 0 3\n",
    "# scenario_dir = 'scenarios_2_1_pub_trans_comfort_dist-up_0_0_pub_trans_punctuality_dist-up_0_0_household_cars_dist-down_0_3/'\n",
    "# out_file = 'asc_scenario_0_0_3.json'\n",
    "\n",
    "# 3 3 0\n",
    "# scenario_dir = 'scenarios_10_1_pub_trans_comfort_dist-up_0_3_pub_trans_punctuality_dist-up_0_3_household_cars_dist-down_0_0/'\n",
    "# out_file = 'asc_scenario_3_3_0.json'\n",
    "\n",
    "# 3 3 3\n",
    "# scenario_dir = 'scenarios_11_1_pub_trans_comfort_dist-up_0_3_pub_trans_punctuality_dist-up_0_3_household_cars_dist-down_0_3/'\n",
    "# out_file = 'asc_scenario_3_3_3.json'\n",
    "\n",
    "# 3 3 15\n",
    "scenario_dir = 'scenarios_2_1_pub_trans_comfort_dist-up_0_3_pub_trans_punctuality_dist-up_0_3_household_cars_dist-down_0_15/'\n",
    "out_file = 'asc_scenario_3_3_15.json'\n",
    "\n",
    "# 0 0 15\n",
    "# scenario_dir = 'scenarios_9_1_pub_trans_comfort_dist-up_0_0_pub_trans_punctuality_dist-up_0_0_household_cars_dist-down_0_15/'\n",
    "# out_file = 'asc_scenario_0_0_15.json'\n",
    "\n",
    "# 15 15 0\n",
    "# scenario_dir = 'scenarios_5_1_pub_trans_comfort_dist-up_0_15_pub_trans_punctuality_dist-up_0_15_household_cars_dist-down_0_0/'\n",
    "# out_file = 'asc_scenario_15_15_0.json'\n",
    "\n",
    "# 15 15 15\n",
    "# scenario_dir = 'scenarios_6_1_pub_trans_comfort_dist-up_0_15_pub_trans_punctuality_dist-up_0_15_household_cars_dist-down_0_15/'\n",
    "# out_file = 'asc_scenario_15_15_15.json'\n",
    "\n",
    "# 15 15 3\n",
    "# scenario_dir = 'scenarios_1_1_pub_trans_comfort_dist-up_0_15_pub_trans_punctuality_dist-up_0_15_household_cars_dist-down_0_3/'\n",
    "# out_file = 'asc_scenario_15_15_3.json'\n",
    "\n",
    "scenario_path = os.path.join(scenarios_dir, scenario_dir)"
   ]
  },
  {
   "cell_type": "code",
   "execution_count": 12,
   "metadata": {},
   "outputs": [
    {
     "output_type": "execute_result",
     "data": {
      "text/plain": [
       "100"
      ]
     },
     "metadata": {},
     "execution_count": 12
    }
   ],
   "source": [
    "simulations_files = [f for f in os.listdir(scenario_path) if f.startswith(('agents_results_', 'travels_results_'))]\n",
    "num_simulations = int(len(simulations_files) / 2)\n",
    "\n",
    "num_simulations"
   ]
  },
  {
   "cell_type": "code",
   "execution_count": 13,
   "metadata": {},
   "outputs": [],
   "source": [
    "unique_age_sex = [\n",
    "    '6-15_K',\n",
    "    '6-15_M',\n",
    "    '16-19_K',\n",
    "    '16-19_M',\n",
    "    '20-24_K',\n",
    "    '20-24_M',\n",
    "    '25-44_K',\n",
    "    '25-44_M',\n",
    "    '45-60_K',\n",
    "    '45-65_M',\n",
    "    '61-x_K',\n",
    "    '66-x_M'\n",
    "]\n",
    "\n",
    "unique_transport_mode = [\n",
    "    'car_driver',\n",
    "    'car_passenger',\n",
    "    'public',\n",
    "    'pedestrian',\n",
    "    'bicycle'\n",
    "]\n",
    "\n",
    "unique_dest_place_type = [\n",
    "    'dom', \n",
    "    'inne', \n",
    "    'praca', \n",
    "    'szkola', \n",
    "    'uczelnia'\n",
    "]\n",
    "\n",
    "other_params = [\n",
    "    'travels_num',\n",
    "    'pub_trans_comfort',\n",
    "    'pub_trans_punctuality',\n",
    "    'bicycle_infrastr_comfort',\n",
    "    'pedestrian_inconvenience',\n",
    "    'household_persons',\n",
    "    'household_cars',\n",
    "    'household_bicycles'\n",
    "]\n",
    "\n",
    "statistics = [\n",
    "    'mean', \n",
    "    'std',\n",
    "    'median',\n",
    "    'list'\n",
    "]\n",
    "\n",
    "\n",
    "json_dict = {}\n",
    "\n",
    "for age_sex_comb in unique_age_sex:\n",
    "    json_dict[age_sex_comb] = {}\n",
    "\n",
    "    json_dict[age_sex_comb]['modal_split'] = {}\n",
    "    for tm in unique_transport_mode:\n",
    "        json_dict[age_sex_comb]['modal_split'][tm] = {}\n",
    "        for stat in statistics:\n",
    "            json_dict[age_sex_comb]['modal_split'][tm][stat] = []\n",
    "    \n",
    "    json_dict[age_sex_comb]['dest_place_type'] = {}\n",
    "    for dpt in unique_dest_place_type:\n",
    "        json_dict[age_sex_comb]['dest_place_type'][dpt] = {}\n",
    "        for stat in statistics:\n",
    "            json_dict[age_sex_comb]['dest_place_type'][dpt][stat] = []\n",
    "    \n",
    "    for param in other_params:\n",
    "        json_dict[age_sex_comb][param] = {}\n",
    "        for stat in statistics:\n",
    "            json_dict[age_sex_comb][param][stat] = []"
   ]
  },
  {
   "cell_type": "code",
   "execution_count": 14,
   "metadata": {},
   "outputs": [],
   "source": [
    "def transport_mode_count(df_travels, age_sex_comb, tm):\n",
    "    if tm.startswith('car_'):\n",
    "        if tm == 'car_driver':\n",
    "            transport_mode = 0\n",
    "            is_driver = 1.0\n",
    "        else:\n",
    "            transport_mode = 0\n",
    "            is_driver = 0.0\n",
    "\n",
    "        count = df_travels[\n",
    "            (df_travels['age_sex'] == age_sex_comb) &\n",
    "            (df_travels['transport_mode'] == transport_mode) &\n",
    "            (df_travels['is_driver'] == is_driver)\n",
    "        ].shape[0]\n",
    "    else:\n",
    "        if tm == 'public':\n",
    "            transport_mode = 1\n",
    "        elif tm == 'pedestrian':\n",
    "            transport_mode = 2\n",
    "        elif tm == 'bicycle':\n",
    "            transport_mode = 3\n",
    "        else:\n",
    "            transport_mode = -1\n",
    "        \n",
    "        count = df_travels[\n",
    "            (df_travels['age_sex'] == age_sex_comb) &\n",
    "            (df_travels['transport_mode'] == transport_mode)\n",
    "        ].shape[0]\n",
    "    \n",
    "    return count\n",
    "\n",
    "\n",
    "def dest_place_type_count(df_travels, age_sex_comb, dpt):\n",
    "    count = df_travels[\n",
    "        (df_travels['age_sex'] == age_sex_comb) &\n",
    "        (df_travels['dest_place_type'] == dpt)\n",
    "    ].shape[0]\n",
    "    \n",
    "    return count\n",
    "\n",
    "\n",
    "def get_travels_num(df_travels, age_sex_comb):\n",
    "    count = df_travels[\n",
    "        df_travels['age_sex'] == age_sex_comb\n",
    "    ].shape[0]\n",
    "    \n",
    "    return count\n",
    "\n",
    "\n",
    "def get_avg_param(df_agents, age_sex_comb, param):\n",
    "    df_agents_filtred = df_agents[\n",
    "        df_travels['age_sex'] == age_sex_comb\n",
    "    ]\n",
    "    avg = df_agents_filtred[param].mean()\n",
    "\n",
    "    return avg"
   ]
  },
  {
   "cell_type": "code",
   "execution_count": 15,
   "metadata": {},
   "outputs": [
    {
     "output_type": "stream",
     "name": "stderr",
     "text": [
      "100%|██████████| 100/100 [36:05<00:00, 21.65s/it]\n"
     ]
    }
   ],
   "source": [
    "simulations_files = [f for f in os.listdir(scenario_path) if f.startswith(('agents_results_', 'travels_results_'))]\n",
    "num_simulations = int(len(simulations_files) / 2)\n",
    "\n",
    "# for simulation in tqdm(range(1, 3)):\n",
    "for simulation in tqdm(range(1, num_simulations+1)):\n",
    "    agents_file = 'agents_results_' + str(simulation) + '.csv'\n",
    "    travels_file = 'travels_results_' + str(simulation) + '.csv'\n",
    "    df_agents = pd.read_csv(os.path.join(scenario_path, agents_file))\n",
    "    df_travels = pd.read_csv(os.path.join(scenario_path, travels_file), index_col=0)\n",
    "\n",
    "    df_travels = pd.merge(df_travels, df_agents[['agent_id','age_sex']], on='agent_id', how='left') # left - means agents who have not attempted to travel do not exist in this df\n",
    "\n",
    "    for age_sex_comb in unique_age_sex:\n",
    "        for tm in unique_transport_mode:\n",
    "            count = transport_mode_count(df_travels, age_sex_comb, tm)\n",
    "            for stat in statistics:\n",
    "                json_dict[age_sex_comb]['modal_split'][tm][stat].append(count)\n",
    "        \n",
    "        for dpt in unique_dest_place_type:\n",
    "            count = dest_place_type_count(df_travels, age_sex_comb, dpt)\n",
    "            for stat in statistics:\n",
    "                json_dict[age_sex_comb]['dest_place_type'][dpt][stat].append(count)\n",
    "        \n",
    "        for param in other_params:\n",
    "            if param == 'travels_num':\n",
    "                count = get_travels_num(df_travels, age_sex_comb)\n",
    "                for stat in statistics:\n",
    "                    json_dict[age_sex_comb][param][stat].append(count)\n",
    "            else:\n",
    "                avg = get_avg_param(df_agents, age_sex_comb, param)\n",
    "                for stat in statistics:\n",
    "                    json_dict[age_sex_comb][param][stat].append(avg)"
   ]
  },
  {
   "cell_type": "code",
   "execution_count": 16,
   "metadata": {},
   "outputs": [
    {
     "output_type": "stream",
     "name": "stderr",
     "text": [
      "100%|██████████| 12/12 [00:00<00:00, 47.24it/s]\n"
     ]
    }
   ],
   "source": [
    "import statistics\n",
    "\n",
    "for age_sex_comb in tqdm(unique_age_sex):\n",
    "    for tm in unique_transport_mode:\n",
    "        json_dict[age_sex_comb]['modal_split'][tm]['mean'] = statistics.mean(json_dict[age_sex_comb]['modal_split'][tm]['mean'])\n",
    "        json_dict[age_sex_comb]['modal_split'][tm]['std'] = statistics.stdev(json_dict[age_sex_comb]['modal_split'][tm]['std'])\n",
    "        json_dict[age_sex_comb]['modal_split'][tm]['median'] = statistics.median(json_dict[age_sex_comb]['modal_split'][tm]['median'])\n",
    "    \n",
    "    for dpt in unique_dest_place_type:\n",
    "        json_dict[age_sex_comb]['dest_place_type'][dpt]['mean'] = statistics.mean(json_dict[age_sex_comb]['dest_place_type'][dpt]['mean'])\n",
    "        json_dict[age_sex_comb]['dest_place_type'][dpt]['std'] = statistics.stdev(json_dict[age_sex_comb]['dest_place_type'][dpt]['std'])\n",
    "        json_dict[age_sex_comb]['dest_place_type'][dpt]['median'] = statistics.median(json_dict[age_sex_comb]['dest_place_type'][dpt]['median'])\n",
    "    \n",
    "    for param in other_params:\n",
    "        json_dict[age_sex_comb][param]['mean'] = statistics.mean(json_dict[age_sex_comb][param]['mean'])\n",
    "        json_dict[age_sex_comb][param]['std'] = statistics.stdev(json_dict[age_sex_comb][param]['std'])\n",
    "        json_dict[age_sex_comb][param]['median'] = statistics.median(json_dict[age_sex_comb][param]['median'])"
   ]
  },
  {
   "cell_type": "code",
   "execution_count": 17,
   "metadata": {},
   "outputs": [],
   "source": [
    "# json_dict['6-15_K']"
   ]
  },
  {
   "cell_type": "code",
   "execution_count": 18,
   "metadata": {},
   "outputs": [],
   "source": [
    "out_dir = '../../data/processed/mc/scenarios'\n",
    "\n",
    "if not os.path.exists(out_dir):\n",
    "    os.makedirs(out_dir)"
   ]
  },
  {
   "cell_type": "code",
   "execution_count": 19,
   "metadata": {},
   "outputs": [],
   "source": [
    "out_path = os.path.join(out_dir, out_file)\n",
    "\n",
    "with open(out_path, 'w') as f:\n",
    "    json.dump(json_dict, f)"
   ]
  },
  {
   "cell_type": "code",
   "execution_count": null,
   "metadata": {},
   "outputs": [],
   "source": []
  }
 ]
}