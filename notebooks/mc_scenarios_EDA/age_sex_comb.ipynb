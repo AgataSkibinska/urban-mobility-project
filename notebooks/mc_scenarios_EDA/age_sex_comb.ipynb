{
 "metadata": {
  "language_info": {
   "codemirror_mode": {
    "name": "ipython",
    "version": 3
   },
   "file_extension": ".py",
   "mimetype": "text/x-python",
   "name": "python",
   "nbconvert_exporter": "python",
   "pygments_lexer": "ipython3",
   "version": "3.7.6-final"
  },
  "orig_nbformat": 2,
  "kernelspec": {
   "name": "python3",
   "display_name": "Python 3",
   "language": "python"
  }
 },
 "nbformat": 4,
 "nbformat_minor": 2,
 "cells": [
  {
   "cell_type": "code",
   "execution_count": 168,
   "metadata": {},
   "outputs": [],
   "source": [
    "import json\n",
    "import os\n",
    "import statistics\n",
    "\n",
    "import numpy as np\n",
    "import pandas as pd\n",
    "from tqdm import tqdm\n",
    "\n",
    "tqdm.pandas()\n",
    "pd.options.display.max_columns = None"
   ]
  },
  {
   "cell_type": "code",
   "execution_count": 15,
   "metadata": {},
   "outputs": [],
   "source": [
    "scenarios_dir = '../../data/processed/scenarios/'\n",
    "scenario_dir = 'scenarios_1_1_pub_trans_comfort_dist-up_0_0_pub_trans_punctuality_dist-up_0_0_household_cars_dist-down_0_0/'\n",
    "\n",
    "scenario_path = os.path.join(scenarios_dir, scenario_dir)"
   ]
  },
  {
   "cell_type": "code",
   "execution_count": 73,
   "metadata": {},
   "outputs": [
    {
     "output_type": "execute_result",
     "data": {
      "text/plain": [
       "   Step  AgentID  agent_id  home_region  age_sex  pub_trans_comfort  \\\n",
       "0     0        0         0          228  25-44_K                1.0   \n",
       "1     0        1         1           19  25-44_K                3.0   \n",
       "2     0        2         2          116   61-x_K                2.0   \n",
       "3     0        3         3            1  45-60_K                2.0   \n",
       "4     0        4         4           55  25-44_K                2.0   \n",
       "\n",
       "   pub_trans_punctuality  bicycle_infrastr_comfort  pedestrian_inconvenience  \\\n",
       "0                    2.0                       1.0                       0.0   \n",
       "1                    2.0                       4.0                       2.0   \n",
       "2                    3.0                       2.0                       2.0   \n",
       "3                    1.0                       3.0                       2.0   \n",
       "4                    0.0                       3.0                       0.0   \n",
       "\n",
       "   household_persons  household_cars  household_bicycles  travels_num  \n",
       "0                5.0             1.0                 4.0            2  \n",
       "1                1.0             1.0                 1.0            2  \n",
       "2                2.0             0.0                 0.0            2  \n",
       "3                3.0             1.0                 2.0            0  \n",
       "4                2.0             1.0                 0.0            2  "
      ],
      "text/html": "<div>\n<style scoped>\n    .dataframe tbody tr th:only-of-type {\n        vertical-align: middle;\n    }\n\n    .dataframe tbody tr th {\n        vertical-align: top;\n    }\n\n    .dataframe thead th {\n        text-align: right;\n    }\n</style>\n<table border=\"1\" class=\"dataframe\">\n  <thead>\n    <tr style=\"text-align: right;\">\n      <th></th>\n      <th>Step</th>\n      <th>AgentID</th>\n      <th>agent_id</th>\n      <th>home_region</th>\n      <th>age_sex</th>\n      <th>pub_trans_comfort</th>\n      <th>pub_trans_punctuality</th>\n      <th>bicycle_infrastr_comfort</th>\n      <th>pedestrian_inconvenience</th>\n      <th>household_persons</th>\n      <th>household_cars</th>\n      <th>household_bicycles</th>\n      <th>travels_num</th>\n    </tr>\n  </thead>\n  <tbody>\n    <tr>\n      <th>0</th>\n      <td>0</td>\n      <td>0</td>\n      <td>0</td>\n      <td>228</td>\n      <td>25-44_K</td>\n      <td>1.0</td>\n      <td>2.0</td>\n      <td>1.0</td>\n      <td>0.0</td>\n      <td>5.0</td>\n      <td>1.0</td>\n      <td>4.0</td>\n      <td>2</td>\n    </tr>\n    <tr>\n      <th>1</th>\n      <td>0</td>\n      <td>1</td>\n      <td>1</td>\n      <td>19</td>\n      <td>25-44_K</td>\n      <td>3.0</td>\n      <td>2.0</td>\n      <td>4.0</td>\n      <td>2.0</td>\n      <td>1.0</td>\n      <td>1.0</td>\n      <td>1.0</td>\n      <td>2</td>\n    </tr>\n    <tr>\n      <th>2</th>\n      <td>0</td>\n      <td>2</td>\n      <td>2</td>\n      <td>116</td>\n      <td>61-x_K</td>\n      <td>2.0</td>\n      <td>3.0</td>\n      <td>2.0</td>\n      <td>2.0</td>\n      <td>2.0</td>\n      <td>0.0</td>\n      <td>0.0</td>\n      <td>2</td>\n    </tr>\n    <tr>\n      <th>3</th>\n      <td>0</td>\n      <td>3</td>\n      <td>3</td>\n      <td>1</td>\n      <td>45-60_K</td>\n      <td>2.0</td>\n      <td>1.0</td>\n      <td>3.0</td>\n      <td>2.0</td>\n      <td>3.0</td>\n      <td>1.0</td>\n      <td>2.0</td>\n      <td>0</td>\n    </tr>\n    <tr>\n      <th>4</th>\n      <td>0</td>\n      <td>4</td>\n      <td>4</td>\n      <td>55</td>\n      <td>25-44_K</td>\n      <td>2.0</td>\n      <td>0.0</td>\n      <td>3.0</td>\n      <td>0.0</td>\n      <td>2.0</td>\n      <td>1.0</td>\n      <td>0.0</td>\n      <td>2</td>\n    </tr>\n  </tbody>\n</table>\n</div>"
     },
     "metadata": {},
     "execution_count": 73
    }
   ],
   "source": [
    "agents_examp = pd.read_csv(os.path.join(scenario_path, 'agents_results_1.csv'))\n",
    "\n",
    "agents_examp.head()"
   ]
  },
  {
   "cell_type": "code",
   "execution_count": 74,
   "metadata": {},
   "outputs": [
    {
     "output_type": "execute_result",
     "data": {
      "text/plain": [
       "   agent_id  start_region start_place_type  dest_region dest_place_type  \\\n",
       "0         0           228              dom          126           praca   \n",
       "1         0           126            praca          228             dom   \n",
       "2         1            19              dom            1            inne   \n",
       "3         1             1             inne           19             dom   \n",
       "4         2           116              dom          147            inne   \n",
       "\n",
       "   travel_start_time  transport_mode  is_driver  \n",
       "0               1219               0        1.0  \n",
       "1               1229               0        1.0  \n",
       "2                977               1        NaN  \n",
       "3                987               1        NaN  \n",
       "4                397               2        NaN  "
      ],
      "text/html": "<div>\n<style scoped>\n    .dataframe tbody tr th:only-of-type {\n        vertical-align: middle;\n    }\n\n    .dataframe tbody tr th {\n        vertical-align: top;\n    }\n\n    .dataframe thead th {\n        text-align: right;\n    }\n</style>\n<table border=\"1\" class=\"dataframe\">\n  <thead>\n    <tr style=\"text-align: right;\">\n      <th></th>\n      <th>agent_id</th>\n      <th>start_region</th>\n      <th>start_place_type</th>\n      <th>dest_region</th>\n      <th>dest_place_type</th>\n      <th>travel_start_time</th>\n      <th>transport_mode</th>\n      <th>is_driver</th>\n    </tr>\n  </thead>\n  <tbody>\n    <tr>\n      <th>0</th>\n      <td>0</td>\n      <td>228</td>\n      <td>dom</td>\n      <td>126</td>\n      <td>praca</td>\n      <td>1219</td>\n      <td>0</td>\n      <td>1.0</td>\n    </tr>\n    <tr>\n      <th>1</th>\n      <td>0</td>\n      <td>126</td>\n      <td>praca</td>\n      <td>228</td>\n      <td>dom</td>\n      <td>1229</td>\n      <td>0</td>\n      <td>1.0</td>\n    </tr>\n    <tr>\n      <th>2</th>\n      <td>1</td>\n      <td>19</td>\n      <td>dom</td>\n      <td>1</td>\n      <td>inne</td>\n      <td>977</td>\n      <td>1</td>\n      <td>NaN</td>\n    </tr>\n    <tr>\n      <th>3</th>\n      <td>1</td>\n      <td>1</td>\n      <td>inne</td>\n      <td>19</td>\n      <td>dom</td>\n      <td>987</td>\n      <td>1</td>\n      <td>NaN</td>\n    </tr>\n    <tr>\n      <th>4</th>\n      <td>2</td>\n      <td>116</td>\n      <td>dom</td>\n      <td>147</td>\n      <td>inne</td>\n      <td>397</td>\n      <td>2</td>\n      <td>NaN</td>\n    </tr>\n  </tbody>\n</table>\n</div>"
     },
     "metadata": {},
     "execution_count": 74
    }
   ],
   "source": [
    "travels_examp = pd.read_csv(os.path.join(scenario_path, 'travels_results_1.csv'), index_col=0)\n",
    "\n",
    "travels_examp.head()"
   ]
  },
  {
   "cell_type": "code",
   "execution_count": null,
   "metadata": {},
   "outputs": [],
   "source": [
    "{\n",
    "    ‘grupa_wiek_plec’: {\n",
    "\t\t‘modal_split’: {\n",
    "\t\t\t‘komunikacja’: {\n",
    "                średnia: średnia liczba przejazdów komunikacją,\n",
    "                ‘std’: wartość\n",
    "            }\n",
    "\t\t\t‘auta_kierowca’: jw\n",
    "\t\t\t‘auta_nie_kierowca’: jw\n",
    "\t\t\titd.\n",
    "\t\t},\n",
    "\t\t‘rozklad na cele podrozy’: {\n",
    "\t\t\t‘dom’: {\n",
    "                ‘średnia’: średnia liczba podróży do domu\n",
    "                ‘std’: std:\n",
    "            }\n",
    "\t\t\titd.\n",
    "\t\t},\n",
    "\t\t‘liczba podróży’: {\n",
    "            średnia\n",
    "        },\n",
    "        pub_trans_comfort: {\n",
    "            średnia ocena\n",
    "        },\n",
    "        pub_trans_punctuality: {\n",
    "            średnia ocena\n",
    "        },\n",
    "        bicycle_infrastr_comfort: {\n",
    "            średnia ocena\n",
    "        },\n",
    "        pedestrian_inconvenience: {\n",
    "            średnia\n",
    "        },\n",
    "        household_persons: {\n",
    "            średnia\n",
    "        },\n",
    "        household_cars: {\n",
    "            średnia\n",
    "        },\n",
    "        household_bicycles: {\n",
    "            średnia\n",
    "        }\n",
    "\t}\n",
    "}"
   ]
  },
  {
   "source": [
    "## Scenario 0 0 0 "
   ],
   "cell_type": "markdown",
   "metadata": {}
  },
  {
   "cell_type": "code",
   "execution_count": 140,
   "metadata": {},
   "outputs": [],
   "source": [
    "scenarios_dir = '../../data/processed/scenarios/'\n",
    "scenario_dir = 'scenarios_1_1_pub_trans_comfort_dist-up_0_0_pub_trans_punctuality_dist-up_0_0_household_cars_dist-down_0_0/'\n",
    "\n",
    "scenario_path = os.path.join(scenarios_dir, scenario_dir)"
   ]
  },
  {
   "cell_type": "code",
   "execution_count": 141,
   "metadata": {},
   "outputs": [
    {
     "output_type": "execute_result",
     "data": {
      "text/plain": [
       "50"
      ]
     },
     "metadata": {},
     "execution_count": 141
    }
   ],
   "source": [
    "simulations_files = [f for f in os.listdir(scenario_path) if f.startswith(('agents_results_', 'travels_results_'))]\n",
    "num_simulations = int(len(simulations_files) / 2)\n",
    "\n",
    "num_simulations"
   ]
  },
  {
   "cell_type": "code",
   "execution_count": 142,
   "metadata": {},
   "outputs": [],
   "source": [
    "unique_age_sex = [\n",
    "    '6-15_K',\n",
    "    '6-15_M',\n",
    "    '16-19_K',\n",
    "    '16-19_M',\n",
    "    '20-24_K',\n",
    "    '20-24_M',\n",
    "    '25-44_K',\n",
    "    '25-44_M',\n",
    "    '45-60_K',\n",
    "    '45-65_M',\n",
    "    '61-x_K',\n",
    "    '66-x_M'\n",
    "]\n",
    "\n",
    "unique_transport_mode = [\n",
    "    'car_driver',\n",
    "    'car_passenger',\n",
    "    'public',\n",
    "    'pedestrian',\n",
    "    'bicycle'\n",
    "]\n",
    "\n",
    "unique_dest_place_type = [\n",
    "    'dom', \n",
    "    'inne', \n",
    "    'praca', \n",
    "    'szkola', \n",
    "    'uczelnia'\n",
    "]\n",
    "\n",
    "other_params = [\n",
    "    'travels_num',\n",
    "    'pub_trans_comfort',\n",
    "    'pub_trans_punctuality',\n",
    "    'bicycle_infrastr_comfort',\n",
    "    'pedestrian_inconvenience',\n",
    "    'household_persons',\n",
    "    'household_cars',\n",
    "    'household_bicycles'\n",
    "]\n",
    "\n",
    "statistics = [\n",
    "    'mean', \n",
    "    'std'\n",
    "]\n",
    "\n",
    "\n",
    "json_dict = {}\n",
    "\n",
    "for age_sex_comb in unique_age_sex:\n",
    "    json_dict[age_sex_comb] = {}\n",
    "\n",
    "    json_dict[age_sex_comb]['modal_split'] = {}\n",
    "    for tm in unique_transport_mode:\n",
    "        json_dict[age_sex_comb]['modal_split'][tm] = {}\n",
    "        for stat in statistics:\n",
    "            json_dict[age_sex_comb]['modal_split'][tm][stat] = []\n",
    "    \n",
    "    json_dict[age_sex_comb]['dest_place_type'] = {}\n",
    "    for dpt in unique_dest_place_type:\n",
    "        json_dict[age_sex_comb]['dest_place_type'][dpt] = {}\n",
    "        for stat in statistics:\n",
    "            json_dict[age_sex_comb]['dest_place_type'][dpt][stat] = []\n",
    "    \n",
    "    for param in other_params:\n",
    "        json_dict[age_sex_comb][param] = {}\n",
    "        for stat in statistics:\n",
    "            json_dict[age_sex_comb][param][stat] = []"
   ]
  },
  {
   "cell_type": "code",
   "execution_count": 143,
   "metadata": {},
   "outputs": [],
   "source": [
    "def transport_mode_count(df_travels, age_sex_comb, tm):\n",
    "    if tm.startswith('car_'):\n",
    "        if tm == 'car_driver':\n",
    "            transport_mode = 0\n",
    "            is_driver = 1.0\n",
    "        else:\n",
    "            transport_mode = 0\n",
    "            is_driver = 0.0\n",
    "\n",
    "        count = df_travels[\n",
    "            (df_travels['age_sex'] == age_sex_comb) &\n",
    "            (df_travels['transport_mode'] == transport_mode) &\n",
    "            (df_travels['is_driver'] == is_driver)\n",
    "        ].shape[0]\n",
    "    else:\n",
    "        if tm == 'public':\n",
    "            transport_mode = 1\n",
    "        elif tm == 'pedestrian':\n",
    "            transport_mode = 2\n",
    "        elif tm == 'bicycle':\n",
    "            transport_mode = 3\n",
    "        else:\n",
    "            transport_mode = -1\n",
    "        \n",
    "        count = df_travels[\n",
    "            (df_travels['age_sex'] == age_sex_comb) &\n",
    "            (df_travels['transport_mode'] == transport_mode)\n",
    "        ].shape[0]\n",
    "    \n",
    "    return count\n",
    "\n",
    "\n",
    "def dest_place_type_count(df_travels, age_sex_comb, dpt):\n",
    "    count = df_travels[\n",
    "        (df_travels['age_sex'] == age_sex_comb) &\n",
    "        (df_travels['dest_place_type'] == dpt)\n",
    "    ].shape[0]\n",
    "    \n",
    "    return count\n",
    "\n",
    "\n",
    "def get_travels_num(df_travels, age_sex_comb):\n",
    "    count = df_travels[\n",
    "        df_travels['age_sex'] == age_sex_comb\n",
    "    ].shape[0]\n",
    "    \n",
    "    return count\n",
    "\n",
    "\n",
    "def get_avg_param(df_agents, age_sex_comb, param):\n",
    "    df_agents_filtred = df_agents[\n",
    "        df_travels['age_sex'] == age_sex_comb\n",
    "    ]\n",
    "    avg = df_agents_filtred[param].mean()\n",
    "\n",
    "    return avg"
   ]
  },
  {
   "cell_type": "code",
   "execution_count": 144,
   "metadata": {},
   "outputs": [
    {
     "output_type": "stream",
     "name": "stderr",
     "text": [
      "100%|██████████| 50/50 [10:11<00:00, 12.24s/it]\n"
     ]
    }
   ],
   "source": [
    "simulations_files = [f for f in os.listdir(scenario_path) if f.startswith(('agents_results_', 'travels_results_'))]\n",
    "num_simulations = int(len(simulations_files) / 2)\n",
    "\n",
    "# for simulation in tqdm(range(1, 3)):\n",
    "for simulation in tqdm(range(1, num_simulations+1)):\n",
    "    agents_file = 'agents_results_' + str(simulation) + '.csv'\n",
    "    travels_file = 'travels_results_' + str(simulation) + '.csv'\n",
    "    df_agents = pd.read_csv(os.path.join(scenario_path, agents_file))\n",
    "    df_travels = pd.read_csv(os.path.join(scenario_path, travels_file), index_col=0)\n",
    "\n",
    "    df_travels = pd.merge(df_travels, df_agents[['agent_id','age_sex']], on='agent_id', how='left') # left - means agents who have not attempted to travel do not exist in this df\n",
    "\n",
    "    for age_sex_comb in unique_age_sex:\n",
    "        for tm in unique_transport_mode:\n",
    "            count = transport_mode_count(df_travels, age_sex_comb, tm)\n",
    "            for stat in statistics:\n",
    "                json_dict[age_sex_comb]['modal_split'][tm][stat].append(count)\n",
    "        \n",
    "        for dpt in unique_dest_place_type:\n",
    "            count = dest_place_type_count(df_travels, age_sex_comb, dpt)\n",
    "            for stat in statistics:\n",
    "                json_dict[age_sex_comb]['dest_place_type'][dpt][stat].append(count)\n",
    "        \n",
    "        for param in other_params:\n",
    "            if param == 'travels_num':\n",
    "                count = get_travels_num(df_travels, age_sex_comb)\n",
    "                for stat in statistics:\n",
    "                    json_dict[age_sex_comb][param][stat].append(count)\n",
    "            else:\n",
    "                avg = get_avg_param(df_agents, age_sex_comb, param)\n",
    "                for stat in statistics:\n",
    "                    json_dict[age_sex_comb][param][stat].append(avg)"
   ]
  },
  {
   "cell_type": "code",
   "execution_count": 164,
   "metadata": {},
   "outputs": [
    {
     "output_type": "stream",
     "name": "stderr",
     "text": [
      "100%|██████████| 12/12 [00:00<00:00, 160.35it/s]\n"
     ]
    }
   ],
   "source": [
    "for age_sex_comb in tqdm(unique_age_sex):\n",
    "    for tm in unique_transport_mode:\n",
    "        json_dict[age_sex_comb]['modal_split'][tm]['mean'] = statistics.mean(json_dict[age_sex_comb]['modal_split'][tm]['mean'])\n",
    "        json_dict[age_sex_comb]['modal_split'][tm]['std'] = statistics.stdev(json_dict[age_sex_comb]['modal_split'][tm]['std'])\n",
    "    \n",
    "    for dpt in unique_dest_place_type:\n",
    "        json_dict[age_sex_comb]['dest_place_type'][dpt]['mean'] = statistics.mean(json_dict[age_sex_comb]['dest_place_type'][dpt]['mean'])\n",
    "        json_dict[age_sex_comb]['dest_place_type'][dpt]['std'] = statistics.stdev(json_dict[age_sex_comb]['dest_place_type'][dpt]['std'])\n",
    "    \n",
    "    for param in other_params:\n",
    "        json_dict[age_sex_comb][param]['mean'] = statistics.mean(json_dict[age_sex_comb][param]['mean'])\n",
    "        json_dict[age_sex_comb][param]['std'] = statistics.stdev(json_dict[age_sex_comb][param]['std'])"
   ]
  },
  {
   "cell_type": "code",
   "execution_count": 165,
   "metadata": {},
   "outputs": [
    {
     "output_type": "execute_result",
     "data": {
      "text/plain": [
       "{'modal_split': {'car_driver': {'mean': 0, 'std': 0.0},\n",
       "  'car_passenger': {'mean': 9751.28, 'std': 139.34233867327896},\n",
       "  'public': {'mean': 6932.94, 'std': 105.70471192169713},\n",
       "  'pedestrian': {'mean': 12078.8, 'std': 131.554287699964},\n",
       "  'bicycle': {'mean': 2737.1, 'std': 80.35844443390336}},\n",
       " 'dest_place_type': {'dom': {'mean': 15995.16, 'std': 111.52987336611311},\n",
       "  'inne': {'mean': 2349.56, 'std': 45.36750612767797},\n",
       "  'praca': {'mean': 62.22, 'std': 8.313475660096708},\n",
       "  'szkola': {'mean': 13029.9, 'std': 100.35371117671123},\n",
       "  'uczelnia': {'mean': 63.28, 'std': 9.833387524352004}},\n",
       " 'travels_num': {'mean': 31500.12, 'std': 218.6985288716233},\n",
       " 'pub_trans_comfort': {'mean': 2.6356936096937518,\n",
       "  'std': 0.005949268432362485},\n",
       " 'pub_trans_punctuality': {'mean': 2.5312508928600477,\n",
       "  'std': 0.0063625681958572565},\n",
       " 'bicycle_infrastr_comfort': {'mean': 2.6565470517229017,\n",
       "  'std': 0.005698577130883263},\n",
       " 'pedestrian_inconvenience': {'mean': 1.5314335902857876,\n",
       "  'std': 0.007245944776625515},\n",
       " 'household_persons': {'mean': 2.904985290151195, 'std': 0.011534304798656818},\n",
       " 'household_cars': {'mean': 1.048598419383145, 'std': 0.006066111253475336},\n",
       " 'household_bicycles': {'mean': 1.5357199776480404,\n",
       "  'std': 0.011536424868960811}}"
      ]
     },
     "metadata": {},
     "execution_count": 165
    }
   ],
   "source": [
    "json_dict['6-15_K']"
   ]
  },
  {
   "cell_type": "code",
   "execution_count": 166,
   "metadata": {},
   "outputs": [],
   "source": [
    "out_dir = '../../data/processed/mc/scenarios'\n",
    "\n",
    "if not os.path.exists(out_dir):\n",
    "    os.makedirs(out_dir)"
   ]
  },
  {
   "cell_type": "code",
   "execution_count": 169,
   "metadata": {},
   "outputs": [],
   "source": [
    "out_file = 'scenario_0_0_0.json'\n",
    "out_path = os.path.join(out_dir, out_file)\n",
    "\n",
    "with open(out_path, 'w') as f:\n",
    "    json.dump(json_dict, f)"
   ]
  },
  {
   "cell_type": "code",
   "execution_count": null,
   "metadata": {},
   "outputs": [],
   "source": []
  }
 ]
}