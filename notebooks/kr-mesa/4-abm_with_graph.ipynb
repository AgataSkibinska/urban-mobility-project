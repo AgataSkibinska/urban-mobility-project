{
 "metadata": {
  "language_info": {
   "codemirror_mode": {
    "name": "ipython",
    "version": 3
   },
   "file_extension": ".py",
   "mimetype": "text/x-python",
   "name": "python",
   "nbconvert_exporter": "python",
   "pygments_lexer": "ipython3",
   "version": "3.8.5-final"
  },
  "orig_nbformat": 2,
  "kernelspec": {
   "name": "python38564bitmobilityvenvvenvb8bc7019d78143fca132b66bd746cad0",
   "display_name": "Python 3.8.5 64-bit ('mobility_venv': venv)",
   "language": "python"
  }
 },
 "nbformat": 4,
 "nbformat_minor": 2,
 "cells": [
  {
   "cell_type": "code",
   "execution_count": 1,
   "metadata": {},
   "outputs": [],
   "source": [
    "import json\n",
    "from mesa import Agent, Model\n",
    "from mesa.time import RandomActivation, SimultaneousActivation\n",
    "import numpy as np\n",
    "import geopandas as gpd\n",
    "import contextily as ctx\n",
    "from mesa.datacollection import DataCollector\n",
    "import skmob\n",
    "import time\n",
    "from mesa.batchrunner import BatchRunnerMP\n",
    "import networkx as nx\n",
    "import pickle\n",
    "from tqdm import tqdm\n",
    "import osmnx as ox"
   ]
  },
  {
   "source": [
    "# Read jsons"
   ],
   "cell_type": "markdown",
   "metadata": {}
  },
  {
   "cell_type": "code",
   "execution_count": 2,
   "metadata": {},
   "outputs": [],
   "source": [
    "with open('population_dist.json') as f:\n",
    "  population_dist = json.load(f)"
   ]
  },
  {
   "cell_type": "code",
   "execution_count": 3,
   "metadata": {},
   "outputs": [],
   "source": [
    "with open('regions_num_dist.json') as f:\n",
    "  regions_num_dist = json.load(f)"
   ]
  },
  {
   "cell_type": "code",
   "execution_count": 4,
   "metadata": {},
   "outputs": [],
   "source": [
    "with open('travel_dist.json') as f:\n",
    "  travel_dist = json.load(f)"
   ]
  },
  {
   "cell_type": "code",
   "execution_count": 5,
   "metadata": {},
   "outputs": [],
   "source": [
    "with open('neighbors_dist.json') as f:\n",
    "  neighbors_dist = json.load(f)"
   ]
  },
  {
   "cell_type": "code",
   "execution_count": 6,
   "metadata": {},
   "outputs": [],
   "source": [
    "with open('region_nodes.json') as f:\n",
    "  region_nodes = json.load(f)"
   ]
  },
  {
   "cell_type": "code",
   "execution_count": 7,
   "metadata": {},
   "outputs": [],
   "source": [
    "with open('neighbors_dict.json') as f:\n",
    "  neighbors_dict = json.load(f)"
   ]
  },
  {
   "source": [
    "# Process distributions"
   ],
   "cell_type": "markdown",
   "metadata": {}
  },
  {
   "cell_type": "code",
   "execution_count": 8,
   "metadata": {},
   "outputs": [],
   "source": [
    "s = np.array(list(population_dist.values())).astype(int).sum()\n",
    "for key, value in population_dist.items():\n",
    "    population_dist[key] = int(population_dist[key]) / s"
   ]
  },
  {
   "cell_type": "code",
   "execution_count": 9,
   "metadata": {},
   "outputs": [],
   "source": [
    "for key, value in travel_dist.items():\n",
    "    s = travel_dist[key]['true'] + travel_dist[key]['false']\n",
    "    travel_dist[key]['true'] = travel_dist[key]['true'] / s\n",
    "    travel_dist[key]['false'] = 1 - travel_dist[key]['true']"
   ]
  },
  {
   "cell_type": "code",
   "execution_count": 10,
   "metadata": {},
   "outputs": [],
   "source": [
    "for key, value in regions_num_dist.items():\n",
    "    s = np.array(list(value.values())).astype(int).sum()\n",
    "    if s != 0:\n",
    "        for i in range(1, 34):\n",
    "            regions_num_dist[key][str(i)] = regions_num_dist[key][str(i)] / s"
   ]
  },
  {
   "cell_type": "code",
   "execution_count": 11,
   "metadata": {},
   "outputs": [],
   "source": [
    "for key, value in neighbors_dist.items():\n",
    "    s = np.array(list(value.values())).astype(int).sum()\n",
    "    if s != 0:\n",
    "        for k, v in value.items():\n",
    "            neighbors_dist[key][k] = neighbors_dist[key][k] / s"
   ]
  },
  {
   "cell_type": "code",
   "execution_count": 12,
   "metadata": {},
   "outputs": [],
   "source": [
    "# neighbors_dist"
   ]
  },
  {
   "source": [
    "# Regions"
   ],
   "cell_type": "markdown",
   "metadata": {}
  },
  {
   "cell_type": "code",
   "execution_count": 13,
   "metadata": {},
   "outputs": [],
   "source": [
    "regions = gpd.read_file('../../data/raw/EtapII-REJONY_wroclaw.shp')\n",
    "regions = regions.to_crs(epsg=3857)\n",
    "# regions.head(3)"
   ]
  },
  {
   "cell_type": "code",
   "execution_count": 14,
   "metadata": {},
   "outputs": [],
   "source": [
    "# regions.info()"
   ]
  },
  {
   "source": [
    "# Graph"
   ],
   "cell_type": "markdown",
   "metadata": {}
  },
  {
   "cell_type": "code",
   "execution_count": 15,
   "metadata": {},
   "outputs": [],
   "source": [
    "with open('roads_graph.pickle', 'rb') as f:\n",
    "    road_graph = pickle.load(f)\n",
    "road_graph = road_graph.to_undirected()"
   ]
  },
  {
   "cell_type": "code",
   "execution_count": 16,
   "metadata": {},
   "outputs": [],
   "source": [
    "# region_nodes = {}\n",
    "# for i in range(500):\n",
    "#     region_nodes[i] = np.random.choice(list(road_graph.nodes()), 10)"
   ]
  },
  {
   "source": [
    "# MESA"
   ],
   "cell_type": "markdown",
   "metadata": {}
  },
  {
   "cell_type": "code",
   "execution_count": 17,
   "metadata": {},
   "outputs": [],
   "source": [
    "class Person(Agent):\n",
    "\n",
    "    def __init__(self, unique_id, model):\n",
    "        super().__init__(unique_id, model)\n",
    "\n",
    "        self.start_region = self._sample_region()\n",
    "        self.current_region = self.start_region\n",
    "        self.path = [self._sample_node(self.start_region)]\n",
    "        self.on_the_way = self._sample_status()\n",
    "        self.end_region = self.start_region\n",
    "        \n",
    "        if self.on_the_way:\n",
    "            self.regions_num_left = self._sample_regions_num() - 1\n",
    "        else:\n",
    "            self.regions_num_left = 0\n",
    "\n",
    "        self.regions_num = self.regions_num_left\n",
    "\n",
    "\n",
    "    def _sample_region(self):\n",
    "\n",
    "        sample = np.random.multinomial(1, list(population_dist.values()))\n",
    "        sample = np.argmax(sample)\n",
    "        region = list(population_dist.keys())[sample]\n",
    "\n",
    "        return region\n",
    "\n",
    "    def _sample_status(self):\n",
    "\n",
    "        try:\n",
    "            sample = np.random.multinomial(1, list(travel_dist[str(self.start_region)].values()))\n",
    "        except KeyError:\n",
    "            sample = np.random.multinomial(1, np.zeros(2))\n",
    "        status = not np.argmax(sample)\n",
    "\n",
    "        return status\n",
    "\n",
    "    def _sample_regions_num(self):\n",
    "\n",
    "        try:\n",
    "            sample = np.random.multinomial(1, list(regions_num_dist[str(self.start_region)].values()))\n",
    "        except KeyError:\n",
    "            sample = np.random.multinomial(1, np.zeros(33))\n",
    "        regions_num = np.argmax(sample) + 1\n",
    "\n",
    "        return regions_num\n",
    "\n",
    "    def _sample_node(self, region):\n",
    "        \n",
    "        nodes_in_region = region_nodes[str(region)]\n",
    "        if len(nodes_in_region) > 0:\n",
    "            node = np.random.choice(nodes_in_region)\n",
    "        else:\n",
    "            nodes_in_region = []\n",
    "            for n in neighbors_dict[str(region)]:\n",
    "                nodes_in_region = nodes_in_region + region_nodes[str(n)]\n",
    "            node = np.random.choice(nodes_in_region)\n",
    "\n",
    "        return node\n",
    "\n",
    "    def move(self):\n",
    "\n",
    "        self.current_region = self._sample_next_region()\n",
    "        self.regions_num_left = self.regions_num_left - 1\n",
    "\n",
    "        next_region_node = self._sample_node(self.current_region)\n",
    "        path = nx.shortest_path(road_graph, self.path[-1], next_region_node)\n",
    "        self.path = self.path + path[1:]\n",
    "\n",
    "    def _sample_next_region(self):\n",
    "\n",
    "        sample = np.random.multinomial(1, list(neighbors_dist[str(self.current_region)].values()))\n",
    "        sample = np.argmax(sample)\n",
    "        next_region = int(list(neighbors_dist[str(self.current_region)].keys())[sample])\n",
    "\n",
    "        return next_region\n",
    "\n",
    "    def step(self):\n",
    "        \n",
    "        if self.on_the_way:\n",
    "\n",
    "            self.move()            \n",
    "\n",
    "            if self.regions_num_left == 0:\n",
    "                self.on_the_way = False\n",
    "                self.end_region = self.current_region"
   ]
  },
  {
   "cell_type": "code",
   "execution_count": 18,
   "metadata": {},
   "outputs": [],
   "source": [
    "class TrafficModel(Model):\n",
    "    \"\"\"A model with some number of agents.\"\"\"\n",
    "    def __init__(self, N):\n",
    "        self.num_agents = N\n",
    "        self.schedule = RandomActivation(self)\n",
    "        self.running = True\n",
    "        # Create agents\n",
    "        for i in range(self.num_agents):\n",
    "            a = Person(i, self)\n",
    "            self.schedule.add(a)\n",
    "\n",
    "    def step(self):\n",
    "        self.schedule.step()"
   ]
  },
  {
   "cell_type": "code",
   "execution_count": 19,
   "metadata": {},
   "outputs": [
    {
     "output_type": "stream",
     "name": "stderr",
     "text": [
      "7it [00:00, 11.36it/s]\n",
      "1 s\n",
      "\n"
     ]
    }
   ],
   "source": [
    "fixed_params = {}\n",
    "\n",
    "variable_params = {\"N\": [300]}\n",
    "\n",
    "batch_run = BatchRunnerMP(\n",
    "    TrafficModel,\n",
    "    nr_processes=7,\n",
    "    variable_parameters=variable_params,\n",
    "    fixed_parameters=fixed_params,\n",
    "    iterations=7,\n",
    "    max_steps=34,\n",
    "    agent_reporters={\n",
    "        \"regions_num\": \"regions_num\",\n",
    "        \"start_region\": \"start_region\",\n",
    "        \"end_region\": \"end_region\",\n",
    "        \"path\": \"path\"\n",
    "    }\n",
    ")\n",
    "\n",
    "start_time = time.time()\n",
    "batch_run.run_all()\n",
    "print()\n",
    "print(round(time.time() - start_time), 's')"
   ]
  },
  {
   "cell_type": "code",
   "execution_count": 20,
   "metadata": {},
   "outputs": [],
   "source": [
    "results = batch_run.get_agent_vars_dataframe().reset_index()\n",
    "\n",
    "results_flow = results[['start_region', 'end_region', 'AgentId']].groupby(['start_region', 'end_region']).count().reset_index()\n",
    "results_flow['start_region'] = results_flow['start_region'].astype(int)\n",
    "results_flow['end_region'] = results_flow['end_region'].astype(int)\n",
    "results_flow['AgentId'] = results_flow['AgentId'].astype(int)\n",
    "\n",
    "results_paths = results['path'].to_list()"
   ]
  },
  {
   "cell_type": "code",
   "execution_count": 21,
   "metadata": {},
   "outputs": [],
   "source": [
    "# nx.set_edge_attributes(road_graph, 0, 'flow')\n",
    "# for path in tqdm(results_paths):\n",
    "#     for i in range(len(path) - 1):\n",
    "#         try:\n",
    "#             prev_flow = nx.get_edge_attributes(road_graph, 'flow')[(path[i], path[i+1], 0)]\n",
    "#         except KeyError:\n",
    "#             prev_flow = nx.get_edge_attributes(road_graph, 'flow')[(path[i+1], path[i], 0)]\n",
    "#         nx.set_edge_attributes(road_graph, {(path[i], path[i+1], 0): {'flow': prev_flow + 1}})"
   ]
  },
  {
   "cell_type": "code",
   "execution_count": 22,
   "metadata": {},
   "outputs": [],
   "source": [
    "regions = regions.to_crs(epsg=4326)"
   ]
  },
  {
   "cell_type": "code",
   "execution_count": 23,
   "metadata": {},
   "outputs": [],
   "source": [
    "fdf = skmob.FlowDataFrame(\n",
    "    data=results_flow,\n",
    "    origin='start_region',\n",
    "    destination='end_region',\n",
    "    flow='AgentId',\n",
    "    tile_id='NUMBER',\n",
    "    tessellation=regions\n",
    ")"
   ]
  },
  {
   "cell_type": "code",
   "execution_count": 24,
   "metadata": {},
   "outputs": [],
   "source": [
    "m = fdf.plot_tessellation(tiles='OpenStreetMap')\n",
    "# fdf.plot_flows(m, tiles='OpenStreetMap', min_flow=200, flow_weight=2)"
   ]
  },
  {
   "cell_type": "code",
   "execution_count": 25,
   "metadata": {},
   "outputs": [
    {
     "output_type": "stream",
     "name": "stderr",
     "text": [
      "100%|██████████| 500/500 [00:19<00:00, 25.78it/s]\n"
     ]
    }
   ],
   "source": [
    "for path in tqdm(np.random.choice(results_paths, 500)):\n",
    "    if len(path) > 1:\n",
    "        ox.folium.plot_graph_folium(road_graph.subgraph(path), graph_map=m, weight=6, opacity=0.05)"
   ]
  },
  {
   "cell_type": "code",
   "execution_count": 1,
   "metadata": {},
   "outputs": [],
   "source": [
    "# m"
   ]
  },
  {
   "cell_type": "code",
   "execution_count": null,
   "metadata": {},
   "outputs": [],
   "source": []
  }
 ]
}