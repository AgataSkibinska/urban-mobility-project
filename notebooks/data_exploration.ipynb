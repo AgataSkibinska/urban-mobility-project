{
 "cells": [
  {
   "cell_type": "code",
   "execution_count": 1,
   "metadata": {
    "pycharm": {
     "is_executing": false
    }
   },
   "outputs": [],
   "source": [
    "import pandas as pd\n",
    "import plotly.express as px"
   ]
  },
  {
   "cell_type": "code",
   "execution_count": 182,
   "metadata": {
    "pycharm": {
     "is_executing": false,
     "name": "#%%\n"
    }
   },
   "outputs": [],
   "source": [
    "path = \"../data/raw/KBR_Gadow_2019_bez_hasla.xlsx\""
   ]
  },
  {
   "cell_type": "code",
   "execution_count": 229,
   "metadata": {
    "pycharm": {
     "is_executing": false,
     "name": "#%%\n"
    }
   },
   "outputs": [],
   "source": [
    "df = pd.read_excel(path, index_col=0, header=[0,1])"
   ]
  },
  {
   "cell_type": "markdown",
   "metadata": {
    "pycharm": {
     "name": "#%% md\n"
    }
   },
   "source": [
    "MultiIndex"
   ]
  },
  {
   "cell_type": "code",
   "execution_count": 230,
   "metadata": {
    "pycharm": {
     "is_executing": false,
     "name": "#%%\n"
    }
   },
   "outputs": [
    {
     "data": {
      "text/plain": [
       "FrozenList([None, 'ID odpowiedzi'])"
      ]
     },
     "execution_count": 230,
     "metadata": {},
     "output_type": "execute_result"
    }
   ],
   "source": [
    "df.columns.names"
   ]
  },
  {
   "cell_type": "code",
   "execution_count": 185,
   "metadata": {
    "pycharm": {
     "is_executing": false,
     "name": "#%%\n"
    }
   },
   "outputs": [
    {
     "data": {
      "text/plain": [
       "(290, 414)"
      ]
     },
     "execution_count": 185,
     "metadata": {},
     "output_type": "execute_result"
    }
   ],
   "source": [
    "df.columns.levshape"
   ]
  },
  {
   "cell_type": "code",
   "execution_count": 186,
   "metadata": {
    "pycharm": {
     "name": "#%%\n"
    }
   },
   "outputs": [],
   "source": [
    "colx = df.columns"
   ]
  },
  {
   "cell_type": "code",
   "execution_count": 266,
   "metadata": {
    "pycharm": {
     "is_executing": false
    }
   },
   "outputs": [
    {
     "data": {
      "text/plain": "[('Jaka jest Twoja płeć?', 'Płeć'),\n ('Ile masz lat?', 'Wiek'),\n ('Jaki jest poziom Twojego wykształcenia?', 'Wykształcenie'),\n ('Jaki jest Twój status zawodowy?', 'Jaki jest Twój status zawodowy? (1)'),\n ('Jaki jest Twój status zawodowy?', 'Jaki jest Twój status zawodowy? (2)'),\n ('Jaki jest Twój status zawodowy?', 'Jaki jest Twój status zawodowy? (3)'),\n ('Jaki jest Twój status zawodowy?', 'Jaki jest Twój status zawodowy? (4)'),\n ('Jaki jest Twój status zawodowy?', 'Jaki jest Twój status zawodowy? (5)'),\n ('Jaki jest Twój status zawodowy?', 'Jaki jest Twój status zawodowy? (6)'),\n ('Jaki jest Twój status zawodowy?', 'Jaki jest Twój status zawodowy? (7)'),\n ('Jaki jest Twój status zawodowy?', 'Jaki jest Twój status zawodowy? (8)'),\n ('Adres zamieszkania', 'Jaki jest Twój adres zamieszkania?'),\n ('Ilu jest domowników w Twoim miejscu zamieszkania włącznie z Tobą?',\n  'Dzieci poniżej 6 roku życia'),\n ('Ilu jest domowników w Twoim miejscu zamieszkania włącznie z Tobą?',\n  'Dzieci w wieku 6-15 lat'),\n ('Ilu jest domowników w Twoim miejscu zamieszkania włącznie z Tobą?',\n  'Dorośli powyżej 15 roku życia wśród członków Twojej rodziny'),\n ('Ilu jest domowników w Twoim miejscu zamieszkania włącznie z Tobą?',\n  'Dorośli powyżej 15 roku życia wśród wśród niezależnych współlokatorów'),\n ('Z jakich środków transportu korzystasz w trakcie swoich codziennych podróży po mieście?',\n  'Pieszo'),\n ('Z jakich środków transportu korzystasz w trakcie swoich codziennych podróży po mieście?',\n  'Rower prywatny'),\n ('Z jakich środków transportu korzystasz w trakcie swoich codziennych podróży po mieście?',\n  'Rower miejski'),\n ('Z jakich środków transportu korzystasz w trakcie swoich codziennych podróży po mieście?',\n  'Motocykl, skuter lub motorower'),\n ('Z jakich środków transportu korzystasz w trakcie swoich codziennych podróży po mieście?',\n  'Hulajnoga elektryczna'),\n ('Z jakich środków transportu korzystasz w trakcie swoich codziennych podróży po mieście?',\n  'Samochód osobowy jako pasażer'),\n ('Z jakich środków transportu korzystasz w trakcie swoich codziennych podróży po mieście?',\n  'Samochód osobowy jako kierowca'),\n ('Z jakich środków transportu korzystasz w trakcie swoich codziennych podróży po mieście?',\n  'Tramwaj'),\n ('Z jakich środków transportu korzystasz w trakcie swoich codziennych podróży po mieście?',\n  'Komunikacja autobusowa'),\n ('Z jakich środków transportu korzystasz w trakcie swoich codziennych podróży po mieście?',\n  'Komunikacja zbiorowa poza Wrocławiem'),\n ('Z jakich środków transportu korzystasz w trakcie swoich codziennych podróży po mieście?',\n  'Pociąg'),\n ('Z jakich środków transportu korzystasz w trakcie swoich codziennych podróży po mieście?',\n  'Wypożyczalnia pojazdów osobowych'),\n ('Z jakich środków transportu korzystasz w trakcie swoich codziennych podróży po mieście?',\n  'Carpooling'),\n ('Z jakich środków transportu korzystasz w trakcie swoich codziennych podróży po mieście?',\n  'Inne'),\n ('Z jakich środków transportu korzystasz w trakcie swoich codziennych podróży po mieście?',\n  'Taksówka'),\n ('Jak często korzystasz ze wskazanych środków transportu?', 'Pieszo'),\n ('Jak często korzystasz ze wskazanych środków transportu?', 'Rower prywatny'),\n ('Jak często korzystasz ze wskazanych środków transportu?', 'Rower miejski'),\n ('Jak często korzystasz ze wskazanych środków transportu?',\n  'Motocykl, skuter lub motorower'),\n ('Jak często korzystasz ze wskazanych środków transportu?',\n  'Hulajnoga elektryczna'),\n ('Jak często korzystasz ze wskazanych środków transportu?',\n  'Samochód osobowy jako pasażer'),\n ('Jak często korzystasz ze wskazanych środków transportu?',\n  'Samochód osobowy jako kierowca'),\n ('Jak często korzystasz ze wskazanych środków transportu?', 'Tramwaj'),\n ('Jak często korzystasz ze wskazanych środków transportu?',\n  'Komunikacja autobusowa'),\n ('Jak często korzystasz ze wskazanych środków transportu?',\n  'Komunikacja zbiorowa poza Wrocławiem'),\n ('Jak często korzystasz ze wskazanych środków transportu?', 'Pociąg'),\n ('Jak często korzystasz ze wskazanych środków transportu?',\n  'Wypożyczalnia pojazdów osobowych'),\n ('Jak często korzystasz ze wskazanych środków transportu?', 'Carpooling'),\n ('Jak często korzystasz ze wskazanych środków transportu?', 'Inne'),\n ('Jak często korzystasz ze wskazanych środków transportu?', 'Taksówka'),\n ('Jak oceniasz wskazane środki transportu pod kątem poczucia bezpieczeństwa?',\n  'Pieszo'),\n ('Jak oceniasz wskazane środki transportu pod kątem poczucia bezpieczeństwa?',\n  'Rower prywatny'),\n ('Jak oceniasz wskazane środki transportu pod kątem poczucia bezpieczeństwa?',\n  'Rower miejski'),\n ('Jak oceniasz wskazane środki transportu pod kątem poczucia bezpieczeństwa?',\n  'Motocykl, skuter lub motorower'),\n ('Jak oceniasz wskazane środki transportu pod kątem poczucia bezpieczeństwa?',\n  'Hulajnoga elektryczna'),\n ('Jak oceniasz wskazane środki transportu pod kątem poczucia bezpieczeństwa?',\n  'Samochód osobowy jako pasażer'),\n ('Jak oceniasz wskazane środki transportu pod kątem poczucia bezpieczeństwa?',\n  'Samochód osobowy jako kierowca'),\n ('Jak oceniasz wskazane środki transportu pod kątem poczucia bezpieczeństwa?',\n  'Tramwaj'),\n ('Jak oceniasz wskazane środki transportu pod kątem poczucia bezpieczeństwa?',\n  'Komunikacja autobusowa'),\n ('Jak oceniasz wskazane środki transportu pod kątem poczucia bezpieczeństwa?',\n  'Komunikacja zbiorowa poza Wrocławiem'),\n ('Jak oceniasz wskazane środki transportu pod kątem poczucia bezpieczeństwa?',\n  'Pociąg'),\n ('Jak oceniasz wskazane środki transportu pod kątem poczucia bezpieczeństwa?',\n  'Wypożyczalnia pojazdów osobowych'),\n ('Jak oceniasz wskazane środki transportu pod kątem poczucia bezpieczeństwa?',\n  'Carpooling'),\n ('Jak oceniasz wskazane środki transportu pod kątem poczucia bezpieczeństwa?',\n  'Inne'),\n ('Jak oceniasz wskazane środki transportu pod kątem poczucia bezpieczeństwa?',\n  'Taksówka'),\n ('Jak oceniasz wskazane środki pod kątem średnich kosztów, które ponosisz ze względu na korzystanie z nich?',\n  'Pieszo'),\n ('Jak oceniasz wskazane środki pod kątem średnich kosztów, które ponosisz ze względu na korzystanie z nich?',\n  'Rower prywatny'),\n ('Jak oceniasz wskazane środki pod kątem średnich kosztów, które ponosisz ze względu na korzystanie z nich?',\n  'Rower miejski'),\n ('Jak oceniasz wskazane środki pod kątem średnich kosztów, które ponosisz ze względu na korzystanie z nich?',\n  'Motocykl, skuter lub motorower'),\n ('Jak oceniasz wskazane środki pod kątem średnich kosztów, które ponosisz ze względu na korzystanie z nich?',\n  'Hulajnoga elektryczna'),\n ('Jak oceniasz wskazane środki pod kątem średnich kosztów, które ponosisz ze względu na korzystanie z nich?',\n  'Samochód osobowy jako pasażer'),\n ('Jak oceniasz wskazane środki pod kątem średnich kosztów, które ponosisz ze względu na korzystanie z nich?',\n  'Samochód osobowy jako kierowca'),\n ('Jak oceniasz wskazane środki pod kątem średnich kosztów, które ponosisz ze względu na korzystanie z nich?',\n  'Tramwaj'),\n ('Jak oceniasz wskazane środki pod kątem średnich kosztów, które ponosisz ze względu na korzystanie z nich?',\n  'Komunikacja autobusowa'),\n ('Jak oceniasz wskazane środki pod kątem średnich kosztów, które ponosisz ze względu na korzystanie z nich?',\n  'Komunikacja zbiorowa poza Wrocławiem'),\n ('Jak oceniasz wskazane środki pod kątem średnich kosztów, które ponosisz ze względu na korzystanie z nich?',\n  'Pociąg'),\n ('Jak oceniasz wskazane środki pod kątem średnich kosztów, które ponosisz ze względu na korzystanie z nich?',\n  'Wypożyczalnia pojazdów osobowych'),\n ('Jak oceniasz wskazane środki pod kątem średnich kosztów, które ponosisz ze względu na korzystanie z nich?',\n  'Carpooling'),\n ('Jak oceniasz wskazane środki pod kątem średnich kosztów, które ponosisz ze względu na korzystanie z nich?',\n  'Inne'),\n ('Jak oceniasz wskazane środki pod kątem średnich kosztów, które ponosisz ze względu na korzystanie z nich?',\n  'Taksówka'),\n ('Jakie elementy stanowią dla Ciebie największą uciążliwość w codziennych podróżach danym środkiem transportu?',\n  'Pieszo: Niekorzystne ustawienie sygnalizacji świetlnej'),\n ('Jakie elementy stanowią dla Ciebie największą uciążliwość w codziennych podróżach danym środkiem transportu?',\n  'Pieszo: Brak chodników i konieczność poruszania się jezdnią/poboczem/wydeptaną ścieżką'),\n ('Jakie elementy stanowią dla Ciebie największą uciążliwość w codziennych podróżach danym środkiem transportu?',\n  'Pieszo: Zły stan nawierzchni chodników'),\n ('Jakie elementy stanowią dla Ciebie największą uciążliwość w codziennych podróżach danym środkiem transportu?',\n  'Pieszo: Zastawianie chodników przez parkujące samochody'),\n ('Jakie elementy stanowią dla Ciebie największą uciążliwość w codziennych podróżach danym środkiem transportu?',\n  'Pieszo: Niebezpieczne zachowania kierowców'),\n ('Jakie elementy stanowią dla Ciebie największą uciążliwość w codziennych podróżach danym środkiem transportu?',\n  'Pieszo: Zagrożenie ze strony rowerzystów poruszających się chodnikami'),\n ('Jakie elementy stanowią dla Ciebie największą uciążliwość w codziennych podróżach danym środkiem transportu?',\n  'Pieszo: Zbyt wysokie krawężniki'),\n ('Jakie elementy stanowią dla Ciebie największą uciążliwość w codziennych podróżach danym środkiem transportu?',\n  'Pieszo: Brak bieżącego utrzymania czystości/odśnieżania'),\n ('Jakie elementy stanowią dla Ciebie największą uciążliwość w codziennych podróżach danym środkiem transportu?',\n  'Pieszo: Niewystarczająca liczba przejść dla pieszych'),\n ('Jakie elementy stanowią dla Ciebie największą uciążliwość w codziennych podróżach danym środkiem transportu?',\n  'Pieszo: Brak miejsc wypoczynku na trasie dojścia (np. ławki, zieleń)'),\n ('Jakie elementy stanowią dla Ciebie największą uciążliwość w codziennych podróżach danym środkiem transportu?',\n  'Pieszo: Uciążliwy ruch kołowy'),\n ('Jakie elementy stanowią dla Ciebie największą uciążliwość w codziennych podróżach danym środkiem transportu?',\n  'Pieszo: Niewłaściwe oświetlenie ciągów pieszych'),\n ('Jakie elementy stanowią dla Ciebie największą uciążliwość w codziennych podróżach danym środkiem transportu?',\n  'Pieszo: Inne'),\n ('Jakie elementy stanowią dla Ciebie największą uciążliwość w codziennych podróżach danym środkiem transportu?',\n  'Pieszo: Nie odczuwam uciążliwości w podróżach pieszych we Wrocławiu'),\n ('Jakie elementy stanowią dla Ciebie największą uciążliwość w codziennych podróżach danym środkiem transportu?',\n  'Rower prywatny: Niekorzystne ustawienia sygnalizacji świetlnej'),\n ('Jakie elementy stanowią dla Ciebie największą uciążliwość w codziennych podróżach danym środkiem transportu?',\n  'Rower prywatny: Brak ciągłości dróg rowerowych'),\n ('Jakie elementy stanowią dla Ciebie największą uciążliwość w codziennych podróżach danym środkiem transportu?',\n  'Rower prywatny: Konieczność poruszania się po jezdni'),\n ('Jakie elementy stanowią dla Ciebie największą uciążliwość w codziennych podróżach danym środkiem transportu?',\n  'Rower prywatny: Niebezpieczne zachowania kierowców samochodów'),\n ('Jakie elementy stanowią dla Ciebie największą uciążliwość w codziennych podróżach danym środkiem transportu?',\n  'Rower prywatny: Zły stan nawierzchni'),\n ('Jakie elementy stanowią dla Ciebie największą uciążliwość w codziennych podróżach danym środkiem transportu?',\n  'Rower prywatny: Niewystarczająca liczba stojaków rowerowych'),\n ('Jakie elementy stanowią dla Ciebie największą uciążliwość w codziennych podróżach danym środkiem transportu?',\n  'Rower prywatny: Inne'),\n ('Jakie elementy stanowią dla Ciebie największą uciążliwość w codziennych podróżach danym środkiem transportu?',\n  'Rower prywatny: Nie odczuwam uciążliwości w podróżach rowerowych po Wrocławiu'),\n ('Jakie elementy stanowią dla Ciebie największą uciążliwość w codziennych podróżach danym środkiem transportu?',\n  'Rower miejski: niekorzystne ustawienia sygnalizacji świetlnej'),\n ('Jakie elementy stanowią dla Ciebie największą uciążliwość w codziennych podróżach danym środkiem transportu?',\n  'Rower miejski: brak ciągłości dróg rowerowych'),\n ('Jakie elementy stanowią dla Ciebie największą uciążliwość w codziennych podróżach danym środkiem transportu?',\n  'Rower miejski: konieczność poruszania się po jezdni'),\n ('Jakie elementy stanowią dla Ciebie największą uciążliwość w codziennych podróżach danym środkiem transportu?',\n  'Rower miejski: niebezpieczne zachowania kierowców samochodów'),\n ('Jakie elementy stanowią dla Ciebie największą uciążliwość w codziennych podróżach danym środkiem transportu?',\n  'Rower miejski: duża odległość do najbliższej stacji roweru'),\n ('Jakie elementy stanowią dla Ciebie największą uciążliwość w codziennych podróżach danym środkiem transportu?',\n  'Rower miejski: zbyt wysokie koszty'),\n ('Jakie elementy stanowią dla Ciebie największą uciążliwość w codziennych podróżach danym środkiem transportu?',\n  'Rower miejski: Inne'),\n ('Jakie elementy stanowią dla Ciebie największą uciążliwość w codziennych podróżach danym środkiem transportu?',\n  'Rower miejski: Nie odczuwam uciążliwości w podróżach rowerowych po Wrocławiu'),\n ('Jakie elementy stanowią dla Ciebie największą uciążliwość w codziennych podróżach danym środkiem transportu?',\n  'Motocykl, skuter lub motorower: Brak poczucia bezpieczeństwa'),\n ('Jakie elementy stanowią dla Ciebie największą uciążliwość w codziennych podróżach danym środkiem transportu?',\n  'Motocykl, skuter lub motorower: Ograniczenia dostępności pojazdów z wypożyczalni'),\n ('Jakie elementy stanowią dla Ciebie największą uciążliwość w codziennych podróżach danym środkiem transportu?',\n  'Motocykl, skuter lub motorower: Zbyt wysokie koszty usług wypożyczalni'),\n ('Jakie elementy stanowią dla Ciebie największą uciążliwość w codziennych podróżach danym środkiem transportu?',\n  'Motocykl, skuter lub motorower: Brak bezpiecznego miejsca do zaparkowania pojazdu'),\n ('Jakie elementy stanowią dla Ciebie największą uciążliwość w codziennych podróżach danym środkiem transportu?',\n  'Motocykl, skuter lub motorower: Inne'),\n ('Jakie elementy stanowią dla Ciebie największą uciążliwość w codziennych podróżach danym środkiem transportu?',\n  'Motocykl, skuter lub motorower: Nie odczuwam uciążliwości w podróżach motorem / skuterem / motorowerem po Wrocławiu'),\n ('Jakie elementy stanowią dla Ciebie największą uciążliwość w codziennych podróżach danym środkiem transportu?',\n  'Hulajnoga elektryczna: brak poczucia bezpieczeństwa/obawa przed kolizją'),\n ('Jakie elementy stanowią dla Ciebie największą uciążliwość w codziennych podróżach danym środkiem transportu?',\n  'Hulajnoga elektryczna: brak uregulowań dotyczących zasad poruszania się po mieście'),\n ('Jakie elementy stanowią dla Ciebie największą uciążliwość w codziennych podróżach danym środkiem transportu?',\n  'Hulajnoga elektryczna: zbyt wysokie koszty usług wypożyczalni'),\n ('Jakie elementy stanowią dla Ciebie największą uciążliwość w codziennych podróżach danym środkiem transportu?',\n  'Hulajnoga elektryczna: Inne'),\n ('Jakie elementy stanowią dla Ciebie największą uciążliwość w codziennych podróżach danym środkiem transportu?',\n  'Hulajnoga elektryczna: Nie odczuwam uciążliwości w podróżach hulajnogą elektryczną po Wrocławiu'),\n ('Jakie elementy stanowią dla Ciebie największą uciążliwość w codziennych podróżach danym środkiem transportu?',\n  'Samochód osobowy jako pasażer: Konieczność oczekiwania na auto z kierowcą'),\n ('Jakie elementy stanowią dla Ciebie największą uciążliwość w codziennych podróżach danym środkiem transportu?',\n  'Samochód osobowy jako pasażer: Zbyt duże natężenie ruchu'),\n ('Jakie elementy stanowią dla Ciebie największą uciążliwość w codziennych podróżach danym środkiem transportu?',\n  'Samochód osobowy jako pasażer: Inne'),\n ('Jakie elementy stanowią dla Ciebie największą uciążliwość w codziennych podróżach danym środkiem transportu?',\n  'Samochód osobowy jako pasażer: Nie odczuwam uciążliwości w podróżach samochodem po Wrocławiu'),\n ('Jakie elementy stanowią dla Ciebie największą uciążliwość w codziennych podróżach danym środkiem transportu?',\n  'Samochód osobowy jako kierowca: Zbyt duże natężenie ruchu/ korki'),\n ('Jakie elementy stanowią dla Ciebie największą uciążliwość w codziennych podróżach danym środkiem transportu?',\n  'Samochód osobowy jako kierowca: Brak dostępności parkingu pod domem'),\n ('Jakie elementy stanowią dla Ciebie największą uciążliwość w codziennych podróżach danym środkiem transportu?',\n  'Samochód osobowy jako kierowca: Brak dostępności parkingu w miejscu docelowym'),\n ('Jakie elementy stanowią dla Ciebie największą uciążliwość w codziennych podróżach danym środkiem transportu?',\n  'Samochód osobowy jako kierowca: Zbyt wysokie koszty utrzymania i parkowania pojazdu'),\n ('Jakie elementy stanowią dla Ciebie największą uciążliwość w codziennych podróżach danym środkiem transportu?',\n  'Samochód osobowy jako kierowca: Obawa przed kolizją z innymi uczestnikami ruchu'),\n ('Jakie elementy stanowią dla Ciebie największą uciążliwość w codziennych podróżach danym środkiem transportu?',\n  'Samochód osobowy jako kierowca: Zły stan nawierzchni dróg'),\n ('Jakie elementy stanowią dla Ciebie największą uciążliwość w codziennych podróżach danym środkiem transportu?',\n  'Samochód osobowy jako kierowca: Niekorzystne ustawienia sygnalizacji świetlnej'),\n ('Jakie elementy stanowią dla Ciebie największą uciążliwość w codziennych podróżach danym środkiem transportu?',\n  'Samochód osobowy jako kierowca: Inne'),\n ('Jakie elementy stanowią dla Ciebie największą uciążliwość w codziennych podróżach danym środkiem transportu?',\n  'Samochód osobowy jako kierowca: Nie odczuwam uciążliwości w podróżach samochodem po Wrocławiu'),\n ('Jakie elementy stanowią dla Ciebie największą uciążliwość w codziennych podróżach danym środkiem transportu?',\n  'Tramwaj: Duża odległość do najbliższego przystanku'),\n ('Jakie elementy stanowią dla Ciebie największą uciążliwość w codziennych podróżach danym środkiem transportu?',\n  'Tramwaj: Niepunktualność kursów'),\n ('Jakie elementy stanowią dla Ciebie największą uciążliwość w codziennych podróżach danym środkiem transportu?',\n  'Tramwaj: Duże zapełnienie pojazdów w godzinach dojazdu do pracy/szkoły'),\n ('Jakie elementy stanowią dla Ciebie największą uciążliwość w codziennych podróżach danym środkiem transportu?',\n  'Tramwaj: Brak bezpośredniego połączenia do miejsca docelowego'),\n ('Jakie elementy stanowią dla Ciebie największą uciążliwość w codziennych podróżach danym środkiem transportu?',\n  'Tramwaj: Niska częstotliwość kursowania'),\n ('Jakie elementy stanowią dla Ciebie największą uciążliwość w codziennych podróżach danym środkiem transportu?',\n  'Tramwaj: Zbyt wysokie koszty przejazdów'),\n ('Jakie elementy stanowią dla Ciebie największą uciążliwość w codziennych podróżach danym środkiem transportu?',\n  'Tramwaj: Inne'),\n ('Jakie elementy stanowią dla Ciebie największą uciążliwość w codziennych podróżach danym środkiem transportu?',\n  'Tramwaj: Nie odczuwam uciążliwości w podróżach tramwajem lub autobusem po Wrocławiu'),\n ('Jakie elementy stanowią dla Ciebie największą uciążliwość w codziennych podróżach danym środkiem transportu?',\n  'Komunikacja autobusowa: Duża odległość do najbliższego przystanku'),\n ('Jakie elementy stanowią dla Ciebie największą uciążliwość w codziennych podróżach danym środkiem transportu?',\n  'Komunikacja autobusowa: Niepunktualność kursów'),\n ('Jakie elementy stanowią dla Ciebie największą uciążliwość w codziennych podróżach danym środkiem transportu?',\n  'Komunikacja autobusowa: Duże zapełnienie pojazdów w godzinach dojazdu do pracy/szkoły'),\n ('Jakie elementy stanowią dla Ciebie największą uciążliwość w codziennych podróżach danym środkiem transportu?',\n  'Komunikacja autobusowa: Brak bezpośredniego połączenia do miejsca docelowego'),\n ('Jakie elementy stanowią dla Ciebie największą uciążliwość w codziennych podróżach danym środkiem transportu?',\n  'Komunikacja autobusowa: Niska częstotliwość kursowania'),\n ('Jakie elementy stanowią dla Ciebie największą uciążliwość w codziennych podróżach danym środkiem transportu?',\n  'Komunikacja autobusowa: Zbyt wysokie koszty przejazdów'),\n ('Jakie elementy stanowią dla Ciebie największą uciążliwość w codziennych podróżach danym środkiem transportu?',\n  'Komunikacja autobusowa: Inne'),\n ('Jakie elementy stanowią dla Ciebie największą uciążliwość w codziennych podróżach danym środkiem transportu?',\n  'Komunikacja autobusowa: Nie odczuwam uciążliwości w podróżach tramwajem lub autobusem po Wrocławiu'),\n ('Jakie elementy stanowią dla Ciebie największą uciążliwość w codziennych podróżach danym środkiem transportu?',\n  'Komunikacja zbiorowa poza Wrocławiem: Duża odległość do najbliższego przystanku'),\n ('Jakie elementy stanowią dla Ciebie największą uciążliwość w codziennych podróżach danym środkiem transportu?',\n  'Komunikacja zbiorowa poza Wrocławiem: Niepunktualność kursów'),\n ('Jakie elementy stanowią dla Ciebie największą uciążliwość w codziennych podróżach danym środkiem transportu?',\n  'Komunikacja zbiorowa poza Wrocławiem: Duże zapełnienie pojazdów w godzinach dojazdu do pracy/szkoły'),\n ('Jakie elementy stanowią dla Ciebie największą uciążliwość w codziennych podróżach danym środkiem transportu?',\n  'Komunikacja zbiorowa poza Wrocławiem: Brak bezpośredniego połączenia do miejsca docelowego'),\n ('Jakie elementy stanowią dla Ciebie największą uciążliwość w codziennych podróżach danym środkiem transportu?',\n  'Komunikacja zbiorowa poza Wrocławiem: Niska częstotliwość kursowania'),\n ('Jakie elementy stanowią dla Ciebie największą uciążliwość w codziennych podróżach danym środkiem transportu?',\n  'Komunikacja zbiorowa poza Wrocławiem: Zbyt wysokie koszty przejazdów'),\n ('Jakie elementy stanowią dla Ciebie największą uciążliwość w codziennych podróżach danym środkiem transportu?',\n  'Komunikacja zbiorowa poza Wrocławiem: Inne'),\n ('Jakie elementy stanowią dla Ciebie największą uciążliwość w codziennych podróżach danym środkiem transportu?',\n  'Komunikacja zbiorowa poza Wrocławiem: Nie odczuwam uciążliwości w podróżach tramwajem lub autobusem po Wrocławiu'),\n ('Jakie elementy stanowią dla Ciebie największą uciążliwość w codziennych podróżach danym środkiem transportu?',\n  'Pociąg: Duża odległość od domu do stacji'),\n ('Jakie elementy stanowią dla Ciebie największą uciążliwość w codziennych podróżach danym środkiem transportu?',\n  'Pociąg: Duża odległość od stacji do miejsca docelowego'),\n ('Jakie elementy stanowią dla Ciebie największą uciążliwość w codziennych podróżach danym środkiem transportu?',\n  'Pociąg: Niepunktualność pociągów'),\n ('Jakie elementy stanowią dla Ciebie największą uciążliwość w codziennych podróżach danym środkiem transportu?',\n  'Pociąg: Częstotliwość kursowania pociągów'),\n ('Jakie elementy stanowią dla Ciebie największą uciążliwość w codziennych podróżach danym środkiem transportu?',\n  'Pociąg: Duże zapełnienie pociągów'),\n ('Jakie elementy stanowią dla Ciebie największą uciążliwość w codziennych podróżach danym środkiem transportu?',\n  'Pociąg: Zbyt wysokie koszty przejazdów'),\n ('Jakie elementy stanowią dla Ciebie największą uciążliwość w codziennych podróżach danym środkiem transportu?',\n  'Pociąg: Inne'),\n ('Jakie elementy stanowią dla Ciebie największą uciążliwość w codziennych podróżach danym środkiem transportu?',\n  'Pociąg: Nie odczuwam uciążliwości w podróżach pociągiem po Wrocławiu'),\n ('Jakie elementy stanowią dla Ciebie największą uciążliwość w codziennych podróżach danym środkiem transportu?',\n  'Wypożyczalnia pojazdów osobowych: Zbyt wysokie koszty usługi'),\n ('Jakie elementy stanowią dla Ciebie największą uciążliwość w codziennych podróżach danym środkiem transportu?',\n  'Wypożyczalnia pojazdów osobowych: Dostępność pojazdów'),\n ('Jakie elementy stanowią dla Ciebie największą uciążliwość w codziennych podróżach danym środkiem transportu?',\n  'Wypożyczalnia pojazdów osobowych: Inne'),\n ('Jakie elementy stanowią dla Ciebie największą uciążliwość w codziennych podróżach danym środkiem transportu?',\n  'Wypożyczalnia pojazdów osobowych: Nie odczuwam uciążliwości w podróżach wypożyczonym autem po Wrocławiu'),\n ('Jakie elementy stanowią dla Ciebie największą uciążliwość w codziennych podróżach danym środkiem transportu?',\n  'Carpooling: Częste zmiany liczby uczestników podróży'),\n ('Jakie elementy stanowią dla Ciebie największą uciążliwość w codziennych podróżach danym środkiem transportu?',\n  'Carpooling: Możliwość zorganizowania kursu tylko w jedną stronę'),\n ('Jakie elementy stanowią dla Ciebie największą uciążliwość w codziennych podróżach danym środkiem transportu?',\n  'Carpooling: Kłopotliwy podział kosztów podróży'),\n ('Jakie elementy stanowią dla Ciebie największą uciążliwość w codziennych podróżach danym środkiem transportu?',\n  'Carpooling: Inne'),\n ('Jakie elementy stanowią dla Ciebie największą uciążliwość w codziennych podróżach danym środkiem transportu?',\n  'Carpooling: Nie odczuwam uciążliwości we wspólnych podróżach autem po Wrocławiu'),\n ('Jakie elementy stanowią dla Ciebie największą uciążliwość w codziennych podróżach danym środkiem transportu?',\n  'Inne: Boję się tego środka transportu'),\n ('Jakie elementy stanowią dla Ciebie największą uciążliwość w codziennych podróżach danym środkiem transportu?',\n  'Inne: Nie mam dostępu do tego środka transportu'),\n ('Jakie elementy stanowią dla Ciebie największą uciążliwość w codziennych podróżach danym środkiem transportu?',\n  'Inne: Środek transportu jest drogi'),\n ('Jakie elementy stanowią dla Ciebie największą uciążliwość w codziennych podróżach danym środkiem transportu?',\n  'Taksówka: Boję się tego środka transportu'),\n ('Jakie elementy stanowią dla Ciebie największą uciążliwość w codziennych podróżach danym środkiem transportu?',\n  'Taksówka: Nie mam dostępu do tego środka transportu'),\n ('Jakie elementy stanowią dla Ciebie największą uciążliwość w codziennych podróżach danym środkiem transportu?',\n  'Taksówka: Środek transportu jest drogi'),\n ('Jakie elementy stanowią dla Ciebie największą uciążliwość w codziennych podróżach danym środkiem transportu?',\n  'Taksówka: Inne'),\n ('Jakie elementy stanowią dla Ciebie największą uciążliwość w codziennych podróżach danym środkiem transportu?',\n  'Taksówka: Nie odczuwam uciążliwości w podróżach taksówką po Wrocławiu'),\n ('Jakie środki transportu posiadasz na własność (jako właściciel lub współwłaściciel)?',\n  'Samochód osobowy służbowy'),\n ('Jakie środki transportu posiadasz na własność (jako właściciel lub współwłaściciel)?',\n  'Inne'),\n ('Jakie środki transportu posiadasz na własność (jako właściciel lub współwłaściciel)?',\n  'Żadne z wymienionych'),\n ('Jakie środki transportu posiadasz na własność (jako właściciel lub współwłaściciel)?',\n  'Samochód osobowy prywatny'),\n ('Jakie środki transportu posiadasz na własność (jako właściciel lub współwłaściciel)?',\n  'Rower prywatny'),\n ('Jakie środki transportu posiadasz na własność (jako właściciel lub współwłaściciel)?',\n  'Hulajnoga elektryczna'),\n ('Czy z wymienionych przez Ciebie środków transportu korzystają również pozostali domownicy?',\n  'Samochód osobowy służbowy'),\n ('Czy z wymienionych przez Ciebie środków transportu korzystają również pozostali domownicy?',\n  'Inne'),\n ('Czy z wymienionych przez Ciebie środków transportu korzystają również pozostali domownicy?',\n  'Żadne z wymienionych'),\n ('Czy z wymienionych przez Ciebie środków transportu korzystają również pozostali domownicy?',\n  'Samochód osobowy prywatny'),\n ('Czy z wymienionych przez Ciebie środków transportu korzystają również pozostali domownicy?',\n  'Rower prywatny'),\n ('Czy z wymienionych przez Ciebie środków transportu korzystają również pozostali domownicy?',\n  'Hulajnoga elektryczna'),\n ('Czy Twój obecny stan zdrowia ma negatywny wpływ na sposób, w jaki poruszasz się po mieście?',\n  'Unnamed: 192_level_1'),\n ('Jaki jest rodzaj Twoich ograniczeń związanych z poruszaniem się po mieście?',\n  'Unnamed: 193_level_1'),\n ('Czy aktualnie pod Twoją stałą opieką znajduje się dziecko, osoba starsza lub niepełnosprawna?',\n  'Unnamed: 194_level_1'),\n ('Czy zdarza Ci się przemieszczać po mieście razem ze zwierzętami domowymi?',\n  'Unnamed: 195_level_1'),\n ('Czy posiadasz prawo jazdy kategorii A?', 'Unnamed: 196_level_1'),\n ('Czy posiadasz prawo jazdy kategorii B?', 'Unnamed: 197_level_1'),\n ('Numer regionu zamieszkania', 'Unnamed: 198_level_1'),\n ('ID podróży (1)', 'Unnamed: 199_level_1'),\n ('Data rozpoczecia podróży (1)', 'Unnamed: 200_level_1'),\n ('Czas trwania podróży [s] (1)', 'Unnamed: 201_level_1'),\n ('Środek transportu (1)', 'Unnamed: 202_level_1'),\n ('Typ miejsca startu (1)', 'Unnamed: 203_level_1'),\n ('Typ miejsca zakończenia (1)', 'Unnamed: 204_level_1'),\n ('Miejsce startu (1)', 'Unnamed: 205_level_1'),\n ('Numer regionu miejsca startu (1)', 'Unnamed: 206_level_1'),\n ('Numer regionu miejsca zakończenia (1)', 'Unnamed: 207_level_1'),\n ('Miejsce zakończenia (1)', 'Unnamed: 208_level_1'),\n ('ID podróży (2)', 'Unnamed: 209_level_1'),\n ('Data rozpoczecia podróży (2)', 'Unnamed: 210_level_1'),\n ('Czas trwania podróży [s] (2)', 'Unnamed: 211_level_1'),\n ('Środek transportu (2)', 'Unnamed: 212_level_1'),\n ('Typ miejsca startu (2)', 'Unnamed: 213_level_1'),\n ('Typ miejsca zakończenia (2)', 'Unnamed: 214_level_1'),\n ('Miejsce startu (2)', 'Unnamed: 215_level_1'),\n ('Numer regionu miejsca startu (2)', 'Unnamed: 216_level_1'),\n ('Numer regionu miejsca zakończenia (2)', 'Unnamed: 217_level_1'),\n ('Miejsce zakończenia (2)', 'Unnamed: 218_level_1'),\n ('ID podróży (3)', 'Unnamed: 219_level_1'),\n ('Data rozpoczecia podróży (3)', 'Unnamed: 220_level_1'),\n ('Czas trwania podróży [s] (3)', 'Unnamed: 221_level_1'),\n ('Środek transportu (3)', 'Unnamed: 222_level_1'),\n ('Typ miejsca startu (3)', 'Unnamed: 223_level_1'),\n ('Typ miejsca zakończenia (3)', 'Unnamed: 224_level_1'),\n ('Miejsce startu (3)', 'Unnamed: 225_level_1'),\n ('Numer regionu miejsca startu (3)', 'Unnamed: 226_level_1'),\n ('Numer regionu miejsca zakończenia (3)', 'Unnamed: 227_level_1'),\n ('Miejsce zakończenia (3)', 'Unnamed: 228_level_1'),\n ('ID podróży (4)', 'Unnamed: 229_level_1'),\n ('Data rozpoczecia podróży (4)', 'Unnamed: 230_level_1'),\n ('Czas trwania podróży [s] (4)', 'Unnamed: 231_level_1'),\n ('Środek transportu (4)', 'Unnamed: 232_level_1'),\n ('Typ miejsca startu (4)', 'Unnamed: 233_level_1'),\n ('Typ miejsca zakończenia (4)', 'Unnamed: 234_level_1'),\n ('Miejsce startu (4)', 'Unnamed: 235_level_1'),\n ('Numer regionu miejsca startu (4)', 'Unnamed: 236_level_1'),\n ('Numer regionu miejsca zakończenia (4)', 'Unnamed: 237_level_1'),\n ('Miejsce zakończenia (4)', 'Unnamed: 238_level_1'),\n ('ID podróży (5)', 'Unnamed: 239_level_1'),\n ('Data rozpoczecia podróży (5)', 'Unnamed: 240_level_1'),\n ('Czas trwania podróży [s] (5)', 'Unnamed: 241_level_1'),\n ('Środek transportu (5)', 'Unnamed: 242_level_1'),\n ('Typ miejsca startu (5)', 'Unnamed: 243_level_1'),\n ('Typ miejsca zakończenia (5)', 'Unnamed: 244_level_1'),\n ('Miejsce startu (5)', 'Unnamed: 245_level_1'),\n ('Numer regionu miejsca startu (5)', 'Unnamed: 246_level_1'),\n ('Numer regionu miejsca zakończenia (5)', 'Unnamed: 247_level_1'),\n ('Miejsce zakończenia (5)', 'Unnamed: 248_level_1'),\n ('ID podróży (6)', 'Unnamed: 249_level_1'),\n ('Data rozpoczecia podróży (6)', 'Unnamed: 250_level_1'),\n ('Czas trwania podróży [s] (6)', 'Unnamed: 251_level_1'),\n ('Środek transportu (6)', 'Unnamed: 252_level_1'),\n ('Typ miejsca startu (6)', 'Unnamed: 253_level_1'),\n ('Typ miejsca zakończenia (6)', 'Unnamed: 254_level_1'),\n ('Miejsce startu (6)', 'Unnamed: 255_level_1'),\n ('Numer regionu miejsca startu (6)', 'Unnamed: 256_level_1'),\n ('Numer regionu miejsca zakończenia (6)', 'Unnamed: 257_level_1'),\n ('Miejsce zakończenia (6)', 'Unnamed: 258_level_1'),\n ('ID podróży (7)', 'Unnamed: 259_level_1'),\n ('Data rozpoczecia podróży (7)', 'Unnamed: 260_level_1'),\n ('Czas trwania podróży [s] (7)', 'Unnamed: 261_level_1'),\n ('Środek transportu (7)', 'Unnamed: 262_level_1'),\n ('Typ miejsca startu (7)', 'Unnamed: 263_level_1'),\n ('Typ miejsca zakończenia (7)', 'Unnamed: 264_level_1'),\n ('Miejsce startu (7)', 'Unnamed: 265_level_1'),\n ('Numer regionu miejsca startu (7)', 'Unnamed: 266_level_1'),\n ('Numer regionu miejsca zakończenia (7)', 'Unnamed: 267_level_1'),\n ('Miejsce zakończenia (7)', 'Unnamed: 268_level_1'),\n ('ID podróży (8)', 'Unnamed: 269_level_1'),\n ('Data rozpoczecia podróży (8)', 'Unnamed: 270_level_1'),\n ('Czas trwania podróży [s] (8)', 'Unnamed: 271_level_1'),\n ('Środek transportu (8)', 'Unnamed: 272_level_1'),\n ('Typ miejsca startu (8)', 'Unnamed: 273_level_1'),\n ('Typ miejsca zakończenia (8)', 'Unnamed: 274_level_1'),\n ('Miejsce startu (8)', 'Unnamed: 275_level_1'),\n ('Numer regionu miejsca startu (8)', 'Unnamed: 276_level_1'),\n ('Numer regionu miejsca zakończenia (8)', 'Unnamed: 277_level_1'),\n ('Miejsce zakończenia (8)', 'Unnamed: 278_level_1'),\n ('ID podróży (9)', 'Unnamed: 279_level_1'),\n ('Data rozpoczecia podróży (9)', 'Unnamed: 280_level_1'),\n ('Czas trwania podróży [s] (9)', 'Unnamed: 281_level_1'),\n ('Środek transportu (9)', 'Unnamed: 282_level_1'),\n ('Typ miejsca startu (9)', 'Unnamed: 283_level_1'),\n ('Typ miejsca zakończenia (9)', 'Unnamed: 284_level_1'),\n ('Miejsce startu (9)', 'Unnamed: 285_level_1'),\n ('Numer regionu miejsca startu (9)', 'Unnamed: 286_level_1'),\n ('Numer regionu miejsca zakończenia (9)', 'Unnamed: 287_level_1'),\n ('Miejsce zakończenia (9)', 'Unnamed: 288_level_1'),\n ('ID podróży (10)', 'Unnamed: 289_level_1'),\n ('Data rozpoczecia podróży (10)', 'Unnamed: 290_level_1'),\n ('Czas trwania podróży [s] (10)', 'Unnamed: 291_level_1'),\n ('Środek transportu (10)', 'Unnamed: 292_level_1'),\n ('Typ miejsca startu (10)', 'Unnamed: 293_level_1'),\n ('Typ miejsca zakończenia (10)', 'Unnamed: 294_level_1'),\n ('Miejsce startu (10)', 'Unnamed: 295_level_1'),\n ('Numer regionu miejsca startu (10)', 'Unnamed: 296_level_1'),\n ('Numer regionu miejsca zakończenia (10)', 'Unnamed: 297_level_1'),\n ('Miejsce zakończenia (10)', 'Unnamed: 298_level_1'),\n ('ID podróży (11)', 'Unnamed: 299_level_1'),\n ('Data rozpoczecia podróży (11)', 'Unnamed: 300_level_1'),\n ('Czas trwania podróży [s] (11)', 'Unnamed: 301_level_1'),\n ('Środek transportu (11)', 'Unnamed: 302_level_1'),\n ('Typ miejsca startu (11)', 'Unnamed: 303_level_1'),\n ('Typ miejsca zakończenia (11)', 'Unnamed: 304_level_1'),\n ('Miejsce startu (11)', 'Unnamed: 305_level_1'),\n ('Numer regionu miejsca startu (11)', 'Unnamed: 306_level_1'),\n ('Numer regionu miejsca zakończenia (11)', 'Unnamed: 307_level_1'),\n ('Miejsce zakończenia (11)', 'Unnamed: 308_level_1'),\n ('ID podróży (12)', 'Unnamed: 309_level_1'),\n ('Data rozpoczecia podróży (12)', 'Unnamed: 310_level_1'),\n ('Czas trwania podróży [s] (12)', 'Unnamed: 311_level_1'),\n ('Środek transportu (12)', 'Unnamed: 312_level_1'),\n ('Typ miejsca startu (12)', 'Unnamed: 313_level_1'),\n ('Typ miejsca zakończenia (12)', 'Unnamed: 314_level_1'),\n ('Miejsce startu (12)', 'Unnamed: 315_level_1'),\n ('Numer regionu miejsca startu (12)', 'Unnamed: 316_level_1'),\n ('Numer regionu miejsca zakończenia (12)', 'Unnamed: 317_level_1'),\n ('Miejsce zakończenia (12)', 'Unnamed: 318_level_1'),\n ('ID podróży (13)', 'Unnamed: 319_level_1'),\n ('Data rozpoczecia podróży (13)', 'Unnamed: 320_level_1'),\n ('Czas trwania podróży [s] (13)', 'Unnamed: 321_level_1'),\n ('Środek transportu (13)', 'Unnamed: 322_level_1'),\n ('Typ miejsca startu (13)', 'Unnamed: 323_level_1'),\n ('Typ miejsca zakończenia (13)', 'Unnamed: 324_level_1'),\n ('Miejsce startu (13)', 'Unnamed: 325_level_1'),\n ('Numer regionu miejsca startu (13)', 'Unnamed: 326_level_1'),\n ('Numer regionu miejsca zakończenia (13)', 'Unnamed: 327_level_1'),\n ('Miejsce zakończenia (13)', 'Unnamed: 328_level_1'),\n ('ID podróży (14)', 'Unnamed: 329_level_1'),\n ('Data rozpoczecia podróży (14)', 'Unnamed: 330_level_1'),\n ('Czas trwania podróży [s] (14)', 'Unnamed: 331_level_1'),\n ('Środek transportu (14)', 'Unnamed: 332_level_1'),\n ('Typ miejsca startu (14)', 'Unnamed: 333_level_1'),\n ('Typ miejsca zakończenia (14)', 'Unnamed: 334_level_1'),\n ('Miejsce startu (14)', 'Unnamed: 335_level_1'),\n ('Numer regionu miejsca startu (14)', 'Unnamed: 336_level_1'),\n ('Numer regionu miejsca zakończenia (14)', 'Unnamed: 337_level_1'),\n ('Miejsce zakończenia (14)', 'Unnamed: 338_level_1'),\n ('ID podróży (15)', 'Unnamed: 339_level_1'),\n ('Data rozpoczecia podróży (15)', 'Unnamed: 340_level_1'),\n ('Czas trwania podróży [s] (15)', 'Unnamed: 341_level_1'),\n ('Środek transportu (15)', 'Unnamed: 342_level_1'),\n ('Typ miejsca startu (15)', 'Unnamed: 343_level_1'),\n ('Typ miejsca zakończenia (15)', 'Unnamed: 344_level_1'),\n ('Miejsce startu (15)', 'Unnamed: 345_level_1'),\n ('Numer regionu miejsca startu (15)', 'Unnamed: 346_level_1'),\n ('Numer regionu miejsca zakończenia (15)', 'Unnamed: 347_level_1'),\n ('Miejsce zakończenia (15)', 'Unnamed: 348_level_1'),\n ('ID podróży (16)', 'Unnamed: 349_level_1'),\n ('Data rozpoczecia podróży (16)', 'Unnamed: 350_level_1'),\n ('Czas trwania podróży [s] (16)', 'Unnamed: 351_level_1'),\n ('Środek transportu (16)', 'Unnamed: 352_level_1'),\n ('Typ miejsca startu (16)', 'Unnamed: 353_level_1'),\n ('Typ miejsca zakończenia (16)', 'Unnamed: 354_level_1'),\n ('Miejsce startu (16)', 'Unnamed: 355_level_1'),\n ('Numer regionu miejsca startu (16)', 'Unnamed: 356_level_1'),\n ('Numer regionu miejsca zakończenia (16)', 'Unnamed: 357_level_1'),\n ('Miejsce zakończenia (16)', 'Unnamed: 358_level_1'),\n ('ID podróży (17)', 'Unnamed: 359_level_1'),\n ('Data rozpoczecia podróży (17)', 'Unnamed: 360_level_1'),\n ('Czas trwania podróży [s] (17)', 'Unnamed: 361_level_1'),\n ('Środek transportu (17)', 'Unnamed: 362_level_1'),\n ('Typ miejsca startu (17)', 'Unnamed: 363_level_1'),\n ('Typ miejsca zakończenia (17)', 'Unnamed: 364_level_1'),\n ('Miejsce startu (17)', 'Unnamed: 365_level_1'),\n ('Numer regionu miejsca startu (17)', 'Unnamed: 366_level_1'),\n ('Numer regionu miejsca zakończenia (17)', 'Unnamed: 367_level_1'),\n ('Miejsce zakończenia (17)', 'Unnamed: 368_level_1'),\n ('ID podróży (18)', 'Unnamed: 369_level_1'),\n ('Data rozpoczecia podróży (18)', 'Unnamed: 370_level_1'),\n ('Czas trwania podróży [s] (18)', 'Unnamed: 371_level_1'),\n ('Środek transportu (18)', 'Unnamed: 372_level_1'),\n ('Typ miejsca startu (18)', 'Unnamed: 373_level_1'),\n ('Typ miejsca zakończenia (18)', 'Unnamed: 374_level_1'),\n ('Miejsce startu (18)', 'Unnamed: 375_level_1'),\n ('Numer regionu miejsca startu (18)', 'Unnamed: 376_level_1'),\n ('Numer regionu miejsca zakończenia (18)', 'Unnamed: 377_level_1'),\n ('Miejsce zakończenia (18)', 'Unnamed: 378_level_1'),\n ('ID podróży (19)', 'Unnamed: 379_level_1'),\n ('Data rozpoczecia podróży (19)', 'Unnamed: 380_level_1'),\n ('Czas trwania podróży [s] (19)', 'Unnamed: 381_level_1'),\n ('Środek transportu (19)', 'Unnamed: 382_level_1'),\n ('Typ miejsca startu (19)', 'Unnamed: 383_level_1'),\n ('Typ miejsca zakończenia (19)', 'Unnamed: 384_level_1'),\n ('Miejsce startu (19)', 'Unnamed: 385_level_1'),\n ('Numer regionu miejsca startu (19)', 'Unnamed: 386_level_1'),\n ('Numer regionu miejsca zakończenia (19)', 'Unnamed: 387_level_1'),\n ('Miejsce zakończenia (19)', 'Unnamed: 388_level_1'),\n ('ID podróży (20)', 'Unnamed: 389_level_1'),\n ('Data rozpoczecia podróży (20)', 'Unnamed: 390_level_1'),\n ('Czas trwania podróży [s] (20)', 'Unnamed: 391_level_1'),\n ('Środek transportu (20)', 'Unnamed: 392_level_1'),\n ('Typ miejsca startu (20)', 'Unnamed: 393_level_1'),\n ('Typ miejsca zakończenia (20)', 'Unnamed: 394_level_1'),\n ('Miejsce startu (20)', 'Unnamed: 395_level_1'),\n ('Numer regionu miejsca startu (20)', 'Unnamed: 396_level_1'),\n ('Numer regionu miejsca zakończenia (20)', 'Unnamed: 397_level_1'),\n ('Miejsce zakończenia (20)', 'Unnamed: 398_level_1'),\n ('ID podróży (21)', 'Unnamed: 399_level_1'),\n ('Data rozpoczecia podróży (21)', 'Unnamed: 400_level_1'),\n ('Czas trwania podróży [s] (21)', 'Unnamed: 401_level_1'),\n ('Środek transportu (21)', 'Unnamed: 402_level_1'),\n ('Typ miejsca startu (21)', 'Unnamed: 403_level_1'),\n ('Typ miejsca zakończenia (21)', 'Unnamed: 404_level_1'),\n ('Miejsce startu (21)', 'Unnamed: 405_level_1'),\n ('Numer regionu miejsca startu (21)', 'Unnamed: 406_level_1'),\n ('Numer regionu miejsca zakończenia (21)', 'Unnamed: 407_level_1'),\n ('Miejsce zakończenia (21)', 'Unnamed: 408_level_1'),\n ('ID podróży (22)', 'Unnamed: 409_level_1'),\n ('Data rozpoczecia podróży (22)', 'Unnamed: 410_level_1'),\n ('Czas trwania podróży [s] (22)', 'Unnamed: 411_level_1'),\n ('Środek transportu (22)', 'Unnamed: 412_level_1'),\n ('Typ miejsca startu (22)', 'Unnamed: 413_level_1'),\n ('Typ miejsca zakończenia (22)', 'Unnamed: 414_level_1'),\n ('Miejsce startu (22)', 'Unnamed: 415_level_1'),\n ('Numer regionu miejsca startu (22)', 'Unnamed: 416_level_1'),\n ('Numer regionu miejsca zakończenia (22)', 'Unnamed: 417_level_1'),\n ('Miejsce zakończenia (22)', 'Unnamed: 418_level_1'),\n ('ID podróży (23)', 'Unnamed: 419_level_1'),\n ('Data rozpoczecia podróży (23)', 'Unnamed: 420_level_1'),\n ('Czas trwania podróży [s] (23)', 'Unnamed: 421_level_1'),\n ('Środek transportu (23)', 'Unnamed: 422_level_1'),\n ('Typ miejsca startu (23)', 'Unnamed: 423_level_1'),\n ('Typ miejsca zakończenia (23)', 'Unnamed: 424_level_1'),\n ('Miejsce startu (23)', 'Unnamed: 425_level_1'),\n ('Numer regionu miejsca startu (23)', 'Unnamed: 426_level_1'),\n ('Numer regionu miejsca zakończenia (23)', 'Unnamed: 427_level_1'),\n ('Miejsce zakończenia (23)', 'Unnamed: 428_level_1'),\n ('ID podróży (24)', 'Unnamed: 429_level_1'),\n ('Data rozpoczecia podróży (24)', 'Unnamed: 430_level_1'),\n ('Czas trwania podróży [s] (24)', 'Unnamed: 431_level_1'),\n ('Środek transportu (24)', 'Unnamed: 432_level_1'),\n ('Typ miejsca startu (24)', 'Unnamed: 433_level_1'),\n ('Typ miejsca zakończenia (24)', 'Unnamed: 434_level_1'),\n ('Miejsce startu (24)', 'Unnamed: 435_level_1'),\n ('Numer regionu miejsca startu (24)', 'Unnamed: 436_level_1'),\n ('Numer regionu miejsca zakończenia (24)', 'Unnamed: 437_level_1'),\n ('Miejsce zakończenia (24)', 'Unnamed: 438_level_1'),\n ('ID podróży (25)', 'Unnamed: 439_level_1'),\n ('Data rozpoczecia podróży (25)', 'Unnamed: 440_level_1'),\n ('Czas trwania podróży [s] (25)', 'Unnamed: 441_level_1'),\n ('Środek transportu (25)', 'Unnamed: 442_level_1'),\n ('Typ miejsca startu (25)', 'Unnamed: 443_level_1'),\n ('Typ miejsca zakończenia (25)', 'Unnamed: 444_level_1'),\n ('Miejsce startu (25)', 'Unnamed: 445_level_1'),\n ('Numer regionu miejsca startu (25)', 'Unnamed: 446_level_1'),\n ('Numer regionu miejsca zakończenia (25)', 'Unnamed: 447_level_1'),\n ('Miejsce zakończenia (25)', 'Unnamed: 448_level_1'),\n ('ID podróży (26)', 'Unnamed: 449_level_1'),\n ('Data rozpoczecia podróży (26)', 'Unnamed: 450_level_1'),\n ('Czas trwania podróży [s] (26)', 'Unnamed: 451_level_1'),\n ('Środek transportu (26)', 'Unnamed: 452_level_1'),\n ('Typ miejsca startu (26)', 'Unnamed: 453_level_1'),\n ('Typ miejsca zakończenia (26)', 'Unnamed: 454_level_1'),\n ('Miejsce startu (26)', 'Unnamed: 455_level_1'),\n ('Numer regionu miejsca startu (26)', 'Unnamed: 456_level_1'),\n ('Numer regionu miejsca zakończenia (26)', 'Unnamed: 457_level_1'),\n ('Miejsce zakończenia (26)', 'Unnamed: 458_level_1'),\n ('ID podróży (27)', 'Unnamed: 459_level_1'),\n ('Data rozpoczecia podróży (27)', 'Unnamed: 460_level_1'),\n ('Czas trwania podróży [s] (27)', 'Unnamed: 461_level_1'),\n ('Środek transportu (27)', 'Unnamed: 462_level_1'),\n ('Typ miejsca startu (27)', 'Unnamed: 463_level_1'),\n ('Typ miejsca zakończenia (27)', 'Unnamed: 464_level_1'),\n ('Miejsce startu (27)', 'Unnamed: 465_level_1'),\n ('Numer regionu miejsca startu (27)', 'Unnamed: 466_level_1'),\n ('Numer regionu miejsca zakończenia (27)', 'Unnamed: 467_level_1'),\n ('Miejsce zakończenia (27)', 'Unnamed: 468_level_1')]"
     },
     "metadata": {},
     "output_type": "execute_result",
     "execution_count": 266
    }
   ],
   "source": [
    "colx.tolist()"
   ]
  },
  {
   "cell_type": "code",
   "execution_count": 188,
   "metadata": {},
   "outputs": [
    {
     "data": {
      "text/plain": [
       "a5e86f0b-8d67-47b3-a11b-6354d55ea59b                    Uczeń/student\n",
       "25cf0a84-82b9-4f17-ad17-392bfa680f79           Zatrudnienie na etacie\n",
       "417f9428-6782-4206-9b5a-abad64a6f6d0           Zatrudnienie na etacie\n",
       "f18069b2-954d-48ae-bbc0-8e7277c25f24           Zatrudnienie na etacie\n",
       "bf383a4f-6336-4a36-8600-77529691cd65           Zatrudnienie na etacie\n",
       "                                                    ...              \n",
       "40a39b94-ac1a-47fd-83d5-2cb45ff9e498           Zatrudnienie na etacie\n",
       "b73ed632-18aa-4213-87dc-0e076bc65924              Renta lub emerytura\n",
       "399829a8-be82-43ad-ac90-f2d3e2e3c1f8              Renta lub emerytura\n",
       "c3621b18-88ec-4e5c-bc3b-e29fefb75d39              Renta lub emerytura\n",
       "a2c98ece-dec2-4e17-8d67-48cb04748b4f    Zatrudnienie na kilku etatach\n",
       "Name: (Jaki jest Twój status zawodowy?, Jaki jest Twój status zawodowy? (1)), Length: 427, dtype: object"
      ]
     },
     "execution_count": 188,
     "metadata": {},
     "output_type": "execute_result"
    }
   ],
   "source": [
    "df.loc[:,('Jaki jest Twój status zawodowy?', 'Jaki jest Twój status zawodowy? (1)')]"
   ]
  },
  {
   "cell_type": "code",
   "execution_count": 237,
   "metadata": {
    "pycharm": {
     "is_executing": false,
     "name": "#%%\n"
    }
   },
   "outputs": [
    {
     "data": {
      "text/html": [
       "<div>\n",
       "<style scoped>\n",
       "    .dataframe tbody tr th:only-of-type {\n",
       "        vertical-align: middle;\n",
       "    }\n",
       "\n",
       "    .dataframe tbody tr th {\n",
       "        vertical-align: top;\n",
       "    }\n",
       "\n",
       "    .dataframe thead tr th {\n",
       "        text-align: left;\n",
       "    }\n",
       "</style>\n",
       "<table border=\"1\" class=\"dataframe\">\n",
       "  <thead>\n",
       "    <tr>\n",
       "      <th></th>\n",
       "      <th>Jaka jest Twoja płeć?</th>\n",
       "      <th>Ile masz lat?</th>\n",
       "    </tr>\n",
       "    <tr>\n",
       "      <th>ID odpowiedzi</th>\n",
       "      <th>Płeć</th>\n",
       "      <th>Wiek</th>\n",
       "    </tr>\n",
       "  </thead>\n",
       "  <tbody>\n",
       "    <tr>\n",
       "      <th>a5e86f0b-8d67-47b3-a11b-6354d55ea59b</th>\n",
       "      <td>Mężczyzna</td>\n",
       "      <td>25-44</td>\n",
       "    </tr>\n",
       "    <tr>\n",
       "      <th>25cf0a84-82b9-4f17-ad17-392bfa680f79</th>\n",
       "      <td>Mężczyzna</td>\n",
       "      <td>25-44</td>\n",
       "    </tr>\n",
       "    <tr>\n",
       "      <th>417f9428-6782-4206-9b5a-abad64a6f6d0</th>\n",
       "      <td>Mężczyzna</td>\n",
       "      <td>45-65</td>\n",
       "    </tr>\n",
       "    <tr>\n",
       "      <th>f18069b2-954d-48ae-bbc0-8e7277c25f24</th>\n",
       "      <td>Mężczyzna</td>\n",
       "      <td>45-65</td>\n",
       "    </tr>\n",
       "    <tr>\n",
       "      <th>bf383a4f-6336-4a36-8600-77529691cd65</th>\n",
       "      <td>Kobieta</td>\n",
       "      <td>45-65</td>\n",
       "    </tr>\n",
       "    <tr>\n",
       "      <th>...</th>\n",
       "      <td>...</td>\n",
       "      <td>...</td>\n",
       "    </tr>\n",
       "    <tr>\n",
       "      <th>40a39b94-ac1a-47fd-83d5-2cb45ff9e498</th>\n",
       "      <td>Kobieta</td>\n",
       "      <td>45-65</td>\n",
       "    </tr>\n",
       "    <tr>\n",
       "      <th>b73ed632-18aa-4213-87dc-0e076bc65924</th>\n",
       "      <td>Kobieta</td>\n",
       "      <td>66 lat i więcej</td>\n",
       "    </tr>\n",
       "    <tr>\n",
       "      <th>399829a8-be82-43ad-ac90-f2d3e2e3c1f8</th>\n",
       "      <td>Kobieta</td>\n",
       "      <td>66 lat i więcej</td>\n",
       "    </tr>\n",
       "    <tr>\n",
       "      <th>c3621b18-88ec-4e5c-bc3b-e29fefb75d39</th>\n",
       "      <td>Mężczyzna</td>\n",
       "      <td>66 lat i więcej</td>\n",
       "    </tr>\n",
       "    <tr>\n",
       "      <th>a2c98ece-dec2-4e17-8d67-48cb04748b4f</th>\n",
       "      <td>Mężczyzna</td>\n",
       "      <td>25-44</td>\n",
       "    </tr>\n",
       "  </tbody>\n",
       "</table>\n",
       "<p>427 rows × 2 columns</p>\n",
       "</div>"
      ],
      "text/plain": [
       "                                     Jaka jest Twoja płeć?    Ile masz lat?\n",
       "ID odpowiedzi                                         Płeć             Wiek\n",
       "a5e86f0b-8d67-47b3-a11b-6354d55ea59b             Mężczyzna            25-44\n",
       "25cf0a84-82b9-4f17-ad17-392bfa680f79             Mężczyzna            25-44\n",
       "417f9428-6782-4206-9b5a-abad64a6f6d0             Mężczyzna            45-65\n",
       "f18069b2-954d-48ae-bbc0-8e7277c25f24             Mężczyzna            45-65\n",
       "bf383a4f-6336-4a36-8600-77529691cd65               Kobieta            45-65\n",
       "...                                                    ...              ...\n",
       "40a39b94-ac1a-47fd-83d5-2cb45ff9e498               Kobieta            45-65\n",
       "b73ed632-18aa-4213-87dc-0e076bc65924               Kobieta  66 lat i więcej\n",
       "399829a8-be82-43ad-ac90-f2d3e2e3c1f8               Kobieta  66 lat i więcej\n",
       "c3621b18-88ec-4e5c-bc3b-e29fefb75d39             Mężczyzna  66 lat i więcej\n",
       "a2c98ece-dec2-4e17-8d67-48cb04748b4f             Mężczyzna            25-44\n",
       "\n",
       "[427 rows x 2 columns]"
      ]
     },
     "execution_count": 237,
     "metadata": {},
     "output_type": "execute_result"
    }
   ],
   "source": [
    "df_age = df.loc[:,['Jaka jest Twoja płeć?','Ile masz lat?']]\n",
    "df_age"
   ]
  },
  {
   "cell_type": "code",
   "execution_count": 238,
   "metadata": {
    "pycharm": {
     "is_executing": false
    }
   },
   "outputs": [],
   "source": [
    "df_age.columns = df_age.columns.droplevel(0)\n",
    "df_age = df_age.reset_index()"
   ]
  },
  {
   "cell_type": "code",
   "execution_count": 239,
   "metadata": {
    "pycharm": {
     "is_executing": false
    }
   },
   "outputs": [
    {
     "data": {
      "text/html": [
       "<div>\n",
       "<style scoped>\n",
       "    .dataframe tbody tr th:only-of-type {\n",
       "        vertical-align: middle;\n",
       "    }\n",
       "\n",
       "    .dataframe tbody tr th {\n",
       "        vertical-align: top;\n",
       "    }\n",
       "\n",
       "    .dataframe thead th {\n",
       "        text-align: right;\n",
       "    }\n",
       "</style>\n",
       "<table border=\"1\" class=\"dataframe\">\n",
       "  <thead>\n",
       "    <tr style=\"text-align: right;\">\n",
       "      <th>ID odpowiedzi</th>\n",
       "      <th>Wiek</th>\n",
       "      <th>Płeć</th>\n",
       "      <th>count</th>\n",
       "    </tr>\n",
       "  </thead>\n",
       "  <tbody>\n",
       "    <tr>\n",
       "      <th>0</th>\n",
       "      <td>25-44</td>\n",
       "      <td>Mężczyzna</td>\n",
       "      <td>1</td>\n",
       "    </tr>\n",
       "    <tr>\n",
       "      <th>1</th>\n",
       "      <td>25-44</td>\n",
       "      <td>Mężczyzna</td>\n",
       "      <td>1</td>\n",
       "    </tr>\n",
       "    <tr>\n",
       "      <th>2</th>\n",
       "      <td>45-65</td>\n",
       "      <td>Mężczyzna</td>\n",
       "      <td>1</td>\n",
       "    </tr>\n",
       "    <tr>\n",
       "      <th>3</th>\n",
       "      <td>45-65</td>\n",
       "      <td>Mężczyzna</td>\n",
       "      <td>1</td>\n",
       "    </tr>\n",
       "    <tr>\n",
       "      <th>4</th>\n",
       "      <td>45-65</td>\n",
       "      <td>Kobieta</td>\n",
       "      <td>1</td>\n",
       "    </tr>\n",
       "    <tr>\n",
       "      <th>...</th>\n",
       "      <td>...</td>\n",
       "      <td>...</td>\n",
       "      <td>...</td>\n",
       "    </tr>\n",
       "    <tr>\n",
       "      <th>422</th>\n",
       "      <td>45-65</td>\n",
       "      <td>Kobieta</td>\n",
       "      <td>1</td>\n",
       "    </tr>\n",
       "    <tr>\n",
       "      <th>423</th>\n",
       "      <td>66 lat i więcej</td>\n",
       "      <td>Kobieta</td>\n",
       "      <td>1</td>\n",
       "    </tr>\n",
       "    <tr>\n",
       "      <th>424</th>\n",
       "      <td>66 lat i więcej</td>\n",
       "      <td>Kobieta</td>\n",
       "      <td>1</td>\n",
       "    </tr>\n",
       "    <tr>\n",
       "      <th>425</th>\n",
       "      <td>66 lat i więcej</td>\n",
       "      <td>Mężczyzna</td>\n",
       "      <td>1</td>\n",
       "    </tr>\n",
       "    <tr>\n",
       "      <th>426</th>\n",
       "      <td>25-44</td>\n",
       "      <td>Mężczyzna</td>\n",
       "      <td>1</td>\n",
       "    </tr>\n",
       "  </tbody>\n",
       "</table>\n",
       "<p>427 rows × 3 columns</p>\n",
       "</div>"
      ],
      "text/plain": [
       "ID odpowiedzi             Wiek       Płeć  count\n",
       "0                        25-44  Mężczyzna      1\n",
       "1                        25-44  Mężczyzna      1\n",
       "2                        45-65  Mężczyzna      1\n",
       "3                        45-65  Mężczyzna      1\n",
       "4                        45-65    Kobieta      1\n",
       "..                         ...        ...    ...\n",
       "422                      45-65    Kobieta      1\n",
       "423            66 lat i więcej    Kobieta      1\n",
       "424            66 lat i więcej    Kobieta      1\n",
       "425            66 lat i więcej  Mężczyzna      1\n",
       "426                      25-44  Mężczyzna      1\n",
       "\n",
       "[427 rows x 3 columns]"
      ]
     },
     "execution_count": 239,
     "metadata": {},
     "output_type": "execute_result"
    }
   ],
   "source": [
    "df_age = df_age[['Wiek','Płeć']] \n",
    "df_age['count'] = 1\n",
    "df_age"
   ]
  },
  {
   "cell_type": "code",
   "execution_count": 263,
   "metadata": {},
   "outputs": [
    {
     "data": {
      "text/plain": [
       "25-44              245\n",
       "45-65               76\n",
       "66 lat i więcej     59\n",
       "20-24               30\n",
       "16-19               13\n",
       "6-15                 4\n",
       "Name: Wiek, dtype: int64"
      ]
     },
     "execution_count": 263,
     "metadata": {},
     "output_type": "execute_result"
    }
   ],
   "source": [
    "df_age['Wiek'] = df_age['Wiek'].astype(str).replace('2020-06-15 00:00:00', '6-15')\n",
    "df_age.Wiek.value_counts()"
   ]
  },
  {
   "cell_type": "code",
   "execution_count": 264,
   "metadata": {},
   "outputs": [
    {
     "data": {
      "application/vnd.plotly.v1+json": {
       "config": {
        "plotlyServerURL": "https://plot.ly"
       },
       "data": [
        {
         "alignmentgroup": "True",
         "hovertemplate": "Płeć=Mężczyzna<br>Wiek=%{x}<br>count=%{y}<extra></extra>",
         "legendgroup": "Mężczyzna",
         "marker": {
          "color": "#636efa"
         },
         "name": "Mężczyzna",
         "offsetgroup": "Mężczyzna",
         "orientation": "v",
         "showlegend": true,
         "textposition": "auto",
         "type": "bar",
         "x": [
          "25-44",
          "25-44",
          "45-65",
          "45-65",
          "25-44",
          "45-65",
          "25-44",
          "25-44",
          "25-44",
          "25-44",
          "25-44",
          "45-65",
          "25-44",
          "25-44",
          "25-44",
          "25-44",
          "25-44",
          "45-65",
          "25-44",
          "25-44",
          "45-65",
          "25-44",
          "25-44",
          "25-44",
          "25-44",
          "25-44",
          "25-44",
          "45-65",
          "45-65",
          "25-44",
          "25-44",
          "25-44",
          "25-44",
          "25-44",
          "25-44",
          "25-44",
          "25-44",
          "25-44",
          "25-44",
          "25-44",
          "45-65",
          "66 lat i więcej",
          "25-44",
          "25-44",
          "25-44",
          "25-44",
          "45-65",
          "45-65",
          "25-44",
          "20-24",
          "25-44",
          "25-44",
          "25-44",
          "25-44",
          "25-44",
          "25-44",
          "45-65",
          "25-44",
          "20-24",
          "45-65",
          "45-65",
          "25-44",
          "45-65",
          "16-19",
          "25-44",
          "20-24",
          "25-44",
          "16-19",
          "25-44",
          "25-44",
          "25-44",
          "25-44",
          "25-44",
          "25-44",
          "25-44",
          "25-44",
          "16-19",
          "66 lat i więcej",
          "25-44",
          "25-44",
          "66 lat i więcej",
          "66 lat i więcej",
          "25-44",
          "20-24",
          "25-44",
          "25-44",
          "25-44",
          "25-44",
          "25-44",
          "25-44",
          "20-24",
          "25-44",
          "25-44",
          "25-44",
          "25-44",
          "25-44",
          "66 lat i więcej",
          "25-44",
          "20-24",
          "66 lat i więcej",
          "66 lat i więcej",
          "25-44",
          "20-24",
          "25-44",
          "25-44",
          "25-44",
          "6-15",
          "20-24",
          "20-24",
          "20-24",
          "20-24",
          "25-44",
          "25-44",
          "45-65",
          "25-44",
          "25-44",
          "45-65",
          "25-44",
          "25-44",
          "25-44",
          "25-44",
          "25-44",
          "66 lat i więcej",
          "45-65",
          "66 lat i więcej",
          "45-65",
          "25-44",
          "25-44",
          "25-44",
          "25-44",
          "25-44",
          "25-44",
          "25-44",
          "25-44",
          "25-44",
          "25-44",
          "45-65",
          "45-65",
          "25-44",
          "45-65",
          "25-44",
          "25-44",
          "16-19",
          "45-65",
          "25-44",
          "66 lat i więcej",
          "25-44",
          "20-24",
          "25-44",
          "45-65",
          "25-44",
          "45-65",
          "66 lat i więcej",
          "66 lat i więcej",
          "16-19",
          "45-65",
          "66 lat i więcej",
          "45-65",
          "20-24",
          "20-24",
          "25-44",
          "16-19",
          "25-44",
          "45-65",
          "45-65",
          "45-65",
          "25-44",
          "25-44",
          "25-44",
          "20-24",
          "25-44",
          "25-44",
          "25-44",
          "20-24",
          "25-44",
          "25-44",
          "25-44",
          "25-44",
          "45-65",
          "25-44",
          "25-44",
          "25-44",
          "25-44",
          "25-44",
          "25-44",
          "25-44",
          "66 lat i więcej",
          "25-44",
          "45-65",
          "25-44",
          "25-44",
          "25-44",
          "16-19",
          "20-24",
          "25-44",
          "66 lat i więcej",
          "25-44",
          "25-44",
          "25-44",
          "25-44",
          "6-15",
          "20-24",
          "45-65",
          "25-44",
          "25-44",
          "66 lat i więcej",
          "66 lat i więcej",
          "66 lat i więcej",
          "25-44",
          "66 lat i więcej",
          "66 lat i więcej",
          "66 lat i więcej",
          "25-44",
          "66 lat i więcej",
          "66 lat i więcej",
          "66 lat i więcej",
          "66 lat i więcej",
          "25-44"
         ],
         "xaxis": "x",
         "y": [
          1,
          1,
          1,
          1,
          1,
          1,
          1,
          1,
          1,
          1,
          1,
          1,
          1,
          1,
          1,
          1,
          1,
          1,
          1,
          1,
          1,
          1,
          1,
          1,
          1,
          1,
          1,
          1,
          1,
          1,
          1,
          1,
          1,
          1,
          1,
          1,
          1,
          1,
          1,
          1,
          1,
          1,
          1,
          1,
          1,
          1,
          1,
          1,
          1,
          1,
          1,
          1,
          1,
          1,
          1,
          1,
          1,
          1,
          1,
          1,
          1,
          1,
          1,
          1,
          1,
          1,
          1,
          1,
          1,
          1,
          1,
          1,
          1,
          1,
          1,
          1,
          1,
          1,
          1,
          1,
          1,
          1,
          1,
          1,
          1,
          1,
          1,
          1,
          1,
          1,
          1,
          1,
          1,
          1,
          1,
          1,
          1,
          1,
          1,
          1,
          1,
          1,
          1,
          1,
          1,
          1,
          1,
          1,
          1,
          1,
          1,
          1,
          1,
          1,
          1,
          1,
          1,
          1,
          1,
          1,
          1,
          1,
          1,
          1,
          1,
          1,
          1,
          1,
          1,
          1,
          1,
          1,
          1,
          1,
          1,
          1,
          1,
          1,
          1,
          1,
          1,
          1,
          1,
          1,
          1,
          1,
          1,
          1,
          1,
          1,
          1,
          1,
          1,
          1,
          1,
          1,
          1,
          1,
          1,
          1,
          1,
          1,
          1,
          1,
          1,
          1,
          1,
          1,
          1,
          1,
          1,
          1,
          1,
          1,
          1,
          1,
          1,
          1,
          1,
          1,
          1,
          1,
          1,
          1,
          1,
          1,
          1,
          1,
          1,
          1,
          1,
          1,
          1,
          1,
          1,
          1,
          1,
          1,
          1,
          1,
          1,
          1,
          1,
          1,
          1,
          1,
          1,
          1,
          1,
          1,
          1,
          1,
          1,
          1,
          1,
          1,
          1,
          1
         ],
         "yaxis": "y"
        },
        {
         "alignmentgroup": "True",
         "hovertemplate": "Płeć=Kobieta<br>Wiek=%{x}<br>count=%{y}<extra></extra>",
         "legendgroup": "Kobieta",
         "marker": {
          "color": "#EF553B"
         },
         "name": "Kobieta",
         "offsetgroup": "Kobieta",
         "orientation": "v",
         "showlegend": true,
         "textposition": "auto",
         "type": "bar",
         "x": [
          "45-65",
          "45-65",
          "25-44",
          "25-44",
          "25-44",
          "25-44",
          "25-44",
          "25-44",
          "25-44",
          "20-24",
          "25-44",
          "25-44",
          "25-44",
          "25-44",
          "45-65",
          "25-44",
          "45-65",
          "20-24",
          "45-65",
          "25-44",
          "45-65",
          "25-44",
          "25-44",
          "20-24",
          "25-44",
          "45-65",
          "25-44",
          "25-44",
          "25-44",
          "25-44",
          "25-44",
          "25-44",
          "25-44",
          "25-44",
          "25-44",
          "6-15",
          "25-44",
          "25-44",
          "25-44",
          "25-44",
          "20-24",
          "45-65",
          "45-65",
          "66 lat i więcej",
          "66 lat i więcej",
          "66 lat i więcej",
          "66 lat i więcej",
          "25-44",
          "25-44",
          "25-44",
          "25-44",
          "25-44",
          "25-44",
          "25-44",
          "45-65",
          "45-65",
          "25-44",
          "25-44",
          "45-65",
          "25-44",
          "25-44",
          "66 lat i więcej",
          "66 lat i więcej",
          "45-65",
          "25-44",
          "25-44",
          "25-44",
          "25-44",
          "25-44",
          "25-44",
          "25-44",
          "20-24",
          "66 lat i więcej",
          "66 lat i więcej",
          "45-65",
          "20-24",
          "20-24",
          "45-65",
          "45-65",
          "25-44",
          "66 lat i więcej",
          "66 lat i więcej",
          "66 lat i więcej",
          "66 lat i więcej",
          "45-65",
          "66 lat i więcej",
          "66 lat i więcej",
          "45-65",
          "25-44",
          "45-65",
          "25-44",
          "25-44",
          "25-44",
          "25-44",
          "16-19",
          "66 lat i więcej",
          "25-44",
          "25-44",
          "45-65",
          "45-65",
          "66 lat i więcej",
          "66 lat i więcej",
          "25-44",
          "45-65",
          "25-44",
          "25-44",
          "25-44",
          "16-19",
          "16-19",
          "25-44",
          "25-44",
          "20-24",
          "25-44",
          "6-15",
          "25-44",
          "25-44",
          "45-65",
          "25-44",
          "66 lat i więcej",
          "66 lat i więcej",
          "16-19",
          "66 lat i więcej",
          "45-65",
          "20-24",
          "25-44",
          "25-44",
          "66 lat i więcej",
          "16-19",
          "25-44",
          "45-65",
          "25-44",
          "25-44",
          "45-65",
          "25-44",
          "25-44",
          "25-44",
          "25-44",
          "20-24",
          "25-44",
          "25-44",
          "25-44",
          "25-44",
          "45-65",
          "25-44",
          "25-44",
          "25-44",
          "25-44",
          "25-44",
          "45-65",
          "45-65",
          "25-44",
          "25-44",
          "25-44",
          "45-65",
          "25-44",
          "20-24",
          "16-19",
          "20-24",
          "25-44",
          "25-44",
          "45-65",
          "45-65",
          "45-65",
          "66 lat i więcej",
          "25-44",
          "45-65",
          "66 lat i więcej",
          "45-65",
          "25-44",
          "25-44",
          "25-44",
          "25-44",
          "25-44",
          "25-44",
          "25-44",
          "25-44",
          "25-44",
          "25-44",
          "45-65",
          "25-44",
          "25-44",
          "25-44",
          "25-44",
          "25-44",
          "45-65",
          "45-65",
          "66 lat i więcej",
          "25-44",
          "66 lat i więcej",
          "66 lat i więcej",
          "66 lat i więcej",
          "66 lat i więcej",
          "66 lat i więcej",
          "66 lat i więcej",
          "25-44",
          "45-65",
          "25-44",
          "25-44",
          "25-44",
          "25-44",
          "45-65",
          "66 lat i więcej",
          "45-65",
          "66 lat i więcej",
          "45-65",
          "25-44",
          "45-65",
          "66 lat i więcej",
          "66 lat i więcej"
         ],
         "xaxis": "x",
         "y": [
          1,
          1,
          1,
          1,
          1,
          1,
          1,
          1,
          1,
          1,
          1,
          1,
          1,
          1,
          1,
          1,
          1,
          1,
          1,
          1,
          1,
          1,
          1,
          1,
          1,
          1,
          1,
          1,
          1,
          1,
          1,
          1,
          1,
          1,
          1,
          1,
          1,
          1,
          1,
          1,
          1,
          1,
          1,
          1,
          1,
          1,
          1,
          1,
          1,
          1,
          1,
          1,
          1,
          1,
          1,
          1,
          1,
          1,
          1,
          1,
          1,
          1,
          1,
          1,
          1,
          1,
          1,
          1,
          1,
          1,
          1,
          1,
          1,
          1,
          1,
          1,
          1,
          1,
          1,
          1,
          1,
          1,
          1,
          1,
          1,
          1,
          1,
          1,
          1,
          1,
          1,
          1,
          1,
          1,
          1,
          1,
          1,
          1,
          1,
          1,
          1,
          1,
          1,
          1,
          1,
          1,
          1,
          1,
          1,
          1,
          1,
          1,
          1,
          1,
          1,
          1,
          1,
          1,
          1,
          1,
          1,
          1,
          1,
          1,
          1,
          1,
          1,
          1,
          1,
          1,
          1,
          1,
          1,
          1,
          1,
          1,
          1,
          1,
          1,
          1,
          1,
          1,
          1,
          1,
          1,
          1,
          1,
          1,
          1,
          1,
          1,
          1,
          1,
          1,
          1,
          1,
          1,
          1,
          1,
          1,
          1,
          1,
          1,
          1,
          1,
          1,
          1,
          1,
          1,
          1,
          1,
          1,
          1,
          1,
          1,
          1,
          1,
          1,
          1,
          1,
          1,
          1,
          1,
          1,
          1,
          1,
          1,
          1,
          1,
          1,
          1,
          1,
          1,
          1,
          1,
          1,
          1,
          1,
          1,
          1,
          1,
          1,
          1,
          1,
          1,
          1,
          1,
          1,
          1
         ],
         "yaxis": "y"
        }
       ],
       "layout": {
        "barmode": "relative",
        "legend": {
         "title": {
          "text": "Płeć"
         },
         "tracegroupgap": 0
        },
        "margin": {
         "t": 60
        },
        "template": {
         "data": {
          "bar": [
           {
            "error_x": {
             "color": "#2a3f5f"
            },
            "error_y": {
             "color": "#2a3f5f"
            },
            "marker": {
             "line": {
              "color": "#E5ECF6",
              "width": 0.5
             }
            },
            "type": "bar"
           }
          ],
          "barpolar": [
           {
            "marker": {
             "line": {
              "color": "#E5ECF6",
              "width": 0.5
             }
            },
            "type": "barpolar"
           }
          ],
          "carpet": [
           {
            "aaxis": {
             "endlinecolor": "#2a3f5f",
             "gridcolor": "white",
             "linecolor": "white",
             "minorgridcolor": "white",
             "startlinecolor": "#2a3f5f"
            },
            "baxis": {
             "endlinecolor": "#2a3f5f",
             "gridcolor": "white",
             "linecolor": "white",
             "minorgridcolor": "white",
             "startlinecolor": "#2a3f5f"
            },
            "type": "carpet"
           }
          ],
          "choropleth": [
           {
            "colorbar": {
             "outlinewidth": 0,
             "ticks": ""
            },
            "type": "choropleth"
           }
          ],
          "contour": [
           {
            "colorbar": {
             "outlinewidth": 0,
             "ticks": ""
            },
            "colorscale": [
             [
              0,
              "#0d0887"
             ],
             [
              0.1111111111111111,
              "#46039f"
             ],
             [
              0.2222222222222222,
              "#7201a8"
             ],
             [
              0.3333333333333333,
              "#9c179e"
             ],
             [
              0.4444444444444444,
              "#bd3786"
             ],
             [
              0.5555555555555556,
              "#d8576b"
             ],
             [
              0.6666666666666666,
              "#ed7953"
             ],
             [
              0.7777777777777778,
              "#fb9f3a"
             ],
             [
              0.8888888888888888,
              "#fdca26"
             ],
             [
              1,
              "#f0f921"
             ]
            ],
            "type": "contour"
           }
          ],
          "contourcarpet": [
           {
            "colorbar": {
             "outlinewidth": 0,
             "ticks": ""
            },
            "type": "contourcarpet"
           }
          ],
          "heatmap": [
           {
            "colorbar": {
             "outlinewidth": 0,
             "ticks": ""
            },
            "colorscale": [
             [
              0,
              "#0d0887"
             ],
             [
              0.1111111111111111,
              "#46039f"
             ],
             [
              0.2222222222222222,
              "#7201a8"
             ],
             [
              0.3333333333333333,
              "#9c179e"
             ],
             [
              0.4444444444444444,
              "#bd3786"
             ],
             [
              0.5555555555555556,
              "#d8576b"
             ],
             [
              0.6666666666666666,
              "#ed7953"
             ],
             [
              0.7777777777777778,
              "#fb9f3a"
             ],
             [
              0.8888888888888888,
              "#fdca26"
             ],
             [
              1,
              "#f0f921"
             ]
            ],
            "type": "heatmap"
           }
          ],
          "heatmapgl": [
           {
            "colorbar": {
             "outlinewidth": 0,
             "ticks": ""
            },
            "colorscale": [
             [
              0,
              "#0d0887"
             ],
             [
              0.1111111111111111,
              "#46039f"
             ],
             [
              0.2222222222222222,
              "#7201a8"
             ],
             [
              0.3333333333333333,
              "#9c179e"
             ],
             [
              0.4444444444444444,
              "#bd3786"
             ],
             [
              0.5555555555555556,
              "#d8576b"
             ],
             [
              0.6666666666666666,
              "#ed7953"
             ],
             [
              0.7777777777777778,
              "#fb9f3a"
             ],
             [
              0.8888888888888888,
              "#fdca26"
             ],
             [
              1,
              "#f0f921"
             ]
            ],
            "type": "heatmapgl"
           }
          ],
          "histogram": [
           {
            "marker": {
             "colorbar": {
              "outlinewidth": 0,
              "ticks": ""
             }
            },
            "type": "histogram"
           }
          ],
          "histogram2d": [
           {
            "colorbar": {
             "outlinewidth": 0,
             "ticks": ""
            },
            "colorscale": [
             [
              0,
              "#0d0887"
             ],
             [
              0.1111111111111111,
              "#46039f"
             ],
             [
              0.2222222222222222,
              "#7201a8"
             ],
             [
              0.3333333333333333,
              "#9c179e"
             ],
             [
              0.4444444444444444,
              "#bd3786"
             ],
             [
              0.5555555555555556,
              "#d8576b"
             ],
             [
              0.6666666666666666,
              "#ed7953"
             ],
             [
              0.7777777777777778,
              "#fb9f3a"
             ],
             [
              0.8888888888888888,
              "#fdca26"
             ],
             [
              1,
              "#f0f921"
             ]
            ],
            "type": "histogram2d"
           }
          ],
          "histogram2dcontour": [
           {
            "colorbar": {
             "outlinewidth": 0,
             "ticks": ""
            },
            "colorscale": [
             [
              0,
              "#0d0887"
             ],
             [
              0.1111111111111111,
              "#46039f"
             ],
             [
              0.2222222222222222,
              "#7201a8"
             ],
             [
              0.3333333333333333,
              "#9c179e"
             ],
             [
              0.4444444444444444,
              "#bd3786"
             ],
             [
              0.5555555555555556,
              "#d8576b"
             ],
             [
              0.6666666666666666,
              "#ed7953"
             ],
             [
              0.7777777777777778,
              "#fb9f3a"
             ],
             [
              0.8888888888888888,
              "#fdca26"
             ],
             [
              1,
              "#f0f921"
             ]
            ],
            "type": "histogram2dcontour"
           }
          ],
          "mesh3d": [
           {
            "colorbar": {
             "outlinewidth": 0,
             "ticks": ""
            },
            "type": "mesh3d"
           }
          ],
          "parcoords": [
           {
            "line": {
             "colorbar": {
              "outlinewidth": 0,
              "ticks": ""
             }
            },
            "type": "parcoords"
           }
          ],
          "pie": [
           {
            "automargin": true,
            "type": "pie"
           }
          ],
          "scatter": [
           {
            "marker": {
             "colorbar": {
              "outlinewidth": 0,
              "ticks": ""
             }
            },
            "type": "scatter"
           }
          ],
          "scatter3d": [
           {
            "line": {
             "colorbar": {
              "outlinewidth": 0,
              "ticks": ""
             }
            },
            "marker": {
             "colorbar": {
              "outlinewidth": 0,
              "ticks": ""
             }
            },
            "type": "scatter3d"
           }
          ],
          "scattercarpet": [
           {
            "marker": {
             "colorbar": {
              "outlinewidth": 0,
              "ticks": ""
             }
            },
            "type": "scattercarpet"
           }
          ],
          "scattergeo": [
           {
            "marker": {
             "colorbar": {
              "outlinewidth": 0,
              "ticks": ""
             }
            },
            "type": "scattergeo"
           }
          ],
          "scattergl": [
           {
            "marker": {
             "colorbar": {
              "outlinewidth": 0,
              "ticks": ""
             }
            },
            "type": "scattergl"
           }
          ],
          "scattermapbox": [
           {
            "marker": {
             "colorbar": {
              "outlinewidth": 0,
              "ticks": ""
             }
            },
            "type": "scattermapbox"
           }
          ],
          "scatterpolar": [
           {
            "marker": {
             "colorbar": {
              "outlinewidth": 0,
              "ticks": ""
             }
            },
            "type": "scatterpolar"
           }
          ],
          "scatterpolargl": [
           {
            "marker": {
             "colorbar": {
              "outlinewidth": 0,
              "ticks": ""
             }
            },
            "type": "scatterpolargl"
           }
          ],
          "scatterternary": [
           {
            "marker": {
             "colorbar": {
              "outlinewidth": 0,
              "ticks": ""
             }
            },
            "type": "scatterternary"
           }
          ],
          "surface": [
           {
            "colorbar": {
             "outlinewidth": 0,
             "ticks": ""
            },
            "colorscale": [
             [
              0,
              "#0d0887"
             ],
             [
              0.1111111111111111,
              "#46039f"
             ],
             [
              0.2222222222222222,
              "#7201a8"
             ],
             [
              0.3333333333333333,
              "#9c179e"
             ],
             [
              0.4444444444444444,
              "#bd3786"
             ],
             [
              0.5555555555555556,
              "#d8576b"
             ],
             [
              0.6666666666666666,
              "#ed7953"
             ],
             [
              0.7777777777777778,
              "#fb9f3a"
             ],
             [
              0.8888888888888888,
              "#fdca26"
             ],
             [
              1,
              "#f0f921"
             ]
            ],
            "type": "surface"
           }
          ],
          "table": [
           {
            "cells": {
             "fill": {
              "color": "#EBF0F8"
             },
             "line": {
              "color": "white"
             }
            },
            "header": {
             "fill": {
              "color": "#C8D4E3"
             },
             "line": {
              "color": "white"
             }
            },
            "type": "table"
           }
          ]
         },
         "layout": {
          "annotationdefaults": {
           "arrowcolor": "#2a3f5f",
           "arrowhead": 0,
           "arrowwidth": 1
          },
          "coloraxis": {
           "colorbar": {
            "outlinewidth": 0,
            "ticks": ""
           }
          },
          "colorscale": {
           "diverging": [
            [
             0,
             "#8e0152"
            ],
            [
             0.1,
             "#c51b7d"
            ],
            [
             0.2,
             "#de77ae"
            ],
            [
             0.3,
             "#f1b6da"
            ],
            [
             0.4,
             "#fde0ef"
            ],
            [
             0.5,
             "#f7f7f7"
            ],
            [
             0.6,
             "#e6f5d0"
            ],
            [
             0.7,
             "#b8e186"
            ],
            [
             0.8,
             "#7fbc41"
            ],
            [
             0.9,
             "#4d9221"
            ],
            [
             1,
             "#276419"
            ]
           ],
           "sequential": [
            [
             0,
             "#0d0887"
            ],
            [
             0.1111111111111111,
             "#46039f"
            ],
            [
             0.2222222222222222,
             "#7201a8"
            ],
            [
             0.3333333333333333,
             "#9c179e"
            ],
            [
             0.4444444444444444,
             "#bd3786"
            ],
            [
             0.5555555555555556,
             "#d8576b"
            ],
            [
             0.6666666666666666,
             "#ed7953"
            ],
            [
             0.7777777777777778,
             "#fb9f3a"
            ],
            [
             0.8888888888888888,
             "#fdca26"
            ],
            [
             1,
             "#f0f921"
            ]
           ],
           "sequentialminus": [
            [
             0,
             "#0d0887"
            ],
            [
             0.1111111111111111,
             "#46039f"
            ],
            [
             0.2222222222222222,
             "#7201a8"
            ],
            [
             0.3333333333333333,
             "#9c179e"
            ],
            [
             0.4444444444444444,
             "#bd3786"
            ],
            [
             0.5555555555555556,
             "#d8576b"
            ],
            [
             0.6666666666666666,
             "#ed7953"
            ],
            [
             0.7777777777777778,
             "#fb9f3a"
            ],
            [
             0.8888888888888888,
             "#fdca26"
            ],
            [
             1,
             "#f0f921"
            ]
           ]
          },
          "colorway": [
           "#636efa",
           "#EF553B",
           "#00cc96",
           "#ab63fa",
           "#FFA15A",
           "#19d3f3",
           "#FF6692",
           "#B6E880",
           "#FF97FF",
           "#FECB52"
          ],
          "font": {
           "color": "#2a3f5f"
          },
          "geo": {
           "bgcolor": "white",
           "lakecolor": "white",
           "landcolor": "#E5ECF6",
           "showlakes": true,
           "showland": true,
           "subunitcolor": "white"
          },
          "hoverlabel": {
           "align": "left"
          },
          "hovermode": "closest",
          "mapbox": {
           "style": "light"
          },
          "paper_bgcolor": "white",
          "plot_bgcolor": "#E5ECF6",
          "polar": {
           "angularaxis": {
            "gridcolor": "white",
            "linecolor": "white",
            "ticks": ""
           },
           "bgcolor": "#E5ECF6",
           "radialaxis": {
            "gridcolor": "white",
            "linecolor": "white",
            "ticks": ""
           }
          },
          "scene": {
           "xaxis": {
            "backgroundcolor": "#E5ECF6",
            "gridcolor": "white",
            "gridwidth": 2,
            "linecolor": "white",
            "showbackground": true,
            "ticks": "",
            "zerolinecolor": "white"
           },
           "yaxis": {
            "backgroundcolor": "#E5ECF6",
            "gridcolor": "white",
            "gridwidth": 2,
            "linecolor": "white",
            "showbackground": true,
            "ticks": "",
            "zerolinecolor": "white"
           },
           "zaxis": {
            "backgroundcolor": "#E5ECF6",
            "gridcolor": "white",
            "gridwidth": 2,
            "linecolor": "white",
            "showbackground": true,
            "ticks": "",
            "zerolinecolor": "white"
           }
          },
          "shapedefaults": {
           "line": {
            "color": "#2a3f5f"
           }
          },
          "ternary": {
           "aaxis": {
            "gridcolor": "white",
            "linecolor": "white",
            "ticks": ""
           },
           "baxis": {
            "gridcolor": "white",
            "linecolor": "white",
            "ticks": ""
           },
           "bgcolor": "#E5ECF6",
           "caxis": {
            "gridcolor": "white",
            "linecolor": "white",
            "ticks": ""
           }
          },
          "title": {
           "x": 0.05
          },
          "xaxis": {
           "automargin": true,
           "gridcolor": "white",
           "linecolor": "white",
           "ticks": "",
           "title": {
            "standoff": 15
           },
           "zerolinecolor": "white",
           "zerolinewidth": 2
          },
          "yaxis": {
           "automargin": true,
           "gridcolor": "white",
           "linecolor": "white",
           "ticks": "",
           "title": {
            "standoff": 15
           },
           "zerolinecolor": "white",
           "zerolinewidth": 2
          }
         }
        },
        "xaxis": {
         "anchor": "y",
         "domain": [
          0,
          1
         ],
         "title": {
          "text": "Wiek"
         }
        },
        "yaxis": {
         "anchor": "x",
         "domain": [
          0,
          1
         ],
         "title": {
          "text": "count"
         }
        }
       }
      },
      "text/html": [
       "<div>                            <div id=\"61a64cf1-f476-4286-80e9-1eb8a6097e5a\" class=\"plotly-graph-div\" style=\"height:525px; width:100%;\"></div>            <script type=\"text/javascript\">                require([\"plotly\"], function(Plotly) {                    window.PLOTLYENV=window.PLOTLYENV || {};                                    if (document.getElementById(\"61a64cf1-f476-4286-80e9-1eb8a6097e5a\")) {                    Plotly.newPlot(                        \"61a64cf1-f476-4286-80e9-1eb8a6097e5a\",                        [{\"alignmentgroup\": \"True\", \"hovertemplate\": \"P\\u0142e\\u0107=M\\u0119\\u017cczyzna<br>Wiek=%{x}<br>count=%{y}<extra></extra>\", \"legendgroup\": \"M\\u0119\\u017cczyzna\", \"marker\": {\"color\": \"#636efa\"}, \"name\": \"M\\u0119\\u017cczyzna\", \"offsetgroup\": \"M\\u0119\\u017cczyzna\", \"orientation\": \"v\", \"showlegend\": true, \"textposition\": \"auto\", \"type\": \"bar\", \"x\": [\"25-44\", \"25-44\", \"45-65\", \"45-65\", \"25-44\", \"45-65\", \"25-44\", \"25-44\", \"25-44\", \"25-44\", \"25-44\", \"45-65\", \"25-44\", \"25-44\", \"25-44\", \"25-44\", \"25-44\", \"45-65\", \"25-44\", \"25-44\", \"45-65\", \"25-44\", \"25-44\", \"25-44\", \"25-44\", \"25-44\", \"25-44\", \"45-65\", \"45-65\", \"25-44\", \"25-44\", \"25-44\", \"25-44\", \"25-44\", \"25-44\", \"25-44\", \"25-44\", \"25-44\", \"25-44\", \"25-44\", \"45-65\", \"66 lat i wi\\u0119cej\", \"25-44\", \"25-44\", \"25-44\", \"25-44\", \"45-65\", \"45-65\", \"25-44\", \"20-24\", \"25-44\", \"25-44\", \"25-44\", \"25-44\", \"25-44\", \"25-44\", \"45-65\", \"25-44\", \"20-24\", \"45-65\", \"45-65\", \"25-44\", \"45-65\", \"16-19\", \"25-44\", \"20-24\", \"25-44\", \"16-19\", \"25-44\", \"25-44\", \"25-44\", \"25-44\", \"25-44\", \"25-44\", \"25-44\", \"25-44\", \"16-19\", \"66 lat i wi\\u0119cej\", \"25-44\", \"25-44\", \"66 lat i wi\\u0119cej\", \"66 lat i wi\\u0119cej\", \"25-44\", \"20-24\", \"25-44\", \"25-44\", \"25-44\", \"25-44\", \"25-44\", \"25-44\", \"20-24\", \"25-44\", \"25-44\", \"25-44\", \"25-44\", \"25-44\", \"66 lat i wi\\u0119cej\", \"25-44\", \"20-24\", \"66 lat i wi\\u0119cej\", \"66 lat i wi\\u0119cej\", \"25-44\", \"20-24\", \"25-44\", \"25-44\", \"25-44\", \"6-15\", \"20-24\", \"20-24\", \"20-24\", \"20-24\", \"25-44\", \"25-44\", \"45-65\", \"25-44\", \"25-44\", \"45-65\", \"25-44\", \"25-44\", \"25-44\", \"25-44\", \"25-44\", \"66 lat i wi\\u0119cej\", \"45-65\", \"66 lat i wi\\u0119cej\", \"45-65\", \"25-44\", \"25-44\", \"25-44\", \"25-44\", \"25-44\", \"25-44\", \"25-44\", \"25-44\", \"25-44\", \"25-44\", \"45-65\", \"45-65\", \"25-44\", \"45-65\", \"25-44\", \"25-44\", \"16-19\", \"45-65\", \"25-44\", \"66 lat i wi\\u0119cej\", \"25-44\", \"20-24\", \"25-44\", \"45-65\", \"25-44\", \"45-65\", \"66 lat i wi\\u0119cej\", \"66 lat i wi\\u0119cej\", \"16-19\", \"45-65\", \"66 lat i wi\\u0119cej\", \"45-65\", \"20-24\", \"20-24\", \"25-44\", \"16-19\", \"25-44\", \"45-65\", \"45-65\", \"45-65\", \"25-44\", \"25-44\", \"25-44\", \"20-24\", \"25-44\", \"25-44\", \"25-44\", \"20-24\", \"25-44\", \"25-44\", \"25-44\", \"25-44\", \"45-65\", \"25-44\", \"25-44\", \"25-44\", \"25-44\", \"25-44\", \"25-44\", \"25-44\", \"66 lat i wi\\u0119cej\", \"25-44\", \"45-65\", \"25-44\", \"25-44\", \"25-44\", \"16-19\", \"20-24\", \"25-44\", \"66 lat i wi\\u0119cej\", \"25-44\", \"25-44\", \"25-44\", \"25-44\", \"6-15\", \"20-24\", \"45-65\", \"25-44\", \"25-44\", \"66 lat i wi\\u0119cej\", \"66 lat i wi\\u0119cej\", \"66 lat i wi\\u0119cej\", \"25-44\", \"66 lat i wi\\u0119cej\", \"66 lat i wi\\u0119cej\", \"66 lat i wi\\u0119cej\", \"25-44\", \"66 lat i wi\\u0119cej\", \"66 lat i wi\\u0119cej\", \"66 lat i wi\\u0119cej\", \"66 lat i wi\\u0119cej\", \"25-44\"], \"xaxis\": \"x\", \"y\": [1, 1, 1, 1, 1, 1, 1, 1, 1, 1, 1, 1, 1, 1, 1, 1, 1, 1, 1, 1, 1, 1, 1, 1, 1, 1, 1, 1, 1, 1, 1, 1, 1, 1, 1, 1, 1, 1, 1, 1, 1, 1, 1, 1, 1, 1, 1, 1, 1, 1, 1, 1, 1, 1, 1, 1, 1, 1, 1, 1, 1, 1, 1, 1, 1, 1, 1, 1, 1, 1, 1, 1, 1, 1, 1, 1, 1, 1, 1, 1, 1, 1, 1, 1, 1, 1, 1, 1, 1, 1, 1, 1, 1, 1, 1, 1, 1, 1, 1, 1, 1, 1, 1, 1, 1, 1, 1, 1, 1, 1, 1, 1, 1, 1, 1, 1, 1, 1, 1, 1, 1, 1, 1, 1, 1, 1, 1, 1, 1, 1, 1, 1, 1, 1, 1, 1, 1, 1, 1, 1, 1, 1, 1, 1, 1, 1, 1, 1, 1, 1, 1, 1, 1, 1, 1, 1, 1, 1, 1, 1, 1, 1, 1, 1, 1, 1, 1, 1, 1, 1, 1, 1, 1, 1, 1, 1, 1, 1, 1, 1, 1, 1, 1, 1, 1, 1, 1, 1, 1, 1, 1, 1, 1, 1, 1, 1, 1, 1, 1, 1, 1, 1, 1, 1, 1, 1, 1, 1, 1, 1, 1, 1, 1, 1, 1, 1, 1, 1], \"yaxis\": \"y\"}, {\"alignmentgroup\": \"True\", \"hovertemplate\": \"P\\u0142e\\u0107=Kobieta<br>Wiek=%{x}<br>count=%{y}<extra></extra>\", \"legendgroup\": \"Kobieta\", \"marker\": {\"color\": \"#EF553B\"}, \"name\": \"Kobieta\", \"offsetgroup\": \"Kobieta\", \"orientation\": \"v\", \"showlegend\": true, \"textposition\": \"auto\", \"type\": \"bar\", \"x\": [\"45-65\", \"45-65\", \"25-44\", \"25-44\", \"25-44\", \"25-44\", \"25-44\", \"25-44\", \"25-44\", \"20-24\", \"25-44\", \"25-44\", \"25-44\", \"25-44\", \"45-65\", \"25-44\", \"45-65\", \"20-24\", \"45-65\", \"25-44\", \"45-65\", \"25-44\", \"25-44\", \"20-24\", \"25-44\", \"45-65\", \"25-44\", \"25-44\", \"25-44\", \"25-44\", \"25-44\", \"25-44\", \"25-44\", \"25-44\", \"25-44\", \"6-15\", \"25-44\", \"25-44\", \"25-44\", \"25-44\", \"20-24\", \"45-65\", \"45-65\", \"66 lat i wi\\u0119cej\", \"66 lat i wi\\u0119cej\", \"66 lat i wi\\u0119cej\", \"66 lat i wi\\u0119cej\", \"25-44\", \"25-44\", \"25-44\", \"25-44\", \"25-44\", \"25-44\", \"25-44\", \"45-65\", \"45-65\", \"25-44\", \"25-44\", \"45-65\", \"25-44\", \"25-44\", \"66 lat i wi\\u0119cej\", \"66 lat i wi\\u0119cej\", \"45-65\", \"25-44\", \"25-44\", \"25-44\", \"25-44\", \"25-44\", \"25-44\", \"25-44\", \"20-24\", \"66 lat i wi\\u0119cej\", \"66 lat i wi\\u0119cej\", \"45-65\", \"20-24\", \"20-24\", \"45-65\", \"45-65\", \"25-44\", \"66 lat i wi\\u0119cej\", \"66 lat i wi\\u0119cej\", \"66 lat i wi\\u0119cej\", \"66 lat i wi\\u0119cej\", \"45-65\", \"66 lat i wi\\u0119cej\", \"66 lat i wi\\u0119cej\", \"45-65\", \"25-44\", \"45-65\", \"25-44\", \"25-44\", \"25-44\", \"25-44\", \"16-19\", \"66 lat i wi\\u0119cej\", \"25-44\", \"25-44\", \"45-65\", \"45-65\", \"66 lat i wi\\u0119cej\", \"66 lat i wi\\u0119cej\", \"25-44\", \"45-65\", \"25-44\", \"25-44\", \"25-44\", \"16-19\", \"16-19\", \"25-44\", \"25-44\", \"20-24\", \"25-44\", \"6-15\", \"25-44\", \"25-44\", \"45-65\", \"25-44\", \"66 lat i wi\\u0119cej\", \"66 lat i wi\\u0119cej\", \"16-19\", \"66 lat i wi\\u0119cej\", \"45-65\", \"20-24\", \"25-44\", \"25-44\", \"66 lat i wi\\u0119cej\", \"16-19\", \"25-44\", \"45-65\", \"25-44\", \"25-44\", \"45-65\", \"25-44\", \"25-44\", \"25-44\", \"25-44\", \"20-24\", \"25-44\", \"25-44\", \"25-44\", \"25-44\", \"45-65\", \"25-44\", \"25-44\", \"25-44\", \"25-44\", \"25-44\", \"45-65\", \"45-65\", \"25-44\", \"25-44\", \"25-44\", \"45-65\", \"25-44\", \"20-24\", \"16-19\", \"20-24\", \"25-44\", \"25-44\", \"45-65\", \"45-65\", \"45-65\", \"66 lat i wi\\u0119cej\", \"25-44\", \"45-65\", \"66 lat i wi\\u0119cej\", \"45-65\", \"25-44\", \"25-44\", \"25-44\", \"25-44\", \"25-44\", \"25-44\", \"25-44\", \"25-44\", \"25-44\", \"25-44\", \"45-65\", \"25-44\", \"25-44\", \"25-44\", \"25-44\", \"25-44\", \"45-65\", \"45-65\", \"66 lat i wi\\u0119cej\", \"25-44\", \"66 lat i wi\\u0119cej\", \"66 lat i wi\\u0119cej\", \"66 lat i wi\\u0119cej\", \"66 lat i wi\\u0119cej\", \"66 lat i wi\\u0119cej\", \"66 lat i wi\\u0119cej\", \"25-44\", \"45-65\", \"25-44\", \"25-44\", \"25-44\", \"25-44\", \"45-65\", \"66 lat i wi\\u0119cej\", \"45-65\", \"66 lat i wi\\u0119cej\", \"45-65\", \"25-44\", \"45-65\", \"66 lat i wi\\u0119cej\", \"66 lat i wi\\u0119cej\"], \"xaxis\": \"x\", \"y\": [1, 1, 1, 1, 1, 1, 1, 1, 1, 1, 1, 1, 1, 1, 1, 1, 1, 1, 1, 1, 1, 1, 1, 1, 1, 1, 1, 1, 1, 1, 1, 1, 1, 1, 1, 1, 1, 1, 1, 1, 1, 1, 1, 1, 1, 1, 1, 1, 1, 1, 1, 1, 1, 1, 1, 1, 1, 1, 1, 1, 1, 1, 1, 1, 1, 1, 1, 1, 1, 1, 1, 1, 1, 1, 1, 1, 1, 1, 1, 1, 1, 1, 1, 1, 1, 1, 1, 1, 1, 1, 1, 1, 1, 1, 1, 1, 1, 1, 1, 1, 1, 1, 1, 1, 1, 1, 1, 1, 1, 1, 1, 1, 1, 1, 1, 1, 1, 1, 1, 1, 1, 1, 1, 1, 1, 1, 1, 1, 1, 1, 1, 1, 1, 1, 1, 1, 1, 1, 1, 1, 1, 1, 1, 1, 1, 1, 1, 1, 1, 1, 1, 1, 1, 1, 1, 1, 1, 1, 1, 1, 1, 1, 1, 1, 1, 1, 1, 1, 1, 1, 1, 1, 1, 1, 1, 1, 1, 1, 1, 1, 1, 1, 1, 1, 1, 1, 1, 1, 1, 1, 1, 1, 1, 1, 1, 1, 1, 1, 1, 1, 1, 1, 1, 1, 1, 1, 1, 1, 1], \"yaxis\": \"y\"}],                        {\"barmode\": \"relative\", \"legend\": {\"title\": {\"text\": \"P\\u0142e\\u0107\"}, \"tracegroupgap\": 0}, \"margin\": {\"t\": 60}, \"template\": {\"data\": {\"bar\": [{\"error_x\": {\"color\": \"#2a3f5f\"}, \"error_y\": {\"color\": \"#2a3f5f\"}, \"marker\": {\"line\": {\"color\": \"#E5ECF6\", \"width\": 0.5}}, \"type\": \"bar\"}], \"barpolar\": [{\"marker\": {\"line\": {\"color\": \"#E5ECF6\", \"width\": 0.5}}, \"type\": \"barpolar\"}], \"carpet\": [{\"aaxis\": {\"endlinecolor\": \"#2a3f5f\", \"gridcolor\": \"white\", \"linecolor\": \"white\", \"minorgridcolor\": \"white\", \"startlinecolor\": \"#2a3f5f\"}, \"baxis\": {\"endlinecolor\": \"#2a3f5f\", \"gridcolor\": \"white\", \"linecolor\": \"white\", \"minorgridcolor\": \"white\", \"startlinecolor\": \"#2a3f5f\"}, \"type\": \"carpet\"}], \"choropleth\": [{\"colorbar\": {\"outlinewidth\": 0, \"ticks\": \"\"}, \"type\": \"choropleth\"}], \"contour\": [{\"colorbar\": {\"outlinewidth\": 0, \"ticks\": \"\"}, \"colorscale\": [[0.0, \"#0d0887\"], [0.1111111111111111, \"#46039f\"], [0.2222222222222222, \"#7201a8\"], [0.3333333333333333, \"#9c179e\"], [0.4444444444444444, \"#bd3786\"], [0.5555555555555556, \"#d8576b\"], [0.6666666666666666, \"#ed7953\"], [0.7777777777777778, \"#fb9f3a\"], [0.8888888888888888, \"#fdca26\"], [1.0, \"#f0f921\"]], \"type\": \"contour\"}], \"contourcarpet\": [{\"colorbar\": {\"outlinewidth\": 0, \"ticks\": \"\"}, \"type\": \"contourcarpet\"}], \"heatmap\": [{\"colorbar\": {\"outlinewidth\": 0, \"ticks\": \"\"}, \"colorscale\": [[0.0, \"#0d0887\"], [0.1111111111111111, \"#46039f\"], [0.2222222222222222, \"#7201a8\"], [0.3333333333333333, \"#9c179e\"], [0.4444444444444444, \"#bd3786\"], [0.5555555555555556, \"#d8576b\"], [0.6666666666666666, \"#ed7953\"], [0.7777777777777778, \"#fb9f3a\"], [0.8888888888888888, \"#fdca26\"], [1.0, \"#f0f921\"]], \"type\": \"heatmap\"}], \"heatmapgl\": [{\"colorbar\": {\"outlinewidth\": 0, \"ticks\": \"\"}, \"colorscale\": [[0.0, \"#0d0887\"], [0.1111111111111111, \"#46039f\"], [0.2222222222222222, \"#7201a8\"], [0.3333333333333333, \"#9c179e\"], [0.4444444444444444, \"#bd3786\"], [0.5555555555555556, \"#d8576b\"], [0.6666666666666666, \"#ed7953\"], [0.7777777777777778, \"#fb9f3a\"], [0.8888888888888888, \"#fdca26\"], [1.0, \"#f0f921\"]], \"type\": \"heatmapgl\"}], \"histogram\": [{\"marker\": {\"colorbar\": {\"outlinewidth\": 0, \"ticks\": \"\"}}, \"type\": \"histogram\"}], \"histogram2d\": [{\"colorbar\": {\"outlinewidth\": 0, \"ticks\": \"\"}, \"colorscale\": [[0.0, \"#0d0887\"], [0.1111111111111111, \"#46039f\"], [0.2222222222222222, \"#7201a8\"], [0.3333333333333333, \"#9c179e\"], [0.4444444444444444, \"#bd3786\"], [0.5555555555555556, \"#d8576b\"], [0.6666666666666666, \"#ed7953\"], [0.7777777777777778, \"#fb9f3a\"], [0.8888888888888888, \"#fdca26\"], [1.0, \"#f0f921\"]], \"type\": \"histogram2d\"}], \"histogram2dcontour\": [{\"colorbar\": {\"outlinewidth\": 0, \"ticks\": \"\"}, \"colorscale\": [[0.0, \"#0d0887\"], [0.1111111111111111, \"#46039f\"], [0.2222222222222222, \"#7201a8\"], [0.3333333333333333, \"#9c179e\"], [0.4444444444444444, \"#bd3786\"], [0.5555555555555556, \"#d8576b\"], [0.6666666666666666, \"#ed7953\"], [0.7777777777777778, \"#fb9f3a\"], [0.8888888888888888, \"#fdca26\"], [1.0, \"#f0f921\"]], \"type\": \"histogram2dcontour\"}], \"mesh3d\": [{\"colorbar\": {\"outlinewidth\": 0, \"ticks\": \"\"}, \"type\": \"mesh3d\"}], \"parcoords\": [{\"line\": {\"colorbar\": {\"outlinewidth\": 0, \"ticks\": \"\"}}, \"type\": \"parcoords\"}], \"pie\": [{\"automargin\": true, \"type\": \"pie\"}], \"scatter\": [{\"marker\": {\"colorbar\": {\"outlinewidth\": 0, \"ticks\": \"\"}}, \"type\": \"scatter\"}], \"scatter3d\": [{\"line\": {\"colorbar\": {\"outlinewidth\": 0, \"ticks\": \"\"}}, \"marker\": {\"colorbar\": {\"outlinewidth\": 0, \"ticks\": \"\"}}, \"type\": \"scatter3d\"}], \"scattercarpet\": [{\"marker\": {\"colorbar\": {\"outlinewidth\": 0, \"ticks\": \"\"}}, \"type\": \"scattercarpet\"}], \"scattergeo\": [{\"marker\": {\"colorbar\": {\"outlinewidth\": 0, \"ticks\": \"\"}}, \"type\": \"scattergeo\"}], \"scattergl\": [{\"marker\": {\"colorbar\": {\"outlinewidth\": 0, \"ticks\": \"\"}}, \"type\": \"scattergl\"}], \"scattermapbox\": [{\"marker\": {\"colorbar\": {\"outlinewidth\": 0, \"ticks\": \"\"}}, \"type\": \"scattermapbox\"}], \"scatterpolar\": [{\"marker\": {\"colorbar\": {\"outlinewidth\": 0, \"ticks\": \"\"}}, \"type\": \"scatterpolar\"}], \"scatterpolargl\": [{\"marker\": {\"colorbar\": {\"outlinewidth\": 0, \"ticks\": \"\"}}, \"type\": \"scatterpolargl\"}], \"scatterternary\": [{\"marker\": {\"colorbar\": {\"outlinewidth\": 0, \"ticks\": \"\"}}, \"type\": \"scatterternary\"}], \"surface\": [{\"colorbar\": {\"outlinewidth\": 0, \"ticks\": \"\"}, \"colorscale\": [[0.0, \"#0d0887\"], [0.1111111111111111, \"#46039f\"], [0.2222222222222222, \"#7201a8\"], [0.3333333333333333, \"#9c179e\"], [0.4444444444444444, \"#bd3786\"], [0.5555555555555556, \"#d8576b\"], [0.6666666666666666, \"#ed7953\"], [0.7777777777777778, \"#fb9f3a\"], [0.8888888888888888, \"#fdca26\"], [1.0, \"#f0f921\"]], \"type\": \"surface\"}], \"table\": [{\"cells\": {\"fill\": {\"color\": \"#EBF0F8\"}, \"line\": {\"color\": \"white\"}}, \"header\": {\"fill\": {\"color\": \"#C8D4E3\"}, \"line\": {\"color\": \"white\"}}, \"type\": \"table\"}]}, \"layout\": {\"annotationdefaults\": {\"arrowcolor\": \"#2a3f5f\", \"arrowhead\": 0, \"arrowwidth\": 1}, \"coloraxis\": {\"colorbar\": {\"outlinewidth\": 0, \"ticks\": \"\"}}, \"colorscale\": {\"diverging\": [[0, \"#8e0152\"], [0.1, \"#c51b7d\"], [0.2, \"#de77ae\"], [0.3, \"#f1b6da\"], [0.4, \"#fde0ef\"], [0.5, \"#f7f7f7\"], [0.6, \"#e6f5d0\"], [0.7, \"#b8e186\"], [0.8, \"#7fbc41\"], [0.9, \"#4d9221\"], [1, \"#276419\"]], \"sequential\": [[0.0, \"#0d0887\"], [0.1111111111111111, \"#46039f\"], [0.2222222222222222, \"#7201a8\"], [0.3333333333333333, \"#9c179e\"], [0.4444444444444444, \"#bd3786\"], [0.5555555555555556, \"#d8576b\"], [0.6666666666666666, \"#ed7953\"], [0.7777777777777778, \"#fb9f3a\"], [0.8888888888888888, \"#fdca26\"], [1.0, \"#f0f921\"]], \"sequentialminus\": [[0.0, \"#0d0887\"], [0.1111111111111111, \"#46039f\"], [0.2222222222222222, \"#7201a8\"], [0.3333333333333333, \"#9c179e\"], [0.4444444444444444, \"#bd3786\"], [0.5555555555555556, \"#d8576b\"], [0.6666666666666666, \"#ed7953\"], [0.7777777777777778, \"#fb9f3a\"], [0.8888888888888888, \"#fdca26\"], [1.0, \"#f0f921\"]]}, \"colorway\": [\"#636efa\", \"#EF553B\", \"#00cc96\", \"#ab63fa\", \"#FFA15A\", \"#19d3f3\", \"#FF6692\", \"#B6E880\", \"#FF97FF\", \"#FECB52\"], \"font\": {\"color\": \"#2a3f5f\"}, \"geo\": {\"bgcolor\": \"white\", \"lakecolor\": \"white\", \"landcolor\": \"#E5ECF6\", \"showlakes\": true, \"showland\": true, \"subunitcolor\": \"white\"}, \"hoverlabel\": {\"align\": \"left\"}, \"hovermode\": \"closest\", \"mapbox\": {\"style\": \"light\"}, \"paper_bgcolor\": \"white\", \"plot_bgcolor\": \"#E5ECF6\", \"polar\": {\"angularaxis\": {\"gridcolor\": \"white\", \"linecolor\": \"white\", \"ticks\": \"\"}, \"bgcolor\": \"#E5ECF6\", \"radialaxis\": {\"gridcolor\": \"white\", \"linecolor\": \"white\", \"ticks\": \"\"}}, \"scene\": {\"xaxis\": {\"backgroundcolor\": \"#E5ECF6\", \"gridcolor\": \"white\", \"gridwidth\": 2, \"linecolor\": \"white\", \"showbackground\": true, \"ticks\": \"\", \"zerolinecolor\": \"white\"}, \"yaxis\": {\"backgroundcolor\": \"#E5ECF6\", \"gridcolor\": \"white\", \"gridwidth\": 2, \"linecolor\": \"white\", \"showbackground\": true, \"ticks\": \"\", \"zerolinecolor\": \"white\"}, \"zaxis\": {\"backgroundcolor\": \"#E5ECF6\", \"gridcolor\": \"white\", \"gridwidth\": 2, \"linecolor\": \"white\", \"showbackground\": true, \"ticks\": \"\", \"zerolinecolor\": \"white\"}}, \"shapedefaults\": {\"line\": {\"color\": \"#2a3f5f\"}}, \"ternary\": {\"aaxis\": {\"gridcolor\": \"white\", \"linecolor\": \"white\", \"ticks\": \"\"}, \"baxis\": {\"gridcolor\": \"white\", \"linecolor\": \"white\", \"ticks\": \"\"}, \"bgcolor\": \"#E5ECF6\", \"caxis\": {\"gridcolor\": \"white\", \"linecolor\": \"white\", \"ticks\": \"\"}}, \"title\": {\"x\": 0.05}, \"xaxis\": {\"automargin\": true, \"gridcolor\": \"white\", \"linecolor\": \"white\", \"ticks\": \"\", \"title\": {\"standoff\": 15}, \"zerolinecolor\": \"white\", \"zerolinewidth\": 2}, \"yaxis\": {\"automargin\": true, \"gridcolor\": \"white\", \"linecolor\": \"white\", \"ticks\": \"\", \"title\": {\"standoff\": 15}, \"zerolinecolor\": \"white\", \"zerolinewidth\": 2}}}, \"xaxis\": {\"anchor\": \"y\", \"domain\": [0.0, 1.0], \"title\": {\"text\": \"Wiek\"}}, \"yaxis\": {\"anchor\": \"x\", \"domain\": [0.0, 1.0], \"title\": {\"text\": \"count\"}}},                        {\"responsive\": true}                    ).then(function(){\n",
       "                            \n",
       "var gd = document.getElementById('61a64cf1-f476-4286-80e9-1eb8a6097e5a');\n",
       "var x = new MutationObserver(function (mutations, observer) {{\n",
       "        var display = window.getComputedStyle(gd).display;\n",
       "        if (!display || display === 'none') {{\n",
       "            console.log([gd, 'removed!']);\n",
       "            Plotly.purge(gd);\n",
       "            observer.disconnect();\n",
       "        }}\n",
       "}});\n",
       "\n",
       "// Listen for the removal of the full notebook cells\n",
       "var notebookContainer = gd.closest('#notebook-container');\n",
       "if (notebookContainer) {{\n",
       "    x.observe(notebookContainer, {childList: true});\n",
       "}}\n",
       "\n",
       "// Listen for the clearing of the current output cell\n",
       "var outputEl = gd.closest('.output');\n",
       "if (outputEl) {{\n",
       "    x.observe(outputEl, {childList: true});\n",
       "}}\n",
       "\n",
       "                        })                };                });            </script>        </div>"
      ]
     },
     "metadata": {},
     "output_type": "display_data"
    }
   ],
   "source": [
    "px.bar(df_age, x='Wiek', color='Płeć')"
   ]
  },
  {
   "cell_type": "code",
   "execution_count": 265,
   "metadata": {},
   "outputs": [
    {
     "data": {
      "text/plain": [
       "Wyższe                               317\n",
       "Ponadpodstawowe - ukończone           87\n",
       "Ponadpodstawowe - w trakcie nauki     16\n",
       "Podstawowe - ukończone                 4\n",
       "Podstawowe - w trakcie nauki           3\n",
       "Name: (Jaki jest poziom Twojego wykształcenia?, Wykształcenie), dtype: int64"
      ]
     },
     "execution_count": 265,
     "metadata": {},
     "output_type": "execute_result"
    }
   ],
   "source": [
    "df_school = df.loc[:,('Jaki jest poziom Twojego wykształcenia?','Wykształcenie')].value_counts()\n",
    "# px.bar(df_school)\n",
    "df_school"
   ]
  },
  {
   "cell_type": "code",
   "execution_count": null,
   "metadata": {},
   "outputs": [],
   "source": [
    "df_job = df.loc[:,('Jaki jest Twój status zawodowy?')]"
   ]
  },
  {
   "cell_type": "code",
   "execution_count": null,
   "metadata": {},
   "outputs": [],
   "source": [
    "df_job.info()"
   ]
  },
  {
   "cell_type": "code",
   "execution_count": null,
   "metadata": {},
   "outputs": [],
   "source": [
    "df_job = df_job[['Jaki jest Twój status zawodowy? (1)','Jaki jest Twój status zawodowy? (2)', 'Jaki jest Twój status zawodowy? (3)' ]]\n",
    "df_job"
   ]
  },
  {
   "cell_type": "code",
   "execution_count": null,
   "metadata": {},
   "outputs": [],
   "source": [
    "df_job['Jaki jest Twój status zawodowy? (1)'].value_counts()"
   ]
  },
  {
   "cell_type": "code",
   "execution_count": null,
   "metadata": {},
   "outputs": [],
   "source": [
    "col_1 = df_job['Jaki jest Twój status zawodowy? (1)']\n",
    "col_1 = col_1.dropna()\n",
    "col_2 = df_job['Jaki jest Twój status zawodowy? (2)']\n",
    "col_2 = col_2.dropna()\n",
    "col_3 = df_job['Jaki jest Twój status zawodowy? (3)']\n",
    "col_3 = col_3.dropna()"
   ]
  },
  {
   "cell_type": "code",
   "execution_count": null,
   "metadata": {},
   "outputs": [],
   "source": [
    "df_jobs = pd.concat([col_1, col_2, col_3])\n",
    "df_jobs = df_jobs.to_frame(name='job_type')\n",
    "df_jobs['count'] = 1"
   ]
  },
  {
   "cell_type": "code",
   "execution_count": null,
   "metadata": {},
   "outputs": [],
   "source": [
    "job_counts = df_jobs.groupby(by=['job_type']).count()\n",
    "px.bar(job_counts)"
   ]
  },
  {
   "cell_type": "code",
   "execution_count": null,
   "metadata": {},
   "outputs": [],
   "source": [
    "df_jobcorr = pd.crosstab(df_job['Jaki jest Twój status zawodowy? (1)'], df_job['Jaki jest Twój status zawodowy? (2)'])"
   ]
  },
  {
   "cell_type": "code",
   "execution_count": 204,
   "metadata": {},
   "outputs": [
    {
     "data": {
      "application/vnd.plotly.v1+json": {
       "config": {
        "plotlyServerURL": "https://plot.ly"
       },
       "data": [
        {
         "coloraxis": "coloraxis",
         "hovertemplate": "Jaki jest Twój status zawodowy? (2): %{x}<br>Jaki jest Twój status zawodowy? (1): %{y}<br>color: %{z}<extra></extra>",
         "type": "heatmap",
         "x": [
          "Bezrobotny",
          "Renta lub emerytura",
          "Uczeń/student",
          "Własna działalność gospodarcza",
          "Zatrudnienie dorywcze",
          "Zatrudnienie na części etatu",
          "Zatrudnienie na etacie"
         ],
         "y": [
          "Renta lub emerytura",
          "Uczeń/student",
          "Własna działalność gospodarcza",
          "Zatrudnienie dorywcze",
          "Zatrudnienie na części etatu",
          "Zatrudnienie na etacie",
          "Zatrudnienie na kilku etatach"
         ],
         "z": [
          [
           0,
           0,
           0,
           0,
           0,
           3,
           2
          ],
          [
           0,
           0,
           0,
           0,
           3,
           10,
           7
          ],
          [
           0,
           0,
           0,
           0,
           0,
           1,
           1
          ],
          [
           1,
           0,
           0,
           0,
           0,
           1,
           0
          ],
          [
           0,
           0,
           1,
           1,
           0,
           0,
           0
          ],
          [
           0,
           1,
           2,
           1,
           3,
           0,
           0
          ],
          [
           0,
           0,
           0,
           2,
           0,
           0,
           0
          ]
         ]
        }
       ],
       "layout": {
        "coloraxis": {
         "colorscale": [
          [
           0,
           "#0d0887"
          ],
          [
           0.1111111111111111,
           "#46039f"
          ],
          [
           0.2222222222222222,
           "#7201a8"
          ],
          [
           0.3333333333333333,
           "#9c179e"
          ],
          [
           0.4444444444444444,
           "#bd3786"
          ],
          [
           0.5555555555555556,
           "#d8576b"
          ],
          [
           0.6666666666666666,
           "#ed7953"
          ],
          [
           0.7777777777777778,
           "#fb9f3a"
          ],
          [
           0.8888888888888888,
           "#fdca26"
          ],
          [
           1,
           "#f0f921"
          ]
         ]
        },
        "margin": {
         "t": 60
        },
        "template": {
         "data": {
          "bar": [
           {
            "error_x": {
             "color": "#2a3f5f"
            },
            "error_y": {
             "color": "#2a3f5f"
            },
            "marker": {
             "line": {
              "color": "#E5ECF6",
              "width": 0.5
             }
            },
            "type": "bar"
           }
          ],
          "barpolar": [
           {
            "marker": {
             "line": {
              "color": "#E5ECF6",
              "width": 0.5
             }
            },
            "type": "barpolar"
           }
          ],
          "carpet": [
           {
            "aaxis": {
             "endlinecolor": "#2a3f5f",
             "gridcolor": "white",
             "linecolor": "white",
             "minorgridcolor": "white",
             "startlinecolor": "#2a3f5f"
            },
            "baxis": {
             "endlinecolor": "#2a3f5f",
             "gridcolor": "white",
             "linecolor": "white",
             "minorgridcolor": "white",
             "startlinecolor": "#2a3f5f"
            },
            "type": "carpet"
           }
          ],
          "choropleth": [
           {
            "colorbar": {
             "outlinewidth": 0,
             "ticks": ""
            },
            "type": "choropleth"
           }
          ],
          "contour": [
           {
            "colorbar": {
             "outlinewidth": 0,
             "ticks": ""
            },
            "colorscale": [
             [
              0,
              "#0d0887"
             ],
             [
              0.1111111111111111,
              "#46039f"
             ],
             [
              0.2222222222222222,
              "#7201a8"
             ],
             [
              0.3333333333333333,
              "#9c179e"
             ],
             [
              0.4444444444444444,
              "#bd3786"
             ],
             [
              0.5555555555555556,
              "#d8576b"
             ],
             [
              0.6666666666666666,
              "#ed7953"
             ],
             [
              0.7777777777777778,
              "#fb9f3a"
             ],
             [
              0.8888888888888888,
              "#fdca26"
             ],
             [
              1,
              "#f0f921"
             ]
            ],
            "type": "contour"
           }
          ],
          "contourcarpet": [
           {
            "colorbar": {
             "outlinewidth": 0,
             "ticks": ""
            },
            "type": "contourcarpet"
           }
          ],
          "heatmap": [
           {
            "colorbar": {
             "outlinewidth": 0,
             "ticks": ""
            },
            "colorscale": [
             [
              0,
              "#0d0887"
             ],
             [
              0.1111111111111111,
              "#46039f"
             ],
             [
              0.2222222222222222,
              "#7201a8"
             ],
             [
              0.3333333333333333,
              "#9c179e"
             ],
             [
              0.4444444444444444,
              "#bd3786"
             ],
             [
              0.5555555555555556,
              "#d8576b"
             ],
             [
              0.6666666666666666,
              "#ed7953"
             ],
             [
              0.7777777777777778,
              "#fb9f3a"
             ],
             [
              0.8888888888888888,
              "#fdca26"
             ],
             [
              1,
              "#f0f921"
             ]
            ],
            "type": "heatmap"
           }
          ],
          "heatmapgl": [
           {
            "colorbar": {
             "outlinewidth": 0,
             "ticks": ""
            },
            "colorscale": [
             [
              0,
              "#0d0887"
             ],
             [
              0.1111111111111111,
              "#46039f"
             ],
             [
              0.2222222222222222,
              "#7201a8"
             ],
             [
              0.3333333333333333,
              "#9c179e"
             ],
             [
              0.4444444444444444,
              "#bd3786"
             ],
             [
              0.5555555555555556,
              "#d8576b"
             ],
             [
              0.6666666666666666,
              "#ed7953"
             ],
             [
              0.7777777777777778,
              "#fb9f3a"
             ],
             [
              0.8888888888888888,
              "#fdca26"
             ],
             [
              1,
              "#f0f921"
             ]
            ],
            "type": "heatmapgl"
           }
          ],
          "histogram": [
           {
            "marker": {
             "colorbar": {
              "outlinewidth": 0,
              "ticks": ""
             }
            },
            "type": "histogram"
           }
          ],
          "histogram2d": [
           {
            "colorbar": {
             "outlinewidth": 0,
             "ticks": ""
            },
            "colorscale": [
             [
              0,
              "#0d0887"
             ],
             [
              0.1111111111111111,
              "#46039f"
             ],
             [
              0.2222222222222222,
              "#7201a8"
             ],
             [
              0.3333333333333333,
              "#9c179e"
             ],
             [
              0.4444444444444444,
              "#bd3786"
             ],
             [
              0.5555555555555556,
              "#d8576b"
             ],
             [
              0.6666666666666666,
              "#ed7953"
             ],
             [
              0.7777777777777778,
              "#fb9f3a"
             ],
             [
              0.8888888888888888,
              "#fdca26"
             ],
             [
              1,
              "#f0f921"
             ]
            ],
            "type": "histogram2d"
           }
          ],
          "histogram2dcontour": [
           {
            "colorbar": {
             "outlinewidth": 0,
             "ticks": ""
            },
            "colorscale": [
             [
              0,
              "#0d0887"
             ],
             [
              0.1111111111111111,
              "#46039f"
             ],
             [
              0.2222222222222222,
              "#7201a8"
             ],
             [
              0.3333333333333333,
              "#9c179e"
             ],
             [
              0.4444444444444444,
              "#bd3786"
             ],
             [
              0.5555555555555556,
              "#d8576b"
             ],
             [
              0.6666666666666666,
              "#ed7953"
             ],
             [
              0.7777777777777778,
              "#fb9f3a"
             ],
             [
              0.8888888888888888,
              "#fdca26"
             ],
             [
              1,
              "#f0f921"
             ]
            ],
            "type": "histogram2dcontour"
           }
          ],
          "mesh3d": [
           {
            "colorbar": {
             "outlinewidth": 0,
             "ticks": ""
            },
            "type": "mesh3d"
           }
          ],
          "parcoords": [
           {
            "line": {
             "colorbar": {
              "outlinewidth": 0,
              "ticks": ""
             }
            },
            "type": "parcoords"
           }
          ],
          "pie": [
           {
            "automargin": true,
            "type": "pie"
           }
          ],
          "scatter": [
           {
            "marker": {
             "colorbar": {
              "outlinewidth": 0,
              "ticks": ""
             }
            },
            "type": "scatter"
           }
          ],
          "scatter3d": [
           {
            "line": {
             "colorbar": {
              "outlinewidth": 0,
              "ticks": ""
             }
            },
            "marker": {
             "colorbar": {
              "outlinewidth": 0,
              "ticks": ""
             }
            },
            "type": "scatter3d"
           }
          ],
          "scattercarpet": [
           {
            "marker": {
             "colorbar": {
              "outlinewidth": 0,
              "ticks": ""
             }
            },
            "type": "scattercarpet"
           }
          ],
          "scattergeo": [
           {
            "marker": {
             "colorbar": {
              "outlinewidth": 0,
              "ticks": ""
             }
            },
            "type": "scattergeo"
           }
          ],
          "scattergl": [
           {
            "marker": {
             "colorbar": {
              "outlinewidth": 0,
              "ticks": ""
             }
            },
            "type": "scattergl"
           }
          ],
          "scattermapbox": [
           {
            "marker": {
             "colorbar": {
              "outlinewidth": 0,
              "ticks": ""
             }
            },
            "type": "scattermapbox"
           }
          ],
          "scatterpolar": [
           {
            "marker": {
             "colorbar": {
              "outlinewidth": 0,
              "ticks": ""
             }
            },
            "type": "scatterpolar"
           }
          ],
          "scatterpolargl": [
           {
            "marker": {
             "colorbar": {
              "outlinewidth": 0,
              "ticks": ""
             }
            },
            "type": "scatterpolargl"
           }
          ],
          "scatterternary": [
           {
            "marker": {
             "colorbar": {
              "outlinewidth": 0,
              "ticks": ""
             }
            },
            "type": "scatterternary"
           }
          ],
          "surface": [
           {
            "colorbar": {
             "outlinewidth": 0,
             "ticks": ""
            },
            "colorscale": [
             [
              0,
              "#0d0887"
             ],
             [
              0.1111111111111111,
              "#46039f"
             ],
             [
              0.2222222222222222,
              "#7201a8"
             ],
             [
              0.3333333333333333,
              "#9c179e"
             ],
             [
              0.4444444444444444,
              "#bd3786"
             ],
             [
              0.5555555555555556,
              "#d8576b"
             ],
             [
              0.6666666666666666,
              "#ed7953"
             ],
             [
              0.7777777777777778,
              "#fb9f3a"
             ],
             [
              0.8888888888888888,
              "#fdca26"
             ],
             [
              1,
              "#f0f921"
             ]
            ],
            "type": "surface"
           }
          ],
          "table": [
           {
            "cells": {
             "fill": {
              "color": "#EBF0F8"
             },
             "line": {
              "color": "white"
             }
            },
            "header": {
             "fill": {
              "color": "#C8D4E3"
             },
             "line": {
              "color": "white"
             }
            },
            "type": "table"
           }
          ]
         },
         "layout": {
          "annotationdefaults": {
           "arrowcolor": "#2a3f5f",
           "arrowhead": 0,
           "arrowwidth": 1
          },
          "coloraxis": {
           "colorbar": {
            "outlinewidth": 0,
            "ticks": ""
           }
          },
          "colorscale": {
           "diverging": [
            [
             0,
             "#8e0152"
            ],
            [
             0.1,
             "#c51b7d"
            ],
            [
             0.2,
             "#de77ae"
            ],
            [
             0.3,
             "#f1b6da"
            ],
            [
             0.4,
             "#fde0ef"
            ],
            [
             0.5,
             "#f7f7f7"
            ],
            [
             0.6,
             "#e6f5d0"
            ],
            [
             0.7,
             "#b8e186"
            ],
            [
             0.8,
             "#7fbc41"
            ],
            [
             0.9,
             "#4d9221"
            ],
            [
             1,
             "#276419"
            ]
           ],
           "sequential": [
            [
             0,
             "#0d0887"
            ],
            [
             0.1111111111111111,
             "#46039f"
            ],
            [
             0.2222222222222222,
             "#7201a8"
            ],
            [
             0.3333333333333333,
             "#9c179e"
            ],
            [
             0.4444444444444444,
             "#bd3786"
            ],
            [
             0.5555555555555556,
             "#d8576b"
            ],
            [
             0.6666666666666666,
             "#ed7953"
            ],
            [
             0.7777777777777778,
             "#fb9f3a"
            ],
            [
             0.8888888888888888,
             "#fdca26"
            ],
            [
             1,
             "#f0f921"
            ]
           ],
           "sequentialminus": [
            [
             0,
             "#0d0887"
            ],
            [
             0.1111111111111111,
             "#46039f"
            ],
            [
             0.2222222222222222,
             "#7201a8"
            ],
            [
             0.3333333333333333,
             "#9c179e"
            ],
            [
             0.4444444444444444,
             "#bd3786"
            ],
            [
             0.5555555555555556,
             "#d8576b"
            ],
            [
             0.6666666666666666,
             "#ed7953"
            ],
            [
             0.7777777777777778,
             "#fb9f3a"
            ],
            [
             0.8888888888888888,
             "#fdca26"
            ],
            [
             1,
             "#f0f921"
            ]
           ]
          },
          "colorway": [
           "#636efa",
           "#EF553B",
           "#00cc96",
           "#ab63fa",
           "#FFA15A",
           "#19d3f3",
           "#FF6692",
           "#B6E880",
           "#FF97FF",
           "#FECB52"
          ],
          "font": {
           "color": "#2a3f5f"
          },
          "geo": {
           "bgcolor": "white",
           "lakecolor": "white",
           "landcolor": "#E5ECF6",
           "showlakes": true,
           "showland": true,
           "subunitcolor": "white"
          },
          "hoverlabel": {
           "align": "left"
          },
          "hovermode": "closest",
          "mapbox": {
           "style": "light"
          },
          "paper_bgcolor": "white",
          "plot_bgcolor": "#E5ECF6",
          "polar": {
           "angularaxis": {
            "gridcolor": "white",
            "linecolor": "white",
            "ticks": ""
           },
           "bgcolor": "#E5ECF6",
           "radialaxis": {
            "gridcolor": "white",
            "linecolor": "white",
            "ticks": ""
           }
          },
          "scene": {
           "xaxis": {
            "backgroundcolor": "#E5ECF6",
            "gridcolor": "white",
            "gridwidth": 2,
            "linecolor": "white",
            "showbackground": true,
            "ticks": "",
            "zerolinecolor": "white"
           },
           "yaxis": {
            "backgroundcolor": "#E5ECF6",
            "gridcolor": "white",
            "gridwidth": 2,
            "linecolor": "white",
            "showbackground": true,
            "ticks": "",
            "zerolinecolor": "white"
           },
           "zaxis": {
            "backgroundcolor": "#E5ECF6",
            "gridcolor": "white",
            "gridwidth": 2,
            "linecolor": "white",
            "showbackground": true,
            "ticks": "",
            "zerolinecolor": "white"
           }
          },
          "shapedefaults": {
           "line": {
            "color": "#2a3f5f"
           }
          },
          "ternary": {
           "aaxis": {
            "gridcolor": "white",
            "linecolor": "white",
            "ticks": ""
           },
           "baxis": {
            "gridcolor": "white",
            "linecolor": "white",
            "ticks": ""
           },
           "bgcolor": "#E5ECF6",
           "caxis": {
            "gridcolor": "white",
            "linecolor": "white",
            "ticks": ""
           }
          },
          "title": {
           "x": 0.05
          },
          "xaxis": {
           "automargin": true,
           "gridcolor": "white",
           "linecolor": "white",
           "ticks": "",
           "title": {
            "standoff": 15
           },
           "zerolinecolor": "white",
           "zerolinewidth": 2
          },
          "yaxis": {
           "automargin": true,
           "gridcolor": "white",
           "linecolor": "white",
           "ticks": "",
           "title": {
            "standoff": 15
           },
           "zerolinecolor": "white",
           "zerolinewidth": 2
          }
         }
        },
        "xaxis": {
         "constrain": "domain",
         "scaleanchor": "y",
         "title": {
          "text": "Jaki jest Twój status zawodowy? (2)"
         }
        },
        "yaxis": {
         "autorange": "reversed",
         "constrain": "domain",
         "title": {
          "text": "Jaki jest Twój status zawodowy? (1)"
         }
        }
       }
      },
      "text/html": [
       "<div>                            <div id=\"f60b5eec-165b-4ba0-b43a-01a1d191395e\" class=\"plotly-graph-div\" style=\"height:525px; width:100%;\"></div>            <script type=\"text/javascript\">                require([\"plotly\"], function(Plotly) {                    window.PLOTLYENV=window.PLOTLYENV || {};                                    if (document.getElementById(\"f60b5eec-165b-4ba0-b43a-01a1d191395e\")) {                    Plotly.newPlot(                        \"f60b5eec-165b-4ba0-b43a-01a1d191395e\",                        [{\"coloraxis\": \"coloraxis\", \"hovertemplate\": \"Jaki jest Tw\\u00f3j status zawodowy? (2): %{x}<br>Jaki jest Tw\\u00f3j status zawodowy? (1): %{y}<br>color: %{z}<extra></extra>\", \"type\": \"heatmap\", \"x\": [\"Bezrobotny\", \"Renta lub emerytura\", \"Ucze\\u0144/student\", \"W\\u0142asna dzia\\u0142alno\\u015b\\u0107 gospodarcza\", \"Zatrudnienie dorywcze\", \"Zatrudnienie na cz\\u0119\\u015bci etatu\", \"Zatrudnienie na etacie\"], \"y\": [\"Renta lub emerytura\", \"Ucze\\u0144/student\", \"W\\u0142asna dzia\\u0142alno\\u015b\\u0107 gospodarcza\", \"Zatrudnienie dorywcze\", \"Zatrudnienie na cz\\u0119\\u015bci etatu\", \"Zatrudnienie na etacie\", \"Zatrudnienie na kilku etatach\"], \"z\": [[0, 0, 0, 0, 0, 3, 2], [0, 0, 0, 0, 3, 10, 7], [0, 0, 0, 0, 0, 1, 1], [1, 0, 0, 0, 0, 1, 0], [0, 0, 1, 1, 0, 0, 0], [0, 1, 2, 1, 3, 0, 0], [0, 0, 0, 2, 0, 0, 0]]}],                        {\"coloraxis\": {\"colorscale\": [[0.0, \"#0d0887\"], [0.1111111111111111, \"#46039f\"], [0.2222222222222222, \"#7201a8\"], [0.3333333333333333, \"#9c179e\"], [0.4444444444444444, \"#bd3786\"], [0.5555555555555556, \"#d8576b\"], [0.6666666666666666, \"#ed7953\"], [0.7777777777777778, \"#fb9f3a\"], [0.8888888888888888, \"#fdca26\"], [1.0, \"#f0f921\"]]}, \"margin\": {\"t\": 60}, \"template\": {\"data\": {\"bar\": [{\"error_x\": {\"color\": \"#2a3f5f\"}, \"error_y\": {\"color\": \"#2a3f5f\"}, \"marker\": {\"line\": {\"color\": \"#E5ECF6\", \"width\": 0.5}}, \"type\": \"bar\"}], \"barpolar\": [{\"marker\": {\"line\": {\"color\": \"#E5ECF6\", \"width\": 0.5}}, \"type\": \"barpolar\"}], \"carpet\": [{\"aaxis\": {\"endlinecolor\": \"#2a3f5f\", \"gridcolor\": \"white\", \"linecolor\": \"white\", \"minorgridcolor\": \"white\", \"startlinecolor\": \"#2a3f5f\"}, \"baxis\": {\"endlinecolor\": \"#2a3f5f\", \"gridcolor\": \"white\", \"linecolor\": \"white\", \"minorgridcolor\": \"white\", \"startlinecolor\": \"#2a3f5f\"}, \"type\": \"carpet\"}], \"choropleth\": [{\"colorbar\": {\"outlinewidth\": 0, \"ticks\": \"\"}, \"type\": \"choropleth\"}], \"contour\": [{\"colorbar\": {\"outlinewidth\": 0, \"ticks\": \"\"}, \"colorscale\": [[0.0, \"#0d0887\"], [0.1111111111111111, \"#46039f\"], [0.2222222222222222, \"#7201a8\"], [0.3333333333333333, \"#9c179e\"], [0.4444444444444444, \"#bd3786\"], [0.5555555555555556, \"#d8576b\"], [0.6666666666666666, \"#ed7953\"], [0.7777777777777778, \"#fb9f3a\"], [0.8888888888888888, \"#fdca26\"], [1.0, \"#f0f921\"]], \"type\": \"contour\"}], \"contourcarpet\": [{\"colorbar\": {\"outlinewidth\": 0, \"ticks\": \"\"}, \"type\": \"contourcarpet\"}], \"heatmap\": [{\"colorbar\": {\"outlinewidth\": 0, \"ticks\": \"\"}, \"colorscale\": [[0.0, \"#0d0887\"], [0.1111111111111111, \"#46039f\"], [0.2222222222222222, \"#7201a8\"], [0.3333333333333333, \"#9c179e\"], [0.4444444444444444, \"#bd3786\"], [0.5555555555555556, \"#d8576b\"], [0.6666666666666666, \"#ed7953\"], [0.7777777777777778, \"#fb9f3a\"], [0.8888888888888888, \"#fdca26\"], [1.0, \"#f0f921\"]], \"type\": \"heatmap\"}], \"heatmapgl\": [{\"colorbar\": {\"outlinewidth\": 0, \"ticks\": \"\"}, \"colorscale\": [[0.0, \"#0d0887\"], [0.1111111111111111, \"#46039f\"], [0.2222222222222222, \"#7201a8\"], [0.3333333333333333, \"#9c179e\"], [0.4444444444444444, \"#bd3786\"], [0.5555555555555556, \"#d8576b\"], [0.6666666666666666, \"#ed7953\"], [0.7777777777777778, \"#fb9f3a\"], [0.8888888888888888, \"#fdca26\"], [1.0, \"#f0f921\"]], \"type\": \"heatmapgl\"}], \"histogram\": [{\"marker\": {\"colorbar\": {\"outlinewidth\": 0, \"ticks\": \"\"}}, \"type\": \"histogram\"}], \"histogram2d\": [{\"colorbar\": {\"outlinewidth\": 0, \"ticks\": \"\"}, \"colorscale\": [[0.0, \"#0d0887\"], [0.1111111111111111, \"#46039f\"], [0.2222222222222222, \"#7201a8\"], [0.3333333333333333, \"#9c179e\"], [0.4444444444444444, \"#bd3786\"], [0.5555555555555556, \"#d8576b\"], [0.6666666666666666, \"#ed7953\"], [0.7777777777777778, \"#fb9f3a\"], [0.8888888888888888, \"#fdca26\"], [1.0, \"#f0f921\"]], \"type\": \"histogram2d\"}], \"histogram2dcontour\": [{\"colorbar\": {\"outlinewidth\": 0, \"ticks\": \"\"}, \"colorscale\": [[0.0, \"#0d0887\"], [0.1111111111111111, \"#46039f\"], [0.2222222222222222, \"#7201a8\"], [0.3333333333333333, \"#9c179e\"], [0.4444444444444444, \"#bd3786\"], [0.5555555555555556, \"#d8576b\"], [0.6666666666666666, \"#ed7953\"], [0.7777777777777778, \"#fb9f3a\"], [0.8888888888888888, \"#fdca26\"], [1.0, \"#f0f921\"]], \"type\": \"histogram2dcontour\"}], \"mesh3d\": [{\"colorbar\": {\"outlinewidth\": 0, \"ticks\": \"\"}, \"type\": \"mesh3d\"}], \"parcoords\": [{\"line\": {\"colorbar\": {\"outlinewidth\": 0, \"ticks\": \"\"}}, \"type\": \"parcoords\"}], \"pie\": [{\"automargin\": true, \"type\": \"pie\"}], \"scatter\": [{\"marker\": {\"colorbar\": {\"outlinewidth\": 0, \"ticks\": \"\"}}, \"type\": \"scatter\"}], \"scatter3d\": [{\"line\": {\"colorbar\": {\"outlinewidth\": 0, \"ticks\": \"\"}}, \"marker\": {\"colorbar\": {\"outlinewidth\": 0, \"ticks\": \"\"}}, \"type\": \"scatter3d\"}], \"scattercarpet\": [{\"marker\": {\"colorbar\": {\"outlinewidth\": 0, \"ticks\": \"\"}}, \"type\": \"scattercarpet\"}], \"scattergeo\": [{\"marker\": {\"colorbar\": {\"outlinewidth\": 0, \"ticks\": \"\"}}, \"type\": \"scattergeo\"}], \"scattergl\": [{\"marker\": {\"colorbar\": {\"outlinewidth\": 0, \"ticks\": \"\"}}, \"type\": \"scattergl\"}], \"scattermapbox\": [{\"marker\": {\"colorbar\": {\"outlinewidth\": 0, \"ticks\": \"\"}}, \"type\": \"scattermapbox\"}], \"scatterpolar\": [{\"marker\": {\"colorbar\": {\"outlinewidth\": 0, \"ticks\": \"\"}}, \"type\": \"scatterpolar\"}], \"scatterpolargl\": [{\"marker\": {\"colorbar\": {\"outlinewidth\": 0, \"ticks\": \"\"}}, \"type\": \"scatterpolargl\"}], \"scatterternary\": [{\"marker\": {\"colorbar\": {\"outlinewidth\": 0, \"ticks\": \"\"}}, \"type\": \"scatterternary\"}], \"surface\": [{\"colorbar\": {\"outlinewidth\": 0, \"ticks\": \"\"}, \"colorscale\": [[0.0, \"#0d0887\"], [0.1111111111111111, \"#46039f\"], [0.2222222222222222, \"#7201a8\"], [0.3333333333333333, \"#9c179e\"], [0.4444444444444444, \"#bd3786\"], [0.5555555555555556, \"#d8576b\"], [0.6666666666666666, \"#ed7953\"], [0.7777777777777778, \"#fb9f3a\"], [0.8888888888888888, \"#fdca26\"], [1.0, \"#f0f921\"]], \"type\": \"surface\"}], \"table\": [{\"cells\": {\"fill\": {\"color\": \"#EBF0F8\"}, \"line\": {\"color\": \"white\"}}, \"header\": {\"fill\": {\"color\": \"#C8D4E3\"}, \"line\": {\"color\": \"white\"}}, \"type\": \"table\"}]}, \"layout\": {\"annotationdefaults\": {\"arrowcolor\": \"#2a3f5f\", \"arrowhead\": 0, \"arrowwidth\": 1}, \"coloraxis\": {\"colorbar\": {\"outlinewidth\": 0, \"ticks\": \"\"}}, \"colorscale\": {\"diverging\": [[0, \"#8e0152\"], [0.1, \"#c51b7d\"], [0.2, \"#de77ae\"], [0.3, \"#f1b6da\"], [0.4, \"#fde0ef\"], [0.5, \"#f7f7f7\"], [0.6, \"#e6f5d0\"], [0.7, \"#b8e186\"], [0.8, \"#7fbc41\"], [0.9, \"#4d9221\"], [1, \"#276419\"]], \"sequential\": [[0.0, \"#0d0887\"], [0.1111111111111111, \"#46039f\"], [0.2222222222222222, \"#7201a8\"], [0.3333333333333333, \"#9c179e\"], [0.4444444444444444, \"#bd3786\"], [0.5555555555555556, \"#d8576b\"], [0.6666666666666666, \"#ed7953\"], [0.7777777777777778, \"#fb9f3a\"], [0.8888888888888888, \"#fdca26\"], [1.0, \"#f0f921\"]], \"sequentialminus\": [[0.0, \"#0d0887\"], [0.1111111111111111, \"#46039f\"], [0.2222222222222222, \"#7201a8\"], [0.3333333333333333, \"#9c179e\"], [0.4444444444444444, \"#bd3786\"], [0.5555555555555556, \"#d8576b\"], [0.6666666666666666, \"#ed7953\"], [0.7777777777777778, \"#fb9f3a\"], [0.8888888888888888, \"#fdca26\"], [1.0, \"#f0f921\"]]}, \"colorway\": [\"#636efa\", \"#EF553B\", \"#00cc96\", \"#ab63fa\", \"#FFA15A\", \"#19d3f3\", \"#FF6692\", \"#B6E880\", \"#FF97FF\", \"#FECB52\"], \"font\": {\"color\": \"#2a3f5f\"}, \"geo\": {\"bgcolor\": \"white\", \"lakecolor\": \"white\", \"landcolor\": \"#E5ECF6\", \"showlakes\": true, \"showland\": true, \"subunitcolor\": \"white\"}, \"hoverlabel\": {\"align\": \"left\"}, \"hovermode\": \"closest\", \"mapbox\": {\"style\": \"light\"}, \"paper_bgcolor\": \"white\", \"plot_bgcolor\": \"#E5ECF6\", \"polar\": {\"angularaxis\": {\"gridcolor\": \"white\", \"linecolor\": \"white\", \"ticks\": \"\"}, \"bgcolor\": \"#E5ECF6\", \"radialaxis\": {\"gridcolor\": \"white\", \"linecolor\": \"white\", \"ticks\": \"\"}}, \"scene\": {\"xaxis\": {\"backgroundcolor\": \"#E5ECF6\", \"gridcolor\": \"white\", \"gridwidth\": 2, \"linecolor\": \"white\", \"showbackground\": true, \"ticks\": \"\", \"zerolinecolor\": \"white\"}, \"yaxis\": {\"backgroundcolor\": \"#E5ECF6\", \"gridcolor\": \"white\", \"gridwidth\": 2, \"linecolor\": \"white\", \"showbackground\": true, \"ticks\": \"\", \"zerolinecolor\": \"white\"}, \"zaxis\": {\"backgroundcolor\": \"#E5ECF6\", \"gridcolor\": \"white\", \"gridwidth\": 2, \"linecolor\": \"white\", \"showbackground\": true, \"ticks\": \"\", \"zerolinecolor\": \"white\"}}, \"shapedefaults\": {\"line\": {\"color\": \"#2a3f5f\"}}, \"ternary\": {\"aaxis\": {\"gridcolor\": \"white\", \"linecolor\": \"white\", \"ticks\": \"\"}, \"baxis\": {\"gridcolor\": \"white\", \"linecolor\": \"white\", \"ticks\": \"\"}, \"bgcolor\": \"#E5ECF6\", \"caxis\": {\"gridcolor\": \"white\", \"linecolor\": \"white\", \"ticks\": \"\"}}, \"title\": {\"x\": 0.05}, \"xaxis\": {\"automargin\": true, \"gridcolor\": \"white\", \"linecolor\": \"white\", \"ticks\": \"\", \"title\": {\"standoff\": 15}, \"zerolinecolor\": \"white\", \"zerolinewidth\": 2}, \"yaxis\": {\"automargin\": true, \"gridcolor\": \"white\", \"linecolor\": \"white\", \"ticks\": \"\", \"title\": {\"standoff\": 15}, \"zerolinecolor\": \"white\", \"zerolinewidth\": 2}}}, \"xaxis\": {\"constrain\": \"domain\", \"scaleanchor\": \"y\", \"title\": {\"text\": \"Jaki jest Tw\\u00f3j status zawodowy? (2)\"}}, \"yaxis\": {\"autorange\": \"reversed\", \"constrain\": \"domain\", \"title\": {\"text\": \"Jaki jest Tw\\u00f3j status zawodowy? (1)\"}}},                        {\"responsive\": true}                    ).then(function(){\n",
       "                            \n",
       "var gd = document.getElementById('f60b5eec-165b-4ba0-b43a-01a1d191395e');\n",
       "var x = new MutationObserver(function (mutations, observer) {{\n",
       "        var display = window.getComputedStyle(gd).display;\n",
       "        if (!display || display === 'none') {{\n",
       "            console.log([gd, 'removed!']);\n",
       "            Plotly.purge(gd);\n",
       "            observer.disconnect();\n",
       "        }}\n",
       "}});\n",
       "\n",
       "// Listen for the removal of the full notebook cells\n",
       "var notebookContainer = gd.closest('#notebook-container');\n",
       "if (notebookContainer) {{\n",
       "    x.observe(notebookContainer, {childList: true});\n",
       "}}\n",
       "\n",
       "// Listen for the clearing of the current output cell\n",
       "var outputEl = gd.closest('.output');\n",
       "if (outputEl) {{\n",
       "    x.observe(outputEl, {childList: true});\n",
       "}}\n",
       "\n",
       "                        })                };                });            </script>        </div>"
      ]
     },
     "metadata": {},
     "output_type": "display_data"
    }
   ],
   "source": [
    "px.imshow(df_jobcorr)"
   ]
  },
  {
   "cell_type": "code",
   "execution_count": null,
   "metadata": {},
   "outputs": [],
   "source": []
  }
 ],
 "metadata": {
  "kernelspec": {
   "display_name": "Python 3",
   "language": "python",
   "name": "python3"
  },
  "language_info": {
   "codemirror_mode": {
    "name": "ipython",
    "version": 3
   },
   "file_extension": ".py",
   "mimetype": "text/x-python",
   "name": "python",
   "nbconvert_exporter": "python",
   "pygments_lexer": "ipython3",
   "version": "3.6.8"
  },
  "pycharm": {
   "stem_cell": {
    "cell_type": "raw",
    "source": [],
    "metadata": {
     "collapsed": false
    }
   }
  }
 },
 "nbformat": 4,
 "nbformat_minor": 1
}