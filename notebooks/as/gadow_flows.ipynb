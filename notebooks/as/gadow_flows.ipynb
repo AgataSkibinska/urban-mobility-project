{
 "cells": [
  {
   "cell_type": "code",
   "execution_count": 3,
   "metadata": {
    "collapsed": true,
    "pycharm": {
     "is_executing": false
    }
   },
   "outputs": [
    {
     "name": "stderr",
     "output_type": "stream",
     "text": [
      "c:\\users\\askib\\pycharmprojects\\mobility\\venv\\lib\\site-packages\\tqdm\\std.py:699: FutureWarning: The Panel class is removed from pandas. Accessing it from the top-level namespace will also be removed in the next version\n",
      "  from pandas import Panel\n"
     ]
    }
   ],
   "source": [
    "import skmob\n",
    "import pandas as pd\n",
    "import plotly.express as px\n",
    "from tqdm import tqdm\n",
    "import geocoder\n",
    "import datetime\n",
    "\n",
    "tqdm.pandas()"
   ]
  },
  {
   "cell_type": "code",
   "execution_count": 9,
   "metadata": {
    "pycharm": {
     "is_executing": false,
     "name": "#%%\n"
    }
   },
   "outputs": [],
   "source": [
    "path = \"../../data/raw/KBR_Gadow_2019_bez_hasla.xlsx\""
   ]
  },
  {
   "cell_type": "code",
   "execution_count": 25,
   "metadata": {
    "pycharm": {
     "is_executing": false,
     "name": "#%%\n"
    }
   },
   "outputs": [],
   "source": [
    "df = pd.read_excel(path, header=[0,1])"
   ]
  },
  {
   "cell_type": "code",
   "execution_count": 26,
   "metadata": {
    "pycharm": {
     "is_executing": false,
     "name": "#%%\n"
    }
   },
   "outputs": [],
   "source": [
    "columns = list(df.columns)[199:]\n",
    "columns.append(list(df.columns)[0])\n",
    "# df = df[l]\n",
    "df = df[columns]"
   ]
  },
  {
   "cell_type": "code",
   "execution_count": 27,
   "metadata": {
    "pycharm": {
     "is_executing": false,
     "name": "#%%\n"
    }
   },
   "outputs": [
    {
     "data": {
      "text/plain": [
       "Index(['ID podróży (1)', 'Data rozpoczecia podróży (1)',\n",
       "       'Czas trwania podróży [s] (1)', 'Środek transportu (1)',\n",
       "       'Typ miejsca startu (1)', 'Typ miejsca zakończenia (1)',\n",
       "       'Miejsce startu (1)', 'Numer regionu miejsca startu (1)',\n",
       "       'Numer regionu miejsca zakończenia (1)', 'Miejsce zakończenia (1)',\n",
       "       ...\n",
       "       'Data rozpoczecia podróży (27)', 'Czas trwania podróży [s] (27)',\n",
       "       'Środek transportu (27)', 'Typ miejsca startu (27)',\n",
       "       'Typ miejsca zakończenia (27)', 'Miejsce startu (27)',\n",
       "       'Numer regionu miejsca startu (27)',\n",
       "       'Numer regionu miejsca zakończenia (27)', 'Miejsce zakończenia (27)',\n",
       "       'ID odpowiedzi'],\n",
       "      dtype='object', length=271)"
      ]
     },
     "execution_count": 27,
     "metadata": {},
     "output_type": "execute_result"
    }
   ],
   "source": [
    "df.columns = df.columns.droplevel(1)\n",
    "df.rename(columns={df.columns[270]:'ID odpowiedzi'}, inplace=True)\n",
    "df.columns"
   ]
  },
  {
   "cell_type": "code",
   "execution_count": 13,
   "metadata": {
    "pycharm": {
     "is_executing": false,
     "name": "#%%\n"
    }
   },
   "outputs": [
    {
     "name": "stderr",
     "output_type": "stream",
     "text": [
      "100%|██████████| 27/27 [00:00<00:00, 56.71it/s]\n"
     ]
    }
   ],
   "source": [
    "new_columns = [\n",
    "    'user_id',\n",
    "    'travel_id',\n",
    "    'start_date',\n",
    "    'duration_time',\n",
    "    'mean_of_transport',\n",
    "    'start_place_type',\n",
    "    'finish_place_type',\n",
    "    'start_place',\n",
    "    'start_region',\n",
    "    'residence_region',\n",
    "    'finish_place'\n",
    "]\n",
    "\n",
    "travels_df = pd.DataFrame(columns=new_columns)\n",
    "\n",
    "for i in tqdm(range(1, 28)):\n",
    "    columns = [\n",
    "        'ID odpowiedzi',\n",
    "        f'ID podróży ({i})',\n",
    "        f'Data rozpoczecia podróży ({i})',\n",
    "        f'Czas trwania podróży [s] ({i})',\n",
    "        f'Środek transportu ({i})',\n",
    "        f'Typ miejsca startu ({i})',\n",
    "        f'Typ miejsca zakończenia ({i})',\n",
    "        f'Miejsce startu ({i})',\n",
    "        f'Numer regionu miejsca startu ({i})',\n",
    "        f'Numer regionu miejsca zakończenia ({i})',\n",
    "        f'Miejsce zakończenia ({i})'\n",
    "    ]\n",
    "\n",
    "    sub_df = df[columns]\n",
    "    sub_df = sub_df.dropna()\n",
    "    sub_df.columns = new_columns\n",
    "\n",
    "    travels_df = travels_df.append(sub_df)"
   ]
  },
  {
   "cell_type": "code",
   "execution_count": 14,
   "metadata": {
    "pycharm": {
     "is_executing": false,
     "name": "#%%\n"
    }
   },
   "outputs": [
    {
     "name": "stdout",
     "output_type": "stream",
     "text": [
      "<class 'pandas.core.frame.DataFrame'>\n",
      "Int64Index: 1277 entries, 0 to 259\n",
      "Data columns (total 11 columns):\n",
      " #   Column             Non-Null Count  Dtype  \n",
      "---  ------             --------------  -----  \n",
      " 0   user_id            1277 non-null   object \n",
      " 1   travel_id          1277 non-null   object \n",
      " 2   start_date         1277 non-null   object \n",
      " 3   duration_time      1277 non-null   object \n",
      " 4   mean_of_transport  1277 non-null   object \n",
      " 5   start_place_type   1277 non-null   object \n",
      " 6   finish_place_type  1277 non-null   object \n",
      " 7   start_place        1277 non-null   object \n",
      " 8   start_region       1277 non-null   float64\n",
      " 9   residence_region   1277 non-null   float64\n",
      " 10  finish_place       1277 non-null   object \n",
      "dtypes: float64(2), object(9)\n",
      "memory usage: 119.7+ KB\n"
     ]
    }
   ],
   "source": [
    "travels_df.info()"
   ]
  },
  {
   "cell_type": "code",
   "execution_count": null,
   "metadata": {
    "pycharm": {
     "is_executing": true,
     "name": "#%%\n"
    }
   },
   "outputs": [
    {
     "name": "stderr",
     "output_type": "stream",
     "text": [
      "  5%|▌         | 68/1277 [01:08<20:04,  1.00it/s]"
     ]
    }
   ],
   "source": [
    "tdf = pd.DataFrame(columns=['travel_id', 'lat', 'long', 'time', 'mean_of_transport'])\n",
    "\n",
    "for index, row in tqdm(travels_df.iterrows(), total=travels_df.shape[0]):\n",
    "    g_start = geocoder.osm(row['start_place'])\n",
    "    g_finish = geocoder.osm(row[\"finish_place\"])\n",
    "\n",
    "    try:\n",
    "        tdf = tdf.append({\n",
    "            'travel_id': row['travel_id'],\n",
    "            'lat': g_start.osm['x'],\n",
    "            'long': g_start.osm['y'],\n",
    "            'time': datetime.datetime.strptime(row[\"start_date\"], '%Y-%m-%d %H:%M:%S UTC'),\n",
    "            'mean_of_transport': row['mean_of_transport']\n",
    "        }, ignore_index=True)\n",
    "\n",
    "        tdf = tdf.append({\n",
    "            'travel_id': row['travel_id'],\n",
    "            'lat': g_finish.osm['x'],\n",
    "            'long': g_finish.osm['y'],\n",
    "            'time': datetime.datetime.strptime(row[\"start_date\"], '%Y-%m-%d %H:%M:%S UTC')\n",
    " + datetime.timedelta(0,int(row[\"duration_time\"])),\n",
    "            'mean_of_transport': row['mean_of_transport']\n",
    "        }, ignore_index=True)\n",
    "    except Exception as e:\n",
    "        print()\n",
    "        print(e)\n",
    "        print(g_start.osm)\n",
    "        print(g_finish.osm)"
   ]
  },
  {
   "cell_type": "code",
   "execution_count": 30,
   "metadata": {
    "pycharm": {
     "is_executing": false,
     "name": "#%%\n"
    }
   },
   "outputs": [],
   "source": [
    "\n",
    "tdf.to_csv(\"../data/interim/flow_matrix_gadow.csv\")"
   ]
  },
  {
   "cell_type": "code",
   "execution_count": 18,
   "metadata": {
    "pycharm": {
     "is_executing": false,
     "name": "#%%\n"
    }
   },
   "outputs": [],
   "source": [
    "df = pd.read_csv(\"../../data/processed/flow_matrix_gadow.csv\")"
   ]
  },
  {
   "cell_type": "code",
   "execution_count": 20,
   "metadata": {
    "pycharm": {
     "is_executing": false,
     "name": "#%%\n"
    }
   },
   "outputs": [
    {
     "data": {
      "text/html": [
       "<div>\n",
       "<style scoped>\n",
       "    .dataframe tbody tr th:only-of-type {\n",
       "        vertical-align: middle;\n",
       "    }\n",
       "\n",
       "    .dataframe tbody tr th {\n",
       "        vertical-align: top;\n",
       "    }\n",
       "\n",
       "    .dataframe thead th {\n",
       "        text-align: right;\n",
       "    }\n",
       "</style>\n",
       "<table border=\"1\" class=\"dataframe\">\n",
       "  <thead>\n",
       "    <tr style=\"text-align: right;\">\n",
       "      <th></th>\n",
       "      <th>Unnamed: 0</th>\n",
       "      <th>travel_id</th>\n",
       "      <th>lat</th>\n",
       "      <th>long</th>\n",
       "      <th>time</th>\n",
       "      <th>mean_of_transport</th>\n",
       "    </tr>\n",
       "  </thead>\n",
       "  <tbody>\n",
       "    <tr>\n",
       "      <th>0</th>\n",
       "      <td>0</td>\n",
       "      <td>798a9138-afb4-4599-a4a4-b953673a6586</td>\n",
       "      <td>16.963825</td>\n",
       "      <td>51.126405</td>\n",
       "      <td>2019-10-27 07:40:00</td>\n",
       "      <td>Pieszo</td>\n",
       "    </tr>\n",
       "    <tr>\n",
       "      <th>1</th>\n",
       "      <td>1</td>\n",
       "      <td>798a9138-afb4-4599-a4a4-b953673a6586</td>\n",
       "      <td>16.960701</td>\n",
       "      <td>51.127634</td>\n",
       "      <td>2019-10-27 07:48:00</td>\n",
       "      <td>Pieszo</td>\n",
       "    </tr>\n",
       "    <tr>\n",
       "      <th>2</th>\n",
       "      <td>2</td>\n",
       "      <td>5e3a9ce9-2285-41d5-a395-a483adbc45f6</td>\n",
       "      <td>16.957725</td>\n",
       "      <td>51.126554</td>\n",
       "      <td>2019-10-08 05:00:00</td>\n",
       "      <td>Samochód osobowy jako kierowca</td>\n",
       "    </tr>\n",
       "    <tr>\n",
       "      <th>3</th>\n",
       "      <td>3</td>\n",
       "      <td>5e3a9ce9-2285-41d5-a395-a483adbc45f6</td>\n",
       "      <td>16.986002</td>\n",
       "      <td>51.112351</td>\n",
       "      <td>2019-10-08 05:30:00</td>\n",
       "      <td>Samochód osobowy jako kierowca</td>\n",
       "    </tr>\n",
       "    <tr>\n",
       "      <th>4</th>\n",
       "      <td>4</td>\n",
       "      <td>9cd2247e-4c96-4d73-b81c-7ee752b099ae</td>\n",
       "      <td>16.969748</td>\n",
       "      <td>51.126558</td>\n",
       "      <td>2019-10-27 18:30:00</td>\n",
       "      <td>Samochód osobowy jako kierowca</td>\n",
       "    </tr>\n",
       "    <tr>\n",
       "      <th>...</th>\n",
       "      <td>...</td>\n",
       "      <td>...</td>\n",
       "      <td>...</td>\n",
       "      <td>...</td>\n",
       "      <td>...</td>\n",
       "      <td>...</td>\n",
       "    </tr>\n",
       "    <tr>\n",
       "      <th>2539</th>\n",
       "      <td>2539</td>\n",
       "      <td>21ac528a-30ea-4612-881e-ef74e0653fea</td>\n",
       "      <td>17.022057</td>\n",
       "      <td>51.111591</td>\n",
       "      <td>2019-11-15 21:35:00</td>\n",
       "      <td>Pieszo</td>\n",
       "    </tr>\n",
       "    <tr>\n",
       "      <th>2540</th>\n",
       "      <td>2540</td>\n",
       "      <td>21ac528a-30ea-4612-881e-ef74e0653fea</td>\n",
       "      <td>17.022057</td>\n",
       "      <td>51.111591</td>\n",
       "      <td>2019-11-15 21:30:00</td>\n",
       "      <td>Tramwaj</td>\n",
       "    </tr>\n",
       "    <tr>\n",
       "      <th>2541</th>\n",
       "      <td>2541</td>\n",
       "      <td>21ac528a-30ea-4612-881e-ef74e0653fea</td>\n",
       "      <td>16.952153</td>\n",
       "      <td>51.135690</td>\n",
       "      <td>2019-11-15 21:50:00</td>\n",
       "      <td>Tramwaj</td>\n",
       "    </tr>\n",
       "    <tr>\n",
       "      <th>2542</th>\n",
       "      <td>2542</td>\n",
       "      <td>21ac528a-30ea-4612-881e-ef74e0653fea</td>\n",
       "      <td>16.952153</td>\n",
       "      <td>51.135690</td>\n",
       "      <td>2019-11-15 21:30:00</td>\n",
       "      <td>Pieszo</td>\n",
       "    </tr>\n",
       "    <tr>\n",
       "      <th>2543</th>\n",
       "      <td>2543</td>\n",
       "      <td>21ac528a-30ea-4612-881e-ef74e0653fea</td>\n",
       "      <td>16.961556</td>\n",
       "      <td>51.122530</td>\n",
       "      <td>2019-11-15 21:40:00</td>\n",
       "      <td>Pieszo</td>\n",
       "    </tr>\n",
       "  </tbody>\n",
       "</table>\n",
       "<p>2544 rows × 6 columns</p>\n",
       "</div>"
      ],
      "text/plain": [
       "      Unnamed: 0                             travel_id        lat       long  \\\n",
       "0              0  798a9138-afb4-4599-a4a4-b953673a6586  16.963825  51.126405   \n",
       "1              1  798a9138-afb4-4599-a4a4-b953673a6586  16.960701  51.127634   \n",
       "2              2  5e3a9ce9-2285-41d5-a395-a483adbc45f6  16.957725  51.126554   \n",
       "3              3  5e3a9ce9-2285-41d5-a395-a483adbc45f6  16.986002  51.112351   \n",
       "4              4  9cd2247e-4c96-4d73-b81c-7ee752b099ae  16.969748  51.126558   \n",
       "...          ...                                   ...        ...        ...   \n",
       "2539        2539  21ac528a-30ea-4612-881e-ef74e0653fea  17.022057  51.111591   \n",
       "2540        2540  21ac528a-30ea-4612-881e-ef74e0653fea  17.022057  51.111591   \n",
       "2541        2541  21ac528a-30ea-4612-881e-ef74e0653fea  16.952153  51.135690   \n",
       "2542        2542  21ac528a-30ea-4612-881e-ef74e0653fea  16.952153  51.135690   \n",
       "2543        2543  21ac528a-30ea-4612-881e-ef74e0653fea  16.961556  51.122530   \n",
       "\n",
       "                     time               mean_of_transport  \n",
       "0     2019-10-27 07:40:00                          Pieszo  \n",
       "1     2019-10-27 07:48:00                          Pieszo  \n",
       "2     2019-10-08 05:00:00  Samochód osobowy jako kierowca  \n",
       "3     2019-10-08 05:30:00  Samochód osobowy jako kierowca  \n",
       "4     2019-10-27 18:30:00  Samochód osobowy jako kierowca  \n",
       "...                   ...                             ...  \n",
       "2539  2019-11-15 21:35:00                          Pieszo  \n",
       "2540  2019-11-15 21:30:00                         Tramwaj  \n",
       "2541  2019-11-15 21:50:00                         Tramwaj  \n",
       "2542  2019-11-15 21:30:00                          Pieszo  \n",
       "2543  2019-11-15 21:40:00                          Pieszo  \n",
       "\n",
       "[2544 rows x 6 columns]"
      ]
     },
     "execution_count": 20,
     "metadata": {},
     "output_type": "execute_result"
    }
   ],
   "source": [
    "df"
   ]
  },
  {
   "cell_type": "code",
   "execution_count": 24,
   "metadata": {
    "pycharm": {
     "is_executing": false,
     "name": "#%%\n"
    }
   },
   "outputs": [
    {
     "data": {
      "text/plain": [
       "home                    316\n",
       "work                    288\n",
       "intermediate            251\n",
       "other                   208\n",
       "shop                    122\n",
       "school_or_university     63\n",
       "park                     21\n",
       "office                    8\n",
       "Name: finish_place_type, dtype: int64"
      ]
     },
     "execution_count": 24,
     "metadata": {},
     "output_type": "execute_result"
    }
   ],
   "source": [
    "travels_df[\"finish_place_type\"].value_counts()"
   ]
  },
  {
   "cell_type": "code",
   "execution_count": 23,
   "metadata": {
    "pycharm": {
     "name": "#%%\n"
    }
   },
   "outputs": [
    {
     "data": {
      "text/html": [
       "<div>\n",
       "<style scoped>\n",
       "    .dataframe tbody tr th:only-of-type {\n",
       "        vertical-align: middle;\n",
       "    }\n",
       "\n",
       "    .dataframe tbody tr th {\n",
       "        vertical-align: top;\n",
       "    }\n",
       "\n",
       "    .dataframe thead th {\n",
       "        text-align: right;\n",
       "    }\n",
       "</style>\n",
       "<table border=\"1\" class=\"dataframe\">\n",
       "  <thead>\n",
       "    <tr style=\"text-align: right;\">\n",
       "      <th>finish_place_type</th>\n",
       "      <th>home</th>\n",
       "      <th>intermediate</th>\n",
       "      <th>office</th>\n",
       "      <th>other</th>\n",
       "      <th>park</th>\n",
       "      <th>school_or_university</th>\n",
       "      <th>shop</th>\n",
       "      <th>work</th>\n",
       "    </tr>\n",
       "    <tr>\n",
       "      <th>start_place_type</th>\n",
       "      <th></th>\n",
       "      <th></th>\n",
       "      <th></th>\n",
       "      <th></th>\n",
       "      <th></th>\n",
       "      <th></th>\n",
       "      <th></th>\n",
       "      <th></th>\n",
       "    </tr>\n",
       "  </thead>\n",
       "  <tbody>\n",
       "    <tr>\n",
       "      <th>home</th>\n",
       "      <td>2</td>\n",
       "      <td>104</td>\n",
       "      <td>3</td>\n",
       "      <td>116</td>\n",
       "      <td>15</td>\n",
       "      <td>43</td>\n",
       "      <td>44</td>\n",
       "      <td>180</td>\n",
       "    </tr>\n",
       "    <tr>\n",
       "      <th>intermediate</th>\n",
       "      <td>55</td>\n",
       "      <td>71</td>\n",
       "      <td>1</td>\n",
       "      <td>36</td>\n",
       "      <td>3</td>\n",
       "      <td>8</td>\n",
       "      <td>14</td>\n",
       "      <td>60</td>\n",
       "    </tr>\n",
       "    <tr>\n",
       "      <th>office</th>\n",
       "      <td>1</td>\n",
       "      <td>1</td>\n",
       "      <td>0</td>\n",
       "      <td>0</td>\n",
       "      <td>0</td>\n",
       "      <td>1</td>\n",
       "      <td>1</td>\n",
       "      <td>0</td>\n",
       "    </tr>\n",
       "    <tr>\n",
       "      <th>other</th>\n",
       "      <td>89</td>\n",
       "      <td>17</td>\n",
       "      <td>0</td>\n",
       "      <td>19</td>\n",
       "      <td>0</td>\n",
       "      <td>0</td>\n",
       "      <td>10</td>\n",
       "      <td>13</td>\n",
       "    </tr>\n",
       "    <tr>\n",
       "      <th>park</th>\n",
       "      <td>5</td>\n",
       "      <td>1</td>\n",
       "      <td>0</td>\n",
       "      <td>1</td>\n",
       "      <td>2</td>\n",
       "      <td>0</td>\n",
       "      <td>0</td>\n",
       "      <td>0</td>\n",
       "    </tr>\n",
       "    <tr>\n",
       "      <th>school_or_university</th>\n",
       "      <td>17</td>\n",
       "      <td>9</td>\n",
       "      <td>0</td>\n",
       "      <td>1</td>\n",
       "      <td>0</td>\n",
       "      <td>2</td>\n",
       "      <td>4</td>\n",
       "      <td>15</td>\n",
       "    </tr>\n",
       "    <tr>\n",
       "      <th>shop</th>\n",
       "      <td>66</td>\n",
       "      <td>6</td>\n",
       "      <td>0</td>\n",
       "      <td>8</td>\n",
       "      <td>1</td>\n",
       "      <td>0</td>\n",
       "      <td>9</td>\n",
       "      <td>4</td>\n",
       "    </tr>\n",
       "    <tr>\n",
       "      <th>work</th>\n",
       "      <td>81</td>\n",
       "      <td>42</td>\n",
       "      <td>4</td>\n",
       "      <td>27</td>\n",
       "      <td>0</td>\n",
       "      <td>9</td>\n",
       "      <td>40</td>\n",
       "      <td>16</td>\n",
       "    </tr>\n",
       "  </tbody>\n",
       "</table>\n",
       "</div>"
      ],
      "text/plain": [
       "finish_place_type     home  intermediate  office  other  park  \\\n",
       "start_place_type                                                \n",
       "home                     2           104       3    116    15   \n",
       "intermediate            55            71       1     36     3   \n",
       "office                   1             1       0      0     0   \n",
       "other                   89            17       0     19     0   \n",
       "park                     5             1       0      1     2   \n",
       "school_or_university    17             9       0      1     0   \n",
       "shop                    66             6       0      8     1   \n",
       "work                    81            42       4     27     0   \n",
       "\n",
       "finish_place_type     school_or_university  shop  work  \n",
       "start_place_type                                        \n",
       "home                                    43    44   180  \n",
       "intermediate                             8    14    60  \n",
       "office                                   1     1     0  \n",
       "other                                    0    10    13  \n",
       "park                                     0     0     0  \n",
       "school_or_university                     2     4    15  \n",
       "shop                                     0     9     4  \n",
       "work                                     9    40    16  "
      ]
     },
     "execution_count": 23,
     "metadata": {},
     "output_type": "execute_result"
    }
   ],
   "source": [
    "\n",
    "pd.crosstab(travels_df[\"start_place_type\"],travels_df[\"finish_place_type\"] )"
   ]
  },
  {
   "cell_type": "code",
   "execution_count": 34,
   "metadata": {},
   "outputs": [
    {
     "name": "stderr",
     "output_type": "stream",
     "text": [
      "100%|██████████| 27/27 [00:00<?, ?it/s]\n"
     ]
    },
    {
     "data": {
      "text/plain": [
       "['ID odpowiedzi',\n",
       " 'Typ miejsca startu (1)',\n",
       " 'Typ miejsca zakończenia (1)',\n",
       " 'Typ miejsca startu (2)',\n",
       " 'Typ miejsca zakończenia (2)',\n",
       " 'Typ miejsca startu (3)',\n",
       " 'Typ miejsca zakończenia (3)',\n",
       " 'Typ miejsca startu (4)',\n",
       " 'Typ miejsca zakończenia (4)',\n",
       " 'Typ miejsca startu (5)',\n",
       " 'Typ miejsca zakończenia (5)',\n",
       " 'Typ miejsca startu (6)',\n",
       " 'Typ miejsca zakończenia (6)',\n",
       " 'Typ miejsca startu (7)',\n",
       " 'Typ miejsca zakończenia (7)',\n",
       " 'Typ miejsca startu (8)',\n",
       " 'Typ miejsca zakończenia (8)',\n",
       " 'Typ miejsca startu (9)',\n",
       " 'Typ miejsca zakończenia (9)',\n",
       " 'Typ miejsca startu (10)',\n",
       " 'Typ miejsca zakończenia (10)',\n",
       " 'Typ miejsca startu (11)',\n",
       " 'Typ miejsca zakończenia (11)',\n",
       " 'Typ miejsca startu (12)',\n",
       " 'Typ miejsca zakończenia (12)',\n",
       " 'Typ miejsca startu (13)',\n",
       " 'Typ miejsca zakończenia (13)',\n",
       " 'Typ miejsca startu (14)',\n",
       " 'Typ miejsca zakończenia (14)',\n",
       " 'Typ miejsca startu (15)',\n",
       " 'Typ miejsca zakończenia (15)',\n",
       " 'Typ miejsca startu (16)',\n",
       " 'Typ miejsca zakończenia (16)',\n",
       " 'Typ miejsca startu (17)',\n",
       " 'Typ miejsca zakończenia (17)',\n",
       " 'Typ miejsca startu (18)',\n",
       " 'Typ miejsca zakończenia (18)',\n",
       " 'Typ miejsca startu (19)',\n",
       " 'Typ miejsca zakończenia (19)',\n",
       " 'Typ miejsca startu (20)',\n",
       " 'Typ miejsca zakończenia (20)',\n",
       " 'Typ miejsca startu (21)',\n",
       " 'Typ miejsca zakończenia (21)',\n",
       " 'Typ miejsca startu (22)',\n",
       " 'Typ miejsca zakończenia (22)',\n",
       " 'Typ miejsca startu (23)',\n",
       " 'Typ miejsca zakończenia (23)',\n",
       " 'Typ miejsca startu (24)',\n",
       " 'Typ miejsca zakończenia (24)',\n",
       " 'Typ miejsca startu (25)',\n",
       " 'Typ miejsca zakończenia (25)',\n",
       " 'Typ miejsca startu (26)',\n",
       " 'Typ miejsca zakończenia (26)',\n",
       " 'Typ miejsca startu (27)',\n",
       " 'Typ miejsca zakończenia (27)']"
      ]
     },
     "execution_count": 34,
     "metadata": {},
     "output_type": "execute_result"
    }
   ],
   "source": [
    "\n",
    "columns = ['ID odpowiedzi']\n",
    "for i in tqdm(range(1, 28)):\n",
    "    columns.extend([\n",
    "        f'Typ miejsca startu ({i})',\n",
    "        f'Typ miejsca zakończenia ({i})',\n",
    "    ])\n",
    "\n",
    "columns"
   ]
  },
  {
   "cell_type": "code",
   "execution_count": 73,
   "metadata": {},
   "outputs": [],
   "source": [
    "x = df[columns]"
   ]
  },
  {
   "cell_type": "code",
   "execution_count": 74,
   "metadata": {},
   "outputs": [],
   "source": [
    "x.to_csv('typy_mijsc.csv')"
   ]
  },
  {
   "cell_type": "code",
   "execution_count": 66,
   "metadata": {},
   "outputs": [],
   "source": [
    "import numpy "
   ]
  },
  {
   "cell_type": "code",
   "execution_count": null,
   "metadata": {},
   "outputs": [],
   "source": []
  },
  {
   "cell_type": "code",
   "execution_count": 67,
   "metadata": {},
   "outputs": [
    {
     "ename": "TypeError",
     "evalue": "ufunc 'isnan' not supported for the input types, and the inputs could not be safely coerced to any supported types according to the casting rule ''safe''",
     "output_type": "error",
     "traceback": [
      "\u001b[1;31m---------------------------------------------------------------------------\u001b[0m",
      "\u001b[1;31mTypeError\u001b[0m                                 Traceback (most recent call last)",
      "\u001b[1;32m<ipython-input-67-f936860cf672>\u001b[0m in \u001b[0;36m<module>\u001b[1;34m\u001b[0m\n\u001b[1;32m----> 1\u001b[1;33m \u001b[0my\u001b[0m \u001b[1;33m=\u001b[0m \u001b[0mx\u001b[0m\u001b[1;33m[\u001b[0m\u001b[1;33m~\u001b[0m\u001b[0mnumpy\u001b[0m\u001b[1;33m.\u001b[0m\u001b[0misnan\u001b[0m\u001b[1;33m(\u001b[0m\u001b[0mx\u001b[0m\u001b[1;33m)\u001b[0m\u001b[1;33m]\u001b[0m\u001b[1;33m\u001b[0m\u001b[1;33m\u001b[0m\u001b[0m\n\u001b[0m",
      "\u001b[1;31mTypeError\u001b[0m: ufunc 'isnan' not supported for the input types, and the inputs could not be safely coerced to any supported types according to the casting rule ''safe''"
     ]
    }
   ],
   "source": [
    "y = x[~numpy.isnan(x)]"
   ]
  },
  {
   "cell_type": "code",
   "execution_count": null,
   "metadata": {},
   "outputs": [],
   "source": []
  }
 ],
 "metadata": {
  "kernelspec": {
   "display_name": "Python 3",
   "language": "python",
   "name": "python3"
  },
  "language_info": {
   "codemirror_mode": {
    "name": "ipython",
    "version": 3
   },
   "file_extension": ".py",
   "mimetype": "text/x-python",
   "name": "python",
   "nbconvert_exporter": "python",
   "pygments_lexer": "ipython3",
   "version": "3.7.1"
  },
  "pycharm": {
   "stem_cell": {
    "cell_type": "raw",
    "metadata": {
     "collapsed": false
    },
    "source": []
   }
  }
 },
 "nbformat": 4,
 "nbformat_minor": 1
}
