{
 "cells": [
  {
   "cell_type": "code",
   "execution_count": 1,
   "metadata": {
    "collapsed": true,
    "pycharm": {
     "is_executing": false
    }
   },
   "outputs": [
    {
     "name": "stderr",
     "text": [
      "c:\\users\\askib\\pycharmprojects\\mobility\\venv\\lib\\site-packages\\tqdm\\std.py:699: FutureWarning: The Panel class is removed from pandas. Accessing it from the top-level namespace will also be removed in the next version\n",
      "  from pandas import Panel\n"
     ],
     "output_type": "stream"
    }
   ],
   "source": [
    "import skmob\n",
    "import pandas as pd\n",
    "import plotly.express as px\n",
    "from tqdm import tqdm\n",
    "import geocoder\n",
    "import datetime\n",
    "\n",
    "tqdm.pandas()"
   ]
  },
  {
   "cell_type": "code",
   "execution_count": 10,
   "outputs": [],
   "source": [
    "path = \"../data/raw/KBR_Gadow_2019_bez_hasla.xlsx\""
   ],
   "metadata": {
    "collapsed": false,
    "pycharm": {
     "name": "#%%\n",
     "is_executing": false
    }
   }
  },
  {
   "cell_type": "code",
   "execution_count": 11,
   "outputs": [],
   "source": [
    "df = pd.read_excel(path, header=[0,1])"
   ],
   "metadata": {
    "collapsed": false,
    "pycharm": {
     "name": "#%%\n",
     "is_executing": false
    }
   }
  },
  {
   "cell_type": "code",
   "execution_count": 12,
   "outputs": [],
   "source": [
    "columns = list(df.columns)[199:]\n",
    "columns.append(list(df.columns)[0])\n",
    "# df = df[l]\n",
    "df = df[columns]"
   ],
   "metadata": {
    "collapsed": false,
    "pycharm": {
     "name": "#%%\n",
     "is_executing": false
    }
   }
  },
  {
   "cell_type": "code",
   "execution_count": 13,
   "outputs": [
    {
     "data": {
      "text/plain": "Index(['ID podróży (1)', 'Data rozpoczecia podróży (1)',\n       'Czas trwania podróży [s] (1)', 'Środek transportu (1)',\n       'Typ miejsca startu (1)', 'Typ miejsca zakończenia (1)',\n       'Miejsce startu (1)', 'Numer regionu miejsca startu (1)',\n       'Numer regionu miejsca zakończenia (1)', 'Miejsce zakończenia (1)',\n       ...\n       'Data rozpoczecia podróży (27)', 'Czas trwania podróży [s] (27)',\n       'Środek transportu (27)', 'Typ miejsca startu (27)',\n       'Typ miejsca zakończenia (27)', 'Miejsce startu (27)',\n       'Numer regionu miejsca startu (27)',\n       'Numer regionu miejsca zakończenia (27)', 'Miejsce zakończenia (27)',\n       'ID odpowiedzi'],\n      dtype='object', length=271)"
     },
     "metadata": {},
     "output_type": "execute_result",
     "execution_count": 13
    }
   ],
   "source": [
    "df.columns = df.columns.droplevel(1)\n",
    "df.rename(columns={df.columns[270]:'ID odpowiedzi'}, inplace=True)\n",
    "df.columns"
   ],
   "metadata": {
    "collapsed": false,
    "pycharm": {
     "name": "#%%\n",
     "is_executing": false
    }
   }
  },
  {
   "cell_type": "code",
   "execution_count": 14,
   "outputs": [
    {
     "name": "stderr",
     "text": [
      "100%|██████████| 27/27 [00:00<00:00, 28.17it/s]\n"
     ],
     "output_type": "stream"
    }
   ],
   "source": [
    "new_columns = [\n",
    "    'user_id',\n",
    "    'travel_id',\n",
    "    'start_date',\n",
    "    'duration_time',\n",
    "    'mean_of_transport',\n",
    "    'start_place_type',\n",
    "    'finish_place_type',\n",
    "    'start_place',\n",
    "    'start_region',\n",
    "    'residence_region',\n",
    "    'finish_place'\n",
    "]\n",
    "\n",
    "travels_df = pd.DataFrame(columns=new_columns)\n",
    "\n",
    "for i in tqdm(range(1, 28)):\n",
    "    columns = [\n",
    "        'ID odpowiedzi',\n",
    "        f'ID podróży ({i})',\n",
    "        f'Data rozpoczecia podróży ({i})',\n",
    "        f'Czas trwania podróży [s] ({i})',\n",
    "        f'Środek transportu ({i})',\n",
    "        f'Typ miejsca startu ({i})',\n",
    "        f'Typ miejsca zakończenia ({i})',\n",
    "        f'Miejsce startu ({i})',\n",
    "        f'Numer regionu miejsca startu ({i})',\n",
    "        f'Numer regionu miejsca zakończenia ({i})',\n",
    "        f'Miejsce zakończenia ({i})'\n",
    "    ]\n",
    "\n",
    "    sub_df = df[columns]\n",
    "    sub_df = sub_df.dropna()\n",
    "    sub_df.columns = new_columns\n",
    "\n",
    "    travels_df = travels_df.append(sub_df)"
   ],
   "metadata": {
    "collapsed": false,
    "pycharm": {
     "name": "#%%\n",
     "is_executing": false
    }
   }
  },
  {
   "cell_type": "code",
   "execution_count": 15,
   "outputs": [
    {
     "name": "stdout",
     "text": [
      "<class 'pandas.core.frame.DataFrame'>\n",
      "Int64Index: 1277 entries, 0 to 259\n",
      "Data columns (total 11 columns):\n",
      " #   Column             Non-Null Count  Dtype  \n",
      "---  ------             --------------  -----  \n",
      " 0   user_id            1277 non-null   object \n",
      " 1   travel_id          1277 non-null   object \n",
      " 2   start_date         1277 non-null   object \n",
      " 3   duration_time      1277 non-null   object \n",
      " 4   mean_of_transport  1277 non-null   object \n",
      " 5   start_place_type   1277 non-null   object \n",
      " 6   finish_place_type  1277 non-null   object \n",
      " 7   start_place        1277 non-null   object \n",
      " 8   start_region       1277 non-null   float64\n",
      " 9   residence_region   1277 non-null   float64\n",
      " 10  finish_place       1277 non-null   object \n",
      "dtypes: float64(2), object(9)\n",
      "memory usage: 119.7+ KB\n"
     ],
     "output_type": "stream"
    }
   ],
   "source": [
    "travels_df.info()"
   ],
   "metadata": {
    "collapsed": false,
    "pycharm": {
     "name": "#%%\n",
     "is_executing": false
    }
   }
  },
  {
   "cell_type": "code",
   "execution_count": 29,
   "outputs": [
    {
     "name": "stderr",
     "text": [
      "100%|██████████| 1277/1277 [25:01<00:00,  1.18s/it]\n"
     ],
     "output_type": "stream"
    },
    {
     "name": "stdout",
     "text": [
      "\n",
      "'NoneType' object is not subscriptable\n",
      "{'x': 16.9626873, 'y': 51.1283708, 'addr:housenumber': '19', 'addr:street': 'Jerzego Bajana', 'addr:city': 'Wrocław', 'addr:state': 'województwo dolnośląskie', 'addr:country': 'Polska', 'addr:postal': '54-129'}\n",
      "None\n",
      "\n",
      "'NoneType' object is not subscriptable\n",
      "{'x': 16.9639509, 'y': 51.1265349, 'addr:housenumber': '28', 'addr:street': 'Jerzego Bajana', 'addr:city': 'Wrocław', 'addr:state': 'województwo dolnośląskie', 'addr:country': 'Polska', 'addr:postal': '54-129'}\n",
      "None\n",
      "\n",
      "'NoneType' object is not subscriptable\n",
      "None\n",
      "{'x': 17.0811457, 'y': 51.1336137, 'addr:housenumber': '18-20', 'addr:street': 'Szpacza', 'addr:city': 'Wrocław', 'addr:state': 'województwo dolnośląskie', 'addr:country': 'Polska', 'addr:postal': '51-417'}\n",
      "\n",
      "'NoneType' object is not subscriptable\n",
      "None\n",
      "{'x': 17.01338, 'y': 51.1110657, 'addr:street': 'Braniborska', 'addr:city': 'Wrocław', 'addr:state': 'województwo dolnośląskie', 'addr:country': 'Polska', 'addr:postal': '53-680'}\n",
      "\n",
      "'NoneType' object is not subscriptable\n",
      "{'x': 17.0811457, 'y': 51.1336137, 'addr:housenumber': '18-20', 'addr:street': 'Szpacza', 'addr:city': 'Wrocław', 'addr:state': 'województwo dolnośląskie', 'addr:country': 'Polska', 'addr:postal': '51-417'}\n",
      "None\n",
      "\n",
      "'NoneType' object is not subscriptable\n",
      "None\n",
      "{'x': 16.9626873, 'y': 51.1283708, 'addr:housenumber': '19', 'addr:street': 'Jerzego Bajana', 'addr:city': 'Wrocław', 'addr:state': 'województwo dolnośląskie', 'addr:country': 'Polska', 'addr:postal': '54-129'}\n",
      "\n",
      "'NoneType' object is not subscriptable\n",
      "{'x': 17.0248113, 'y': 51.1107109, 'addr:street': 'Ruska', 'addr:city': 'Wrocław', 'addr:state': 'województwo dolnośląskie', 'addr:country': 'Polska', 'addr:postal': '50-131'}\n",
      "None\n"
     ],
     "output_type": "stream"
    }
   ],
   "source": [
    "tdf = pd.DataFrame(columns=['travel_id', 'lat', 'long', 'time', 'mean_of_transport'])\n",
    "\n",
    "for index, row in tqdm(travels_df.iterrows(), total=travels_df.shape[0]):\n",
    "    g_start = geocoder.osm(row['start_place'])\n",
    "    g_finish = geocoder.osm(row[\"finish_place\"])\n",
    "\n",
    "    try:\n",
    "        tdf = tdf.append({\n",
    "            'travel_id': row['travel_id'],\n",
    "            'lat': g_start.osm['x'],\n",
    "            'long': g_start.osm['y'],\n",
    "            'time': datetime.datetime.strptime(row[\"start_date\"], '%Y-%m-%d %H:%M:%S UTC'),\n",
    "            'mean_of_transport': row['mean_of_transport']\n",
    "        }, ignore_index=True)\n",
    "\n",
    "        tdf = tdf.append({\n",
    "            'travel_id': row['travel_id'],\n",
    "            'lat': g_finish.osm['x'],\n",
    "            'long': g_finish.osm['y'],\n",
    "            'time': datetime.datetime.strptime(row[\"start_date\"], '%Y-%m-%d %H:%M:%S UTC')\n",
    " + datetime.timedelta(0,int(row[\"duration_time\"])),\n",
    "            'mean_of_transport': row['mean_of_transport']\n",
    "        }, ignore_index=True)\n",
    "    except Exception as e:\n",
    "        print()\n",
    "        print(e)\n",
    "        print(g_start.osm)\n",
    "        print(g_finish.osm)"
   ],
   "metadata": {
    "collapsed": false,
    "pycharm": {
     "name": "#%%\n",
     "is_executing": false
    }
   }
  },
  {
   "cell_type": "code",
   "execution_count": 30,
   "outputs": [],
   "source": [
    "\n",
    "tdf.to_csv(\"../data/interim/flow_matrix_gadow.csv\")"
   ],
   "metadata": {
    "collapsed": false,
    "pycharm": {
     "name": "#%%\n",
     "is_executing": false
    }
   }
  },
  {
   "cell_type": "code",
   "execution_count": 4,
   "outputs": [],
   "source": [
    "df = pd.read_csv(\"../data/interim/flow_matrix_gadow.csv\")"
   ],
   "metadata": {
    "collapsed": false,
    "pycharm": {
     "name": "#%%\n",
     "is_executing": false
    }
   }
  },
  {
   "cell_type": "code",
   "execution_count": 17,
   "outputs": [
    {
     "data": {
      "text/plain": "home                    507\nintermediate            248\nwork                    219\nother                   148\nshop                     94\nschool_or_university     48\npark                      9\noffice                    4\nName: start_place_type, dtype: int64"
     },
     "metadata": {},
     "output_type": "execute_result",
     "execution_count": 17
    }
   ],
   "source": [
    "travels_df['start_place_type'].value_counts()"
   ],
   "metadata": {
    "collapsed": false,
    "pycharm": {
     "name": "#%%\n",
     "is_executing": false
    }
   }
  },
  {
   "cell_type": "code",
   "execution_count": 19,
   "outputs": [
    {
     "data": {
      "text/plain": "home                    316\nwork                    288\nintermediate            251\nother                   208\nshop                    122\nschool_or_university     63\npark                     21\noffice                    8\nName: finish_place_type, dtype: int64"
     },
     "metadata": {},
     "output_type": "execute_result",
     "execution_count": 19
    }
   ],
   "source": [
    "travels_df['finish_place_type'].value_counts()"
   ],
   "metadata": {
    "collapsed": false,
    "pycharm": {
     "name": "#%%\n",
     "is_executing": false
    }
   }
  },
  {
   "cell_type": "code",
   "execution_count": null,
   "outputs": [],
   "source": [
    "\n"
   ],
   "metadata": {
    "collapsed": false,
    "pycharm": {
     "name": "#%%\n"
    }
   }
  }
 ],
 "metadata": {
  "kernelspec": {
   "name": "python3",
   "language": "python",
   "display_name": "Python 3"
  },
  "language_info": {
   "codemirror_mode": {
    "name": "ipython",
    "version": 2
   },
   "file_extension": ".py",
   "mimetype": "text/x-python",
   "name": "python",
   "nbconvert_exporter": "python",
   "pygments_lexer": "ipython2",
   "version": "2.7.6"
  },
  "pycharm": {
   "stem_cell": {
    "cell_type": "raw",
    "source": [],
    "metadata": {
     "collapsed": false
    }
   }
  }
 },
 "nbformat": 4,
 "nbformat_minor": 0
}