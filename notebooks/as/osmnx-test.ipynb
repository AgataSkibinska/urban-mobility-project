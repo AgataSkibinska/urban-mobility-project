{
 "cells": [
  {
   "cell_type": "code",
   "execution_count": 1,
   "metadata": {
    "collapsed": true,
    "pycharm": {
     "is_executing": false
    }
   },
   "outputs": [],
   "source": [
    "import osmnx as ox\n",
    "import geopandas as gpd\n",
    "import pandas as pd\n",
    "from shapely.geometry import Point"
   ]
  },
  {
   "cell_type": "code",
   "execution_count": 4,
   "metadata": {
    "pycharm": {
     "is_executing": false,
     "name": "#%%\n"
    }
   },
   "outputs": [
    {
     "name": "stderr",
     "output_type": "stream",
     "text": [
      "c:\\users\\askib\\pycharmprojects\\mobility\\venv\\lib\\site-packages\\geopandas\\geodataframe.py:422: RuntimeWarning: Sequential read of iterator was interrupted. Resetting iterator. This can negatively impact the performance.\n",
      "  for feature in features_lst:\n"
     ]
    },
    {
     "data": {
      "text/html": [
       "<div>\n",
       "<style scoped>\n",
       "    .dataframe tbody tr th:only-of-type {\n",
       "        vertical-align: middle;\n",
       "    }\n",
       "\n",
       "    .dataframe tbody tr th {\n",
       "        vertical-align: top;\n",
       "    }\n",
       "\n",
       "    .dataframe thead th {\n",
       "        text-align: right;\n",
       "    }\n",
       "</style>\n",
       "<table border=\"1\" class=\"dataframe\">\n",
       "  <thead>\n",
       "    <tr style=\"text-align: right;\">\n",
       "      <th></th>\n",
       "      <th>unique_id</th>\n",
       "      <th>osmid</th>\n",
       "      <th>element_type</th>\n",
       "      <th>amenity</th>\n",
       "      <th>wheelchair</th>\n",
       "      <th>name</th>\n",
       "      <th>shop</th>\n",
       "      <th>WroclawGIS:addr:date</th>\n",
       "      <th>WroclawGIS:addr:id</th>\n",
       "      <th>WroclawGIS:addr:layer</th>\n",
       "      <th>...</th>\n",
       "      <th>note</th>\n",
       "      <th>addr:city:simc</th>\n",
       "      <th>opening_hours</th>\n",
       "      <th>building:levels:underground</th>\n",
       "      <th>railway</th>\n",
       "      <th>shelter_type</th>\n",
       "      <th>roof:levels</th>\n",
       "      <th>ways</th>\n",
       "      <th>type</th>\n",
       "      <th>geometry</th>\n",
       "    </tr>\n",
       "  </thead>\n",
       "  <tbody>\n",
       "    <tr>\n",
       "      <th>0</th>\n",
       "      <td>way/101347074</td>\n",
       "      <td>101347074</td>\n",
       "      <td>way</td>\n",
       "      <td>None</td>\n",
       "      <td>None</td>\n",
       "      <td>None</td>\n",
       "      <td>None</td>\n",
       "      <td>None</td>\n",
       "      <td>None</td>\n",
       "      <td>None</td>\n",
       "      <td>...</td>\n",
       "      <td>None</td>\n",
       "      <td>None</td>\n",
       "      <td>None</td>\n",
       "      <td>None</td>\n",
       "      <td>None</td>\n",
       "      <td>None</td>\n",
       "      <td>None</td>\n",
       "      <td>None</td>\n",
       "      <td>None</td>\n",
       "      <td>POLYGON ((16.97296 51.12343, 16.97289 51.12333...</td>\n",
       "    </tr>\n",
       "    <tr>\n",
       "      <th>1</th>\n",
       "      <td>way/101347111</td>\n",
       "      <td>101347111</td>\n",
       "      <td>way</td>\n",
       "      <td>None</td>\n",
       "      <td>None</td>\n",
       "      <td>None</td>\n",
       "      <td>None</td>\n",
       "      <td>None</td>\n",
       "      <td>None</td>\n",
       "      <td>None</td>\n",
       "      <td>...</td>\n",
       "      <td>None</td>\n",
       "      <td>None</td>\n",
       "      <td>None</td>\n",
       "      <td>None</td>\n",
       "      <td>None</td>\n",
       "      <td>None</td>\n",
       "      <td>None</td>\n",
       "      <td>None</td>\n",
       "      <td>None</td>\n",
       "      <td>POLYGON ((16.96973 51.12684, 16.96970 51.12680...</td>\n",
       "    </tr>\n",
       "    <tr>\n",
       "      <th>2</th>\n",
       "      <td>way/101347120</td>\n",
       "      <td>101347120</td>\n",
       "      <td>way</td>\n",
       "      <td>None</td>\n",
       "      <td>None</td>\n",
       "      <td>None</td>\n",
       "      <td>None</td>\n",
       "      <td>None</td>\n",
       "      <td>None</td>\n",
       "      <td>None</td>\n",
       "      <td>...</td>\n",
       "      <td>None</td>\n",
       "      <td>None</td>\n",
       "      <td>None</td>\n",
       "      <td>None</td>\n",
       "      <td>None</td>\n",
       "      <td>None</td>\n",
       "      <td>None</td>\n",
       "      <td>None</td>\n",
       "      <td>None</td>\n",
       "      <td>POLYGON ((16.96193 51.12768, 16.96194 51.12768...</td>\n",
       "    </tr>\n",
       "    <tr>\n",
       "      <th>3</th>\n",
       "      <td>way/101347209</td>\n",
       "      <td>101347209</td>\n",
       "      <td>way</td>\n",
       "      <td>None</td>\n",
       "      <td>None</td>\n",
       "      <td>None</td>\n",
       "      <td>None</td>\n",
       "      <td>None</td>\n",
       "      <td>None</td>\n",
       "      <td>None</td>\n",
       "      <td>...</td>\n",
       "      <td>None</td>\n",
       "      <td>None</td>\n",
       "      <td>None</td>\n",
       "      <td>None</td>\n",
       "      <td>None</td>\n",
       "      <td>None</td>\n",
       "      <td>None</td>\n",
       "      <td>None</td>\n",
       "      <td>None</td>\n",
       "      <td>POLYGON ((16.97286 51.12435, 16.97283 51.12430...</td>\n",
       "    </tr>\n",
       "    <tr>\n",
       "      <th>4</th>\n",
       "      <td>way/101347223</td>\n",
       "      <td>101347223</td>\n",
       "      <td>way</td>\n",
       "      <td>None</td>\n",
       "      <td>None</td>\n",
       "      <td>None</td>\n",
       "      <td>None</td>\n",
       "      <td>None</td>\n",
       "      <td>None</td>\n",
       "      <td>None</td>\n",
       "      <td>...</td>\n",
       "      <td>None</td>\n",
       "      <td>None</td>\n",
       "      <td>None</td>\n",
       "      <td>None</td>\n",
       "      <td>None</td>\n",
       "      <td>None</td>\n",
       "      <td>None</td>\n",
       "      <td>None</td>\n",
       "      <td>None</td>\n",
       "      <td>POLYGON ((16.97230 51.12553, 16.97229 51.12552...</td>\n",
       "    </tr>\n",
       "  </tbody>\n",
       "</table>\n",
       "<p>5 rows × 55 columns</p>\n",
       "</div>"
      ],
      "text/plain": [
       "       unique_id      osmid element_type amenity wheelchair  name  shop  \\\n",
       "0  way/101347074  101347074          way    None       None  None  None   \n",
       "1  way/101347111  101347111          way    None       None  None  None   \n",
       "2  way/101347120  101347120          way    None       None  None  None   \n",
       "3  way/101347209  101347209          way    None       None  None  None   \n",
       "4  way/101347223  101347223          way    None       None  None  None   \n",
       "\n",
       "  WroclawGIS:addr:date WroclawGIS:addr:id WroclawGIS:addr:layer  ...  note  \\\n",
       "0                 None               None                  None  ...  None   \n",
       "1                 None               None                  None  ...  None   \n",
       "2                 None               None                  None  ...  None   \n",
       "3                 None               None                  None  ...  None   \n",
       "4                 None               None                  None  ...  None   \n",
       "\n",
       "  addr:city:simc opening_hours building:levels:underground railway  \\\n",
       "0           None          None                        None    None   \n",
       "1           None          None                        None    None   \n",
       "2           None          None                        None    None   \n",
       "3           None          None                        None    None   \n",
       "4           None          None                        None    None   \n",
       "\n",
       "  shelter_type roof:levels  ways  type  \\\n",
       "0         None        None  None  None   \n",
       "1         None        None  None  None   \n",
       "2         None        None  None  None   \n",
       "3         None        None  None  None   \n",
       "4         None        None  None  None   \n",
       "\n",
       "                                            geometry  \n",
       "0  POLYGON ((16.97296 51.12343, 16.97289 51.12333...  \n",
       "1  POLYGON ((16.96973 51.12684, 16.96970 51.12680...  \n",
       "2  POLYGON ((16.96193 51.12768, 16.96194 51.12768...  \n",
       "3  POLYGON ((16.97286 51.12435, 16.97283 51.12430...  \n",
       "4  POLYGON ((16.97230 51.12553, 16.97229 51.12552...  \n",
       "\n",
       "[5 rows x 55 columns]"
      ]
     },
     "execution_count": 4,
     "metadata": {},
     "output_type": "execute_result"
    }
   ],
   "source": [
    "gadow_footprints = gpd.read_file(\"../../data/raw/gadow-builings.gpkg\", )\n",
    "gadow_footprints.head()"
   ]
  },
  {
   "cell_type": "code",
   "execution_count": 5,
   "metadata": {
    "pycharm": {
     "is_executing": false,
     "name": "#%%\n"
    }
   },
   "outputs": [
    {
     "data": {
      "text/html": [
       "<div>\n",
       "<style scoped>\n",
       "    .dataframe tbody tr th:only-of-type {\n",
       "        vertical-align: middle;\n",
       "    }\n",
       "\n",
       "    .dataframe tbody tr th {\n",
       "        vertical-align: top;\n",
       "    }\n",
       "\n",
       "    .dataframe thead th {\n",
       "        text-align: right;\n",
       "    }\n",
       "</style>\n",
       "<table border=\"1\" class=\"dataframe\">\n",
       "  <thead>\n",
       "    <tr style=\"text-align: right;\">\n",
       "      <th></th>\n",
       "      <th>OBJECTID</th>\n",
       "      <th>WYS_MAX</th>\n",
       "      <th>geometry</th>\n",
       "    </tr>\n",
       "  </thead>\n",
       "  <tbody>\n",
       "    <tr>\n",
       "      <th>0</th>\n",
       "      <td>1</td>\n",
       "      <td>3.55</td>\n",
       "      <td>POINT (16.83561 51.12278)</td>\n",
       "    </tr>\n",
       "    <tr>\n",
       "      <th>1</th>\n",
       "      <td>6</td>\n",
       "      <td>4.22</td>\n",
       "      <td>POINT (16.91522 51.12274)</td>\n",
       "    </tr>\n",
       "    <tr>\n",
       "      <th>2</th>\n",
       "      <td>8</td>\n",
       "      <td>2.23</td>\n",
       "      <td>POINT (16.91768 51.12317)</td>\n",
       "    </tr>\n",
       "    <tr>\n",
       "      <th>3</th>\n",
       "      <td>9</td>\n",
       "      <td>2.66</td>\n",
       "      <td>POINT (16.91869 51.12420)</td>\n",
       "    </tr>\n",
       "    <tr>\n",
       "      <th>4</th>\n",
       "      <td>11</td>\n",
       "      <td>2.82</td>\n",
       "      <td>POINT (16.92201 51.12198)</td>\n",
       "    </tr>\n",
       "  </tbody>\n",
       "</table>\n",
       "</div>"
      ],
      "text/plain": [
       "   OBJECTID  WYS_MAX                   geometry\n",
       "0         1     3.55  POINT (16.83561 51.12278)\n",
       "1         6     4.22  POINT (16.91522 51.12274)\n",
       "2         8     2.23  POINT (16.91768 51.12317)\n",
       "3         9     2.66  POINT (16.91869 51.12420)\n",
       "4        11     2.82  POINT (16.92201 51.12198)"
      ]
     },
     "execution_count": 5,
     "metadata": {},
     "output_type": "execute_result"
    }
   ],
   "source": [
    "wr_heights = gpd.read_file(\"../../data/raw/centroidy/budynki_.shp\")\n",
    "wr_heights = wr_heights.to_crs(epsg=4326)\n",
    "wr_heights.head()"
   ]
  },
  {
   "cell_type": "code",
   "execution_count": 6,
   "metadata": {
    "pycharm": {
     "is_executing": false,
     "name": "#%%\n"
    }
   },
   "outputs": [],
   "source": [
    "gadow_gdf = ox.geocode_to_gdf('Gądów Mały, Wrocław')\n",
    "place_proj = ox.project_gdf(gadow_gdf, to_crs='epsg:4326')\n",
    "gadow_polygon = place_proj.geometry.iloc[0]"
   ]
  },
  {
   "cell_type": "code",
   "execution_count": 7,
   "metadata": {
    "pycharm": {
     "is_executing": false,
     "name": "#%%\n"
    }
   },
   "outputs": [],
   "source": [
    "def filter_point_gdf_by_polygon(heights, polygon):\n",
    "    gadow_heights=[]\n",
    "    for i, point in heights.iterrows():\n",
    "        if point['geometry'].within(polygon):\n",
    "            gadow_heights.append(point)\n",
    "    return gpd.GeoDataFrame(gadow_heights)\n",
    "    "
   ]
  },
  {
   "cell_type": "code",
   "execution_count": 8,
   "metadata": {
    "pycharm": {
     "is_executing": false,
     "name": "#%%\n"
    }
   },
   "outputs": [],
   "source": [
    "gadow_heights = filter_point_gdf_by_polygon(wr_heights, gadow_polygon)"
   ]
  },
  {
   "cell_type": "code",
   "execution_count": 9,
   "metadata": {
    "pycharm": {
     "is_executing": false,
     "name": "#%%\n"
    }
   },
   "outputs": [
    {
     "data": {
      "text/html": [
       "<div>\n",
       "<style scoped>\n",
       "    .dataframe tbody tr th:only-of-type {\n",
       "        vertical-align: middle;\n",
       "    }\n",
       "\n",
       "    .dataframe tbody tr th {\n",
       "        vertical-align: top;\n",
       "    }\n",
       "\n",
       "    .dataframe thead th {\n",
       "        text-align: right;\n",
       "    }\n",
       "</style>\n",
       "<table border=\"1\" class=\"dataframe\">\n",
       "  <thead>\n",
       "    <tr style=\"text-align: right;\">\n",
       "      <th></th>\n",
       "      <th>OBJECTID</th>\n",
       "      <th>WYS_MAX</th>\n",
       "      <th>geometry</th>\n",
       "    </tr>\n",
       "  </thead>\n",
       "  <tbody>\n",
       "    <tr>\n",
       "      <th>77</th>\n",
       "      <td>116</td>\n",
       "      <td>5.61</td>\n",
       "      <td>POINT (16.96789 51.12300)</td>\n",
       "    </tr>\n",
       "    <tr>\n",
       "      <th>78</th>\n",
       "      <td>117</td>\n",
       "      <td>3.64</td>\n",
       "      <td>POINT (16.96513 51.12183)</td>\n",
       "    </tr>\n",
       "    <tr>\n",
       "      <th>79</th>\n",
       "      <td>118</td>\n",
       "      <td>3.09</td>\n",
       "      <td>POINT (16.96720 51.12226)</td>\n",
       "    </tr>\n",
       "    <tr>\n",
       "      <th>80</th>\n",
       "      <td>120</td>\n",
       "      <td>2.51</td>\n",
       "      <td>POINT (16.96938 51.12091)</td>\n",
       "    </tr>\n",
       "    <tr>\n",
       "      <th>81</th>\n",
       "      <td>121</td>\n",
       "      <td>2.57</td>\n",
       "      <td>POINT (16.97644 51.12316)</td>\n",
       "    </tr>\n",
       "    <tr>\n",
       "      <th>...</th>\n",
       "      <td>...</td>\n",
       "      <td>...</td>\n",
       "      <td>...</td>\n",
       "    </tr>\n",
       "    <tr>\n",
       "      <th>124531</th>\n",
       "      <td>136139</td>\n",
       "      <td>32.77</td>\n",
       "      <td>POINT (16.95990 51.12494)</td>\n",
       "    </tr>\n",
       "    <tr>\n",
       "      <th>124687</th>\n",
       "      <td>136298</td>\n",
       "      <td>29.75</td>\n",
       "      <td>POINT (16.96222 51.12510)</td>\n",
       "    </tr>\n",
       "    <tr>\n",
       "      <th>124688</th>\n",
       "      <td>136299</td>\n",
       "      <td>21.73</td>\n",
       "      <td>POINT (16.96169 51.12501)</td>\n",
       "    </tr>\n",
       "    <tr>\n",
       "      <th>124689</th>\n",
       "      <td>136300</td>\n",
       "      <td>21.19</td>\n",
       "      <td>POINT (16.96188 51.12511)</td>\n",
       "    </tr>\n",
       "    <tr>\n",
       "      <th>125030</th>\n",
       "      <td>136648</td>\n",
       "      <td>14.21</td>\n",
       "      <td>POINT (16.95386 51.12710)</td>\n",
       "    </tr>\n",
       "  </tbody>\n",
       "</table>\n",
       "<p>1256 rows × 3 columns</p>\n",
       "</div>"
      ],
      "text/plain": [
       "        OBJECTID  WYS_MAX                   geometry\n",
       "77           116     5.61  POINT (16.96789 51.12300)\n",
       "78           117     3.64  POINT (16.96513 51.12183)\n",
       "79           118     3.09  POINT (16.96720 51.12226)\n",
       "80           120     2.51  POINT (16.96938 51.12091)\n",
       "81           121     2.57  POINT (16.97644 51.12316)\n",
       "...          ...      ...                        ...\n",
       "124531    136139    32.77  POINT (16.95990 51.12494)\n",
       "124687    136298    29.75  POINT (16.96222 51.12510)\n",
       "124688    136299    21.73  POINT (16.96169 51.12501)\n",
       "124689    136300    21.19  POINT (16.96188 51.12511)\n",
       "125030    136648    14.21  POINT (16.95386 51.12710)\n",
       "\n",
       "[1256 rows x 3 columns]"
      ]
     },
     "execution_count": 9,
     "metadata": {},
     "output_type": "execute_result"
    }
   ],
   "source": [
    "gadow_heights"
   ]
  },
  {
   "cell_type": "code",
   "execution_count": 12,
   "metadata": {
    "pycharm": {
     "is_executing": false,
     "name": "#%%\n"
    }
   },
   "outputs": [],
   "source": [
    "flow_matrix = pd.read_csv('../../data/processed/flow_matrix_gadow.csv')\n",
    "flow_matrix[\"geometry\"] = [Point(xy) for xy in zip(flow_matrix['lat'], flow_matrix['long'] )]"
   ]
  },
  {
   "cell_type": "code",
   "execution_count": 13,
   "metadata": {
    "pycharm": {
     "is_executing": false,
     "name": "#%%\n"
    }
   },
   "outputs": [],
   "source": [
    "gadow_flow_matrix = filter_point_gdf_by_polygon(flow_matrix, gadow_polygon)"
   ]
  },
  {
   "cell_type": "code",
   "execution_count": 14,
   "metadata": {
    "pycharm": {
     "is_executing": false,
     "name": "#%%\n"
    }
   },
   "outputs": [
    {
     "data": {
      "text/html": [
       "<div>\n",
       "<style scoped>\n",
       "    .dataframe tbody tr th:only-of-type {\n",
       "        vertical-align: middle;\n",
       "    }\n",
       "\n",
       "    .dataframe tbody tr th {\n",
       "        vertical-align: top;\n",
       "    }\n",
       "\n",
       "    .dataframe thead th {\n",
       "        text-align: right;\n",
       "    }\n",
       "</style>\n",
       "<table border=\"1\" class=\"dataframe\">\n",
       "  <thead>\n",
       "    <tr style=\"text-align: right;\">\n",
       "      <th></th>\n",
       "      <th>Unnamed: 0</th>\n",
       "      <th>travel_id</th>\n",
       "      <th>lat</th>\n",
       "      <th>long</th>\n",
       "      <th>time</th>\n",
       "      <th>mean_of_transport</th>\n",
       "      <th>geometry</th>\n",
       "    </tr>\n",
       "  </thead>\n",
       "  <tbody>\n",
       "    <tr>\n",
       "      <th>0</th>\n",
       "      <td>0</td>\n",
       "      <td>798a9138-afb4-4599-a4a4-b953673a6586</td>\n",
       "      <td>16.963825</td>\n",
       "      <td>51.126405</td>\n",
       "      <td>2019-10-27 07:40:00</td>\n",
       "      <td>Pieszo</td>\n",
       "      <td>POINT (16.96383 51.12640)</td>\n",
       "    </tr>\n",
       "    <tr>\n",
       "      <th>1</th>\n",
       "      <td>1</td>\n",
       "      <td>798a9138-afb4-4599-a4a4-b953673a6586</td>\n",
       "      <td>16.960701</td>\n",
       "      <td>51.127634</td>\n",
       "      <td>2019-10-27 07:48:00</td>\n",
       "      <td>Pieszo</td>\n",
       "      <td>POINT (16.96070 51.12763)</td>\n",
       "    </tr>\n",
       "    <tr>\n",
       "      <th>2</th>\n",
       "      <td>2</td>\n",
       "      <td>5e3a9ce9-2285-41d5-a395-a483adbc45f6</td>\n",
       "      <td>16.957725</td>\n",
       "      <td>51.126554</td>\n",
       "      <td>2019-10-08 05:00:00</td>\n",
       "      <td>Samochód osobowy jako kierowca</td>\n",
       "      <td>POINT (16.95773 51.12655)</td>\n",
       "    </tr>\n",
       "    <tr>\n",
       "      <th>4</th>\n",
       "      <td>4</td>\n",
       "      <td>9cd2247e-4c96-4d73-b81c-7ee752b099ae</td>\n",
       "      <td>16.969748</td>\n",
       "      <td>51.126558</td>\n",
       "      <td>2019-10-27 18:30:00</td>\n",
       "      <td>Samochód osobowy jako kierowca</td>\n",
       "      <td>POINT (16.96975 51.12656)</td>\n",
       "    </tr>\n",
       "    <tr>\n",
       "      <th>8</th>\n",
       "      <td>8</td>\n",
       "      <td>bf7ad7dd-c470-41da-88d4-fc6d9543d592</td>\n",
       "      <td>16.960303</td>\n",
       "      <td>51.123743</td>\n",
       "      <td>2019-11-05 07:30:59</td>\n",
       "      <td>Komunikacja autobusowa</td>\n",
       "      <td>POINT (16.96030 51.12374)</td>\n",
       "    </tr>\n",
       "    <tr>\n",
       "      <th>...</th>\n",
       "      <td>...</td>\n",
       "      <td>...</td>\n",
       "      <td>...</td>\n",
       "      <td>...</td>\n",
       "      <td>...</td>\n",
       "      <td>...</td>\n",
       "      <td>...</td>\n",
       "    </tr>\n",
       "    <tr>\n",
       "      <th>2526</th>\n",
       "      <td>2526</td>\n",
       "      <td>ee05656f-0cbf-48b2-bab4-01dbd9c29e0d</td>\n",
       "      <td>16.962703</td>\n",
       "      <td>51.127734</td>\n",
       "      <td>2019-11-15 17:00:00</td>\n",
       "      <td>Pieszo</td>\n",
       "      <td>POINT (16.96270 51.12773)</td>\n",
       "    </tr>\n",
       "    <tr>\n",
       "      <th>2527</th>\n",
       "      <td>2527</td>\n",
       "      <td>ee05656f-0cbf-48b2-bab4-01dbd9c29e0d</td>\n",
       "      <td>16.961556</td>\n",
       "      <td>51.122530</td>\n",
       "      <td>2019-11-15 17:08:00</td>\n",
       "      <td>Pieszo</td>\n",
       "      <td>POINT (16.96156 51.12253)</td>\n",
       "    </tr>\n",
       "    <tr>\n",
       "      <th>2528</th>\n",
       "      <td>2528</td>\n",
       "      <td>027104a6-3a2a-448b-9f11-0eed85be3041</td>\n",
       "      <td>16.961556</td>\n",
       "      <td>51.122530</td>\n",
       "      <td>2019-11-15 17:57:00</td>\n",
       "      <td>Komunikacja autobusowa</td>\n",
       "      <td>POINT (16.96156 51.12253)</td>\n",
       "    </tr>\n",
       "    <tr>\n",
       "      <th>2531</th>\n",
       "      <td>2531</td>\n",
       "      <td>76a23f02-b739-4f14-875d-e9c99eea3a94</td>\n",
       "      <td>16.959260</td>\n",
       "      <td>51.126316</td>\n",
       "      <td>2019-11-08 00:15:00</td>\n",
       "      <td>Komunikacja autobusowa</td>\n",
       "      <td>POINT (16.95926 51.12632)</td>\n",
       "    </tr>\n",
       "    <tr>\n",
       "      <th>2543</th>\n",
       "      <td>2543</td>\n",
       "      <td>21ac528a-30ea-4612-881e-ef74e0653fea</td>\n",
       "      <td>16.961556</td>\n",
       "      <td>51.122530</td>\n",
       "      <td>2019-11-15 21:40:00</td>\n",
       "      <td>Pieszo</td>\n",
       "      <td>POINT (16.96156 51.12253)</td>\n",
       "    </tr>\n",
       "  </tbody>\n",
       "</table>\n",
       "<p>941 rows × 7 columns</p>\n",
       "</div>"
      ],
      "text/plain": [
       "      Unnamed: 0                             travel_id        lat       long  \\\n",
       "0              0  798a9138-afb4-4599-a4a4-b953673a6586  16.963825  51.126405   \n",
       "1              1  798a9138-afb4-4599-a4a4-b953673a6586  16.960701  51.127634   \n",
       "2              2  5e3a9ce9-2285-41d5-a395-a483adbc45f6  16.957725  51.126554   \n",
       "4              4  9cd2247e-4c96-4d73-b81c-7ee752b099ae  16.969748  51.126558   \n",
       "8              8  bf7ad7dd-c470-41da-88d4-fc6d9543d592  16.960303  51.123743   \n",
       "...          ...                                   ...        ...        ...   \n",
       "2526        2526  ee05656f-0cbf-48b2-bab4-01dbd9c29e0d  16.962703  51.127734   \n",
       "2527        2527  ee05656f-0cbf-48b2-bab4-01dbd9c29e0d  16.961556  51.122530   \n",
       "2528        2528  027104a6-3a2a-448b-9f11-0eed85be3041  16.961556  51.122530   \n",
       "2531        2531  76a23f02-b739-4f14-875d-e9c99eea3a94  16.959260  51.126316   \n",
       "2543        2543  21ac528a-30ea-4612-881e-ef74e0653fea  16.961556  51.122530   \n",
       "\n",
       "                     time               mean_of_transport  \\\n",
       "0     2019-10-27 07:40:00                          Pieszo   \n",
       "1     2019-10-27 07:48:00                          Pieszo   \n",
       "2     2019-10-08 05:00:00  Samochód osobowy jako kierowca   \n",
       "4     2019-10-27 18:30:00  Samochód osobowy jako kierowca   \n",
       "8     2019-11-05 07:30:59          Komunikacja autobusowa   \n",
       "...                   ...                             ...   \n",
       "2526  2019-11-15 17:00:00                          Pieszo   \n",
       "2527  2019-11-15 17:08:00                          Pieszo   \n",
       "2528  2019-11-15 17:57:00          Komunikacja autobusowa   \n",
       "2531  2019-11-08 00:15:00          Komunikacja autobusowa   \n",
       "2543  2019-11-15 21:40:00                          Pieszo   \n",
       "\n",
       "                       geometry  \n",
       "0     POINT (16.96383 51.12640)  \n",
       "1     POINT (16.96070 51.12763)  \n",
       "2     POINT (16.95773 51.12655)  \n",
       "4     POINT (16.96975 51.12656)  \n",
       "8     POINT (16.96030 51.12374)  \n",
       "...                         ...  \n",
       "2526  POINT (16.96270 51.12773)  \n",
       "2527  POINT (16.96156 51.12253)  \n",
       "2528  POINT (16.96156 51.12253)  \n",
       "2531  POINT (16.95926 51.12632)  \n",
       "2543  POINT (16.96156 51.12253)  \n",
       "\n",
       "[941 rows x 7 columns]"
      ]
     },
     "execution_count": 14,
     "metadata": {},
     "output_type": "execute_result"
    }
   ],
   "source": [
    "gadow_flow_matrix"
   ]
  },
  {
   "cell_type": "code",
   "execution_count": 15,
   "metadata": {
    "pycharm": {
     "is_executing": false,
     "name": "#%%\n"
    }
   },
   "outputs": [],
   "source": [
    "def map_heights_to_footprint(heights, footprints):\n",
    "        \n",
    "    for i_h, height in heights.iterrows():\n",
    "        for i_f, footprint in footprints.iterrows():\n",
    "            point = height['geometry']\n",
    "            if point.within(footprint['geometry']):\n",
    "                footprints.at[i_f, 'height_sum'] = footprints.at[i_f,'height_sum'] + height['WYS_MAX']\n",
    "                footprints.at[i_f ,'points_count'] = footprints.at[i_f, 'points_count'] + 1\n",
    "    return footprints\n",
    "    "
   ]
  },
  {
   "cell_type": "code",
   "execution_count": 16,
   "metadata": {
    "pycharm": {
     "is_executing": false,
     "name": "#%%\n"
    }
   },
   "outputs": [],
   "source": [
    "gadow_footprints['height_sum'] = 0\n",
    "gadow_footprints['points_count'] = 0\n",
    "\n",
    "gadow_footprints_mapped = map_heights_to_footprint(gadow_heights, gadow_footprints)"
   ]
  },
  {
   "cell_type": "code",
   "execution_count": 17,
   "metadata": {
    "pycharm": {
     "is_executing": false,
     "name": "#%%\n"
    }
   },
   "outputs": [
    {
     "data": {
      "text/plain": [
       "1     544\n",
       "0     138\n",
       "2      67\n",
       "3      31\n",
       "4       8\n",
       "5       5\n",
       "8       4\n",
       "7       3\n",
       "6       2\n",
       "10      2\n",
       "11      2\n",
       "12      2\n",
       "14      2\n",
       "9       1\n",
       "24      1\n",
       "16      1\n",
       "42      1\n",
       "Name: points_count, dtype: int64"
      ]
     },
     "execution_count": 17,
     "metadata": {},
     "output_type": "execute_result"
    }
   ],
   "source": [
    "gadow_footprints_mapped['points_count'].value_counts()"
   ]
  },
  {
   "cell_type": "code",
   "execution_count": 18,
   "metadata": {
    "pycharm": {
     "is_executing": false,
     "name": "#%%\n"
    }
   },
   "outputs": [],
   "source": [
    "gadow_footprints_mapped = gadow_footprints_mapped.loc[gadow_footprints_mapped['points_count'] != 0]"
   ]
  },
  {
   "cell_type": "code",
   "execution_count": 19,
   "metadata": {
    "pycharm": {
     "is_executing": false,
     "name": "#%%\n"
    }
   },
   "outputs": [
    {
     "name": "stderr",
     "output_type": "stream",
     "text": [
      "c:\\users\\askib\\pycharmprojects\\mobility\\venv\\lib\\site-packages\\geopandas\\geodataframe.py:853: SettingWithCopyWarning: \n",
      "A value is trying to be set on a copy of a slice from a DataFrame.\n",
      "Try using .loc[row_indexer,col_indexer] = value instead\n",
      "\n",
      "See the caveats in the documentation: https://pandas.pydata.org/pandas-docs/stable/user_guide/indexing.html#returning-a-view-versus-a-copy\n",
      "  super(GeoDataFrame, self).__setitem__(key, value)\n"
     ]
    }
   ],
   "source": [
    "gadow_footprints_mapped['avg_height'] = gadow_footprints_mapped['height_sum'] / gadow_footprints_mapped['points_count']"
   ]
  },
  {
   "cell_type": "code",
   "execution_count": 51,
   "metadata": {
    "pycharm": {
     "is_executing": false,
     "name": "#%%\n"
    }
   },
   "outputs": [
    {
     "data": {
      "text/plain": [
       "Text(0.5, 0.98, 'Builiding height histogram')"
      ]
     },
     "execution_count": 51,
     "metadata": {},
     "output_type": "execute_result"
    },
    {
     "data": {
      "image/png": "[encoded data removed]",
      "text/plain": [
       "<Figure size 432x288 with 1 Axes>"
      ]
     },
     "metadata": {
      "needs_background": "light"
     },
     "output_type": "display_data"
    }
   ],
   "source": [
    "gadow_footprints_mapped['avg_height'].hist()\n",
    "plt.suptitle(\"Builiding height histogram\")"
   ]
  },
  {
   "cell_type": "code",
   "execution_count": 23,
   "metadata": {
    "pycharm": {
     "is_executing": false,
     "name": "#%%\n"
    }
   },
   "outputs": [
    {
     "name": "stderr",
     "output_type": "stream",
     "text": [
      "c:\\users\\askib\\pycharmprojects\\mobility\\venv\\lib\\site-packages\\geopandas\\geodataframe.py:853: SettingWithCopyWarning: \n",
      "A value is trying to be set on a copy of a slice from a DataFrame.\n",
      "Try using .loc[row_indexer,col_indexer] = value instead\n",
      "\n",
      "See the caveats in the documentation: https://pandas.pydata.org/pandas-docs/stable/user_guide/indexing.html#returning-a-view-versus-a-copy\n",
      "  super(GeoDataFrame, self).__setitem__(key, value)\n"
     ]
    }
   ],
   "source": [
    "gadow_footprints_mapped['area'] = gadow_footprints_mapped.area"
   ]
  },
  {
   "cell_type": "code",
   "execution_count": 52,
   "metadata": {
    "pycharm": {
     "is_executing": false,
     "name": "#%%\n"
    }
   },
   "outputs": [
    {
     "data": {
      "text/plain": [
       "Text(0.5, 0.98, 'Area histogram')"
      ]
     },
     "execution_count": 52,
     "metadata": {},
     "output_type": "execute_result"
    },
    {
     "data": {
      "image/png": "[encoded data removed]",
      "text/plain": [
       "<Figure size 432x288 with 1 Axes>"
      ]
     },
     "metadata": {
      "needs_background": "light"
     },
     "output_type": "display_data"
    }
   ],
   "source": [
    "(gadow_footprints_mapped['area'] * 1_000_000_000 ).hist()\n",
    "plt.suptitle(\"Area histogram\")"
   ]
  },
  {
   "cell_type": "code",
   "execution_count": 25,
   "metadata": {
    "pycharm": {
     "is_executing": false,
     "name": "#%%\n"
    }
   },
   "outputs": [
    {
     "data": {
      "image/png": "[encoded data removed]",
      "text/plain": [
       "<Figure size 576x576 with 1 Axes>"
      ]
     },
     "metadata": {},
     "output_type": "display_data"
    }
   ],
   "source": [
    "fig, ax = ox.plot_footprints(gadow_footprints_mapped, dpi=400, close=True)"
   ]
  },
  {
   "cell_type": "code",
   "execution_count": 47,
   "metadata": {
    "pycharm": {
     "is_executing": false,
     "name": "#%%\n"
    }
   },
   "outputs": [
    {
     "data": {
      "text/html": [
       "<div>\n",
       "<style scoped>\n",
       "    .dataframe tbody tr th:only-of-type {\n",
       "        vertical-align: middle;\n",
       "    }\n",
       "\n",
       "    .dataframe tbody tr th {\n",
       "        vertical-align: top;\n",
       "    }\n",
       "\n",
       "    .dataframe thead th {\n",
       "        text-align: right;\n",
       "    }\n",
       "</style>\n",
       "<table border=\"1\" class=\"dataframe\">\n",
       "  <thead>\n",
       "    <tr style=\"text-align: right;\">\n",
       "      <th></th>\n",
       "      <th>height</th>\n",
       "      <th>avg_height</th>\n",
       "    </tr>\n",
       "  </thead>\n",
       "  <tbody>\n",
       "    <tr>\n",
       "      <th>0</th>\n",
       "      <td>3.15</td>\n",
       "      <td>2.5</td>\n",
       "    </tr>\n",
       "    <tr>\n",
       "      <th>6</th>\n",
       "      <td>11.74</td>\n",
       "      <td>11.0</td>\n",
       "    </tr>\n",
       "    <tr>\n",
       "      <th>19</th>\n",
       "      <td>2.56</td>\n",
       "      <td>2.0</td>\n",
       "    </tr>\n",
       "    <tr>\n",
       "      <th>44</th>\n",
       "      <td>13.52</td>\n",
       "      <td>13.0</td>\n",
       "    </tr>\n",
       "    <tr>\n",
       "      <th>48</th>\n",
       "      <td>11.0</td>\n",
       "      <td>11.0</td>\n",
       "    </tr>\n",
       "    <tr>\n",
       "      <th>85</th>\n",
       "      <td>3.94</td>\n",
       "      <td>3.0</td>\n",
       "    </tr>\n",
       "    <tr>\n",
       "      <th>94</th>\n",
       "      <td>6</td>\n",
       "      <td>12.0</td>\n",
       "    </tr>\n",
       "    <tr>\n",
       "      <th>116</th>\n",
       "      <td>7.64</td>\n",
       "      <td>7.0</td>\n",
       "    </tr>\n",
       "    <tr>\n",
       "      <th>173</th>\n",
       "      <td>3.62</td>\n",
       "      <td>3.0</td>\n",
       "    </tr>\n",
       "    <tr>\n",
       "      <th>194</th>\n",
       "      <td>3.27</td>\n",
       "      <td>3.0</td>\n",
       "    </tr>\n",
       "    <tr>\n",
       "      <th>239</th>\n",
       "      <td>3.86</td>\n",
       "      <td>3.0</td>\n",
       "    </tr>\n",
       "    <tr>\n",
       "      <th>259</th>\n",
       "      <td>7.91</td>\n",
       "      <td>7.0</td>\n",
       "    </tr>\n",
       "    <tr>\n",
       "      <th>281</th>\n",
       "      <td>2.63</td>\n",
       "      <td>2.0</td>\n",
       "    </tr>\n",
       "    <tr>\n",
       "      <th>287</th>\n",
       "      <td>3.5</td>\n",
       "      <td>3.0</td>\n",
       "    </tr>\n",
       "    <tr>\n",
       "      <th>293</th>\n",
       "      <td>2.93</td>\n",
       "      <td>2.0</td>\n",
       "    </tr>\n",
       "    <tr>\n",
       "      <th>322</th>\n",
       "      <td>2.57</td>\n",
       "      <td>2.0</td>\n",
       "    </tr>\n",
       "    <tr>\n",
       "      <th>339</th>\n",
       "      <td>8.97</td>\n",
       "      <td>8.0</td>\n",
       "    </tr>\n",
       "    <tr>\n",
       "      <th>346</th>\n",
       "      <td>7.44</td>\n",
       "      <td>7.0</td>\n",
       "    </tr>\n",
       "    <tr>\n",
       "      <th>366</th>\n",
       "      <td>3.91</td>\n",
       "      <td>3.0</td>\n",
       "    </tr>\n",
       "    <tr>\n",
       "      <th>370</th>\n",
       "      <td>3.0</td>\n",
       "      <td>3.0</td>\n",
       "    </tr>\n",
       "    <tr>\n",
       "      <th>374</th>\n",
       "      <td>6.5</td>\n",
       "      <td>6.0</td>\n",
       "    </tr>\n",
       "    <tr>\n",
       "      <th>443</th>\n",
       "      <td>3.64</td>\n",
       "      <td>3.0</td>\n",
       "    </tr>\n",
       "    <tr>\n",
       "      <th>461</th>\n",
       "      <td>3.17</td>\n",
       "      <td>3.0</td>\n",
       "    </tr>\n",
       "    <tr>\n",
       "      <th>510</th>\n",
       "      <td>7.57</td>\n",
       "      <td>7.0</td>\n",
       "    </tr>\n",
       "    <tr>\n",
       "      <th>578</th>\n",
       "      <td>3.78</td>\n",
       "      <td>3.0</td>\n",
       "    </tr>\n",
       "    <tr>\n",
       "      <th>580</th>\n",
       "      <td>10.66</td>\n",
       "      <td>10.0</td>\n",
       "    </tr>\n",
       "    <tr>\n",
       "      <th>593</th>\n",
       "      <td>3.73</td>\n",
       "      <td>3.0</td>\n",
       "    </tr>\n",
       "    <tr>\n",
       "      <th>721</th>\n",
       "      <td>6.24</td>\n",
       "      <td>6.0</td>\n",
       "    </tr>\n",
       "    <tr>\n",
       "      <th>722</th>\n",
       "      <td>12.76</td>\n",
       "      <td>12.0</td>\n",
       "    </tr>\n",
       "  </tbody>\n",
       "</table>\n",
       "</div>"
      ],
      "text/plain": [
       "    height  avg_height\n",
       "0     3.15         2.5\n",
       "6    11.74        11.0\n",
       "19    2.56         2.0\n",
       "44   13.52        13.0\n",
       "48    11.0        11.0\n",
       "85    3.94         3.0\n",
       "94       6        12.0\n",
       "116   7.64         7.0\n",
       "173   3.62         3.0\n",
       "194   3.27         3.0\n",
       "239   3.86         3.0\n",
       "259   7.91         7.0\n",
       "281   2.63         2.0\n",
       "287    3.5         3.0\n",
       "293   2.93         2.0\n",
       "322   2.57         2.0\n",
       "339   8.97         8.0\n",
       "346   7.44         7.0\n",
       "366   3.91         3.0\n",
       "370    3.0         3.0\n",
       "374    6.5         6.0\n",
       "443   3.64         3.0\n",
       "461   3.17         3.0\n",
       "510   7.57         7.0\n",
       "578   3.78         3.0\n",
       "580  10.66        10.0\n",
       "593   3.73         3.0\n",
       "721   6.24         6.0\n",
       "722  12.76        12.0"
      ]
     },
     "execution_count": 47,
     "metadata": {},
     "output_type": "execute_result"
    }
   ],
   "source": [
    "# Check how are OSM and BIP data correlated\n",
    "dr = gadow_footprints_mapped.height.dropna().index.tolist()\n",
    "gadow_footprints_mapped.loc[dr, [\"height\",\"avg_height\"]]"
   ]
  },
  {
   "cell_type": "code",
   "execution_count": null,
   "metadata": {},
   "outputs": [],
   "source": []
  },
  {
   "cell_type": "code",
   "execution_count": 26,
   "metadata": {
    "pycharm": {
     "is_executing": false,
     "name": "#%%\n"
    }
   },
   "outputs": [],
   "source": [
    "LEVEL_HEIGHT = 2.5\n",
    "FLAT_SURFACE = 50"
   ]
  },
  {
   "cell_type": "code",
   "execution_count": 27,
   "metadata": {
    "pycharm": {
     "is_executing": false,
     "name": "#%%\n"
    }
   },
   "outputs": [
    {
     "name": "stderr",
     "output_type": "stream",
     "text": [
      "c:\\users\\askib\\pycharmprojects\\mobility\\venv\\lib\\site-packages\\geopandas\\geodataframe.py:853: SettingWithCopyWarning: \n",
      "A value is trying to be set on a copy of a slice from a DataFrame.\n",
      "Try using .loc[row_indexer,col_indexer] = value instead\n",
      "\n",
      "See the caveats in the documentation: https://pandas.pydata.org/pandas-docs/stable/user_guide/indexing.html#returning-a-view-versus-a-copy\n",
      "  super(GeoDataFrame, self).__setitem__(key, value)\n"
     ]
    }
   ],
   "source": [
    "gadow_footprints_mapped[\"flat_count\"] = ((gadow_footprints_mapped['area'] * 1_000_000_000 / FLAT_SURFACE)\\\n",
    " * (gadow_footprints_mapped.avg_height / LEVEL_HEIGHT)).round().astype(int) + 1\n",
    "                                            "
   ]
  },
  {
   "cell_type": "code",
   "execution_count": 50,
   "metadata": {
    "pycharm": {
     "is_executing": false,
     "name": "#%%\n"
    }
   },
   "outputs": [
    {
     "data": {
      "text/plain": [
       "Text(0.5, 0.98, 'Flats histogram')"
      ]
     },
     "execution_count": 50,
     "metadata": {},
     "output_type": "execute_result"
    },
    {
     "data": {
      "image/png": "[encoded data removed]",
      "text/plain": [
       "<Figure size 432x288 with 1 Axes>"
      ]
     },
     "metadata": {
      "needs_background": "light"
     },
     "output_type": "display_data"
    }
   ],
   "source": [
    "import matplotlib.pyplot as plt\n",
    "gadow_footprints_mapped[\"flat_count\"].hist()\n",
    "plt.suptitle(\"Flats histogram\")\n",
    "\n"
   ]
  },
  {
   "cell_type": "code",
   "execution_count": 29,
   "metadata": {
    "pycharm": {
     "is_executing": false,
     "name": "#%%\n"
    }
   },
   "outputs": [
    {
     "data": {
      "text/plain": [
       "1     315\n",
       "2      73\n",
       "4      40\n",
       "3      38\n",
       "7      21\n",
       "     ... \n",
       "43      1\n",
       "42      1\n",
       "40      1\n",
       "35      1\n",
       "33      1\n",
       "Name: flat_count, Length: 64, dtype: int64"
      ]
     },
     "execution_count": 29,
     "metadata": {},
     "output_type": "execute_result"
    }
   ],
   "source": [
    "gadow_footprints_mapped[\"flat_count\"].value_counts()"
   ]
  },
  {
   "cell_type": "code",
   "execution_count": 30,
   "metadata": {
    "pycharm": {
     "is_executing": false,
     "name": "#%%\n"
    }
   },
   "outputs": [],
   "source": [
    "gadow_footprints_mapped.to_file('gadow_footprints_mapped.gpkg', driver='GPKG')"
   ]
  },
  {
   "cell_type": "code",
   "execution_count": 31,
   "metadata": {
    "pycharm": {
     "is_executing": false,
     "name": "#%%\n"
    }
   },
   "outputs": [
    {
     "data": {
      "text/html": [
       "<div>\n",
       "<style scoped>\n",
       "    .dataframe tbody tr th:only-of-type {\n",
       "        vertical-align: middle;\n",
       "    }\n",
       "\n",
       "    .dataframe tbody tr th {\n",
       "        vertical-align: top;\n",
       "    }\n",
       "\n",
       "    .dataframe thead th {\n",
       "        text-align: right;\n",
       "    }\n",
       "</style>\n",
       "<table border=\"1\" class=\"dataframe\">\n",
       "  <thead>\n",
       "    <tr style=\"text-align: right;\">\n",
       "      <th></th>\n",
       "      <th>Unnamed: 0</th>\n",
       "      <th>travel_id</th>\n",
       "      <th>lat</th>\n",
       "      <th>long</th>\n",
       "      <th>time</th>\n",
       "      <th>mean_of_transport</th>\n",
       "      <th>geometry</th>\n",
       "    </tr>\n",
       "  </thead>\n",
       "  <tbody>\n",
       "    <tr>\n",
       "      <th>0</th>\n",
       "      <td>0</td>\n",
       "      <td>798a9138-afb4-4599-a4a4-b953673a6586</td>\n",
       "      <td>16.963825</td>\n",
       "      <td>51.126405</td>\n",
       "      <td>2019-10-27 07:40:00</td>\n",
       "      <td>Pieszo</td>\n",
       "      <td>POINT (16.96383 51.12640)</td>\n",
       "    </tr>\n",
       "    <tr>\n",
       "      <th>1</th>\n",
       "      <td>1</td>\n",
       "      <td>798a9138-afb4-4599-a4a4-b953673a6586</td>\n",
       "      <td>16.960701</td>\n",
       "      <td>51.127634</td>\n",
       "      <td>2019-10-27 07:48:00</td>\n",
       "      <td>Pieszo</td>\n",
       "      <td>POINT (16.96070 51.12763)</td>\n",
       "    </tr>\n",
       "    <tr>\n",
       "      <th>2</th>\n",
       "      <td>2</td>\n",
       "      <td>5e3a9ce9-2285-41d5-a395-a483adbc45f6</td>\n",
       "      <td>16.957725</td>\n",
       "      <td>51.126554</td>\n",
       "      <td>2019-10-08 05:00:00</td>\n",
       "      <td>Samochód osobowy jako kierowca</td>\n",
       "      <td>POINT (16.95773 51.12655)</td>\n",
       "    </tr>\n",
       "    <tr>\n",
       "      <th>4</th>\n",
       "      <td>4</td>\n",
       "      <td>9cd2247e-4c96-4d73-b81c-7ee752b099ae</td>\n",
       "      <td>16.969748</td>\n",
       "      <td>51.126558</td>\n",
       "      <td>2019-10-27 18:30:00</td>\n",
       "      <td>Samochód osobowy jako kierowca</td>\n",
       "      <td>POINT (16.96975 51.12656)</td>\n",
       "    </tr>\n",
       "    <tr>\n",
       "      <th>8</th>\n",
       "      <td>8</td>\n",
       "      <td>bf7ad7dd-c470-41da-88d4-fc6d9543d592</td>\n",
       "      <td>16.960303</td>\n",
       "      <td>51.123743</td>\n",
       "      <td>2019-11-05 07:30:59</td>\n",
       "      <td>Komunikacja autobusowa</td>\n",
       "      <td>POINT (16.96030 51.12374)</td>\n",
       "    </tr>\n",
       "    <tr>\n",
       "      <th>...</th>\n",
       "      <td>...</td>\n",
       "      <td>...</td>\n",
       "      <td>...</td>\n",
       "      <td>...</td>\n",
       "      <td>...</td>\n",
       "      <td>...</td>\n",
       "      <td>...</td>\n",
       "    </tr>\n",
       "    <tr>\n",
       "      <th>2526</th>\n",
       "      <td>2526</td>\n",
       "      <td>ee05656f-0cbf-48b2-bab4-01dbd9c29e0d</td>\n",
       "      <td>16.962703</td>\n",
       "      <td>51.127734</td>\n",
       "      <td>2019-11-15 17:00:00</td>\n",
       "      <td>Pieszo</td>\n",
       "      <td>POINT (16.96270 51.12773)</td>\n",
       "    </tr>\n",
       "    <tr>\n",
       "      <th>2527</th>\n",
       "      <td>2527</td>\n",
       "      <td>ee05656f-0cbf-48b2-bab4-01dbd9c29e0d</td>\n",
       "      <td>16.961556</td>\n",
       "      <td>51.122530</td>\n",
       "      <td>2019-11-15 17:08:00</td>\n",
       "      <td>Pieszo</td>\n",
       "      <td>POINT (16.96156 51.12253)</td>\n",
       "    </tr>\n",
       "    <tr>\n",
       "      <th>2528</th>\n",
       "      <td>2528</td>\n",
       "      <td>027104a6-3a2a-448b-9f11-0eed85be3041</td>\n",
       "      <td>16.961556</td>\n",
       "      <td>51.122530</td>\n",
       "      <td>2019-11-15 17:57:00</td>\n",
       "      <td>Komunikacja autobusowa</td>\n",
       "      <td>POINT (16.96156 51.12253)</td>\n",
       "    </tr>\n",
       "    <tr>\n",
       "      <th>2531</th>\n",
       "      <td>2531</td>\n",
       "      <td>76a23f02-b739-4f14-875d-e9c99eea3a94</td>\n",
       "      <td>16.959260</td>\n",
       "      <td>51.126316</td>\n",
       "      <td>2019-11-08 00:15:00</td>\n",
       "      <td>Komunikacja autobusowa</td>\n",
       "      <td>POINT (16.95926 51.12632)</td>\n",
       "    </tr>\n",
       "    <tr>\n",
       "      <th>2543</th>\n",
       "      <td>2543</td>\n",
       "      <td>21ac528a-30ea-4612-881e-ef74e0653fea</td>\n",
       "      <td>16.961556</td>\n",
       "      <td>51.122530</td>\n",
       "      <td>2019-11-15 21:40:00</td>\n",
       "      <td>Pieszo</td>\n",
       "      <td>POINT (16.96156 51.12253)</td>\n",
       "    </tr>\n",
       "  </tbody>\n",
       "</table>\n",
       "<p>941 rows × 7 columns</p>\n",
       "</div>"
      ],
      "text/plain": [
       "      Unnamed: 0                             travel_id        lat       long  \\\n",
       "0              0  798a9138-afb4-4599-a4a4-b953673a6586  16.963825  51.126405   \n",
       "1              1  798a9138-afb4-4599-a4a4-b953673a6586  16.960701  51.127634   \n",
       "2              2  5e3a9ce9-2285-41d5-a395-a483adbc45f6  16.957725  51.126554   \n",
       "4              4  9cd2247e-4c96-4d73-b81c-7ee752b099ae  16.969748  51.126558   \n",
       "8              8  bf7ad7dd-c470-41da-88d4-fc6d9543d592  16.960303  51.123743   \n",
       "...          ...                                   ...        ...        ...   \n",
       "2526        2526  ee05656f-0cbf-48b2-bab4-01dbd9c29e0d  16.962703  51.127734   \n",
       "2527        2527  ee05656f-0cbf-48b2-bab4-01dbd9c29e0d  16.961556  51.122530   \n",
       "2528        2528  027104a6-3a2a-448b-9f11-0eed85be3041  16.961556  51.122530   \n",
       "2531        2531  76a23f02-b739-4f14-875d-e9c99eea3a94  16.959260  51.126316   \n",
       "2543        2543  21ac528a-30ea-4612-881e-ef74e0653fea  16.961556  51.122530   \n",
       "\n",
       "                     time               mean_of_transport  \\\n",
       "0     2019-10-27 07:40:00                          Pieszo   \n",
       "1     2019-10-27 07:48:00                          Pieszo   \n",
       "2     2019-10-08 05:00:00  Samochód osobowy jako kierowca   \n",
       "4     2019-10-27 18:30:00  Samochód osobowy jako kierowca   \n",
       "8     2019-11-05 07:30:59          Komunikacja autobusowa   \n",
       "...                   ...                             ...   \n",
       "2526  2019-11-15 17:00:00                          Pieszo   \n",
       "2527  2019-11-15 17:08:00                          Pieszo   \n",
       "2528  2019-11-15 17:57:00          Komunikacja autobusowa   \n",
       "2531  2019-11-08 00:15:00          Komunikacja autobusowa   \n",
       "2543  2019-11-15 21:40:00                          Pieszo   \n",
       "\n",
       "                       geometry  \n",
       "0     POINT (16.96383 51.12640)  \n",
       "1     POINT (16.96070 51.12763)  \n",
       "2     POINT (16.95773 51.12655)  \n",
       "4     POINT (16.96975 51.12656)  \n",
       "8     POINT (16.96030 51.12374)  \n",
       "...                         ...  \n",
       "2526  POINT (16.96270 51.12773)  \n",
       "2527  POINT (16.96156 51.12253)  \n",
       "2528  POINT (16.96156 51.12253)  \n",
       "2531  POINT (16.95926 51.12632)  \n",
       "2543  POINT (16.96156 51.12253)  \n",
       "\n",
       "[941 rows x 7 columns]"
      ]
     },
     "execution_count": 31,
     "metadata": {},
     "output_type": "execute_result"
    }
   ],
   "source": [
    "gadow_flow_matrix"
   ]
  },
  {
   "cell_type": "code",
   "execution_count": 32,
   "metadata": {
    "pycharm": {
     "is_executing": false,
     "name": "#%%\n"
    }
   },
   "outputs": [],
   "source": [
    "gadow_flow_matrix['building_id'] = -1"
   ]
  },
  {
   "cell_type": "code",
   "execution_count": 33,
   "metadata": {
    "pycharm": {
     "is_executing": false,
     "name": "#%%\n"
    }
   },
   "outputs": [],
   "source": [
    "def map_points_to_polygons(points, footprints):\n",
    "     for i_p, point in points.iterrows():\n",
    "        for i_f, footprint in footprints.iterrows():\n",
    "            if point['geometry'].within(footprint['geometry']):\n",
    "                points.at[i_p, 'building_id'] = i_f\n",
    "     return points\n"
   ]
  },
  {
   "cell_type": "code",
   "execution_count": 34,
   "metadata": {
    "pycharm": {
     "is_executing": false,
     "name": "#%%\n"
    }
   },
   "outputs": [],
   "source": [
    "gadow_flows_by_buildings = map_points_to_polygons(gadow_flow_matrix, gadow_footprints_mapped)"
   ]
  },
  {
   "cell_type": "code",
   "execution_count": 35,
   "metadata": {
    "pycharm": {
     "is_executing": false,
     "name": "#%%\n"
    }
   },
   "outputs": [],
   "source": [
    "gadow_flow_mapped = gadow_flows_by_buildings.loc[gadow_flows_by_buildings['building_id'] != -1]"
   ]
  },
  {
   "cell_type": "code",
   "execution_count": 36,
   "metadata": {
    "pycharm": {
     "is_executing": false,
     "name": "#%%\n"
    }
   },
   "outputs": [],
   "source": [
    "unique_stops = gadow_flow_mapped['building_id'].unique()"
   ]
  },
  {
   "cell_type": "code",
   "execution_count": 39,
   "metadata": {
    "pycharm": {
     "is_executing": false,
     "name": "#%%\n"
    }
   },
   "outputs": [],
   "source": [
    "gadow_unique_stops = gadow_footprints_mapped.loc[unique_stops]"
   ]
  },
  {
   "cell_type": "code",
   "execution_count": 37,
   "metadata": {
    "pycharm": {
     "is_executing": false,
     "name": "#%%\n"
    }
   },
   "outputs": [
    {
     "data": {
      "image/png": "[encoded data removed]",
      "text/plain": [
       "<Figure size 576x576 with 1 Axes>"
      ]
     },
     "metadata": {},
     "output_type": "display_data"
    }
   ],
   "source": [
    "fig, ax = ox.plot_footprints(gadow_footprints_mapped.loc[unique_stops], dpi=400, close=True)"
   ]
  },
  {
   "cell_type": "code",
   "execution_count": 40,
   "metadata": {
    "pycharm": {
     "is_executing": false,
     "name": "#%%\n"
    }
   },
   "outputs": [
    {
     "data": {
      "text/plain": [
       "<AxesSubplot:>"
      ]
     },
     "execution_count": 40,
     "metadata": {},
     "output_type": "execute_result"
    },
    {
     "data": {
      "image/png": "[encoded data removed]",
      "text/plain": [
       "<Figure size 432x288 with 1 Axes>"
      ]
     },
     "metadata": {
      "needs_background": "light"
     },
     "output_type": "display_data"
    }
   ],
   "source": [
    "\n",
    "gadow_unique_stops['flat_count'].hist()"
   ]
  },
  {
   "cell_type": "code",
   "execution_count": 46,
   "metadata": {
    "pycharm": {
     "is_executing": false,
     "name": "#%%\n"
    }
   },
   "outputs": [],
   "source": [
    "gadow_flow_mapped.to_csv('gadow_flow_mapped.csv')"
   ]
  },
  {
   "cell_type": "code",
   "execution_count": 42,
   "metadata": {
    "pycharm": {
     "is_executing": false,
     "name": "#%%\n"
    }
   },
   "outputs": [
    {
     "data": {
      "text/html": [
       "<div>\n",
       "<style scoped>\n",
       "    .dataframe tbody tr th:only-of-type {\n",
       "        vertical-align: middle;\n",
       "    }\n",
       "\n",
       "    .dataframe tbody tr th {\n",
       "        vertical-align: top;\n",
       "    }\n",
       "\n",
       "    .dataframe thead th {\n",
       "        text-align: right;\n",
       "    }\n",
       "</style>\n",
       "<table border=\"1\" class=\"dataframe\">\n",
       "  <thead>\n",
       "    <tr style=\"text-align: right;\">\n",
       "      <th></th>\n",
       "      <th>unique_id</th>\n",
       "      <th>osmid</th>\n",
       "      <th>element_type</th>\n",
       "      <th>amenity</th>\n",
       "      <th>wheelchair</th>\n",
       "      <th>name</th>\n",
       "      <th>shop</th>\n",
       "      <th>WroclawGIS:addr:date</th>\n",
       "      <th>WroclawGIS:addr:id</th>\n",
       "      <th>WroclawGIS:addr:layer</th>\n",
       "      <th>...</th>\n",
       "      <th>shelter_type</th>\n",
       "      <th>roof:levels</th>\n",
       "      <th>ways</th>\n",
       "      <th>type</th>\n",
       "      <th>geometry</th>\n",
       "      <th>height_sum</th>\n",
       "      <th>points_count</th>\n",
       "      <th>avg_height</th>\n",
       "      <th>area</th>\n",
       "      <th>flat_count</th>\n",
       "    </tr>\n",
       "  </thead>\n",
       "  <tbody>\n",
       "    <tr>\n",
       "      <th>0</th>\n",
       "      <td>way/101347074</td>\n",
       "      <td>101347074</td>\n",
       "      <td>way</td>\n",
       "      <td>None</td>\n",
       "      <td>None</td>\n",
       "      <td>None</td>\n",
       "      <td>None</td>\n",
       "      <td>None</td>\n",
       "      <td>None</td>\n",
       "      <td>None</td>\n",
       "      <td>...</td>\n",
       "      <td>None</td>\n",
       "      <td>None</td>\n",
       "      <td>None</td>\n",
       "      <td>None</td>\n",
       "      <td>POLYGON ((16.97296 51.12343, 16.97289 51.12333...</td>\n",
       "      <td>5</td>\n",
       "      <td>2</td>\n",
       "      <td>2.500</td>\n",
       "      <td>8.011580e-09</td>\n",
       "      <td>1</td>\n",
       "    </tr>\n",
       "    <tr>\n",
       "      <th>1</th>\n",
       "      <td>way/101347111</td>\n",
       "      <td>101347111</td>\n",
       "      <td>way</td>\n",
       "      <td>None</td>\n",
       "      <td>None</td>\n",
       "      <td>None</td>\n",
       "      <td>None</td>\n",
       "      <td>None</td>\n",
       "      <td>None</td>\n",
       "      <td>None</td>\n",
       "      <td>...</td>\n",
       "      <td>None</td>\n",
       "      <td>None</td>\n",
       "      <td>None</td>\n",
       "      <td>None</td>\n",
       "      <td>POLYGON ((16.96973 51.12684, 16.96970 51.12680...</td>\n",
       "      <td>3</td>\n",
       "      <td>1</td>\n",
       "      <td>3.000</td>\n",
       "      <td>3.034365e-09</td>\n",
       "      <td>1</td>\n",
       "    </tr>\n",
       "    <tr>\n",
       "      <th>2</th>\n",
       "      <td>way/101347120</td>\n",
       "      <td>101347120</td>\n",
       "      <td>way</td>\n",
       "      <td>None</td>\n",
       "      <td>None</td>\n",
       "      <td>None</td>\n",
       "      <td>None</td>\n",
       "      <td>None</td>\n",
       "      <td>None</td>\n",
       "      <td>None</td>\n",
       "      <td>...</td>\n",
       "      <td>None</td>\n",
       "      <td>None</td>\n",
       "      <td>None</td>\n",
       "      <td>None</td>\n",
       "      <td>POLYGON ((16.96193 51.12768, 16.96194 51.12768...</td>\n",
       "      <td>17</td>\n",
       "      <td>1</td>\n",
       "      <td>17.000</td>\n",
       "      <td>4.902548e-08</td>\n",
       "      <td>8</td>\n",
       "    </tr>\n",
       "    <tr>\n",
       "      <th>3</th>\n",
       "      <td>way/101347209</td>\n",
       "      <td>101347209</td>\n",
       "      <td>way</td>\n",
       "      <td>None</td>\n",
       "      <td>None</td>\n",
       "      <td>None</td>\n",
       "      <td>None</td>\n",
       "      <td>None</td>\n",
       "      <td>None</td>\n",
       "      <td>None</td>\n",
       "      <td>...</td>\n",
       "      <td>None</td>\n",
       "      <td>None</td>\n",
       "      <td>None</td>\n",
       "      <td>None</td>\n",
       "      <td>POLYGON ((16.97286 51.12435, 16.97283 51.12430...</td>\n",
       "      <td>3</td>\n",
       "      <td>1</td>\n",
       "      <td>3.000</td>\n",
       "      <td>4.972210e-09</td>\n",
       "      <td>1</td>\n",
       "    </tr>\n",
       "    <tr>\n",
       "      <th>4</th>\n",
       "      <td>way/101347223</td>\n",
       "      <td>101347223</td>\n",
       "      <td>way</td>\n",
       "      <td>None</td>\n",
       "      <td>None</td>\n",
       "      <td>None</td>\n",
       "      <td>None</td>\n",
       "      <td>None</td>\n",
       "      <td>None</td>\n",
       "      <td>None</td>\n",
       "      <td>...</td>\n",
       "      <td>None</td>\n",
       "      <td>None</td>\n",
       "      <td>None</td>\n",
       "      <td>None</td>\n",
       "      <td>POLYGON ((16.97230 51.12553, 16.97229 51.12552...</td>\n",
       "      <td>7</td>\n",
       "      <td>1</td>\n",
       "      <td>7.000</td>\n",
       "      <td>2.585990e-09</td>\n",
       "      <td>1</td>\n",
       "    </tr>\n",
       "    <tr>\n",
       "      <th>...</th>\n",
       "      <td>...</td>\n",
       "      <td>...</td>\n",
       "      <td>...</td>\n",
       "      <td>...</td>\n",
       "      <td>...</td>\n",
       "      <td>...</td>\n",
       "      <td>...</td>\n",
       "      <td>...</td>\n",
       "      <td>...</td>\n",
       "      <td>...</td>\n",
       "      <td>...</td>\n",
       "      <td>...</td>\n",
       "      <td>...</td>\n",
       "      <td>...</td>\n",
       "      <td>...</td>\n",
       "      <td>...</td>\n",
       "      <td>...</td>\n",
       "      <td>...</td>\n",
       "      <td>...</td>\n",
       "      <td>...</td>\n",
       "      <td>...</td>\n",
       "    </tr>\n",
       "    <tr>\n",
       "      <th>808</th>\n",
       "      <td>way/845357478</td>\n",
       "      <td>845357478</td>\n",
       "      <td>way</td>\n",
       "      <td>None</td>\n",
       "      <td>None</td>\n",
       "      <td>None</td>\n",
       "      <td>None</td>\n",
       "      <td>None</td>\n",
       "      <td>None</td>\n",
       "      <td>None</td>\n",
       "      <td>...</td>\n",
       "      <td>None</td>\n",
       "      <td>None</td>\n",
       "      <td>None</td>\n",
       "      <td>None</td>\n",
       "      <td>POLYGON ((16.97154 51.12230, 16.97151 51.12225...</td>\n",
       "      <td>41</td>\n",
       "      <td>5</td>\n",
       "      <td>8.200</td>\n",
       "      <td>6.573234e-08</td>\n",
       "      <td>5</td>\n",
       "    </tr>\n",
       "    <tr>\n",
       "      <th>810</th>\n",
       "      <td>way/845361412</td>\n",
       "      <td>845361412</td>\n",
       "      <td>way</td>\n",
       "      <td>None</td>\n",
       "      <td>None</td>\n",
       "      <td>None</td>\n",
       "      <td>None</td>\n",
       "      <td>None</td>\n",
       "      <td>None</td>\n",
       "      <td>None</td>\n",
       "      <td>...</td>\n",
       "      <td>None</td>\n",
       "      <td>None</td>\n",
       "      <td>None</td>\n",
       "      <td>None</td>\n",
       "      <td>POLYGON ((16.96835 51.12311, 16.96836 51.12313...</td>\n",
       "      <td>207</td>\n",
       "      <td>8</td>\n",
       "      <td>25.875</td>\n",
       "      <td>2.377747e-07</td>\n",
       "      <td>50</td>\n",
       "    </tr>\n",
       "    <tr>\n",
       "      <th>811</th>\n",
       "      <td>way/846008339</td>\n",
       "      <td>846008339</td>\n",
       "      <td>way</td>\n",
       "      <td>None</td>\n",
       "      <td>None</td>\n",
       "      <td>None</td>\n",
       "      <td>None</td>\n",
       "      <td>None</td>\n",
       "      <td>None</td>\n",
       "      <td>None</td>\n",
       "      <td>...</td>\n",
       "      <td>None</td>\n",
       "      <td>None</td>\n",
       "      <td>None</td>\n",
       "      <td>None</td>\n",
       "      <td>POLYGON ((16.96845 51.12400, 16.96844 51.12398...</td>\n",
       "      <td>33</td>\n",
       "      <td>3</td>\n",
       "      <td>11.000</td>\n",
       "      <td>1.014359e-07</td>\n",
       "      <td>10</td>\n",
       "    </tr>\n",
       "    <tr>\n",
       "      <th>812</th>\n",
       "      <td>relation/1445702</td>\n",
       "      <td>1445702</td>\n",
       "      <td>relation</td>\n",
       "      <td>None</td>\n",
       "      <td>None</td>\n",
       "      <td>None</td>\n",
       "      <td>None</td>\n",
       "      <td>None</td>\n",
       "      <td>None</td>\n",
       "      <td>None</td>\n",
       "      <td>...</td>\n",
       "      <td>None</td>\n",
       "      <td>None</td>\n",
       "      <td>[101430355, 101419736]</td>\n",
       "      <td>multipolygon</td>\n",
       "      <td>POLYGON ((16.97734 51.12642, 16.97732 51.12642...</td>\n",
       "      <td>6</td>\n",
       "      <td>1</td>\n",
       "      <td>6.000</td>\n",
       "      <td>3.075378e-08</td>\n",
       "      <td>2</td>\n",
       "    </tr>\n",
       "    <tr>\n",
       "      <th>813</th>\n",
       "      <td>relation/1445705</td>\n",
       "      <td>1445705</td>\n",
       "      <td>relation</td>\n",
       "      <td>None</td>\n",
       "      <td>None</td>\n",
       "      <td>None</td>\n",
       "      <td>None</td>\n",
       "      <td>None</td>\n",
       "      <td>None</td>\n",
       "      <td>None</td>\n",
       "      <td>...</td>\n",
       "      <td>None</td>\n",
       "      <td>None</td>\n",
       "      <td>[101424001, 101419132]</td>\n",
       "      <td>multipolygon</td>\n",
       "      <td>POLYGON ((16.96977 51.12277, 16.96977 51.12277...</td>\n",
       "      <td>20</td>\n",
       "      <td>2</td>\n",
       "      <td>10.000</td>\n",
       "      <td>4.384087e-07</td>\n",
       "      <td>36</td>\n",
       "    </tr>\n",
       "  </tbody>\n",
       "</table>\n",
       "<p>676 rows × 60 columns</p>\n",
       "</div>"
      ],
      "text/plain": [
       "            unique_id      osmid element_type amenity wheelchair  name  shop  \\\n",
       "0       way/101347074  101347074          way    None       None  None  None   \n",
       "1       way/101347111  101347111          way    None       None  None  None   \n",
       "2       way/101347120  101347120          way    None       None  None  None   \n",
       "3       way/101347209  101347209          way    None       None  None  None   \n",
       "4       way/101347223  101347223          way    None       None  None  None   \n",
       "..                ...        ...          ...     ...        ...   ...   ...   \n",
       "808     way/845357478  845357478          way    None       None  None  None   \n",
       "810     way/845361412  845361412          way    None       None  None  None   \n",
       "811     way/846008339  846008339          way    None       None  None  None   \n",
       "812  relation/1445702    1445702     relation    None       None  None  None   \n",
       "813  relation/1445705    1445705     relation    None       None  None  None   \n",
       "\n",
       "    WroclawGIS:addr:date WroclawGIS:addr:id WroclawGIS:addr:layer  ...  \\\n",
       "0                   None               None                  None  ...   \n",
       "1                   None               None                  None  ...   \n",
       "2                   None               None                  None  ...   \n",
       "3                   None               None                  None  ...   \n",
       "4                   None               None                  None  ...   \n",
       "..                   ...                ...                   ...  ...   \n",
       "808                 None               None                  None  ...   \n",
       "810                 None               None                  None  ...   \n",
       "811                 None               None                  None  ...   \n",
       "812                 None               None                  None  ...   \n",
       "813                 None               None                  None  ...   \n",
       "\n",
       "    shelter_type roof:levels                    ways          type  \\\n",
       "0           None        None                    None          None   \n",
       "1           None        None                    None          None   \n",
       "2           None        None                    None          None   \n",
       "3           None        None                    None          None   \n",
       "4           None        None                    None          None   \n",
       "..           ...         ...                     ...           ...   \n",
       "808         None        None                    None          None   \n",
       "810         None        None                    None          None   \n",
       "811         None        None                    None          None   \n",
       "812         None        None  [101430355, 101419736]  multipolygon   \n",
       "813         None        None  [101424001, 101419132]  multipolygon   \n",
       "\n",
       "                                              geometry height_sum  \\\n",
       "0    POLYGON ((16.97296 51.12343, 16.97289 51.12333...          5   \n",
       "1    POLYGON ((16.96973 51.12684, 16.96970 51.12680...          3   \n",
       "2    POLYGON ((16.96193 51.12768, 16.96194 51.12768...         17   \n",
       "3    POLYGON ((16.97286 51.12435, 16.97283 51.12430...          3   \n",
       "4    POLYGON ((16.97230 51.12553, 16.97229 51.12552...          7   \n",
       "..                                                 ...        ...   \n",
       "808  POLYGON ((16.97154 51.12230, 16.97151 51.12225...         41   \n",
       "810  POLYGON ((16.96835 51.12311, 16.96836 51.12313...        207   \n",
       "811  POLYGON ((16.96845 51.12400, 16.96844 51.12398...         33   \n",
       "812  POLYGON ((16.97734 51.12642, 16.97732 51.12642...          6   \n",
       "813  POLYGON ((16.96977 51.12277, 16.96977 51.12277...         20   \n",
       "\n",
       "    points_count avg_height          area flat_count  \n",
       "0              2      2.500  8.011580e-09          1  \n",
       "1              1      3.000  3.034365e-09          1  \n",
       "2              1     17.000  4.902548e-08          8  \n",
       "3              1      3.000  4.972210e-09          1  \n",
       "4              1      7.000  2.585990e-09          1  \n",
       "..           ...        ...           ...        ...  \n",
       "808            5      8.200  6.573234e-08          5  \n",
       "810            8     25.875  2.377747e-07         50  \n",
       "811            3     11.000  1.014359e-07         10  \n",
       "812            1      6.000  3.075378e-08          2  \n",
       "813            2     10.000  4.384087e-07         36  \n",
       "\n",
       "[676 rows x 60 columns]"
      ]
     },
     "execution_count": 42,
     "metadata": {},
     "output_type": "execute_result"
    }
   ],
   "source": [
    "gadow_footprints_mapped.to_csv('gadow_footprints_mapped')"
   ]
  },
  {
   "cell_type": "code",
   "execution_count": 45,
   "metadata": {
    "pycharm": {
     "is_executing": false,
     "name": "#%%\n"
    }
   },
   "outputs": [
    {
     "data": {
      "text/html": [
       "<div>\n",
       "<style scoped>\n",
       "    .dataframe tbody tr th:only-of-type {\n",
       "        vertical-align: middle;\n",
       "    }\n",
       "\n",
       "    .dataframe tbody tr th {\n",
       "        vertical-align: top;\n",
       "    }\n",
       "\n",
       "    .dataframe thead th {\n",
       "        text-align: right;\n",
       "    }\n",
       "</style>\n",
       "<table border=\"1\" class=\"dataframe\">\n",
       "  <thead>\n",
       "    <tr style=\"text-align: right;\">\n",
       "      <th></th>\n",
       "      <th>Unnamed: 0</th>\n",
       "      <th>Unnamed: 0.1</th>\n",
       "      <th>travel_id</th>\n",
       "      <th>lat</th>\n",
       "      <th>long</th>\n",
       "      <th>time</th>\n",
       "      <th>mean_of_transport</th>\n",
       "      <th>geometry</th>\n",
       "      <th>building_id</th>\n",
       "    </tr>\n",
       "  </thead>\n",
       "  <tbody>\n",
       "    <tr>\n",
       "      <th>0</th>\n",
       "      <td>0</td>\n",
       "      <td>0</td>\n",
       "      <td>798a9138-afb4-4599-a4a4-b953673a6586</td>\n",
       "      <td>16.963825</td>\n",
       "      <td>51.126405</td>\n",
       "      <td>2019-10-27 07:40:00</td>\n",
       "      <td>Pieszo</td>\n",
       "      <td>POINT (16.9638253 51.1264047)</td>\n",
       "      <td>414</td>\n",
       "    </tr>\n",
       "    <tr>\n",
       "      <th>1</th>\n",
       "      <td>1</td>\n",
       "      <td>1</td>\n",
       "      <td>798a9138-afb4-4599-a4a4-b953673a6586</td>\n",
       "      <td>16.960701</td>\n",
       "      <td>51.127634</td>\n",
       "      <td>2019-10-27 07:48:00</td>\n",
       "      <td>Pieszo</td>\n",
       "      <td>POINT (16.9607009 51.1276341)</td>\n",
       "      <td>445</td>\n",
       "    </tr>\n",
       "    <tr>\n",
       "      <th>2</th>\n",
       "      <td>2</td>\n",
       "      <td>2</td>\n",
       "      <td>5e3a9ce9-2285-41d5-a395-a483adbc45f6</td>\n",
       "      <td>16.957725</td>\n",
       "      <td>51.126554</td>\n",
       "      <td>2019-10-08 05:00:00</td>\n",
       "      <td>Samochód osobowy jako kierowca</td>\n",
       "      <td>POINT (16.9577253 51.1265541)</td>\n",
       "      <td>210</td>\n",
       "    </tr>\n",
       "    <tr>\n",
       "      <th>3</th>\n",
       "      <td>4</td>\n",
       "      <td>4</td>\n",
       "      <td>9cd2247e-4c96-4d73-b81c-7ee752b099ae</td>\n",
       "      <td>16.969748</td>\n",
       "      <td>51.126558</td>\n",
       "      <td>2019-10-27 18:30:00</td>\n",
       "      <td>Samochód osobowy jako kierowca</td>\n",
       "      <td>POINT (16.9697476 51.12655770000001)</td>\n",
       "      <td>521</td>\n",
       "    </tr>\n",
       "    <tr>\n",
       "      <th>4</th>\n",
       "      <td>8</td>\n",
       "      <td>8</td>\n",
       "      <td>bf7ad7dd-c470-41da-88d4-fc6d9543d592</td>\n",
       "      <td>16.960303</td>\n",
       "      <td>51.123743</td>\n",
       "      <td>2019-11-05 07:30:59</td>\n",
       "      <td>Komunikacja autobusowa</td>\n",
       "      <td>POINT (16.9603031 51.1237427)</td>\n",
       "      <td>670</td>\n",
       "    </tr>\n",
       "    <tr>\n",
       "      <th>...</th>\n",
       "      <td>...</td>\n",
       "      <td>...</td>\n",
       "      <td>...</td>\n",
       "      <td>...</td>\n",
       "      <td>...</td>\n",
       "      <td>...</td>\n",
       "      <td>...</td>\n",
       "      <td>...</td>\n",
       "      <td>...</td>\n",
       "    </tr>\n",
       "    <tr>\n",
       "      <th>276</th>\n",
       "      <td>2516</td>\n",
       "      <td>2516</td>\n",
       "      <td>c8ac261c-863f-40bf-b9d3-2687243ed212</td>\n",
       "      <td>16.965530</td>\n",
       "      <td>51.130364</td>\n",
       "      <td>2019-11-08 19:00:00</td>\n",
       "      <td>Tramwaj</td>\n",
       "      <td>POINT (16.9655298 51.1303644)</td>\n",
       "      <td>684</td>\n",
       "    </tr>\n",
       "    <tr>\n",
       "      <th>277</th>\n",
       "      <td>2519</td>\n",
       "      <td>2519</td>\n",
       "      <td>a368837e-40e2-4a8f-b6d2-f19df3637ef1</td>\n",
       "      <td>16.962703</td>\n",
       "      <td>51.127734</td>\n",
       "      <td>2019-11-15 16:43:00</td>\n",
       "      <td>Pieszo</td>\n",
       "      <td>POINT (16.9627026 51.12773370000001)</td>\n",
       "      <td>292</td>\n",
       "    </tr>\n",
       "    <tr>\n",
       "      <th>278</th>\n",
       "      <td>2521</td>\n",
       "      <td>2521</td>\n",
       "      <td>58b4a090-23bd-4cef-9dc0-eb092509d473</td>\n",
       "      <td>16.961909</td>\n",
       "      <td>51.129431</td>\n",
       "      <td>2019-10-25 19:33:00</td>\n",
       "      <td>Samochód osobowy jako pasażer</td>\n",
       "      <td>POINT (16.9619089 51.12943129999999)</td>\n",
       "      <td>586</td>\n",
       "    </tr>\n",
       "    <tr>\n",
       "      <th>279</th>\n",
       "      <td>2526</td>\n",
       "      <td>2526</td>\n",
       "      <td>ee05656f-0cbf-48b2-bab4-01dbd9c29e0d</td>\n",
       "      <td>16.962703</td>\n",
       "      <td>51.127734</td>\n",
       "      <td>2019-11-15 17:00:00</td>\n",
       "      <td>Pieszo</td>\n",
       "      <td>POINT (16.9627026 51.12773370000001)</td>\n",
       "      <td>292</td>\n",
       "    </tr>\n",
       "    <tr>\n",
       "      <th>280</th>\n",
       "      <td>2531</td>\n",
       "      <td>2531</td>\n",
       "      <td>76a23f02-b739-4f14-875d-e9c99eea3a94</td>\n",
       "      <td>16.959260</td>\n",
       "      <td>51.126316</td>\n",
       "      <td>2019-11-08 00:15:00</td>\n",
       "      <td>Komunikacja autobusowa</td>\n",
       "      <td>POINT (16.95926 51.12631560000001)</td>\n",
       "      <td>643</td>\n",
       "    </tr>\n",
       "  </tbody>\n",
       "</table>\n",
       "<p>281 rows × 9 columns</p>\n",
       "</div>"
      ],
      "text/plain": [
       "     Unnamed: 0  Unnamed: 0.1                             travel_id  \\\n",
       "0             0             0  798a9138-afb4-4599-a4a4-b953673a6586   \n",
       "1             1             1  798a9138-afb4-4599-a4a4-b953673a6586   \n",
       "2             2             2  5e3a9ce9-2285-41d5-a395-a483adbc45f6   \n",
       "3             4             4  9cd2247e-4c96-4d73-b81c-7ee752b099ae   \n",
       "4             8             8  bf7ad7dd-c470-41da-88d4-fc6d9543d592   \n",
       "..          ...           ...                                   ...   \n",
       "276        2516          2516  c8ac261c-863f-40bf-b9d3-2687243ed212   \n",
       "277        2519          2519  a368837e-40e2-4a8f-b6d2-f19df3637ef1   \n",
       "278        2521          2521  58b4a090-23bd-4cef-9dc0-eb092509d473   \n",
       "279        2526          2526  ee05656f-0cbf-48b2-bab4-01dbd9c29e0d   \n",
       "280        2531          2531  76a23f02-b739-4f14-875d-e9c99eea3a94   \n",
       "\n",
       "           lat       long                 time  \\\n",
       "0    16.963825  51.126405  2019-10-27 07:40:00   \n",
       "1    16.960701  51.127634  2019-10-27 07:48:00   \n",
       "2    16.957725  51.126554  2019-10-08 05:00:00   \n",
       "3    16.969748  51.126558  2019-10-27 18:30:00   \n",
       "4    16.960303  51.123743  2019-11-05 07:30:59   \n",
       "..         ...        ...                  ...   \n",
       "276  16.965530  51.130364  2019-11-08 19:00:00   \n",
       "277  16.962703  51.127734  2019-11-15 16:43:00   \n",
       "278  16.961909  51.129431  2019-10-25 19:33:00   \n",
       "279  16.962703  51.127734  2019-11-15 17:00:00   \n",
       "280  16.959260  51.126316  2019-11-08 00:15:00   \n",
       "\n",
       "                  mean_of_transport                              geometry  \\\n",
       "0                            Pieszo         POINT (16.9638253 51.1264047)   \n",
       "1                            Pieszo         POINT (16.9607009 51.1276341)   \n",
       "2    Samochód osobowy jako kierowca         POINT (16.9577253 51.1265541)   \n",
       "3    Samochód osobowy jako kierowca  POINT (16.9697476 51.12655770000001)   \n",
       "4            Komunikacja autobusowa         POINT (16.9603031 51.1237427)   \n",
       "..                              ...                                   ...   \n",
       "276                         Tramwaj         POINT (16.9655298 51.1303644)   \n",
       "277                          Pieszo  POINT (16.9627026 51.12773370000001)   \n",
       "278   Samochód osobowy jako pasażer  POINT (16.9619089 51.12943129999999)   \n",
       "279                          Pieszo  POINT (16.9627026 51.12773370000001)   \n",
       "280          Komunikacja autobusowa    POINT (16.95926 51.12631560000001)   \n",
       "\n",
       "     building_id  \n",
       "0            414  \n",
       "1            445  \n",
       "2            210  \n",
       "3            521  \n",
       "4            670  \n",
       "..           ...  \n",
       "276          684  \n",
       "277          292  \n",
       "278          586  \n",
       "279          292  \n",
       "280          643  \n",
       "\n",
       "[281 rows x 9 columns]"
      ]
     },
     "execution_count": 45,
     "metadata": {},
     "output_type": "execute_result"
    }
   ],
   "source": [
    "\n",
    "pd.read_csv('gadow_flow_mapped')"
   ]
  },
  {
   "cell_type": "code",
   "execution_count": null,
   "metadata": {
    "pycharm": {
     "name": "#%%\n"
    }
   },
   "outputs": [],
   "source": [
    "\n"
   ]
  }
 ],
 "metadata": {
  "kernelspec": {
   "display_name": "Python 3",
   "language": "python",
   "name": "python3"
  },
  "language_info": {
   "codemirror_mode": {
    "name": "ipython",
    "version": 3
   },
   "file_extension": ".py",
   "mimetype": "text/x-python",
   "name": "python",
   "nbconvert_exporter": "python",
   "pygments_lexer": "ipython3",
   "version": "3.7.1"
  },
  "pycharm": {
   "stem_cell": {
    "cell_type": "raw",
    "metadata": {
     "collapsed": false
    },
    "source": []
   }
  }
 },
 "nbformat": 4,
 "nbformat_minor": 1
}
