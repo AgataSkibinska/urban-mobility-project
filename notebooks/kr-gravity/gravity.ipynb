{
 "metadata": {
  "language_info": {
   "codemirror_mode": {
    "name": "ipython",
    "version": 3
   },
   "file_extension": ".py",
   "mimetype": "text/x-python",
   "name": "python",
   "nbconvert_exporter": "python",
   "pygments_lexer": "ipython3",
   "version": "3.8.5-final"
  },
  "orig_nbformat": 2,
  "kernelspec": {
   "name": "python38564bitmobilityvenvvenvb8bc7019d78143fca132b66bd746cad0",
   "display_name": "Python 3.8.5 64-bit ('mobility_venv': venv)",
   "language": "python"
  }
 },
 "nbformat": 4,
 "nbformat_minor": 2,
 "cells": [
  {
   "cell_type": "code",
   "execution_count": 90,
   "metadata": {},
   "outputs": [],
   "source": [
    "import geopandas as gpd\n",
    "import pandas as pd\n",
    "from skmob.models import Gravity\n",
    "from tqdm import tqdm\n",
    "import json\n",
    "import numpy as np"
   ]
  },
  {
   "source": [
    "## City regions shp"
   ],
   "cell_type": "markdown",
   "metadata": {}
  },
  {
   "cell_type": "code",
   "execution_count": 70,
   "metadata": {},
   "outputs": [],
   "source": [
    "city_regions = gpd.read_file('../../data/raw/EtapII-REJONY_wroclaw_centroidy.shp')\n",
    "city_regions = city_regions[['NUMBER', 'NAME', 'geometry']]"
   ]
  },
  {
   "cell_type": "code",
   "execution_count": 71,
   "metadata": {},
   "outputs": [
    {
     "output_type": "execute_result",
     "data": {
      "text/plain": [
       "   NUMBER                  NAME                       geometry\n",
       "0      22  Komandorska/Swobodna  POINT (362044.353 360502.534)\n",
       "1      23    Centrum Południowe  POINT (361753.043 360767.194)\n",
       "2      24                Stysia  POINT (361487.550 361003.421)\n",
       "3      25         Ostrów Tumski  POINT (363312.469 362711.878)\n",
       "4      26           Szczytnicka  POINT (363877.247 362685.057)"
      ],
      "text/html": "<div>\n<style scoped>\n    .dataframe tbody tr th:only-of-type {\n        vertical-align: middle;\n    }\n\n    .dataframe tbody tr th {\n        vertical-align: top;\n    }\n\n    .dataframe thead th {\n        text-align: right;\n    }\n</style>\n<table border=\"1\" class=\"dataframe\">\n  <thead>\n    <tr style=\"text-align: right;\">\n      <th></th>\n      <th>NUMBER</th>\n      <th>NAME</th>\n      <th>geometry</th>\n    </tr>\n  </thead>\n  <tbody>\n    <tr>\n      <th>0</th>\n      <td>22</td>\n      <td>Komandorska/Swobodna</td>\n      <td>POINT (362044.353 360502.534)</td>\n    </tr>\n    <tr>\n      <th>1</th>\n      <td>23</td>\n      <td>Centrum Południowe</td>\n      <td>POINT (361753.043 360767.194)</td>\n    </tr>\n    <tr>\n      <th>2</th>\n      <td>24</td>\n      <td>Stysia</td>\n      <td>POINT (361487.550 361003.421)</td>\n    </tr>\n    <tr>\n      <th>3</th>\n      <td>25</td>\n      <td>Ostrów Tumski</td>\n      <td>POINT (363312.469 362711.878)</td>\n    </tr>\n    <tr>\n      <th>4</th>\n      <td>26</td>\n      <td>Szczytnicka</td>\n      <td>POINT (363877.247 362685.057)</td>\n    </tr>\n  </tbody>\n</table>\n</div>"
     },
     "metadata": {},
     "execution_count": 71
    }
   ],
   "source": [
    "city_regions.head()"
   ]
  },
  {
   "source": [
    "## City regions info"
   ],
   "cell_type": "markdown",
   "metadata": {}
  },
  {
   "cell_type": "code",
   "execution_count": 72,
   "metadata": {},
   "outputs": [],
   "source": [
    "regions_info = pd.read_excel('../../data/raw/Etap_II_BIG_DATA_szacunki_liczby_mieszkancow_i_miejsc_pracy.xlsx', 'Wrocław', engine='openpyxl', header=[0,1, 2])\n",
    "\n",
    "# flat columns names\n",
    "new_columns = []\n",
    "i = 1\n",
    "for col in regions_info.columns:\n",
    "    next_col = col[2]\n",
    "    if next_col in new_columns:\n",
    "        next_col = next_col + '_' + str(i)\n",
    "        i += 1\n",
    "    new_columns.append(next_col)\n",
    "\n",
    "regions_info.columns = new_columns\n",
    "\n",
    "# select and rename columns\n",
    "columns = {\n",
    "    'REJON_poprawny': 'Regions',\n",
    "    'REJON_AGR': 'Regions_agr',\n",
    "    'NAME,C,254': 'Region_name',\n",
    "    'BIURA,N,10,0': 'Objects_offices',\n",
    "    'HANDEL,N,10,0': 'Objects_shops',\n",
    "    'MIESZKANIA,N,10,0': 'Objects_apartments',\n",
    "    'PRZEMYSL,N,10,0': 'Objects_industry',\n",
    "    'SZKOLY,N,10,0': 'Objects_schools',\n",
    "    'UCZELNIE,N,10,0': 'Objects_universitites',\n",
    "    'Mi': 'Poluation_UM',\n",
    "    'Mi_6+': 'Population_6plus_UM',\n",
    "    'liczba mieszkańców z danych BIG DATA': 'Population_BD',\n",
    "    'Metoda Autorska - Ostateczna liczba mieszkańców 6+ w poszczególnych rejonach': 'Population_AUT',\n",
    "    'Metoda 1 \\nLICZBA KART SIM „NIERUSZAJĄCYCH SIĘ” W GODZINACH NOCNYCH DLA KAŻDEGO REJONU': 'Population_MET1',\n",
    "    'Metoda 2 \\nLICZBA KART SIM ROZPOCZYNAJĄCYCH PRZEMIESZCZENIE W GODZINACH SZCZYTU PORANNEGO DLA KAŻDEGO REJONU': 'Population_MET2',\n",
    "    'MIEJSCA PRACY*': 'Jobs_GUS',\n",
    "    'Metoda Autorska - Liczba miejsc pracy z danych BIG DATA\\n(+ uczniowie, studenci)': 'Jobs_AUT',\n",
    "    'Metoda 3 \\nLICZBA KART SIM „NIERUSZAJĄCYCH SIĘ” W GODZINACH 11-12 i 12-13 DLA KAŻDEGO REJONU': 'Jobs_MET3',\n",
    "    'Metoda 4 \\nLICZBA KART SIM KOŃCZĄCYCH PRZEMIESZCZENIE W GODZINACH SZCZYTU PORANNEGO DLA KAŻDEGO REJONU': 'Jobs_MET4'\n",
    "}\n",
    "\n",
    "regions_info = regions_info[list(columns.keys())]\n",
    "regions_info = regions_info.rename(columns=columns)"
   ]
  },
  {
   "cell_type": "code",
   "execution_count": 73,
   "metadata": {},
   "outputs": [
    {
     "output_type": "execute_result",
     "data": {
      "text/plain": [
       "   Regions Regions_agr       Region_name  Objects_offices  Objects_shops  \\\n",
       "0      1.0         A10             Rynek         106538.0        58760.0   \n",
       "1      2.0          A9               UWr          12954.0         4082.0   \n",
       "2      3.0          A9      Hala Targowa           9500.0        12060.0   \n",
       "3      4.0         A11  Pl. Dominikański          70156.0       104991.0   \n",
       "4      5.0         A11            Skargi          13656.0        10927.0   \n",
       "\n",
       "   Objects_apartments  Objects_industry  Objects_schools  \\\n",
       "0            131606.0             288.0              0.0   \n",
       "1            101166.0            3824.0            244.0   \n",
       "2             62071.0             271.0            434.0   \n",
       "3             64536.0             188.0              0.0   \n",
       "4             60003.0             286.0           1785.0   \n",
       "\n",
       "   Objects_universitites  Poluation_UM  Population_6plus_UM  Population_BD  \\\n",
       "0                    0.0        1695.0               1645.0         5785.0   \n",
       "1                 5911.0        1719.0               1657.0          565.0   \n",
       "2                 1412.0        1301.0               1253.0         1348.0   \n",
       "3                    0.0         650.0                620.0          704.0   \n",
       "4                    0.0        1072.0               1034.0          696.0   \n",
       "\n",
       "   Population_AUT  Population_MET1  Population_MET2  Jobs_GUS  Jobs_AUT  \\\n",
       "0     1698.360550           2714.0           2105.0   10354.0    6986.0   \n",
       "1     1710.749807            226.0            339.0    4798.0     609.0   \n",
       "2     1391.726457            548.0            713.0    4751.0    1139.0   \n",
       "3      726.836369            269.0            191.0    4250.0     722.0   \n",
       "4     1067.540917            400.0            348.0    5194.0     965.0   \n",
       "\n",
       "   Jobs_MET3  Jobs_MET4  \n",
       "0     9875.0     2262.0  \n",
       "1     1026.0      182.0  \n",
       "2     2349.0      730.0  \n",
       "3     1566.0      217.0  \n",
       "4     1305.0      321.0  "
      ],
      "text/html": "<div>\n<style scoped>\n    .dataframe tbody tr th:only-of-type {\n        vertical-align: middle;\n    }\n\n    .dataframe tbody tr th {\n        vertical-align: top;\n    }\n\n    .dataframe thead th {\n        text-align: right;\n    }\n</style>\n<table border=\"1\" class=\"dataframe\">\n  <thead>\n    <tr style=\"text-align: right;\">\n      <th></th>\n      <th>Regions</th>\n      <th>Regions_agr</th>\n      <th>Region_name</th>\n      <th>Objects_offices</th>\n      <th>Objects_shops</th>\n      <th>Objects_apartments</th>\n      <th>Objects_industry</th>\n      <th>Objects_schools</th>\n      <th>Objects_universitites</th>\n      <th>Poluation_UM</th>\n      <th>Population_6plus_UM</th>\n      <th>Population_BD</th>\n      <th>Population_AUT</th>\n      <th>Population_MET1</th>\n      <th>Population_MET2</th>\n      <th>Jobs_GUS</th>\n      <th>Jobs_AUT</th>\n      <th>Jobs_MET3</th>\n      <th>Jobs_MET4</th>\n    </tr>\n  </thead>\n  <tbody>\n    <tr>\n      <th>0</th>\n      <td>1.0</td>\n      <td>A10</td>\n      <td>Rynek</td>\n      <td>106538.0</td>\n      <td>58760.0</td>\n      <td>131606.0</td>\n      <td>288.0</td>\n      <td>0.0</td>\n      <td>0.0</td>\n      <td>1695.0</td>\n      <td>1645.0</td>\n      <td>5785.0</td>\n      <td>1698.360550</td>\n      <td>2714.0</td>\n      <td>2105.0</td>\n      <td>10354.0</td>\n      <td>6986.0</td>\n      <td>9875.0</td>\n      <td>2262.0</td>\n    </tr>\n    <tr>\n      <th>1</th>\n      <td>2.0</td>\n      <td>A9</td>\n      <td>UWr</td>\n      <td>12954.0</td>\n      <td>4082.0</td>\n      <td>101166.0</td>\n      <td>3824.0</td>\n      <td>244.0</td>\n      <td>5911.0</td>\n      <td>1719.0</td>\n      <td>1657.0</td>\n      <td>565.0</td>\n      <td>1710.749807</td>\n      <td>226.0</td>\n      <td>339.0</td>\n      <td>4798.0</td>\n      <td>609.0</td>\n      <td>1026.0</td>\n      <td>182.0</td>\n    </tr>\n    <tr>\n      <th>2</th>\n      <td>3.0</td>\n      <td>A9</td>\n      <td>Hala Targowa</td>\n      <td>9500.0</td>\n      <td>12060.0</td>\n      <td>62071.0</td>\n      <td>271.0</td>\n      <td>434.0</td>\n      <td>1412.0</td>\n      <td>1301.0</td>\n      <td>1253.0</td>\n      <td>1348.0</td>\n      <td>1391.726457</td>\n      <td>548.0</td>\n      <td>713.0</td>\n      <td>4751.0</td>\n      <td>1139.0</td>\n      <td>2349.0</td>\n      <td>730.0</td>\n    </tr>\n    <tr>\n      <th>3</th>\n      <td>4.0</td>\n      <td>A11</td>\n      <td>Pl. Dominikański</td>\n      <td>70156.0</td>\n      <td>104991.0</td>\n      <td>64536.0</td>\n      <td>188.0</td>\n      <td>0.0</td>\n      <td>0.0</td>\n      <td>650.0</td>\n      <td>620.0</td>\n      <td>704.0</td>\n      <td>726.836369</td>\n      <td>269.0</td>\n      <td>191.0</td>\n      <td>4250.0</td>\n      <td>722.0</td>\n      <td>1566.0</td>\n      <td>217.0</td>\n    </tr>\n    <tr>\n      <th>4</th>\n      <td>5.0</td>\n      <td>A11</td>\n      <td>Skargi</td>\n      <td>13656.0</td>\n      <td>10927.0</td>\n      <td>60003.0</td>\n      <td>286.0</td>\n      <td>1785.0</td>\n      <td>0.0</td>\n      <td>1072.0</td>\n      <td>1034.0</td>\n      <td>696.0</td>\n      <td>1067.540917</td>\n      <td>400.0</td>\n      <td>348.0</td>\n      <td>5194.0</td>\n      <td>965.0</td>\n      <td>1305.0</td>\n      <td>321.0</td>\n    </tr>\n  </tbody>\n</table>\n</div>"
     },
     "metadata": {},
     "execution_count": 73
    }
   ],
   "source": [
    "regions_info.head()"
   ]
  },
  {
   "source": [
    "## Merge dfs"
   ],
   "cell_type": "markdown",
   "metadata": {}
  },
  {
   "cell_type": "code",
   "execution_count": 74,
   "metadata": {},
   "outputs": [
    {
     "output_type": "execute_result",
     "data": {
      "text/plain": [
       "   Region                  Name                       geometry Regions_agr  \\\n",
       "0      22  Komandorska/Swobodna  POINT (362044.353 360502.534)          22   \n",
       "1      23    Centrum Południowe  POINT (361753.043 360767.194)          23   \n",
       "2      24                Stysia  POINT (361487.550 361003.421)          24   \n",
       "3      25         Ostrów Tumski  POINT (363312.469 362711.878)          A3   \n",
       "4      26           Szczytnicka  POINT (363877.247 362685.057)          26   \n",
       "\n",
       "            Region_name  Objects_offices  Objects_shops  Objects_apartments  \\\n",
       "0  Komandorska/Swobodna             20.0         3886.0            132354.0   \n",
       "1    Centrum Południowe          37467.0        75850.0            130197.0   \n",
       "2                Stysia           5155.0        11262.0            165949.0   \n",
       "3         Ostrów Tumski            293.0         8508.0             74826.0   \n",
       "4           Szczytnicka           4515.0         1869.0            239115.0   \n",
       "\n",
       "   Objects_industry  Objects_schools  ...  Poluation_UM  Population_6plus_UM  \\\n",
       "0              63.0            492.0  ...        3213.0               3102.0   \n",
       "1             186.0              0.0  ...        2404.0               2303.0   \n",
       "2              87.0            638.0  ...        3769.0               3615.0   \n",
       "3             216.0              0.0  ...         794.0                774.0   \n",
       "4             162.0            903.0  ...        4906.0               4685.0   \n",
       "\n",
       "   Population_BD  Population_AUT  Population_MET1  Population_MET2  Jobs_GUS  \\\n",
       "0         1278.0     3202.622752            574.0            374.0    1255.0   \n",
       "1         6508.0     2377.704771           2758.0           2418.0   10258.0   \n",
       "2         4959.0     5119.860164           1861.0           1070.0    1373.0   \n",
       "3         2497.0      799.107031           1017.0            739.0     413.0   \n",
       "4         2845.0     4836.972145           1026.0           1061.0    1468.0   \n",
       "\n",
       "   Jobs_AUT  Jobs_MET3  Jobs_MET4  \n",
       "0    1200.0     1609.0      478.0  \n",
       "1    4750.0     5463.0     1748.0  \n",
       "2    2296.0     2862.0      626.0  \n",
       "3    1479.0     2088.0      722.0  \n",
       "4    1522.0     1748.0      817.0  \n",
       "\n",
       "[5 rows x 21 columns]"
      ],
      "text/html": "<div>\n<style scoped>\n    .dataframe tbody tr th:only-of-type {\n        vertical-align: middle;\n    }\n\n    .dataframe tbody tr th {\n        vertical-align: top;\n    }\n\n    .dataframe thead th {\n        text-align: right;\n    }\n</style>\n<table border=\"1\" class=\"dataframe\">\n  <thead>\n    <tr style=\"text-align: right;\">\n      <th></th>\n      <th>Region</th>\n      <th>Name</th>\n      <th>geometry</th>\n      <th>Regions_agr</th>\n      <th>Region_name</th>\n      <th>Objects_offices</th>\n      <th>Objects_shops</th>\n      <th>Objects_apartments</th>\n      <th>Objects_industry</th>\n      <th>Objects_schools</th>\n      <th>...</th>\n      <th>Poluation_UM</th>\n      <th>Population_6plus_UM</th>\n      <th>Population_BD</th>\n      <th>Population_AUT</th>\n      <th>Population_MET1</th>\n      <th>Population_MET2</th>\n      <th>Jobs_GUS</th>\n      <th>Jobs_AUT</th>\n      <th>Jobs_MET3</th>\n      <th>Jobs_MET4</th>\n    </tr>\n  </thead>\n  <tbody>\n    <tr>\n      <th>0</th>\n      <td>22</td>\n      <td>Komandorska/Swobodna</td>\n      <td>POINT (362044.353 360502.534)</td>\n      <td>22</td>\n      <td>Komandorska/Swobodna</td>\n      <td>20.0</td>\n      <td>3886.0</td>\n      <td>132354.0</td>\n      <td>63.0</td>\n      <td>492.0</td>\n      <td>...</td>\n      <td>3213.0</td>\n      <td>3102.0</td>\n      <td>1278.0</td>\n      <td>3202.622752</td>\n      <td>574.0</td>\n      <td>374.0</td>\n      <td>1255.0</td>\n      <td>1200.0</td>\n      <td>1609.0</td>\n      <td>478.0</td>\n    </tr>\n    <tr>\n      <th>1</th>\n      <td>23</td>\n      <td>Centrum Południowe</td>\n      <td>POINT (361753.043 360767.194)</td>\n      <td>23</td>\n      <td>Centrum Południowe</td>\n      <td>37467.0</td>\n      <td>75850.0</td>\n      <td>130197.0</td>\n      <td>186.0</td>\n      <td>0.0</td>\n      <td>...</td>\n      <td>2404.0</td>\n      <td>2303.0</td>\n      <td>6508.0</td>\n      <td>2377.704771</td>\n      <td>2758.0</td>\n      <td>2418.0</td>\n      <td>10258.0</td>\n      <td>4750.0</td>\n      <td>5463.0</td>\n      <td>1748.0</td>\n    </tr>\n    <tr>\n      <th>2</th>\n      <td>24</td>\n      <td>Stysia</td>\n      <td>POINT (361487.550 361003.421)</td>\n      <td>24</td>\n      <td>Stysia</td>\n      <td>5155.0</td>\n      <td>11262.0</td>\n      <td>165949.0</td>\n      <td>87.0</td>\n      <td>638.0</td>\n      <td>...</td>\n      <td>3769.0</td>\n      <td>3615.0</td>\n      <td>4959.0</td>\n      <td>5119.860164</td>\n      <td>1861.0</td>\n      <td>1070.0</td>\n      <td>1373.0</td>\n      <td>2296.0</td>\n      <td>2862.0</td>\n      <td>626.0</td>\n    </tr>\n    <tr>\n      <th>3</th>\n      <td>25</td>\n      <td>Ostrów Tumski</td>\n      <td>POINT (363312.469 362711.878)</td>\n      <td>A3</td>\n      <td>Ostrów Tumski</td>\n      <td>293.0</td>\n      <td>8508.0</td>\n      <td>74826.0</td>\n      <td>216.0</td>\n      <td>0.0</td>\n      <td>...</td>\n      <td>794.0</td>\n      <td>774.0</td>\n      <td>2497.0</td>\n      <td>799.107031</td>\n      <td>1017.0</td>\n      <td>739.0</td>\n      <td>413.0</td>\n      <td>1479.0</td>\n      <td>2088.0</td>\n      <td>722.0</td>\n    </tr>\n    <tr>\n      <th>4</th>\n      <td>26</td>\n      <td>Szczytnicka</td>\n      <td>POINT (363877.247 362685.057)</td>\n      <td>26</td>\n      <td>Szczytnicka</td>\n      <td>4515.0</td>\n      <td>1869.0</td>\n      <td>239115.0</td>\n      <td>162.0</td>\n      <td>903.0</td>\n      <td>...</td>\n      <td>4906.0</td>\n      <td>4685.0</td>\n      <td>2845.0</td>\n      <td>4836.972145</td>\n      <td>1026.0</td>\n      <td>1061.0</td>\n      <td>1468.0</td>\n      <td>1522.0</td>\n      <td>1748.0</td>\n      <td>817.0</td>\n    </tr>\n  </tbody>\n</table>\n<p>5 rows × 21 columns</p>\n</div>"
     },
     "metadata": {},
     "execution_count": 74
    }
   ],
   "source": [
    "gdf = city_regions.merge(regions_info.rename(columns={'Regions': 'NUMBER'}).dropna(), on='NUMBER')\n",
    "gdf = gdf.rename(columns={'NUMBER': 'Region', 'NAME':'Name'})\n",
    "gdf.head()"
   ]
  },
  {
   "source": [
    "## Distances between regions"
   ],
   "cell_type": "markdown",
   "metadata": {}
  },
  {
   "cell_type": "code",
   "execution_count": 76,
   "metadata": {},
   "outputs": [
    {
     "output_type": "execute_result",
     "data": {
      "text/plain": [
       "shapely.geometry.point.Point"
      ]
     },
     "metadata": {},
     "execution_count": 76
    }
   ],
   "source": [
    "type(gdf.iloc[0]['geometry'])"
   ]
  },
  {
   "cell_type": "code",
   "execution_count": 77,
   "metadata": {},
   "outputs": [
    {
     "output_type": "execute_result",
     "data": {
      "text/plain": [
       "440.86286944122725"
      ]
     },
     "metadata": {},
     "execution_count": 77
    }
   ],
   "source": [
    "gdf[gdf['Region']==1].iloc[0]['geometry'].distance(gdf[gdf['Region']==4].iloc[0]['geometry'])"
   ]
  },
  {
   "cell_type": "code",
   "execution_count": 83,
   "metadata": {},
   "outputs": [
    {
     "output_type": "stream",
     "name": "stderr",
     "text": [
      "100%|██████████| 375/375 [07:18<00:00,  1.17s/it]\n"
     ]
    }
   ],
   "source": [
    "regions = gdf['Region'].to_list()\n",
    "\n",
    "distance_between_regions = {}\n",
    "\n",
    "for i in tqdm(regions):\n",
    "    distance_between_regions[i] = {}\n",
    "    \n",
    "    for j in regions:\n",
    "        distance = gdf[gdf['Region']==i].iloc[0]['geometry'].distance(gdf[gdf['Region']==j].iloc[0]['geometry'])\n",
    "        distance_between_regions[i][j] = distance"
   ]
  },
  {
   "cell_type": "code",
   "execution_count": 85,
   "metadata": {},
   "outputs": [],
   "source": [
    "with open('../../data/processed/kr/distance_between_regions.json', 'w') as f:\n",
    "    json.dump(distance_between_regions, f) "
   ]
  },
  {
   "source": [
    "## Gravity models"
   ],
   "cell_type": "markdown",
   "metadata": {}
  },
  {
   "cell_type": "code",
   "execution_count": 29,
   "metadata": {},
   "outputs": [],
   "source": [
    "dest = ['dom', 'praca', 'szkola', 'uczelnia', 'inne']"
   ]
  },
  {
   "cell_type": "code",
   "execution_count": 86,
   "metadata": {},
   "outputs": [],
   "source": [
    "columns_for_dest = {\n",
    "    'dom': 'Population_AUT',\n",
    "    'praca': 'Jobs_AUT',\n",
    "    'szkola': 'Objects_schools',\n",
    "    'uczelnia': 'Objects_universitites',\n",
    "    'inne': 1\n",
    "}"
   ]
  },
  {
   "cell_type": "code",
   "execution_count": 105,
   "metadata": {
    "tags": []
   },
   "outputs": [
    {
     "output_type": "stream",
     "name": "stderr",
     "text": [
      "100%|██████████| 375/375 [03:09<00:00,  1.98it/s]\n"
     ]
    }
   ],
   "source": [
    "gravity = {}\n",
    "fill_0_distance_with = 150\n",
    "\n",
    "for destination in dest:\n",
    "    gravity[destination] = {}\n",
    "\n",
    "    for i in tqdm(regions):\n",
    "        gravity[destination][i] = {}\n",
    "\n",
    "        for j in regions:\n",
    "\n",
    "            if type(columns_for_dest[destination]) == str:\n",
    "                value_j = gdf[gdf['Region']==j].iloc[0][columns_for_dest[destination]]\n",
    "            else:\n",
    "                value_j = columns_for_dest[destination]\n",
    "\n",
    "            distance = distance_between_regions[i][j]\n",
    "            if distance == 0:\n",
    "                distance = fill_0_distance_with\n",
    "\n",
    "            gravity[destination][i][j] = value_j / distance\n",
    "\n",
    "        # normalization\n",
    "        s = np.sum(np.array(list(gravity[destination][i].values())))\n",
    "        for j, g in gravity[destination][i].items():\n",
    "            gravity[destination][i][j] = g / s"
   ]
  },
  {
   "cell_type": "code",
   "execution_count": null,
   "metadata": {},
   "outputs": [],
   "source": [
    "with open('../../data/processed/kr/gravity.json', 'w') as f:\n",
    "    json.dump(gravity, f) "
   ]
  }
 ]
}