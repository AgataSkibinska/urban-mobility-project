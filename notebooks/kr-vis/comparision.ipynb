{
 "metadata": {
  "language_info": {
   "codemirror_mode": {
    "name": "ipython",
    "version": 3
   },
   "file_extension": ".py",
   "mimetype": "text/x-python",
   "name": "python",
   "nbconvert_exporter": "python",
   "pygments_lexer": "ipython3",
   "version": "3.8.5-final"
  },
  "orig_nbformat": 2,
  "kernelspec": {
   "name": "python38564bitmobilityvenvvenvb8bc7019d78143fca132b66bd746cad0",
   "display_name": "Python 3.8.5 64-bit ('mobility_venv': venv)",
   "language": "python"
  }
 },
 "nbformat": 4,
 "nbformat_minor": 2,
 "cells": [
  {
   "cell_type": "code",
   "execution_count": 270,
   "metadata": {},
   "outputs": [],
   "source": [
    "import json\n",
    "import os\n",
    "from tqdm import tqdm\n",
    "import plotly.graph_objects as go\n",
    "import plotly.express as px\n",
    "from collections import OrderedDict\n",
    "import numpy as np\n",
    "from scipy import stats\n",
    "import plotly.figure_factory as ff"
   ]
  },
  {
   "cell_type": "code",
   "execution_count": 59,
   "metadata": {},
   "outputs": [],
   "source": [
    "in_folder_path = '../../results/v2_out_2'"
   ]
  },
  {
   "cell_type": "code",
   "execution_count": 163,
   "metadata": {},
   "outputs": [
    {
     "output_type": "stream",
     "name": "stderr",
     "text": [
      "100%|██████████| 7/7 [00:00<00:00, 1740.48it/s]\n"
     ]
    }
   ],
   "source": [
    "modal_splits = {}\n",
    "\n",
    "for f_name in tqdm(os.listdir(in_folder_path)):\n",
    "    if f_name.startswith('ms'):\n",
    "        modal_name = f_name.replace('.json', '')\n",
    "\n",
    "        with open(in_folder_path+'/'+f_name, 'r') as f:\n",
    "            ms = json.load(f)\n",
    "\n",
    "        drivers_mean = ms['car_driver']['median']\n",
    "        passengers_mean = ms['car_passenger']['median']\n",
    "        drivers_std = ms['car_driver']['std']\n",
    "        passengers_std = ms['car_passenger']['std']\n",
    "        \n",
    "        ms['car'] = {}\n",
    "        s = drivers_mean + passengers_mean\n",
    "        ms['car']['median'] = s\n",
    "        ms['car']['std'] = (((drivers_mean / s) * drivers_std) + ((passengers_mean / s) * passengers_std)) / 2\n",
    "        ms['car']['list'] = [x[0] + x[1] for x in zip(ms['car_driver']['list'], ms['car_passenger']['list'])]\n",
    "\n",
    "        del ms['car_driver']\n",
    "        del ms['car_passenger']\n",
    "\n",
    "        \n",
    "        ms = OrderedDict((k, ms[k]) for k in [\n",
    "            'car', 'public', 'pedestrian', 'bicycle'\n",
    "        ])\n",
    "\n",
    "        modal_splits[modal_name] = ms\n"
   ]
  },
  {
   "source": [
    "## Grouped bar plots"
   ],
   "cell_type": "markdown",
   "metadata": {}
  },
  {
   "source": [
    "### Household_cars"
   ],
   "cell_type": "markdown",
   "metadata": {}
  },
  {
   "cell_type": "code",
   "execution_count": 164,
   "metadata": {},
   "outputs": [],
   "source": [
    "# modes=list(list(modal_splits.values())[0].keys())\n",
    "\n",
    "# mean_0_0_0 = modal_splits['ms_scenario_0_0_0'].values()\n",
    "# mean_0_0_0 = list(map(lambda x: x['median'], mean_0_0_0))\n",
    "\n",
    "# mean_0_0_15 = modal_splits['ms_scenario_0_0_15'].values()\n",
    "# mean_0_0_15 = list(map(lambda x: x['median'], mean_0_0_15))\n",
    "\n",
    "# mean_0_0_3 = modal_splits['ms_scenario_0_0_3'].values()\n",
    "# mean_0_0_3 = list(map(lambda x: x['median'], mean_0_0_3))\n",
    "\n",
    "# fig = go.Figure(data=[\n",
    "#     go.Bar(name='0', x=modes, y=mean_0_0_0),\n",
    "#     go.Bar(name='15', x=modes, y=mean_0_0_15),\n",
    "#     go.Bar(name='3', x=modes, y=mean_0_0_3)\n",
    "# ])\n",
    "# # Change the bar mode\n",
    "# fig.update_layout(barmode='group')\n",
    "# fig.show()"
   ]
  },
  {
   "cell_type": "code",
   "execution_count": 169,
   "metadata": {},
   "outputs": [
    {
     "output_type": "execute_result",
     "data": {
      "text/plain": [
       "array([39.33647282, 39.30399593, 39.35667313, 39.38313249, 39.30022521,\n",
       "       39.34613399, 39.1878987 , 39.3720382 , 39.26016542, 39.34088001,\n",
       "       39.32001129, 39.26334183, 39.28321253, 39.29439602, 39.31043389,\n",
       "       39.2034812 , 39.32720792, 39.29519167, 39.30748425, 39.33281696,\n",
       "       39.23541034, 39.3804003 , 39.44691605, 39.38286526, 39.33908729,\n",
       "       39.24144717, 39.45791515, 39.22946982, 39.25581573, 39.39756113,\n",
       "       39.26111691, 39.15216194, 39.27531807, 39.36495966, 39.1732548 ,\n",
       "       39.26412284, 39.39059046, 39.31569281, 39.27621222, 39.3391617 ,\n",
       "       39.27037172, 39.2605455 , 39.30565165, 39.38187652, 39.37695708,\n",
       "       39.36027054, 39.41360861, 39.34714292, 39.22200835, 39.25585466,\n",
       "       39.42198577, 39.3665144 , 39.24556149, 39.2623248 , 39.39662577,\n",
       "       39.2922371 , 39.25119624, 39.30196594, 39.33818198, 39.42608417,\n",
       "       39.41597333, 39.34939251, 39.34968965, 39.26510874, 39.09741805,\n",
       "       39.37917456, 39.3673066 , 39.2442153 , 39.31743176, 39.38519513,\n",
       "       39.23336674, 39.30350945, 39.31762347, 39.30344304, 39.36263531,\n",
       "       39.21072858, 39.29476371, 39.20298726, 39.23285038, 39.41175163,\n",
       "       39.26443375, 39.32034875, 39.47481682, 39.33621716, 39.29197176,\n",
       "       39.35560945, 39.31922428, 39.30918072, 39.36957303, 39.3203832 ,\n",
       "       39.44393332, 39.31688652, 39.27219367, 39.24885729, 39.37996883,\n",
       "       39.36000967, 39.409655  , 39.44074   , 39.38803561, 39.37820426])"
      ]
     },
     "metadata": {},
     "execution_count": 169
    }
   ],
   "source": []
  },
  {
   "cell_type": "code",
   "execution_count": 173,
   "metadata": {},
   "outputs": [
    {
     "output_type": "execute_result",
     "data": {
      "text/plain": [
       "(Mean(statistic=39.318464465961505, minmax=(39.30669022300055, 39.33023870892246)),\n",
       " Variance(statistic=0.005132259695634935, minmax=(0.004039994285301461, 0.006461426240990831)),\n",
       " Std_dev(statistic=0.07145539364346672, minmax=(0.0635609493738212, 0.08038299721328404)))"
      ]
     },
     "metadata": {},
     "execution_count": 173
    }
   ],
   "source": [
    "stats.bayes_mvs(np.array(modal_splits['ms_scenario_0_0_0']['car']['list']))"
   ]
  },
  {
   "cell_type": "code",
   "execution_count": 177,
   "metadata": {},
   "outputs": [
    {
     "output_type": "display_data",
     "data": {
      "application/vnd.plotly.v1+json": {
       "config": {
        "plotlyServerURL": "https://plot.ly"
       },
       "data": [
        {
         "insidetextanchor": "middle",
         "name": "Samochód",
         "orientation": "h",
         "text": [
          "33.5%",
          "36.4%",
          "39.3%"
         ],
         "textposition": "auto",
         "type": "bar",
         "x": [
          33.49080686318747,
          36.409518057268286,
          39.3184805526735
         ],
         "y": [
          "30%",
          "15%",
          "0%"
         ]
        },
        {
         "insidetextanchor": "middle",
         "name": "Komunikacja publiczna",
         "orientation": "h",
         "text": [
          "34.8%",
          "33.1%",
          "31.4%"
         ],
         "textposition": "auto",
         "type": "bar",
         "x": [
          34.76138135931373,
          33.08051485588348,
          31.39060308027115
         ],
         "y": [
          "30%",
          "15%",
          "0%"
         ]
        },
        {
         "insidetextanchor": "middle",
         "name": "Pieszo",
         "orientation": "h",
         "text": [
          "21.6%",
          "20.9%",
          "20.3%"
         ],
         "textposition": "auto",
         "type": "bar",
         "x": [
          21.562548277792125,
          20.901003790400758,
          20.25638307678019
         ],
         "y": [
          "30%",
          "15%",
          "0%"
         ]
        },
        {
         "insidetextanchor": "middle",
         "name": "Rower",
         "orientation": "h",
         "text": [
          "10.2%",
          "9.6%",
          "9.0%"
         ],
         "textposition": "auto",
         "type": "bar",
         "x": [
          10.180523747647118,
          9.617044376845381,
          9.028852604675695
         ],
         "y": [
          "30%",
          "15%",
          "0%"
         ]
        }
       ],
       "layout": {
        "barmode": "stack",
        "legend": {
         "orientation": "h",
         "traceorder": "normal",
         "x": 0.01,
         "xanchor": "left",
         "y": 1.15,
         "yanchor": "top"
        },
        "margin": {
         "b": 100,
         "l": 100,
         "r": 100,
         "t": 100
        },
        "template": {
         "data": {
          "bar": [
           {
            "error_x": {
             "color": "#2a3f5f"
            },
            "error_y": {
             "color": "#2a3f5f"
            },
            "marker": {
             "line": {
              "color": "#E5ECF6",
              "width": 0.5
             }
            },
            "type": "bar"
           }
          ],
          "barpolar": [
           {
            "marker": {
             "line": {
              "color": "#E5ECF6",
              "width": 0.5
             }
            },
            "type": "barpolar"
           }
          ],
          "carpet": [
           {
            "aaxis": {
             "endlinecolor": "#2a3f5f",
             "gridcolor": "white",
             "linecolor": "white",
             "minorgridcolor": "white",
             "startlinecolor": "#2a3f5f"
            },
            "baxis": {
             "endlinecolor": "#2a3f5f",
             "gridcolor": "white",
             "linecolor": "white",
             "minorgridcolor": "white",
             "startlinecolor": "#2a3f5f"
            },
            "type": "carpet"
           }
          ],
          "choropleth": [
           {
            "colorbar": {
             "outlinewidth": 0,
             "ticks": ""
            },
            "type": "choropleth"
           }
          ],
          "contour": [
           {
            "colorbar": {
             "outlinewidth": 0,
             "ticks": ""
            },
            "colorscale": [
             [
              0,
              "#0d0887"
             ],
             [
              0.1111111111111111,
              "#46039f"
             ],
             [
              0.2222222222222222,
              "#7201a8"
             ],
             [
              0.3333333333333333,
              "#9c179e"
             ],
             [
              0.4444444444444444,
              "#bd3786"
             ],
             [
              0.5555555555555556,
              "#d8576b"
             ],
             [
              0.6666666666666666,
              "#ed7953"
             ],
             [
              0.7777777777777778,
              "#fb9f3a"
             ],
             [
              0.8888888888888888,
              "#fdca26"
             ],
             [
              1,
              "#f0f921"
             ]
            ],
            "type": "contour"
           }
          ],
          "contourcarpet": [
           {
            "colorbar": {
             "outlinewidth": 0,
             "ticks": ""
            },
            "type": "contourcarpet"
           }
          ],
          "heatmap": [
           {
            "colorbar": {
             "outlinewidth": 0,
             "ticks": ""
            },
            "colorscale": [
             [
              0,
              "#0d0887"
             ],
             [
              0.1111111111111111,
              "#46039f"
             ],
             [
              0.2222222222222222,
              "#7201a8"
             ],
             [
              0.3333333333333333,
              "#9c179e"
             ],
             [
              0.4444444444444444,
              "#bd3786"
             ],
             [
              0.5555555555555556,
              "#d8576b"
             ],
             [
              0.6666666666666666,
              "#ed7953"
             ],
             [
              0.7777777777777778,
              "#fb9f3a"
             ],
             [
              0.8888888888888888,
              "#fdca26"
             ],
             [
              1,
              "#f0f921"
             ]
            ],
            "type": "heatmap"
           }
          ],
          "heatmapgl": [
           {
            "colorbar": {
             "outlinewidth": 0,
             "ticks": ""
            },
            "colorscale": [
             [
              0,
              "#0d0887"
             ],
             [
              0.1111111111111111,
              "#46039f"
             ],
             [
              0.2222222222222222,
              "#7201a8"
             ],
             [
              0.3333333333333333,
              "#9c179e"
             ],
             [
              0.4444444444444444,
              "#bd3786"
             ],
             [
              0.5555555555555556,
              "#d8576b"
             ],
             [
              0.6666666666666666,
              "#ed7953"
             ],
             [
              0.7777777777777778,
              "#fb9f3a"
             ],
             [
              0.8888888888888888,
              "#fdca26"
             ],
             [
              1,
              "#f0f921"
             ]
            ],
            "type": "heatmapgl"
           }
          ],
          "histogram": [
           {
            "marker": {
             "colorbar": {
              "outlinewidth": 0,
              "ticks": ""
             }
            },
            "type": "histogram"
           }
          ],
          "histogram2d": [
           {
            "colorbar": {
             "outlinewidth": 0,
             "ticks": ""
            },
            "colorscale": [
             [
              0,
              "#0d0887"
             ],
             [
              0.1111111111111111,
              "#46039f"
             ],
             [
              0.2222222222222222,
              "#7201a8"
             ],
             [
              0.3333333333333333,
              "#9c179e"
             ],
             [
              0.4444444444444444,
              "#bd3786"
             ],
             [
              0.5555555555555556,
              "#d8576b"
             ],
             [
              0.6666666666666666,
              "#ed7953"
             ],
             [
              0.7777777777777778,
              "#fb9f3a"
             ],
             [
              0.8888888888888888,
              "#fdca26"
             ],
             [
              1,
              "#f0f921"
             ]
            ],
            "type": "histogram2d"
           }
          ],
          "histogram2dcontour": [
           {
            "colorbar": {
             "outlinewidth": 0,
             "ticks": ""
            },
            "colorscale": [
             [
              0,
              "#0d0887"
             ],
             [
              0.1111111111111111,
              "#46039f"
             ],
             [
              0.2222222222222222,
              "#7201a8"
             ],
             [
              0.3333333333333333,
              "#9c179e"
             ],
             [
              0.4444444444444444,
              "#bd3786"
             ],
             [
              0.5555555555555556,
              "#d8576b"
             ],
             [
              0.6666666666666666,
              "#ed7953"
             ],
             [
              0.7777777777777778,
              "#fb9f3a"
             ],
             [
              0.8888888888888888,
              "#fdca26"
             ],
             [
              1,
              "#f0f921"
             ]
            ],
            "type": "histogram2dcontour"
           }
          ],
          "mesh3d": [
           {
            "colorbar": {
             "outlinewidth": 0,
             "ticks": ""
            },
            "type": "mesh3d"
           }
          ],
          "parcoords": [
           {
            "line": {
             "colorbar": {
              "outlinewidth": 0,
              "ticks": ""
             }
            },
            "type": "parcoords"
           }
          ],
          "pie": [
           {
            "automargin": true,
            "type": "pie"
           }
          ],
          "scatter": [
           {
            "marker": {
             "colorbar": {
              "outlinewidth": 0,
              "ticks": ""
             }
            },
            "type": "scatter"
           }
          ],
          "scatter3d": [
           {
            "line": {
             "colorbar": {
              "outlinewidth": 0,
              "ticks": ""
             }
            },
            "marker": {
             "colorbar": {
              "outlinewidth": 0,
              "ticks": ""
             }
            },
            "type": "scatter3d"
           }
          ],
          "scattercarpet": [
           {
            "marker": {
             "colorbar": {
              "outlinewidth": 0,
              "ticks": ""
             }
            },
            "type": "scattercarpet"
           }
          ],
          "scattergeo": [
           {
            "marker": {
             "colorbar": {
              "outlinewidth": 0,
              "ticks": ""
             }
            },
            "type": "scattergeo"
           }
          ],
          "scattergl": [
           {
            "marker": {
             "colorbar": {
              "outlinewidth": 0,
              "ticks": ""
             }
            },
            "type": "scattergl"
           }
          ],
          "scattermapbox": [
           {
            "marker": {
             "colorbar": {
              "outlinewidth": 0,
              "ticks": ""
             }
            },
            "type": "scattermapbox"
           }
          ],
          "scatterpolar": [
           {
            "marker": {
             "colorbar": {
              "outlinewidth": 0,
              "ticks": ""
             }
            },
            "type": "scatterpolar"
           }
          ],
          "scatterpolargl": [
           {
            "marker": {
             "colorbar": {
              "outlinewidth": 0,
              "ticks": ""
             }
            },
            "type": "scatterpolargl"
           }
          ],
          "scatterternary": [
           {
            "marker": {
             "colorbar": {
              "outlinewidth": 0,
              "ticks": ""
             }
            },
            "type": "scatterternary"
           }
          ],
          "surface": [
           {
            "colorbar": {
             "outlinewidth": 0,
             "ticks": ""
            },
            "colorscale": [
             [
              0,
              "#0d0887"
             ],
             [
              0.1111111111111111,
              "#46039f"
             ],
             [
              0.2222222222222222,
              "#7201a8"
             ],
             [
              0.3333333333333333,
              "#9c179e"
             ],
             [
              0.4444444444444444,
              "#bd3786"
             ],
             [
              0.5555555555555556,
              "#d8576b"
             ],
             [
              0.6666666666666666,
              "#ed7953"
             ],
             [
              0.7777777777777778,
              "#fb9f3a"
             ],
             [
              0.8888888888888888,
              "#fdca26"
             ],
             [
              1,
              "#f0f921"
             ]
            ],
            "type": "surface"
           }
          ],
          "table": [
           {
            "cells": {
             "fill": {
              "color": "#EBF0F8"
             },
             "line": {
              "color": "white"
             }
            },
            "header": {
             "fill": {
              "color": "#C8D4E3"
             },
             "line": {
              "color": "white"
             }
            },
            "type": "table"
           }
          ]
         },
         "layout": {
          "annotationdefaults": {
           "arrowcolor": "#2a3f5f",
           "arrowhead": 0,
           "arrowwidth": 1
          },
          "autotypenumbers": "strict",
          "coloraxis": {
           "colorbar": {
            "outlinewidth": 0,
            "ticks": ""
           }
          },
          "colorscale": {
           "diverging": [
            [
             0,
             "#8e0152"
            ],
            [
             0.1,
             "#c51b7d"
            ],
            [
             0.2,
             "#de77ae"
            ],
            [
             0.3,
             "#f1b6da"
            ],
            [
             0.4,
             "#fde0ef"
            ],
            [
             0.5,
             "#f7f7f7"
            ],
            [
             0.6,
             "#e6f5d0"
            ],
            [
             0.7,
             "#b8e186"
            ],
            [
             0.8,
             "#7fbc41"
            ],
            [
             0.9,
             "#4d9221"
            ],
            [
             1,
             "#276419"
            ]
           ],
           "sequential": [
            [
             0,
             "#0d0887"
            ],
            [
             0.1111111111111111,
             "#46039f"
            ],
            [
             0.2222222222222222,
             "#7201a8"
            ],
            [
             0.3333333333333333,
             "#9c179e"
            ],
            [
             0.4444444444444444,
             "#bd3786"
            ],
            [
             0.5555555555555556,
             "#d8576b"
            ],
            [
             0.6666666666666666,
             "#ed7953"
            ],
            [
             0.7777777777777778,
             "#fb9f3a"
            ],
            [
             0.8888888888888888,
             "#fdca26"
            ],
            [
             1,
             "#f0f921"
            ]
           ],
           "sequentialminus": [
            [
             0,
             "#0d0887"
            ],
            [
             0.1111111111111111,
             "#46039f"
            ],
            [
             0.2222222222222222,
             "#7201a8"
            ],
            [
             0.3333333333333333,
             "#9c179e"
            ],
            [
             0.4444444444444444,
             "#bd3786"
            ],
            [
             0.5555555555555556,
             "#d8576b"
            ],
            [
             0.6666666666666666,
             "#ed7953"
            ],
            [
             0.7777777777777778,
             "#fb9f3a"
            ],
            [
             0.8888888888888888,
             "#fdca26"
            ],
            [
             1,
             "#f0f921"
            ]
           ]
          },
          "colorway": [
           "#636efa",
           "#EF553B",
           "#00cc96",
           "#ab63fa",
           "#FFA15A",
           "#19d3f3",
           "#FF6692",
           "#B6E880",
           "#FF97FF",
           "#FECB52"
          ],
          "font": {
           "color": "#2a3f5f"
          },
          "geo": {
           "bgcolor": "white",
           "lakecolor": "white",
           "landcolor": "#E5ECF6",
           "showlakes": true,
           "showland": true,
           "subunitcolor": "white"
          },
          "hoverlabel": {
           "align": "left"
          },
          "hovermode": "closest",
          "mapbox": {
           "style": "light"
          },
          "paper_bgcolor": "white",
          "plot_bgcolor": "#E5ECF6",
          "polar": {
           "angularaxis": {
            "gridcolor": "white",
            "linecolor": "white",
            "ticks": ""
           },
           "bgcolor": "#E5ECF6",
           "radialaxis": {
            "gridcolor": "white",
            "linecolor": "white",
            "ticks": ""
           }
          },
          "scene": {
           "xaxis": {
            "backgroundcolor": "#E5ECF6",
            "gridcolor": "white",
            "gridwidth": 2,
            "linecolor": "white",
            "showbackground": true,
            "ticks": "",
            "zerolinecolor": "white"
           },
           "yaxis": {
            "backgroundcolor": "#E5ECF6",
            "gridcolor": "white",
            "gridwidth": 2,
            "linecolor": "white",
            "showbackground": true,
            "ticks": "",
            "zerolinecolor": "white"
           },
           "zaxis": {
            "backgroundcolor": "#E5ECF6",
            "gridcolor": "white",
            "gridwidth": 2,
            "linecolor": "white",
            "showbackground": true,
            "ticks": "",
            "zerolinecolor": "white"
           }
          },
          "shapedefaults": {
           "line": {
            "color": "#2a3f5f"
           }
          },
          "ternary": {
           "aaxis": {
            "gridcolor": "white",
            "linecolor": "white",
            "ticks": ""
           },
           "baxis": {
            "gridcolor": "white",
            "linecolor": "white",
            "ticks": ""
           },
           "bgcolor": "#E5ECF6",
           "caxis": {
            "gridcolor": "white",
            "linecolor": "white",
            "ticks": ""
           }
          },
          "title": {
           "x": 0.05
          },
          "xaxis": {
           "automargin": true,
           "gridcolor": "white",
           "linecolor": "white",
           "ticks": "",
           "title": {
            "standoff": 15
           },
           "zerolinecolor": "white",
           "zerolinewidth": 2
          },
          "yaxis": {
           "automargin": true,
           "gridcolor": "white",
           "linecolor": "white",
           "ticks": "",
           "title": {
            "standoff": 15
           },
           "zerolinecolor": "white",
           "zerolinewidth": 2
          }
         }
        },
        "xaxis": {
         "title": {
          "text": "Mediana udziału środka transportu we wszystkich podróżach"
         }
        },
        "yaxis": {
         "title": {
          "text": "Odsetek mieszkańców rezygnujących <br> z jednego samochodu"
         }
        }
       }
      }
     },
     "metadata": {}
    }
   ],
   "source": [
    "scenarios = ['30%', '15%', '0%']\n",
    "\n",
    "mean_0_0_0 = modal_splits['ms_scenario_0_0_0'].values()\n",
    "mean_0_0_0 = list(map(lambda x: x['median'], mean_0_0_0))\n",
    "\n",
    "mean_0_0_15 = modal_splits['ms_scenario_0_0_15'].values()\n",
    "mean_0_0_15 = list(map(lambda x: x['median'], mean_0_0_15))\n",
    "\n",
    "mean_0_0_3 = modal_splits['ms_scenario_0_0_3'].values()\n",
    "mean_0_0_3 = list(map(lambda x: x['median'], mean_0_0_3))\n",
    "\n",
    "fig = go.Figure()\n",
    "\n",
    "round_v = 1\n",
    "margin_size = 100\n",
    "\n",
    "# car\n",
    "y = scenarios\n",
    "x = [mean_0_0_3[0], mean_0_0_15[0], mean_0_0_0[0]]\n",
    "fig.add_trace(go.Bar(\n",
    "    y=y,\n",
    "    x=x,\n",
    "    name='Samochód',\n",
    "    orientation='h',\n",
    "    text=list(map(lambda v: str(round(v, round_v)) + \"%\", x)),\n",
    "    textposition='auto',\n",
    "    insidetextanchor='middle'\n",
    "))\n",
    "\n",
    "# publlic\n",
    "y = scenarios\n",
    "x = [mean_0_0_3[1], mean_0_0_15[1], mean_0_0_0[1]]\n",
    "fig.add_trace(go.Bar(\n",
    "    y=y,\n",
    "    x=x,\n",
    "    name='Komunikacja publiczna',\n",
    "    orientation='h',\n",
    "    text=list(map(lambda v: str(round(v, round_v))+\"%\", x)),\n",
    "    textposition='auto',\n",
    "    insidetextanchor='middle'\n",
    "))\n",
    "\n",
    "# pedestrian\n",
    "y = scenarios\n",
    "x = [mean_0_0_3[2], mean_0_0_15[2], mean_0_0_0[2]]\n",
    "fig.add_trace(go.Bar(\n",
    "    y=y,\n",
    "    x=x,\n",
    "    name='Pieszo',\n",
    "    orientation='h',\n",
    "    text=list(map(lambda v: str(round(v, round_v)) + \"%\", x)),\n",
    "    textposition='auto',\n",
    "    insidetextanchor='middle'\n",
    "))\n",
    "\n",
    "# bicycle\n",
    "y = scenarios\n",
    "x = [mean_0_0_3[3], mean_0_0_15[3], mean_0_0_0[3]]\n",
    "fig.add_trace(go.Bar(\n",
    "    y=y,\n",
    "    x=x,\n",
    "    name='Rower',\n",
    "    orientation='h',\n",
    "    text=list(map(lambda v: str(round(v, round_v)) + \"%\", x)),\n",
    "    textposition='auto',\n",
    "    insidetextanchor='middle'\n",
    "))\n",
    "\n",
    "# Change the bar mode\n",
    "fig.update_layout(\n",
    "    barmode='stack',\n",
    "    legend={\n",
    "        'traceorder':'normal',\n",
    "        'orientation': 'h',\n",
    "        'yanchor': 'top',\n",
    "        'y': 1.15,\n",
    "        'xanchor': 'left',\n",
    "        'x': 0.01\n",
    "    },\n",
    "    # title='Rozkład podróży na środki transportu dla scenariusza ...',\n",
    "    xaxis_title='Mediana udziału środka transportu we wszystkich podróżach',\n",
    "    yaxis_title='Odsetek mieszkańców rezygnujących <br> z jednego samochodu',\n",
    "    margin=dict(l=margin_size, r=margin_size, t=margin_size, b=margin_size),\n",
    ")\n",
    "\n",
    "# whisker_y_0 = 2\n",
    "\n",
    "# fig.add_shape(type=\"line\",\n",
    "#     x0=39.3, y0=whisker_y_0, x1=39.33, y1=whisker_y_0,\n",
    "#     line=dict(\n",
    "#         color=\"MediumPurple\",\n",
    "#         width=4,\n",
    "#     )\n",
    "# )\n",
    "fig.show()"
   ]
  },
  {
   "source": [
    "### Comfort + punctuality"
   ],
   "cell_type": "markdown",
   "metadata": {}
  },
  {
   "cell_type": "code",
   "execution_count": 122,
   "metadata": {},
   "outputs": [
    {
     "output_type": "display_data",
     "data": {
      "application/vnd.plotly.v1+json": {
       "config": {
        "plotlyServerURL": "https://plot.ly"
       },
       "data": [
        {
         "insidetextanchor": "middle",
         "name": "Samochód",
         "orientation": "h",
         "text": [
          "36.6%",
          "37.9%",
          "39.3%"
         ],
         "textposition": "auto",
         "type": "bar",
         "x": [
          36.61327006612169,
          37.942007149849054,
          39.3184805526735
         ],
         "y": [
          "30%",
          "15%",
          "0%"
         ]
        },
        {
         "insidetextanchor": "middle",
         "name": "Komunikacja publiczna",
         "orientation": "h",
         "text": [
          "34.2%",
          "32.8%",
          "31.4%"
         ],
         "textposition": "auto",
         "type": "bar",
         "x": [
          34.152833717985864,
          32.839347404511216,
          31.39060308027115
         ],
         "y": [
          "30%",
          "15%",
          "0%"
         ]
        },
        {
         "insidetextanchor": "middle",
         "name": "Pieszo",
         "orientation": "h",
         "text": [
          "20.5%",
          "20.4%",
          "20.3%"
         ],
         "textposition": "auto",
         "type": "bar",
         "x": [
          20.495062855117673,
          20.350731691661387,
          20.25638307678019
         ],
         "y": [
          "30%",
          "15%",
          "0%"
         ]
        },
        {
         "insidetextanchor": "middle",
         "name": "Rower",
         "orientation": "h",
         "text": [
          "8.7%",
          "8.9%",
          "9.0%"
         ],
         "textposition": "auto",
         "type": "bar",
         "x": [
          8.74145884415053,
          8.858021718843819,
          9.028852604675695
         ],
         "y": [
          "30%",
          "15%",
          "0%"
         ]
        }
       ],
       "layout": {
        "barmode": "stack",
        "legend": {
         "orientation": "h",
         "traceorder": "normal",
         "x": 0.01,
         "xanchor": "left",
         "y": 1.15,
         "yanchor": "top"
        },
        "margin": {
         "b": 100,
         "l": 100,
         "r": 100,
         "t": 100
        },
        "template": {
         "data": {
          "bar": [
           {
            "error_x": {
             "color": "#2a3f5f"
            },
            "error_y": {
             "color": "#2a3f5f"
            },
            "marker": {
             "line": {
              "color": "#E5ECF6",
              "width": 0.5
             }
            },
            "type": "bar"
           }
          ],
          "barpolar": [
           {
            "marker": {
             "line": {
              "color": "#E5ECF6",
              "width": 0.5
             }
            },
            "type": "barpolar"
           }
          ],
          "carpet": [
           {
            "aaxis": {
             "endlinecolor": "#2a3f5f",
             "gridcolor": "white",
             "linecolor": "white",
             "minorgridcolor": "white",
             "startlinecolor": "#2a3f5f"
            },
            "baxis": {
             "endlinecolor": "#2a3f5f",
             "gridcolor": "white",
             "linecolor": "white",
             "minorgridcolor": "white",
             "startlinecolor": "#2a3f5f"
            },
            "type": "carpet"
           }
          ],
          "choropleth": [
           {
            "colorbar": {
             "outlinewidth": 0,
             "ticks": ""
            },
            "type": "choropleth"
           }
          ],
          "contour": [
           {
            "colorbar": {
             "outlinewidth": 0,
             "ticks": ""
            },
            "colorscale": [
             [
              0,
              "#0d0887"
             ],
             [
              0.1111111111111111,
              "#46039f"
             ],
             [
              0.2222222222222222,
              "#7201a8"
             ],
             [
              0.3333333333333333,
              "#9c179e"
             ],
             [
              0.4444444444444444,
              "#bd3786"
             ],
             [
              0.5555555555555556,
              "#d8576b"
             ],
             [
              0.6666666666666666,
              "#ed7953"
             ],
             [
              0.7777777777777778,
              "#fb9f3a"
             ],
             [
              0.8888888888888888,
              "#fdca26"
             ],
             [
              1,
              "#f0f921"
             ]
            ],
            "type": "contour"
           }
          ],
          "contourcarpet": [
           {
            "colorbar": {
             "outlinewidth": 0,
             "ticks": ""
            },
            "type": "contourcarpet"
           }
          ],
          "heatmap": [
           {
            "colorbar": {
             "outlinewidth": 0,
             "ticks": ""
            },
            "colorscale": [
             [
              0,
              "#0d0887"
             ],
             [
              0.1111111111111111,
              "#46039f"
             ],
             [
              0.2222222222222222,
              "#7201a8"
             ],
             [
              0.3333333333333333,
              "#9c179e"
             ],
             [
              0.4444444444444444,
              "#bd3786"
             ],
             [
              0.5555555555555556,
              "#d8576b"
             ],
             [
              0.6666666666666666,
              "#ed7953"
             ],
             [
              0.7777777777777778,
              "#fb9f3a"
             ],
             [
              0.8888888888888888,
              "#fdca26"
             ],
             [
              1,
              "#f0f921"
             ]
            ],
            "type": "heatmap"
           }
          ],
          "heatmapgl": [
           {
            "colorbar": {
             "outlinewidth": 0,
             "ticks": ""
            },
            "colorscale": [
             [
              0,
              "#0d0887"
             ],
             [
              0.1111111111111111,
              "#46039f"
             ],
             [
              0.2222222222222222,
              "#7201a8"
             ],
             [
              0.3333333333333333,
              "#9c179e"
             ],
             [
              0.4444444444444444,
              "#bd3786"
             ],
             [
              0.5555555555555556,
              "#d8576b"
             ],
             [
              0.6666666666666666,
              "#ed7953"
             ],
             [
              0.7777777777777778,
              "#fb9f3a"
             ],
             [
              0.8888888888888888,
              "#fdca26"
             ],
             [
              1,
              "#f0f921"
             ]
            ],
            "type": "heatmapgl"
           }
          ],
          "histogram": [
           {
            "marker": {
             "colorbar": {
              "outlinewidth": 0,
              "ticks": ""
             }
            },
            "type": "histogram"
           }
          ],
          "histogram2d": [
           {
            "colorbar": {
             "outlinewidth": 0,
             "ticks": ""
            },
            "colorscale": [
             [
              0,
              "#0d0887"
             ],
             [
              0.1111111111111111,
              "#46039f"
             ],
             [
              0.2222222222222222,
              "#7201a8"
             ],
             [
              0.3333333333333333,
              "#9c179e"
             ],
             [
              0.4444444444444444,
              "#bd3786"
             ],
             [
              0.5555555555555556,
              "#d8576b"
             ],
             [
              0.6666666666666666,
              "#ed7953"
             ],
             [
              0.7777777777777778,
              "#fb9f3a"
             ],
             [
              0.8888888888888888,
              "#fdca26"
             ],
             [
              1,
              "#f0f921"
             ]
            ],
            "type": "histogram2d"
           }
          ],
          "histogram2dcontour": [
           {
            "colorbar": {
             "outlinewidth": 0,
             "ticks": ""
            },
            "colorscale": [
             [
              0,
              "#0d0887"
             ],
             [
              0.1111111111111111,
              "#46039f"
             ],
             [
              0.2222222222222222,
              "#7201a8"
             ],
             [
              0.3333333333333333,
              "#9c179e"
             ],
             [
              0.4444444444444444,
              "#bd3786"
             ],
             [
              0.5555555555555556,
              "#d8576b"
             ],
             [
              0.6666666666666666,
              "#ed7953"
             ],
             [
              0.7777777777777778,
              "#fb9f3a"
             ],
             [
              0.8888888888888888,
              "#fdca26"
             ],
             [
              1,
              "#f0f921"
             ]
            ],
            "type": "histogram2dcontour"
           }
          ],
          "mesh3d": [
           {
            "colorbar": {
             "outlinewidth": 0,
             "ticks": ""
            },
            "type": "mesh3d"
           }
          ],
          "parcoords": [
           {
            "line": {
             "colorbar": {
              "outlinewidth": 0,
              "ticks": ""
             }
            },
            "type": "parcoords"
           }
          ],
          "pie": [
           {
            "automargin": true,
            "type": "pie"
           }
          ],
          "scatter": [
           {
            "marker": {
             "colorbar": {
              "outlinewidth": 0,
              "ticks": ""
             }
            },
            "type": "scatter"
           }
          ],
          "scatter3d": [
           {
            "line": {
             "colorbar": {
              "outlinewidth": 0,
              "ticks": ""
             }
            },
            "marker": {
             "colorbar": {
              "outlinewidth": 0,
              "ticks": ""
             }
            },
            "type": "scatter3d"
           }
          ],
          "scattercarpet": [
           {
            "marker": {
             "colorbar": {
              "outlinewidth": 0,
              "ticks": ""
             }
            },
            "type": "scattercarpet"
           }
          ],
          "scattergeo": [
           {
            "marker": {
             "colorbar": {
              "outlinewidth": 0,
              "ticks": ""
             }
            },
            "type": "scattergeo"
           }
          ],
          "scattergl": [
           {
            "marker": {
             "colorbar": {
              "outlinewidth": 0,
              "ticks": ""
             }
            },
            "type": "scattergl"
           }
          ],
          "scattermapbox": [
           {
            "marker": {
             "colorbar": {
              "outlinewidth": 0,
              "ticks": ""
             }
            },
            "type": "scattermapbox"
           }
          ],
          "scatterpolar": [
           {
            "marker": {
             "colorbar": {
              "outlinewidth": 0,
              "ticks": ""
             }
            },
            "type": "scatterpolar"
           }
          ],
          "scatterpolargl": [
           {
            "marker": {
             "colorbar": {
              "outlinewidth": 0,
              "ticks": ""
             }
            },
            "type": "scatterpolargl"
           }
          ],
          "scatterternary": [
           {
            "marker": {
             "colorbar": {
              "outlinewidth": 0,
              "ticks": ""
             }
            },
            "type": "scatterternary"
           }
          ],
          "surface": [
           {
            "colorbar": {
             "outlinewidth": 0,
             "ticks": ""
            },
            "colorscale": [
             [
              0,
              "#0d0887"
             ],
             [
              0.1111111111111111,
              "#46039f"
             ],
             [
              0.2222222222222222,
              "#7201a8"
             ],
             [
              0.3333333333333333,
              "#9c179e"
             ],
             [
              0.4444444444444444,
              "#bd3786"
             ],
             [
              0.5555555555555556,
              "#d8576b"
             ],
             [
              0.6666666666666666,
              "#ed7953"
             ],
             [
              0.7777777777777778,
              "#fb9f3a"
             ],
             [
              0.8888888888888888,
              "#fdca26"
             ],
             [
              1,
              "#f0f921"
             ]
            ],
            "type": "surface"
           }
          ],
          "table": [
           {
            "cells": {
             "fill": {
              "color": "#EBF0F8"
             },
             "line": {
              "color": "white"
             }
            },
            "header": {
             "fill": {
              "color": "#C8D4E3"
             },
             "line": {
              "color": "white"
             }
            },
            "type": "table"
           }
          ]
         },
         "layout": {
          "annotationdefaults": {
           "arrowcolor": "#2a3f5f",
           "arrowhead": 0,
           "arrowwidth": 1
          },
          "autotypenumbers": "strict",
          "coloraxis": {
           "colorbar": {
            "outlinewidth": 0,
            "ticks": ""
           }
          },
          "colorscale": {
           "diverging": [
            [
             0,
             "#8e0152"
            ],
            [
             0.1,
             "#c51b7d"
            ],
            [
             0.2,
             "#de77ae"
            ],
            [
             0.3,
             "#f1b6da"
            ],
            [
             0.4,
             "#fde0ef"
            ],
            [
             0.5,
             "#f7f7f7"
            ],
            [
             0.6,
             "#e6f5d0"
            ],
            [
             0.7,
             "#b8e186"
            ],
            [
             0.8,
             "#7fbc41"
            ],
            [
             0.9,
             "#4d9221"
            ],
            [
             1,
             "#276419"
            ]
           ],
           "sequential": [
            [
             0,
             "#0d0887"
            ],
            [
             0.1111111111111111,
             "#46039f"
            ],
            [
             0.2222222222222222,
             "#7201a8"
            ],
            [
             0.3333333333333333,
             "#9c179e"
            ],
            [
             0.4444444444444444,
             "#bd3786"
            ],
            [
             0.5555555555555556,
             "#d8576b"
            ],
            [
             0.6666666666666666,
             "#ed7953"
            ],
            [
             0.7777777777777778,
             "#fb9f3a"
            ],
            [
             0.8888888888888888,
             "#fdca26"
            ],
            [
             1,
             "#f0f921"
            ]
           ],
           "sequentialminus": [
            [
             0,
             "#0d0887"
            ],
            [
             0.1111111111111111,
             "#46039f"
            ],
            [
             0.2222222222222222,
             "#7201a8"
            ],
            [
             0.3333333333333333,
             "#9c179e"
            ],
            [
             0.4444444444444444,
             "#bd3786"
            ],
            [
             0.5555555555555556,
             "#d8576b"
            ],
            [
             0.6666666666666666,
             "#ed7953"
            ],
            [
             0.7777777777777778,
             "#fb9f3a"
            ],
            [
             0.8888888888888888,
             "#fdca26"
            ],
            [
             1,
             "#f0f921"
            ]
           ]
          },
          "colorway": [
           "#636efa",
           "#EF553B",
           "#00cc96",
           "#ab63fa",
           "#FFA15A",
           "#19d3f3",
           "#FF6692",
           "#B6E880",
           "#FF97FF",
           "#FECB52"
          ],
          "font": {
           "color": "#2a3f5f"
          },
          "geo": {
           "bgcolor": "white",
           "lakecolor": "white",
           "landcolor": "#E5ECF6",
           "showlakes": true,
           "showland": true,
           "subunitcolor": "white"
          },
          "hoverlabel": {
           "align": "left"
          },
          "hovermode": "closest",
          "mapbox": {
           "style": "light"
          },
          "paper_bgcolor": "white",
          "plot_bgcolor": "#E5ECF6",
          "polar": {
           "angularaxis": {
            "gridcolor": "white",
            "linecolor": "white",
            "ticks": ""
           },
           "bgcolor": "#E5ECF6",
           "radialaxis": {
            "gridcolor": "white",
            "linecolor": "white",
            "ticks": ""
           }
          },
          "scene": {
           "xaxis": {
            "backgroundcolor": "#E5ECF6",
            "gridcolor": "white",
            "gridwidth": 2,
            "linecolor": "white",
            "showbackground": true,
            "ticks": "",
            "zerolinecolor": "white"
           },
           "yaxis": {
            "backgroundcolor": "#E5ECF6",
            "gridcolor": "white",
            "gridwidth": 2,
            "linecolor": "white",
            "showbackground": true,
            "ticks": "",
            "zerolinecolor": "white"
           },
           "zaxis": {
            "backgroundcolor": "#E5ECF6",
            "gridcolor": "white",
            "gridwidth": 2,
            "linecolor": "white",
            "showbackground": true,
            "ticks": "",
            "zerolinecolor": "white"
           }
          },
          "shapedefaults": {
           "line": {
            "color": "#2a3f5f"
           }
          },
          "ternary": {
           "aaxis": {
            "gridcolor": "white",
            "linecolor": "white",
            "ticks": ""
           },
           "baxis": {
            "gridcolor": "white",
            "linecolor": "white",
            "ticks": ""
           },
           "bgcolor": "#E5ECF6",
           "caxis": {
            "gridcolor": "white",
            "linecolor": "white",
            "ticks": ""
           }
          },
          "title": {
           "x": 0.05
          },
          "xaxis": {
           "automargin": true,
           "gridcolor": "white",
           "linecolor": "white",
           "ticks": "",
           "title": {
            "standoff": 15
           },
           "zerolinecolor": "white",
           "zerolinewidth": 2
          },
          "yaxis": {
           "automargin": true,
           "gridcolor": "white",
           "linecolor": "white",
           "ticks": "",
           "title": {
            "standoff": 15
           },
           "zerolinecolor": "white",
           "zerolinewidth": 2
          }
         }
        },
        "xaxis": {
         "title": {
          "text": "Mediana udziału środka transportu we wszystkich podróżach"
         }
        },
        "yaxis": {
         "title": {
          "text": "Odsetek mieszkańców odczuwających poprawę <br> komfortu oraz punktualności komunikacji miejskiej"
         }
        }
       }
      }
     },
     "metadata": {}
    }
   ],
   "source": [
    "scenarios = ['30%', '15%', '0%']\n",
    "\n",
    "mean_0_0_0 = modal_splits['ms_scenario_0_0_0'].values()\n",
    "mean_0_0_0 = list(map(lambda x: x['median'], mean_0_0_0))\n",
    "\n",
    "mean_0_0_15 = modal_splits['ms_scenario_15_15_0'].values()\n",
    "mean_0_0_15 = list(map(lambda x: x['median'], mean_0_0_15))\n",
    "\n",
    "mean_0_0_3 = modal_splits['ms_scenario_3_3_0'].values()\n",
    "mean_0_0_3 = list(map(lambda x: x['median'], mean_0_0_3))\n",
    "\n",
    "fig = go.Figure()\n",
    "\n",
    "round_v = 1\n",
    "margin_size = 100\n",
    "\n",
    "# car\n",
    "y = scenarios\n",
    "x = [mean_0_0_3[0], mean_0_0_15[0], mean_0_0_0[0]]\n",
    "fig.add_trace(go.Bar(\n",
    "    y=y,\n",
    "    x=x,\n",
    "    name='Samochód',\n",
    "    orientation='h',\n",
    "    text=list(map(lambda v: str(round(v, round_v)) + \"%\", x)),\n",
    "    textposition='auto',\n",
    "    insidetextanchor='middle'\n",
    "))\n",
    "\n",
    "# publlic\n",
    "y = scenarios\n",
    "x = [mean_0_0_3[1], mean_0_0_15[1], mean_0_0_0[1]]\n",
    "fig.add_trace(go.Bar(\n",
    "    y=y,\n",
    "    x=x,\n",
    "    name='Komunikacja publiczna',\n",
    "    orientation='h',\n",
    "    text=list(map(lambda v: str(round(v, round_v))+\"%\", x)),\n",
    "    textposition='auto',\n",
    "    insidetextanchor='middle'\n",
    "))\n",
    "\n",
    "# pedestrian\n",
    "y = scenarios\n",
    "x = [mean_0_0_3[2], mean_0_0_15[2], mean_0_0_0[2]]\n",
    "fig.add_trace(go.Bar(\n",
    "    y=y,\n",
    "    x=x,\n",
    "    name='Pieszo',\n",
    "    orientation='h',\n",
    "    text=list(map(lambda v: str(round(v, round_v)) + \"%\", x)),\n",
    "    textposition='auto',\n",
    "    insidetextanchor='middle'\n",
    "))\n",
    "\n",
    "# bicycle\n",
    "y = scenarios\n",
    "x = [mean_0_0_3[3], mean_0_0_15[3], mean_0_0_0[3]]\n",
    "fig.add_trace(go.Bar(\n",
    "    y=y,\n",
    "    x=x,\n",
    "    name='Rower',\n",
    "    orientation='h',\n",
    "    text=list(map(lambda v: str(round(v, round_v)) + \"%\", x)),\n",
    "    textposition='auto',\n",
    "    insidetextanchor='middle'\n",
    "))\n",
    "\n",
    "# Change the bar mode\n",
    "fig.update_layout(\n",
    "    barmode='stack',\n",
    "    legend={\n",
    "        'traceorder':'normal',\n",
    "        'orientation': 'h',\n",
    "        'yanchor': 'top',\n",
    "        'y': 1.15,\n",
    "        'xanchor': 'left',\n",
    "        'x': 0.01\n",
    "    },\n",
    "    # title='Rozkład podróży na środki transportu dla scenariusza ...',\n",
    "    xaxis_title='Mediana udziału środka transportu we wszystkich podróżach',\n",
    "    yaxis_title='Odsetek mieszkańców odczuwających poprawę <br> komfortu oraz punktualności komunikacji miejskiej',\n",
    "    margin=dict(l=margin_size, r=margin_size, t=margin_size, b=margin_size),\n",
    ")\n",
    "fig.show()"
   ]
  },
  {
   "source": [
    "### Cars + comfort + punctuality"
   ],
   "cell_type": "markdown",
   "metadata": {}
  },
  {
   "cell_type": "code",
   "execution_count": 182,
   "metadata": {},
   "outputs": [
    {
     "output_type": "display_data",
     "data": {
      "application/vnd.plotly.v1+json": {
       "config": {
        "plotlyServerURL": "https://plot.ly"
       },
       "data": [
        {
         "insidetextanchor": "middle",
         "name": "Samochód",
         "orientation": "h",
         "text": [
          "31.2%",
          "35.1%",
          "39.3%"
         ],
         "textposition": "auto",
         "type": "bar",
         "x": [
          31.240814750848877,
          35.125025617529815,
          39.3184805526735
         ],
         "y": [
          "30%",
          "15%",
          "0%"
         ]
        },
        {
         "insidetextanchor": "middle",
         "name": "Komunikacja publiczna",
         "orientation": "h",
         "text": [
          "37.5%",
          "34.5%",
          "31.4%"
         ],
         "textposition": "auto",
         "type": "bar",
         "x": [
          37.48381663006701,
          34.53327010451992,
          31.39060308027115
         ],
         "y": [
          "30%",
          "15%",
          "0%"
         ]
        },
        {
         "insidetextanchor": "middle",
         "name": "Pieszo",
         "orientation": "h",
         "text": [
          "21.7%",
          "21.0%",
          "20.3%"
         ],
         "textposition": "auto",
         "type": "bar",
         "x": [
          21.662926566798006,
          20.969056286590714,
          20.25638307678019
         ],
         "y": [
          "30%",
          "15%",
          "0%"
         ]
        },
        {
         "insidetextanchor": "middle",
         "name": "Rower",
         "orientation": "h",
         "text": [
          "9.6%",
          "9.4%",
          "9.0%"
         ],
         "textposition": "auto",
         "type": "bar",
         "x": [
          9.616905191578411,
          9.359271354327664,
          9.028852604675695
         ],
         "y": [
          "30%",
          "15%",
          "0%"
         ]
        }
       ],
       "layout": {
        "barmode": "stack",
        "legend": {
         "orientation": "h",
         "traceorder": "normal",
         "x": 0.01,
         "xanchor": "left",
         "y": 1.15,
         "yanchor": "top"
        },
        "margin": {
         "b": 100,
         "l": 100,
         "r": 100,
         "t": 100
        },
        "template": {
         "data": {
          "bar": [
           {
            "error_x": {
             "color": "#2a3f5f"
            },
            "error_y": {
             "color": "#2a3f5f"
            },
            "marker": {
             "line": {
              "color": "#E5ECF6",
              "width": 0.5
             }
            },
            "type": "bar"
           }
          ],
          "barpolar": [
           {
            "marker": {
             "line": {
              "color": "#E5ECF6",
              "width": 0.5
             }
            },
            "type": "barpolar"
           }
          ],
          "carpet": [
           {
            "aaxis": {
             "endlinecolor": "#2a3f5f",
             "gridcolor": "white",
             "linecolor": "white",
             "minorgridcolor": "white",
             "startlinecolor": "#2a3f5f"
            },
            "baxis": {
             "endlinecolor": "#2a3f5f",
             "gridcolor": "white",
             "linecolor": "white",
             "minorgridcolor": "white",
             "startlinecolor": "#2a3f5f"
            },
            "type": "carpet"
           }
          ],
          "choropleth": [
           {
            "colorbar": {
             "outlinewidth": 0,
             "ticks": ""
            },
            "type": "choropleth"
           }
          ],
          "contour": [
           {
            "colorbar": {
             "outlinewidth": 0,
             "ticks": ""
            },
            "colorscale": [
             [
              0,
              "#0d0887"
             ],
             [
              0.1111111111111111,
              "#46039f"
             ],
             [
              0.2222222222222222,
              "#7201a8"
             ],
             [
              0.3333333333333333,
              "#9c179e"
             ],
             [
              0.4444444444444444,
              "#bd3786"
             ],
             [
              0.5555555555555556,
              "#d8576b"
             ],
             [
              0.6666666666666666,
              "#ed7953"
             ],
             [
              0.7777777777777778,
              "#fb9f3a"
             ],
             [
              0.8888888888888888,
              "#fdca26"
             ],
             [
              1,
              "#f0f921"
             ]
            ],
            "type": "contour"
           }
          ],
          "contourcarpet": [
           {
            "colorbar": {
             "outlinewidth": 0,
             "ticks": ""
            },
            "type": "contourcarpet"
           }
          ],
          "heatmap": [
           {
            "colorbar": {
             "outlinewidth": 0,
             "ticks": ""
            },
            "colorscale": [
             [
              0,
              "#0d0887"
             ],
             [
              0.1111111111111111,
              "#46039f"
             ],
             [
              0.2222222222222222,
              "#7201a8"
             ],
             [
              0.3333333333333333,
              "#9c179e"
             ],
             [
              0.4444444444444444,
              "#bd3786"
             ],
             [
              0.5555555555555556,
              "#d8576b"
             ],
             [
              0.6666666666666666,
              "#ed7953"
             ],
             [
              0.7777777777777778,
              "#fb9f3a"
             ],
             [
              0.8888888888888888,
              "#fdca26"
             ],
             [
              1,
              "#f0f921"
             ]
            ],
            "type": "heatmap"
           }
          ],
          "heatmapgl": [
           {
            "colorbar": {
             "outlinewidth": 0,
             "ticks": ""
            },
            "colorscale": [
             [
              0,
              "#0d0887"
             ],
             [
              0.1111111111111111,
              "#46039f"
             ],
             [
              0.2222222222222222,
              "#7201a8"
             ],
             [
              0.3333333333333333,
              "#9c179e"
             ],
             [
              0.4444444444444444,
              "#bd3786"
             ],
             [
              0.5555555555555556,
              "#d8576b"
             ],
             [
              0.6666666666666666,
              "#ed7953"
             ],
             [
              0.7777777777777778,
              "#fb9f3a"
             ],
             [
              0.8888888888888888,
              "#fdca26"
             ],
             [
              1,
              "#f0f921"
             ]
            ],
            "type": "heatmapgl"
           }
          ],
          "histogram": [
           {
            "marker": {
             "colorbar": {
              "outlinewidth": 0,
              "ticks": ""
             }
            },
            "type": "histogram"
           }
          ],
          "histogram2d": [
           {
            "colorbar": {
             "outlinewidth": 0,
             "ticks": ""
            },
            "colorscale": [
             [
              0,
              "#0d0887"
             ],
             [
              0.1111111111111111,
              "#46039f"
             ],
             [
              0.2222222222222222,
              "#7201a8"
             ],
             [
              0.3333333333333333,
              "#9c179e"
             ],
             [
              0.4444444444444444,
              "#bd3786"
             ],
             [
              0.5555555555555556,
              "#d8576b"
             ],
             [
              0.6666666666666666,
              "#ed7953"
             ],
             [
              0.7777777777777778,
              "#fb9f3a"
             ],
             [
              0.8888888888888888,
              "#fdca26"
             ],
             [
              1,
              "#f0f921"
             ]
            ],
            "type": "histogram2d"
           }
          ],
          "histogram2dcontour": [
           {
            "colorbar": {
             "outlinewidth": 0,
             "ticks": ""
            },
            "colorscale": [
             [
              0,
              "#0d0887"
             ],
             [
              0.1111111111111111,
              "#46039f"
             ],
             [
              0.2222222222222222,
              "#7201a8"
             ],
             [
              0.3333333333333333,
              "#9c179e"
             ],
             [
              0.4444444444444444,
              "#bd3786"
             ],
             [
              0.5555555555555556,
              "#d8576b"
             ],
             [
              0.6666666666666666,
              "#ed7953"
             ],
             [
              0.7777777777777778,
              "#fb9f3a"
             ],
             [
              0.8888888888888888,
              "#fdca26"
             ],
             [
              1,
              "#f0f921"
             ]
            ],
            "type": "histogram2dcontour"
           }
          ],
          "mesh3d": [
           {
            "colorbar": {
             "outlinewidth": 0,
             "ticks": ""
            },
            "type": "mesh3d"
           }
          ],
          "parcoords": [
           {
            "line": {
             "colorbar": {
              "outlinewidth": 0,
              "ticks": ""
             }
            },
            "type": "parcoords"
           }
          ],
          "pie": [
           {
            "automargin": true,
            "type": "pie"
           }
          ],
          "scatter": [
           {
            "marker": {
             "colorbar": {
              "outlinewidth": 0,
              "ticks": ""
             }
            },
            "type": "scatter"
           }
          ],
          "scatter3d": [
           {
            "line": {
             "colorbar": {
              "outlinewidth": 0,
              "ticks": ""
             }
            },
            "marker": {
             "colorbar": {
              "outlinewidth": 0,
              "ticks": ""
             }
            },
            "type": "scatter3d"
           }
          ],
          "scattercarpet": [
           {
            "marker": {
             "colorbar": {
              "outlinewidth": 0,
              "ticks": ""
             }
            },
            "type": "scattercarpet"
           }
          ],
          "scattergeo": [
           {
            "marker": {
             "colorbar": {
              "outlinewidth": 0,
              "ticks": ""
             }
            },
            "type": "scattergeo"
           }
          ],
          "scattergl": [
           {
            "marker": {
             "colorbar": {
              "outlinewidth": 0,
              "ticks": ""
             }
            },
            "type": "scattergl"
           }
          ],
          "scattermapbox": [
           {
            "marker": {
             "colorbar": {
              "outlinewidth": 0,
              "ticks": ""
             }
            },
            "type": "scattermapbox"
           }
          ],
          "scatterpolar": [
           {
            "marker": {
             "colorbar": {
              "outlinewidth": 0,
              "ticks": ""
             }
            },
            "type": "scatterpolar"
           }
          ],
          "scatterpolargl": [
           {
            "marker": {
             "colorbar": {
              "outlinewidth": 0,
              "ticks": ""
             }
            },
            "type": "scatterpolargl"
           }
          ],
          "scatterternary": [
           {
            "marker": {
             "colorbar": {
              "outlinewidth": 0,
              "ticks": ""
             }
            },
            "type": "scatterternary"
           }
          ],
          "surface": [
           {
            "colorbar": {
             "outlinewidth": 0,
             "ticks": ""
            },
            "colorscale": [
             [
              0,
              "#0d0887"
             ],
             [
              0.1111111111111111,
              "#46039f"
             ],
             [
              0.2222222222222222,
              "#7201a8"
             ],
             [
              0.3333333333333333,
              "#9c179e"
             ],
             [
              0.4444444444444444,
              "#bd3786"
             ],
             [
              0.5555555555555556,
              "#d8576b"
             ],
             [
              0.6666666666666666,
              "#ed7953"
             ],
             [
              0.7777777777777778,
              "#fb9f3a"
             ],
             [
              0.8888888888888888,
              "#fdca26"
             ],
             [
              1,
              "#f0f921"
             ]
            ],
            "type": "surface"
           }
          ],
          "table": [
           {
            "cells": {
             "fill": {
              "color": "#EBF0F8"
             },
             "line": {
              "color": "white"
             }
            },
            "header": {
             "fill": {
              "color": "#C8D4E3"
             },
             "line": {
              "color": "white"
             }
            },
            "type": "table"
           }
          ]
         },
         "layout": {
          "annotationdefaults": {
           "arrowcolor": "#2a3f5f",
           "arrowhead": 0,
           "arrowwidth": 1
          },
          "autotypenumbers": "strict",
          "coloraxis": {
           "colorbar": {
            "outlinewidth": 0,
            "ticks": ""
           }
          },
          "colorscale": {
           "diverging": [
            [
             0,
             "#8e0152"
            ],
            [
             0.1,
             "#c51b7d"
            ],
            [
             0.2,
             "#de77ae"
            ],
            [
             0.3,
             "#f1b6da"
            ],
            [
             0.4,
             "#fde0ef"
            ],
            [
             0.5,
             "#f7f7f7"
            ],
            [
             0.6,
             "#e6f5d0"
            ],
            [
             0.7,
             "#b8e186"
            ],
            [
             0.8,
             "#7fbc41"
            ],
            [
             0.9,
             "#4d9221"
            ],
            [
             1,
             "#276419"
            ]
           ],
           "sequential": [
            [
             0,
             "#0d0887"
            ],
            [
             0.1111111111111111,
             "#46039f"
            ],
            [
             0.2222222222222222,
             "#7201a8"
            ],
            [
             0.3333333333333333,
             "#9c179e"
            ],
            [
             0.4444444444444444,
             "#bd3786"
            ],
            [
             0.5555555555555556,
             "#d8576b"
            ],
            [
             0.6666666666666666,
             "#ed7953"
            ],
            [
             0.7777777777777778,
             "#fb9f3a"
            ],
            [
             0.8888888888888888,
             "#fdca26"
            ],
            [
             1,
             "#f0f921"
            ]
           ],
           "sequentialminus": [
            [
             0,
             "#0d0887"
            ],
            [
             0.1111111111111111,
             "#46039f"
            ],
            [
             0.2222222222222222,
             "#7201a8"
            ],
            [
             0.3333333333333333,
             "#9c179e"
            ],
            [
             0.4444444444444444,
             "#bd3786"
            ],
            [
             0.5555555555555556,
             "#d8576b"
            ],
            [
             0.6666666666666666,
             "#ed7953"
            ],
            [
             0.7777777777777778,
             "#fb9f3a"
            ],
            [
             0.8888888888888888,
             "#fdca26"
            ],
            [
             1,
             "#f0f921"
            ]
           ]
          },
          "colorway": [
           "#636efa",
           "#EF553B",
           "#00cc96",
           "#ab63fa",
           "#FFA15A",
           "#19d3f3",
           "#FF6692",
           "#B6E880",
           "#FF97FF",
           "#FECB52"
          ],
          "font": {
           "color": "#2a3f5f"
          },
          "geo": {
           "bgcolor": "white",
           "lakecolor": "white",
           "landcolor": "#E5ECF6",
           "showlakes": true,
           "showland": true,
           "subunitcolor": "white"
          },
          "hoverlabel": {
           "align": "left"
          },
          "hovermode": "closest",
          "mapbox": {
           "style": "light"
          },
          "paper_bgcolor": "white",
          "plot_bgcolor": "#E5ECF6",
          "polar": {
           "angularaxis": {
            "gridcolor": "white",
            "linecolor": "white",
            "ticks": ""
           },
           "bgcolor": "#E5ECF6",
           "radialaxis": {
            "gridcolor": "white",
            "linecolor": "white",
            "ticks": ""
           }
          },
          "scene": {
           "xaxis": {
            "backgroundcolor": "#E5ECF6",
            "gridcolor": "white",
            "gridwidth": 2,
            "linecolor": "white",
            "showbackground": true,
            "ticks": "",
            "zerolinecolor": "white"
           },
           "yaxis": {
            "backgroundcolor": "#E5ECF6",
            "gridcolor": "white",
            "gridwidth": 2,
            "linecolor": "white",
            "showbackground": true,
            "ticks": "",
            "zerolinecolor": "white"
           },
           "zaxis": {
            "backgroundcolor": "#E5ECF6",
            "gridcolor": "white",
            "gridwidth": 2,
            "linecolor": "white",
            "showbackground": true,
            "ticks": "",
            "zerolinecolor": "white"
           }
          },
          "shapedefaults": {
           "line": {
            "color": "#2a3f5f"
           }
          },
          "ternary": {
           "aaxis": {
            "gridcolor": "white",
            "linecolor": "white",
            "ticks": ""
           },
           "baxis": {
            "gridcolor": "white",
            "linecolor": "white",
            "ticks": ""
           },
           "bgcolor": "#E5ECF6",
           "caxis": {
            "gridcolor": "white",
            "linecolor": "white",
            "ticks": ""
           }
          },
          "title": {
           "x": 0.05
          },
          "xaxis": {
           "automargin": true,
           "gridcolor": "white",
           "linecolor": "white",
           "ticks": "",
           "title": {
            "standoff": 15
           },
           "zerolinecolor": "white",
           "zerolinewidth": 2
          },
          "yaxis": {
           "automargin": true,
           "gridcolor": "white",
           "linecolor": "white",
           "ticks": "",
           "title": {
            "standoff": 15
           },
           "zerolinecolor": "white",
           "zerolinewidth": 2
          }
         }
        },
        "xaxis": {
         "title": {
          "text": "Mediana udziału środka transportu we wszystkich podróżach"
         }
        },
        "yaxis": {
         "title": {
          "text": "Odsetek mieszkańców odczuwających poprawę <br> komfortu i punktualności komunikacji miejskiej <br> oraz rezygnujących z jednego samochodu"
         }
        }
       }
      }
     },
     "metadata": {}
    }
   ],
   "source": [
    "scenarios = ['30%', '15%', '0%']\n",
    "\n",
    "mean_0_0_0 = modal_splits['ms_scenario_0_0_0'].values()\n",
    "mean_0_0_0 = list(map(lambda x: x['median'], mean_0_0_0))\n",
    "\n",
    "mean_0_0_15 = modal_splits['ms_scenario_15_15_15'].values()\n",
    "mean_0_0_15 = list(map(lambda x: x['median'], mean_0_0_15))\n",
    "\n",
    "mean_0_0_3 = modal_splits['ms_scenario_3_3_3'].values()\n",
    "mean_0_0_3 = list(map(lambda x: x['median'], mean_0_0_3))\n",
    "\n",
    "fig = go.Figure()\n",
    "\n",
    "round_v = 1\n",
    "margin_size = 100\n",
    "\n",
    "# car\n",
    "y = scenarios\n",
    "x = [mean_0_0_3[0], mean_0_0_15[0], mean_0_0_0[0]]\n",
    "fig.add_trace(go.Bar(\n",
    "    y=y,\n",
    "    x=x,\n",
    "    name='Samochód',\n",
    "    orientation='h',\n",
    "    text=list(map(lambda v: str(round(v, round_v)) + \"%\", x)),\n",
    "    textposition='auto',\n",
    "    insidetextanchor='middle'\n",
    "))\n",
    "\n",
    "# publlic\n",
    "y = scenarios\n",
    "x = [mean_0_0_3[1], mean_0_0_15[1], mean_0_0_0[1]]\n",
    "fig.add_trace(go.Bar(\n",
    "    y=y,\n",
    "    x=x,\n",
    "    name='Komunikacja publiczna',\n",
    "    orientation='h',\n",
    "    text=list(map(lambda v: str(round(v, round_v))+\"%\", x)),\n",
    "    textposition='auto',\n",
    "    insidetextanchor='middle'\n",
    "))\n",
    "\n",
    "# pedestrian\n",
    "y = scenarios\n",
    "x = [mean_0_0_3[2], mean_0_0_15[2], mean_0_0_0[2]]\n",
    "fig.add_trace(go.Bar(\n",
    "    y=y,\n",
    "    x=x,\n",
    "    name='Pieszo',\n",
    "    orientation='h',\n",
    "    text=list(map(lambda v: str(round(v, round_v)) + \"%\", x)),\n",
    "    textposition='auto',\n",
    "    insidetextanchor='middle'\n",
    "))\n",
    "\n",
    "# bicycle\n",
    "y = scenarios\n",
    "x = [mean_0_0_3[3], mean_0_0_15[3], mean_0_0_0[3]]\n",
    "fig.add_trace(go.Bar(\n",
    "    y=y,\n",
    "    x=x,\n",
    "    name='Rower',\n",
    "    orientation='h',\n",
    "    text=list(map(lambda v: str(round(v, round_v)) + \"%\", x)),\n",
    "    textposition='auto',\n",
    "    insidetextanchor='middle'\n",
    "))\n",
    "\n",
    "# Change the bar mode\n",
    "fig.update_layout(\n",
    "    barmode='stack',\n",
    "    legend={\n",
    "        'traceorder':'normal',\n",
    "        'orientation': 'h',\n",
    "        'yanchor': 'top',\n",
    "        'y': 1.15,\n",
    "        'xanchor': 'left',\n",
    "        'x': 0.01\n",
    "    },\n",
    "    # title='Rozkład podróży na środki transportu dla scenariusza ...',\n",
    "    xaxis_title='Mediana udziału środka transportu we wszystkich podróżach',\n",
    "    yaxis_title='Odsetek mieszkańców odczuwających poprawę <br> komfortu i punktualności komunikacji miejskiej <br> oraz rezygnujących z jednego samochodu',\n",
    "    margin=dict(l=margin_size, r=margin_size, t=margin_size, b=margin_size),\n",
    ")\n",
    "fig.show()"
   ]
  },
  {
   "source": [
    "## Heatmaps"
   ],
   "cell_type": "markdown",
   "metadata": {}
  },
  {
   "cell_type": "code",
   "execution_count": 304,
   "metadata": {},
   "outputs": [
    {
     "output_type": "display_data",
     "data": {
      "application/vnd.plotly.v1+json": {
       "config": {
        "plotlyServerURL": "https://plot.ly"
       },
       "data": [
        {
         "colorscale": [
          [
           0,
           "rgb(224, 253, 74)"
          ],
          [
           0.09090909090909091,
           "rgb(222, 222, 59)"
          ],
          [
           0.18181818181818182,
           "rgb(217, 192, 44)"
          ],
          [
           0.2727272727272727,
           "rgb(209, 164, 32)"
          ],
          [
           0.36363636363636365,
           "rgb(199, 137, 22)"
          ],
          [
           0.45454545454545453,
           "rgb(188, 111, 19)"
          ],
          [
           0.5454545454545454,
           "rgb(174, 88, 20)"
          ],
          [
           0.6363636363636364,
           "rgb(157, 66, 25)"
          ],
          [
           0.7272727272727273,
           "rgb(135, 47, 32)"
          ],
          [
           0.8181818181818182,
           "rgb(108, 36, 36)"
          ],
          [
           0.9090909090909091,
           "rgb(79, 28, 33)"
          ],
          [
           1,
           "rgb(51, 19, 23)"
          ]
         ],
         "reversescale": false,
         "showscale": false,
         "type": "heatmap",
         "x": [
          "0%",
          "15%",
          "30%"
         ],
         "y": [
          "0%",
          "15%",
          "30%"
         ],
         "z": [
          [
           0,
           -7.4,
           -14.8
          ],
          [
           -3.5,
           -10.7,
           -18.3
          ],
          [
           -6.9,
           -14.3,
           -20.5
          ]
         ]
        }
       ],
       "layout": {
        "annotations": [
         {
          "font": {
           "color": "#FFFFFF",
           "size": 12
          },
          "showarrow": false,
          "text": "0",
          "x": "0%",
          "xref": "x",
          "y": "0%",
          "yref": "y"
         },
         {
          "font": {
           "color": "#FFFFFF",
           "size": 12
          },
          "showarrow": false,
          "text": "-7.4",
          "x": "15%",
          "xref": "x",
          "y": "0%",
          "yref": "y"
         },
         {
          "font": {
           "color": "#000000",
           "size": 12
          },
          "showarrow": false,
          "text": "-14.8",
          "x": "30%",
          "xref": "x",
          "y": "0%",
          "yref": "y"
         },
         {
          "font": {
           "color": "#FFFFFF",
           "size": 12
          },
          "showarrow": false,
          "text": "-3.5",
          "x": "0%",
          "xref": "x",
          "y": "15%",
          "yref": "y"
         },
         {
          "font": {
           "color": "#000000",
           "size": 12
          },
          "showarrow": false,
          "text": "-10.7",
          "x": "15%",
          "xref": "x",
          "y": "15%",
          "yref": "y"
         },
         {
          "font": {
           "color": "#000000",
           "size": 12
          },
          "showarrow": false,
          "text": "-18.3",
          "x": "30%",
          "xref": "x",
          "y": "15%",
          "yref": "y"
         },
         {
          "font": {
           "color": "#FFFFFF",
           "size": 12
          },
          "showarrow": false,
          "text": "-6.9",
          "x": "0%",
          "xref": "x",
          "y": "30%",
          "yref": "y"
         },
         {
          "font": {
           "color": "#000000",
           "size": 12
          },
          "showarrow": false,
          "text": "-14.3",
          "x": "15%",
          "xref": "x",
          "y": "30%",
          "yref": "y"
         },
         {
          "font": {
           "color": "#000000",
           "size": 12
          },
          "showarrow": false,
          "text": "-20.5",
          "x": "30%",
          "xref": "x",
          "y": "30%",
          "yref": "y"
         }
        ],
        "font": {
         "size": 12
        },
        "height": 600,
        "margin": {
         "b": 150,
         "l": 150,
         "r": 150,
         "t": 150
        },
        "template": {
         "data": {
          "bar": [
           {
            "error_x": {
             "color": "#2a3f5f"
            },
            "error_y": {
             "color": "#2a3f5f"
            },
            "marker": {
             "line": {
              "color": "#E5ECF6",
              "width": 0.5
             }
            },
            "type": "bar"
           }
          ],
          "barpolar": [
           {
            "marker": {
             "line": {
              "color": "#E5ECF6",
              "width": 0.5
             }
            },
            "type": "barpolar"
           }
          ],
          "carpet": [
           {
            "aaxis": {
             "endlinecolor": "#2a3f5f",
             "gridcolor": "white",
             "linecolor": "white",
             "minorgridcolor": "white",
             "startlinecolor": "#2a3f5f"
            },
            "baxis": {
             "endlinecolor": "#2a3f5f",
             "gridcolor": "white",
             "linecolor": "white",
             "minorgridcolor": "white",
             "startlinecolor": "#2a3f5f"
            },
            "type": "carpet"
           }
          ],
          "choropleth": [
           {
            "colorbar": {
             "outlinewidth": 0,
             "ticks": ""
            },
            "type": "choropleth"
           }
          ],
          "contour": [
           {
            "colorbar": {
             "outlinewidth": 0,
             "ticks": ""
            },
            "colorscale": [
             [
              0,
              "#0d0887"
             ],
             [
              0.1111111111111111,
              "#46039f"
             ],
             [
              0.2222222222222222,
              "#7201a8"
             ],
             [
              0.3333333333333333,
              "#9c179e"
             ],
             [
              0.4444444444444444,
              "#bd3786"
             ],
             [
              0.5555555555555556,
              "#d8576b"
             ],
             [
              0.6666666666666666,
              "#ed7953"
             ],
             [
              0.7777777777777778,
              "#fb9f3a"
             ],
             [
              0.8888888888888888,
              "#fdca26"
             ],
             [
              1,
              "#f0f921"
             ]
            ],
            "type": "contour"
           }
          ],
          "contourcarpet": [
           {
            "colorbar": {
             "outlinewidth": 0,
             "ticks": ""
            },
            "type": "contourcarpet"
           }
          ],
          "heatmap": [
           {
            "colorbar": {
             "outlinewidth": 0,
             "ticks": ""
            },
            "colorscale": [
             [
              0,
              "#0d0887"
             ],
             [
              0.1111111111111111,
              "#46039f"
             ],
             [
              0.2222222222222222,
              "#7201a8"
             ],
             [
              0.3333333333333333,
              "#9c179e"
             ],
             [
              0.4444444444444444,
              "#bd3786"
             ],
             [
              0.5555555555555556,
              "#d8576b"
             ],
             [
              0.6666666666666666,
              "#ed7953"
             ],
             [
              0.7777777777777778,
              "#fb9f3a"
             ],
             [
              0.8888888888888888,
              "#fdca26"
             ],
             [
              1,
              "#f0f921"
             ]
            ],
            "type": "heatmap"
           }
          ],
          "heatmapgl": [
           {
            "colorbar": {
             "outlinewidth": 0,
             "ticks": ""
            },
            "colorscale": [
             [
              0,
              "#0d0887"
             ],
             [
              0.1111111111111111,
              "#46039f"
             ],
             [
              0.2222222222222222,
              "#7201a8"
             ],
             [
              0.3333333333333333,
              "#9c179e"
             ],
             [
              0.4444444444444444,
              "#bd3786"
             ],
             [
              0.5555555555555556,
              "#d8576b"
             ],
             [
              0.6666666666666666,
              "#ed7953"
             ],
             [
              0.7777777777777778,
              "#fb9f3a"
             ],
             [
              0.8888888888888888,
              "#fdca26"
             ],
             [
              1,
              "#f0f921"
             ]
            ],
            "type": "heatmapgl"
           }
          ],
          "histogram": [
           {
            "marker": {
             "colorbar": {
              "outlinewidth": 0,
              "ticks": ""
             }
            },
            "type": "histogram"
           }
          ],
          "histogram2d": [
           {
            "colorbar": {
             "outlinewidth": 0,
             "ticks": ""
            },
            "colorscale": [
             [
              0,
              "#0d0887"
             ],
             [
              0.1111111111111111,
              "#46039f"
             ],
             [
              0.2222222222222222,
              "#7201a8"
             ],
             [
              0.3333333333333333,
              "#9c179e"
             ],
             [
              0.4444444444444444,
              "#bd3786"
             ],
             [
              0.5555555555555556,
              "#d8576b"
             ],
             [
              0.6666666666666666,
              "#ed7953"
             ],
             [
              0.7777777777777778,
              "#fb9f3a"
             ],
             [
              0.8888888888888888,
              "#fdca26"
             ],
             [
              1,
              "#f0f921"
             ]
            ],
            "type": "histogram2d"
           }
          ],
          "histogram2dcontour": [
           {
            "colorbar": {
             "outlinewidth": 0,
             "ticks": ""
            },
            "colorscale": [
             [
              0,
              "#0d0887"
             ],
             [
              0.1111111111111111,
              "#46039f"
             ],
             [
              0.2222222222222222,
              "#7201a8"
             ],
             [
              0.3333333333333333,
              "#9c179e"
             ],
             [
              0.4444444444444444,
              "#bd3786"
             ],
             [
              0.5555555555555556,
              "#d8576b"
             ],
             [
              0.6666666666666666,
              "#ed7953"
             ],
             [
              0.7777777777777778,
              "#fb9f3a"
             ],
             [
              0.8888888888888888,
              "#fdca26"
             ],
             [
              1,
              "#f0f921"
             ]
            ],
            "type": "histogram2dcontour"
           }
          ],
          "mesh3d": [
           {
            "colorbar": {
             "outlinewidth": 0,
             "ticks": ""
            },
            "type": "mesh3d"
           }
          ],
          "parcoords": [
           {
            "line": {
             "colorbar": {
              "outlinewidth": 0,
              "ticks": ""
             }
            },
            "type": "parcoords"
           }
          ],
          "pie": [
           {
            "automargin": true,
            "type": "pie"
           }
          ],
          "scatter": [
           {
            "marker": {
             "colorbar": {
              "outlinewidth": 0,
              "ticks": ""
             }
            },
            "type": "scatter"
           }
          ],
          "scatter3d": [
           {
            "line": {
             "colorbar": {
              "outlinewidth": 0,
              "ticks": ""
             }
            },
            "marker": {
             "colorbar": {
              "outlinewidth": 0,
              "ticks": ""
             }
            },
            "type": "scatter3d"
           }
          ],
          "scattercarpet": [
           {
            "marker": {
             "colorbar": {
              "outlinewidth": 0,
              "ticks": ""
             }
            },
            "type": "scattercarpet"
           }
          ],
          "scattergeo": [
           {
            "marker": {
             "colorbar": {
              "outlinewidth": 0,
              "ticks": ""
             }
            },
            "type": "scattergeo"
           }
          ],
          "scattergl": [
           {
            "marker": {
             "colorbar": {
              "outlinewidth": 0,
              "ticks": ""
             }
            },
            "type": "scattergl"
           }
          ],
          "scattermapbox": [
           {
            "marker": {
             "colorbar": {
              "outlinewidth": 0,
              "ticks": ""
             }
            },
            "type": "scattermapbox"
           }
          ],
          "scatterpolar": [
           {
            "marker": {
             "colorbar": {
              "outlinewidth": 0,
              "ticks": ""
             }
            },
            "type": "scatterpolar"
           }
          ],
          "scatterpolargl": [
           {
            "marker": {
             "colorbar": {
              "outlinewidth": 0,
              "ticks": ""
             }
            },
            "type": "scatterpolargl"
           }
          ],
          "scatterternary": [
           {
            "marker": {
             "colorbar": {
              "outlinewidth": 0,
              "ticks": ""
             }
            },
            "type": "scatterternary"
           }
          ],
          "surface": [
           {
            "colorbar": {
             "outlinewidth": 0,
             "ticks": ""
            },
            "colorscale": [
             [
              0,
              "#0d0887"
             ],
             [
              0.1111111111111111,
              "#46039f"
             ],
             [
              0.2222222222222222,
              "#7201a8"
             ],
             [
              0.3333333333333333,
              "#9c179e"
             ],
             [
              0.4444444444444444,
              "#bd3786"
             ],
             [
              0.5555555555555556,
              "#d8576b"
             ],
             [
              0.6666666666666666,
              "#ed7953"
             ],
             [
              0.7777777777777778,
              "#fb9f3a"
             ],
             [
              0.8888888888888888,
              "#fdca26"
             ],
             [
              1,
              "#f0f921"
             ]
            ],
            "type": "surface"
           }
          ],
          "table": [
           {
            "cells": {
             "fill": {
              "color": "#EBF0F8"
             },
             "line": {
              "color": "white"
             }
            },
            "header": {
             "fill": {
              "color": "#C8D4E3"
             },
             "line": {
              "color": "white"
             }
            },
            "type": "table"
           }
          ]
         },
         "layout": {
          "annotationdefaults": {
           "arrowcolor": "#2a3f5f",
           "arrowhead": 0,
           "arrowwidth": 1
          },
          "autotypenumbers": "strict",
          "coloraxis": {
           "colorbar": {
            "outlinewidth": 0,
            "ticks": ""
           }
          },
          "colorscale": {
           "diverging": [
            [
             0,
             "#8e0152"
            ],
            [
             0.1,
             "#c51b7d"
            ],
            [
             0.2,
             "#de77ae"
            ],
            [
             0.3,
             "#f1b6da"
            ],
            [
             0.4,
             "#fde0ef"
            ],
            [
             0.5,
             "#f7f7f7"
            ],
            [
             0.6,
             "#e6f5d0"
            ],
            [
             0.7,
             "#b8e186"
            ],
            [
             0.8,
             "#7fbc41"
            ],
            [
             0.9,
             "#4d9221"
            ],
            [
             1,
             "#276419"
            ]
           ],
           "sequential": [
            [
             0,
             "#0d0887"
            ],
            [
             0.1111111111111111,
             "#46039f"
            ],
            [
             0.2222222222222222,
             "#7201a8"
            ],
            [
             0.3333333333333333,
             "#9c179e"
            ],
            [
             0.4444444444444444,
             "#bd3786"
            ],
            [
             0.5555555555555556,
             "#d8576b"
            ],
            [
             0.6666666666666666,
             "#ed7953"
            ],
            [
             0.7777777777777778,
             "#fb9f3a"
            ],
            [
             0.8888888888888888,
             "#fdca26"
            ],
            [
             1,
             "#f0f921"
            ]
           ],
           "sequentialminus": [
            [
             0,
             "#0d0887"
            ],
            [
             0.1111111111111111,
             "#46039f"
            ],
            [
             0.2222222222222222,
             "#7201a8"
            ],
            [
             0.3333333333333333,
             "#9c179e"
            ],
            [
             0.4444444444444444,
             "#bd3786"
            ],
            [
             0.5555555555555556,
             "#d8576b"
            ],
            [
             0.6666666666666666,
             "#ed7953"
            ],
            [
             0.7777777777777778,
             "#fb9f3a"
            ],
            [
             0.8888888888888888,
             "#fdca26"
            ],
            [
             1,
             "#f0f921"
            ]
           ]
          },
          "colorway": [
           "#636efa",
           "#EF553B",
           "#00cc96",
           "#ab63fa",
           "#FFA15A",
           "#19d3f3",
           "#FF6692",
           "#B6E880",
           "#FF97FF",
           "#FECB52"
          ],
          "font": {
           "color": "#2a3f5f"
          },
          "geo": {
           "bgcolor": "white",
           "lakecolor": "white",
           "landcolor": "#E5ECF6",
           "showlakes": true,
           "showland": true,
           "subunitcolor": "white"
          },
          "hoverlabel": {
           "align": "left"
          },
          "hovermode": "closest",
          "mapbox": {
           "style": "light"
          },
          "paper_bgcolor": "white",
          "plot_bgcolor": "#E5ECF6",
          "polar": {
           "angularaxis": {
            "gridcolor": "white",
            "linecolor": "white",
            "ticks": ""
           },
           "bgcolor": "#E5ECF6",
           "radialaxis": {
            "gridcolor": "white",
            "linecolor": "white",
            "ticks": ""
           }
          },
          "scene": {
           "xaxis": {
            "backgroundcolor": "#E5ECF6",
            "gridcolor": "white",
            "gridwidth": 2,
            "linecolor": "white",
            "showbackground": true,
            "ticks": "",
            "zerolinecolor": "white"
           },
           "yaxis": {
            "backgroundcolor": "#E5ECF6",
            "gridcolor": "white",
            "gridwidth": 2,
            "linecolor": "white",
            "showbackground": true,
            "ticks": "",
            "zerolinecolor": "white"
           },
           "zaxis": {
            "backgroundcolor": "#E5ECF6",
            "gridcolor": "white",
            "gridwidth": 2,
            "linecolor": "white",
            "showbackground": true,
            "ticks": "",
            "zerolinecolor": "white"
           }
          },
          "shapedefaults": {
           "line": {
            "color": "#2a3f5f"
           }
          },
          "ternary": {
           "aaxis": {
            "gridcolor": "white",
            "linecolor": "white",
            "ticks": ""
           },
           "baxis": {
            "gridcolor": "white",
            "linecolor": "white",
            "ticks": ""
           },
           "bgcolor": "#E5ECF6",
           "caxis": {
            "gridcolor": "white",
            "linecolor": "white",
            "ticks": ""
           }
          },
          "title": {
           "x": 0.05
          },
          "xaxis": {
           "automargin": true,
           "gridcolor": "white",
           "linecolor": "white",
           "ticks": "",
           "title": {
            "standoff": 15
           },
           "zerolinecolor": "white",
           "zerolinewidth": 2
          },
          "yaxis": {
           "automargin": true,
           "gridcolor": "white",
           "linecolor": "white",
           "ticks": "",
           "title": {
            "standoff": 15
           },
           "zerolinecolor": "white",
           "zerolinewidth": 2
          }
         }
        },
        "title": {
         "text": "Procentowy spadek udziału komunikacji samochodowej w mobilności"
        },
        "width": 600,
        "xaxis": {
         "dtick": 1,
         "gridcolor": "rgb(0, 0, 0)",
         "side": "bottom",
         "ticks": "",
         "title": {
          "text": "Odsetek mieszkańców rezygnujących <br> z jednego samochodu"
         }
        },
        "yaxis": {
         "dtick": 1,
         "ticks": "",
         "ticksuffix": "  ",
         "title": {
          "text": "Odsetek mieszkańców odczuwających <br> poprawę komfortu oraz punktualności <br> komunikacji miejskiej"
         }
        }
       }
      }
     },
     "metadata": {}
    }
   ],
   "source": [
    "margin_size = 150\n",
    "\n",
    "base = modal_splits['ms_scenario_0_0_0']['car']['median']\n",
    "\n",
    "sc_0_0_15 = modal_splits['ms_scenario_0_0_15']['car']['median']\n",
    "sc_0_0_30 = modal_splits['ms_scenario_0_0_3']['car']['median']\n",
    "\n",
    "sc_15_15_0 = modal_splits['ms_scenario_15_15_0']['car']['median']\n",
    "sc_15_15_15 = modal_splits['ms_scenario_15_15_15']['car']['median']\n",
    "# sc_15_15_30 = modal_splits['ms_scenario_15_15_3']['car']['median']\n",
    "\n",
    "sc_30_30_0 = modal_splits['ms_scenario_3_3_0']['car']['median']\n",
    "# sc_30_30_15 = modal_splits['ms_scenario_3_3_15']['car']['median']\n",
    "sc_30_30_30 = modal_splits['ms_scenario_3_3_3']['car']['median']\n",
    "\n",
    "def get_diff(base, new):\n",
    "    return round(((new - base) / base) * 100 , 1)\n",
    "\n",
    "data=[\n",
    "    [0, get_diff(base, sc_0_0_15), get_diff(base, sc_0_0_30)],\n",
    "    [get_diff(base, sc_15_15_0), get_diff(base, sc_15_15_15), get_diff(base, sc_15_15_0) + get_diff(base, sc_0_0_30)],\n",
    "    [get_diff(base, sc_30_30_0), get_diff(base, sc_30_30_0) + get_diff(base, sc_0_0_15), get_diff(base, sc_30_30_30)]\n",
    "]\n",
    "\n",
    "fig = ff.create_annotated_heatmap(data,\n",
    "                x=['0%', '15%', '30%'],\n",
    "                y=['0%', '15%', '30%'],\n",
    "                colorscale=px.colors.sequential.solar[::-1],\n",
    "               )\n",
    "fig.update_xaxes(side=\"bottom\")\n",
    "fig['layout']['xaxis']['side'] = 'bottom'\n",
    "fig.update_layout(\n",
    "    title='Procentowy spadek udziału komunikacji samochodowej w mobilności',\n",
    "    xaxis_title='Odsetek mieszkańców rezygnujących <br> z jednego samochodu',\n",
    "    yaxis_title='Odsetek mieszkańców odczuwających <br> poprawę komfortu oraz punktualności <br> komunikacji miejskiej',\n",
    "    margin=dict(l=margin_size, r=margin_size, t=margin_size, b=margin_size),\n",
    "    height=600,\n",
    "    width=600,\n",
    "    font=dict(\n",
    "        size=12,\n",
    "    )\n",
    ")\n",
    "for i in range(len(fig.layout.annotations)):\n",
    "    fig.layout.annotations[i].font.size = 12\n",
    "fig.show()"
   ]
  },
  {
   "cell_type": "code",
   "execution_count": 306,
   "metadata": {},
   "outputs": [
    {
     "output_type": "display_data",
     "data": {
      "application/vnd.plotly.v1+json": {
       "config": {
        "plotlyServerURL": "https://plot.ly"
       },
       "data": [
        {
         "colorscale": [
          [
           0,
           "rgb(51, 19, 23)"
          ],
          [
           0.09090909090909091,
           "rgb(79, 28, 33)"
          ],
          [
           0.18181818181818182,
           "rgb(108, 36, 36)"
          ],
          [
           0.2727272727272727,
           "rgb(135, 47, 32)"
          ],
          [
           0.36363636363636365,
           "rgb(157, 66, 25)"
          ],
          [
           0.45454545454545453,
           "rgb(174, 88, 20)"
          ],
          [
           0.5454545454545454,
           "rgb(188, 111, 19)"
          ],
          [
           0.6363636363636364,
           "rgb(199, 137, 22)"
          ],
          [
           0.7272727272727273,
           "rgb(209, 164, 32)"
          ],
          [
           0.8181818181818182,
           "rgb(217, 192, 44)"
          ],
          [
           0.9090909090909091,
           "rgb(222, 222, 59)"
          ],
          [
           1,
           "rgb(224, 253, 74)"
          ]
         ],
         "reversescale": false,
         "showscale": false,
         "type": "heatmap",
         "x": [
          "0%",
          "15%",
          "30%"
         ],
         "y": [
          "0%",
          "15%",
          "30%"
         ],
         "z": [
          [
           0,
           5.4,
           10.7
          ],
          [
           4.6,
           10,
           15.3
          ],
          [
           8.8,
           14.2,
           19.4
          ]
         ]
        }
       ],
       "layout": {
        "annotations": [
         {
          "font": {
           "color": "#FFFFFF",
           "size": 12
          },
          "showarrow": false,
          "text": "0",
          "x": "0%",
          "xref": "x",
          "y": "0%",
          "yref": "y"
         },
         {
          "font": {
           "color": "#FFFFFF",
           "size": 12
          },
          "showarrow": false,
          "text": "5.4",
          "x": "15%",
          "xref": "x",
          "y": "0%",
          "yref": "y"
         },
         {
          "font": {
           "color": "#000000",
           "size": 12
          },
          "showarrow": false,
          "text": "10.7",
          "x": "30%",
          "xref": "x",
          "y": "0%",
          "yref": "y"
         },
         {
          "font": {
           "color": "#FFFFFF",
           "size": 12
          },
          "showarrow": false,
          "text": "4.6",
          "x": "0%",
          "xref": "x",
          "y": "15%",
          "yref": "y"
         },
         {
          "font": {
           "color": "#000000",
           "size": 12
          },
          "showarrow": false,
          "text": "10.0",
          "x": "15%",
          "xref": "x",
          "y": "15%",
          "yref": "y"
         },
         {
          "font": {
           "color": "#000000",
           "size": 12
          },
          "showarrow": false,
          "text": "15.3",
          "x": "30%",
          "xref": "x",
          "y": "15%",
          "yref": "y"
         },
         {
          "font": {
           "color": "#FFFFFF",
           "size": 12
          },
          "showarrow": false,
          "text": "8.8",
          "x": "0%",
          "xref": "x",
          "y": "30%",
          "yref": "y"
         },
         {
          "font": {
           "color": "#000000",
           "size": 12
          },
          "showarrow": false,
          "text": "14.2",
          "x": "15%",
          "xref": "x",
          "y": "30%",
          "yref": "y"
         },
         {
          "font": {
           "color": "#000000",
           "size": 12
          },
          "showarrow": false,
          "text": "19.4",
          "x": "30%",
          "xref": "x",
          "y": "30%",
          "yref": "y"
         }
        ],
        "font": {
         "size": 12
        },
        "height": 600,
        "margin": {
         "b": 150,
         "l": 150,
         "r": 150,
         "t": 150
        },
        "template": {
         "data": {
          "bar": [
           {
            "error_x": {
             "color": "#2a3f5f"
            },
            "error_y": {
             "color": "#2a3f5f"
            },
            "marker": {
             "line": {
              "color": "#E5ECF6",
              "width": 0.5
             }
            },
            "type": "bar"
           }
          ],
          "barpolar": [
           {
            "marker": {
             "line": {
              "color": "#E5ECF6",
              "width": 0.5
             }
            },
            "type": "barpolar"
           }
          ],
          "carpet": [
           {
            "aaxis": {
             "endlinecolor": "#2a3f5f",
             "gridcolor": "white",
             "linecolor": "white",
             "minorgridcolor": "white",
             "startlinecolor": "#2a3f5f"
            },
            "baxis": {
             "endlinecolor": "#2a3f5f",
             "gridcolor": "white",
             "linecolor": "white",
             "minorgridcolor": "white",
             "startlinecolor": "#2a3f5f"
            },
            "type": "carpet"
           }
          ],
          "choropleth": [
           {
            "colorbar": {
             "outlinewidth": 0,
             "ticks": ""
            },
            "type": "choropleth"
           }
          ],
          "contour": [
           {
            "colorbar": {
             "outlinewidth": 0,
             "ticks": ""
            },
            "colorscale": [
             [
              0,
              "#0d0887"
             ],
             [
              0.1111111111111111,
              "#46039f"
             ],
             [
              0.2222222222222222,
              "#7201a8"
             ],
             [
              0.3333333333333333,
              "#9c179e"
             ],
             [
              0.4444444444444444,
              "#bd3786"
             ],
             [
              0.5555555555555556,
              "#d8576b"
             ],
             [
              0.6666666666666666,
              "#ed7953"
             ],
             [
              0.7777777777777778,
              "#fb9f3a"
             ],
             [
              0.8888888888888888,
              "#fdca26"
             ],
             [
              1,
              "#f0f921"
             ]
            ],
            "type": "contour"
           }
          ],
          "contourcarpet": [
           {
            "colorbar": {
             "outlinewidth": 0,
             "ticks": ""
            },
            "type": "contourcarpet"
           }
          ],
          "heatmap": [
           {
            "colorbar": {
             "outlinewidth": 0,
             "ticks": ""
            },
            "colorscale": [
             [
              0,
              "#0d0887"
             ],
             [
              0.1111111111111111,
              "#46039f"
             ],
             [
              0.2222222222222222,
              "#7201a8"
             ],
             [
              0.3333333333333333,
              "#9c179e"
             ],
             [
              0.4444444444444444,
              "#bd3786"
             ],
             [
              0.5555555555555556,
              "#d8576b"
             ],
             [
              0.6666666666666666,
              "#ed7953"
             ],
             [
              0.7777777777777778,
              "#fb9f3a"
             ],
             [
              0.8888888888888888,
              "#fdca26"
             ],
             [
              1,
              "#f0f921"
             ]
            ],
            "type": "heatmap"
           }
          ],
          "heatmapgl": [
           {
            "colorbar": {
             "outlinewidth": 0,
             "ticks": ""
            },
            "colorscale": [
             [
              0,
              "#0d0887"
             ],
             [
              0.1111111111111111,
              "#46039f"
             ],
             [
              0.2222222222222222,
              "#7201a8"
             ],
             [
              0.3333333333333333,
              "#9c179e"
             ],
             [
              0.4444444444444444,
              "#bd3786"
             ],
             [
              0.5555555555555556,
              "#d8576b"
             ],
             [
              0.6666666666666666,
              "#ed7953"
             ],
             [
              0.7777777777777778,
              "#fb9f3a"
             ],
             [
              0.8888888888888888,
              "#fdca26"
             ],
             [
              1,
              "#f0f921"
             ]
            ],
            "type": "heatmapgl"
           }
          ],
          "histogram": [
           {
            "marker": {
             "colorbar": {
              "outlinewidth": 0,
              "ticks": ""
             }
            },
            "type": "histogram"
           }
          ],
          "histogram2d": [
           {
            "colorbar": {
             "outlinewidth": 0,
             "ticks": ""
            },
            "colorscale": [
             [
              0,
              "#0d0887"
             ],
             [
              0.1111111111111111,
              "#46039f"
             ],
             [
              0.2222222222222222,
              "#7201a8"
             ],
             [
              0.3333333333333333,
              "#9c179e"
             ],
             [
              0.4444444444444444,
              "#bd3786"
             ],
             [
              0.5555555555555556,
              "#d8576b"
             ],
             [
              0.6666666666666666,
              "#ed7953"
             ],
             [
              0.7777777777777778,
              "#fb9f3a"
             ],
             [
              0.8888888888888888,
              "#fdca26"
             ],
             [
              1,
              "#f0f921"
             ]
            ],
            "type": "histogram2d"
           }
          ],
          "histogram2dcontour": [
           {
            "colorbar": {
             "outlinewidth": 0,
             "ticks": ""
            },
            "colorscale": [
             [
              0,
              "#0d0887"
             ],
             [
              0.1111111111111111,
              "#46039f"
             ],
             [
              0.2222222222222222,
              "#7201a8"
             ],
             [
              0.3333333333333333,
              "#9c179e"
             ],
             [
              0.4444444444444444,
              "#bd3786"
             ],
             [
              0.5555555555555556,
              "#d8576b"
             ],
             [
              0.6666666666666666,
              "#ed7953"
             ],
             [
              0.7777777777777778,
              "#fb9f3a"
             ],
             [
              0.8888888888888888,
              "#fdca26"
             ],
             [
              1,
              "#f0f921"
             ]
            ],
            "type": "histogram2dcontour"
           }
          ],
          "mesh3d": [
           {
            "colorbar": {
             "outlinewidth": 0,
             "ticks": ""
            },
            "type": "mesh3d"
           }
          ],
          "parcoords": [
           {
            "line": {
             "colorbar": {
              "outlinewidth": 0,
              "ticks": ""
             }
            },
            "type": "parcoords"
           }
          ],
          "pie": [
           {
            "automargin": true,
            "type": "pie"
           }
          ],
          "scatter": [
           {
            "marker": {
             "colorbar": {
              "outlinewidth": 0,
              "ticks": ""
             }
            },
            "type": "scatter"
           }
          ],
          "scatter3d": [
           {
            "line": {
             "colorbar": {
              "outlinewidth": 0,
              "ticks": ""
             }
            },
            "marker": {
             "colorbar": {
              "outlinewidth": 0,
              "ticks": ""
             }
            },
            "type": "scatter3d"
           }
          ],
          "scattercarpet": [
           {
            "marker": {
             "colorbar": {
              "outlinewidth": 0,
              "ticks": ""
             }
            },
            "type": "scattercarpet"
           }
          ],
          "scattergeo": [
           {
            "marker": {
             "colorbar": {
              "outlinewidth": 0,
              "ticks": ""
             }
            },
            "type": "scattergeo"
           }
          ],
          "scattergl": [
           {
            "marker": {
             "colorbar": {
              "outlinewidth": 0,
              "ticks": ""
             }
            },
            "type": "scattergl"
           }
          ],
          "scattermapbox": [
           {
            "marker": {
             "colorbar": {
              "outlinewidth": 0,
              "ticks": ""
             }
            },
            "type": "scattermapbox"
           }
          ],
          "scatterpolar": [
           {
            "marker": {
             "colorbar": {
              "outlinewidth": 0,
              "ticks": ""
             }
            },
            "type": "scatterpolar"
           }
          ],
          "scatterpolargl": [
           {
            "marker": {
             "colorbar": {
              "outlinewidth": 0,
              "ticks": ""
             }
            },
            "type": "scatterpolargl"
           }
          ],
          "scatterternary": [
           {
            "marker": {
             "colorbar": {
              "outlinewidth": 0,
              "ticks": ""
             }
            },
            "type": "scatterternary"
           }
          ],
          "surface": [
           {
            "colorbar": {
             "outlinewidth": 0,
             "ticks": ""
            },
            "colorscale": [
             [
              0,
              "#0d0887"
             ],
             [
              0.1111111111111111,
              "#46039f"
             ],
             [
              0.2222222222222222,
              "#7201a8"
             ],
             [
              0.3333333333333333,
              "#9c179e"
             ],
             [
              0.4444444444444444,
              "#bd3786"
             ],
             [
              0.5555555555555556,
              "#d8576b"
             ],
             [
              0.6666666666666666,
              "#ed7953"
             ],
             [
              0.7777777777777778,
              "#fb9f3a"
             ],
             [
              0.8888888888888888,
              "#fdca26"
             ],
             [
              1,
              "#f0f921"
             ]
            ],
            "type": "surface"
           }
          ],
          "table": [
           {
            "cells": {
             "fill": {
              "color": "#EBF0F8"
             },
             "line": {
              "color": "white"
             }
            },
            "header": {
             "fill": {
              "color": "#C8D4E3"
             },
             "line": {
              "color": "white"
             }
            },
            "type": "table"
           }
          ]
         },
         "layout": {
          "annotationdefaults": {
           "arrowcolor": "#2a3f5f",
           "arrowhead": 0,
           "arrowwidth": 1
          },
          "autotypenumbers": "strict",
          "coloraxis": {
           "colorbar": {
            "outlinewidth": 0,
            "ticks": ""
           }
          },
          "colorscale": {
           "diverging": [
            [
             0,
             "#8e0152"
            ],
            [
             0.1,
             "#c51b7d"
            ],
            [
             0.2,
             "#de77ae"
            ],
            [
             0.3,
             "#f1b6da"
            ],
            [
             0.4,
             "#fde0ef"
            ],
            [
             0.5,
             "#f7f7f7"
            ],
            [
             0.6,
             "#e6f5d0"
            ],
            [
             0.7,
             "#b8e186"
            ],
            [
             0.8,
             "#7fbc41"
            ],
            [
             0.9,
             "#4d9221"
            ],
            [
             1,
             "#276419"
            ]
           ],
           "sequential": [
            [
             0,
             "#0d0887"
            ],
            [
             0.1111111111111111,
             "#46039f"
            ],
            [
             0.2222222222222222,
             "#7201a8"
            ],
            [
             0.3333333333333333,
             "#9c179e"
            ],
            [
             0.4444444444444444,
             "#bd3786"
            ],
            [
             0.5555555555555556,
             "#d8576b"
            ],
            [
             0.6666666666666666,
             "#ed7953"
            ],
            [
             0.7777777777777778,
             "#fb9f3a"
            ],
            [
             0.8888888888888888,
             "#fdca26"
            ],
            [
             1,
             "#f0f921"
            ]
           ],
           "sequentialminus": [
            [
             0,
             "#0d0887"
            ],
            [
             0.1111111111111111,
             "#46039f"
            ],
            [
             0.2222222222222222,
             "#7201a8"
            ],
            [
             0.3333333333333333,
             "#9c179e"
            ],
            [
             0.4444444444444444,
             "#bd3786"
            ],
            [
             0.5555555555555556,
             "#d8576b"
            ],
            [
             0.6666666666666666,
             "#ed7953"
            ],
            [
             0.7777777777777778,
             "#fb9f3a"
            ],
            [
             0.8888888888888888,
             "#fdca26"
            ],
            [
             1,
             "#f0f921"
            ]
           ]
          },
          "colorway": [
           "#636efa",
           "#EF553B",
           "#00cc96",
           "#ab63fa",
           "#FFA15A",
           "#19d3f3",
           "#FF6692",
           "#B6E880",
           "#FF97FF",
           "#FECB52"
          ],
          "font": {
           "color": "#2a3f5f"
          },
          "geo": {
           "bgcolor": "white",
           "lakecolor": "white",
           "landcolor": "#E5ECF6",
           "showlakes": true,
           "showland": true,
           "subunitcolor": "white"
          },
          "hoverlabel": {
           "align": "left"
          },
          "hovermode": "closest",
          "mapbox": {
           "style": "light"
          },
          "paper_bgcolor": "white",
          "plot_bgcolor": "#E5ECF6",
          "polar": {
           "angularaxis": {
            "gridcolor": "white",
            "linecolor": "white",
            "ticks": ""
           },
           "bgcolor": "#E5ECF6",
           "radialaxis": {
            "gridcolor": "white",
            "linecolor": "white",
            "ticks": ""
           }
          },
          "scene": {
           "xaxis": {
            "backgroundcolor": "#E5ECF6",
            "gridcolor": "white",
            "gridwidth": 2,
            "linecolor": "white",
            "showbackground": true,
            "ticks": "",
            "zerolinecolor": "white"
           },
           "yaxis": {
            "backgroundcolor": "#E5ECF6",
            "gridcolor": "white",
            "gridwidth": 2,
            "linecolor": "white",
            "showbackground": true,
            "ticks": "",
            "zerolinecolor": "white"
           },
           "zaxis": {
            "backgroundcolor": "#E5ECF6",
            "gridcolor": "white",
            "gridwidth": 2,
            "linecolor": "white",
            "showbackground": true,
            "ticks": "",
            "zerolinecolor": "white"
           }
          },
          "shapedefaults": {
           "line": {
            "color": "#2a3f5f"
           }
          },
          "ternary": {
           "aaxis": {
            "gridcolor": "white",
            "linecolor": "white",
            "ticks": ""
           },
           "baxis": {
            "gridcolor": "white",
            "linecolor": "white",
            "ticks": ""
           },
           "bgcolor": "#E5ECF6",
           "caxis": {
            "gridcolor": "white",
            "linecolor": "white",
            "ticks": ""
           }
          },
          "title": {
           "x": 0.05
          },
          "xaxis": {
           "automargin": true,
           "gridcolor": "white",
           "linecolor": "white",
           "ticks": "",
           "title": {
            "standoff": 15
           },
           "zerolinecolor": "white",
           "zerolinewidth": 2
          },
          "yaxis": {
           "automargin": true,
           "gridcolor": "white",
           "linecolor": "white",
           "ticks": "",
           "title": {
            "standoff": 15
           },
           "zerolinecolor": "white",
           "zerolinewidth": 2
          }
         }
        },
        "title": {
         "text": "Procentowy wzrost udziału komunikacji zbiorowej w mobilności"
        },
        "width": 600,
        "xaxis": {
         "dtick": 1,
         "gridcolor": "rgb(0, 0, 0)",
         "side": "bottom",
         "ticks": "",
         "title": {
          "text": "Odsetek mieszkańców rezygnujących <br> z jednego samochodu"
         }
        },
        "yaxis": {
         "dtick": 1,
         "ticks": "",
         "ticksuffix": "  ",
         "title": {
          "text": "Odsetek mieszkańców odczuwających <br> poprawę komfortu oraz punktualności <br> komunikacji miejskiej"
         }
        }
       }
      }
     },
     "metadata": {}
    }
   ],
   "source": [
    "mode = 'public'\n",
    "\n",
    "base = modal_splits['ms_scenario_0_0_0'][mode]['median']\n",
    "\n",
    "sc_0_0_15 = modal_splits['ms_scenario_0_0_15'][mode]['median']\n",
    "sc_0_0_30 = modal_splits['ms_scenario_0_0_3'][mode]['median']\n",
    "\n",
    "sc_15_15_0 = modal_splits['ms_scenario_15_15_0'][mode]['median']\n",
    "sc_15_15_15 = modal_splits['ms_scenario_15_15_15'][mode]['median']\n",
    "# sc_15_15_30 = modal_splits['ms_scenario_15_15_3']['car']['median']\n",
    "\n",
    "sc_30_30_0 = modal_splits['ms_scenario_3_3_0'][mode]['median']\n",
    "# sc_30_30_15 = modal_splits['ms_scenario_3_3_15']['car']['median']\n",
    "sc_30_30_30 = modal_splits['ms_scenario_3_3_3'][mode]['median']\n",
    "\n",
    "def get_diff(base, new):\n",
    "    return round(((new - base) / base) * 100 , 1)\n",
    "\n",
    "# data=[\n",
    "#     [get_diff(base, sc_30_30_0), get_diff(base, sc_30_30_0) + get_diff(base, sc_0_0_15), get_diff(base, sc_30_30_30)],\n",
    "#     [get_diff(base, sc_15_15_0), get_diff(base, sc_15_15_15), get_diff(base, sc_15_15_0) + get_diff(base, sc_0_0_30)],\n",
    "#     [0, get_diff(base, sc_0_0_15), get_diff(base, sc_0_0_30)]\n",
    "# ]\n",
    "\n",
    "data=[\n",
    "    [0, get_diff(base, sc_0_0_15), get_diff(base, sc_0_0_30)],\n",
    "    [get_diff(base, sc_15_15_0), get_diff(base, sc_15_15_15), round(get_diff(base, sc_15_15_0) + get_diff(base, sc_0_0_30), 1)],\n",
    "    [get_diff(base, sc_30_30_0), round(get_diff(base, sc_30_30_0) + get_diff(base, sc_0_0_15), 1), get_diff(base, sc_30_30_30)],\n",
    "]\n",
    "\n",
    "# fig = px.imshow(data,\n",
    "#                 labels=dict(\n",
    "#                     x='Odsetek mieszkańców rezygnujących <br> z jednego samochodu',\n",
    "#                     y='Odsetek mieszkańców odczuwających poprawę <br> komfortu oraz punktualności komunikacji miejskiej',\n",
    "#                     color=\"Wzrost (%)\"),\n",
    "#                 x=['0%', '15%', '30%'],\n",
    "#                 y=['30%', '15%', '0%'],\n",
    "#                 color_continuous_scale='solar',\n",
    "#                 title='Procentowy wzrost udziału komunikacji zbiorowej w mobilności'\n",
    "#                )\n",
    "# fig.update_xaxes(side=\"bottom\")\n",
    "# fig.show()\n",
    "\n",
    "fig = ff.create_annotated_heatmap(data,\n",
    "                x=['0%', '15%', '30%'],\n",
    "                y=['0%', '15%', '30%'],\n",
    "                colorscale=px.colors.sequential.solar,\n",
    "               )\n",
    "fig.update_xaxes(side=\"bottom\")\n",
    "fig['layout']['xaxis']['side'] = 'bottom'\n",
    "fig.update_layout(\n",
    "    title='Procentowy wzrost udziału komunikacji zbiorowej w mobilności',\n",
    "    xaxis_title='Odsetek mieszkańców rezygnujących <br> z jednego samochodu',\n",
    "    yaxis_title='Odsetek mieszkańców odczuwających <br> poprawę komfortu oraz punktualności <br> komunikacji miejskiej',\n",
    "    margin=dict(l=margin_size, r=margin_size, t=margin_size, b=margin_size),\n",
    "    height=600,\n",
    "    width=600,\n",
    "    font=dict(\n",
    "        size=12,\n",
    "    )\n",
    ")\n",
    "for i in range(len(fig.layout.annotations)):\n",
    "    fig.layout.annotations[i].font.size = 12\n",
    "fig.show()"
   ]
  },
  {
   "cell_type": "code",
   "execution_count": null,
   "metadata": {},
   "outputs": [],
   "source": []
  },
  {
   "cell_type": "code",
   "execution_count": null,
   "metadata": {},
   "outputs": [],
   "source": []
  }
 ]
}