{
 "metadata": {
  "language_info": {
   "codemirror_mode": {
    "name": "ipython",
    "version": 3
   },
   "file_extension": ".py",
   "mimetype": "text/x-python",
   "name": "python",
   "nbconvert_exporter": "python",
   "pygments_lexer": "ipython3",
   "version": "3.8.5-final"
  },
  "orig_nbformat": 2,
  "kernelspec": {
   "name": "python38564bitmobilityvenvvenvb8bc7019d78143fca132b66bd746cad0",
   "display_name": "Python 3.8.5 64-bit ('mobility_venv': venv)",
   "language": "python"
  }
 },
 "nbformat": 4,
 "nbformat_minor": 2,
 "cells": [
  {
   "cell_type": "code",
   "execution_count": 60,
   "metadata": {},
   "outputs": [],
   "source": [
    "import pandas as pd\n",
    "from sklearn.model_selection import train_test_split\n",
    "from sklearn.tree import DecisionTreeClassifier"
   ]
  },
  {
   "cell_type": "code",
   "execution_count": 10,
   "metadata": {},
   "outputs": [],
   "source": [
    "pd.options.display.max_columns = None"
   ]
  },
  {
   "source": [
    "# Data loading"
   ],
   "cell_type": "markdown",
   "metadata": {}
  },
  {
   "cell_type": "code",
   "execution_count": 96,
   "metadata": {},
   "outputs": [],
   "source": [
    "data = pd.read_excel('../../data/raw/Ankiety.xlsx', \"Wrocław_ankiety+podróże\", engine='openpyxl', header=[0,1])\n",
    "data.columns = [f'{i}_{j}' for i, j in data.columns]\n",
    "data = data.iloc[0:14241]"
   ]
  },
  {
   "cell_type": "code",
   "execution_count": 97,
   "metadata": {},
   "outputs": [
    {
     "output_type": "execute_result",
     "data": {
      "text/plain": [
       "                                                NaN        \n",
       "14239                                                NaN        \n",
       "14240                                                NaN        \n",
       "\n",
       "       PRZEMIESZCZENIE 6_Przyczyna dla [P] Przemieszczenie piesze.1  \\\n",
       "14236                                                NaN              \n",
       "14237                                                NaN              \n",
       "14238                                                NaN              \n",
       "14239                                                NaN              \n",
       "14240                                                NaN              \n",
       "\n",
       "       PRZEMIESZCZENIE 6_Przyczyna dla [P] Przemieszczenie piesze [Inne].1  \\\n",
       "14236                                                NaN                     \n",
       "14237                                                NaN                     \n",
       "14238                                                NaN                     \n",
       "14239                                                NaN                     \n",
       "14240                                                NaN                     \n",
       "\n",
       "       PRZEMIESZCZENIE 6_Przyczyna dla [R] Przemieszczenie rowerem.1  \\\n",
       "14236                                                NaN               \n",
       "14237                                                NaN               \n",
       "14238                                                NaN               \n",
       "14239                                                NaN               \n",
       "14240                                                NaN               \n",
       "\n",
       "       PRZEMIESZCZENIE 6_Przyczyna dla [R] Przemieszczenie rowerem [Inne].1  \\\n",
       "14236                                                NaN                      \n",
       "14237                                                NaN                      \n",
       "14238                                                NaN                      \n",
       "14239                                                NaN                      \n",
       "14240                                                NaN                      \n",
       "\n",
       "       PRZEMIESZCZENIE 6_Przyczyna dla [SOK, SOP, M] Samochód, motor .1  \\\n",
       "14236                                                NaN                  \n",
       "14237                                                NaN                  \n",
       "14238                                                NaN                  \n",
       "14239                                                NaN                  \n",
       "14240                                                NaN                  \n",
       "\n",
       "       PRZEMIESZCZENIE 6_Przyczyna dla [SOK, SOP, M] Samochód, motor  [Inne].1  \\\n",
       "14236                                                NaN                         \n",
       "14237                                                NaN                         \n",
       "14238                                                NaN                         \n",
       "14239                                                NaN                         \n",
       "14240                                                NaN                         \n",
       "\n",
       "       PRZEMIESZCZENIE 6_Przyczyna dla [KW, KZ , T,  PO] Komunikacja zbiorowa .1  \\\n",
       "14236                                                NaN                           \n",
       "14237                                                NaN                           \n",
       "14238                                                NaN                           \n",
       "14239                                                NaN                           \n",
       "14240                                                NaN                           \n",
       "\n",
       "       PRZEMIESZCZENIE 6_Przyczyna dla [KW, KZ , T,  PO] Komunikacja zbiorowa  [Inne].1  \\\n",
       "14236                                                NaN                                  \n",
       "14237                                                NaN                                  \n",
       "14238                                                NaN                                  \n",
       "14239                                                NaN                                  \n",
       "14240                                                NaN                                  \n",
       "\n",
       "       PRZEMIESZCZENIE 6_Przyczyna dla [E]: Wypożyczalnia pojazdów elektrycznych  .1  \\\n",
       "14236                                                NaN                               \n",
       "14237                                                NaN                               \n",
       "14238                                                NaN                               \n",
       "14239                                                NaN                               \n",
       "14240                                                NaN                               \n",
       "\n",
       "       PRZEMIESZCZENIE 6_Przyczyna dla [E]: Wypożyczalnia pojazdów elektrycznych   [Inne].1  \\\n",
       "14236                                                NaN                                      \n",
       "14237                                                NaN                                      \n",
       "14238                                                NaN                                      \n",
       "14239                                                NaN                                      \n",
       "14240                                                NaN                                      \n",
       "\n",
       "       PRZEMIESZCZENIE 6_Przyczyna dla [C]: Carpooling.1  \\\n",
       "14236                                                NaN   \n",
       "14237                                                NaN   \n",
       "14238                                                NaN   \n",
       "14239                                                NaN   \n",
       "14240                                                NaN   \n",
       "\n",
       "       PRZEMIESZCZENIE 6_Przyczyna dla [C]: Carpooling [Inne].1  \\\n",
       "14236                                                NaN          \n",
       "14237                                                NaN          \n",
       "14238                                                NaN          \n",
       "14239                                                NaN          \n",
       "14240                                                NaN          \n",
       "\n",
       "      PRZEMIESZCZENIE 6_Godzina zakończenia jazdy/dojścia (gg:mm:ss)  \\\n",
       "14236                                                NaN               \n",
       "14237                                                NaN               \n",
       "14238                                                NaN               \n",
       "14239                                                NaN               \n",
       "14240                                                NaN               \n",
       "\n",
       "       DANE DO STATYSTYK_Liczba przemieszczeń  \\\n",
       "14236                                     3.0   \n",
       "14237                                     1.0   \n",
       "14238                                     1.0   \n",
       "14239                                     1.0   \n",
       "14240                                     1.0   \n",
       "\n",
       "      DANE DO STATYSTYK_środek transportu DANE DO STATYSTYK_typ podróży  \\\n",
       "14236               pieszo-tramwaj-pieszo                     niepiesze   \n",
       "14237               sam. osobowy kierowca                     niepiesze   \n",
       "14238               sam. osobowy kierowca                     niepiesze   \n",
       "14239               sam. osobowy kierowca                     niepiesze   \n",
       "14240               sam. osobowy kierowca                     niepiesze   \n",
       "\n",
       "      DANE DO STATYSTYK_czas trwania podróży  \\\n",
       "14236                               00:26:00   \n",
       "14237                               00:35:00   \n",
       "14238                               00:45:00   \n",
       "14239                               00:30:00   \n",
       "14240                               00:40:00   \n",
       "\n",
       "      23:59:00_środek transportu podgrupa 23:59:00_środek transportu grupa  \\\n",
       "14236              komunikacja tramwajowa             komunikacja zbiorowa   \n",
       "14237               sam. osobowy kierowca          komunikacja samochodowa   \n",
       "14238               sam. osobowy kierowca          komunikacja samochodowa   \n",
       "14239               sam. osobowy kierowca          komunikacja samochodowa   \n",
       "14240               sam. osobowy kierowca          komunikacja samochodowa   \n",
       "\n",
       "      23:59:00_pora dnia 23:59:00_motywacje 23:59:00_motywacje grupy  \\\n",
       "14236        19:00-19:59           inne-dom                 inne-dom   \n",
       "14237          6:00-6:59          dom-praca                dom-praca   \n",
       "14238        15:00-15:59         praca-inne      niezwiązane z domem   \n",
       "14239        17:00-17:59          inne-inne      niezwiązane z domem   \n",
       "14240        18:00-18:59           inne-dom                 inne-dom   \n",
       "\n",
       "      23:59:00_ŚT_pom  Przemieszczenie 1_rodzaj autobusu  \\\n",
       "14236             NaN                                NaN   \n",
       "14237             NaN                                NaN   \n",
       "14238             NaN                                NaN   \n",
       "14239             NaN                                NaN   \n",
       "14240             NaN                                NaN   \n",
       "\n",
       "      Przemieszczenie 2_rodzaj autobusu Przemieszczenie 3_rodzaj autobusu  \\\n",
       "14236                               NaN                               NaN   \n",
       "14237                               NaN                               NaN   \n",
       "14238                               NaN                               NaN   \n",
       "14239                               NaN                               NaN   \n",
       "14240                               NaN                               NaN   \n",
       "\n",
       "      Przemieszczenie 4_rodzaj autobusu Przemieszczenie 5_rodzaj autobusu  \\\n",
       "14236                               NaN                               NaN   \n",
       "14237                               NaN                               NaN   \n",
       "14238                               NaN                               NaN   \n",
       "14239                               NaN                               NaN   \n",
       "14240                               NaN                               NaN   \n",
       "\n",
       "       Przemieszczenie 5_liczba przesiadek  \\\n",
       "14236                                  2.0   \n",
       "14237                                  0.0   \n",
       "14238                                  0.0   \n",
       "14239                                  0.0   \n",
       "14240                                  0.0   \n",
       "\n",
       "       Przemieszczenie 5_przemieszczenie 1\\npiesze [1]/niepiesze[0]  \\\n",
       "14236                                                0.0              \n",
       "14237                                                1.0              \n",
       "14238                                                1.0              \n",
       "14239                                                1.0              \n",
       "14240                                                1.0              \n",
       "\n",
       "       Przemieszczenie 5_przemieszczenie 2\\npiesze [1]/niepiesze[0]  \\\n",
       "14236                                                1.0              \n",
       "14237                                                NaN              \n",
       "14238                                                NaN              \n",
       "14239                                                NaN              \n",
       "14240                                                NaN              \n",
       "\n",
       "       Przemieszczenie 5_przemieszczenie 3\\npiesze [1]/niepiesze[0]  \\\n",
       "14236                                                0.0              \n",
       "14237                                                NaN              \n",
       "14238                                                NaN              \n",
       "14239                                                NaN              \n",
       "14240                                                NaN              \n",
       "\n",
       "       Przemieszczenie 5_przemieszczenie 4\\npiesze [1]/niepiesze[0]  \\\n",
       "14236                                                NaN              \n",
       "14237                                                NaN              \n",
       "14238                                                NaN              \n",
       "14239                                                NaN              \n",
       "14240                                                NaN              \n",
       "\n",
       "       Przemieszczenie 5_przemieszczenie 5\\npiesze [1]/niepiesze[0]  \\\n",
       "14236                                                NaN              \n",
       "14237                                                NaN              \n",
       "14238                                                NaN              \n",
       "14239                                                NaN              \n",
       "14240                                                NaN              \n",
       "\n",
       "       Przemieszczenie 5_przemieszczenie 6\\npiesze [1]/niepiesze[0]  \\\n",
       "14236                                                NaN              \n",
       "14237                                                NaN              \n",
       "14238                                                NaN              \n",
       "14239                                                NaN              \n",
       "14240                                                NaN              \n",
       "\n",
       "       Przemieszczenie 5_liczba przesiadek.1  \\\n",
       "14236                                    0.0   \n",
       "14237                                    0.0   \n",
       "14238                                    0.0   \n",
       "14239                                    0.0   \n",
       "14240                                    0.0   \n",
       "\n",
       "      Przemieszczenie 5_przemieszczenie 1\\nKomunikacja zbiorowa [KZ]  \\\n",
       "14236                                                nie               \n",
       "14237                                                nie               \n",
       "14238                                                nie               \n",
       "14239                                                nie               \n",
       "14240                                                nie               \n",
       "\n",
       "      Przemieszczenie 5_przemieszczenie 2\\nKomunikacja zbiorowa [KZ]  \\\n",
       "14236                                                 KZ               \n",
       "14237                                                nie               \n",
       "14238                                                nie               \n",
       "14239                                                nie               \n",
       "14240                                                nie               \n",
       "\n",
       "      Przemieszczenie 5_przemieszczenie 3\\nKomunikacja zbiorowa [KZ]  \\\n",
       "14236                                                nie               \n",
       "14237                                                nie               \n",
       "14238                                                nie               \n",
       "14239                                                nie               \n",
       "14240                                                nie               \n",
       "\n",
       "      Przemieszczenie 5_przemieszczenie 4\\nKomunikacja zbiorowa [KZ]  \\\n",
       "14236                                                nie               \n",
       "14237                                                nie               \n",
       "14238                                                nie               \n",
       "14239                                                nie               \n",
       "14240                                                nie               \n",
       "\n",
       "      Przemieszczenie 5_przemieszczenie 5\\nKomunikacja zbiorowa [KZ]  \\\n",
       "14236                                                nie               \n",
       "14237                                                nie               \n",
       "14238                                                nie               \n",
       "14239                                                nie               \n",
       "14240                                                nie               \n",
       "\n",
       "      Przemieszczenie 5_przemieszczenie 6\\nKomunikacja zbiorowa [KZ]  \\\n",
       "14236                                                nie               \n",
       "14237                                                nie               \n",
       "14238                                                nie               \n",
       "14239                                                nie               \n",
       "14240                                                nie               \n",
       "\n",
       "      Przemieszczenie 5_Czy w przemieszczeniu wystąpiło przemieszczenie KZ?  \\\n",
       "14236                                                tak                      \n",
       "14237                                                nie                      \n",
       "14238                                                nie                      \n",
       "14239                                                nie                      \n",
       "14240                                                nie                      \n",
       "\n",
       "       Przemieszczenie 5_Liczba przesiadek\\n[komunikacja zbiorowa]  \\\n",
       "14236                                                0.0             \n",
       "14237                                                0.0             \n",
       "14238                                                0.0             \n",
       "14239                                                0.0             \n",
       "14240                                                0.0             \n",
       "\n",
       "      Przemieszczenie 1_czas dojścia Przemieszczenie 2_czas dojścia  \\\n",
       "14236                       00:05:00                            NaN   \n",
       "14237                            NaN                            NaN   \n",
       "14238                            NaN                            NaN   \n",
       "14239                            NaN                            NaN   \n",
       "14240                            NaN                            NaN   \n",
       "\n",
       "      Przemieszczenie 3_czas dojścia Przemieszczenie 4_czas dojścia  \\\n",
       "14236                       00:06:00                            NaN   \n",
       "14237                            NaN                            NaN   \n",
       "14238                            NaN                            NaN   \n",
       "14239                            NaN                            NaN   \n",
       "14240                            NaN                            NaN   \n",
       "\n",
       "      Przemieszczenie 5_czas dojścia Przemieszczenie 1_czas ogólnie  \\\n",
       "14236                            NaN                 5 min i więcej   \n",
       "14237                            NaN                            NaN   \n",
       "14238                            NaN                            NaN   \n",
       "14239                            NaN                            NaN   \n",
       "14240                            NaN                            NaN   \n",
       "\n",
       "      Przemieszczenie 2_czas ogólnie Przemieszczenie 3_czas ogólnie  \\\n",
       "14236                            NaN                 5 min i więcej   \n",
       "14237                            NaN                            NaN   \n",
       "14238                            NaN                            NaN   \n",
       "14239                            NaN                            NaN   \n",
       "14240                            NaN                            NaN   \n",
       "\n",
       "      Przemieszczenie 4_czas ogólnie Przemieszczenie 5_czas ogólnie  \\\n",
       "14236                            NaN                            NaN   \n",
       "14237                            NaN                            NaN   \n",
       "14238                            NaN                            NaN   \n",
       "14239                            NaN                            NaN   \n",
       "14240                            NaN                            NaN   \n",
       "\n",
       "       Przemieszczenie 5_c  Przemieszczenie 5_00:05:00  \\\n",
       "14236                  1.0                         NaN   \n",
       "14237                  0.0                         NaN   \n",
       "14238                  1.0                         NaN   \n",
       "14239                  1.0                         NaN   \n",
       "14240                  1.0                         NaN   \n",
       "\n",
       "       12290.2674425998_współczynnik korygujący  \\\n",
       "14236                                       1.0   \n",
       "14237                                       1.0   \n",
       "14238                                       1.0   \n",
       "14239                                       1.0   \n",
       "14240                                       1.0   \n",
       "\n",
       "      12290.2674425998_Numer rejonu zagregowanego 12290.2674425998_a  \\\n",
       "14236                                         A44                NaN   \n",
       "14237                                          65                NaN   \n",
       "14238                                          65                NaN   \n",
       "14239                                          65                NaN   \n",
       "14240                                          65                NaN   \n",
       "\n",
       "      12290.2674425998_b  12290.2674425998_średnie napełnienie  \\\n",
       "14236                NaN                                   NaN   \n",
       "14237                NaN                                   1.0   \n",
       "14238                NaN                                   1.0   \n",
       "14239                NaN                                   1.0   \n",
       "14240                NaN                                   1.0   \n",
       "\n",
       "      12290.2674425998_motywacje grupy  \n",
       "14236                         inne-dom  \n",
       "14237                        dom-praca  \n",
       "14238              niezwiązane z domem  \n",
       "14239              niezwiązane z domem  \n",
       "14240                         inne-dom  "
      ],
      "text/html": "<div>\n<style scoped>\n    .dataframe tbody tr th:only-of-type {\n        vertical-align: middle;\n    }\n\n    .dataframe tbody tr th {\n        vertical-align: top;\n    }\n\n    .dataframe thead th {\n        text-align: right;\n    }\n</style>\n<table border=\"1\" class=\"dataframe\">\n  <thead>\n    <tr style=\"text-align: right;\">\n      <th></th>\n      <th>Lp_Lp</th>\n      <th>IDENTYFIKACJA ANKIETY_ID_LOS (numer kwestionariusza)</th>\n      <th>IDENTYFIKACJA ANKIETY_Nr ankietera</th>\n      <th>IDENTYFIKACJA ANKIETY_Data wypełnienia kwestionariusza</th>\n      <th>IDENTYFIKACJA ANKIETY_Godzina wypełnienia kwestionariusza</th>\n      <th>IDENTYFIKACJA ANKIETY_Nr rejonu komunikacyjnego</th>\n      <th>PREFERENCJE DOT. MOBILNOŚCI MIEJSKIEJ_Wprowadzenie opłat za wjazd do centrum dla wszystkich pojazdów</th>\n      <th>PREFERENCJE DOT. MOBILNOŚCI MIEJSKIEJ_Dopuszczenie dojazdu do centrum dla pojazdów, które nie zanieczyszczają środowiska (np. pojazdy elektryczne, hybrydowe lub spełniające najwyższe normy spalania)</th>\n      <th>PREFERENCJE DOT. MOBILNOŚCI MIEJSKIEJ_Jaka jest Pana/Pani opinia na temat rozwiązań wspierających kursowanie tramwajów i autobusów, takich jak priorytet przejazdu na skrzyżowaniach oraz wydzielone pasy na jezdniach?</th>\n      <th>PREFERENCJE DOT. MOBILNOŚCI MIEJSKIEJ_Z jakiego środka transportu zbiorowego korzysta Pan/Pani najczęściej?</th>\n      <th>PREFERENCJE DOT. MOBILNOŚCI MIEJSKIEJ_Dlaczego? \\n[tramwaj/autobus]</th>\n      <th>PREFERENCJE DOT. MOBILNOŚCI MIEJSKIEJ_Dlaczego? [Inne]\\n[tramwaj/autobus]</th>\n      <th>PREFERENCJE DOT. MOBILNOŚCI MIEJSKIEJ_Jaka jest Pana/Pani opinia na temat rozwoju systemu kolei aglomeracyjnej na terenie Wrocławia i wokół niego (rozbudowa układu torowego, zwiększenie częstotliwości itd.)?</th>\n      <th>PREFERENCJE DOT. MOBILNOŚCI MIEJSKIEJ_Jak Pan/Pani ocenia wygodę jazdy pojazdami komunikacji zbiorowej?</th>\n      <th>PREFERENCJE DOT. MOBILNOŚCI MIEJSKIEJ_Jak Pan/Pani ocenia czystość taboru komunikacji zbiorowej we Wrocławiu?</th>\n      <th>PREFERENCJE DOT. MOBILNOŚCI MIEJSKIEJ_Jak Pan/Pani ocenia punktualność komunikacji zbiorowej we Wrocławiu?</th>\n      <th>PREFERENCJE DOT. MOBILNOŚCI MIEJSKIEJ_Jak ocenia Pan/Pani efekty dotychczasowych działań związanych z rozbudową systemu rowerowego we Wrocławiu (dróg i parkingów rowerowych)?</th>\n      <th>PREFERENCJE DOT. MOBILNOŚCI MIEJSKIEJ_Jakie elementy stanowią dla Pana/Pani największa uciążliwość w codziennych podróżach pieszych po Wrocławiu (można wskazać maksymalnie 3 odpowiedzi) [niekorzystne ustawienia sygnalizacji świetlnej]</th>\n      <th>PREFERENCJE DOT. MOBILNOŚCI MIEJSKIEJ_Jakie elementy stanowią dla Pana/Pani największa uciążliwość w codziennych podróżach pieszych po Wrocławiu (można wskazać maksymalnie 3 odpowiedzi) [brak chodników i konieczność poruszania się jezdnią/poboczem/wydeptaną ścieżką]</th>\n      <th>PREFERENCJE DOT. MOBILNOŚCI MIEJSKIEJ_Jakie elementy stanowią dla Pana/Pani największa uciążliwość w codziennych podróżach pieszych po Wrocławiu (można wskazać maksymalnie 3 odpowiedzi) [zły stan nawierzchni chodników]</th>\n      <th>PREFERENCJE DOT. MOBILNOŚCI MIEJSKIEJ_Jakie elementy stanowią dla Pana/Pani największa uciążliwość w codziennych podróżach pieszych po Wrocławiu (można wskazać maksymalnie 3 odpowiedzi) [zastawianie chodników przez parkujące samochody]</th>\n      <th>PREFERENCJE DOT. MOBILNOŚCI MIEJSKIEJ_Jakie elementy stanowią dla Pana/Pani największa uciążliwość w codziennych podróżach pieszych po Wrocławiu (można wskazać maksymalnie 3 odpowiedzi) [niebezpieczne zachowania kierowców]</th>\n      <th>PREFERENCJE DOT. MOBILNOŚCI MIEJSKIEJ_Jakie elementy stanowią dla Pana/Pani największa uciążliwość w codziennych podróżach pieszych po Wrocławiu (można wskazać maksymalnie 3 odpowiedzi) [zagrożenie ze strony rowerzystów poruszających się chodnikami]</th>\n      <th>PREFERENCJE DOT. MOBILNOŚCI MIEJSKIEJ_Jakie elementy stanowią dla Pana/Pani największa uciążliwość w codziennych podróżach pieszych po Wrocławiu (można wskazać maksymalnie 3 odpowiedzi) [zbyt wysokie krawężniki]</th>\n      <th>PREFERENCJE DOT. MOBILNOŚCI MIEJSKIEJ_Jakie elementy stanowią dla Pana/Pani największa uciążliwość w codziennych podróżach pieszych po Wrocławiu (można wskazać maksymalnie 3 odpowiedzi) [brak bieżącego utrzymania czystości/odśnieżania]</th>\n      <th>PREFERENCJE DOT. MOBILNOŚCI MIEJSKIEJ_Jakie elementy stanowią dla Pana/Pani największa uciążliwość w codziennych podróżach pieszych po Wrocławiu (można wskazać maksymalnie 3 odpowiedzi) [niewystarczająca liczba przejść dla pieszych]</th>\n      <th>PREFERENCJE DOT. MOBILNOŚCI MIEJSKIEJ_Jakie elementy stanowią dla Pana/Pani największa uciążliwość w codziennych podróżach pieszych po Wrocławiu (można wskazać maksymalnie 3 odpowiedzi) [brak miejsc wypoczynku na trasie dojścia (np. ławki, zieleń)]</th>\n      <th>PREFERENCJE DOT. MOBILNOŚCI MIEJSKIEJ_Jakie elementy stanowią dla Pana/Pani największa uciążliwość w codziennych podróżach pieszych po Wrocławiu (można wskazać maksymalnie 3 odpowiedzi) [uciążliwy ruch kołowy]</th>\n      <th>PREFERENCJE DOT. MOBILNOŚCI MIEJSKIEJ_Jakie elementy stanowią dla Pana/Pani największa uciążliwość w codziennych podróżach pieszych po Wrocławiu (można wskazać maksymalnie 3 odpowiedzi) [niewłaściwe oświetlenie ciągów pieszych]</th>\n      <th>PREFERENCJE DOT. MOBILNOŚCI MIEJSKIEJ_Jakie elementy stanowią dla Pana/Pani największa uciążliwość w codziennych podróżach pieszych po Wrocławiu (można wskazać maksymalnie 3 odpowiedzi) [nie odczuwam uciążliwości w podróżach pieszych po Wrocławiu]</th>\n      <th>PREFERENCJE DOT. MOBILNOŚCI MIEJSKIEJ_Jakie elementy stanowią dla Pana/Pani największa uciążliwość w codziennych podróżach pieszych po Wrocławiu (można wskazać maksymalnie 3 odpowiedzi) [Inne]</th>\n      <th>DANE O GOSPODARSTWIE DOMOWYM_Liczba osób w gospodarstwie domowym [ogółem]</th>\n      <th>DANE O GOSPODARSTWIE DOMOWYM_Liczba osób w gospodarstwie domowym [powyżej 6 roku życia]</th>\n      <th>DANE O GOSPODARSTWIE DOMOWYM_Liczba środków transportu w gospodarstwie domowym [Samochód prywatny, zarejestrowany na osobę z gosp. domowego]</th>\n      <th>DANE O GOSPODARSTWIE DOMOWYM_Liczba środków transportu w gospodarstwie domowym [Samochód prywatny, nie zarejestrowany na osobę z gosp. domowego [użyczone]]</th>\n      <th>DANE O GOSPODARSTWIE DOMOWYM_Liczba środków transportu w gospodarstwie domowym [Samochód służbowy]</th>\n      <th>DANE O GOSPODARSTWIE DOMOWYM_Liczba środków transportu w gospodarstwie domowym [Rower]</th>\n      <th>DANE O RESPONDENCIE_Przedział wiekowy</th>\n      <th>DANE O RESPONDENCIE_Płeć</th>\n      <th>DANE O RESPONDENCIE_Zajęcie podstawowe</th>\n      <th>DANE O RESPONDENCIE_Zajęcie dodatkowe</th>\n      <th>DANE O RESPONDENCIE_Kondycja fizyczna</th>\n      <th>DANE O RESPONDENCIE_Kondycja fizyczna [Inne]</th>\n      <th>DANE O RESPONDENCIE_Opieka nad innymi osobami</th>\n      <th>DANE O RESPONDENCIE_Posiadanie prawa jazdy kat. B</th>\n      <th>DANE O RESPONDENCIE_Posiadanie biletu okresowego</th>\n      <th>DANE O RESPONDENCIE_Posiadanie ulgi na przejazd komunikacją zbiorową we Wrocławiu</th>\n      <th>DANE O RESPONDENCIE_Czy Pan/Pani odbył/a w dniu wczorajszym co najmniej jedną podróż?</th>\n      <th>DANE O RESPONDENCIE_Jaki był powód nie odbycia podróży?</th>\n      <th>IDENTYFIKACJA OSOBY_Nr. osoby w gosp. dom.</th>\n      <th>IDENTYFIKACJA OSOBY_Nr podróży</th>\n      <th>OPIS PODRÓŻY \"ŹRÓDŁO\"_Godzina rozpoczęcia podróży\\n[gg:mm:ss]</th>\n      <th>OPIS PODRÓŻY \"ŹRÓDŁO\"_Z jakiego miejsca</th>\n      <th>OPIS PODRÓŻY \"ŹRÓDŁO\"_Miejsce rozpoczęcia podróży [Gmina]</th>\n      <th>OPIS PODRÓŻY \"ŹRÓDŁO\"_Miejsce rozpoczęcia podróży \\n[Ulica, tylko poza Wrocławiem]</th>\n      <th>OPIS PODRÓŻY \"ŹRÓDŁO\"_nr</th>\n      <th>OPIS PODRÓŻY \"ŹRÓDŁO\"_Punkt charakterystyczny</th>\n      <th>OPIS PODRÓŻY \"ŹRÓDŁO\"_Nr rejonu</th>\n      <th>OPIS PODRÓŻY \"CEL\"_Mijesce zakończenia podróży [Gmina]</th>\n      <th>OPIS PODRÓŻY \"CEL\"_Mijesce zakończenia podróży\\n[Ulica, tylko poza Wrocławiem]</th>\n      <th>OPIS PODRÓŻY \"CEL\"_nr</th>\n      <th>OPIS PODRÓŻY \"CEL\"_punkt charakterystyczny</th>\n      <th>OPIS PODRÓŻY \"CEL\"_Nr rejonu</th>\n      <th>OPIS PODRÓŻY \"CEL\"_Do jakiego miejsca</th>\n      <th>OPIS PODRÓŻY \"CEL\"_Godzina zakończenia podróży \\n[gg:mm:ss]</th>\n      <th>OPIS PODRÓŻY \"CEL\"_Do jakiego miejsca [Inne]</th>\n      <th>PRZEMIESZCZENIE 1_Godzina rozpoczęcia jazdy/dojścia (gg:mm:ss)</th>\n      <th>PRZEMIESZCZENIE 1_Wykorzystany środek transportu w ramach wykonywanej podróży</th>\n      <th>PRZEMIESZCZENIE 1_Wykorzystany środek transportu w ramach wykonywanej podróży [Inne]</th>\n      <th>PRZEMIESZCZENIE 1_Liczba osób</th>\n      <th>PRZEMIESZCZENIE 1_Numer linii autobusowej (dotyczy komunikacji zbiorowej we Wrocławiu)</th>\n      <th>PRZEMIESZCZENIE 1_Przyczyna dla [P] Przemieszczenie piesze</th>\n      <th>PRZEMIESZCZENIE 1_Przyczyna dla [P] Przemieszczenie piesze [Inne]</th>\n      <th>PRZEMIESZCZENIE 1_Przyczyna dla [R] Przemieszczenie rowerem</th>\n      <th>PRZEMIESZCZENIE 1_Przyczyna dla [R] Przemieszczenie rowerem [Inne]</th>\n      <th>PRZEMIESZCZENIE 1_Przyczyna dla [SOK, SOP, M] Samochód, motor</th>\n      <th>PRZEMIESZCZENIE 1_Przyczyna dla [SOK, SOP, M] Samochód, motor  [Inne]</th>\n      <th>PRZEMIESZCZENIE 1_Przyczyna dla [KW, KZ , T,  PO] Komunikacja zbiorowa</th>\n      <th>PRZEMIESZCZENIE 1_Przyczyna dla [KW, KZ , T,  PO] Komunikacja zbiorowa  [Inne]</th>\n      <th>PRZEMIESZCZENIE 1_Przyczyna dla [E]: Wypożyczalnia pojazdów elektrycznych</th>\n      <th>PRZEMIESZCZENIE 1_Przyczyna dla [E]: Wypożyczalnia pojazdów elektrycznych   [Inne]</th>\n      <th>PRZEMIESZCZENIE 1_Przyczyna dla [C]: Carpooling</th>\n      <th>PRZEMIESZCZENIE 1_Przyczyna dla [C]: Carpooling [Inne]</th>\n      <th>PRZEMIESZCZENIE 1_Przyczyna dla [P] Przemieszczenie piesze.1</th>\n      <th>PRZEMIESZCZENIE 1_Przyczyna dla [P] Przemieszczenie piesze [Inne].1</th>\n      <th>PRZEMIESZCZENIE 1_Przyczyna dla [R] Przemieszczenie rowerem.1</th>\n      <th>PRZEMIESZCZENIE 1_Przyczyna dla [R] Przemieszczenie rowerem [Inne].1</th>\n      <th>PRZEMIESZCZENIE 1_Przyczyna dla [SOK, SOP, M] Samochód, motor .1</th>\n      <th>PRZEMIESZCZENIE 1_Przyczyna dla [SOK, SOP, M] Samochód, motor  [Inne].1</th>\n      <th>PRZEMIESZCZENIE 1_Przyczyna dla [KW, KZ , T,  PO] Komunikacja zbiorowa .1</th>\n      <th>PRZEMIESZCZENIE 1_Przyczyna dla [KW, KZ , T,  PO] Komunikacja zbiorowa  [Inne].1</th>\n      <th>PRZEMIESZCZENIE 1_Przyczyna dla [E]: Wypożyczalnia pojazdów elektrycznych  .1</th>\n      <th>PRZEMIESZCZENIE 1_Przyczyna dla [E]: Wypożyczalnia pojazdów elektrycznych   [Inne].1</th>\n      <th>PRZEMIESZCZENIE 1_Przyczyna dla [C]: Carpooling.1</th>\n      <th>PRZEMIESZCZENIE 1_Przyczyna dla [C]: Carpooling [Inne].1</th>\n      <th>PRZEMIESZCZENIE 1_Godzina zakończenia jazdy/dojścia (gg:mm:ss)</th>\n      <th>PRZEMIESZCZENIE 2_Dodać następną jazdę/dojście?</th>\n      <th>PRZEMIESZCZENIE 2_Godzina rozpoczęcia jazdy/dojścia (gg:mm)</th>\n      <th>PRZEMIESZCZENIE 2_Wykorzystany środek transportu w ramach wykonywanej podróży</th>\n      <th>PRZEMIESZCZENIE 2_Wykorzystany środek transportu w ramach wykonywanej podróży [Inne]</th>\n      <th>PRZEMIESZCZENIE 2_Liczba osób</th>\n      <th>PRZEMIESZCZENIE 2_Numer linii autobusowej (dotyczy komunikacji zbiorowej we Wrocławiu)</th>\n      <th>PRZEMIESZCZENIE 2_Przyczyna dla [P] Przemieszczenie piesze</th>\n      <th>PRZEMIESZCZENIE 2_Przyczyna dla [P] Przemieszczenie piesze [Inne]</th>\n      <th>PRZEMIESZCZENIE 2_Przyczyna dla [R] Przemieszczenie rowerem</th>\n      <th>PRZEMIESZCZENIE 2_Przyczyna dla [R] Przemieszczenie rowerem [Inne]</th>\n      <th>PRZEMIESZCZENIE 2_Przyczyna dla [SOK, SOP, M] Samochód, motor</th>\n      <th>PRZEMIESZCZENIE 2_Przyczyna dla [SOK, SOP, M] Samochód, motor  [Inne]</th>\n      <th>PRZEMIESZCZENIE 2_Przyczyna dla [KW, KZ , T,  PO] Komunikacja zbiorowa</th>\n      <th>PRZEMIESZCZENIE 2_Przyczyna dla [KW, KZ , T,  PO] Komunikacja zbiorowa  [Inne]</th>\n      <th>PRZEMIESZCZENIE 2_Przyczyna dla [E]: Wypożyczalnia pojazdów elektrycznych</th>\n      <th>PRZEMIESZCZENIE 2_Przyczyna dla [E]: Wypożyczalnia pojazdów elektrycznych   [Inne]</th>\n      <th>PRZEMIESZCZENIE 2_Przyczyna dla [C]: Carpooling</th>\n      <th>PRZEMIESZCZENIE 2_Przyczyna dla [C]: Carpooling [Inne]</th>\n      <th>PRZEMIESZCZENIE 2_Przyczyna dla [P] Przemieszczenie piesze.1</th>\n      <th>PRZEMIESZCZENIE 2_Przyczyna dla [P] Przemieszczenie piesze [Inne].1</th>\n      <th>PRZEMIESZCZENIE 2_Przyczyna dla [R] Przemieszczenie rowerem.1</th>\n      <th>PRZEMIESZCZENIE 2_Przyczyna dla [R] Przemieszczenie rowerem [Inne].1</th>\n      <th>PRZEMIESZCZENIE 2_Przyczyna dla [SOK, SOP, M] Samochód, motor .1</th>\n      <th>PRZEMIESZCZENIE 2_Przyczyna dla [SOK, SOP, M] Samochód, motor  [Inne].1</th>\n      <th>PRZEMIESZCZENIE 2_Przyczyna dla [KW, KZ , T,  PO] Komunikacja zbiorowa .1</th>\n      <th>PRZEMIESZCZENIE 2_Przyczyna dla [KW, KZ , T,  PO] Komunikacja zbiorowa  [Inne].1</th>\n      <th>PRZEMIESZCZENIE 2_Przyczyna dla [E]: Wypożyczalnia pojazdów elektrycznych  .1</th>\n      <th>PRZEMIESZCZENIE 2_Przyczyna dla [E]: Wypożyczalnia pojazdów elektrycznych   [Inne].1</th>\n      <th>PRZEMIESZCZENIE 2_Przyczyna dla [C]: Carpooling.1</th>\n      <th>PRZEMIESZCZENIE 2_Przyczyna dla [C]: Carpooling [Inne].1</th>\n      <th>PRZEMIESZCZENIE 2_Godzina zakończenia jazdy/dojścia (gg:mm:ss)</th>\n      <th>PRZEMIESZCZENIE 3_Dodać następną jazdę/dojście?</th>\n      <th>PRZEMIESZCZENIE 3_Godzina rozpoczęcia jazdy/dojścia (gg:mm)</th>\n      <th>PRZEMIESZCZENIE 3_Wykorzystany środek transportu w ramach wykonywanej podróży</th>\n      <th>PRZEMIESZCZENIE 3_Wykorzystany środek transportu w ramach wykonywanej podróży [Inne]</th>\n      <th>PRZEMIESZCZENIE 3_Liczba osób</th>\n      <th>PRZEMIESZCZENIE 3_Numer linii autobusowej (dotyczy komunikacji zbiorowej we Wrocławiu)</th>\n      <th>PRZEMIESZCZENIE 3_Przyczyna dla [P] Przemieszczenie piesze</th>\n      <th>PRZEMIESZCZENIE 3_Przyczyna dla [P] Przemieszczenie piesze [Inne]</th>\n      <th>PRZEMIESZCZENIE 3_Przyczyna dla [R] Przemieszczenie rowerem</th>\n      <th>PRZEMIESZCZENIE 3_Przyczyna dla [R] Przemieszczenie rowerem [Inne]</th>\n      <th>PRZEMIESZCZENIE 3_Przyczyna dla [SOK, SOP, M] Samochód, motor</th>\n      <th>PRZEMIESZCZENIE 3_Przyczyna dla [SOK, SOP, M] Samochód, motor  [Inne]</th>\n      <th>PRZEMIESZCZENIE 3_Przyczyna dla [KW, KZ , T,  PO] Komunikacja zbiorowa</th>\n      <th>PRZEMIESZCZENIE 3_Przyczyna dla [KW, KZ , T,  PO] Komunikacja zbiorowa  [Inne]</th>\n      <th>PRZEMIESZCZENIE 3_Przyczyna dla [E]: Wypożyczalnia pojazdów elektrycznych</th>\n      <th>PRZEMIESZCZENIE 3_Przyczyna dla [E]: Wypożyczalnia pojazdów elektrycznych   [Inne]</th>\n      <th>PRZEMIESZCZENIE 3_Przyczyna dla [C]: Carpooling</th>\n      <th>PRZEMIESZCZENIE 3_Przyczyna dla [C]: Carpooling [Inne]</th>\n      <th>PRZEMIESZCZENIE 3_Przyczyna dla [P] Przemieszczenie piesze.1</th>\n      <th>PRZEMIESZCZENIE 3_Przyczyna dla [P] Przemieszczenie piesze [Inne].1</th>\n      <th>PRZEMIESZCZENIE 3_Przyczyna dla [R] Przemieszczenie rowerem.1</th>\n      <th>PRZEMIESZCZENIE 3_Przyczyna dla [R] Przemieszczenie rowerem [Inne].1</th>\n      <th>PRZEMIESZCZENIE 3_Przyczyna dla [SOK, SOP, M] Samochód, motor .1</th>\n      <th>PRZEMIESZCZENIE 3_Przyczyna dla [SOK, SOP, M] Samochód, motor  [Inne].1</th>\n      <th>PRZEMIESZCZENIE 3_Przyczyna dla [KW, KZ , T,  PO] Komunikacja zbiorowa .1</th>\n      <th>PRZEMIESZCZENIE 3_Przyczyna dla [KW, KZ , T,  PO] Komunikacja zbiorowa  [Inne].1</th>\n      <th>PRZEMIESZCZENIE 3_Przyczyna dla [E]: Wypożyczalnia pojazdów elektrycznych  .1</th>\n      <th>PRZEMIESZCZENIE 3_Przyczyna dla [E]: Wypożyczalnia pojazdów elektrycznych   [Inne].1</th>\n      <th>PRZEMIESZCZENIE 3_Przyczyna dla [C]: Carpooling.1</th>\n      <th>PRZEMIESZCZENIE 3_Przyczyna dla [C]: Carpooling [Inne].1</th>\n      <th>PRZEMIESZCZENIE 3_Godzina zakończenia jazdy/dojścia (gg:mm:ss)</th>\n      <th>PRZEMIESZCZENIE 4_Dodać następną jazdę/dojście?</th>\n      <th>PRZEMIESZCZENIE 4_Godzina rozpoczęcia jazdy/dojścia (gg:mm)</th>\n      <th>PRZEMIESZCZENIE 4_Wykorzystany środek transportu w ramach wykonywanej podróży</th>\n      <th>PRZEMIESZCZENIE 4_Wykorzystany środek transportu w ramach wykonywanej podróży [Inne]</th>\n      <th>PRZEMIESZCZENIE 4_Liczba osób</th>\n      <th>PRZEMIESZCZENIE 4_Numer linii autobusowej (dotyczy komunikacji zbiorowej we Wrocławiu)</th>\n      <th>PRZEMIESZCZENIE 4_Przyczyna dla [P] Przemieszczenie piesze</th>\n      <th>PRZEMIESZCZENIE 4_Przyczyna dla [P] Przemieszczenie piesze [Inne]</th>\n      <th>PRZEMIESZCZENIE 4_Przyczyna dla [R] Przemieszczenie rowerem</th>\n      <th>PRZEMIESZCZENIE 4_Przyczyna dla [R] Przemieszczenie rowerem [Inne]</th>\n      <th>PRZEMIESZCZENIE 4_Przyczyna dla [SOK, SOP, M] Samochód, motor</th>\n      <th>PRZEMIESZCZENIE 4_Przyczyna dla [SOK, SOP, M] Samochód, motor  [Inne]</th>\n      <th>PRZEMIESZCZENIE 4_Przyczyna dla [KW, KZ , T,  PO] Komunikacja zbiorowa</th>\n      <th>PRZEMIESZCZENIE 4_Przyczyna dla [KW, KZ , T,  PO] Komunikacja zbiorowa  [Inne]</th>\n      <th>PRZEMIESZCZENIE 4_Przyczyna dla [E]: Wypożyczalnia pojazdów elektrycznych</th>\n      <th>PRZEMIESZCZENIE 4_Przyczyna dla [E]: Wypożyczalnia pojazdów elektrycznych   [Inne]</th>\n      <th>PRZEMIESZCZENIE 4_Przyczyna dla [C]: Carpooling</th>\n      <th>PRZEMIESZCZENIE 4_Przyczyna dla [C]: Carpooling [Inne]</th>\n      <th>PRZEMIESZCZENIE 4_Przyczyna dla [P] Przemieszczenie piesze.1</th>\n      <th>PRZEMIESZCZENIE 4_Przyczyna dla [P] Przemieszczenie piesze [Inne].1</th>\n      <th>PRZEMIESZCZENIE 4_Przyczyna dla [R] Przemieszczenie rowerem.1</th>\n      <th>PRZEMIESZCZENIE 4_Przyczyna dla [R] Przemieszczenie rowerem [Inne].1</th>\n      <th>PRZEMIESZCZENIE 4_Przyczyna dla [SOK, SOP, M] Samochód, motor .1</th>\n      <th>PRZEMIESZCZENIE 4_Przyczyna dla [SOK, SOP, M] Samochód, motor  [Inne].1</th>\n      <th>PRZEMIESZCZENIE 4_Przyczyna dla [KW, KZ , T,  PO] Komunikacja zbiorowa .1</th>\n      <th>PRZEMIESZCZENIE 4_Przyczyna dla [KW, KZ , T,  PO] Komunikacja zbiorowa  [Inne].1</th>\n      <th>PRZEMIESZCZENIE 4_Przyczyna dla [E]: Wypożyczalnia pojazdów elektrycznych  .1</th>\n      <th>PRZEMIESZCZENIE 4_Przyczyna dla [E]: Wypożyczalnia pojazdów elektrycznych   [Inne].1</th>\n      <th>PRZEMIESZCZENIE 4_Przyczyna dla [C]: Carpooling.1</th>\n      <th>PRZEMIESZCZENIE 4_Przyczyna dla [C]: Carpooling [Inne].1</th>\n      <th>PRZEMIESZCZENIE 4_Godzina zakończenia jazdy/dojścia (gg:mm:ss)</th>\n      <th>PRZEMIESZCZENIE 5_Dodać następną jazdę/dojście?</th>\n      <th>PRZEMIESZCZENIE 5_Godzina rozpoczęcia jazdy/dojścia (gg:mm)</th>\n      <th>PRZEMIESZCZENIE 5_Wykorzystany środek transportu w ramach wykonywanej podróży</th>\n      <th>PRZEMIESZCZENIE 5_Wykorzystany środek transportu w ramach wykonywanej podróży [Inne]</th>\n      <th>PRZEMIESZCZENIE 5_Liczba osób</th>\n      <th>PRZEMIESZCZENIE 5_Numer linii autobusowej (dotyczy komunikacji zbiorowej we Wrocławiu)</th>\n      <th>PRZEMIESZCZENIE 5_Przyczyna dla [P] Przemieszczenie piesze</th>\n      <th>PRZEMIESZCZENIE 5_Przyczyna dla [P] Przemieszczenie piesze [Inne]</th>\n      <th>PRZEMIESZCZENIE 5_Przyczyna dla [R] Przemieszczenie rowerem</th>\n      <th>PRZEMIESZCZENIE 5_Przyczyna dla [R] Przemieszczenie rowerem [Inne]</th>\n      <th>PRZEMIESZCZENIE 5_Przyczyna dla [SOK, SOP, M] Samochód, motor</th>\n      <th>PRZEMIESZCZENIE 5_Przyczyna dla [SOK, SOP, M] Samochód, motor  [Inne]</th>\n      <th>PRZEMIESZCZENIE 5_Przyczyna dla [KW, KZ , T,  PO] Komunikacja zbiorowa</th>\n      <th>PRZEMIESZCZENIE 5_Przyczyna dla [KW, KZ , T,  PO] Komunikacja zbiorowa  [Inne]</th>\n      <th>PRZEMIESZCZENIE 5_Przyczyna dla [E]: Wypożyczalnia pojazdów elektrycznych</th>\n      <th>PRZEMIESZCZENIE 5_Przyczyna dla [E]: Wypożyczalnia pojazdów elektrycznych   [Inne]</th>\n      <th>PRZEMIESZCZENIE 5_Przyczyna dla [C]: Carpooling</th>\n      <th>PRZEMIESZCZENIE 5_Przyczyna dla [C]: Carpooling [Inne]</th>\n      <th>PRZEMIESZCZENIE 5_Przyczyna dla [P] Przemieszczenie piesze.1</th>\n      <th>PRZEMIESZCZENIE 5_Przyczyna dla [P] Przemieszczenie piesze [Inne].1</th>\n      <th>PRZEMIESZCZENIE 5_Przyczyna dla [R] Przemieszczenie rowerem.1</th>\n      <th>PRZEMIESZCZENIE 5_Przyczyna dla [R] Przemieszczenie rowerem [Inne].1</th>\n      <th>PRZEMIESZCZENIE 5_Przyczyna dla [SOK, SOP, M] Samochód, motor .1</th>\n      <th>PRZEMIESZCZENIE 5_Przyczyna dla [SOK, SOP, M] Samochód, motor  [Inne].1</th>\n      <th>PRZEMIESZCZENIE 5_Przyczyna dla [KW, KZ , T,  PO] Komunikacja zbiorowa .1</th>\n      <th>PRZEMIESZCZENIE 5_Przyczyna dla [KW, KZ , T,  PO] Komunikacja zbiorowa  [Inne].1</th>\n      <th>PRZEMIESZCZENIE 5_Przyczyna dla [E]: Wypożyczalnia pojazdów elektrycznych  .1</th>\n      <th>PRZEMIESZCZENIE 5_Przyczyna dla [E]: Wypożyczalnia pojazdów elektrycznych   [Inne].1</th>\n      <th>PRZEMIESZCZENIE 5_Przyczyna dla [C]: Carpooling.1</th>\n      <th>PRZEMIESZCZENIE 5_Przyczyna dla [C]: Carpooling [Inne].1</th>\n      <th>PRZEMIESZCZENIE 5_Godzina zakończenia jazdy/dojścia (gg:mm:ss)</th>\n      <th>PRZEMIESZCZENIE 6_Dodać następną jazdę/dojście?</th>\n      <th>PRZEMIESZCZENIE 6_Godzina rozpoczęcia jazdy/dojścia (gg:mm:ss)</th>\n      <th>PRZEMIESZCZENIE 6_Wykorzystany środek transportu w ramach wykonywanej podróży</th>\n      <th>PRZEMIESZCZENIE 6_Wykorzystany środek transportu w ramach wykonywanej podróży [Inne]</th>\n      <th>PRZEMIESZCZENIE 6_Liczba osób</th>\n      <th>PRZEMIESZCZENIE 6_Numer linii autobusowej (dotyczy komunikacji zbiorowej we Wrocławiu)</th>\n      <th>PRZEMIESZCZENIE 6_Przyczyna dla [P] Przemieszczenie piesze</th>\n      <th>PRZEMIESZCZENIE 6_Przyczyna dla [P] Przemieszczenie piesze [Inne]</th>\n      <th>PRZEMIESZCZENIE 6_Przyczyna dla [R] Przemieszczenie rowerem</th>\n      <th>PRZEMIESZCZENIE 6_Przyczyna dla [R] Przemieszczenie rowerem [Inne]</th>\n      <th>PRZEMIESZCZENIE 6_Przyczyna dla [SOK, SOP, M] Samochód, motor</th>\n      <th>PRZEMIESZCZENIE 6_Przyczyna dla [SOK, SOP, M] Samochód, motor  [Inne]</th>\n      <th>PRZEMIESZCZENIE 6_Przyczyna dla [KW, KZ , T,  PO] Komunikacja zbiorowa</th>\n      <th>PRZEMIESZCZENIE 6_Przyczyna dla [KW, KZ , T,  PO] Komunikacja zbiorowa  [Inne]</th>\n      <th>PRZEMIESZCZENIE 6_Przyczyna dla [E]: Wypożyczalnia pojazdów elektrycznych</th>\n      <th>PRZEMIESZCZENIE 6_Przyczyna dla [E]: Wypożyczalnia pojazdów elektrycznych   [Inne]</th>\n      <th>PRZEMIESZCZENIE 6_Przyczyna dla [C]: Carpooling</th>\n      <th>PRZEMIESZCZENIE 6_Przyczyna dla [C]: Carpooling [Inne]</th>\n      <th>PRZEMIESZCZENIE 6_Przyczyna dla [P] Przemieszczenie piesze.1</th>\n      <th>PRZEMIESZCZENIE 6_Przyczyna dla [P] Przemieszczenie piesze [Inne].1</th>\n      <th>PRZEMIESZCZENIE 6_Przyczyna dla [R] Przemieszczenie rowerem.1</th>\n      <th>PRZEMIESZCZENIE 6_Przyczyna dla [R] Przemieszczenie rowerem [Inne].1</th>\n      <th>PRZEMIESZCZENIE 6_Przyczyna dla [SOK, SOP, M] Samochód, motor .1</th>\n      <th>PRZEMIESZCZENIE 6_Przyczyna dla [SOK, SOP, M] Samochód, motor  [Inne].1</th>\n      <th>PRZEMIESZCZENIE 6_Przyczyna dla [KW, KZ , T,  PO] Komunikacja zbiorowa .1</th>\n      <th>PRZEMIESZCZENIE 6_Przyczyna dla [KW, KZ , T,  PO] Komunikacja zbiorowa  [Inne].1</th>\n      <th>PRZEMIESZCZENIE 6_Przyczyna dla [E]: Wypożyczalnia pojazdów elektrycznych  .1</th>\n      <th>PRZEMIESZCZENIE 6_Przyczyna dla [E]: Wypożyczalnia pojazdów elektrycznych   [Inne].1</th>\n      <th>PRZEMIESZCZENIE 6_Przyczyna dla [C]: Carpooling.1</th>\n      <th>PRZEMIESZCZENIE 6_Przyczyna dla [C]: Carpooling [Inne].1</th>\n      <th>PRZEMIESZCZENIE 6_Godzina zakończenia jazdy/dojścia (gg:mm:ss)</th>\n      <th>DANE DO STATYSTYK_Liczba przemieszczeń</th>\n      <th>DANE DO STATYSTYK_środek transportu</th>\n      <th>DANE DO STATYSTYK_typ podróży</th>\n      <th>DANE DO STATYSTYK_czas trwania podróży</th>\n      <th>23:59:00_środek transportu podgrupa</th>\n      <th>23:59:00_środek transportu grupa</th>\n      <th>23:59:00_pora dnia</th>\n      <th>23:59:00_motywacje</th>\n      <th>23:59:00_motywacje grupy</th>\n      <th>23:59:00_ŚT_pom</th>\n      <th>Przemieszczenie 1_rodzaj autobusu</th>\n      <th>Przemieszczenie 2_rodzaj autobusu</th>\n      <th>Przemieszczenie 3_rodzaj autobusu</th>\n      <th>Przemieszczenie 4_rodzaj autobusu</th>\n      <th>Przemieszczenie 5_rodzaj autobusu</th>\n      <th>Przemieszczenie 5_liczba przesiadek</th>\n      <th>Przemieszczenie 5_przemieszczenie 1\\npiesze [1]/niepiesze[0]</th>\n      <th>Przemieszczenie 5_przemieszczenie 2\\npiesze [1]/niepiesze[0]</th>\n      <th>Przemieszczenie 5_przemieszczenie 3\\npiesze [1]/niepiesze[0]</th>\n      <th>Przemieszczenie 5_przemieszczenie 4\\npiesze [1]/niepiesze[0]</th>\n      <th>Przemieszczenie 5_przemieszczenie 5\\npiesze [1]/niepiesze[0]</th>\n      <th>Przemieszczenie 5_przemieszczenie 6\\npiesze [1]/niepiesze[0]</th>\n      <th>Przemieszczenie 5_liczba przesiadek.1</th>\n      <th>Przemieszczenie 5_przemieszczenie 1\\nKomunikacja zbiorowa [KZ]</th>\n      <th>Przemieszczenie 5_przemieszczenie 2\\nKomunikacja zbiorowa [KZ]</th>\n      <th>Przemieszczenie 5_przemieszczenie 3\\nKomunikacja zbiorowa [KZ]</th>\n      <th>Przemieszczenie 5_przemieszczenie 4\\nKomunikacja zbiorowa [KZ]</th>\n      <th>Przemieszczenie 5_przemieszczenie 5\\nKomunikacja zbiorowa [KZ]</th>\n      <th>Przemieszczenie 5_przemieszczenie 6\\nKomunikacja zbiorowa [KZ]</th>\n      <th>Przemieszczenie 5_Czy w przemieszczeniu wystąpiło przemieszczenie KZ?</th>\n      <th>Przemieszczenie 5_Liczba przesiadek\\n[komunikacja zbiorowa]</th>\n      <th>Przemieszczenie 1_czas dojścia</th>\n      <th>Przemieszczenie 2_czas dojścia</th>\n      <th>Przemieszczenie 3_czas dojścia</th>\n      <th>Przemieszczenie 4_czas dojścia</th>\n      <th>Przemieszczenie 5_czas dojścia</th>\n      <th>Przemieszczenie 1_czas ogólnie</th>\n      <th>Przemieszczenie 2_czas ogólnie</th>\n      <th>Przemieszczenie 3_czas ogólnie</th>\n      <th>Przemieszczenie 4_czas ogólnie</th>\n      <th>Przemieszczenie 5_czas ogólnie</th>\n      <th>Przemieszczenie 5_c</th>\n      <th>Przemieszczenie 5_00:05:00</th>\n      <th>12290.2674425998_współczynnik korygujący</th>\n      <th>12290.2674425998_Numer rejonu zagregowanego</th>\n      <th>12290.2674425998_a</th>\n      <th>12290.2674425998_b</th>\n      <th>12290.2674425998_średnie napełnienie</th>\n      <th>12290.2674425998_motywacje grupy</th>\n    </tr>\n  </thead>\n  <tbody>\n    <tr>\n      <th>14236</th>\n      <td>14237.0</td>\n      <td>LOS_A44_271_151</td>\n      <td>NaN</td>\n      <td>2018-10-06</td>\n      <td>14:42</td>\n      <td>271.0</td>\n      <td>raczej się nie zgadzam</td>\n      <td>całkowicie się zgadzam</td>\n      <td>całkowicie się zgadzam</td>\n      <td>autobus</td>\n      <td>jest wygodniejszy</td>\n      <td>NaN</td>\n      <td>NaN</td>\n      <td>ani dobrze ani źle</td>\n      <td>raczej dobrze</td>\n      <td>ani dobrze ani źle</td>\n      <td>raczej dobrze</td>\n      <td>nie</td>\n      <td>tak</td>\n      <td>nie</td>\n      <td>tak</td>\n      <td>nie</td>\n      <td>nie</td>\n      <td>nie</td>\n      <td>nie</td>\n      <td>tak</td>\n      <td>nie</td>\n      <td>nie</td>\n      <td>nie</td>\n      <td>nie</td>\n      <td>NaN</td>\n      <td>2.0</td>\n      <td>2.0</td>\n      <td>0.0</td>\n      <td>0.0</td>\n      <td>0.0</td>\n      <td>1.0</td>\n      <td>61 i więcej (emeryci kobiety)</td>\n      <td>Kobieta</td>\n      <td>emeryt</td>\n      <td>pozostali</td>\n      <td>dolegliwości zdrowotne</td>\n      <td>NaN</td>\n      <td>opieka nad inną osobą</td>\n      <td>Tak</td>\n      <td>Nie</td>\n      <td>0.5</td>\n      <td>Tak</td>\n      <td>NaN</td>\n      <td>1.0</td>\n      <td>2.0</td>\n      <td>19:10:00</td>\n      <td>inne</td>\n      <td>WROCŁAW</td>\n      <td>NaN</td>\n      <td>NaN</td>\n      <td>NaN</td>\n      <td>4.0</td>\n      <td>NaN</td>\n      <td>NaN</td>\n      <td>NaN</td>\n      <td>NaN</td>\n      <td>NaN</td>\n      <td>dom</td>\n      <td>19:36:00</td>\n      <td>NaN</td>\n      <td>19:10</td>\n      <td>pieszo</td>\n      <td>NaN</td>\n      <td>NaN</td>\n      <td>NaN</td>\n      <td>dojście do/z parkingu lub przystanku</td>\n      <td>NaN</td>\n      <td>NaN</td>\n      <td>NaN</td>\n      <td>NaN</td>\n      <td>NaN</td>\n      <td>NaN</td>\n      <td>NaN</td>\n      <td>NaN</td>\n      <td>NaN</td>\n      <td>NaN</td>\n      <td>NaN</td>\n      <td>NaN</td>\n      <td>NaN</td>\n      <td>NaN</td>\n      <td>NaN</td>\n      <td>NaN</td>\n      <td>NaN</td>\n      <td>NaN</td>\n      <td>NaN</td>\n      <td>NaN</td>\n      <td>NaN</td>\n      <td>NaN</td>\n      <td>NaN</td>\n      <td>19:15</td>\n      <td>Tak</td>\n      <td>19:15</td>\n      <td>tramwaj</td>\n      <td>NaN</td>\n      <td>NaN</td>\n      <td>NaN</td>\n      <td>NaN</td>\n      <td>NaN</td>\n      <td>NaN</td>\n      <td>NaN</td>\n      <td>NaN</td>\n      <td>NaN</td>\n      <td>krótki czas dojazdu</td>\n      <td>NaN</td>\n      <td>NaN</td>\n      <td>NaN</td>\n      <td>NaN</td>\n      <td>NaN</td>\n      <td>NaN</td>\n      <td>NaN</td>\n      <td>NaN</td>\n      <td>NaN</td>\n      <td>NaN</td>\n      <td>NaN</td>\n      <td>NaN</td>\n      <td>NaN</td>\n      <td>NaN</td>\n      <td>NaN</td>\n      <td>NaN</td>\n      <td>NaN</td>\n      <td>19:30</td>\n      <td>Tak</td>\n      <td>19:30</td>\n      <td>pieszo</td>\n      <td>NaN</td>\n      <td>NaN</td>\n      <td>NaN</td>\n      <td>dojście do/z parkingu lub przystanku</td>\n      <td>NaN</td>\n      <td>NaN</td>\n      <td>NaN</td>\n      <td>NaN</td>\n      <td>NaN</td>\n      <td>NaN</td>\n      <td>NaN</td>\n      <td>NaN</td>\n      <td>NaN</td>\n      <td>NaN</td>\n      <td>NaN</td>\n      <td>NaN</td>\n      <td>NaN</td>\n      <td>NaN</td>\n      <td>NaN</td>\n      <td>NaN</td>\n      <td>NaN</td>\n      <td>NaN</td>\n      <td>NaN</td>\n      <td>NaN</td>\n      <td>NaN</td>\n      <td>NaN</td>\n      <td>NaN</td>\n      <td>19:36</td>\n      <td>Nie</td>\n      <td>NaN</td>\n      <td>NaN</td>\n      <td>NaN</td>\n      <td>NaN</td>\n      <td>NaN</td>\n      <td>NaN</td>\n      <td>NaN</td>\n      <td>NaN</td>\n      <td>NaN</td>\n      <td>NaN</td>\n      <td>NaN</td>\n      <td>NaN</td>\n      <td>NaN</td>\n      <td>NaN</td>\n      <td>NaN</td>\n      <td>NaN</td>\n      <td>NaN</td>\n      <td>NaN</td>\n      <td>NaN</td>\n      <td>NaN</td>\n      <td>NaN</td>\n      <td>NaN</td>\n      <td>NaN</td>\n      <td>NaN</td>\n      <td>NaN</td>\n      <td>NaN</td>\n      <td>NaN</td>\n      <td>NaN</td>\n      <td>NaN</td>\n      <td>NaN</td>\n      <td>NaN</td>\n      <td>NaN</td>\n      <td>NaN</td>\n      <td>NaN</td>\n      <td>NaN</td>\n      <td>NaN</td>\n      <td>NaN</td>\n      <td>NaN</td>\n      <td>NaN</td>\n      <td>NaN</td>\n      <td>NaN</td>\n      <td>NaN</td>\n      <td>NaN</td>\n      <td>NaN</td>\n      <td>NaN</td>\n      <td>NaN</td>\n      <td>NaN</td>\n      <td>NaN</td>\n      <td>NaN</td>\n      <td>NaN</td>\n      <td>NaN</td>\n      <td>NaN</td>\n      <td>NaN</td>\n      <td>NaN</td>\n      <td>NaN</td>\n      <td>NaN</td>\n      <td>NaN</td>\n      <td>NaN</td>\n      <td>NaN</td>\n      <td>NaN</td>\n      <td>NaN</td>\n      <td>NaN</td>\n      <td>NaN</td>\n      <td>NaN</td>\n      <td>NaN</td>\n      <td>NaN</td>\n      <td>NaN</td>\n      <td>NaN</td>\n      <td>NaN</td>\n      <td>NaN</td>\n      <td>NaN</td>\n      <td>NaN</td>\n      <td>NaN</td>\n      <td>NaN</td>\n      <td>NaN</td>\n      <td>NaN</td>\n      <td>NaN</td>\n      <td>NaN</td>\n      <td>NaN</td>\n      <td>NaN</td>\n      <td>NaN</td>\n      <td>NaN</td>\n      <td>NaN</td>\n      <td>NaN</td>\n      <td>NaN</td>\n      <td>NaN</td>\n      <td>NaN</td>\n      <td>NaN</td>\n      <td>NaN</td>\n      <td>NaN</td>\n      <td>NaN</td>\n      <td>NaN</td>\n      <td>3.0</td>\n      <td>pieszo-tramwaj-pieszo</td>\n      <td>niepiesze</td>\n      <td>00:26:00</td>\n      <td>komunikacja tramwajowa</td>\n      <td>komunikacja zbiorowa</td>\n      <td>19:00-19:59</td>\n      <td>inne-dom</td>\n      <td>inne-dom</td>\n      <td>NaN</td>\n      <td>NaN</td>\n      <td>NaN</td>\n      <td>NaN</td>\n      <td>NaN</td>\n      <td>NaN</td>\n      <td>2.0</td>\n      <td>0.0</td>\n      <td>1.0</td>\n      <td>0.0</td>\n      <td>NaN</td>\n      <td>NaN</td>\n      <td>NaN</td>\n      <td>0.0</td>\n      <td>nie</td>\n      <td>KZ</td>\n      <td>nie</td>\n      <td>nie</td>\n      <td>nie</td>\n      <td>nie</td>\n      <td>tak</td>\n      <td>0.0</td>\n      <td>00:05:00</td>\n      <td>NaN</td>\n      <td>00:06:00</td>\n      <td>NaN</td>\n      <td>NaN</td>\n      <td>5 min i więcej</td>\n      <td>NaN</td>\n      <td>5 min i więcej</td>\n      <td>NaN</td>\n      <td>NaN</td>\n      <td>1.0</td>\n      <td>NaN</td>\n      <td>1.0</td>\n      <td>A44</td>\n      <td>NaN</td>\n      <td>NaN</td>\n      <td>NaN</td>\n      <td>inne-dom</td>\n    </tr>\n    <tr>\n      <th>14237</th>\n      <td>14238.0</td>\n      <td>LOS_65_65_1</td>\n      <td>NaN</td>\n      <td>2018-10-12</td>\n      <td>17:06</td>\n      <td>65.0</td>\n      <td>raczej się zgadzam</td>\n      <td>raczej się zgadzam</td>\n      <td>raczej się nie zgadzam</td>\n      <td>z obu korzystam w podobnym stopniu</td>\n      <td>NaN</td>\n      <td>NaN</td>\n      <td>NaN</td>\n      <td>raczej dobrze</td>\n      <td>raczej dobrze</td>\n      <td>raczej dobrze</td>\n      <td>raczej dobrze</td>\n      <td>nie</td>\n      <td>nie</td>\n      <td>tak</td>\n      <td>nie</td>\n      <td>nie</td>\n      <td>nie</td>\n      <td>nie</td>\n      <td>nie</td>\n      <td>nie</td>\n      <td>nie</td>\n      <td>tak</td>\n      <td>nie</td>\n      <td>nie</td>\n      <td>NaN</td>\n      <td>2.0</td>\n      <td>2.0</td>\n      <td>1.0</td>\n      <td>0.0</td>\n      <td>0.0</td>\n      <td>2.0</td>\n      <td>45-65 (starsi pracownicy mężczyźni)</td>\n      <td>Mężczyzna</td>\n      <td>pracownik na etacie pracujący poza domem</td>\n      <td>brak zajęcia dodatkowego</td>\n      <td>dobry stan zdrowia</td>\n      <td>NaN</td>\n      <td>nie dotyczy</td>\n      <td>Tak</td>\n      <td>Nie</td>\n      <td>brak ulgi</td>\n      <td>Tak</td>\n      <td>NaN</td>\n      <td>1.0</td>\n      <td>1.0</td>\n      <td>06:10:00</td>\n      <td>dom</td>\n      <td>NaN</td>\n      <td>NaN</td>\n      <td>NaN</td>\n      <td>NaN</td>\n      <td>NaN</td>\n      <td>WROCŁAW</td>\n      <td>NaN</td>\n      <td>NaN</td>\n      <td>NaN</td>\n      <td>146.0</td>\n      <td>praca</td>\n      <td>06:45:00</td>\n      <td>NaN</td>\n      <td>06:10</td>\n      <td>sam. osobowy kierowca</td>\n      <td>NaN</td>\n      <td>1.0</td>\n      <td>NaN</td>\n      <td>NaN</td>\n      <td>NaN</td>\n      <td>NaN</td>\n      <td>NaN</td>\n      <td>wygoda korzystania</td>\n      <td>NaN</td>\n      <td>NaN</td>\n      <td>NaN</td>\n      <td>NaN</td>\n      <td>NaN</td>\n      <td>NaN</td>\n      <td>NaN</td>\n      <td>NaN</td>\n      <td>NaN</td>\n      <td>NaN</td>\n      <td>NaN</td>\n      <td>NaN</td>\n      <td>NaN</td>\n      <td>NaN</td>\n      <td>NaN</td>\n      <td>NaN</td>\n      <td>NaN</td>\n      <td>NaN</td>\n      <td>NaN</td>\n      <td>06:45</td>\n      <td>Nie</td>\n      <td>NaN</td>\n      <td>NaN</td>\n      <td>NaN</td>\n      <td>NaN</td>\n      <td>NaN</td>\n      <td>NaN</td>\n      <td>NaN</td>\n      <td>NaN</td>\n      <td>NaN</td>\n      <td>NaN</td>\n      <td>NaN</td>\n      <td>NaN</td>\n      <td>NaN</td>\n      <td>NaN</td>\n      <td>NaN</td>\n      <td>NaN</td>\n      <td>NaN</td>\n      <td>NaN</td>\n      <td>NaN</td>\n      <td>NaN</td>\n      <td>NaN</td>\n      <td>NaN</td>\n      <td>NaN</td>\n      <td>NaN</td>\n      <td>NaN</td>\n      <td>NaN</td>\n      <td>NaN</td>\n      <td>NaN</td>\n      <td>NaN</td>\n      <td>NaN</td>\n      <td>NaN</td>\n      <td>NaN</td>\n      <td>NaN</td>\n      <td>NaN</td>\n      <td>NaN</td>\n      <td>NaN</td>\n      <td>NaN</td>\n      <td>NaN</td>\n      <td>NaN</td>\n      <td>NaN</td>\n      <td>NaN</td>\n      <td>NaN</td>\n      <td>NaN</td>\n      <td>NaN</td>\n      <td>NaN</td>\n      <td>NaN</td>\n      <td>NaN</td>\n      <td>NaN</td>\n      <td>NaN</td>\n      <td>NaN</td>\n      <td>NaN</td>\n      <td>NaN</td>\n      <td>NaN</td>\n      <td>NaN</td>\n      <td>NaN</td>\n      <td>NaN</td>\n      <td>NaN</td>\n      <td>NaN</td>\n      <td>NaN</td>\n      <td>NaN</td>\n      <td>NaN</td>\n      <td>NaN</td>\n      <td>NaN</td>\n      <td>NaN</td>\n      <td>NaN</td>\n      <td>NaN</td>\n      <td>NaN</td>\n      <td>NaN</td>\n      <td>NaN</td>\n      <td>NaN</td>\n      <td>NaN</td>\n      <td>NaN</td>\n      <td>NaN</td>\n      <td>NaN</td>\n      <td>NaN</td>\n      <td>NaN</td>\n      <td>NaN</td>\n      <td>NaN</td>\n      <td>NaN</td>\n      <td>NaN</td>\n      <td>NaN</td>\n      <td>NaN</td>\n      <td>NaN</td>\n      <td>NaN</td>\n      <td>NaN</td>\n      <td>NaN</td>\n      <td>NaN</td>\n      <td>NaN</td>\n      <td>NaN</td>\n      <td>NaN</td>\n      <td>NaN</td>\n      <td>NaN</td>\n      <td>NaN</td>\n      <td>NaN</td>\n      <td>NaN</td>\n      <td>NaN</td>\n      <td>NaN</td>\n      <td>NaN</td>\n      <td>NaN</td>\n      <td>NaN</td>\n      <td>NaN</td>\n      <td>NaN</td>\n      <td>NaN</td>\n      <td>NaN</td>\n      <td>NaN</td>\n      <td>NaN</td>\n      <td>NaN</td>\n      <td>NaN</td>\n      <td>NaN</td>\n      <td>NaN</td>\n      <td>NaN</td>\n      <td>NaN</td>\n      <td>NaN</td>\n      <td>NaN</td>\n      <td>NaN</td>\n      <td>NaN</td>\n      <td>NaN</td>\n      <td>NaN</td>\n      <td>NaN</td>\n      <td>NaN</td>\n      <td>NaN</td>\n      <td>NaN</td>\n      <td>NaN</td>\n      <td>NaN</td>\n      <td>NaN</td>\n      <td>NaN</td>\n      <td>NaN</td>\n      <td>NaN</td>\n      <td>NaN</td>\n      <td>NaN</td>\n      <td>NaN</td>\n      <td>NaN</td>\n      <td>NaN</td>\n      <td>NaN</td>\n      <td>NaN</td>\n      <td>NaN</td>\n      <td>NaN</td>\n      <td>NaN</td>\n      <td>NaN</td>\n      <td>NaN</td>\n      <td>NaN</td>\n      <td>NaN</td>\n      <td>NaN</td>\n      <td>NaN</td>\n      <td>NaN</td>\n      <td>NaN</td>\n      <td>NaN</td>\n      <td>NaN</td>\n      <td>NaN</td>\n      <td>NaN</td>\n      <td>NaN</td>\n      <td>NaN</td>\n      <td>NaN</td>\n      <td>NaN</td>\n      <td>1.0</td>\n      <td>sam. osobowy kierowca</td>\n      <td>niepiesze</td>\n      <td>00:35:00</td>\n      <td>sam. osobowy kierowca</td>\n      <td>komunikacja samochodowa</td>\n      <td>6:00-6:59</td>\n      <td>dom-praca</td>\n      <td>dom-praca</td>\n      <td>NaN</td>\n      <td>NaN</td>\n      <td>NaN</td>\n      <td>NaN</td>\n      <td>NaN</td>\n      <td>NaN</td>\n      <td>0.0</td>\n      <td>1.0</td>\n      <td>NaN</td>\n      <td>NaN</td>\n      <td>NaN</td>\n      <td>NaN</td>\n      <td>NaN</td>\n      <td>0.0</td>\n      <td>nie</td>\n      <td>nie</td>\n      <td>nie</td>\n      <td>nie</td>\n      <td>nie</td>\n      <td>nie</td>\n      <td>nie</td>\n      <td>0.0</td>\n      <td>NaN</td>\n      <td>NaN</td>\n      <td>NaN</td>\n      <td>NaN</td>\n      <td>NaN</td>\n      <td>NaN</td>\n      <td>NaN</td>\n      <td>NaN</td>\n      <td>NaN</td>\n      <td>NaN</td>\n      <td>0.0</td>\n      <td>NaN</td>\n      <td>1.0</td>\n      <td>65</td>\n      <td>NaN</td>\n      <td>NaN</td>\n      <td>1.0</td>\n      <td>dom-praca</td>\n    </tr>\n    <tr>\n      <th>14238</th>\n      <td>14239.0</td>\n      <td>LOS_65_65_1</td>\n      <td>NaN</td>\n      <td>2018-10-12</td>\n      <td>17:06</td>\n      <td>65.0</td>\n      <td>raczej się zgadzam</td>\n      <td>raczej się zgadzam</td>\n      <td>raczej się nie zgadzam</td>\n      <td>z obu korzystam w podobnym stopniu</td>\n      <td>NaN</td>\n      <td>NaN</td>\n      <td>NaN</td>\n      <td>raczej dobrze</td>\n      <td>raczej dobrze</td>\n      <td>raczej dobrze</td>\n      <td>raczej dobrze</td>\n      <td>nie</td>\n      <td>nie</td>\n      <td>tak</td>\n      <td>nie</td>\n      <td>nie</td>\n      <td>nie</td>\n      <td>nie</td>\n      <td>nie</td>\n      <td>nie</td>\n      <td>nie</td>\n      <td>tak</td>\n      <td>nie</td>\n      <td>nie</td>\n      <td>NaN</td>\n      <td>2.0</td>\n      <td>2.0</td>\n      <td>1.0</td>\n      <td>0.0</td>\n      <td>0.0</td>\n      <td>2.0</td>\n      <td>45-65 (starsi pracownicy mężczyźni)</td>\n      <td>Mężczyzna</td>\n      <td>pracownik na etacie pracujący poza domem</td>\n      <td>brak zajęcia dodatkowego</td>\n      <td>dobry stan zdrowia</td>\n      <td>NaN</td>\n      <td>nie dotyczy</td>\n      <td>Tak</td>\n      <td>Nie</td>\n      <td>brak ulgi</td>\n      <td>Tak</td>\n      <td>NaN</td>\n      <td>1.0</td>\n      <td>2.0</td>\n      <td>15:20:00</td>\n      <td>praca</td>\n      <td>WROCŁAW</td>\n      <td>NaN</td>\n      <td>NaN</td>\n      <td>NaN</td>\n      <td>146.0</td>\n      <td>WROCŁAW</td>\n      <td>NaN</td>\n      <td>NaN</td>\n      <td>NaN</td>\n      <td>4.0</td>\n      <td>inne</td>\n      <td>16:05:00</td>\n      <td>NaN</td>\n      <td>15:20</td>\n      <td>sam. osobowy kierowca</td>\n      <td>NaN</td>\n      <td>1.0</td>\n      <td>NaN</td>\n      <td>NaN</td>\n      <td>NaN</td>\n      <td>NaN</td>\n      <td>NaN</td>\n      <td>wygoda korzystania</td>\n      <td>NaN</td>\n      <td>NaN</td>\n      <td>NaN</td>\n      <td>NaN</td>\n      <td>NaN</td>\n      <td>NaN</td>\n      <td>NaN</td>\n      <td>NaN</td>\n      <td>NaN</td>\n      <td>NaN</td>\n      <td>NaN</td>\n      <td>podwożenie innych osób</td>\n      <td>NaN</td>\n      <td>NaN</td>\n      <td>NaN</td>\n      <td>NaN</td>\n      <td>NaN</td>\n      <td>NaN</td>\n      <td>NaN</td>\n      <td>16:05</td>\n      <td>Nie</td>\n      <td>NaN</td>\n      <td>NaN</td>\n      <td>NaN</td>\n      <td>NaN</td>\n      <td>NaN</td>\n      <td>NaN</td>\n      <td>NaN</td>\n      <td>NaN</td>\n      <td>NaN</td>\n      <td>NaN</td>\n      <td>NaN</td>\n      <td>NaN</td>\n      <td>NaN</td>\n      <td>NaN</td>\n      <td>NaN</td>\n      <td>NaN</td>\n      <td>NaN</td>\n      <td>NaN</td>\n      <td>NaN</td>\n      <td>NaN</td>\n      <td>NaN</td>\n      <td>NaN</td>\n      <td>NaN</td>\n      <td>NaN</td>\n      <td>NaN</td>\n      <td>NaN</td>\n      <td>NaN</td>\n      <td>NaN</td>\n      <td>NaN</td>\n      <td>NaN</td>\n      <td>NaN</td>\n      <td>NaN</td>\n      <td>NaN</td>\n      <td>NaN</td>\n      <td>NaN</td>\n      <td>NaN</td>\n      <td>NaN</td>\n      <td>NaN</td>\n      <td>NaN</td>\n      <td>NaN</td>\n      <td>NaN</td>\n      <td>NaN</td>\n      <td>NaN</td>\n      <td>NaN</td>\n      <td>NaN</td>\n      <td>NaN</td>\n      <td>NaN</td>\n      <td>NaN</td>\n      <td>NaN</td>\n      <td>NaN</td>\n      <td>NaN</td>\n      <td>NaN</td>\n      <td>NaN</td>\n      <td>NaN</td>\n      <td>NaN</td>\n      <td>NaN</td>\n      <td>NaN</td>\n      <td>NaN</td>\n      <td>NaN</td>\n      <td>NaN</td>\n      <td>NaN</td>\n      <td>NaN</td>\n      <td>NaN</td>\n      <td>NaN</td>\n      <td>NaN</td>\n      <td>NaN</td>\n      <td>NaN</td>\n      <td>NaN</td>\n      <td>NaN</td>\n      <td>NaN</td>\n      <td>NaN</td>\n      <td>NaN</td>\n      <td>NaN</td>\n      <td>NaN</td>\n      <td>NaN</td>\n      <td>NaN</td>\n      <td>NaN</td>\n      <td>NaN</td>\n      <td>NaN</td>\n      <td>NaN</td>\n      <td>NaN</td>\n      <td>NaN</td>\n      <td>NaN</td>\n      <td>NaN</td>\n      <td>NaN</td>\n      <td>NaN</td>\n      <td>NaN</td>\n      <td>NaN</td>\n      <td>NaN</td>\n      <td>NaN</td>\n      <td>NaN</td>\n      <td>NaN</td>\n      <td>NaN</td>\n      <td>NaN</td>\n      <td>NaN</td>\n      <td>NaN</td>\n      <td>NaN</td>\n      <td>NaN</td>\n      <td>NaN</td>\n      <td>NaN</td>\n      <td>NaN</td>\n      <td>NaN</td>\n      <td>NaN</td>\n      <td>NaN</td>\n      <td>NaN</td>\n      <td>NaN</td>\n      <td>NaN</td>\n      <td>NaN</td>\n      <td>NaN</td>\n      <td>NaN</td>\n      <td>NaN</td>\n      <td>NaN</td>\n      <td>NaN</td>\n      <td>NaN</td>\n      <td>NaN</td>\n      <td>NaN</td>\n      <td>NaN</td>\n      <td>NaN</td>\n      <td>NaN</td>\n      <td>NaN</td>\n      <td>NaN</td>\n      <td>NaN</td>\n      <td>NaN</td>\n      <td>NaN</td>\n      <td>NaN</td>\n      <td>NaN</td>\n      <td>NaN</td>\n      <td>NaN</td>\n      <td>NaN</td>\n      <td>NaN</td>\n      <td>NaN</td>\n      <td>NaN</td>\n      <td>NaN</td>\n      <td>NaN</td>\n      <td>NaN</td>\n      <td>NaN</td>\n      <td>NaN</td>\n      <td>NaN</td>\n      <td>NaN</td>\n      <td>NaN</td>\n      <td>NaN</td>\n      <td>NaN</td>\n      <td>NaN</td>\n      <td>NaN</td>\n      <td>NaN</td>\n      <td>NaN</td>\n      <td>NaN</td>\n      <td>NaN</td>\n      <td>NaN</td>\n      <td>NaN</td>\n      <td>NaN</td>\n      <td>NaN</td>\n      <td>NaN</td>\n      <td>NaN</td>\n      <td>1.0</td>\n      <td>sam. osobowy kierowca</td>\n      <td>niepiesze</td>\n      <td>00:45:00</td>\n      <td>sam. osobowy kierowca</td>\n      <td>komunikacja samochodowa</td>\n      <td>15:00-15:59</td>\n      <td>praca-inne</td>\n      <td>niezwiązane z domem</td>\n      <td>NaN</td>\n      <td>NaN</td>\n      <td>NaN</td>\n      <td>NaN</td>\n      <td>NaN</td>\n      <td>NaN</td>\n      <td>0.0</td>\n      <td>1.0</td>\n      <td>NaN</td>\n      <td>NaN</td>\n      <td>NaN</td>\n      <td>NaN</td>\n      <td>NaN</td>\n      <td>0.0</td>\n      <td>nie</td>\n      <td>nie</td>\n      <td>nie</td>\n      <td>nie</td>\n      <td>nie</td>\n      <td>nie</td>\n      <td>nie</td>\n      <td>0.0</td>\n      <td>NaN</td>\n      <td>NaN</td>\n      <td>NaN</td>\n      <td>NaN</td>\n      <td>NaN</td>\n      <td>NaN</td>\n      <td>NaN</td>\n      <td>NaN</td>\n      <td>NaN</td>\n      <td>NaN</td>\n      <td>1.0</td>\n      <td>NaN</td>\n      <td>1.0</td>\n      <td>65</td>\n      <td>NaN</td>\n      <td>NaN</td>\n      <td>1.0</td>\n      <td>niezwiązane z domem</td>\n    </tr>\n    <tr>\n      <th>14239</th>\n      <td>14240.0</td>\n      <td>LOS_65_65_1</td>\n      <td>NaN</td>\n      <td>2018-10-12</td>\n      <td>17:06</td>\n      <td>65.0</td>\n      <td>raczej się zgadzam</td>\n      <td>raczej się zgadzam</td>\n      <td>raczej się nie zgadzam</td>\n      <td>z obu korzystam w podobnym stopniu</td>\n      <td>NaN</td>\n      <td>NaN</td>\n      <td>NaN</td>\n      <td>raczej dobrze</td>\n      <td>raczej dobrze</td>\n      <td>raczej dobrze</td>\n      <td>raczej dobrze</td>\n      <td>nie</td>\n      <td>nie</td>\n      <td>tak</td>\n      <td>nie</td>\n      <td>nie</td>\n      <td>nie</td>\n      <td>nie</td>\n      <td>nie</td>\n      <td>nie</td>\n      <td>nie</td>\n      <td>tak</td>\n      <td>nie</td>\n      <td>nie</td>\n      <td>NaN</td>\n      <td>2.0</td>\n      <td>2.0</td>\n      <td>1.0</td>\n      <td>0.0</td>\n      <td>0.0</td>\n      <td>2.0</td>\n      <td>45-65 (starsi pracownicy mężczyźni)</td>\n      <td>Mężczyzna</td>\n      <td>pracownik na etacie pracujący poza domem</td>\n      <td>brak zajęcia dodatkowego</td>\n      <td>dobry stan zdrowia</td>\n      <td>NaN</td>\n      <td>nie dotyczy</td>\n      <td>Tak</td>\n      <td>Nie</td>\n      <td>brak ulgi</td>\n      <td>Tak</td>\n      <td>NaN</td>\n      <td>1.0</td>\n      <td>3.0</td>\n      <td>17:15:00</td>\n      <td>inne</td>\n      <td>WROCŁAW</td>\n      <td>NaN</td>\n      <td>NaN</td>\n      <td>NaN</td>\n      <td>4.0</td>\n      <td>WROCŁAW</td>\n      <td>NaN</td>\n      <td>NaN</td>\n      <td>NaN</td>\n      <td>7.0</td>\n      <td>inne</td>\n      <td>17:45:00</td>\n      <td>NaN</td>\n      <td>17:15</td>\n      <td>sam. osobowy kierowca</td>\n      <td>NaN</td>\n      <td>1.0</td>\n      <td>NaN</td>\n      <td>NaN</td>\n      <td>NaN</td>\n      <td>NaN</td>\n      <td>NaN</td>\n      <td>wygoda korzystania</td>\n      <td>NaN</td>\n      <td>NaN</td>\n      <td>NaN</td>\n      <td>NaN</td>\n      <td>NaN</td>\n      <td>NaN</td>\n      <td>NaN</td>\n      <td>NaN</td>\n      <td>NaN</td>\n      <td>NaN</td>\n      <td>NaN</td>\n      <td>podwożenie innych osób</td>\n      <td>NaN</td>\n      <td>NaN</td>\n      <td>NaN</td>\n      <td>NaN</td>\n      <td>NaN</td>\n      <td>NaN</td>\n      <td>NaN</td>\n      <td>17:45</td>\n      <td>Nie</td>\n      <td>NaN</td>\n      <td>NaN</td>\n      <td>NaN</td>\n      <td>NaN</td>\n      <td>NaN</td>\n      <td>NaN</td>\n      <td>NaN</td>\n      <td>NaN</td>\n      <td>NaN</td>\n      <td>NaN</td>\n      <td>NaN</td>\n      <td>NaN</td>\n      <td>NaN</td>\n      <td>NaN</td>\n      <td>NaN</td>\n      <td>NaN</td>\n      <td>NaN</td>\n      <td>NaN</td>\n      <td>NaN</td>\n      <td>NaN</td>\n      <td>NaN</td>\n      <td>NaN</td>\n      <td>NaN</td>\n      <td>NaN</td>\n      <td>NaN</td>\n      <td>NaN</td>\n      <td>NaN</td>\n      <td>NaN</td>\n      <td>NaN</td>\n      <td>NaN</td>\n      <td>NaN</td>\n      <td>NaN</td>\n      <td>NaN</td>\n      <td>NaN</td>\n      <td>NaN</td>\n      <td>NaN</td>\n      <td>NaN</td>\n      <td>NaN</td>\n      <td>NaN</td>\n      <td>NaN</td>\n      <td>NaN</td>\n      <td>NaN</td>\n      <td>NaN</td>\n      <td>NaN</td>\n      <td>NaN</td>\n      <td>NaN</td>\n      <td>NaN</td>\n      <td>NaN</td>\n      <td>NaN</td>\n      <td>NaN</td>\n      <td>NaN</td>\n      <td>NaN</td>\n      <td>NaN</td>\n      <td>NaN</td>\n      <td>NaN</td>\n      <td>NaN</td>\n      <td>NaN</td>\n      <td>NaN</td>\n      <td>NaN</td>\n      <td>NaN</td>\n      <td>NaN</td>\n      <td>NaN</td>\n      <td>NaN</td>\n      <td>NaN</td>\n      <td>NaN</td>\n      <td>NaN</td>\n      <td>NaN</td>\n      <td>NaN</td>\n      <td>NaN</td>\n      <td>NaN</td>\n      <td>NaN</td>\n      <td>NaN</td>\n      <td>NaN</td>\n      <td>NaN</td>\n      <td>NaN</td>\n      <td>NaN</td>\n      <td>NaN</td>\n      <td>NaN</td>\n      <td>NaN</td>\n      <td>NaN</td>\n      <td>NaN</td>\n      <td>NaN</td>\n      <td>NaN</td>\n      <td>NaN</td>\n      <td>NaN</td>\n      <td>NaN</td>\n      <td>NaN</td>\n      <td>NaN</td>\n      <td>NaN</td>\n      <td>NaN</td>\n      <td>NaN</td>\n      <td>NaN</td>\n      <td>NaN</td>\n      <td>NaN</td>\n      <td>NaN</td>\n      <td>NaN</td>\n      <td>NaN</td>\n      <td>NaN</td>\n      <td>NaN</td>\n      <td>NaN</td>\n      <td>NaN</td>\n      <td>NaN</td>\n      <td>NaN</td>\n      <td>NaN</td>\n      <td>NaN</td>\n      <td>NaN</td>\n      <td>NaN</td>\n      <td>NaN</td>\n      <td>NaN</td>\n      <td>NaN</td>\n      <td>NaN</td>\n      <td>NaN</td>\n      <td>NaN</td>\n      <td>NaN</td>\n      <td>NaN</td>\n      <td>NaN</td>\n      <td>NaN</td>\n      <td>NaN</td>\n      <td>NaN</td>\n      <td>NaN</td>\n      <td>NaN</td>\n      <td>NaN</td>\n      <td>NaN</td>\n      <td>NaN</td>\n      <td>NaN</td>\n      <td>NaN</td>\n      <td>NaN</td>\n      <td>NaN</td>\n      <td>NaN</td>\n      <td>NaN</td>\n      <td>NaN</td>\n      <td>NaN</td>\n      <td>NaN</td>\n      <td>NaN</td>\n      <td>NaN</td>\n      <td>NaN</td>\n      <td>NaN</td>\n      <td>NaN</td>\n      <td>NaN</td>\n      <td>NaN</td>\n      <td>NaN</td>\n      <td>NaN</td>\n      <td>NaN</td>\n      <td>NaN</td>\n      <td>NaN</td>\n      <td>NaN</td>\n      <td>NaN</td>\n      <td>NaN</td>\n      <td>NaN</td>\n      <td>NaN</td>\n      <td>NaN</td>\n      <td>NaN</td>\n      <td>NaN</td>\n      <td>NaN</td>\n      <td>1.0</td>\n      <td>sam. osobowy kierowca</td>\n      <td>niepiesze</td>\n      <td>00:30:00</td>\n      <td>sam. osobowy kierowca</td>\n      <td>komunikacja samochodowa</td>\n      <td>17:00-17:59</td>\n      <td>inne-inne</td>\n      <td>niezwiązane z domem</td>\n      <td>NaN</td>\n      <td>NaN</td>\n      <td>NaN</td>\n      <td>NaN</td>\n      <td>NaN</td>\n      <td>NaN</td>\n      <td>0.0</td>\n      <td>1.0</td>\n      <td>NaN</td>\n      <td>NaN</td>\n      <td>NaN</td>\n      <td>NaN</td>\n      <td>NaN</td>\n      <td>0.0</td>\n      <td>nie</td>\n      <td>nie</td>\n      <td>nie</td>\n      <td>nie</td>\n      <td>nie</td>\n      <td>nie</td>\n      <td>nie</td>\n      <td>0.0</td>\n      <td>NaN</td>\n      <td>NaN</td>\n      <td>NaN</td>\n      <td>NaN</td>\n      <td>NaN</td>\n      <td>NaN</td>\n      <td>NaN</td>\n      <td>NaN</td>\n      <td>NaN</td>\n      <td>NaN</td>\n      <td>1.0</td>\n      <td>NaN</td>\n      <td>1.0</td>\n      <td>65</td>\n      <td>NaN</td>\n      <td>NaN</td>\n      <td>1.0</td>\n      <td>niezwiązane z domem</td>\n    </tr>\n    <tr>\n      <th>14240</th>\n      <td>14241.0</td>\n      <td>LOS_65_65_1</td>\n      <td>NaN</td>\n      <td>2018-10-12</td>\n      <td>17:06</td>\n      <td>65.0</td>\n      <td>raczej się zgadzam</td>\n      <td>raczej się zgadzam</td>\n      <td>raczej się nie zgadzam</td>\n      <td>z obu korzystam w podobnym stopniu</td>\n      <td>NaN</td>\n      <td>NaN</td>\n      <td>NaN</td>\n      <td>raczej dobrze</td>\n      <td>raczej dobrze</td>\n      <td>raczej dobrze</td>\n      <td>raczej dobrze</td>\n      <td>nie</td>\n      <td>nie</td>\n      <td>tak</td>\n      <td>nie</td>\n      <td>nie</td>\n      <td>nie</td>\n      <td>nie</td>\n      <td>nie</td>\n      <td>nie</td>\n      <td>nie</td>\n      <td>tak</td>\n      <td>nie</td>\n      <td>nie</td>\n      <td>NaN</td>\n      <td>2.0</td>\n      <td>2.0</td>\n      <td>1.0</td>\n      <td>0.0</td>\n      <td>0.0</td>\n      <td>2.0</td>\n      <td>45-65 (starsi pracownicy mężczyźni)</td>\n      <td>Mężczyzna</td>\n      <td>pracownik na etacie pracujący poza domem</td>\n      <td>brak zajęcia dodatkowego</td>\n      <td>dobry stan zdrowia</td>\n      <td>NaN</td>\n      <td>nie dotyczy</td>\n      <td>Tak</td>\n      <td>Nie</td>\n      <td>brak ulgi</td>\n      <td>Tak</td>\n      <td>NaN</td>\n      <td>1.0</td>\n      <td>4.0</td>\n      <td>18:30:00</td>\n      <td>inne</td>\n      <td>WROCŁAW</td>\n      <td>NaN</td>\n      <td>NaN</td>\n      <td>NaN</td>\n      <td>7.0</td>\n      <td>NaN</td>\n      <td>NaN</td>\n      <td>NaN</td>\n      <td>NaN</td>\n      <td>NaN</td>\n      <td>dom</td>\n      <td>19:10:00</td>\n      <td>NaN</td>\n      <td>18:30</td>\n      <td>sam. osobowy kierowca</td>\n      <td>NaN</td>\n      <td>1.0</td>\n      <td>NaN</td>\n      <td>NaN</td>\n      <td>NaN</td>\n      <td>NaN</td>\n      <td>NaN</td>\n      <td>wygoda korzystania</td>\n      <td>NaN</td>\n      <td>NaN</td>\n      <td>NaN</td>\n      <td>NaN</td>\n      <td>NaN</td>\n      <td>NaN</td>\n      <td>NaN</td>\n      <td>NaN</td>\n      <td>NaN</td>\n      <td>NaN</td>\n      <td>NaN</td>\n      <td>NaN</td>\n      <td>NaN</td>\n      <td>NaN</td>\n      <td>NaN</td>\n      <td>NaN</td>\n      <td>NaN</td>\n      <td>NaN</td>\n      <td>NaN</td>\n      <td>19:10</td>\n      <td>Nie</td>\n      <td>NaN</td>\n      <td>NaN</td>\n      <td>NaN</td>\n      <td>NaN</td>\n      <td>NaN</td>\n      <td>NaN</td>\n      <td>NaN</td>\n      <td>NaN</td>\n      <td>NaN</td>\n      <td>NaN</td>\n      <td>NaN</td>\n      <td>NaN</td>\n      <td>NaN</td>\n      <td>NaN</td>\n      <td>NaN</td>\n      <td>NaN</td>\n      <td>NaN</td>\n      <td>NaN</td>\n      <td>NaN</td>\n      <td>NaN</td>\n      <td>NaN</td>\n      <td>NaN</td>\n      <td>NaN</td>\n      <td>NaN</td>\n      <td>NaN</td>\n      <td>NaN</td>\n      <td>NaN</td>\n      <td>NaN</td>\n      <td>NaN</td>\n      <td>NaN</td>\n      <td>NaN</td>\n      <td>NaN</td>\n      <td>NaN</td>\n      <td>NaN</td>\n      <td>NaN</td>\n      <td>NaN</td>\n      <td>NaN</td>\n      <td>NaN</td>\n      <td>NaN</td>\n      <td>NaN</td>\n      <td>NaN</td>\n      <td>NaN</td>\n      <td>NaN</td>\n      <td>NaN</td>\n      <td>NaN</td>\n      <td>NaN</td>\n      <td>NaN</td>\n      <td>NaN</td>\n      <td>NaN</td>\n      <td>NaN</td>\n      <td>NaN</td>\n      <td>NaN</td>\n      <td>NaN</td>\n      <td>NaN</td>\n      <td>NaN</td>\n      <td>NaN</td>\n      <td>NaN</td>\n      <td>NaN</td>\n      <td>NaN</td>\n      <td>NaN</td>\n      <td>NaN</td>\n      <td>NaN</td>\n      <td>NaN</td>\n      <td>NaN</td>\n      <td>NaN</td>\n      <td>NaN</td>\n      <td>NaN</td>\n      <td>NaN</td>\n      <td>NaN</td>\n      <td>NaN</td>\n      <td>NaN</td>\n      <td>NaN</td>\n      <td>NaN</td>\n      <td>NaN</td>\n      <td>NaN</td>\n      <td>NaN</td>\n      <td>NaN</td>\n      <td>NaN</td>\n      <td>NaN</td>\n      <td>NaN</td>\n      <td>NaN</td>\n      <td>NaN</td>\n      <td>NaN</td>\n      <td>NaN</td>\n      <td>NaN</td>\n      <td>NaN</td>\n      <td>NaN</td>\n      <td>NaN</td>\n      <td>NaN</td>\n      <td>NaN</td>\n      <td>NaN</td>\n      <td>NaN</td>\n      <td>NaN</td>\n      <td>NaN</td>\n      <td>NaN</td>\n      <td>NaN</td>\n      <td>NaN</td>\n      <td>NaN</td>\n      <td>NaN</td>\n      <td>NaN</td>\n      <td>NaN</td>\n      <td>NaN</td>\n      <td>NaN</td>\n      <td>NaN</td>\n      <td>NaN</td>\n      <td>NaN</td>\n      <td>NaN</td>\n      <td>NaN</td>\n      <td>NaN</td>\n      <td>NaN</td>\n      <td>NaN</td>\n      <td>NaN</td>\n      <td>NaN</td>\n      <td>NaN</td>\n      <td>NaN</td>\n      <td>NaN</td>\n      <td>NaN</td>\n      <td>NaN</td>\n      <td>NaN</td>\n      <td>NaN</td>\n      <td>NaN</td>\n      <td>NaN</td>\n      <td>NaN</td>\n      <td>NaN</td>\n      <td>NaN</td>\n      <td>NaN</td>\n      <td>NaN</td>\n      <td>NaN</td>\n      <td>NaN</td>\n      <td>NaN</td>\n      <td>NaN</td>\n      <td>NaN</td>\n      <td>NaN</td>\n      <td>NaN</td>\n      <td>NaN</td>\n      <td>NaN</td>\n      <td>NaN</td>\n      <td>NaN</td>\n      <td>NaN</td>\n      <td>NaN</td>\n      <td>NaN</td>\n      <td>NaN</td>\n      <td>NaN</td>\n      <td>NaN</td>\n      <td>NaN</td>\n      <td>NaN</td>\n      <td>NaN</td>\n      <td>NaN</td>\n      <td>NaN</td>\n      <td>NaN</td>\n      <td>NaN</td>\n      <td>NaN</td>\n      <td>NaN</td>\n      <td>NaN</td>\n      <td>1.0</td>\n      <td>sam. osobowy kierowca</td>\n      <td>niepiesze</td>\n      <td>00:40:00</td>\n      <td>sam. osobowy kierowca</td>\n      <td>komunikacja samochodowa</td>\n      <td>18:00-18:59</td>\n      <td>inne-dom</td>\n      <td>inne-dom</td>\n      <td>NaN</td>\n      <td>NaN</td>\n      <td>NaN</td>\n      <td>NaN</td>\n      <td>NaN</td>\n      <td>NaN</td>\n      <td>0.0</td>\n      <td>1.0</td>\n      <td>NaN</td>\n      <td>NaN</td>\n      <td>NaN</td>\n      <td>NaN</td>\n      <td>NaN</td>\n      <td>0.0</td>\n      <td>nie</td>\n      <td>nie</td>\n      <td>nie</td>\n      <td>nie</td>\n      <td>nie</td>\n      <td>nie</td>\n      <td>nie</td>\n      <td>0.0</td>\n      <td>NaN</td>\n      <td>NaN</td>\n      <td>NaN</td>\n      <td>NaN</td>\n      <td>NaN</td>\n      <td>NaN</td>\n      <td>NaN</td>\n      <td>NaN</td>\n      <td>NaN</td>\n      <td>NaN</td>\n      <td>1.0</td>\n      <td>NaN</td>\n      <td>1.0</td>\n      <td>65</td>\n      <td>NaN</td>\n      <td>NaN</td>\n      <td>1.0</td>\n      <td>inne-dom</td>\n    </tr>\n  </tbody>\n</table>\n</div>"
     },
     "metadata": {},
     "execution_count": 97
    }
   ],
   "source": [
    "data.tail()"
   ]
  },
  {
   "cell_type": "code",
   "execution_count": 98,
   "metadata": {
    "tags": []
   },
   "outputs": [],
   "source": [
    "chosen_cols = [\n",
    "    # 'PREFERENCJE DOT. MOBILNOŚCI MIEJSKIEJ_Z jakiego środka transportu zbiorowego korzysta Pan/Pani\\xa0najczęściej?',\n",
    "    'PREFERENCJE DOT. MOBILNOŚCI MIEJSKIEJ_Jak Pan/Pani ocenia wygodę jazdy pojazdami komunikacji zbiorowej?\\xa0',\n",
    "    'PREFERENCJE DOT. MOBILNOŚCI MIEJSKIEJ_Jak Pan/Pani ocenia\\xa0punktualność\\xa0komunikacji zbiorowej\\xa0we Wrocławiu?\\xa0',\n",
    "    'PREFERENCJE DOT. MOBILNOŚCI MIEJSKIEJ_Jak ocenia Pan/Pani efekty dotychczasowych działań związanych z rozbudową systemu rowerowego we Wrocławiu (dróg i\\xa0parkingów rowerowych)?',\n",
    "    'PREFERENCJE DOT. MOBILNOŚCI MIEJSKIEJ_Jakie elementy stanowią dla Pana/Pani największa uciążliwość w codziennych podróżach pieszych po Wrocławiu (można wskazać maksymalnie 3 odpowiedzi) [niekorzystne ustawienia sygnalizacji świetlnej]',\n",
    "    'PREFERENCJE DOT. MOBILNOŚCI MIEJSKIEJ_Jakie elementy stanowią dla Pana/Pani największa uciążliwość w codziennych podróżach pieszych po Wrocławiu (można wskazać maksymalnie 3 odpowiedzi) [brak chodników i konieczność poruszania się jezdnią/poboczem/wydeptaną ścieżką]',\n",
    "    'PREFERENCJE DOT. MOBILNOŚCI MIEJSKIEJ_Jakie elementy stanowią dla Pana/Pani największa uciążliwość w codziennych podróżach pieszych po Wrocławiu (można wskazać maksymalnie 3 odpowiedzi) [zły stan nawierzchni chodników]',\n",
    "    'PREFERENCJE DOT. MOBILNOŚCI MIEJSKIEJ_Jakie elementy stanowią dla Pana/Pani największa uciążliwość w codziennych podróżach pieszych po Wrocławiu (można wskazać maksymalnie 3 odpowiedzi) [zastawianie chodników przez parkujące samochody]',\n",
    "    'PREFERENCJE DOT. MOBILNOŚCI MIEJSKIEJ_Jakie elementy stanowią dla Pana/Pani największa uciążliwość w codziennych podróżach pieszych po Wrocławiu (można wskazać maksymalnie 3 odpowiedzi) [niebezpieczne zachowania kierowców]',\n",
    "    'PREFERENCJE DOT. MOBILNOŚCI MIEJSKIEJ_Jakie elementy stanowią dla Pana/Pani największa uciążliwość w codziennych podróżach pieszych po Wrocławiu (można wskazać maksymalnie 3 odpowiedzi) [zagrożenie ze strony rowerzystów poruszających się chodnikami]',\n",
    "    'PREFERENCJE DOT. MOBILNOŚCI MIEJSKIEJ_Jakie elementy stanowią dla Pana/Pani największa uciążliwość w codziennych podróżach pieszych po Wrocławiu (można wskazać maksymalnie 3 odpowiedzi) [zbyt wysokie krawężniki]',\n",
    "    'PREFERENCJE DOT. MOBILNOŚCI MIEJSKIEJ_Jakie elementy stanowią dla Pana/Pani największa uciążliwość w codziennych podróżach pieszych po Wrocławiu (można wskazać maksymalnie 3 odpowiedzi) [brak bieżącego utrzymania czystości/odśnieżania]',\n",
    "    'PREFERENCJE DOT. MOBILNOŚCI MIEJSKIEJ_Jakie elementy stanowią dla Pana/Pani największa uciążliwość w codziennych podróżach pieszych po Wrocławiu (można wskazać maksymalnie 3 odpowiedzi) [niewystarczająca liczba przejść dla pieszych]',\n",
    "    'PREFERENCJE DOT. MOBILNOŚCI MIEJSKIEJ_Jakie elementy stanowią dla Pana/Pani największa uciążliwość w codziennych podróżach pieszych po Wrocławiu (można wskazać maksymalnie 3 odpowiedzi) [brak miejsc wypoczynku na trasie dojścia (np. ławki, zieleń)]',\n",
    "    'PREFERENCJE DOT. MOBILNOŚCI MIEJSKIEJ_Jakie elementy stanowią dla Pana/Pani największa uciążliwość w codziennych podróżach pieszych po Wrocławiu (można wskazać maksymalnie 3 odpowiedzi) [uciążliwy ruch kołowy]',\n",
    "    'PREFERENCJE DOT. MOBILNOŚCI MIEJSKIEJ_Jakie elementy stanowią dla Pana/Pani największa uciążliwość w codziennych podróżach pieszych po Wrocławiu (można wskazać maksymalnie 3 odpowiedzi) [niewłaściwe oświetlenie ciągów pieszych]',\n",
    "    'DANE O GOSPODARSTWIE DOMOWYM_Liczba osób w gospodarstwie domowym [ogółem]',\n",
    "    'DANE O GOSPODARSTWIE DOMOWYM_Liczba osób w gospodarstwie domowym [powyżej 6 roku życia]',\n",
    "    'DANE O GOSPODARSTWIE DOMOWYM_Liczba środków transportu w gospodarstwie domowym [Samochód prywatny, zarejestrowany na osobę z gosp. domowego]',\n",
    "    'DANE O GOSPODARSTWIE DOMOWYM_Liczba środków transportu w gospodarstwie domowym [Samochód prywatny, nie zarejestrowany na osobę z gosp. domowego [użyczone]]',\n",
    "    'DANE O GOSPODARSTWIE DOMOWYM_Liczba środków transportu w gospodarstwie domowym [Samochód służbowy]',\n",
    "    'DANE O GOSPODARSTWIE DOMOWYM_Liczba środków transportu w gospodarstwie domowym [Rower]',\n",
    "    'DANE O RESPONDENCIE_Przedział wiekowy',\n",
    "    'DANE O RESPONDENCIE_Płeć',\n",
    "    # 'DANE O RESPONDENCIE_Zajęcie podstawowe',\n",
    "    'DANE O RESPONDENCIE_Kondycja fizyczna',\n",
    "    'DANE O RESPONDENCIE_Opieka nad innymi osobami',\n",
    "    'DANE O RESPONDENCIE_Posiadanie prawa jazdy kat. B',\n",
    "    'DANE O RESPONDENCIE_Posiadanie biletu okresowego',\n",
    "    'DANE O RESPONDENCIE_Posiadanie ulgi na przejazd komunikacją zbiorową we Wrocławiu',\n",
    "    'OPIS PODRÓŻY \"ŹRÓDŁO\"_Z jakiego miejsca',\n",
    "    'OPIS PODRÓŻY \"ŹRÓDŁO\"_Nr rejonu',\n",
    "    'OPIS PODRÓŻY \"CEL\"_Do jakiego miejsca',\n",
    "    'OPIS PODRÓŻY \"CEL\"_Nr rejonu',\n",
    "    '23:59:00_pora dnia',\n",
    "    '23:59:00_motywacje',\n",
    "    '23:59:00_środek transportu grupa'\n",
    "]"
   ]
  },
  {
   "cell_type": "code",
   "execution_count": 99,
   "metadata": {},
   "outputs": [],
   "source": [
    "data = data[chosen_cols]"
   ]
  },
  {
   "cell_type": "code",
   "execution_count": 100,
   "metadata": {},
   "outputs": [],
   "source": [
    "data.columns = [\n",
    "    # 'Z jakiego środka transportu zbiorowego korzysta Pan/Pani najczęściej?',\n",
    "    'Jak Pan/Pani ocenia wygodę jazdy pojazdami komunikacji zbiorowej?',\n",
    "    'Jak Pan/Pani ocenia punktualność komunikacji zbiorowej we Wrocławiu?',\n",
    "    'Jak ocenia Pan/Pani efekty dotychczasowych działań związanych z rozbudową systemu rowerowego we Wrocławiu (dróg i parkingów rowerowych)?',\n",
    "    'PIESZO Niekorzystne ustawienia sygnalizacji świetlnej',\n",
    "    'PIESZO Brak chodników i konieczność poruszania się jezdnią/poboczem/wydeptaną ścieżką',\n",
    "    'PIESZO Zły stan nawierzchni chodników',\n",
    "    'PIESZO Zastawianie chodników przez parkujące samochody',\n",
    "    'PIESZO Niebezpieczne zachowania kierowców',\n",
    "    'PIESZO Zagrożenie ze strony rowerzystów poruszających się chodnikami',\n",
    "    'PIESZO Zbyt wysokie krawężniki',\n",
    "    'PIESZO Brak bieżącego utrzymania czystości/odśnieżania',\n",
    "    'PIESZO Niewystarczająca liczba przejść dla pieszych',\n",
    "    'PIESZO Brak miejsc wypoczynku na trasie dojścia (np. ławki, zieleń)',\n",
    "    'PIESZO Uciążliwy ruch kołowy',\n",
    "    'PIESZO Niewłaściwe oświetlenie ciągów pieszych',\n",
    "    'Liczba osób w gospodarstwie domowym [ogółem]',\n",
    "    'Liczba osób w gospodarstwie domowym [powyżej 6 roku życia]',\n",
    "    'Samochód prywatny, zarejestrowany na osobę z gosp. domowego',\n",
    "    'Samochód prywatny, nie zarejestrowany na osobę z gosp. domowego [użyczone]',\n",
    "    'Samochód służbowy',\n",
    "    'Rower',\n",
    "    'Przedział wiekowy',\n",
    "    'Płeć',\n",
    "    # 'Zajęcie podstawowe',\n",
    "    'Kondycja fizyczna',\n",
    "    'Opieka nad innymi osobami',\n",
    "    'Posiadanie prawa jazdy kat. B',\n",
    "    'Posiadanie biletu okresowego',\n",
    "    'Posiadanie ulgi na przejazd komunikację zbiorową',\n",
    "    'ŹRÓDŁO Z jakiego miejsca',\n",
    "    'ŹRÓDŁO Nr rejonu',\n",
    "    'CEL Do jakiego miejsca',\n",
    "    'CEL Nr rejonu',\n",
    "    'Pora dnia (godzina)',\n",
    "    'Motywacje (skąd-dokąd)',\n",
    "    'Środek transportu grupa'\n",
    "]"
   ]
  },
  {
   "cell_type": "code",
   "execution_count": 101,
   "metadata": {},
   "outputs": [
    {
     "output_type": "execute_result",
     "data": {
      "text/plain": [
       "  Jak Pan/Pani ocenia wygodę jazdy pojazdami komunikacji zbiorowej?  \\\n",
       "0                                      bardzo dobrze                  \n",
       "1                                      bardzo dobrze                  \n",
       "2                                      bardzo dobrze                  \n",
       "3                                      bardzo dobrze                  \n",
       "4                                      bardzo dobrze                  \n",
       "\n",
       "  Jak Pan/Pani ocenia punktualność komunikacji zbiorowej we Wrocławiu?  \\\n",
       "0                                      raczej dobrze                     \n",
       "1                                      raczej dobrze                     \n",
       "2                                      raczej dobrze                     \n",
       "3                                      raczej dobrze                     \n",
       "4                                      bardzo dobrze                     \n",
       "\n",
       "  Jak ocenia Pan/Pani efekty dotychczasowych działań związanych z rozbudową systemu rowerowego we Wrocławiu (dróg i parkingów rowerowych)?  \\\n",
       "0                                      bardzo dobrze                                                                                         \n",
       "1                                      bardzo dobrze                                                                                         \n",
       "2                                      raczej dobrze                                                                                         \n",
       "3                                      raczej dobrze                                                                                         \n",
       "4                                 ani dobrze ani źle                                                                                         \n",
       "\n",
       "  PIESZO Niekorzystne ustawienia sygnalizacji świetlnej  \\\n",
       "0                                                Nie      \n",
       "1                                                Nie      \n",
       "2                                                Nie      \n",
       "3                                                Nie      \n",
       "4                                                Nie      \n",
       "\n",
       "  PIESZO Brak chodników i konieczność poruszania się jezdnią/poboczem/wydeptaną ścieżką  \\\n",
       "0                                                Nie                                      \n",
       "1                                                Nie                                      \n",
       "2                                                Nie                                      \n",
       "3                                                Nie                                      \n",
       "4                                                Tak                                      \n",
       "\n",
       "  PIESZO Zły stan nawierzchni chodników  \\\n",
       "0                                   Nie   \n",
       "1                                   Nie   \n",
       "2                                   Nie   \n",
       "3                                   Nie   \n",
       "4                                   Nie   \n",
       "\n",
       "  PIESZO Zastawianie chodników przez parkujące samochody  \\\n",
       "0                                                Nie       \n",
       "1                                                Nie       \n",
       "2                                                Tak       \n",
       "3                                                Tak       \n",
       "4                                                Nie       \n",
       "\n",
       "  PIESZO Niebezpieczne zachowania kierowców  \\\n",
       "0                                       Nie   \n",
       "1                                       Nie   \n",
       "2                                       Nie   \n",
       "3                                       Nie   \n",
       "4                                       Nie   \n",
       "\n",
       "  PIESZO Zagrożenie ze strony rowerzystów poruszających się chodnikami  \\\n",
       "0                                                Tak                     \n",
       "1                                                Tak                     \n",
       "2                                                Nie                     \n",
       "3                                                Nie                     \n",
       "4                                                Nie                     \n",
       "\n",
       "  PIESZO Zbyt wysokie krawężniki  \\\n",
       "0                            Tak   \n",
       "1                            Tak   \n",
       "2                            Nie   \n",
       "3                            Nie   \n",
       "4                            Nie   \n",
       "\n",
       "  PIESZO Brak bieżącego utrzymania czystości/odśnieżania  \\\n",
       "0                                                Nie       \n",
       "1                                                Nie       \n",
       "2                                                Nie       \n",
       "3                                                Nie       \n",
       "4                                                Nie       \n",
       "\n",
       "  PIESZO Niewystarczająca liczba przejść dla pieszych  \\\n",
       "0                                                Nie    \n",
       "1                                                Nie    \n",
       "2                                                Tak    \n",
       "3                                                Tak    \n",
       "4                                                Nie    \n",
       "\n",
       "  PIESZO Brak miejsc wypoczynku na trasie dojścia (np. ławki, zieleń)  \\\n",
       "0                                                Nie                    \n",
       "1                                                Nie                    \n",
       "2                                                Nie                    \n",
       "3                                                Nie                    \n",
       "4                                                Nie                    \n",
       "\n",
       "  PIESZO Uciążliwy ruch kołowy PIESZO Niewłaściwe oświetlenie ciągów pieszych  \\\n",
       "0                          Tak                                            Nie   \n",
       "1                          Tak                                            Nie   \n",
       "2                          Nie                                            Nie   \n",
       "3                          Nie                                            Nie   \n",
       "4                          Nie                                            Nie   \n",
       "\n",
       "   Liczba osób w gospodarstwie domowym [ogółem]  \\\n",
       "0                                           1.0   \n",
       "1                                           1.0   \n",
       "2                                           2.0   \n",
       "3                                           2.0   \n",
       "4                                           2.0   \n",
       "\n",
       "   Liczba osób w gospodarstwie domowym [powyżej 6 roku życia]  \\\n",
       "0                                                1.0            \n",
       "1                                                1.0            \n",
       "2                                                2.0            \n",
       "3                                                2.0            \n",
       "4                                                2.0            \n",
       "\n",
       "   Samochód prywatny, zarejestrowany na osobę z gosp. domowego  \\\n",
       "0                                                0.0             \n",
       "1                                                0.0             \n",
       "2                                                0.0             \n",
       "3                                                0.0             \n",
       "4                                                1.0             \n",
       "\n",
       "   Samochód prywatny, nie zarejestrowany na osobę z gosp. domowego [użyczone]  \\\n",
       "0                                                0.0                            \n",
       "1                                                0.0                            \n",
       "2                                                1.0                            \n",
       "3                                                1.0                            \n",
       "4                                                0.0                            \n",
       "\n",
       "   Samochód służbowy  Rower              Przedział wiekowy       Płeć  \\\n",
       "0                0.0    1.0  61 i więcej (emeryci kobiety)    Kobieta   \n",
       "1                0.0    1.0  61 i więcej (emeryci kobiety)    Kobieta   \n",
       "2                0.0    1.0         20-24 (wiek studencki)    Kobieta   \n",
       "3                0.0    1.0         20-24 (wiek studencki)  Mężczyzna   \n",
       "4                0.0    0.0  61 i więcej (emeryci kobiety)    Kobieta   \n",
       "\n",
       "  Zajęcie podstawowe       Kondycja fizyczna Opieka nad innymi osobami  \\\n",
       "0             emeryt      dobry stan zdrowia               nie dotyczy   \n",
       "1             emeryt      dobry stan zdrowia               nie dotyczy   \n",
       "2            student      dobry stan zdrowia               nie dotyczy   \n",
       "3            student      dobry stan zdrowia               nie dotyczy   \n",
       "4             emeryt  dolegliwości zdrowotne               nie dotyczy   \n",
       "\n",
       "  Posiadanie prawa jazdy kat. B Posiadanie biletu okresowego  \\\n",
       "0                           Tak                          Tak   \n",
       "1                           Tak                          Tak   \n",
       "2                           Tak                          Tak   \n",
       "3                           Tak                          Tak   \n",
       "4                           Nie                          Nie   \n",
       "\n",
       "  Posiadanie ulgi na przejazd komunikację zbiorową ŹRÓDŁO Z jakiego miejsca  \\\n",
       "0                                              0.5                      dom   \n",
       "1                                              0.5                     Inne   \n",
       "2                                              0.5                      NaN   \n",
       "3                                              0.5                      NaN   \n",
       "4                                              0.5                      NaN   \n",
       "\n",
       "   ŹRÓDŁO Nr rejonu CEL Do jakiego miejsca  CEL Nr rejonu Pora dnia (godzina)  \\\n",
       "0              67.0                   Inne           68.0           9:00-9:59   \n",
       "1              68.0                    dom           67.0           9:00-9:59   \n",
       "2               NaN                    NaN            NaN                 NaN   \n",
       "3               NaN                    NaN            NaN                 NaN   \n",
       "4               NaN                    NaN            NaN                 NaN   \n",
       "\n",
       "  Motywacje (skąd-dokąd)  Środek transportu grupa  \n",
       "0               dom-Inne  komunikacja samochodowa  \n",
       "1               Inne-dom  komunikacja samochodowa  \n",
       "2                      -                      NaN  \n",
       "3                      -                      NaN  \n",
       "4                      -                      NaN  "
      ],
      "text/html": "<div>\n<style scoped>\n    .dataframe tbody tr th:only-of-type {\n        vertical-align: middle;\n    }\n\n    .dataframe tbody tr th {\n        vertical-align: top;\n    }\n\n    .dataframe thead th {\n        text-align: right;\n    }\n</style>\n<table border=\"1\" class=\"dataframe\">\n  <thead>\n    <tr style=\"text-align: right;\">\n      <th></th>\n      <th>Jak Pan/Pani ocenia wygodę jazdy pojazdami komunikacji zbiorowej?</th>\n      <th>Jak Pan/Pani ocenia punktualność komunikacji zbiorowej we Wrocławiu?</th>\n      <th>Jak ocenia Pan/Pani efekty dotychczasowych działań związanych z rozbudową systemu rowerowego we Wrocławiu (dróg i parkingów rowerowych)?</th>\n      <th>PIESZO Niekorzystne ustawienia sygnalizacji świetlnej</th>\n      <th>PIESZO Brak chodników i konieczność poruszania się jezdnią/poboczem/wydeptaną ścieżką</th>\n      <th>PIESZO Zły stan nawierzchni chodników</th>\n      <th>PIESZO Zastawianie chodników przez parkujące samochody</th>\n      <th>PIESZO Niebezpieczne zachowania kierowców</th>\n      <th>PIESZO Zagrożenie ze strony rowerzystów poruszających się chodnikami</th>\n      <th>PIESZO Zbyt wysokie krawężniki</th>\n      <th>PIESZO Brak bieżącego utrzymania czystości/odśnieżania</th>\n      <th>PIESZO Niewystarczająca liczba przejść dla pieszych</th>\n      <th>PIESZO Brak miejsc wypoczynku na trasie dojścia (np. ławki, zieleń)</th>\n      <th>PIESZO Uciążliwy ruch kołowy</th>\n      <th>PIESZO Niewłaściwe oświetlenie ciągów pieszych</th>\n      <th>Liczba osób w gospodarstwie domowym [ogółem]</th>\n      <th>Liczba osób w gospodarstwie domowym [powyżej 6 roku życia]</th>\n      <th>Samochód prywatny, zarejestrowany na osobę z gosp. domowego</th>\n      <th>Samochód prywatny, nie zarejestrowany na osobę z gosp. domowego [użyczone]</th>\n      <th>Samochód służbowy</th>\n      <th>Rower</th>\n      <th>Przedział wiekowy</th>\n      <th>Płeć</th>\n      <th>Zajęcie podstawowe</th>\n      <th>Kondycja fizyczna</th>\n      <th>Opieka nad innymi osobami</th>\n      <th>Posiadanie prawa jazdy kat. B</th>\n      <th>Posiadanie biletu okresowego</th>\n      <th>Posiadanie ulgi na przejazd komunikację zbiorową</th>\n      <th>ŹRÓDŁO Z jakiego miejsca</th>\n      <th>ŹRÓDŁO Nr rejonu</th>\n      <th>CEL Do jakiego miejsca</th>\n      <th>CEL Nr rejonu</th>\n      <th>Pora dnia (godzina)</th>\n      <th>Motywacje (skąd-dokąd)</th>\n      <th>Środek transportu grupa</th>\n    </tr>\n  </thead>\n  <tbody>\n    <tr>\n      <th>0</th>\n      <td>bardzo dobrze</td>\n      <td>raczej dobrze</td>\n      <td>bardzo dobrze</td>\n      <td>Nie</td>\n      <td>Nie</td>\n      <td>Nie</td>\n      <td>Nie</td>\n      <td>Nie</td>\n      <td>Tak</td>\n      <td>Tak</td>\n      <td>Nie</td>\n      <td>Nie</td>\n      <td>Nie</td>\n      <td>Tak</td>\n      <td>Nie</td>\n      <td>1.0</td>\n      <td>1.0</td>\n      <td>0.0</td>\n      <td>0.0</td>\n      <td>0.0</td>\n      <td>1.0</td>\n      <td>61 i więcej (emeryci kobiety)</td>\n      <td>Kobieta</td>\n      <td>emeryt</td>\n      <td>dobry stan zdrowia</td>\n      <td>nie dotyczy</td>\n      <td>Tak</td>\n      <td>Tak</td>\n      <td>0.5</td>\n      <td>dom</td>\n      <td>67.0</td>\n      <td>Inne</td>\n      <td>68.0</td>\n      <td>9:00-9:59</td>\n      <td>dom-Inne</td>\n      <td>komunikacja samochodowa</td>\n    </tr>\n    <tr>\n      <th>1</th>\n      <td>bardzo dobrze</td>\n      <td>raczej dobrze</td>\n      <td>bardzo dobrze</td>\n      <td>Nie</td>\n      <td>Nie</td>\n      <td>Nie</td>\n      <td>Nie</td>\n      <td>Nie</td>\n      <td>Tak</td>\n      <td>Tak</td>\n      <td>Nie</td>\n      <td>Nie</td>\n      <td>Nie</td>\n      <td>Tak</td>\n      <td>Nie</td>\n      <td>1.0</td>\n      <td>1.0</td>\n      <td>0.0</td>\n      <td>0.0</td>\n      <td>0.0</td>\n      <td>1.0</td>\n      <td>61 i więcej (emeryci kobiety)</td>\n      <td>Kobieta</td>\n      <td>emeryt</td>\n      <td>dobry stan zdrowia</td>\n      <td>nie dotyczy</td>\n      <td>Tak</td>\n      <td>Tak</td>\n      <td>0.5</td>\n      <td>Inne</td>\n      <td>68.0</td>\n      <td>dom</td>\n      <td>67.0</td>\n      <td>9:00-9:59</td>\n      <td>Inne-dom</td>\n      <td>komunikacja samochodowa</td>\n    </tr>\n    <tr>\n      <th>2</th>\n      <td>bardzo dobrze</td>\n      <td>raczej dobrze</td>\n      <td>raczej dobrze</td>\n      <td>Nie</td>\n      <td>Nie</td>\n      <td>Nie</td>\n      <td>Tak</td>\n      <td>Nie</td>\n      <td>Nie</td>\n      <td>Nie</td>\n      <td>Nie</td>\n      <td>Tak</td>\n      <td>Nie</td>\n      <td>Nie</td>\n      <td>Nie</td>\n      <td>2.0</td>\n      <td>2.0</td>\n      <td>0.0</td>\n      <td>1.0</td>\n      <td>0.0</td>\n      <td>1.0</td>\n      <td>20-24 (wiek studencki)</td>\n      <td>Kobieta</td>\n      <td>student</td>\n      <td>dobry stan zdrowia</td>\n      <td>nie dotyczy</td>\n      <td>Tak</td>\n      <td>Tak</td>\n      <td>0.5</td>\n      <td>NaN</td>\n      <td>NaN</td>\n      <td>NaN</td>\n      <td>NaN</td>\n      <td>NaN</td>\n      <td>-</td>\n      <td>NaN</td>\n    </tr>\n    <tr>\n      <th>3</th>\n      <td>bardzo dobrze</td>\n      <td>raczej dobrze</td>\n      <td>raczej dobrze</td>\n      <td>Nie</td>\n      <td>Nie</td>\n      <td>Nie</td>\n      <td>Tak</td>\n      <td>Nie</td>\n      <td>Nie</td>\n      <td>Nie</td>\n      <td>Nie</td>\n      <td>Tak</td>\n      <td>Nie</td>\n      <td>Nie</td>\n      <td>Nie</td>\n      <td>2.0</td>\n      <td>2.0</td>\n      <td>0.0</td>\n      <td>1.0</td>\n      <td>0.0</td>\n      <td>1.0</td>\n      <td>20-24 (wiek studencki)</td>\n      <td>Mężczyzna</td>\n      <td>student</td>\n      <td>dobry stan zdrowia</td>\n      <td>nie dotyczy</td>\n      <td>Tak</td>\n      <td>Tak</td>\n      <td>0.5</td>\n      <td>NaN</td>\n      <td>NaN</td>\n      <td>NaN</td>\n      <td>NaN</td>\n      <td>NaN</td>\n      <td>-</td>\n      <td>NaN</td>\n    </tr>\n    <tr>\n      <th>4</th>\n      <td>bardzo dobrze</td>\n      <td>bardzo dobrze</td>\n      <td>ani dobrze ani źle</td>\n      <td>Nie</td>\n      <td>Tak</td>\n      <td>Nie</td>\n      <td>Nie</td>\n      <td>Nie</td>\n      <td>Nie</td>\n      <td>Nie</td>\n      <td>Nie</td>\n      <td>Nie</td>\n      <td>Nie</td>\n      <td>Nie</td>\n      <td>Nie</td>\n      <td>2.0</td>\n      <td>2.0</td>\n      <td>1.0</td>\n      <td>0.0</td>\n      <td>0.0</td>\n      <td>0.0</td>\n      <td>61 i więcej (emeryci kobiety)</td>\n      <td>Kobieta</td>\n      <td>emeryt</td>\n      <td>dolegliwości zdrowotne</td>\n      <td>nie dotyczy</td>\n      <td>Nie</td>\n      <td>Nie</td>\n      <td>0.5</td>\n      <td>NaN</td>\n      <td>NaN</td>\n      <td>NaN</td>\n      <td>NaN</td>\n      <td>NaN</td>\n      <td>-</td>\n      <td>NaN</td>\n    </tr>\n  </tbody>\n</table>\n</div>"
     },
     "metadata": {},
     "execution_count": 101
    }
   ],
   "source": [
    "data.head()"
   ]
  },
  {
   "cell_type": "code",
   "execution_count": 102,
   "metadata": {},
   "outputs": [
    {
     "output_type": "execute_result",
     "data": {
      "text/plain": [
       "(14241, 36)"
      ]
     },
     "metadata": {},
     "execution_count": 102
    }
   ],
   "source": [
    "data.shape"
   ]
  },
  {
   "source": [
    "# Data processing"
   ],
   "cell_type": "markdown",
   "metadata": {}
  },
  {
   "cell_type": "code",
   "execution_count": 103,
   "metadata": {},
   "outputs": [
    {
     "output_type": "execute_result",
     "data": {
      "text/plain": [
       "(10626, 34)"
      ]
     },
     "metadata": {},
     "execution_count": 103
    }
   ],
   "source": [
    "data = data.dropna()\n",
    "\n",
    "data['Samochód'] = data['Samochód prywatny, zarejestrowany na osobę z gosp. domowego'] + data['Samochód prywatny, nie zarejestrowany na osobę z gosp. domowego [użyczone]'] + data['Samochód służbowy']\n",
    "\n",
    "data = data.drop(columns=['Samochód prywatny, zarejestrowany na osobę z gosp. domowego', 'Samochód prywatny, nie zarejestrowany na osobę z gosp. domowego [użyczone]', 'Samochód służbowy'])\n",
    "\n",
    "data.shape"
   ]
  },
  {
   "source": [
    "### 'Jak Pan/Pani ocenia wygodę jazdy pojazdami komunikacji zbiorowej?'"
   ],
   "cell_type": "markdown",
   "metadata": {}
  },
  {
   "cell_type": "code",
   "execution_count": 104,
   "metadata": {},
   "outputs": [
    {
     "output_type": "execute_result",
     "data": {
      "text/plain": [
       "array(['bardzo dobrze', 'raczej dobrze',\n",
       "       'nie korzystam z komunikacji zbiorowej', 'raczej źle',\n",
       "       'ani dobrze ani źle', 'bardzo źle'], dtype=object)"
      ]
     },
     "metadata": {},
     "execution_count": 104
    }
   ],
   "source": [
    "data['Jak Pan/Pani ocenia wygodę jazdy pojazdami komunikacji zbiorowej?'].unique()"
   ]
  },
  {
   "cell_type": "code",
   "execution_count": 105,
   "metadata": {},
   "outputs": [],
   "source": [
    "var_map_dict = {\n",
    "    'bardzo źle': 0,\n",
    "    'raczej źle': 1,\n",
    "    'ani dobrze ani źle': 2,\n",
    "    'nie korzystam z komunikacji zbiorowej': 2,\n",
    "    'raczej dobrze': 3,\n",
    "    'bardzo dobrze': 4\n",
    "}\n",
    "\n",
    "data.replace({'Jak Pan/Pani ocenia wygodę jazdy pojazdami komunikacji zbiorowej?': var_map_dict}, inplace=True)"
   ]
  },
  {
   "source": [
    "### 'Jak Pan/Pani ocenia punktualność komunikacji zbiorowej we Wrocławiu?'"
   ],
   "cell_type": "markdown",
   "metadata": {}
  },
  {
   "cell_type": "code",
   "execution_count": 106,
   "metadata": {},
   "outputs": [
    {
     "output_type": "execute_result",
     "data": {
      "text/plain": [
       "array(['raczej dobrze', 'bardzo dobrze', 'raczej źle',\n",
       "       'ani dobrze ani źle', 'nie korzystam z komunikacji zbiorowej',\n",
       "       'bardzo źle'], dtype=object)"
      ]
     },
     "metadata": {},
     "execution_count": 106
    }
   ],
   "source": [
    "data['Jak Pan/Pani ocenia punktualność komunikacji zbiorowej we Wrocławiu?'].unique()"
   ]
  },
  {
   "cell_type": "code",
   "execution_count": 107,
   "metadata": {},
   "outputs": [],
   "source": [
    "var_map_dict = {\n",
    "    'bardzo źle': 0,\n",
    "    'raczej źle': 1,\n",
    "    'ani dobrze ani źle': 2,\n",
    "    'nie korzystam z komunikacji zbiorowej': 2,\n",
    "    'raczej dobrze': 3,\n",
    "    'bardzo dobrze': 4\n",
    "}\n",
    "\n",
    "data.replace({'Jak Pan/Pani ocenia punktualność komunikacji zbiorowej we Wrocławiu?': var_map_dict}, inplace=True)"
   ]
  },
  {
   "source": [
    "### 'Jak ocenia Pan/Pani efekty dotychczasowych działań związanych z rozbudową systemu rowerowego we Wrocławiu (dróg i parkingów rowerowych)?'"
   ],
   "cell_type": "markdown",
   "metadata": {}
  },
  {
   "cell_type": "code",
   "execution_count": 108,
   "metadata": {},
   "outputs": [
    {
     "output_type": "execute_result",
     "data": {
      "text/plain": [
       "array(['bardzo dobrze',\n",
       "       'nie korzystam z systemu dróg i parkingów rowerowych',\n",
       "       'raczej źle', 'raczej dobrze', 'ani dobrze ani źle', 'bardzo źle',\n",
       "       'nie korzystam z komunikacji zbiorowej'], dtype=object)"
      ]
     },
     "metadata": {},
     "execution_count": 108
    }
   ],
   "source": [
    "data['Jak ocenia Pan/Pani efekty dotychczasowych działań związanych z rozbudową systemu rowerowego we Wrocławiu (dróg i parkingów rowerowych)?'].unique()"
   ]
  },
  {
   "cell_type": "code",
   "execution_count": 110,
   "metadata": {},
   "outputs": [],
   "source": [
    "var_map_dict = {\n",
    "    'bardzo źle': 0,\n",
    "    'raczej źle': 1,\n",
    "    'ani dobrze ani źle': 2,\n",
    "    'nie korzystam z komunikacji zbiorowej': 2,\n",
    "    'nie korzystam z systemu dróg i parkingów rowerowych': 2,\n",
    "    'raczej dobrze': 3,\n",
    "    'bardzo dobrze': 4\n",
    "}\n",
    "\n",
    "data.replace({'Jak ocenia Pan/Pani efekty dotychczasowych działań związanych z rozbudową systemu rowerowego we Wrocławiu (dróg i parkingów rowerowych)?': var_map_dict}, inplace=True)"
   ]
  },
  {
   "source": [
    "### 'PIESZO Niekorzystne ustawienia sygnalizacji świetlnej'"
   ],
   "cell_type": "markdown",
   "metadata": {}
  },
  {
   "cell_type": "code",
   "execution_count": 111,
   "metadata": {},
   "outputs": [
    {
     "output_type": "execute_result",
     "data": {
      "text/plain": [
       "array(['Nie', 'Tak', 'nie', 'tak'], dtype=object)"
      ]
     },
     "metadata": {},
     "execution_count": 111
    }
   ],
   "source": [
    "data['PIESZO Niekorzystne ustawienia sygnalizacji świetlnej'].unique()"
   ]
  },
  {
   "cell_type": "code",
   "execution_count": 112,
   "metadata": {},
   "outputs": [],
   "source": [
    "var_map_dict = {\n",
    "    'Nie': 0,\n",
    "    'nie': 0,\n",
    "    'Tak': 1,\n",
    "    'tak': 1\n",
    "}\n",
    "\n",
    "data.replace({'PIESZO Niekorzystne ustawienia sygnalizacji świetlnej': var_map_dict}, inplace=True)"
   ]
  },
  {
   "source": [
    "### 'PIESZO Brak chodników i konieczność poruszania się jezdnią/poboczem/wydeptaną ścieżką'"
   ],
   "cell_type": "markdown",
   "metadata": {}
  },
  {
   "cell_type": "code",
   "execution_count": 113,
   "metadata": {},
   "outputs": [
    {
     "output_type": "execute_result",
     "data": {
      "text/plain": [
       "array(['Nie', 'Tak', 'nie', 'tak'], dtype=object)"
      ]
     },
     "metadata": {},
     "execution_count": 113
    }
   ],
   "source": [
    "data['PIESZO Brak chodników i konieczność poruszania się jezdnią/poboczem/wydeptaną ścieżką'].unique()"
   ]
  },
  {
   "cell_type": "code",
   "execution_count": 114,
   "metadata": {},
   "outputs": [],
   "source": [
    "var_map_dict = {\n",
    "    'Nie': 0,\n",
    "    'nie': 0,\n",
    "    'Tak': 1,\n",
    "    'tak': 1\n",
    "}\n",
    "\n",
    "data.replace({'PIESZO Brak chodników i konieczność poruszania się jezdnią/poboczem/wydeptaną ścieżką': var_map_dict}, inplace=True)"
   ]
  },
  {
   "source": [
    "### 'PIESZO Zły stan nawierzchni chodników'"
   ],
   "cell_type": "markdown",
   "metadata": {}
  },
  {
   "cell_type": "code",
   "execution_count": 115,
   "metadata": {},
   "outputs": [
    {
     "output_type": "execute_result",
     "data": {
      "text/plain": [
       "array(['Nie', 'Tak', 'nie', 'tak'], dtype=object)"
      ]
     },
     "metadata": {},
     "execution_count": 115
    }
   ],
   "source": [
    "data['PIESZO Zły stan nawierzchni chodników'].unique()"
   ]
  },
  {
   "cell_type": "code",
   "execution_count": 116,
   "metadata": {},
   "outputs": [],
   "source": [
    "var_map_dict = {\n",
    "    'Nie': 0,\n",
    "    'nie': 0,\n",
    "    'Tak': 1,\n",
    "    'tak': 1\n",
    "}\n",
    "\n",
    "data.replace({'PIESZO Zły stan nawierzchni chodników': var_map_dict}, inplace=True)"
   ]
  },
  {
   "source": [
    "### PIESZO Zastawianie chodników przez parkujące samochody"
   ],
   "cell_type": "markdown",
   "metadata": {}
  },
  {
   "cell_type": "code",
   "execution_count": 117,
   "metadata": {},
   "outputs": [
    {
     "output_type": "execute_result",
     "data": {
      "text/plain": [
       "array(['Nie', 'Tak', 'tak', 'nie'], dtype=object)"
      ]
     },
     "metadata": {},
     "execution_count": 117
    }
   ],
   "source": [
    "data['PIESZO Zastawianie chodników przez parkujące samochody'].unique()"
   ]
  },
  {
   "cell_type": "code",
   "execution_count": 118,
   "metadata": {},
   "outputs": [],
   "source": [
    "var_map_dict = {\n",
    "    'Nie': 0,\n",
    "    'nie': 0,\n",
    "    'Tak': 1,\n",
    "    'tak': 1\n",
    "}\n",
    "\n",
    "data.replace({'PIESZO Zastawianie chodników przez parkujące samochody': var_map_dict}, inplace=True)"
   ]
  },
  {
   "source": [
    "### PIESZO Niebezpieczne zachowania kierowców"
   ],
   "cell_type": "markdown",
   "metadata": {}
  },
  {
   "cell_type": "code",
   "execution_count": 119,
   "metadata": {},
   "outputs": [
    {
     "output_type": "execute_result",
     "data": {
      "text/plain": [
       "array(['Nie', 'Tak', 'nie', 'tak'], dtype=object)"
      ]
     },
     "metadata": {},
     "execution_count": 119
    }
   ],
   "source": [
    "data['PIESZO Niebezpieczne zachowania kierowców'].unique()"
   ]
  },
  {
   "cell_type": "code",
   "execution_count": 120,
   "metadata": {},
   "outputs": [],
   "source": [
    "var_map_dict = {\n",
    "    'Nie': 0,\n",
    "    'nie': 0,\n",
    "    'Tak': 1,\n",
    "    'tak': 1\n",
    "}\n",
    "\n",
    "data.replace({'PIESZO Niebezpieczne zachowania kierowców': var_map_dict}, inplace=True)"
   ]
  },
  {
   "source": [
    "### 'PIESZO Zagrożenie ze strony rowerzystów poruszających się chodnikami'"
   ],
   "cell_type": "markdown",
   "metadata": {}
  },
  {
   "cell_type": "code",
   "execution_count": 121,
   "metadata": {},
   "outputs": [
    {
     "output_type": "execute_result",
     "data": {
      "text/plain": [
       "array(['Tak', 'Nie', 'nie', 'tak'], dtype=object)"
      ]
     },
     "metadata": {},
     "execution_count": 121
    }
   ],
   "source": [
    "data['PIESZO Zagrożenie ze strony rowerzystów poruszających się chodnikami'].unique()"
   ]
  },
  {
   "cell_type": "code",
   "execution_count": 122,
   "metadata": {},
   "outputs": [],
   "source": [
    "var_map_dict = {\n",
    "    'Nie': 0,\n",
    "    'nie': 0,\n",
    "    'Tak': 1,\n",
    "    'tak': 1\n",
    "}\n",
    "\n",
    "data.replace({'PIESZO Zagrożenie ze strony rowerzystów poruszających się chodnikami': var_map_dict}, inplace=True)"
   ]
  },
  {
   "source": [
    "### 'PIESZO Zbyt wysokie krawężniki'"
   ],
   "cell_type": "markdown",
   "metadata": {}
  },
  {
   "cell_type": "code",
   "execution_count": 123,
   "metadata": {},
   "outputs": [
    {
     "output_type": "execute_result",
     "data": {
      "text/plain": [
       "array(['Tak', 'Nie', 'nie', 'tak'], dtype=object)"
      ]
     },
     "metadata": {},
     "execution_count": 123
    }
   ],
   "source": [
    "data['PIESZO Zbyt wysokie krawężniki'].unique()"
   ]
  },
  {
   "cell_type": "code",
   "execution_count": 124,
   "metadata": {},
   "outputs": [],
   "source": [
    "var_map_dict = {\n",
    "    'Nie': 0,\n",
    "    'nie': 0,\n",
    "    'Tak': 1,\n",
    "    'tak': 1\n",
    "}\n",
    "\n",
    "data.replace({'PIESZO Zbyt wysokie krawężniki': var_map_dict}, inplace=True)"
   ]
  },
  {
   "source": [
    "### 'PIESZO Brak bieżącego utrzymania czystości/odśnieżania'"
   ],
   "cell_type": "markdown",
   "metadata": {}
  },
  {
   "cell_type": "code",
   "execution_count": 125,
   "metadata": {},
   "outputs": [
    {
     "output_type": "execute_result",
     "data": {
      "text/plain": [
       "array(['Nie', 'Tak', 'tak', 'nie'], dtype=object)"
      ]
     },
     "metadata": {},
     "execution_count": 125
    }
   ],
   "source": [
    "data['PIESZO Brak bieżącego utrzymania czystości/odśnieżania'].unique()"
   ]
  },
  {
   "cell_type": "code",
   "execution_count": 126,
   "metadata": {},
   "outputs": [],
   "source": [
    "var_map_dict = {\n",
    "    'Nie': 0,\n",
    "    'nie': 0,\n",
    "    'Tak': 1,\n",
    "    'tak': 1\n",
    "}\n",
    "\n",
    "data.replace({'PIESZO Brak bieżącego utrzymania czystości/odśnieżania': var_map_dict}, inplace=True)"
   ]
  },
  {
   "source": [
    "### 'PIESZO Niewystarczająca liczba przejść dla pieszych'"
   ],
   "cell_type": "markdown",
   "metadata": {}
  },
  {
   "cell_type": "code",
   "execution_count": 127,
   "metadata": {},
   "outputs": [
    {
     "output_type": "execute_result",
     "data": {
      "text/plain": [
       "array(['Nie', 'Tak', 'nie', 'tak'], dtype=object)"
      ]
     },
     "metadata": {},
     "execution_count": 127
    }
   ],
   "source": [
    "data['PIESZO Niewystarczająca liczba przejść dla pieszych'].unique()"
   ]
  },
  {
   "cell_type": "code",
   "execution_count": 128,
   "metadata": {},
   "outputs": [],
   "source": [
    "var_map_dict = {\n",
    "    'Nie': 0,\n",
    "    'nie': 0,\n",
    "    'Tak': 1,\n",
    "    'tak': 1\n",
    "}\n",
    "\n",
    "data.replace({'PIESZO Niewystarczająca liczba przejść dla pieszych': var_map_dict}, inplace=True)"
   ]
  },
  {
   "source": [
    "### 'PIESZO Brak miejsc wypoczynku na trasie dojścia (np. ławki, zieleń)'"
   ],
   "cell_type": "markdown",
   "metadata": {}
  },
  {
   "cell_type": "code",
   "execution_count": 129,
   "metadata": {},
   "outputs": [
    {
     "output_type": "execute_result",
     "data": {
      "text/plain": [
       "array(['Nie', 'Tak', 'nie', 'tak'], dtype=object)"
      ]
     },
     "metadata": {},
     "execution_count": 129
    }
   ],
   "source": [
    "data['PIESZO Brak miejsc wypoczynku na trasie dojścia (np. ławki, zieleń)'].unique()"
   ]
  },
  {
   "cell_type": "code",
   "execution_count": 130,
   "metadata": {},
   "outputs": [],
   "source": [
    "var_map_dict = {\n",
    "    'Nie': 0,\n",
    "    'nie': 0,\n",
    "    'Tak': 1,\n",
    "    'tak': 1\n",
    "}\n",
    "\n",
    "data.replace({'PIESZO Brak miejsc wypoczynku na trasie dojścia (np. ławki, zieleń)': var_map_dict}, inplace=True)"
   ]
  },
  {
   "source": [
    "### 'PIESZO Uciążliwy ruch kołowy'"
   ],
   "cell_type": "markdown",
   "metadata": {}
  },
  {
   "cell_type": "code",
   "execution_count": 131,
   "metadata": {},
   "outputs": [
    {
     "output_type": "execute_result",
     "data": {
      "text/plain": [
       "array(['Tak', 'Nie', 'nie', 'tak'], dtype=object)"
      ]
     },
     "metadata": {},
     "execution_count": 131
    }
   ],
   "source": [
    "data['PIESZO Uciążliwy ruch kołowy'].unique()"
   ]
  },
  {
   "cell_type": "code",
   "execution_count": 132,
   "metadata": {},
   "outputs": [],
   "source": [
    "var_map_dict = {\n",
    "    'Nie': 0,\n",
    "    'nie': 0,\n",
    "    'Tak': 1,\n",
    "    'tak': 1\n",
    "}\n",
    "\n",
    "data.replace({'PIESZO Uciążliwy ruch kołowy': var_map_dict}, inplace=True)"
   ]
  },
  {
   "source": [
    "### 'PIESZO Niewłaściwe oświetlenie ciągów pieszych'"
   ],
   "cell_type": "markdown",
   "metadata": {}
  },
  {
   "cell_type": "code",
   "execution_count": 133,
   "metadata": {},
   "outputs": [
    {
     "output_type": "execute_result",
     "data": {
      "text/plain": [
       "array(['Nie', 'Tak', 'nie', 'tak'], dtype=object)"
      ]
     },
     "metadata": {},
     "execution_count": 133
    }
   ],
   "source": [
    "data['PIESZO Niewłaściwe oświetlenie ciągów pieszych'].unique()"
   ]
  },
  {
   "cell_type": "code",
   "execution_count": 134,
   "metadata": {},
   "outputs": [],
   "source": [
    "var_map_dict = {\n",
    "    'Nie': 0,\n",
    "    'nie': 0,\n",
    "    'Tak': 1,\n",
    "    'tak': 1\n",
    "}\n",
    "\n",
    "data.replace({'PIESZO Niewłaściwe oświetlenie ciągów pieszych': var_map_dict}, inplace=True)"
   ]
  },
  {
   "source": [
    "### 'Przedział wiekowy'"
   ],
   "cell_type": "markdown",
   "metadata": {}
  },
  {
   "cell_type": "code",
   "execution_count": 135,
   "metadata": {},
   "outputs": [
    {
     "output_type": "execute_result",
     "data": {
      "text/plain": [
       "array(['61 i więcej (emeryci kobiety)',\n",
       "       '45-65 (starsi pracownicy mężczyźni)', '25-44 (młodsi pracownicy)',\n",
       "       '66 i więcej (emeryci mężczyźni)',\n",
       "       '45-60 (starsi pracownicy kobiety)', '20-24 (wiek studencki)',\n",
       "       '16-19 (młodzież)', '6-15 (dzieci)'], dtype=object)"
      ]
     },
     "metadata": {},
     "execution_count": 135
    }
   ],
   "source": [
    "data['Przedział wiekowy'].unique()"
   ]
  },
  {
   "cell_type": "code",
   "execution_count": 136,
   "metadata": {},
   "outputs": [],
   "source": [
    "var_map_dict = {\n",
    "    '6-15 (dzieci)': 0,\n",
    "    '16-19 (młodzież)': 1,\n",
    "    '20-24 (wiek studencki)': 2,\n",
    "    '25-44 (młodsi pracownicy)': 3,\n",
    "    '45-60 (starsi pracownicy kobiety)': 4,\n",
    "    '45-65 (starsi pracownicy mężczyźni)': 4,\n",
    "    '61 i więcej (emeryci kobiety)': 5,\n",
    "    '66 i więcej (emeryci mężczyźni)': 5\n",
    "}\n",
    "\n",
    "data.replace({'Przedział wiekowy': var_map_dict}, inplace=True)"
   ]
  },
  {
   "cell_type": "code",
   "execution_count": null,
   "metadata": {},
   "outputs": [],
   "source": []
  },
  {
   "cell_type": "code",
   "execution_count": 59,
   "metadata": {},
   "outputs": [],
   "source": [
    "X = data.drop(columns=['Środek transportu grupa'])\n",
    "y = data['Środek transportu grupa']"
   ]
  },
  {
   "cell_type": "code",
   "execution_count": 61,
   "metadata": {},
   "outputs": [],
   "source": [
    "X_train, X_test, y_train, y_test = train_test_split(X, y, test_size=0.33, random_state=42)"
   ]
  },
  {
   "cell_type": "code",
   "execution_count": 62,
   "metadata": {},
   "outputs": [],
   "source": [
    "clf = DecisionTreeClassifier(random_state=42)"
   ]
  },
  {
   "cell_type": "code",
   "execution_count": 64,
   "metadata": {},
   "outputs": [
    {
     "output_type": "error",
     "ename": "ValueError",
     "evalue": "could not convert string to float: 'z obu korzystam w podobnym stopniu'",
     "traceback": [
      "\u001b[0;31m---------------------------------------------------------------------------\u001b[0m",
      "\u001b[0;31mValueError\u001b[0m                                Traceback (most recent call last)",
      "\u001b[0;32m<ipython-input-64-4f66baab8f93>\u001b[0m in \u001b[0;36m<module>\u001b[0;34m\u001b[0m\n\u001b[0;32m----> 1\u001b[0;31m \u001b[0mclf\u001b[0m\u001b[0;34m.\u001b[0m\u001b[0mfit\u001b[0m\u001b[0;34m(\u001b[0m\u001b[0mX_train\u001b[0m\u001b[0;34m,\u001b[0m \u001b[0my_train\u001b[0m\u001b[0;34m)\u001b[0m\u001b[0;34m\u001b[0m\u001b[0;34m\u001b[0m\u001b[0m\n\u001b[0m",
      "\u001b[0;32m~/Projects/urban-mobility-project/mobility_venv/lib/python3.8/site-packages/scikit_learn-0.24.0rc1-py3.8-linux-x86_64.egg/sklearn/tree/_classes.py\u001b[0m in \u001b[0;36mfit\u001b[0;34m(self, X, y, sample_weight, check_input, X_idx_sorted)\u001b[0m\n\u001b[1;32m    890\u001b[0m         \"\"\"\n\u001b[1;32m    891\u001b[0m \u001b[0;34m\u001b[0m\u001b[0m\n\u001b[0;32m--> 892\u001b[0;31m         super().fit(\n\u001b[0m\u001b[1;32m    893\u001b[0m             \u001b[0mX\u001b[0m\u001b[0;34m,\u001b[0m \u001b[0my\u001b[0m\u001b[0;34m,\u001b[0m\u001b[0;34m\u001b[0m\u001b[0;34m\u001b[0m\u001b[0m\n\u001b[1;32m    894\u001b[0m             \u001b[0msample_weight\u001b[0m\u001b[0;34m=\u001b[0m\u001b[0msample_weight\u001b[0m\u001b[0;34m,\u001b[0m\u001b[0;34m\u001b[0m\u001b[0;34m\u001b[0m\u001b[0m\n",
      "\u001b[0;32m~/Projects/urban-mobility-project/mobility_venv/lib/python3.8/site-packages/scikit_learn-0.24.0rc1-py3.8-linux-x86_64.egg/sklearn/tree/_classes.py\u001b[0m in \u001b[0;36mfit\u001b[0;34m(self, X, y, sample_weight, check_input, X_idx_sorted)\u001b[0m\n\u001b[1;32m    154\u001b[0m             \u001b[0mcheck_X_params\u001b[0m \u001b[0;34m=\u001b[0m \u001b[0mdict\u001b[0m\u001b[0;34m(\u001b[0m\u001b[0mdtype\u001b[0m\u001b[0;34m=\u001b[0m\u001b[0mDTYPE\u001b[0m\u001b[0;34m,\u001b[0m \u001b[0maccept_sparse\u001b[0m\u001b[0;34m=\u001b[0m\u001b[0;34m\"csc\"\u001b[0m\u001b[0;34m)\u001b[0m\u001b[0;34m\u001b[0m\u001b[0;34m\u001b[0m\u001b[0m\n\u001b[1;32m    155\u001b[0m             \u001b[0mcheck_y_params\u001b[0m \u001b[0;34m=\u001b[0m \u001b[0mdict\u001b[0m\u001b[0;34m(\u001b[0m\u001b[0mensure_2d\u001b[0m\u001b[0;34m=\u001b[0m\u001b[0;32mFalse\u001b[0m\u001b[0;34m,\u001b[0m \u001b[0mdtype\u001b[0m\u001b[0;34m=\u001b[0m\u001b[0;32mNone\u001b[0m\u001b[0;34m)\u001b[0m\u001b[0;34m\u001b[0m\u001b[0;34m\u001b[0m\u001b[0m\n\u001b[0;32m--> 156\u001b[0;31m             X, y = self._validate_data(X, y,\n\u001b[0m\u001b[1;32m    157\u001b[0m                                        validate_separately=(check_X_params,\n\u001b[1;32m    158\u001b[0m                                                             check_y_params))\n",
      "\u001b[0;32m~/Projects/urban-mobility-project/mobility_venv/lib/python3.8/site-packages/scikit_learn-0.24.0rc1-py3.8-linux-x86_64.egg/sklearn/base.py\u001b[0m in \u001b[0;36m_validate_data\u001b[0;34m(self, X, y, reset, validate_separately, **check_params)\u001b[0m\n\u001b[1;32m    428\u001b[0m                 \u001b[0;31m# :(\u001b[0m\u001b[0;34m\u001b[0m\u001b[0;34m\u001b[0m\u001b[0;34m\u001b[0m\u001b[0m\n\u001b[1;32m    429\u001b[0m                 \u001b[0mcheck_X_params\u001b[0m\u001b[0;34m,\u001b[0m \u001b[0mcheck_y_params\u001b[0m \u001b[0;34m=\u001b[0m \u001b[0mvalidate_separately\u001b[0m\u001b[0;34m\u001b[0m\u001b[0;34m\u001b[0m\u001b[0m\n\u001b[0;32m--> 430\u001b[0;31m                 \u001b[0mX\u001b[0m \u001b[0;34m=\u001b[0m \u001b[0mcheck_array\u001b[0m\u001b[0;34m(\u001b[0m\u001b[0mX\u001b[0m\u001b[0;34m,\u001b[0m \u001b[0;34m**\u001b[0m\u001b[0mcheck_X_params\u001b[0m\u001b[0;34m)\u001b[0m\u001b[0;34m\u001b[0m\u001b[0;34m\u001b[0m\u001b[0m\n\u001b[0m\u001b[1;32m    431\u001b[0m                 \u001b[0my\u001b[0m \u001b[0;34m=\u001b[0m \u001b[0mcheck_array\u001b[0m\u001b[0;34m(\u001b[0m\u001b[0my\u001b[0m\u001b[0;34m,\u001b[0m \u001b[0;34m**\u001b[0m\u001b[0mcheck_y_params\u001b[0m\u001b[0;34m)\u001b[0m\u001b[0;34m\u001b[0m\u001b[0;34m\u001b[0m\u001b[0m\n\u001b[1;32m    432\u001b[0m             \u001b[0;32melse\u001b[0m\u001b[0;34m:\u001b[0m\u001b[0;34m\u001b[0m\u001b[0;34m\u001b[0m\u001b[0m\n",
      "\u001b[0;32m~/Projects/urban-mobility-project/mobility_venv/lib/python3.8/site-packages/scikit_learn-0.24.0rc1-py3.8-linux-x86_64.egg/sklearn/utils/validation.py\u001b[0m in \u001b[0;36minner_f\u001b[0;34m(*args, **kwargs)\u001b[0m\n\u001b[1;32m     61\u001b[0m             \u001b[0mextra_args\u001b[0m \u001b[0;34m=\u001b[0m \u001b[0mlen\u001b[0m\u001b[0;34m(\u001b[0m\u001b[0margs\u001b[0m\u001b[0;34m)\u001b[0m \u001b[0;34m-\u001b[0m \u001b[0mlen\u001b[0m\u001b[0;34m(\u001b[0m\u001b[0mall_args\u001b[0m\u001b[0;34m)\u001b[0m\u001b[0;34m\u001b[0m\u001b[0;34m\u001b[0m\u001b[0m\n\u001b[1;32m     62\u001b[0m             \u001b[0;32mif\u001b[0m \u001b[0mextra_args\u001b[0m \u001b[0;34m<=\u001b[0m \u001b[0;36m0\u001b[0m\u001b[0;34m:\u001b[0m\u001b[0;34m\u001b[0m\u001b[0;34m\u001b[0m\u001b[0m\n\u001b[0;32m---> 63\u001b[0;31m                 \u001b[0;32mreturn\u001b[0m \u001b[0mf\u001b[0m\u001b[0;34m(\u001b[0m\u001b[0;34m*\u001b[0m\u001b[0margs\u001b[0m\u001b[0;34m,\u001b[0m \u001b[0;34m**\u001b[0m\u001b[0mkwargs\u001b[0m\u001b[0;34m)\u001b[0m\u001b[0;34m\u001b[0m\u001b[0;34m\u001b[0m\u001b[0m\n\u001b[0m\u001b[1;32m     64\u001b[0m \u001b[0;34m\u001b[0m\u001b[0m\n\u001b[1;32m     65\u001b[0m             \u001b[0;31m# extra_args > 0\u001b[0m\u001b[0;34m\u001b[0m\u001b[0;34m\u001b[0m\u001b[0;34m\u001b[0m\u001b[0m\n",
      "\u001b[0;32m~/Projects/urban-mobility-project/mobility_venv/lib/python3.8/site-packages/scikit_learn-0.24.0rc1-py3.8-linux-x86_64.egg/sklearn/utils/validation.py\u001b[0m in \u001b[0;36mcheck_array\u001b[0;34m(array, accept_sparse, accept_large_sparse, dtype, order, copy, force_all_finite, ensure_2d, allow_nd, ensure_min_samples, ensure_min_features, estimator)\u001b[0m\n\u001b[1;32m    614\u001b[0m                     \u001b[0marray\u001b[0m \u001b[0;34m=\u001b[0m \u001b[0marray\u001b[0m\u001b[0;34m.\u001b[0m\u001b[0mastype\u001b[0m\u001b[0;34m(\u001b[0m\u001b[0mdtype\u001b[0m\u001b[0;34m,\u001b[0m \u001b[0mcasting\u001b[0m\u001b[0;34m=\u001b[0m\u001b[0;34m\"unsafe\"\u001b[0m\u001b[0;34m,\u001b[0m \u001b[0mcopy\u001b[0m\u001b[0;34m=\u001b[0m\u001b[0;32mFalse\u001b[0m\u001b[0;34m)\u001b[0m\u001b[0;34m\u001b[0m\u001b[0;34m\u001b[0m\u001b[0m\n\u001b[1;32m    615\u001b[0m                 \u001b[0;32melse\u001b[0m\u001b[0;34m:\u001b[0m\u001b[0;34m\u001b[0m\u001b[0;34m\u001b[0m\u001b[0m\n\u001b[0;32m--> 616\u001b[0;31m                     \u001b[0marray\u001b[0m \u001b[0;34m=\u001b[0m \u001b[0mnp\u001b[0m\u001b[0;34m.\u001b[0m\u001b[0masarray\u001b[0m\u001b[0;34m(\u001b[0m\u001b[0marray\u001b[0m\u001b[0;34m,\u001b[0m \u001b[0morder\u001b[0m\u001b[0;34m=\u001b[0m\u001b[0morder\u001b[0m\u001b[0;34m,\u001b[0m \u001b[0mdtype\u001b[0m\u001b[0;34m=\u001b[0m\u001b[0mdtype\u001b[0m\u001b[0;34m)\u001b[0m\u001b[0;34m\u001b[0m\u001b[0;34m\u001b[0m\u001b[0m\n\u001b[0m\u001b[1;32m    617\u001b[0m             \u001b[0;32mexcept\u001b[0m \u001b[0mComplexWarning\u001b[0m \u001b[0;32mas\u001b[0m \u001b[0mcomplex_warning\u001b[0m\u001b[0;34m:\u001b[0m\u001b[0;34m\u001b[0m\u001b[0;34m\u001b[0m\u001b[0m\n\u001b[1;32m    618\u001b[0m                 raise ValueError(\"Complex data not supported\\n\"\n",
      "\u001b[0;32m~/Projects/urban-mobility-project/mobility_venv/lib/python3.8/site-packages/numpy/core/_asarray.py\u001b[0m in \u001b[0;36masarray\u001b[0;34m(a, dtype, order)\u001b[0m\n\u001b[1;32m     81\u001b[0m \u001b[0;34m\u001b[0m\u001b[0m\n\u001b[1;32m     82\u001b[0m     \"\"\"\n\u001b[0;32m---> 83\u001b[0;31m     \u001b[0;32mreturn\u001b[0m \u001b[0marray\u001b[0m\u001b[0;34m(\u001b[0m\u001b[0ma\u001b[0m\u001b[0;34m,\u001b[0m \u001b[0mdtype\u001b[0m\u001b[0;34m,\u001b[0m \u001b[0mcopy\u001b[0m\u001b[0;34m=\u001b[0m\u001b[0;32mFalse\u001b[0m\u001b[0;34m,\u001b[0m \u001b[0morder\u001b[0m\u001b[0;34m=\u001b[0m\u001b[0morder\u001b[0m\u001b[0;34m)\u001b[0m\u001b[0;34m\u001b[0m\u001b[0;34m\u001b[0m\u001b[0m\n\u001b[0m\u001b[1;32m     84\u001b[0m \u001b[0;34m\u001b[0m\u001b[0m\n\u001b[1;32m     85\u001b[0m \u001b[0;34m\u001b[0m\u001b[0m\n",
      "\u001b[0;32m~/Projects/urban-mobility-project/mobility_venv/lib/python3.8/site-packages/pandas/core/generic.py\u001b[0m in \u001b[0;36m__array__\u001b[0;34m(self, dtype)\u001b[0m\n\u001b[1;32m   1779\u001b[0m \u001b[0;34m\u001b[0m\u001b[0m\n\u001b[1;32m   1780\u001b[0m     \u001b[0;32mdef\u001b[0m \u001b[0m__array__\u001b[0m\u001b[0;34m(\u001b[0m\u001b[0mself\u001b[0m\u001b[0;34m,\u001b[0m \u001b[0mdtype\u001b[0m\u001b[0;34m=\u001b[0m\u001b[0;32mNone\u001b[0m\u001b[0;34m)\u001b[0m \u001b[0;34m->\u001b[0m \u001b[0mnp\u001b[0m\u001b[0;34m.\u001b[0m\u001b[0mndarray\u001b[0m\u001b[0;34m:\u001b[0m\u001b[0;34m\u001b[0m\u001b[0;34m\u001b[0m\u001b[0m\n\u001b[0;32m-> 1781\u001b[0;31m         \u001b[0;32mreturn\u001b[0m \u001b[0mnp\u001b[0m\u001b[0;34m.\u001b[0m\u001b[0masarray\u001b[0m\u001b[0;34m(\u001b[0m\u001b[0mself\u001b[0m\u001b[0;34m.\u001b[0m\u001b[0m_values\u001b[0m\u001b[0;34m,\u001b[0m \u001b[0mdtype\u001b[0m\u001b[0;34m=\u001b[0m\u001b[0mdtype\u001b[0m\u001b[0;34m)\u001b[0m\u001b[0;34m\u001b[0m\u001b[0;34m\u001b[0m\u001b[0m\n\u001b[0m\u001b[1;32m   1782\u001b[0m \u001b[0;34m\u001b[0m\u001b[0m\n\u001b[1;32m   1783\u001b[0m     \u001b[0;32mdef\u001b[0m \u001b[0m__array_wrap__\u001b[0m\u001b[0;34m(\u001b[0m\u001b[0mself\u001b[0m\u001b[0;34m,\u001b[0m \u001b[0mresult\u001b[0m\u001b[0;34m,\u001b[0m \u001b[0mcontext\u001b[0m\u001b[0;34m=\u001b[0m\u001b[0;32mNone\u001b[0m\u001b[0;34m)\u001b[0m\u001b[0;34m:\u001b[0m\u001b[0;34m\u001b[0m\u001b[0;34m\u001b[0m\u001b[0m\n",
      "\u001b[0;32m~/Projects/urban-mobility-project/mobility_venv/lib/python3.8/site-packages/numpy/core/_asarray.py\u001b[0m in \u001b[0;36masarray\u001b[0;34m(a, dtype, order)\u001b[0m\n\u001b[1;32m     81\u001b[0m \u001b[0;34m\u001b[0m\u001b[0m\n\u001b[1;32m     82\u001b[0m     \"\"\"\n\u001b[0;32m---> 83\u001b[0;31m     \u001b[0;32mreturn\u001b[0m \u001b[0marray\u001b[0m\u001b[0;34m(\u001b[0m\u001b[0ma\u001b[0m\u001b[0;34m,\u001b[0m \u001b[0mdtype\u001b[0m\u001b[0;34m,\u001b[0m \u001b[0mcopy\u001b[0m\u001b[0;34m=\u001b[0m\u001b[0;32mFalse\u001b[0m\u001b[0;34m,\u001b[0m \u001b[0morder\u001b[0m\u001b[0;34m=\u001b[0m\u001b[0morder\u001b[0m\u001b[0;34m)\u001b[0m\u001b[0;34m\u001b[0m\u001b[0;34m\u001b[0m\u001b[0m\n\u001b[0m\u001b[1;32m     84\u001b[0m \u001b[0;34m\u001b[0m\u001b[0m\n\u001b[1;32m     85\u001b[0m \u001b[0;34m\u001b[0m\u001b[0m\n",
      "\u001b[0;31mValueError\u001b[0m: could not convert string to float: 'z obu korzystam w podobnym stopniu'"
     ]
    }
   ],
   "source": [
    "clf.fit(X_train, y_train)"
   ]
  },
  {
   "cell_type": "code",
   "execution_count": null,
   "metadata": {},
   "outputs": [],
   "source": []
  }
 ]
}