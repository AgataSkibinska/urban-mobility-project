{
 "metadata": {
  "language_info": {
   "codemirror_mode": {
    "name": "ipython",
    "version": 3
   },
   "file_extension": ".py",
   "mimetype": "text/x-python",
   "name": "python",
   "nbconvert_exporter": "python",
   "pygments_lexer": "ipython3",
   "version": "3.7.6-final"
  },
  "orig_nbformat": 2,
  "kernelspec": {
   "name": "python3",
   "display_name": "Python 3"
  }
 },
 "nbformat": 4,
 "nbformat_minor": 2,
 "cells": [
  {
   "cell_type": "code",
   "execution_count": 1,
   "metadata": {},
   "outputs": [],
   "source": [
    "import os\n",
    "import pandas as pd\n",
    "from tqdm import tqdm"
   ]
  },
  {
   "source": [
    "## Load file"
   ],
   "cell_type": "markdown",
   "metadata": {}
  },
  {
   "cell_type": "code",
   "execution_count": 48,
   "metadata": {},
   "outputs": [],
   "source": [
    "kbr_data_path = '../../data/raw/KBR/'\n",
    "kbr_dir_path = '1_Ankiety_w_gospodarstwach_domowych/'\n",
    "kbr_file_path = 'Etap_V_1_1_Ankiety_w_gospodarstwach_domowych_Wroclaw.xlsx'\n",
    "\n",
    "df = pd.read_excel(os.path.join(kbr_data_path, kbr_dir_path, kbr_file_path), 'Wrocław_ankiety+podróże', header=[0,1])"
   ]
  },
  {
   "cell_type": "code",
   "execution_count": 49,
   "metadata": {},
   "outputs": [
    {
     "output_type": "execute_result",
     "data": {
      "text/plain": [
       "    Lp          IDENTYFIKACJA ANKIETY               \\\n",
       "    Lp ID_LOS (numer kwestionariusza) Nr ankietera   \n",
       "0  1.0                  LOS_67-67-306          NaN   \n",
       "1  2.0                  LOS_67-67-306          NaN   \n",
       "2  3.0                  LOS_67-67-109          NaN   \n",
       "3  4.0                  LOS_67-67-109          NaN   \n",
       "4  5.0                  LOS_67-67-401          NaN   \n",
       "\n",
       "                                                                        \\\n",
       "  Data wypełnienia kwestionariusza Godzina wypełnienia kwestionariusza   \n",
       "0                       2018-04-25                               17:20   \n",
       "1                       2018-04-25                               17:20   \n",
       "2                       2018-04-26                               17:05   \n",
       "3                       2018-04-26                               17:05   \n",
       "4                       2018-04-26                               17:10   \n",
       "\n",
       "                             \\\n",
       "  Nr rejonu komunikacyjnego   \n",
       "0                      67.0   \n",
       "1                      67.0   \n",
       "2                      67.0   \n",
       "3                      67.0   \n",
       "4                      67.0   \n",
       "\n",
       "                           PREFERENCJE DOT. MOBILNOŚCI MIEJSKIEJ  \\\n",
       "  Wprowadzenie opłat za wjazd do centrum dla wszystkich pojazdów   \n",
       "0                             całkowicie się zgadzam               \n",
       "1                             całkowicie się zgadzam               \n",
       "2                                 raczej się zgadzam               \n",
       "3                                 raczej się zgadzam               \n",
       "4                             całkowicie się zgadzam               \n",
       "\n",
       "                                                                                                                                                                     \\\n",
       "  Dopuszczenie dojazdu do centrum dla pojazdów, które nie zanieczyszczają środowiska (np. pojazdy elektryczne, hybrydowe lub spełniające najwyższe normy spalania)    \n",
       "0                             całkowicie się zgadzam                                                                                                                  \n",
       "1                             całkowicie się zgadzam                                                                                                                  \n",
       "2                             całkowicie się zgadzam                                                                                                                  \n",
       "3                             całkowicie się zgadzam                                                                                                                  \n",
       "4                             całkowicie się zgadzam                                                                                                                  \n",
       "\n",
       "                                                                                                                                                                                      \\\n",
       "  Jaka jest Pana/Pani opinia na temat rozwiązań wspierających kursowanie tramwajów i autobusów, takich jak priorytet przejazdu na skrzyżowaniach oraz wydzielone pasy na jezdniach?    \n",
       "0                             całkowicie się zgadzam                                                                                                                                   \n",
       "1                             całkowicie się zgadzam                                                                                                                                   \n",
       "2                             całkowicie się zgadzam                                                                                                                                   \n",
       "3                             całkowicie się zgadzam                                                                                                                                   \n",
       "4                             całkowicie się zgadzam                                                                                                                                   \n",
       "\n",
       "                                                                         ...  \\\n",
       "  Z jakiego środka transportu zbiorowego korzysta Pan/Pani najczęściej?  ...   \n",
       "0                                            tramwaj                     ...   \n",
       "1                                            tramwaj                     ...   \n",
       "2                                            tramwaj                     ...   \n",
       "3                                            tramwaj                     ...   \n",
       "4                                            tramwaj                     ...   \n",
       "\n",
       "  Przemieszczenie 4 Przemieszczenie 5                    12290.267442599752  \\\n",
       "       czas ogólnie      czas ogólnie    c 00:05:00 współczynnik korygujący   \n",
       "0               NaN               NaN  0.0      NaN                    0.80   \n",
       "1               NaN               NaN  1.0      NaN                    0.80   \n",
       "2               NaN               NaN  NaN      NaN                    0.25   \n",
       "3               NaN               NaN  NaN      NaN                    0.25   \n",
       "4               NaN               NaN  NaN      NaN                    0.80   \n",
       "\n",
       "                                                                         \\\n",
       "  Numer rejonu zagregowanego                                     a    b   \n",
       "0                         67  komunikacja zbiorowa poza Wrocławiem   KZ   \n",
       "1                         67     komunikacja zbiorowa we Wrocławiu   KZ   \n",
       "2                         67                                pociąg   KZ   \n",
       "3                         67                               tramwaj   KZ   \n",
       "4                         67                                   NaN  NaN   \n",
       "\n",
       "                                       \n",
       "  średnie napełnienie motywacje grupy  \n",
       "0                 2.0        dom-Inne  \n",
       "1                 2.0        Inne-dom  \n",
       "2                 NaN             NaN  \n",
       "3                 NaN             NaN  \n",
       "4                 NaN             NaN  \n",
       "\n",
       "[5 rows x 300 columns]"
      ],
      "text/html": "<div>\n<style scoped>\n    .dataframe tbody tr th:only-of-type {\n        vertical-align: middle;\n    }\n\n    .dataframe tbody tr th {\n        vertical-align: top;\n    }\n\n    .dataframe thead tr th {\n        text-align: left;\n    }\n</style>\n<table border=\"1\" class=\"dataframe\">\n  <thead>\n    <tr>\n      <th></th>\n      <th>Lp</th>\n      <th colspan=\"5\" halign=\"left\">IDENTYFIKACJA ANKIETY</th>\n      <th colspan=\"4\" halign=\"left\">PREFERENCJE DOT. MOBILNOŚCI MIEJSKIEJ</th>\n      <th>...</th>\n      <th>Przemieszczenie 4</th>\n      <th colspan=\"3\" halign=\"left\">Przemieszczenie 5</th>\n      <th colspan=\"6\" halign=\"left\">12290.267442599752</th>\n    </tr>\n    <tr>\n      <th></th>\n      <th>Lp</th>\n      <th>ID_LOS (numer kwestionariusza)</th>\n      <th>Nr ankietera</th>\n      <th>Data wypełnienia kwestionariusza</th>\n      <th>Godzina wypełnienia kwestionariusza</th>\n      <th>Nr rejonu komunikacyjnego</th>\n      <th>Wprowadzenie opłat za wjazd do centrum dla wszystkich pojazdów</th>\n      <th>Dopuszczenie dojazdu do centrum dla pojazdów, które nie zanieczyszczają środowiska (np. pojazdy elektryczne, hybrydowe lub spełniające najwyższe normy spalania)</th>\n      <th>Jaka jest Pana/Pani opinia na temat rozwiązań wspierających kursowanie tramwajów i autobusów, takich jak priorytet przejazdu na skrzyżowaniach oraz wydzielone pasy na jezdniach?</th>\n      <th>Z jakiego środka transportu zbiorowego korzysta Pan/Pani najczęściej?</th>\n      <th>...</th>\n      <th>czas ogólnie</th>\n      <th>czas ogólnie</th>\n      <th>c</th>\n      <th>00:05:00</th>\n      <th>współczynnik korygujący</th>\n      <th>Numer rejonu zagregowanego</th>\n      <th>a</th>\n      <th>b</th>\n      <th>średnie napełnienie</th>\n      <th>motywacje grupy</th>\n    </tr>\n  </thead>\n  <tbody>\n    <tr>\n      <th>0</th>\n      <td>1.0</td>\n      <td>LOS_67-67-306</td>\n      <td>NaN</td>\n      <td>2018-04-25</td>\n      <td>17:20</td>\n      <td>67.0</td>\n      <td>całkowicie się zgadzam</td>\n      <td>całkowicie się zgadzam</td>\n      <td>całkowicie się zgadzam</td>\n      <td>tramwaj</td>\n      <td>...</td>\n      <td>NaN</td>\n      <td>NaN</td>\n      <td>0.0</td>\n      <td>NaN</td>\n      <td>0.80</td>\n      <td>67</td>\n      <td>komunikacja zbiorowa poza Wrocławiem</td>\n      <td>KZ</td>\n      <td>2.0</td>\n      <td>dom-Inne</td>\n    </tr>\n    <tr>\n      <th>1</th>\n      <td>2.0</td>\n      <td>LOS_67-67-306</td>\n      <td>NaN</td>\n      <td>2018-04-25</td>\n      <td>17:20</td>\n      <td>67.0</td>\n      <td>całkowicie się zgadzam</td>\n      <td>całkowicie się zgadzam</td>\n      <td>całkowicie się zgadzam</td>\n      <td>tramwaj</td>\n      <td>...</td>\n      <td>NaN</td>\n      <td>NaN</td>\n      <td>1.0</td>\n      <td>NaN</td>\n      <td>0.80</td>\n      <td>67</td>\n      <td>komunikacja zbiorowa we Wrocławiu</td>\n      <td>KZ</td>\n      <td>2.0</td>\n      <td>Inne-dom</td>\n    </tr>\n    <tr>\n      <th>2</th>\n      <td>3.0</td>\n      <td>LOS_67-67-109</td>\n      <td>NaN</td>\n      <td>2018-04-26</td>\n      <td>17:05</td>\n      <td>67.0</td>\n      <td>raczej się zgadzam</td>\n      <td>całkowicie się zgadzam</td>\n      <td>całkowicie się zgadzam</td>\n      <td>tramwaj</td>\n      <td>...</td>\n      <td>NaN</td>\n      <td>NaN</td>\n      <td>NaN</td>\n      <td>NaN</td>\n      <td>0.25</td>\n      <td>67</td>\n      <td>pociąg</td>\n      <td>KZ</td>\n      <td>NaN</td>\n      <td>NaN</td>\n    </tr>\n    <tr>\n      <th>3</th>\n      <td>4.0</td>\n      <td>LOS_67-67-109</td>\n      <td>NaN</td>\n      <td>2018-04-26</td>\n      <td>17:05</td>\n      <td>67.0</td>\n      <td>raczej się zgadzam</td>\n      <td>całkowicie się zgadzam</td>\n      <td>całkowicie się zgadzam</td>\n      <td>tramwaj</td>\n      <td>...</td>\n      <td>NaN</td>\n      <td>NaN</td>\n      <td>NaN</td>\n      <td>NaN</td>\n      <td>0.25</td>\n      <td>67</td>\n      <td>tramwaj</td>\n      <td>KZ</td>\n      <td>NaN</td>\n      <td>NaN</td>\n    </tr>\n    <tr>\n      <th>4</th>\n      <td>5.0</td>\n      <td>LOS_67-67-401</td>\n      <td>NaN</td>\n      <td>2018-04-26</td>\n      <td>17:10</td>\n      <td>67.0</td>\n      <td>całkowicie się zgadzam</td>\n      <td>całkowicie się zgadzam</td>\n      <td>całkowicie się zgadzam</td>\n      <td>tramwaj</td>\n      <td>...</td>\n      <td>NaN</td>\n      <td>NaN</td>\n      <td>NaN</td>\n      <td>NaN</td>\n      <td>0.80</td>\n      <td>67</td>\n      <td>NaN</td>\n      <td>NaN</td>\n      <td>NaN</td>\n      <td>NaN</td>\n    </tr>\n  </tbody>\n</table>\n<p>5 rows × 300 columns</p>\n</div>"
     },
     "metadata": {},
     "execution_count": 49
    }
   ],
   "source": [
    "df.head()"
   ]
  },
  {
   "cell_type": "code",
   "execution_count": 50,
   "metadata": {
    "tags": []
   },
   "outputs": [],
   "source": [
    "# Combining header rows of a multiIndex DataFrame\n",
    "# df.columns = [f'{i}_{j}' for i, j in df.columns]"
   ]
  },
  {
   "cell_type": "code",
   "execution_count": 51,
   "metadata": {},
   "outputs": [
    {
     "output_type": "execute_result",
     "data": {
      "text/plain": [
       "   Lp_Lp IDENTYFIKACJA ANKIETY_ID_LOS (numer kwestionariusza)  \\\n",
       "0    1.0                                      LOS_67-67-306     \n",
       "1    2.0                                      LOS_67-67-306     \n",
       "2    3.0                                      LOS_67-67-109     \n",
       "3    4.0                                      LOS_67-67-109     \n",
       "4    5.0                                      LOS_67-67-401     \n",
       "\n",
       "   IDENTYFIKACJA ANKIETY_Nr ankietera  \\\n",
       "0                                 NaN   \n",
       "1                                 NaN   \n",
       "2                                 NaN   \n",
       "3                                 NaN   \n",
       "4                                 NaN   \n",
       "\n",
       "  IDENTYFIKACJA ANKIETY_Data wypełnienia kwestionariusza  \\\n",
       "0                                         2018-04-25       \n",
       "1                                         2018-04-25       \n",
       "2                                         2018-04-26       \n",
       "3                                         2018-04-26       \n",
       "4                                         2018-04-26       \n",
       "\n",
       "  IDENTYFIKACJA ANKIETY_Godzina wypełnienia kwestionariusza  \\\n",
       "0                                              17:20          \n",
       "1                                              17:20          \n",
       "2                                              17:05          \n",
       "3                                              17:05          \n",
       "4                                              17:10          \n",
       "\n",
       "   IDENTYFIKACJA ANKIETY_Nr rejonu komunikacyjnego  \\\n",
       "0                                             67.0   \n",
       "1                                             67.0   \n",
       "2                                             67.0   \n",
       "3                                             67.0   \n",
       "4                                             67.0   \n",
       "\n",
       "  PREFERENCJE DOT. MOBILNOŚCI MIEJSKIEJ_Wprowadzenie opłat za wjazd do centrum dla wszystkich pojazdów  \\\n",
       "0                             całkowicie się zgadzam                                                     \n",
       "1                             całkowicie się zgadzam                                                     \n",
       "2                                 raczej się zgadzam                                                     \n",
       "3                                 raczej się zgadzam                                                     \n",
       "4                             całkowicie się zgadzam                                                     \n",
       "\n",
       "  PREFERENCJE DOT. MOBILNOŚCI MIEJSKIEJ_Dopuszczenie dojazdu do centrum dla pojazdów, które nie zanieczyszczają środowiska (np. pojazdy elektryczne, hybrydowe lub spełniające najwyższe normy spalania)   \\\n",
       "0                             całkowicie się zgadzam                                                                                                                                                        \n",
       "1                             całkowicie się zgadzam                                                                                                                                                        \n",
       "2                             całkowicie się zgadzam                                                                                                                                                        \n",
       "3                             całkowicie się zgadzam                                                                                                                                                        \n",
       "4                             całkowicie się zgadzam                                                                                                                                                        \n",
       "\n",
       "  PREFERENCJE DOT. MOBILNOŚCI MIEJSKIEJ_Jaka jest Pana/Pani opinia na temat rozwiązań wspierających kursowanie tramwajów i autobusów, takich jak priorytet przejazdu na skrzyżowaniach oraz wydzielone pasy na jezdniach?   \\\n",
       "0                             całkowicie się zgadzam                                                                                                                                                                         \n",
       "1                             całkowicie się zgadzam                                                                                                                                                                         \n",
       "2                             całkowicie się zgadzam                                                                                                                                                                         \n",
       "3                             całkowicie się zgadzam                                                                                                                                                                         \n",
       "4                             całkowicie się zgadzam                                                                                                                                                                         \n",
       "\n",
       "  PREFERENCJE DOT. MOBILNOŚCI MIEJSKIEJ_Z jakiego środka transportu zbiorowego korzysta Pan/Pani najczęściej?  \\\n",
       "0                                            tramwaj                                                            \n",
       "1                                            tramwaj                                                            \n",
       "2                                            tramwaj                                                            \n",
       "3                                            tramwaj                                                            \n",
       "4                                            tramwaj                                                            \n",
       "\n",
       "   ... Przemieszczenie 4_czas ogólnie Przemieszczenie 5_czas ogólnie  \\\n",
       "0  ...                            NaN                            NaN   \n",
       "1  ...                            NaN                            NaN   \n",
       "2  ...                            NaN                            NaN   \n",
       "3  ...                            NaN                            NaN   \n",
       "4  ...                            NaN                            NaN   \n",
       "\n",
       "  Przemieszczenie 5_c Przemieszczenie 5_00:05:00  \\\n",
       "0                 0.0                        NaN   \n",
       "1                 1.0                        NaN   \n",
       "2                 NaN                        NaN   \n",
       "3                 NaN                        NaN   \n",
       "4                 NaN                        NaN   \n",
       "\n",
       "  12290.267442599752_współczynnik korygujący  \\\n",
       "0                                       0.80   \n",
       "1                                       0.80   \n",
       "2                                       0.25   \n",
       "3                                       0.25   \n",
       "4                                       0.80   \n",
       "\n",
       "  12290.267442599752_Numer rejonu zagregowanego  \\\n",
       "0                                            67   \n",
       "1                                            67   \n",
       "2                                            67   \n",
       "3                                            67   \n",
       "4                                            67   \n",
       "\n",
       "                   12290.267442599752_a 12290.267442599752_b  \\\n",
       "0  komunikacja zbiorowa poza Wrocławiem                   KZ   \n",
       "1     komunikacja zbiorowa we Wrocławiu                   KZ   \n",
       "2                                pociąg                   KZ   \n",
       "3                               tramwaj                   KZ   \n",
       "4                                   NaN                  NaN   \n",
       "\n",
       "  12290.267442599752_średnie napełnienie 12290.267442599752_motywacje grupy  \n",
       "0                                    2.0                           dom-Inne  \n",
       "1                                    2.0                           Inne-dom  \n",
       "2                                    NaN                                NaN  \n",
       "3                                    NaN                                NaN  \n",
       "4                                    NaN                                NaN  \n",
       "\n",
       "[5 rows x 300 columns]"
      ],
      "text/html": "<div>\n<style scoped>\n    .dataframe tbody tr th:only-of-type {\n        vertical-align: middle;\n    }\n\n    .dataframe tbody tr th {\n        vertical-align: top;\n    }\n\n    .dataframe thead th {\n        text-align: right;\n    }\n</style>\n<table border=\"1\" class=\"dataframe\">\n  <thead>\n    <tr style=\"text-align: right;\">\n      <th></th>\n      <th>Lp_Lp</th>\n      <th>IDENTYFIKACJA ANKIETY_ID_LOS (numer kwestionariusza)</th>\n      <th>IDENTYFIKACJA ANKIETY_Nr ankietera</th>\n      <th>IDENTYFIKACJA ANKIETY_Data wypełnienia kwestionariusza</th>\n      <th>IDENTYFIKACJA ANKIETY_Godzina wypełnienia kwestionariusza</th>\n      <th>IDENTYFIKACJA ANKIETY_Nr rejonu komunikacyjnego</th>\n      <th>PREFERENCJE DOT. MOBILNOŚCI MIEJSKIEJ_Wprowadzenie opłat za wjazd do centrum dla wszystkich pojazdów</th>\n      <th>PREFERENCJE DOT. MOBILNOŚCI MIEJSKIEJ_Dopuszczenie dojazdu do centrum dla pojazdów, które nie zanieczyszczają środowiska (np. pojazdy elektryczne, hybrydowe lub spełniające najwyższe normy spalania)</th>\n      <th>PREFERENCJE DOT. MOBILNOŚCI MIEJSKIEJ_Jaka jest Pana/Pani opinia na temat rozwiązań wspierających kursowanie tramwajów i autobusów, takich jak priorytet przejazdu na skrzyżowaniach oraz wydzielone pasy na jezdniach?</th>\n      <th>PREFERENCJE DOT. MOBILNOŚCI MIEJSKIEJ_Z jakiego środka transportu zbiorowego korzysta Pan/Pani najczęściej?</th>\n      <th>...</th>\n      <th>Przemieszczenie 4_czas ogólnie</th>\n      <th>Przemieszczenie 5_czas ogólnie</th>\n      <th>Przemieszczenie 5_c</th>\n      <th>Przemieszczenie 5_00:05:00</th>\n      <th>12290.267442599752_współczynnik korygujący</th>\n      <th>12290.267442599752_Numer rejonu zagregowanego</th>\n      <th>12290.267442599752_a</th>\n      <th>12290.267442599752_b</th>\n      <th>12290.267442599752_średnie napełnienie</th>\n      <th>12290.267442599752_motywacje grupy</th>\n    </tr>\n  </thead>\n  <tbody>\n    <tr>\n      <th>0</th>\n      <td>1.0</td>\n      <td>LOS_67-67-306</td>\n      <td>NaN</td>\n      <td>2018-04-25</td>\n      <td>17:20</td>\n      <td>67.0</td>\n      <td>całkowicie się zgadzam</td>\n      <td>całkowicie się zgadzam</td>\n      <td>całkowicie się zgadzam</td>\n      <td>tramwaj</td>\n      <td>...</td>\n      <td>NaN</td>\n      <td>NaN</td>\n      <td>0.0</td>\n      <td>NaN</td>\n      <td>0.80</td>\n      <td>67</td>\n      <td>komunikacja zbiorowa poza Wrocławiem</td>\n      <td>KZ</td>\n      <td>2.0</td>\n      <td>dom-Inne</td>\n    </tr>\n    <tr>\n      <th>1</th>\n      <td>2.0</td>\n      <td>LOS_67-67-306</td>\n      <td>NaN</td>\n      <td>2018-04-25</td>\n      <td>17:20</td>\n      <td>67.0</td>\n      <td>całkowicie się zgadzam</td>\n      <td>całkowicie się zgadzam</td>\n      <td>całkowicie się zgadzam</td>\n      <td>tramwaj</td>\n      <td>...</td>\n      <td>NaN</td>\n      <td>NaN</td>\n      <td>1.0</td>\n      <td>NaN</td>\n      <td>0.80</td>\n      <td>67</td>\n      <td>komunikacja zbiorowa we Wrocławiu</td>\n      <td>KZ</td>\n      <td>2.0</td>\n      <td>Inne-dom</td>\n    </tr>\n    <tr>\n      <th>2</th>\n      <td>3.0</td>\n      <td>LOS_67-67-109</td>\n      <td>NaN</td>\n      <td>2018-04-26</td>\n      <td>17:05</td>\n      <td>67.0</td>\n      <td>raczej się zgadzam</td>\n      <td>całkowicie się zgadzam</td>\n      <td>całkowicie się zgadzam</td>\n      <td>tramwaj</td>\n      <td>...</td>\n      <td>NaN</td>\n      <td>NaN</td>\n      <td>NaN</td>\n      <td>NaN</td>\n      <td>0.25</td>\n      <td>67</td>\n      <td>pociąg</td>\n      <td>KZ</td>\n      <td>NaN</td>\n      <td>NaN</td>\n    </tr>\n    <tr>\n      <th>3</th>\n      <td>4.0</td>\n      <td>LOS_67-67-109</td>\n      <td>NaN</td>\n      <td>2018-04-26</td>\n      <td>17:05</td>\n      <td>67.0</td>\n      <td>raczej się zgadzam</td>\n      <td>całkowicie się zgadzam</td>\n      <td>całkowicie się zgadzam</td>\n      <td>tramwaj</td>\n      <td>...</td>\n      <td>NaN</td>\n      <td>NaN</td>\n      <td>NaN</td>\n      <td>NaN</td>\n      <td>0.25</td>\n      <td>67</td>\n      <td>tramwaj</td>\n      <td>KZ</td>\n      <td>NaN</td>\n      <td>NaN</td>\n    </tr>\n    <tr>\n      <th>4</th>\n      <td>5.0</td>\n      <td>LOS_67-67-401</td>\n      <td>NaN</td>\n      <td>2018-04-26</td>\n      <td>17:10</td>\n      <td>67.0</td>\n      <td>całkowicie się zgadzam</td>\n      <td>całkowicie się zgadzam</td>\n      <td>całkowicie się zgadzam</td>\n      <td>tramwaj</td>\n      <td>...</td>\n      <td>NaN</td>\n      <td>NaN</td>\n      <td>NaN</td>\n      <td>NaN</td>\n      <td>0.80</td>\n      <td>67</td>\n      <td>NaN</td>\n      <td>NaN</td>\n      <td>NaN</td>\n      <td>NaN</td>\n    </tr>\n  </tbody>\n</table>\n<p>5 rows × 300 columns</p>\n</div>"
     },
     "metadata": {},
     "execution_count": 51
    }
   ],
   "source": [
    "df.head()"
   ]
  },
  {
   "cell_type": "code",
   "execution_count": 70,
   "metadata": {},
   "outputs": [
    {
     "output_type": "stream",
     "name": "stdout",
     "text": [
      "All column names are unique.\n"
     ]
    }
   ],
   "source": [
    "#df.head()\n",
    "if df.shape[1] == len(set(list(df.columns))):\n",
    "    print('All column names are unique.')\n",
    "else:\n",
    "    print('All column names are NOT unique.')"
   ]
  },
  {
   "source": [
    "## Dataframe filtering by selected columns"
   ],
   "cell_type": "markdown",
   "metadata": {}
  },
  {
   "cell_type": "code",
   "execution_count": 81,
   "metadata": {},
   "outputs": [],
   "source": [
    "chosen_cols = [\n",
    "    'IDENTYFIKACJA ANKIETY_ID_LOS (numer kwestionariusza)',\n",
    "    'OPIS PODRÓŻY \"ŹRÓDŁO\"_Nr rejonu',\n",
    "    'OPIS PODRÓŻY \"CEL\"_Nr rejonu',\n",
    "    'OPIS PODRÓŻY \"CEL\"_Do jakiego miejsca'\n",
    "]\n",
    "\n",
    "df_filtered = df[chosen_cols]\n",
    "df_filtered.columns = ['id', 'source_region', 'destination_region', 'journey_purpose']\n",
    "df_filtered.dropna(inplace=True)\n",
    "df_filtered.reset_index(drop=True, inplace=True)"
   ]
  },
  {
   "source": [
    "## Source region journey purpose"
   ],
   "cell_type": "markdown",
   "metadata": {}
  },
  {
   "cell_type": "code",
   "execution_count": 110,
   "metadata": {},
   "outputs": [],
   "source": [
    "count_series = df_filtered.groupby(['source_region', 'journey_purpose']).size()\n",
    "source_df = count_series.to_frame(name = 'count').reset_index()"
   ]
  },
  {
   "cell_type": "code",
   "execution_count": 111,
   "metadata": {},
   "outputs": [],
   "source": [
    "source_df = source_df.pivot(index=source_df['source_region'], columns='journey_purpose')['count']\n",
    "source_df = source_df.fillna(0)\n",
    "source_df['inne'] = source_df[\"Inne\"] + source_df[\"inne\"]\n",
    "source_df.drop(columns=['Inne'], inplace=True)"
   ]
  },
  {
   "cell_type": "code",
   "execution_count": 112,
   "metadata": {},
   "outputs": [
    {
     "output_type": "execute_result",
     "data": {
      "text/plain": [
       "journey_purpose    dom  inne  praca  szkoła  uczelnia\n",
       "source_region                                        \n",
       "1.0              152.0  23.0    5.0     1.0       0.0\n",
       "2.0               50.0  12.0   14.0     0.0       3.0\n",
       "3.0               35.0   8.0    8.0     0.0       1.0\n",
       "4.0              127.0  28.0    2.0     1.0       0.0\n",
       "5.0               38.0  11.0   12.0     0.0       2.0"
      ],
      "text/html": "<div>\n<style scoped>\n    .dataframe tbody tr th:only-of-type {\n        vertical-align: middle;\n    }\n\n    .dataframe tbody tr th {\n        vertical-align: top;\n    }\n\n    .dataframe thead th {\n        text-align: right;\n    }\n</style>\n<table border=\"1\" class=\"dataframe\">\n  <thead>\n    <tr style=\"text-align: right;\">\n      <th>journey_purpose</th>\n      <th>dom</th>\n      <th>inne</th>\n      <th>praca</th>\n      <th>szkoła</th>\n      <th>uczelnia</th>\n    </tr>\n    <tr>\n      <th>source_region</th>\n      <th></th>\n      <th></th>\n      <th></th>\n      <th></th>\n      <th></th>\n    </tr>\n  </thead>\n  <tbody>\n    <tr>\n      <th>1.0</th>\n      <td>152.0</td>\n      <td>23.0</td>\n      <td>5.0</td>\n      <td>1.0</td>\n      <td>0.0</td>\n    </tr>\n    <tr>\n      <th>2.0</th>\n      <td>50.0</td>\n      <td>12.0</td>\n      <td>14.0</td>\n      <td>0.0</td>\n      <td>3.0</td>\n    </tr>\n    <tr>\n      <th>3.0</th>\n      <td>35.0</td>\n      <td>8.0</td>\n      <td>8.0</td>\n      <td>0.0</td>\n      <td>1.0</td>\n    </tr>\n    <tr>\n      <th>4.0</th>\n      <td>127.0</td>\n      <td>28.0</td>\n      <td>2.0</td>\n      <td>1.0</td>\n      <td>0.0</td>\n    </tr>\n    <tr>\n      <th>5.0</th>\n      <td>38.0</td>\n      <td>11.0</td>\n      <td>12.0</td>\n      <td>0.0</td>\n      <td>2.0</td>\n    </tr>\n  </tbody>\n</table>\n</div>"
     },
     "metadata": {},
     "execution_count": 112
    }
   ],
   "source": [
    "source_df.head()"
   ]
  },
  {
   "cell_type": "code",
   "execution_count": 114,
   "metadata": {},
   "outputs": [],
   "source": [
    "# source_df.to_csv('../../data/processed/flow_model/source_region.csv')"
   ]
  },
  {
   "source": [
    "## Destination region journey purpose"
   ],
   "cell_type": "markdown",
   "metadata": {}
  },
  {
   "cell_type": "code",
   "execution_count": 115,
   "metadata": {},
   "outputs": [],
   "source": [
    "count_series = df_filtered.groupby(['destination_region', 'journey_purpose']).size()\n",
    "destination_df = count_series.to_frame(name = 'count').reset_index()"
   ]
  },
  {
   "cell_type": "code",
   "execution_count": 116,
   "metadata": {},
   "outputs": [],
   "source": [
    "destination_df = destination_df.pivot(index=destination_df['destination_region'], columns='journey_purpose')['count']\n",
    "destination_df = destination_df.fillna(0)\n",
    "destination_df['inne'] = destination_df[\"Inne\"] + destination_df[\"inne\"]\n",
    "destination_df.drop(columns=['Inne'], inplace=True)"
   ]
  },
  {
   "cell_type": "code",
   "execution_count": 117,
   "metadata": {},
   "outputs": [
    {
     "output_type": "execute_result",
     "data": {
      "text/plain": [
       "journey_purpose      dom   inne  praca  szkoła  uczelnia\n",
       "destination_region                                      \n",
       "1.0                 10.0  114.0   66.0     2.0       1.0\n",
       "2.0                 20.0    2.0   20.0     2.0      35.0\n",
       "3.0                 10.0   20.0   18.0     3.0       3.0\n",
       "4.0                  4.0  109.0   60.0     1.0       0.0\n",
       "5.0                 18.0   10.0   12.0    21.0       0.0"
      ],
      "text/html": "<div>\n<style scoped>\n    .dataframe tbody tr th:only-of-type {\n        vertical-align: middle;\n    }\n\n    .dataframe tbody tr th {\n        vertical-align: top;\n    }\n\n    .dataframe thead th {\n        text-align: right;\n    }\n</style>\n<table border=\"1\" class=\"dataframe\">\n  <thead>\n    <tr style=\"text-align: right;\">\n      <th>journey_purpose</th>\n      <th>dom</th>\n      <th>inne</th>\n      <th>praca</th>\n      <th>szkoła</th>\n      <th>uczelnia</th>\n    </tr>\n    <tr>\n      <th>destination_region</th>\n      <th></th>\n      <th></th>\n      <th></th>\n      <th></th>\n      <th></th>\n    </tr>\n  </thead>\n  <tbody>\n    <tr>\n      <th>1.0</th>\n      <td>10.0</td>\n      <td>114.0</td>\n      <td>66.0</td>\n      <td>2.0</td>\n      <td>1.0</td>\n    </tr>\n    <tr>\n      <th>2.0</th>\n      <td>20.0</td>\n      <td>2.0</td>\n      <td>20.0</td>\n      <td>2.0</td>\n      <td>35.0</td>\n    </tr>\n    <tr>\n      <th>3.0</th>\n      <td>10.0</td>\n      <td>20.0</td>\n      <td>18.0</td>\n      <td>3.0</td>\n      <td>3.0</td>\n    </tr>\n    <tr>\n      <th>4.0</th>\n      <td>4.0</td>\n      <td>109.0</td>\n      <td>60.0</td>\n      <td>1.0</td>\n      <td>0.0</td>\n    </tr>\n    <tr>\n      <th>5.0</th>\n      <td>18.0</td>\n      <td>10.0</td>\n      <td>12.0</td>\n      <td>21.0</td>\n      <td>0.0</td>\n    </tr>\n  </tbody>\n</table>\n</div>"
     },
     "metadata": {},
     "execution_count": 117
    }
   ],
   "source": [
    "destination_df.head()"
   ]
  },
  {
   "cell_type": "code",
   "execution_count": 118,
   "metadata": {},
   "outputs": [],
   "source": [
    "# destination_df.to_csv('../../data/processed/flow_model/destination_region.csv')"
   ]
  },
  {
   "cell_type": "code",
   "execution_count": null,
   "metadata": {},
   "outputs": [],
   "source": []
  }
 ]
}