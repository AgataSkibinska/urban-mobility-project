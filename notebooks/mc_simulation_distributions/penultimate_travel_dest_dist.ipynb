{
 "metadata": {
  "language_info": {
   "codemirror_mode": {
    "name": "ipython",
    "version": 3
   },
   "file_extension": ".py",
   "mimetype": "text/x-python",
   "name": "python",
   "nbconvert_exporter": "python",
   "pygments_lexer": "ipython3",
   "version": "3.8.2"
  },
  "orig_nbformat": 2,
  "kernelspec": {
   "name": "python3",
   "display_name": "Python 3.8.2 64-bit ('mobility_venv': venv)"
  },
  "interpreter": {
   "hash": "949029d92ec5e65609893ae6417d70f6e4b61e42c3828da5fd372a1d70154353"
  }
 },
 "nbformat": 4,
 "nbformat_minor": 2,
 "cells": [
  {
   "cell_type": "code",
   "execution_count": 4,
   "source": [
    "import json\n",
    "import os\n",
    "\n",
    "import numpy as np\n",
    "import pandas as pd\n",
    "from tqdm import tqdm\n",
    "\n",
    "tqdm.pandas()\n",
    "pd.options.display.max_columns = None"
   ],
   "outputs": [],
   "metadata": {}
  },
  {
   "cell_type": "markdown",
   "source": [
    "## Distribution: travel purpose grouped by combinations (age group + gender) and type of starting place for penultimate trip (without the possibility of destination being home)"
   ],
   "metadata": {}
  },
  {
   "cell_type": "markdown",
   "source": [
    "### Helper methods"
   ],
   "metadata": {}
  },
  {
   "cell_type": "code",
   "execution_count": 14,
   "source": [
    "def save_object(obj, name, out_dir='out'):\n",
    "    file_name = name if name.endswith('.json') else (name + '.json')\n",
    "    file_path = os.path.join(out_dir, file_name)\n",
    "    with open(file_path, 'w') as f:\n",
    "        json.dump(obj, f)\n",
    "\n",
    "\n",
    "def load_object(name, in_dir='out'):\n",
    "    file_name = name if name.endswith('.json') else (name + '.json')\n",
    "    file_path = os.path.join(in_dir, file_name)\n",
    "    with open(file_path, 'r') as f:\n",
    "        return json.load(f)"
   ],
   "outputs": [],
   "metadata": {}
  },
  {
   "cell_type": "markdown",
   "source": [
    "### Prepare data"
   ],
   "metadata": {}
  },
  {
   "cell_type": "code",
   "execution_count": 17,
   "source": [
    "in_dir = '../../data/processed/mc/travel_planning'\n",
    "\n",
    "dest_type_dist = load_object(\n",
    "    name='dest_type_dist',\n",
    "    in_dir=in_dir\n",
    ")\n",
    "\n",
    "dest_type_dist.keys()"
   ],
   "outputs": [
    {
     "output_type": "execute_result",
     "data": {
      "text/plain": [
       "dict_keys(['16-19_K', '16-19_M', '20-24_K', '20-24_M', '25-44_K', '25-44_M', '45-60_K', '45-65_M', '6-15_K', '6-15_M', '61-x_K', '66-x_M'])"
      ]
     },
     "metadata": {},
     "execution_count": 17
    }
   ],
   "metadata": {}
  },
  {
   "cell_type": "markdown",
   "source": [
    "Delete 'home' from possible dest types"
   ],
   "metadata": {}
  },
  {
   "cell_type": "code",
   "execution_count": 18,
   "source": [
    "for age_sex_comb, source_place_types in dest_type_dist.items():\n",
    "    for source_place_type, destination_place_types in source_place_types.items():\n",
    "        destination_place_types.pop('dom')\n",
    "        print(age_sex_comb, end='  -  ')\n",
    "        print(source_place_type, end='  \\t')\n",
    "        print(destination_place_types)"
   ],
   "outputs": [
    {
     "output_type": "stream",
     "name": "stdout",
     "text": [
      "16-19_K  -  dom  \t{'inne': 0.1935483870967742, 'praca': 0.06451612903225806, 'szkola': 0.6021505376344086, 'uczelnia': 0.12903225806451613}\n",
      "16-19_K  -  inne  \t{'inne': 0.2222222222222222, 'praca': 0.037037037037037035, 'szkola': 0.07407407407407407, 'uczelnia': 0.037037037037037035}\n",
      "16-19_K  -  praca  \t{'inne': 0.1111111111111111, 'praca': 0.1111111111111111, 'szkola': 0.1111111111111111, 'uczelnia': 0.1111111111111111}\n",
      "16-19_K  -  szkola  \t{'inne': 0.04918032786885246, 'praca': 0.01639344262295082, 'szkola': 0.01639344262295082, 'uczelnia': 0.01639344262295082}\n",
      "16-19_K  -  uczelnia  \t{'inne': 0.06666666666666667, 'praca': 0.06666666666666667, 'szkola': 0.06666666666666667, 'uczelnia': 0.06666666666666667}\n",
      "16-19_M  -  dom  \t{'inne': 0.16666666666666666, 'praca': 0.03787878787878788, 'szkola': 0.696969696969697, 'uczelnia': 0.09090909090909091}\n",
      "16-19_M  -  inne  \t{'inne': 0.1282051282051282, 'praca': 0.02564102564102564, 'szkola': 0.02564102564102564, 'uczelnia': 0.02564102564102564}\n",
      "16-19_M  -  praca  \t{'inne': 0.125, 'praca': 0.125, 'szkola': 0.125, 'uczelnia': 0.125}\n",
      "16-19_M  -  szkola  \t{'inne': 0.07526881720430108, 'praca': 0.010752688172043012, 'szkola': 0.010752688172043012, 'uczelnia': 0.010752688172043012}\n",
      "16-19_M  -  uczelnia  \t{'inne': 0.06666666666666667, 'praca': 0.06666666666666667, 'szkola': 0.06666666666666667, 'uczelnia': 0.06666666666666667}\n",
      "20-24_K  -  dom  \t{'inne': 0.2887323943661972, 'praca': 0.18661971830985916, 'szkola': 0.04225352112676056, 'uczelnia': 0.4753521126760563}\n",
      "20-24_K  -  inne  \t{'inne': 0.18309859154929578, 'praca': 0.007042253521126761, 'szkola': 0.007042253521126761, 'uczelnia': 0.028169014084507043}\n",
      "20-24_K  -  praca  \t{'inne': 0.08620689655172414, 'praca': 0.017241379310344827, 'szkola': 0.017241379310344827, 'uczelnia': 0.017241379310344827}\n",
      "20-24_K  -  szkola  \t{'inne': 0.06666666666666667, 'praca': 0.06666666666666667, 'szkola': 0.06666666666666667, 'uczelnia': 0.06666666666666667}\n",
      "20-24_K  -  uczelnia  \t{'inne': 0.20567375886524822, 'praca': 0.02127659574468085, 'szkola': 0.0070921985815602835, 'uczelnia': 0.0070921985815602835}\n",
      "20-24_M  -  dom  \t{'inne': 0.2857142857142857, 'praca': 0.19172932330827067, 'szkola': 0.03007518796992481, 'uczelnia': 0.48872180451127817}\n",
      "20-24_M  -  inne  \t{'inne': 0.16071428571428573, 'praca': 0.026785714285714284, 'szkola': 0.008928571428571428, 'uczelnia': 0.017857142857142856}\n",
      "20-24_M  -  praca  \t{'inne': 0.05172413793103448, 'praca': 0.017241379310344827, 'szkola': 0.017241379310344827, 'uczelnia': 0.017241379310344827}\n",
      "20-24_M  -  szkola  \t{'inne': 0.09090909090909091, 'praca': 0.09090909090909091, 'szkola': 0.09090909090909091, 'uczelnia': 0.09090909090909091}\n",
      "20-24_M  -  uczelnia  \t{'inne': 0.12213740458015267, 'praca': 0.007633587786259542, 'szkola': 0.007633587786259542, 'uczelnia': 0.007633587786259542}\n",
      "25-44_K  -  dom  \t{'inne': 0.3288069835111542, 'praca': 0.5819592628516004, 'szkola': 0.06304558680892337, 'uczelnia': 0.023278370514064017}\n",
      "25-44_K  -  inne  \t{'inne': 0.07256235827664399, 'praca': 0.034013605442176874, 'szkola': 0.0045351473922902496, 'uczelnia': 0.0022675736961451248}\n",
      "25-44_K  -  praca  \t{'inne': 0.09276729559748427, 'praca': 0.012578616352201259, 'szkola': 0.020440251572327043, 'uczelnia': 0.0015723270440251573}\n",
      "25-44_K  -  szkola  \t{'inne': 0.07317073170731707, 'praca': 0.23170731707317074, 'szkola': 0.012195121951219513, 'uczelnia': 0.012195121951219513}\n",
      "25-44_K  -  uczelnia  \t{'inne': 0.18518518518518517, 'praca': 0.037037037037037035, 'szkola': 0.037037037037037035, 'uczelnia': 0.037037037037037035}\n",
      "25-44_M  -  dom  \t{'inne': 0.2168421052631579, 'praca': 0.7357894736842105, 'szkola': 0.018947368421052633, 'uczelnia': 0.02736842105263158}\n",
      "25-44_M  -  inne  \t{'inne': 0.08275862068965517, 'praca': 0.02413793103448276, 'szkola': 0.0034482758620689655, 'uczelnia': 0.0034482758620689655}\n",
      "25-44_M  -  praca  \t{'inne': 0.08241758241758242, 'praca': 0.020604395604395604, 'szkola': 0.004120879120879121, 'uczelnia': 0.0013736263736263737}\n",
      "25-44_M  -  szkola  \t{'inne': 0.08695652173913043, 'praca': 0.43478260869565216, 'szkola': 0.043478260869565216, 'uczelnia': 0.043478260869565216}\n",
      "25-44_M  -  uczelnia  \t{'inne': 0.034482758620689655, 'praca': 0.034482758620689655, 'szkola': 0.034482758620689655, 'uczelnia': 0.034482758620689655}\n",
      "45-60_K  -  dom  \t{'inne': 0.42152466367713004, 'praca': 0.554559043348281, 'szkola': 0.01943198804185351, 'uczelnia': 0.0014947683109118087}\n",
      "45-60_K  -  inne  \t{'inne': 0.11267605633802817, 'praca': 0.014084507042253521, 'szkola': 0.0028169014084507044, 'uczelnia': 0.0028169014084507044}\n",
      "45-60_K  -  praca  \t{'inne': 0.09259259259259259, 'praca': 0.015873015873015872, 'szkola': 0.0026455026455026454, 'uczelnia': 0.0026455026455026454}\n",
      "45-60_K  -  szkola  \t{'inne': 0.11764705882352941, 'praca': 0.23529411764705882, 'szkola': 0.058823529411764705, 'uczelnia': 0.058823529411764705}\n",
      "45-60_K  -  uczelnia  \t{'inne': 0.2, 'praca': 0.2, 'szkola': 0.2, 'uczelnia': 0.2}\n",
      "45-65_M  -  dom  \t{'inne': 0.3363754889178618, 'praca': 0.6440677966101694, 'szkola': 0.011734028683181226, 'uczelnia': 0.001303780964797914}\n",
      "45-65_M  -  inne  \t{'inne': 0.09375, 'praca': 0.028125, 'szkola': 0.003125, 'uczelnia': 0.003125}\n",
      "45-65_M  -  praca  \t{'inne': 0.07114624505928854, 'praca': 0.01383399209486166, 'szkola': 0.001976284584980237, 'uczelnia': 0.001976284584980237}\n",
      "45-65_M  -  szkola  \t{'inne': 0.08333333333333333, 'praca': 0.4166666666666667, 'szkola': 0.08333333333333333, 'uczelnia': 0.08333333333333333}\n",
      "45-65_M  -  uczelnia  \t{'inne': 0.2, 'praca': 0.2, 'szkola': 0.2, 'uczelnia': 0.2}\n",
      "6-15_K  -  dom  \t{'inne': 0.14814814814814814, 'praca': 0.0030864197530864196, 'szkola': 0.8425925925925926, 'uczelnia': 0.0030864197530864196}\n",
      "6-15_K  -  inne  \t{'inne': 0.06349206349206349, 'praca': 0.015873015873015872, 'szkola': 0.047619047619047616, 'uczelnia': 0.015873015873015872}\n",
      "6-15_K  -  praca  \t{'inne': 0.2, 'praca': 0.2, 'szkola': 0.2, 'uczelnia': 0.2}\n",
      "6-15_K  -  szkola  \t{'inne': 0.03202846975088968, 'praca': 0.0035587188612099642, 'szkola': 0.014234875444839857, 'uczelnia': 0.0035587188612099642}\n",
      "6-15_K  -  uczelnia  \t{'inne': 0.2, 'praca': 0.2, 'szkola': 0.2, 'uczelnia': 0.2}\n",
      "6-15_M  -  dom  \t{'inne': 0.15057915057915058, 'praca': 0.007722007722007722, 'szkola': 0.833976833976834, 'uczelnia': 0.003861003861003861}\n",
      "6-15_M  -  inne  \t{'inne': 0.0847457627118644, 'praca': 0.01694915254237288, 'szkola': 0.01694915254237288, 'uczelnia': 0.01694915254237288}\n",
      "6-15_M  -  praca  \t{'inne': 0.16666666666666666, 'praca': 0.16666666666666666, 'szkola': 0.16666666666666666, 'uczelnia': 0.16666666666666666}\n",
      "6-15_M  -  szkola  \t{'inne': 0.055299539170506916, 'praca': 0.004608294930875576, 'szkola': 0.004608294930875576, 'uczelnia': 0.004608294930875576}\n",
      "6-15_M  -  uczelnia  \t{'inne': 0.2, 'praca': 0.2, 'szkola': 0.2, 'uczelnia': 0.2}\n",
      "61-x_K  -  dom  \t{'inne': 0.9053030303030303, 'praca': 0.08838383838383838, 'szkola': 0.0012626262626262627, 'uczelnia': 0.0012626262626262627}\n",
      "61-x_K  -  inne  \t{'inne': 0.06355382619974059, 'praca': 0.0012970168612191958, 'szkola': 0.0012970168612191958, 'uczelnia': 0.0012970168612191958}\n",
      "61-x_K  -  praca  \t{'inne': 0.05405405405405406, 'praca': 0.02702702702702703, 'szkola': 0.013513513513513514, 'uczelnia': 0.013513513513513514}\n",
      "61-x_K  -  szkola  \t{'inne': 0.2, 'praca': 0.2, 'szkola': 0.2, 'uczelnia': 0.2}\n",
      "61-x_K  -  uczelnia  \t{'inne': 0.2, 'praca': 0.2, 'szkola': 0.2, 'uczelnia': 0.2}\n",
      "66-x_M  -  dom  \t{'inne': 0.9251207729468599, 'praca': 0.05555555555555555, 'szkola': 0.0024154589371980675, 'uczelnia': 0.007246376811594203}\n",
      "66-x_M  -  inne  \t{'inne': 0.09692671394799054, 'praca': 0.002364066193853428, 'szkola': 0.002364066193853428, 'uczelnia': 0.002364066193853428}\n",
      "66-x_M  -  praca  \t{'inne': 0.07692307692307693, 'praca': 0.038461538461538464, 'szkola': 0.038461538461538464, 'uczelnia': 0.038461538461538464}\n",
      "66-x_M  -  szkola  \t{'inne': 0.2, 'praca': 0.2, 'szkola': 0.2, 'uczelnia': 0.2}\n",
      "66-x_M  -  uczelnia  \t{'inne': 0.14285714285714285, 'praca': 0.14285714285714285, 'szkola': 0.14285714285714285, 'uczelnia': 0.14285714285714285}\n"
     ]
    }
   ],
   "metadata": {}
  },
  {
   "cell_type": "markdown",
   "source": [
    "### Probability distribution"
   ],
   "metadata": {}
  },
  {
   "cell_type": "code",
   "execution_count": 19,
   "source": [
    "for age_sex_comb, source_place_types in dest_type_dist.items():\n",
    "    for source_place_type, destination_place_types in source_place_types.items():\n",
    "        count_sum = np.array(list(destination_place_types.values())).sum()\n",
    "        if count_sum != 0:\n",
    "            for i in list(dest_type_dist[age_sex_comb][source_place_type].keys()):\n",
    "                dest_type_dist[age_sex_comb][source_place_type][i] = dest_type_dist[age_sex_comb][source_place_type][i] / count_sum\n",
    "        print(age_sex_comb, end='  -  ')\n",
    "        print(source_place_type, end='  \\t')\n",
    "        print(destination_place_types)"
   ],
   "outputs": [
    {
     "output_type": "stream",
     "name": "stdout",
     "text": [
      "16-19_K  -  dom  \t{'inne': 0.19565217391304346, 'praca': 0.06521739130434782, 'szkola': 0.6086956521739131, 'uczelnia': 0.13043478260869565}\n",
      "16-19_K  -  inne  \t{'inne': 0.6, 'praca': 0.1, 'szkola': 0.2, 'uczelnia': 0.1}\n",
      "16-19_K  -  praca  \t{'inne': 0.25, 'praca': 0.25, 'szkola': 0.25, 'uczelnia': 0.25}\n",
      "16-19_K  -  szkola  \t{'inne': 0.49999999999999994, 'praca': 0.16666666666666666, 'szkola': 0.16666666666666666, 'uczelnia': 0.16666666666666666}\n",
      "16-19_K  -  uczelnia  \t{'inne': 0.25, 'praca': 0.25, 'szkola': 0.25, 'uczelnia': 0.25}\n",
      "16-19_M  -  dom  \t{'inne': 0.1679389312977099, 'praca': 0.038167938931297704, 'szkola': 0.7022900763358778, 'uczelnia': 0.09160305343511449}\n",
      "16-19_M  -  inne  \t{'inne': 0.625, 'praca': 0.12500000000000003, 'szkola': 0.12500000000000003, 'uczelnia': 0.12500000000000003}\n",
      "16-19_M  -  praca  \t{'inne': 0.25, 'praca': 0.25, 'szkola': 0.25, 'uczelnia': 0.25}\n",
      "16-19_M  -  szkola  \t{'inne': 0.7, 'praca': 0.09999999999999999, 'szkola': 0.09999999999999999, 'uczelnia': 0.09999999999999999}\n",
      "16-19_M  -  uczelnia  \t{'inne': 0.25, 'praca': 0.25, 'szkola': 0.25, 'uczelnia': 0.25}\n",
      "20-24_K  -  dom  \t{'inne': 0.2907801418439716, 'praca': 0.1879432624113475, 'szkola': 0.0425531914893617, 'uczelnia': 0.4787234042553191}\n",
      "20-24_K  -  inne  \t{'inne': 0.8125000000000001, 'praca': 0.03125000000000001, 'szkola': 0.03125000000000001, 'uczelnia': 0.12500000000000003}\n",
      "20-24_K  -  praca  \t{'inne': 0.6249999999999999, 'praca': 0.12499999999999997, 'szkola': 0.12499999999999997, 'uczelnia': 0.12499999999999997}\n",
      "20-24_K  -  szkola  \t{'inne': 0.25, 'praca': 0.25, 'szkola': 0.25, 'uczelnia': 0.25}\n",
      "20-24_K  -  uczelnia  \t{'inne': 0.8529411764705882, 'praca': 0.08823529411764705, 'szkola': 0.02941176470588235, 'uczelnia': 0.02941176470588235}\n",
      "20-24_M  -  dom  \t{'inne': 0.2867924528301887, 'praca': 0.19245283018867926, 'szkola': 0.030188679245283023, 'uczelnia': 0.4905660377358491}\n",
      "20-24_M  -  inne  \t{'inne': 0.7500000000000001, 'praca': 0.125, 'szkola': 0.041666666666666664, 'uczelnia': 0.08333333333333333}\n",
      "20-24_M  -  praca  \t{'inne': 0.49999999999999994, 'praca': 0.16666666666666666, 'szkola': 0.16666666666666666, 'uczelnia': 0.16666666666666666}\n",
      "20-24_M  -  szkola  \t{'inne': 0.25, 'praca': 0.25, 'szkola': 0.25, 'uczelnia': 0.25}\n",
      "20-24_M  -  uczelnia  \t{'inne': 0.8421052631578946, 'praca': 0.05263157894736841, 'szkola': 0.05263157894736841, 'uczelnia': 0.05263157894736841}\n",
      "25-44_K  -  dom  \t{'inne': 0.32976653696498054, 'praca': 0.5836575875486382, 'szkola': 0.0632295719844358, 'uczelnia': 0.023346303501945526}\n",
      "25-44_K  -  inne  \t{'inne': 0.64, 'praca': 0.30000000000000004, 'szkola': 0.04, 'uczelnia': 0.02}\n",
      "25-44_K  -  praca  \t{'inne': 0.728395061728395, 'praca': 0.09876543209876544, 'szkola': 0.16049382716049382, 'uczelnia': 0.01234567901234568}\n",
      "25-44_K  -  szkola  \t{'inne': 0.2222222222222222, 'praca': 0.7037037037037037, 'szkola': 0.037037037037037035, 'uczelnia': 0.037037037037037035}\n",
      "25-44_K  -  uczelnia  \t{'inne': 0.625, 'praca': 0.125, 'szkola': 0.125, 'uczelnia': 0.125}\n",
      "25-44_M  -  dom  \t{'inne': 0.21707060063224445, 'praca': 0.7365648050579557, 'szkola': 0.018967334035827187, 'uczelnia': 0.0273972602739726}\n",
      "25-44_M  -  inne  \t{'inne': 0.7272727272727272, 'praca': 0.2121212121212121, 'szkola': 0.0303030303030303, 'uczelnia': 0.0303030303030303}\n",
      "25-44_M  -  praca  \t{'inne': 0.759493670886076, 'praca': 0.189873417721519, 'szkola': 0.037974683544303806, 'uczelnia': 0.012658227848101267}\n",
      "25-44_M  -  szkola  \t{'inne': 0.14285714285714288, 'praca': 0.7142857142857143, 'szkola': 0.07142857142857144, 'uczelnia': 0.07142857142857144}\n",
      "25-44_M  -  uczelnia  \t{'inne': 0.25, 'praca': 0.25, 'szkola': 0.25, 'uczelnia': 0.25}\n",
      "45-60_K  -  dom  \t{'inne': 0.42278860569715143, 'praca': 0.5562218890554722, 'szkola': 0.019490254872563718, 'uczelnia': 0.0014992503748125939}\n",
      "45-60_K  -  inne  \t{'inne': 0.8510638297872342, 'praca': 0.10638297872340427, 'szkola': 0.021276595744680854, 'uczelnia': 0.021276595744680854}\n",
      "45-60_K  -  praca  \t{'inne': 0.813953488372093, 'praca': 0.13953488372093023, 'szkola': 0.023255813953488372, 'uczelnia': 0.023255813953488372}\n",
      "45-60_K  -  szkola  \t{'inne': 0.25, 'praca': 0.5, 'szkola': 0.125, 'uczelnia': 0.125}\n",
      "45-60_K  -  uczelnia  \t{'inne': 0.25, 'praca': 0.25, 'szkola': 0.25, 'uczelnia': 0.25}\n",
      "45-65_M  -  dom  \t{'inne': 0.3385826771653544, 'praca': 0.6482939632545932, 'szkola': 0.011811023622047246, 'uczelnia': 0.0013123359580052495}\n",
      "45-65_M  -  inne  \t{'inne': 0.7317073170731708, 'praca': 0.21951219512195125, 'szkola': 0.02439024390243903, 'uczelnia': 0.02439024390243903}\n",
      "45-65_M  -  praca  \t{'inne': 0.7999999999999999, 'praca': 0.15555555555555553, 'szkola': 0.022222222222222216, 'uczelnia': 0.022222222222222216}\n",
      "45-65_M  -  szkola  \t{'inne': 0.12499999999999999, 'praca': 0.625, 'szkola': 0.12499999999999999, 'uczelnia': 0.12499999999999999}\n",
      "45-65_M  -  uczelnia  \t{'inne': 0.25, 'praca': 0.25, 'szkola': 0.25, 'uczelnia': 0.25}\n",
      "6-15_K  -  dom  \t{'inne': 0.14860681114551083, 'praca': 0.003095975232198142, 'szkola': 0.8452012383900929, 'uczelnia': 0.003095975232198142}\n",
      "6-15_K  -  inne  \t{'inne': 0.4444444444444444, 'praca': 0.1111111111111111, 'szkola': 0.3333333333333333, 'uczelnia': 0.1111111111111111}\n",
      "6-15_K  -  praca  \t{'inne': 0.25, 'praca': 0.25, 'szkola': 0.25, 'uczelnia': 0.25}\n",
      "6-15_K  -  szkola  \t{'inne': 0.5999999999999999, 'praca': 0.06666666666666665, 'szkola': 0.2666666666666666, 'uczelnia': 0.06666666666666665}\n",
      "6-15_K  -  uczelnia  \t{'inne': 0.25, 'praca': 0.25, 'szkola': 0.25, 'uczelnia': 0.25}\n",
      "6-15_M  -  dom  \t{'inne': 0.1511627906976744, 'praca': 0.007751937984496124, 'szkola': 0.8372093023255814, 'uczelnia': 0.003875968992248062}\n",
      "6-15_M  -  inne  \t{'inne': 0.625, 'praca': 0.125, 'szkola': 0.125, 'uczelnia': 0.125}\n",
      "6-15_M  -  praca  \t{'inne': 0.25, 'praca': 0.25, 'szkola': 0.25, 'uczelnia': 0.25}\n",
      "6-15_M  -  szkola  \t{'inne': 0.8000000000000002, 'praca': 0.06666666666666668, 'szkola': 0.06666666666666668, 'uczelnia': 0.06666666666666668}\n",
      "6-15_M  -  uczelnia  \t{'inne': 0.25, 'praca': 0.25, 'szkola': 0.25, 'uczelnia': 0.25}\n",
      "61-x_K  -  dom  \t{'inne': 0.908745247148289, 'praca': 0.08871989860583017, 'szkola': 0.001267427122940431, 'uczelnia': 0.001267427122940431}\n",
      "61-x_K  -  inne  \t{'inne': 0.9423076923076925, 'praca': 0.019230769230769235, 'szkola': 0.019230769230769235, 'uczelnia': 0.019230769230769235}\n",
      "61-x_K  -  praca  \t{'inne': 0.5, 'praca': 0.25, 'szkola': 0.125, 'uczelnia': 0.125}\n",
      "61-x_K  -  szkola  \t{'inne': 0.25, 'praca': 0.25, 'szkola': 0.25, 'uczelnia': 0.25}\n",
      "61-x_K  -  uczelnia  \t{'inne': 0.25, 'praca': 0.25, 'szkola': 0.25, 'uczelnia': 0.25}\n",
      "66-x_M  -  dom  \t{'inne': 0.9341463414634146, 'praca': 0.05609756097560975, 'szkola': 0.002439024390243902, 'uczelnia': 0.007317073170731707}\n",
      "66-x_M  -  inne  \t{'inne': 0.9318181818181818, 'praca': 0.022727272727272724, 'szkola': 0.022727272727272724, 'uczelnia': 0.022727272727272724}\n",
      "66-x_M  -  praca  \t{'inne': 0.4, 'praca': 0.2, 'szkola': 0.2, 'uczelnia': 0.2}\n",
      "66-x_M  -  szkola  \t{'inne': 0.25, 'praca': 0.25, 'szkola': 0.25, 'uczelnia': 0.25}\n",
      "66-x_M  -  uczelnia  \t{'inne': 0.25, 'praca': 0.25, 'szkola': 0.25, 'uczelnia': 0.25}\n"
     ]
    }
   ],
   "metadata": {}
  },
  {
   "cell_type": "markdown",
   "source": [
    "### Save probability distribution to .json"
   ],
   "metadata": {}
  },
  {
   "cell_type": "code",
   "execution_count": 20,
   "source": [
    "out_dir = '../../data/processed/mc/travel_planning'\n",
    "out_file = 'penultimate_dest_type_dist.json'\n",
    "\n",
    "if not os.path.exists(out_dir):\n",
    "    os.makedirs(out_dir)\n",
    "\n",
    "save_object(\n",
    "    obj=dest_type_dist, \n",
    "    name=out_file, \n",
    "    out_dir=out_dir\n",
    ")"
   ],
   "outputs": [],
   "metadata": {}
  },
  {
   "cell_type": "code",
   "execution_count": null,
   "source": [],
   "outputs": [],
   "metadata": {}
  }
 ]
}