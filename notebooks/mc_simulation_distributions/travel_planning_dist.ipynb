{
 "metadata": {
  "language_info": {
   "codemirror_mode": {
    "name": "ipython",
    "version": 3
   },
   "file_extension": ".py",
   "mimetype": "text/x-python",
   "name": "python",
   "nbconvert_exporter": "python",
   "pygments_lexer": "ipython3",
   "version": "3.8.2-final"
  },
  "orig_nbformat": 2,
  "kernelspec": {
   "name": "python3",
   "display_name": "Python 3",
   "language": "python"
  }
 },
 "nbformat": 4,
 "nbformat_minor": 2,
 "cells": [
  {
   "cell_type": "code",
   "execution_count": 1,
   "metadata": {},
   "outputs": [],
   "source": [
    "import json\n",
    "import os\n",
    "\n",
    "import numpy as np\n",
    "import pandas as pd\n",
    "from tqdm import tqdm\n",
    "\n",
    "tqdm.pandas()\n",
    "pd.options.display.max_columns = None"
   ]
  },
  {
   "source": [
    "## Load excel file"
   ],
   "cell_type": "markdown",
   "metadata": {}
  },
  {
   "cell_type": "code",
   "execution_count": 2,
   "metadata": {},
   "outputs": [
    {
     "output_type": "stream",
     "name": "stdout",
     "text": [
      "All column names are unique.\n"
     ]
    }
   ],
   "source": [
    "kbr_data_path = '../../data/raw/KBR/'\n",
    "kbr_dir_path = '1_Ankiety_w_gospodarstwach_domowych/'\n",
    "kbr_file_path = 'Etap_V_1_1_Ankiety_w_gospodarstwach_domowych_Wroclaw.xlsx'\n",
    "excel_sheet = 'Wrocław_ankiety+podróże'\n",
    "\n",
    "data = pd.read_excel(os.path.join(kbr_data_path, kbr_dir_path, kbr_file_path), excel_sheet, header=[0,1], engine='openpyxl')\n",
    "\n",
    "data.columns = [f'{i}_{j}' for i, j in data.columns]\n",
    "data = data.iloc[0:14241]\n",
    "\n",
    "if data.shape[1] == len(set(list(data.columns))):\n",
    "    print('All column names are unique.')\n",
    "else:\n",
    "    print('All column names are NOT unique.')"
   ]
  },
  {
   "cell_type": "code",
   "execution_count": 3,
   "metadata": {},
   "outputs": [
    {
     "output_type": "execute_result",
     "data": {
      "text/plain": [
       "ia pojazdów elektrycznych   [Inne]  \\\n",
       "0                                                NaN                                    \n",
       "1                                                NaN                                    \n",
       "2                                                NaN                                    \n",
       "3                                                NaN                                    \n",
       "4                                                NaN                                    \n",
       "\n",
       "   PRZEMIESZCZENIE 6_Przyczyna dla [C]: Carpooling  \\\n",
       "0                                              NaN   \n",
       "1                                              NaN   \n",
       "2                                              NaN   \n",
       "3                                              NaN   \n",
       "4                                              NaN   \n",
       "\n",
       "   PRZEMIESZCZENIE 6_Przyczyna dla [C]: Carpooling [Inne]  \\\n",
       "0                                                NaN        \n",
       "1                                                NaN        \n",
       "2                                                NaN        \n",
       "3                                                NaN        \n",
       "4                                                NaN        \n",
       "\n",
       "   PRZEMIESZCZENIE 6_Przyczyna dla [P] Przemieszczenie piesze.1  \\\n",
       "0                                                NaN              \n",
       "1                                                NaN              \n",
       "2                                                NaN              \n",
       "3                                                NaN              \n",
       "4                                                NaN              \n",
       "\n",
       "   PRZEMIESZCZENIE 6_Przyczyna dla [P] Przemieszczenie piesze [Inne].1  \\\n",
       "0                                                NaN                     \n",
       "1                                                NaN                     \n",
       "2                                                NaN                     \n",
       "3                                                NaN                     \n",
       "4                                                NaN                     \n",
       "\n",
       "   PRZEMIESZCZENIE 6_Przyczyna dla [R] Przemieszczenie rowerem.1  \\\n",
       "0                                                NaN               \n",
       "1                                                NaN               \n",
       "2                                                NaN               \n",
       "3                                                NaN               \n",
       "4                                                NaN               \n",
       "\n",
       "   PRZEMIESZCZENIE 6_Przyczyna dla [R] Przemieszczenie rowerem [Inne].1  \\\n",
       "0                                                NaN                      \n",
       "1                                                NaN                      \n",
       "2                                                NaN                      \n",
       "3                                                NaN                      \n",
       "4                                                NaN                      \n",
       "\n",
       "   PRZEMIESZCZENIE 6_Przyczyna dla [SOK, SOP, M] Samochód, motor .1  \\\n",
       "0                                                NaN                  \n",
       "1                                                NaN                  \n",
       "2                                                NaN                  \n",
       "3                                                NaN                  \n",
       "4                                                NaN                  \n",
       "\n",
       "   PRZEMIESZCZENIE 6_Przyczyna dla [SOK, SOP, M] Samochód, motor  [Inne].1  \\\n",
       "0                                                NaN                         \n",
       "1                                                NaN                         \n",
       "2                                                NaN                         \n",
       "3                                                NaN                         \n",
       "4                                                NaN                         \n",
       "\n",
       "   PRZEMIESZCZENIE 6_Przyczyna dla [KW, KZ , T,  PO] Komunikacja zbiorowa .1  \\\n",
       "0                                                NaN                           \n",
       "1                                                NaN                           \n",
       "2                                                NaN                           \n",
       "3                                                NaN                           \n",
       "4                                                NaN                           \n",
       "\n",
       "   PRZEMIESZCZENIE 6_Przyczyna dla [KW, KZ , T,  PO] Komunikacja zbiorowa  [Inne].1  \\\n",
       "0                                                NaN                                  \n",
       "1                                                NaN                                  \n",
       "2                                                NaN                                  \n",
       "3                                                NaN                                  \n",
       "4                                                NaN                                  \n",
       "\n",
       "   PRZEMIESZCZENIE 6_Przyczyna dla [E]: Wypożyczalnia pojazdów elektrycznych  .1  \\\n",
       "0                                                NaN                               \n",
       "1                                                NaN                               \n",
       "2                                                NaN                               \n",
       "3                                                NaN                               \n",
       "4                                                NaN                               \n",
       "\n",
       "   PRZEMIESZCZENIE 6_Przyczyna dla [E]: Wypożyczalnia pojazdów elektrycznych   [Inne].1  \\\n",
       "0                                                NaN                                      \n",
       "1                                                NaN                                      \n",
       "2                                                NaN                                      \n",
       "3                                                NaN                                      \n",
       "4                                                NaN                                      \n",
       "\n",
       "   PRZEMIESZCZENIE 6_Przyczyna dla [C]: Carpooling.1  \\\n",
       "0                                                NaN   \n",
       "1                                                NaN   \n",
       "2                                                NaN   \n",
       "3                                                NaN   \n",
       "4                                                NaN   \n",
       "\n",
       "   PRZEMIESZCZENIE 6_Przyczyna dla [C]: Carpooling [Inne].1  \\\n",
       "0                                                NaN          \n",
       "1                                                NaN          \n",
       "2                                                NaN          \n",
       "3                                                NaN          \n",
       "4                                                NaN          \n",
       "\n",
       "  PRZEMIESZCZENIE 6_Godzina zakończenia jazdy/dojścia (gg:mm:ss)  \\\n",
       "0                                               None               \n",
       "1                                               None               \n",
       "2                                               None               \n",
       "3                                               None               \n",
       "4                                               None               \n",
       "\n",
       "   DANE DO STATYSTYK_Liczba przemieszczeń DANE DO STATYSTYK_środek transportu  \\\n",
       "0                                     1.0                sam. osobowy pasażer   \n",
       "1                                     1.0                sam. osobowy pasażer   \n",
       "2                                     0.0                                 NaN   \n",
       "3                                     0.0                                 NaN   \n",
       "4                                     0.0                                 NaN   \n",
       "\n",
       "  DANE DO STATYSTYK_typ podróży DANE DO STATYSTYK_czas trwania podróży  \\\n",
       "0                     niepiesze                               00:10:00   \n",
       "1                     niepiesze                               00:10:00   \n",
       "2                           NaN                                    NaN   \n",
       "3                           NaN                                    NaN   \n",
       "4                           NaN                                    NaN   \n",
       "\n",
       "  23:59:00_środek transportu podgrupa 23:59:00_środek transportu grupa  \\\n",
       "0                sam. osobowy pasażer          komunikacja samochodowa   \n",
       "1                sam. osobowy pasażer          komunikacja samochodowa   \n",
       "2                                 NaN                              NaN   \n",
       "3                                 NaN                              NaN   \n",
       "4                                 NaN                              NaN   \n",
       "\n",
       "  23:59:00_pora dnia 23:59:00_motywacje 23:59:00_motywacje grupy  \\\n",
       "0          9:00-9:59           dom-Inne                 dom-Inne   \n",
       "1          9:00-9:59           Inne-dom                 Inne-dom   \n",
       "2                NaN                  -                      NaN   \n",
       "3                NaN                  -                      NaN   \n",
       "4                NaN                  -                      NaN   \n",
       "\n",
       "  23:59:00_ŚT_pom  Przemieszczenie 1_rodzaj autobusu  \\\n",
       "0             NaN                                NaN   \n",
       "1             NaN                                NaN   \n",
       "2             NaN                                NaN   \n",
       "3             NaN                                NaN   \n",
       "4             NaN                                NaN   \n",
       "\n",
       "  Przemieszczenie 2_rodzaj autobusu Przemieszczenie 3_rodzaj autobusu  \\\n",
       "0                               NaN                               NaN   \n",
       "1                               NaN                               NaN   \n",
       "2                               NaN                               NaN   \n",
       "3                               NaN                               NaN   \n",
       "4                               NaN                               NaN   \n",
       "\n",
       "  Przemieszczenie 4_rodzaj autobusu Przemieszczenie 5_rodzaj autobusu  \\\n",
       "0                               NaN                               NaN   \n",
       "1                               NaN                               NaN   \n",
       "2                               NaN                               NaN   \n",
       "3                               NaN                               NaN   \n",
       "4                               NaN                               NaN   \n",
       "\n",
       "   Przemieszczenie 5_liczba przesiadek  \\\n",
       "0                                  0.0   \n",
       "1                                  0.0   \n",
       "2                                  NaN   \n",
       "3                                  NaN   \n",
       "4                                  NaN   \n",
       "\n",
       "   Przemieszczenie 5_przemieszczenie 1\\npiesze [1]/niepiesze[0]  \\\n",
       "0                                                1.0              \n",
       "1                                                1.0              \n",
       "2                                                NaN              \n",
       "3                                                NaN              \n",
       "4                                                NaN              \n",
       "\n",
       "   Przemieszczenie 5_przemieszczenie 2\\npiesze [1]/niepiesze[0]  \\\n",
       "0                                                NaN              \n",
       "1                                                NaN              \n",
       "2                                                NaN              \n",
       "3                                                NaN              \n",
       "4                                                NaN              \n",
       "\n",
       "   Przemieszczenie 5_przemieszczenie 3\\npiesze [1]/niepiesze[0]  \\\n",
       "0                                                NaN              \n",
       "1                                                NaN              \n",
       "2                                                NaN              \n",
       "3                                                NaN              \n",
       "4                                                NaN              \n",
       "\n",
       "   Przemieszczenie 5_przemieszczenie 4\\npiesze [1]/niepiesze[0]  \\\n",
       "0                                                NaN              \n",
       "1                                                NaN              \n",
       "2                                                NaN              \n",
       "3                                                NaN              \n",
       "4                                                NaN              \n",
       "\n",
       "   Przemieszczenie 5_przemieszczenie 5\\npiesze [1]/niepiesze[0]  \\\n",
       "0                                                NaN              \n",
       "1                                                NaN              \n",
       "2                                                NaN              \n",
       "3                                                NaN              \n",
       "4                                                NaN              \n",
       "\n",
       "   Przemieszczenie 5_przemieszczenie 6\\npiesze [1]/niepiesze[0]  \\\n",
       "0                                                NaN              \n",
       "1                                                NaN              \n",
       "2                                                NaN              \n",
       "3                                                NaN              \n",
       "4                                                NaN              \n",
       "\n",
       "   Przemieszczenie 5_liczba przesiadek.1  \\\n",
       "0                                    0.0   \n",
       "1                                    0.0   \n",
       "2                                    NaN   \n",
       "3                                    NaN   \n",
       "4                                    NaN   \n",
       "\n",
       "  Przemieszczenie 5_przemieszczenie 1\\nKomunikacja zbiorowa [KZ]  \\\n",
       "0                                                nie               \n",
       "1                                                nie               \n",
       "2                                                NaN               \n",
       "3                                                NaN               \n",
       "4                                                NaN               \n",
       "\n",
       "  Przemieszczenie 5_przemieszczenie 2\\nKomunikacja zbiorowa [KZ]  \\\n",
       "0                                                nie               \n",
       "1                                                nie               \n",
       "2                                                NaN               \n",
       "3                                                NaN               \n",
       "4                                                NaN               \n",
       "\n",
       "  Przemieszczenie 5_przemieszczenie 3\\nKomunikacja zbiorowa [KZ]  \\\n",
       "0                                                nie               \n",
       "1                                                nie               \n",
       "2                                                NaN               \n",
       "3                                                NaN               \n",
       "4                                                NaN               \n",
       "\n",
       "  Przemieszczenie 5_przemieszczenie 4\\nKomunikacja zbiorowa [KZ]  \\\n",
       "0                                                nie               \n",
       "1                                                nie               \n",
       "2                                                NaN               \n",
       "3                                                NaN               \n",
       "4                                                NaN               \n",
       "\n",
       "  Przemieszczenie 5_przemieszczenie 5\\nKomunikacja zbiorowa [KZ]  \\\n",
       "0                                                nie               \n",
       "1                                                nie               \n",
       "2                                                NaN               \n",
       "3                                                NaN               \n",
       "4                                                NaN               \n",
       "\n",
       "  Przemieszczenie 5_przemieszczenie 6\\nKomunikacja zbiorowa [KZ]  \\\n",
       "0                                                nie               \n",
       "1                                                nie               \n",
       "2                                                NaN               \n",
       "3                                                NaN               \n",
       "4                                                NaN               \n",
       "\n",
       "  Przemieszczenie 5_Czy w przemieszczeniu wystąpiło przemieszczenie KZ?  \\\n",
       "0                                                nie                      \n",
       "1                                                nie                      \n",
       "2                                                nie                      \n",
       "3                                                nie                      \n",
       "4                                                nie                      \n",
       "\n",
       "   Przemieszczenie 5_Liczba przesiadek\\n[komunikacja zbiorowa]  \\\n",
       "0                                                0.0             \n",
       "1                                                0.0             \n",
       "2                                                NaN             \n",
       "3                                                NaN             \n",
       "4                                                NaN             \n",
       "\n",
       "  Przemieszczenie 1_czas dojścia Przemieszczenie 2_czas dojścia  \\\n",
       "0                            NaN                            NaN   \n",
       "1                            NaN                            NaN   \n",
       "2                            NaN                            NaN   \n",
       "3                            NaN                            NaN   \n",
       "4                            NaN                            NaN   \n",
       "\n",
       "  Przemieszczenie 3_czas dojścia Przemieszczenie 4_czas dojścia  \\\n",
       "0                            NaN                            NaN   \n",
       "1                            NaN                            NaN   \n",
       "2                            NaN                            NaN   \n",
       "3                            NaN                            NaN   \n",
       "4                            NaN                            NaN   \n",
       "\n",
       "  Przemieszczenie 5_czas dojścia Przemieszczenie 1_czas ogólnie  \\\n",
       "0                            NaN                            NaN   \n",
       "1                            NaN                            NaN   \n",
       "2                            NaN                            NaN   \n",
       "3                            NaN                            NaN   \n",
       "4                            NaN                            NaN   \n",
       "\n",
       "  Przemieszczenie 2_czas ogólnie Przemieszczenie 3_czas ogólnie  \\\n",
       "0                            NaN                            NaN   \n",
       "1                            NaN                            NaN   \n",
       "2                            NaN                            NaN   \n",
       "3                            NaN                            NaN   \n",
       "4                            NaN                            NaN   \n",
       "\n",
       "  Przemieszczenie 4_czas ogólnie Przemieszczenie 5_czas ogólnie  \\\n",
       "0                            NaN                            NaN   \n",
       "1                            NaN                            NaN   \n",
       "2                            NaN                            NaN   \n",
       "3                            NaN                            NaN   \n",
       "4                            NaN                            NaN   \n",
       "\n",
       "   Przemieszczenie 5_c  Przemieszczenie 5_00:05:00  \\\n",
       "0                  0.0                         NaN   \n",
       "1                  1.0                         NaN   \n",
       "2                  NaN                         NaN   \n",
       "3                  NaN                         NaN   \n",
       "4                  NaN                         NaN   \n",
       "\n",
       "   12290.267442599752_współczynnik korygujący  \\\n",
       "0                                        0.80   \n",
       "1                                        0.80   \n",
       "2                                        0.25   \n",
       "3                                        0.25   \n",
       "4                                        0.80   \n",
       "\n",
       "  12290.267442599752_Numer rejonu zagregowanego  \\\n",
       "0                                            67   \n",
       "1                                            67   \n",
       "2                                            67   \n",
       "3                                            67   \n",
       "4                                            67   \n",
       "\n",
       "                   12290.267442599752_a 12290.267442599752_b  \\\n",
       "0  komunikacja zbiorowa poza Wrocławiem                   KZ   \n",
       "1     komunikacja zbiorowa we Wrocławiu                   KZ   \n",
       "2                                pociąg                   KZ   \n",
       "3                               tramwaj                   KZ   \n",
       "4                                   NaN                  NaN   \n",
       "\n",
       "   12290.267442599752_średnie napełnienie 12290.267442599752_motywacje grupy  \n",
       "0                                     2.0                           dom-Inne  \n",
       "1                                     2.0                           Inne-dom  \n",
       "2                                     NaN                                NaN  \n",
       "3                                     NaN                                NaN  \n",
       "4                                     NaN                                NaN  "
      ],
      "text/html": "<div>\n<style scoped>\n    .dataframe tbody tr th:only-of-type {\n        vertical-align: middle;\n    }\n\n    .dataframe tbody tr th {\n        vertical-align: top;\n    }\n\n    .dataframe thead th {\n        text-align: right;\n    }\n</style>\n<table border=\"1\" class=\"dataframe\">\n  <thead>\n    <tr style=\"text-align: right;\">\n      <th></th>\n      <th>Lp_Lp</th>\n      <th>IDENTYFIKACJA ANKIETY_ID_LOS (numer kwestionariusza)</th>\n      <th>IDENTYFIKACJA ANKIETY_Nr ankietera</th>\n      <th>IDENTYFIKACJA ANKIETY_Data wypełnienia kwestionariusza</th>\n      <th>IDENTYFIKACJA ANKIETY_Godzina wypełnienia kwestionariusza</th>\n      <th>IDENTYFIKACJA ANKIETY_Nr rejonu komunikacyjnego</th>\n      <th>PREFERENCJE DOT. MOBILNOŚCI MIEJSKIEJ_Wprowadzenie opłat za wjazd do centrum dla wszystkich pojazdów</th>\n      <th>PREFERENCJE DOT. MOBILNOŚCI MIEJSKIEJ_Dopuszczenie dojazdu do centrum dla pojazdów, które nie zanieczyszczają środowiska (np. pojazdy elektryczne, hybrydowe lub spełniające najwyższe normy spalania)</th>\n      <th>PREFERENCJE DOT. MOBILNOŚCI MIEJSKIEJ_Jaka jest Pana/Pani opinia na temat rozwiązań wspierających kursowanie tramwajów i autobusów, takich jak priorytet przejazdu na skrzyżowaniach oraz wydzielone pasy na jezdniach?</th>\n      <th>PREFERENCJE DOT. MOBILNOŚCI MIEJSKIEJ_Z jakiego środka transportu zbiorowego korzysta Pan/Pani najczęściej?</th>\n      <th>PREFERENCJE DOT. MOBILNOŚCI MIEJSKIEJ_Dlaczego? \\n[tramwaj/autobus]</th>\n      <th>PREFERENCJE DOT. MOBILNOŚCI MIEJSKIEJ_Dlaczego? [Inne]\\n[tramwaj/autobus]</th>\n      <th>PREFERENCJE DOT. MOBILNOŚCI MIEJSKIEJ_Jaka jest Pana/Pani opinia na temat rozwoju systemu kolei aglomeracyjnej na terenie Wrocławia i wokół niego (rozbudowa układu torowego, zwiększenie częstotliwości itd.)?</th>\n      <th>PREFERENCJE DOT. MOBILNOŚCI MIEJSKIEJ_Jak Pan/Pani ocenia wygodę jazdy pojazdami komunikacji zbiorowej?</th>\n      <th>PREFERENCJE DOT. MOBILNOŚCI MIEJSKIEJ_Jak Pan/Pani ocenia czystość taboru komunikacji zbiorowej we Wrocławiu?</th>\n      <th>PREFERENCJE DOT. MOBILNOŚCI MIEJSKIEJ_Jak Pan/Pani ocenia punktualność komunikacji zbiorowej we Wrocławiu?</th>\n      <th>PREFERENCJE DOT. MOBILNOŚCI MIEJSKIEJ_Jak ocenia Pan/Pani efekty dotychczasowych działań związanych z rozbudową systemu rowerowego we Wrocławiu (dróg i parkingów rowerowych)?</th>\n      <th>PREFERENCJE DOT. MOBILNOŚCI MIEJSKIEJ_Jakie elementy stanowią dla Pana/Pani największa uciążliwość w codziennych podróżach pieszych po Wrocławiu (można wskazać maksymalnie 3 odpowiedzi) [niekorzystne ustawienia sygnalizacji świetlnej]</th>\n      <th>PREFERENCJE DOT. MOBILNOŚCI MIEJSKIEJ_Jakie elementy stanowią dla Pana/Pani największa uciążliwość w codziennych podróżach pieszych po Wrocławiu (można wskazać maksymalnie 3 odpowiedzi) [brak chodników i konieczność poruszania się jezdnią/poboczem/wydeptaną ścieżką]</th>\n      <th>PREFERENCJE DOT. MOBILNOŚCI MIEJSKIEJ_Jakie elementy stanowią dla Pana/Pani największa uciążliwość w codziennych podróżach pieszych po Wrocławiu (można wskazać maksymalnie 3 odpowiedzi) [zły stan nawierzchni chodników]</th>\n      <th>PREFERENCJE DOT. MOBILNOŚCI MIEJSKIEJ_Jakie elementy stanowią dla Pana/Pani największa uciążliwość w codziennych podróżach pieszych po Wrocławiu (można wskazać maksymalnie 3 odpowiedzi) [zastawianie chodników przez parkujące samochody]</th>\n      <th>PREFERENCJE DOT. MOBILNOŚCI MIEJSKIEJ_Jakie elementy stanowią dla Pana/Pani największa uciążliwość w codziennych podróżach pieszych po Wrocławiu (można wskazać maksymalnie 3 odpowiedzi) [niebezpieczne zachowania kierowców]</th>\n      <th>PREFERENCJE DOT. MOBILNOŚCI MIEJSKIEJ_Jakie elementy stanowią dla Pana/Pani największa uciążliwość w codziennych podróżach pieszych po Wrocławiu (można wskazać maksymalnie 3 odpowiedzi) [zagrożenie ze strony rowerzystów poruszających się chodnikami]</th>\n      <th>PREFERENCJE DOT. MOBILNOŚCI MIEJSKIEJ_Jakie elementy stanowią dla Pana/Pani największa uciążliwość w codziennych podróżach pieszych po Wrocławiu (można wskazać maksymalnie 3 odpowiedzi) [zbyt wysokie krawężniki]</th>\n      <th>PREFERENCJE DOT. MOBILNOŚCI MIEJSKIEJ_Jakie elementy stanowią dla Pana/Pani największa uciążliwość w codziennych podróżach pieszych po Wrocławiu (można wskazać maksymalnie 3 odpowiedzi) [brak bieżącego utrzymania czystości/odśnieżania]</th>\n      <th>PREFERENCJE DOT. MOBILNOŚCI MIEJSKIEJ_Jakie elementy stanowią dla Pana/Pani największa uciążliwość w codziennych podróżach pieszych po Wrocławiu (można wskazać maksymalnie 3 odpowiedzi) [niewystarczająca liczba przejść dla pieszych]</th>\n      <th>PREFERENCJE DOT. MOBILNOŚCI MIEJSKIEJ_Jakie elementy stanowią dla Pana/Pani największa uciążliwość w codziennych podróżach pieszych po Wrocławiu (można wskazać maksymalnie 3 odpowiedzi) [brak miejsc wypoczynku na trasie dojścia (np. ławki, zieleń)]</th>\n      <th>PREFERENCJE DOT. MOBILNOŚCI MIEJSKIEJ_Jakie elementy stanowią dla Pana/Pani największa uciążliwość w codziennych podróżach pieszych po Wrocławiu (można wskazać maksymalnie 3 odpowiedzi) [uciążliwy ruch kołowy]</th>\n      <th>PREFERENCJE DOT. MOBILNOŚCI MIEJSKIEJ_Jakie elementy stanowią dla Pana/Pani największa uciążliwość w codziennych podróżach pieszych po Wrocławiu (można wskazać maksymalnie 3 odpowiedzi) [niewłaściwe oświetlenie ciągów pieszych]</th>\n      <th>PREFERENCJE DOT. MOBILNOŚCI MIEJSKIEJ_Jakie elementy stanowią dla Pana/Pani największa uciążliwość w codziennych podróżach pieszych po Wrocławiu (można wskazać maksymalnie 3 odpowiedzi) [nie odczuwam uciążliwości w podróżach pieszych po Wrocławiu]</th>\n      <th>PREFERENCJE DOT. MOBILNOŚCI MIEJSKIEJ_Jakie elementy stanowią dla Pana/Pani największa uciążliwość w codziennych podróżach pieszych po Wrocławiu (można wskazać maksymalnie 3 odpowiedzi) [Inne]</th>\n      <th>DANE O GOSPODARSTWIE DOMOWYM_Liczba osób w gospodarstwie domowym [ogółem]</th>\n      <th>DANE O GOSPODARSTWIE DOMOWYM_Liczba osób w gospodarstwie domowym [powyżej 6 roku życia]</th>\n      <th>DANE O GOSPODARSTWIE DOMOWYM_Liczba środków transportu w gospodarstwie domowym [Samochód prywatny, zarejestrowany na osobę z gosp. domowego]</th>\n      <th>DANE O GOSPODARSTWIE DOMOWYM_Liczba środków transportu w gospodarstwie domowym [Samochód prywatny, nie zarejestrowany na osobę z gosp. domowego [użyczone]]</th>\n      <th>DANE O GOSPODARSTWIE DOMOWYM_Liczba środków transportu w gospodarstwie domowym [Samochód służbowy]</th>\n      <th>DANE O GOSPODARSTWIE DOMOWYM_Liczba środków transportu w gospodarstwie domowym [Rower]</th>\n      <th>DANE O RESPONDENCIE_Przedział wiekowy</th>\n      <th>DANE O RESPONDENCIE_Płeć</th>\n      <th>DANE O RESPONDENCIE_Zajęcie podstawowe</th>\n      <th>DANE O RESPONDENCIE_Zajęcie dodatkowe</th>\n      <th>DANE O RESPONDENCIE_Kondycja fizyczna</th>\n      <th>DANE O RESPONDENCIE_Kondycja fizyczna [Inne]</th>\n      <th>DANE O RESPONDENCIE_Opieka nad innymi osobami</th>\n      <th>DANE O RESPONDENCIE_Posiadanie prawa jazdy kat. B</th>\n      <th>DANE O RESPONDENCIE_Posiadanie biletu okresowego</th>\n      <th>DANE O RESPONDENCIE_Posiadanie ulgi na przejazd komunikacją zbiorową we Wrocławiu</th>\n      <th>DANE O RESPONDENCIE_Czy Pan/Pani odbył/a w dniu wczorajszym co najmniej jedną podróż?</th>\n      <th>DANE O RESPONDENCIE_Jaki był powód nie odbycia podróży?</th>\n      <th>IDENTYFIKACJA OSOBY_Nr. osoby w gosp. dom.</th>\n      <th>IDENTYFIKACJA OSOBY_Nr podróży</th>\n      <th>OPIS PODRÓŻY \"ŹRÓDŁO\"_Godzina rozpoczęcia podróży\\n[gg:mm:ss]</th>\n      <th>OPIS PODRÓŻY \"ŹRÓDŁO\"_Z jakiego miejsca</th>\n      <th>OPIS PODRÓŻY \"ŹRÓDŁO\"_Miejsce rozpoczęcia podróży [Gmina]</th>\n      <th>OPIS PODRÓŻY \"ŹRÓDŁO\"_Miejsce rozpoczęcia podróży \\n[Ulica, tylko poza Wrocławiem]</th>\n      <th>OPIS PODRÓŻY \"ŹRÓDŁO\"_nr</th>\n      <th>OPIS PODRÓŻY \"ŹRÓDŁO\"_Punkt charakterystyczny</th>\n      <th>OPIS PODRÓŻY \"ŹRÓDŁO\"_Nr rejonu</th>\n      <th>OPIS PODRÓŻY \"CEL\"_Mijesce zakończenia podróży [Gmina]</th>\n      <th>OPIS PODRÓŻY \"CEL\"_Mijesce zakończenia podróży\\n[Ulica, tylko poza Wrocławiem]</th>\n      <th>OPIS PODRÓŻY \"CEL\"_nr</th>\n      <th>OPIS PODRÓŻY \"CEL\"_punkt charakterystyczny</th>\n      <th>OPIS PODRÓŻY \"CEL\"_Nr rejonu</th>\n      <th>OPIS PODRÓŻY \"CEL\"_Do jakiego miejsca</th>\n      <th>OPIS PODRÓŻY \"CEL\"_Godzina zakończenia podróży \\n[gg:mm:ss]</th>\n      <th>OPIS PODRÓŻY \"CEL\"_Do jakiego miejsca [Inne]</th>\n      <th>PRZEMIESZCZENIE 1_Godzina rozpoczęcia jazdy/dojścia (gg:mm:ss)</th>\n      <th>PRZEMIESZCZENIE 1_Wykorzystany środek transportu w ramach wykonywanej podróży</th>\n      <th>PRZEMIESZCZENIE 1_Wykorzystany środek transportu w ramach wykonywanej podróży [Inne]</th>\n      <th>PRZEMIESZCZENIE 1_Liczba osób</th>\n      <th>PRZEMIESZCZENIE 1_Numer linii autobusowej (dotyczy komunikacji zbiorowej we Wrocławiu)</th>\n      <th>PRZEMIESZCZENIE 1_Przyczyna dla [P] Przemieszczenie piesze</th>\n      <th>PRZEMIESZCZENIE 1_Przyczyna dla [P] Przemieszczenie piesze [Inne]</th>\n      <th>PRZEMIESZCZENIE 1_Przyczyna dla [R] Przemieszczenie rowerem</th>\n      <th>PRZEMIESZCZENIE 1_Przyczyna dla [R] Przemieszczenie rowerem [Inne]</th>\n      <th>PRZEMIESZCZENIE 1_Przyczyna dla [SOK, SOP, M] Samochód, motor</th>\n      <th>PRZEMIESZCZENIE 1_Przyczyna dla [SOK, SOP, M] Samochód, motor  [Inne]</th>\n      <th>PRZEMIESZCZENIE 1_Przyczyna dla [KW, KZ , T,  PO] Komunikacja zbiorowa</th>\n      <th>PRZEMIESZCZENIE 1_Przyczyna dla [KW, KZ , T,  PO] Komunikacja zbiorowa  [Inne]</th>\n      <th>PRZEMIESZCZENIE 1_Przyczyna dla [E]: Wypożyczalnia pojazdów elektrycznych</th>\n      <th>PRZEMIESZCZENIE 1_Przyczyna dla [E]: Wypożyczalnia pojazdów elektrycznych   [Inne]</th>\n      <th>PRZEMIESZCZENIE 1_Przyczyna dla [C]: Carpooling</th>\n      <th>PRZEMIESZCZENIE 1_Przyczyna dla [C]: Carpooling [Inne]</th>\n      <th>PRZEMIESZCZENIE 1_Przyczyna dla [P] Przemieszczenie piesze.1</th>\n      <th>PRZEMIESZCZENIE 1_Przyczyna dla [P] Przemieszczenie piesze [Inne].1</th>\n      <th>PRZEMIESZCZENIE 1_Przyczyna dla [R] Przemieszczenie rowerem.1</th>\n      <th>PRZEMIESZCZENIE 1_Przyczyna dla [R] Przemieszczenie rowerem [Inne].1</th>\n      <th>PRZEMIESZCZENIE 1_Przyczyna dla [SOK, SOP, M] Samochód, motor .1</th>\n      <th>PRZEMIESZCZENIE 1_Przyczyna dla [SOK, SOP, M] Samochód, motor  [Inne].1</th>\n      <th>PRZEMIESZCZENIE 1_Przyczyna dla [KW, KZ , T,  PO] Komunikacja zbiorowa .1</th>\n      <th>PRZEMIESZCZENIE 1_Przyczyna dla [KW, KZ , T,  PO] Komunikacja zbiorowa  [Inne].1</th>\n      <th>PRZEMIESZCZENIE 1_Przyczyna dla [E]: Wypożyczalnia pojazdów elektrycznych  .1</th>\n      <th>PRZEMIESZCZENIE 1_Przyczyna dla [E]: Wypożyczalnia pojazdów elektrycznych   [Inne].1</th>\n      <th>PRZEMIESZCZENIE 1_Przyczyna dla [C]: Carpooling.1</th>\n      <th>PRZEMIESZCZENIE 1_Przyczyna dla [C]: Carpooling [Inne].1</th>\n      <th>PRZEMIESZCZENIE 1_Godzina zakończenia jazdy/dojścia (gg:mm:ss)</th>\n      <th>PRZEMIESZCZENIE 2_Dodać następną jazdę/dojście?</th>\n      <th>PRZEMIESZCZENIE 2_Godzina rozpoczęcia jazdy/dojścia (gg:mm)</th>\n      <th>PRZEMIESZCZENIE 2_Wykorzystany środek transportu w ramach wykonywanej podróży</th>\n      <th>PRZEMIESZCZENIE 2_Wykorzystany środek transportu w ramach wykonywanej podróży [Inne]</th>\n      <th>PRZEMIESZCZENIE 2_Liczba osób</th>\n      <th>PRZEMIESZCZENIE 2_Numer linii autobusowej (dotyczy komunikacji zbiorowej we Wrocławiu)</th>\n      <th>PRZEMIESZCZENIE 2_Przyczyna dla [P] Przemieszczenie piesze</th>\n      <th>PRZEMIESZCZENIE 2_Przyczyna dla [P] Przemieszczenie piesze [Inne]</th>\n      <th>PRZEMIESZCZENIE 2_Przyczyna dla [R] Przemieszczenie rowerem</th>\n      <th>PRZEMIESZCZENIE 2_Przyczyna dla [R] Przemieszczenie rowerem [Inne]</th>\n      <th>PRZEMIESZCZENIE 2_Przyczyna dla [SOK, SOP, M] Samochód, motor</th>\n      <th>PRZEMIESZCZENIE 2_Przyczyna dla [SOK, SOP, M] Samochód, motor  [Inne]</th>\n      <th>PRZEMIESZCZENIE 2_Przyczyna dla [KW, KZ , T,  PO] Komunikacja zbiorowa</th>\n      <th>PRZEMIESZCZENIE 2_Przyczyna dla [KW, KZ , T,  PO] Komunikacja zbiorowa  [Inne]</th>\n      <th>PRZEMIESZCZENIE 2_Przyczyna dla [E]: Wypożyczalnia pojazdów elektrycznych</th>\n      <th>PRZEMIESZCZENIE 2_Przyczyna dla [E]: Wypożyczalnia pojazdów elektrycznych   [Inne]</th>\n      <th>PRZEMIESZCZENIE 2_Przyczyna dla [C]: Carpooling</th>\n      <th>PRZEMIESZCZENIE 2_Przyczyna dla [C]: Carpooling [Inne]</th>\n      <th>PRZEMIESZCZENIE 2_Przyczyna dla [P] Przemieszczenie piesze.1</th>\n      <th>PRZEMIESZCZENIE 2_Przyczyna dla [P] Przemieszczenie piesze [Inne].1</th>\n      <th>PRZEMIESZCZENIE 2_Przyczyna dla [R] Przemieszczenie rowerem.1</th>\n      <th>PRZEMIESZCZENIE 2_Przyczyna dla [R] Przemieszczenie rowerem [Inne].1</th>\n      <th>PRZEMIESZCZENIE 2_Przyczyna dla [SOK, SOP, M] Samochód, motor .1</th>\n      <th>PRZEMIESZCZENIE 2_Przyczyna dla [SOK, SOP, M] Samochód, motor  [Inne].1</th>\n      <th>PRZEMIESZCZENIE 2_Przyczyna dla [KW, KZ , T,  PO] Komunikacja zbiorowa .1</th>\n      <th>PRZEMIESZCZENIE 2_Przyczyna dla [KW, KZ , T,  PO] Komunikacja zbiorowa  [Inne].1</th>\n      <th>PRZEMIESZCZENIE 2_Przyczyna dla [E]: Wypożyczalnia pojazdów elektrycznych  .1</th>\n      <th>PRZEMIESZCZENIE 2_Przyczyna dla [E]: Wypożyczalnia pojazdów elektrycznych   [Inne].1</th>\n      <th>PRZEMIESZCZENIE 2_Przyczyna dla [C]: Carpooling.1</th>\n      <th>PRZEMIESZCZENIE 2_Przyczyna dla [C]: Carpooling [Inne].1</th>\n      <th>PRZEMIESZCZENIE 2_Godzina zakończenia jazdy/dojścia (gg:mm:ss)</th>\n      <th>PRZEMIESZCZENIE 3_Dodać następną jazdę/dojście?</th>\n      <th>PRZEMIESZCZENIE 3_Godzina rozpoczęcia jazdy/dojścia (gg:mm)</th>\n      <th>PRZEMIESZCZENIE 3_Wykorzystany środek transportu w ramach wykonywanej podróży</th>\n      <th>PRZEMIESZCZENIE 3_Wykorzystany środek transportu w ramach wykonywanej podróży [Inne]</th>\n      <th>PRZEMIESZCZENIE 3_Liczba osób</th>\n      <th>PRZEMIESZCZENIE 3_Numer linii autobusowej (dotyczy komunikacji zbiorowej we Wrocławiu)</th>\n      <th>PRZEMIESZCZENIE 3_Przyczyna dla [P] Przemieszczenie piesze</th>\n      <th>PRZEMIESZCZENIE 3_Przyczyna dla [P] Przemieszczenie piesze [Inne]</th>\n      <th>PRZEMIESZCZENIE 3_Przyczyna dla [R] Przemieszczenie rowerem</th>\n      <th>PRZEMIESZCZENIE 3_Przyczyna dla [R] Przemieszczenie rowerem [Inne]</th>\n      <th>PRZEMIESZCZENIE 3_Przyczyna dla [SOK, SOP, M] Samochód, motor</th>\n      <th>PRZEMIESZCZENIE 3_Przyczyna dla [SOK, SOP, M] Samochód, motor  [Inne]</th>\n      <th>PRZEMIESZCZENIE 3_Przyczyna dla [KW, KZ , T,  PO] Komunikacja zbiorowa</th>\n      <th>PRZEMIESZCZENIE 3_Przyczyna dla [KW, KZ , T,  PO] Komunikacja zbiorowa  [Inne]</th>\n      <th>PRZEMIESZCZENIE 3_Przyczyna dla [E]: Wypożyczalnia pojazdów elektrycznych</th>\n      <th>PRZEMIESZCZENIE 3_Przyczyna dla [E]: Wypożyczalnia pojazdów elektrycznych   [Inne]</th>\n      <th>PRZEMIESZCZENIE 3_Przyczyna dla [C]: Carpooling</th>\n      <th>PRZEMIESZCZENIE 3_Przyczyna dla [C]: Carpooling [Inne]</th>\n      <th>PRZEMIESZCZENIE 3_Przyczyna dla [P] Przemieszczenie piesze.1</th>\n      <th>PRZEMIESZCZENIE 3_Przyczyna dla [P] Przemieszczenie piesze [Inne].1</th>\n      <th>PRZEMIESZCZENIE 3_Przyczyna dla [R] Przemieszczenie rowerem.1</th>\n      <th>PRZEMIESZCZENIE 3_Przyczyna dla [R] Przemieszczenie rowerem [Inne].1</th>\n      <th>PRZEMIESZCZENIE 3_Przyczyna dla [SOK, SOP, M] Samochód, motor .1</th>\n      <th>PRZEMIESZCZENIE 3_Przyczyna dla [SOK, SOP, M] Samochód, motor  [Inne].1</th>\n      <th>PRZEMIESZCZENIE 3_Przyczyna dla [KW, KZ , T,  PO] Komunikacja zbiorowa .1</th>\n      <th>PRZEMIESZCZENIE 3_Przyczyna dla [KW, KZ , T,  PO] Komunikacja zbiorowa  [Inne].1</th>\n      <th>PRZEMIESZCZENIE 3_Przyczyna dla [E]: Wypożyczalnia pojazdów elektrycznych  .1</th>\n      <th>PRZEMIESZCZENIE 3_Przyczyna dla [E]: Wypożyczalnia pojazdów elektrycznych   [Inne].1</th>\n      <th>PRZEMIESZCZENIE 3_Przyczyna dla [C]: Carpooling.1</th>\n      <th>PRZEMIESZCZENIE 3_Przyczyna dla [C]: Carpooling [Inne].1</th>\n      <th>PRZEMIESZCZENIE 3_Godzina zakończenia jazdy/dojścia (gg:mm:ss)</th>\n      <th>PRZEMIESZCZENIE 4_Dodać następną jazdę/dojście?</th>\n      <th>PRZEMIESZCZENIE 4_Godzina rozpoczęcia jazdy/dojścia (gg:mm)</th>\n      <th>PRZEMIESZCZENIE 4_Wykorzystany środek transportu w ramach wykonywanej podróży</th>\n      <th>PRZEMIESZCZENIE 4_Wykorzystany środek transportu w ramach wykonywanej podróży [Inne]</th>\n      <th>PRZEMIESZCZENIE 4_Liczba osób</th>\n      <th>PRZEMIESZCZENIE 4_Numer linii autobusowej (dotyczy komunikacji zbiorowej we Wrocławiu)</th>\n      <th>PRZEMIESZCZENIE 4_Przyczyna dla [P] Przemieszczenie piesze</th>\n      <th>PRZEMIESZCZENIE 4_Przyczyna dla [P] Przemieszczenie piesze [Inne]</th>\n      <th>PRZEMIESZCZENIE 4_Przyczyna dla [R] Przemieszczenie rowerem</th>\n      <th>PRZEMIESZCZENIE 4_Przyczyna dla [R] Przemieszczenie rowerem [Inne]</th>\n      <th>PRZEMIESZCZENIE 4_Przyczyna dla [SOK, SOP, M] Samochód, motor</th>\n      <th>PRZEMIESZCZENIE 4_Przyczyna dla [SOK, SOP, M] Samochód, motor  [Inne]</th>\n      <th>PRZEMIESZCZENIE 4_Przyczyna dla [KW, KZ , T,  PO] Komunikacja zbiorowa</th>\n      <th>PRZEMIESZCZENIE 4_Przyczyna dla [KW, KZ , T,  PO] Komunikacja zbiorowa  [Inne]</th>\n      <th>PRZEMIESZCZENIE 4_Przyczyna dla [E]: Wypożyczalnia pojazdów elektrycznych</th>\n      <th>PRZEMIESZCZENIE 4_Przyczyna dla [E]: Wypożyczalnia pojazdów elektrycznych   [Inne]</th>\n      <th>PRZEMIESZCZENIE 4_Przyczyna dla [C]: Carpooling</th>\n      <th>PRZEMIESZCZENIE 4_Przyczyna dla [C]: Carpooling [Inne]</th>\n      <th>PRZEMIESZCZENIE 4_Przyczyna dla [P] Przemieszczenie piesze.1</th>\n      <th>PRZEMIESZCZENIE 4_Przyczyna dla [P] Przemieszczenie piesze [Inne].1</th>\n      <th>PRZEMIESZCZENIE 4_Przyczyna dla [R] Przemieszczenie rowerem.1</th>\n      <th>PRZEMIESZCZENIE 4_Przyczyna dla [R] Przemieszczenie rowerem [Inne].1</th>\n      <th>PRZEMIESZCZENIE 4_Przyczyna dla [SOK, SOP, M] Samochód, motor .1</th>\n      <th>PRZEMIESZCZENIE 4_Przyczyna dla [SOK, SOP, M] Samochód, motor  [Inne].1</th>\n      <th>PRZEMIESZCZENIE 4_Przyczyna dla [KW, KZ , T,  PO] Komunikacja zbiorowa .1</th>\n      <th>PRZEMIESZCZENIE 4_Przyczyna dla [KW, KZ , T,  PO] Komunikacja zbiorowa  [Inne].1</th>\n      <th>PRZEMIESZCZENIE 4_Przyczyna dla [E]: Wypożyczalnia pojazdów elektrycznych  .1</th>\n      <th>PRZEMIESZCZENIE 4_Przyczyna dla [E]: Wypożyczalnia pojazdów elektrycznych   [Inne].1</th>\n      <th>PRZEMIESZCZENIE 4_Przyczyna dla [C]: Carpooling.1</th>\n      <th>PRZEMIESZCZENIE 4_Przyczyna dla [C]: Carpooling [Inne].1</th>\n      <th>PRZEMIESZCZENIE 4_Godzina zakończenia jazdy/dojścia (gg:mm:ss)</th>\n      <th>PRZEMIESZCZENIE 5_Dodać następną jazdę/dojście?</th>\n      <th>PRZEMIESZCZENIE 5_Godzina rozpoczęcia jazdy/dojścia (gg:mm)</th>\n      <th>PRZEMIESZCZENIE 5_Wykorzystany środek transportu w ramach wykonywanej podróży</th>\n      <th>PRZEMIESZCZENIE 5_Wykorzystany środek transportu w ramach wykonywanej podróży [Inne]</th>\n      <th>PRZEMIESZCZENIE 5_Liczba osób</th>\n      <th>PRZEMIESZCZENIE 5_Numer linii autobusowej (dotyczy komunikacji zbiorowej we Wrocławiu)</th>\n      <th>PRZEMIESZCZENIE 5_Przyczyna dla [P] Przemieszczenie piesze</th>\n      <th>PRZEMIESZCZENIE 5_Przyczyna dla [P] Przemieszczenie piesze [Inne]</th>\n      <th>PRZEMIESZCZENIE 5_Przyczyna dla [R] Przemieszczenie rowerem</th>\n      <th>PRZEMIESZCZENIE 5_Przyczyna dla [R] Przemieszczenie rowerem [Inne]</th>\n      <th>PRZEMIESZCZENIE 5_Przyczyna dla [SOK, SOP, M] Samochód, motor</th>\n      <th>PRZEMIESZCZENIE 5_Przyczyna dla [SOK, SOP, M] Samochód, motor  [Inne]</th>\n      <th>PRZEMIESZCZENIE 5_Przyczyna dla [KW, KZ , T,  PO] Komunikacja zbiorowa</th>\n      <th>PRZEMIESZCZENIE 5_Przyczyna dla [KW, KZ , T,  PO] Komunikacja zbiorowa  [Inne]</th>\n      <th>PRZEMIESZCZENIE 5_Przyczyna dla [E]: Wypożyczalnia pojazdów elektrycznych</th>\n      <th>PRZEMIESZCZENIE 5_Przyczyna dla [E]: Wypożyczalnia pojazdów elektrycznych   [Inne]</th>\n      <th>PRZEMIESZCZENIE 5_Przyczyna dla [C]: Carpooling</th>\n      <th>PRZEMIESZCZENIE 5_Przyczyna dla [C]: Carpooling [Inne]</th>\n      <th>PRZEMIESZCZENIE 5_Przyczyna dla [P] Przemieszczenie piesze.1</th>\n      <th>PRZEMIESZCZENIE 5_Przyczyna dla [P] Przemieszczenie piesze [Inne].1</th>\n      <th>PRZEMIESZCZENIE 5_Przyczyna dla [R] Przemieszczenie rowerem.1</th>\n      <th>PRZEMIESZCZENIE 5_Przyczyna dla [R] Przemieszczenie rowerem [Inne].1</th>\n      <th>PRZEMIESZCZENIE 5_Przyczyna dla [SOK, SOP, M] Samochód, motor .1</th>\n      <th>PRZEMIESZCZENIE 5_Przyczyna dla [SOK, SOP, M] Samochód, motor  [Inne].1</th>\n      <th>PRZEMIESZCZENIE 5_Przyczyna dla [KW, KZ , T,  PO] Komunikacja zbiorowa .1</th>\n      <th>PRZEMIESZCZENIE 5_Przyczyna dla [KW, KZ , T,  PO] Komunikacja zbiorowa  [Inne].1</th>\n      <th>PRZEMIESZCZENIE 5_Przyczyna dla [E]: Wypożyczalnia pojazdów elektrycznych  .1</th>\n      <th>PRZEMIESZCZENIE 5_Przyczyna dla [E]: Wypożyczalnia pojazdów elektrycznych   [Inne].1</th>\n      <th>PRZEMIESZCZENIE 5_Przyczyna dla [C]: Carpooling.1</th>\n      <th>PRZEMIESZCZENIE 5_Przyczyna dla [C]: Carpooling [Inne].1</th>\n      <th>PRZEMIESZCZENIE 5_Godzina zakończenia jazdy/dojścia (gg:mm:ss)</th>\n      <th>PRZEMIESZCZENIE 6_Dodać następną jazdę/dojście?</th>\n      <th>PRZEMIESZCZENIE 6_Godzina rozpoczęcia jazdy/dojścia (gg:mm:ss)</th>\n      <th>PRZEMIESZCZENIE 6_Wykorzystany środek transportu w ramach wykonywanej podróży</th>\n      <th>PRZEMIESZCZENIE 6_Wykorzystany środek transportu w ramach wykonywanej podróży [Inne]</th>\n      <th>PRZEMIESZCZENIE 6_Liczba osób</th>\n      <th>PRZEMIESZCZENIE 6_Numer linii autobusowej (dotyczy komunikacji zbiorowej we Wrocławiu)</th>\n      <th>PRZEMIESZCZENIE 6_Przyczyna dla [P] Przemieszczenie piesze</th>\n      <th>PRZEMIESZCZENIE 6_Przyczyna dla [P] Przemieszczenie piesze [Inne]</th>\n      <th>PRZEMIESZCZENIE 6_Przyczyna dla [R] Przemieszczenie rowerem</th>\n      <th>PRZEMIESZCZENIE 6_Przyczyna dla [R] Przemieszczenie rowerem [Inne]</th>\n      <th>PRZEMIESZCZENIE 6_Przyczyna dla [SOK, SOP, M] Samochód, motor</th>\n      <th>PRZEMIESZCZENIE 6_Przyczyna dla [SOK, SOP, M] Samochód, motor  [Inne]</th>\n      <th>PRZEMIESZCZENIE 6_Przyczyna dla [KW, KZ , T,  PO] Komunikacja zbiorowa</th>\n      <th>PRZEMIESZCZENIE 6_Przyczyna dla [KW, KZ , T,  PO] Komunikacja zbiorowa  [Inne]</th>\n      <th>PRZEMIESZCZENIE 6_Przyczyna dla [E]: Wypożyczalnia pojazdów elektrycznych</th>\n      <th>PRZEMIESZCZENIE 6_Przyczyna dla [E]: Wypożyczalnia pojazdów elektrycznych   [Inne]</th>\n      <th>PRZEMIESZCZENIE 6_Przyczyna dla [C]: Carpooling</th>\n      <th>PRZEMIESZCZENIE 6_Przyczyna dla [C]: Carpooling [Inne]</th>\n      <th>PRZEMIESZCZENIE 6_Przyczyna dla [P] Przemieszczenie piesze.1</th>\n      <th>PRZEMIESZCZENIE 6_Przyczyna dla [P] Przemieszczenie piesze [Inne].1</th>\n      <th>PRZEMIESZCZENIE 6_Przyczyna dla [R] Przemieszczenie rowerem.1</th>\n      <th>PRZEMIESZCZENIE 6_Przyczyna dla [R] Przemieszczenie rowerem [Inne].1</th>\n      <th>PRZEMIESZCZENIE 6_Przyczyna dla [SOK, SOP, M] Samochód, motor .1</th>\n      <th>PRZEMIESZCZENIE 6_Przyczyna dla [SOK, SOP, M] Samochód, motor  [Inne].1</th>\n      <th>PRZEMIESZCZENIE 6_Przyczyna dla [KW, KZ , T,  PO] Komunikacja zbiorowa .1</th>\n      <th>PRZEMIESZCZENIE 6_Przyczyna dla [KW, KZ , T,  PO] Komunikacja zbiorowa  [Inne].1</th>\n      <th>PRZEMIESZCZENIE 6_Przyczyna dla [E]: Wypożyczalnia pojazdów elektrycznych  .1</th>\n      <th>PRZEMIESZCZENIE 6_Przyczyna dla [E]: Wypożyczalnia pojazdów elektrycznych   [Inne].1</th>\n      <th>PRZEMIESZCZENIE 6_Przyczyna dla [C]: Carpooling.1</th>\n      <th>PRZEMIESZCZENIE 6_Przyczyna dla [C]: Carpooling [Inne].1</th>\n      <th>PRZEMIESZCZENIE 6_Godzina zakończenia jazdy/dojścia (gg:mm:ss)</th>\n      <th>DANE DO STATYSTYK_Liczba przemieszczeń</th>\n      <th>DANE DO STATYSTYK_środek transportu</th>\n      <th>DANE DO STATYSTYK_typ podróży</th>\n      <th>DANE DO STATYSTYK_czas trwania podróży</th>\n      <th>23:59:00_środek transportu podgrupa</th>\n      <th>23:59:00_środek transportu grupa</th>\n      <th>23:59:00_pora dnia</th>\n      <th>23:59:00_motywacje</th>\n      <th>23:59:00_motywacje grupy</th>\n      <th>23:59:00_ŚT_pom</th>\n      <th>Przemieszczenie 1_rodzaj autobusu</th>\n      <th>Przemieszczenie 2_rodzaj autobusu</th>\n      <th>Przemieszczenie 3_rodzaj autobusu</th>\n      <th>Przemieszczenie 4_rodzaj autobusu</th>\n      <th>Przemieszczenie 5_rodzaj autobusu</th>\n      <th>Przemieszczenie 5_liczba przesiadek</th>\n      <th>Przemieszczenie 5_przemieszczenie 1\\npiesze [1]/niepiesze[0]</th>\n      <th>Przemieszczenie 5_przemieszczenie 2\\npiesze [1]/niepiesze[0]</th>\n      <th>Przemieszczenie 5_przemieszczenie 3\\npiesze [1]/niepiesze[0]</th>\n      <th>Przemieszczenie 5_przemieszczenie 4\\npiesze [1]/niepiesze[0]</th>\n      <th>Przemieszczenie 5_przemieszczenie 5\\npiesze [1]/niepiesze[0]</th>\n      <th>Przemieszczenie 5_przemieszczenie 6\\npiesze [1]/niepiesze[0]</th>\n      <th>Przemieszczenie 5_liczba przesiadek.1</th>\n      <th>Przemieszczenie 5_przemieszczenie 1\\nKomunikacja zbiorowa [KZ]</th>\n      <th>Przemieszczenie 5_przemieszczenie 2\\nKomunikacja zbiorowa [KZ]</th>\n      <th>Przemieszczenie 5_przemieszczenie 3\\nKomunikacja zbiorowa [KZ]</th>\n      <th>Przemieszczenie 5_przemieszczenie 4\\nKomunikacja zbiorowa [KZ]</th>\n      <th>Przemieszczenie 5_przemieszczenie 5\\nKomunikacja zbiorowa [KZ]</th>\n      <th>Przemieszczenie 5_przemieszczenie 6\\nKomunikacja zbiorowa [KZ]</th>\n      <th>Przemieszczenie 5_Czy w przemieszczeniu wystąpiło przemieszczenie KZ?</th>\n      <th>Przemieszczenie 5_Liczba przesiadek\\n[komunikacja zbiorowa]</th>\n      <th>Przemieszczenie 1_czas dojścia</th>\n      <th>Przemieszczenie 2_czas dojścia</th>\n      <th>Przemieszczenie 3_czas dojścia</th>\n      <th>Przemieszczenie 4_czas dojścia</th>\n      <th>Przemieszczenie 5_czas dojścia</th>\n      <th>Przemieszczenie 1_czas ogólnie</th>\n      <th>Przemieszczenie 2_czas ogólnie</th>\n      <th>Przemieszczenie 3_czas ogólnie</th>\n      <th>Przemieszczenie 4_czas ogólnie</th>\n      <th>Przemieszczenie 5_czas ogólnie</th>\n      <th>Przemieszczenie 5_c</th>\n      <th>Przemieszczenie 5_00:05:00</th>\n      <th>12290.267442599752_współczynnik korygujący</th>\n      <th>12290.267442599752_Numer rejonu zagregowanego</th>\n      <th>12290.267442599752_a</th>\n      <th>12290.267442599752_b</th>\n      <th>12290.267442599752_średnie napełnienie</th>\n      <th>12290.267442599752_motywacje grupy</th>\n    </tr>\n  </thead>\n  <tbody>\n    <tr>\n      <th>0</th>\n      <td>1.0</td>\n      <td>LOS_67-67-306</td>\n      <td>NaN</td>\n      <td>2018-04-25</td>\n      <td>17:20</td>\n      <td>67.0</td>\n      <td>całkowicie się zgadzam</td>\n      <td>całkowicie się zgadzam</td>\n      <td>całkowicie się zgadzam</td>\n      <td>tramwaj</td>\n      <td>częściej kursuje</td>\n      <td>NaN</td>\n      <td>NaN</td>\n      <td>bardzo dobrze</td>\n      <td>raczej dobrze</td>\n      <td>raczej dobrze</td>\n      <td>bardzo dobrze</td>\n      <td>Nie</td>\n      <td>Nie</td>\n      <td>Nie</td>\n      <td>Nie</td>\n      <td>Nie</td>\n      <td>Tak</td>\n      <td>Tak</td>\n      <td>Nie</td>\n      <td>Nie</td>\n      <td>Nie</td>\n      <td>Tak</td>\n      <td>Nie</td>\n      <td>Nie</td>\n      <td>NaN</td>\n      <td>1.0</td>\n      <td>1.0</td>\n      <td>0.0</td>\n      <td>0.0</td>\n      <td>0.0</td>\n      <td>1.0</td>\n      <td>61 i więcej (emeryci kobiety)</td>\n      <td>Kobieta</td>\n      <td>emeryt</td>\n      <td>pracujący prowadzący działalność poza domem</td>\n      <td>dobry stan zdrowia</td>\n      <td>NaN</td>\n      <td>nie dotyczy</td>\n      <td>Tak</td>\n      <td>Tak</td>\n      <td>0.5</td>\n      <td>Tak</td>\n      <td>NaN</td>\n      <td>1.0</td>\n      <td>1.0</td>\n      <td>09:00:00</td>\n      <td>dom</td>\n      <td>NaN</td>\n      <td>NaN</td>\n      <td>NaN</td>\n      <td>NaN</td>\n      <td>67.0</td>\n      <td>WROCŁAW</td>\n      <td>NaN</td>\n      <td>NaN</td>\n      <td>NaN</td>\n      <td>68.0</td>\n      <td>Inne</td>\n      <td>09:10:00</td>\n      <td>SKLEP</td>\n      <td>09:00</td>\n      <td>sam. osobowy pasażer</td>\n      <td>NaN</td>\n      <td>2.0</td>\n      <td>NaN</td>\n      <td>NaN</td>\n      <td>NaN</td>\n      <td>NaN</td>\n      <td>NaN</td>\n      <td>wygoda korzystania</td>\n      <td>NaN</td>\n      <td>NaN</td>\n      <td>NaN</td>\n      <td>NaN</td>\n      <td>NaN</td>\n      <td>NaN</td>\n      <td>NaN</td>\n      <td>NaN</td>\n      <td>NaN</td>\n      <td>NaN</td>\n      <td>NaN</td>\n      <td>krótki czas dojazdu</td>\n      <td>NaN</td>\n      <td>NaN</td>\n      <td>NaN</td>\n      <td>NaN</td>\n      <td>NaN</td>\n      <td>NaN</td>\n      <td>NaN</td>\n      <td>09:10</td>\n      <td>Nie</td>\n      <td>None</td>\n      <td>NaN</td>\n      <td>NaN</td>\n      <td>NaN</td>\n      <td>NaN</td>\n      <td>NaN</td>\n      <td>NaN</td>\n      <td>NaN</td>\n      <td>NaN</td>\n      <td>NaN</td>\n      <td>NaN</td>\n      <td>NaN</td>\n      <td>NaN</td>\n      <td>NaN</td>\n      <td>NaN</td>\n      <td>NaN</td>\n      <td>NaN</td>\n      <td>NaN</td>\n      <td>NaN</td>\n      <td>NaN</td>\n      <td>NaN</td>\n      <td>NaN</td>\n      <td>NaN</td>\n      <td>NaN</td>\n      <td>NaN</td>\n      <td>NaN</td>\n      <td>NaN</td>\n      <td>NaN</td>\n      <td>NaN</td>\n      <td>None</td>\n      <td>NaN</td>\n      <td>None</td>\n      <td>NaN</td>\n      <td>NaN</td>\n      <td>NaN</td>\n      <td>NaN</td>\n      <td>NaN</td>\n      <td>NaN</td>\n      <td>NaN</td>\n      <td>NaN</td>\n      <td>NaN</td>\n      <td>NaN</td>\n      <td>NaN</td>\n      <td>NaN</td>\n      <td>NaN</td>\n      <td>NaN</td>\n      <td>NaN</td>\n      <td>NaN</td>\n      <td>NaN</td>\n      <td>NaN</td>\n      <td>NaN</td>\n      <td>NaN</td>\n      <td>NaN</td>\n      <td>NaN</td>\n      <td>NaN</td>\n      <td>NaN</td>\n      <td>NaN</td>\n      <td>NaN</td>\n      <td>NaN</td>\n      <td>NaN</td>\n      <td>None</td>\n      <td>NaN</td>\n      <td>None</td>\n      <td>NaN</td>\n      <td>NaN</td>\n      <td>NaN</td>\n      <td>NaN</td>\n      <td>NaN</td>\n      <td>NaN</td>\n      <td>NaN</td>\n      <td>NaN</td>\n      <td>NaN</td>\n      <td>NaN</td>\n      <td>NaN</td>\n      <td>NaN</td>\n      <td>NaN</td>\n      <td>NaN</td>\n      <td>NaN</td>\n      <td>NaN</td>\n      <td>NaN</td>\n      <td>NaN</td>\n      <td>NaN</td>\n      <td>NaN</td>\n      <td>NaN</td>\n      <td>NaN</td>\n      <td>NaN</td>\n      <td>NaN</td>\n      <td>NaN</td>\n      <td>NaN</td>\n      <td>NaN</td>\n      <td>NaN</td>\n      <td>None</td>\n      <td>NaN</td>\n      <td>None</td>\n      <td>NaN</td>\n      <td>NaN</td>\n      <td>NaN</td>\n      <td>NaN</td>\n      <td>NaN</td>\n      <td>NaN</td>\n      <td>NaN</td>\n      <td>NaN</td>\n      <td>NaN</td>\n      <td>NaN</td>\n      <td>NaN</td>\n      <td>NaN</td>\n      <td>NaN</td>\n      <td>NaN</td>\n      <td>NaN</td>\n      <td>NaN</td>\n      <td>NaN</td>\n      <td>NaN</td>\n      <td>NaN</td>\n      <td>NaN</td>\n      <td>NaN</td>\n      <td>NaN</td>\n      <td>NaN</td>\n      <td>NaN</td>\n      <td>NaN</td>\n      <td>NaN</td>\n      <td>NaN</td>\n      <td>NaN</td>\n      <td>None</td>\n      <td>None</td>\n      <td>None</td>\n      <td>None</td>\n      <td>NaN</td>\n      <td>NaN</td>\n      <td>None</td>\n      <td>None</td>\n      <td>NaN</td>\n      <td>NaN</td>\n      <td>NaN</td>\n      <td>NaN</td>\n      <td>NaN</td>\n      <td>None</td>\n      <td>NaN</td>\n      <td>NaN</td>\n      <td>NaN</td>\n      <td>NaN</td>\n      <td>NaN</td>\n      <td>NaN</td>\n      <td>NaN</td>\n      <td>NaN</td>\n      <td>NaN</td>\n      <td>NaN</td>\n      <td>NaN</td>\n      <td>NaN</td>\n      <td>NaN</td>\n      <td>NaN</td>\n      <td>NaN</td>\n      <td>NaN</td>\n      <td>NaN</td>\n      <td>None</td>\n      <td>1.0</td>\n      <td>sam. osobowy pasażer</td>\n      <td>niepiesze</td>\n      <td>00:10:00</td>\n      <td>sam. osobowy pasażer</td>\n      <td>komunikacja samochodowa</td>\n      <td>9:00-9:59</td>\n      <td>dom-Inne</td>\n      <td>dom-Inne</td>\n      <td>NaN</td>\n      <td>NaN</td>\n      <td>NaN</td>\n      <td>NaN</td>\n      <td>NaN</td>\n      <td>NaN</td>\n      <td>0.0</td>\n      <td>1.0</td>\n      <td>NaN</td>\n      <td>NaN</td>\n      <td>NaN</td>\n      <td>NaN</td>\n      <td>NaN</td>\n      <td>0.0</td>\n      <td>nie</td>\n      <td>nie</td>\n      <td>nie</td>\n      <td>nie</td>\n      <td>nie</td>\n      <td>nie</td>\n      <td>nie</td>\n      <td>0.0</td>\n      <td>NaN</td>\n      <td>NaN</td>\n      <td>NaN</td>\n      <td>NaN</td>\n      <td>NaN</td>\n      <td>NaN</td>\n      <td>NaN</td>\n      <td>NaN</td>\n      <td>NaN</td>\n      <td>NaN</td>\n      <td>0.0</td>\n      <td>NaN</td>\n      <td>0.80</td>\n      <td>67</td>\n      <td>komunikacja zbiorowa poza Wrocławiem</td>\n      <td>KZ</td>\n      <td>2.0</td>\n      <td>dom-Inne</td>\n    </tr>\n    <tr>\n      <th>1</th>\n      <td>2.0</td>\n      <td>LOS_67-67-306</td>\n      <td>NaN</td>\n      <td>2018-04-25</td>\n      <td>17:20</td>\n      <td>67.0</td>\n      <td>całkowicie się zgadzam</td>\n      <td>całkowicie się zgadzam</td>\n      <td>całkowicie się zgadzam</td>\n      <td>tramwaj</td>\n      <td>częściej kursuje</td>\n      <td>NaN</td>\n      <td>NaN</td>\n      <td>bardzo dobrze</td>\n      <td>raczej dobrze</td>\n      <td>raczej dobrze</td>\n      <td>bardzo dobrze</td>\n      <td>Nie</td>\n      <td>Nie</td>\n      <td>Nie</td>\n      <td>Nie</td>\n      <td>Nie</td>\n      <td>Tak</td>\n      <td>Tak</td>\n      <td>Nie</td>\n      <td>Nie</td>\n      <td>Nie</td>\n      <td>Tak</td>\n      <td>Nie</td>\n      <td>Nie</td>\n      <td>NaN</td>\n      <td>1.0</td>\n      <td>1.0</td>\n      <td>0.0</td>\n      <td>0.0</td>\n      <td>0.0</td>\n      <td>1.0</td>\n      <td>61 i więcej (emeryci kobiety)</td>\n      <td>Kobieta</td>\n      <td>emeryt</td>\n      <td>pracujący prowadzący działalność poza domem</td>\n      <td>dobry stan zdrowia</td>\n      <td>NaN</td>\n      <td>nie dotyczy</td>\n      <td>Tak</td>\n      <td>Tak</td>\n      <td>0.5</td>\n      <td>Tak</td>\n      <td>NaN</td>\n      <td>1.0</td>\n      <td>2.0</td>\n      <td>09:40:00</td>\n      <td>Inne</td>\n      <td>WROCŁAW</td>\n      <td>NaN</td>\n      <td>NaN</td>\n      <td>NaN</td>\n      <td>68.0</td>\n      <td>NaN</td>\n      <td>NaN</td>\n      <td>NaN</td>\n      <td>NaN</td>\n      <td>67.0</td>\n      <td>dom</td>\n      <td>09:50:00</td>\n      <td>NaN</td>\n      <td>09:40</td>\n      <td>sam. osobowy pasażer</td>\n      <td>NaN</td>\n      <td>2.0</td>\n      <td>NaN</td>\n      <td>NaN</td>\n      <td>NaN</td>\n      <td>NaN</td>\n      <td>NaN</td>\n      <td>wygoda korzystania</td>\n      <td>NaN</td>\n      <td>NaN</td>\n      <td>NaN</td>\n      <td>NaN</td>\n      <td>NaN</td>\n      <td>NaN</td>\n      <td>NaN</td>\n      <td>NaN</td>\n      <td>NaN</td>\n      <td>NaN</td>\n      <td>NaN</td>\n      <td>krótki czas dojazdu</td>\n      <td>NaN</td>\n      <td>NaN</td>\n      <td>NaN</td>\n      <td>NaN</td>\n      <td>NaN</td>\n      <td>NaN</td>\n      <td>NaN</td>\n      <td>09:50</td>\n      <td>Nie</td>\n      <td>None</td>\n      <td>NaN</td>\n      <td>NaN</td>\n      <td>NaN</td>\n      <td>NaN</td>\n      <td>NaN</td>\n      <td>NaN</td>\n      <td>NaN</td>\n      <td>NaN</td>\n      <td>NaN</td>\n      <td>NaN</td>\n      <td>NaN</td>\n      <td>NaN</td>\n      <td>NaN</td>\n      <td>NaN</td>\n      <td>NaN</td>\n      <td>NaN</td>\n      <td>NaN</td>\n      <td>NaN</td>\n      <td>NaN</td>\n      <td>NaN</td>\n      <td>NaN</td>\n      <td>NaN</td>\n      <td>NaN</td>\n      <td>NaN</td>\n      <td>NaN</td>\n      <td>NaN</td>\n      <td>NaN</td>\n      <td>NaN</td>\n      <td>None</td>\n      <td>NaN</td>\n      <td>None</td>\n      <td>NaN</td>\n      <td>NaN</td>\n      <td>NaN</td>\n      <td>NaN</td>\n      <td>NaN</td>\n      <td>NaN</td>\n      <td>NaN</td>\n      <td>NaN</td>\n      <td>NaN</td>\n      <td>NaN</td>\n      <td>NaN</td>\n      <td>NaN</td>\n      <td>NaN</td>\n      <td>NaN</td>\n      <td>NaN</td>\n      <td>NaN</td>\n      <td>NaN</td>\n      <td>NaN</td>\n      <td>NaN</td>\n      <td>NaN</td>\n      <td>NaN</td>\n      <td>NaN</td>\n      <td>NaN</td>\n      <td>NaN</td>\n      <td>NaN</td>\n      <td>NaN</td>\n      <td>NaN</td>\n      <td>NaN</td>\n      <td>None</td>\n      <td>NaN</td>\n      <td>None</td>\n      <td>NaN</td>\n      <td>NaN</td>\n      <td>NaN</td>\n      <td>NaN</td>\n      <td>NaN</td>\n      <td>NaN</td>\n      <td>NaN</td>\n      <td>NaN</td>\n      <td>NaN</td>\n      <td>NaN</td>\n      <td>NaN</td>\n      <td>NaN</td>\n      <td>NaN</td>\n      <td>NaN</td>\n      <td>NaN</td>\n      <td>NaN</td>\n      <td>NaN</td>\n      <td>NaN</td>\n      <td>NaN</td>\n      <td>NaN</td>\n      <td>NaN</td>\n      <td>NaN</td>\n      <td>NaN</td>\n      <td>NaN</td>\n      <td>NaN</td>\n      <td>NaN</td>\n      <td>NaN</td>\n      <td>NaN</td>\n      <td>None</td>\n      <td>NaN</td>\n      <td>None</td>\n      <td>NaN</td>\n      <td>NaN</td>\n      <td>NaN</td>\n      <td>NaN</td>\n      <td>NaN</td>\n      <td>NaN</td>\n      <td>NaN</td>\n      <td>NaN</td>\n      <td>NaN</td>\n      <td>NaN</td>\n      <td>NaN</td>\n      <td>NaN</td>\n      <td>NaN</td>\n      <td>NaN</td>\n      <td>NaN</td>\n      <td>NaN</td>\n      <td>NaN</td>\n      <td>NaN</td>\n      <td>NaN</td>\n      <td>NaN</td>\n      <td>NaN</td>\n      <td>NaN</td>\n      <td>NaN</td>\n      <td>NaN</td>\n      <td>NaN</td>\n      <td>NaN</td>\n      <td>NaN</td>\n      <td>NaN</td>\n      <td>None</td>\n      <td>None</td>\n      <td>None</td>\n      <td>None</td>\n      <td>NaN</td>\n      <td>NaN</td>\n      <td>None</td>\n      <td>None</td>\n      <td>NaN</td>\n      <td>NaN</td>\n      <td>NaN</td>\n      <td>NaN</td>\n      <td>NaN</td>\n      <td>None</td>\n      <td>NaN</td>\n      <td>NaN</td>\n      <td>NaN</td>\n      <td>NaN</td>\n      <td>NaN</td>\n      <td>NaN</td>\n      <td>NaN</td>\n      <td>NaN</td>\n      <td>NaN</td>\n      <td>NaN</td>\n      <td>NaN</td>\n      <td>NaN</td>\n      <td>NaN</td>\n      <td>NaN</td>\n      <td>NaN</td>\n      <td>NaN</td>\n      <td>NaN</td>\n      <td>None</td>\n      <td>1.0</td>\n      <td>sam. osobowy pasażer</td>\n      <td>niepiesze</td>\n      <td>00:10:00</td>\n      <td>sam. osobowy pasażer</td>\n      <td>komunikacja samochodowa</td>\n      <td>9:00-9:59</td>\n      <td>Inne-dom</td>\n      <td>Inne-dom</td>\n      <td>NaN</td>\n      <td>NaN</td>\n      <td>NaN</td>\n      <td>NaN</td>\n      <td>NaN</td>\n      <td>NaN</td>\n      <td>0.0</td>\n      <td>1.0</td>\n      <td>NaN</td>\n      <td>NaN</td>\n      <td>NaN</td>\n      <td>NaN</td>\n      <td>NaN</td>\n      <td>0.0</td>\n      <td>nie</td>\n      <td>nie</td>\n      <td>nie</td>\n      <td>nie</td>\n      <td>nie</td>\n      <td>nie</td>\n      <td>nie</td>\n      <td>0.0</td>\n      <td>NaN</td>\n      <td>NaN</td>\n      <td>NaN</td>\n      <td>NaN</td>\n      <td>NaN</td>\n      <td>NaN</td>\n      <td>NaN</td>\n      <td>NaN</td>\n      <td>NaN</td>\n      <td>NaN</td>\n      <td>1.0</td>\n      <td>NaN</td>\n      <td>0.80</td>\n      <td>67</td>\n      <td>komunikacja zbiorowa we Wrocławiu</td>\n      <td>KZ</td>\n      <td>2.0</td>\n      <td>Inne-dom</td>\n    </tr>\n    <tr>\n      <th>2</th>\n      <td>3.0</td>\n      <td>LOS_67-67-109</td>\n      <td>NaN</td>\n      <td>2018-04-26</td>\n      <td>17:05</td>\n      <td>67.0</td>\n      <td>raczej się zgadzam</td>\n      <td>całkowicie się zgadzam</td>\n      <td>całkowicie się zgadzam</td>\n      <td>tramwaj</td>\n      <td>mam bliżej przystanek tramwajowy</td>\n      <td>NaN</td>\n      <td>NaN</td>\n      <td>bardzo dobrze</td>\n      <td>bardzo dobrze</td>\n      <td>raczej dobrze</td>\n      <td>raczej dobrze</td>\n      <td>Nie</td>\n      <td>Nie</td>\n      <td>Nie</td>\n      <td>Tak</td>\n      <td>Nie</td>\n      <td>Nie</td>\n      <td>Nie</td>\n      <td>Nie</td>\n      <td>Tak</td>\n      <td>Nie</td>\n      <td>Nie</td>\n      <td>Nie</td>\n      <td>Nie</td>\n      <td>NaN</td>\n      <td>2.0</td>\n      <td>2.0</td>\n      <td>0.0</td>\n      <td>1.0</td>\n      <td>0.0</td>\n      <td>1.0</td>\n      <td>20-24 (wiek studencki)</td>\n      <td>Kobieta</td>\n      <td>student</td>\n      <td>brak zajęcia dodatkowego</td>\n      <td>dobry stan zdrowia</td>\n      <td>NaN</td>\n      <td>nie dotyczy</td>\n      <td>Tak</td>\n      <td>Tak</td>\n      <td>0.5</td>\n      <td>Nie</td>\n      <td>brak potrzeby</td>\n      <td>NaN</td>\n      <td>NaN</td>\n      <td>NaN</td>\n      <td>NaN</td>\n      <td>NaN</td>\n      <td>NaN</td>\n      <td>NaN</td>\n      <td>NaN</td>\n      <td>NaN</td>\n      <td>NaN</td>\n      <td>NaN</td>\n      <td>NaN</td>\n      <td>NaN</td>\n      <td>NaN</td>\n      <td>NaN</td>\n      <td>NaN</td>\n      <td>NaN</td>\n      <td>None</td>\n      <td>NaN</td>\n      <td>NaN</td>\n      <td>NaN</td>\n      <td>NaN</td>\n      <td>NaN</td>\n      <td>NaN</td>\n      <td>NaN</td>\n      <td>NaN</td>\n      <td>NaN</td>\n      <td>NaN</td>\n      <td>NaN</td>\n      <td>NaN</td>\n      <td>NaN</td>\n      <td>NaN</td>\n      <td>NaN</td>\n      <td>NaN</td>\n      <td>NaN</td>\n      <td>NaN</td>\n      <td>NaN</td>\n      <td>NaN</td>\n      <td>NaN</td>\n      <td>NaN</td>\n      <td>NaN</td>\n      <td>NaN</td>\n      <td>NaN</td>\n      <td>NaN</td>\n      <td>NaN</td>\n      <td>NaN</td>\n      <td>None</td>\n      <td>NaN</td>\n      <td>None</td>\n      <td>NaN</td>\n      <td>NaN</td>\n      <td>NaN</td>\n      <td>NaN</td>\n      <td>NaN</td>\n      <td>NaN</td>\n      <td>NaN</td>\n      <td>NaN</td>\n      <td>NaN</td>\n      <td>NaN</td>\n      <td>NaN</td>\n      <td>NaN</td>\n      <td>NaN</td>\n      <td>NaN</td>\n      <td>NaN</td>\n      <td>NaN</td>\n      <td>NaN</td>\n      <td>NaN</td>\n      <td>NaN</td>\n      <td>NaN</td>\n      <td>NaN</td>\n      <td>NaN</td>\n      <td>NaN</td>\n      <td>NaN</td>\n      <td>NaN</td>\n      <td>NaN</td>\n      <td>NaN</td>\n      <td>NaN</td>\n      <td>None</td>\n      <td>NaN</td>\n      <td>None</td>\n      <td>NaN</td>\n      <td>NaN</td>\n      <td>NaN</td>\n      <td>NaN</td>\n      <td>NaN</td>\n      <td>NaN</td>\n      <td>NaN</td>\n      <td>NaN</td>\n      <td>NaN</td>\n      <td>NaN</td>\n      <td>NaN</td>\n      <td>NaN</td>\n      <td>NaN</td>\n      <td>NaN</td>\n      <td>NaN</td>\n      <td>NaN</td>\n      <td>NaN</td>\n      <td>NaN</td>\n      <td>NaN</td>\n      <td>NaN</td>\n      <td>NaN</td>\n      <td>NaN</td>\n      <td>NaN</td>\n      <td>NaN</td>\n      <td>NaN</td>\n      <td>NaN</td>\n      <td>NaN</td>\n      <td>NaN</td>\n      <td>None</td>\n      <td>NaN</td>\n      <td>None</td>\n      <td>NaN</td>\n      <td>NaN</td>\n      <td>NaN</td>\n      <td>NaN</td>\n      <td>NaN</td>\n      <td>NaN</td>\n      <td>NaN</td>\n      <td>NaN</td>\n      <td>NaN</td>\n      <td>NaN</td>\n      <td>NaN</td>\n      <td>NaN</td>\n      <td>NaN</td>\n      <td>NaN</td>\n      <td>NaN</td>\n      <td>NaN</td>\n      <td>NaN</td>\n      <td>NaN</td>\n      <td>NaN</td>\n      <td>NaN</td>\n      <td>NaN</td>\n      <td>NaN</td>\n      <td>NaN</td>\n      <td>NaN</td>\n      <td>NaN</td>\n      <td>NaN</td>\n      <td>NaN</td>\n      <td>NaN</td>\n      <td>None</td>\n      <td>NaN</td>\n      <td>None</td>\n      <td>NaN</td>\n      <td>NaN</td>\n      <td>NaN</td>\n      <td>NaN</td>\n      <td>NaN</td>\n      <td>NaN</td>\n      <td>NaN</td>\n      <td>NaN</td>\n      <td>NaN</td>\n      <td>NaN</td>\n      <td>NaN</td>\n      <td>NaN</td>\n      <td>NaN</td>\n      <td>NaN</td>\n      <td>NaN</td>\n      <td>NaN</td>\n      <td>NaN</td>\n      <td>NaN</td>\n      <td>NaN</td>\n      <td>NaN</td>\n      <td>NaN</td>\n      <td>NaN</td>\n      <td>NaN</td>\n      <td>NaN</td>\n      <td>NaN</td>\n      <td>NaN</td>\n      <td>NaN</td>\n      <td>NaN</td>\n      <td>None</td>\n      <td>None</td>\n      <td>None</td>\n      <td>None</td>\n      <td>NaN</td>\n      <td>NaN</td>\n      <td>None</td>\n      <td>None</td>\n      <td>NaN</td>\n      <td>NaN</td>\n      <td>NaN</td>\n      <td>NaN</td>\n      <td>NaN</td>\n      <td>None</td>\n      <td>NaN</td>\n      <td>NaN</td>\n      <td>NaN</td>\n      <td>NaN</td>\n      <td>NaN</td>\n      <td>NaN</td>\n      <td>NaN</td>\n      <td>NaN</td>\n      <td>NaN</td>\n      <td>NaN</td>\n      <td>NaN</td>\n      <td>NaN</td>\n      <td>NaN</td>\n      <td>NaN</td>\n      <td>NaN</td>\n      <td>NaN</td>\n      <td>NaN</td>\n      <td>None</td>\n      <td>0.0</td>\n      <td>NaN</td>\n      <td>NaN</td>\n      <td>NaN</td>\n      <td>NaN</td>\n      <td>NaN</td>\n      <td>NaN</td>\n      <td>-</td>\n      <td>NaN</td>\n      <td>NaN</td>\n      <td>NaN</td>\n      <td>NaN</td>\n      <td>NaN</td>\n      <td>NaN</td>\n      <td>NaN</td>\n      <td>NaN</td>\n      <td>NaN</td>\n      <td>NaN</td>\n      <td>NaN</td>\n      <td>NaN</td>\n      <td>NaN</td>\n      <td>NaN</td>\n      <td>NaN</td>\n      <td>NaN</td>\n      <td>NaN</td>\n      <td>NaN</td>\n      <td>NaN</td>\n      <td>NaN</td>\n      <td>NaN</td>\n      <td>nie</td>\n      <td>NaN</td>\n      <td>NaN</td>\n      <td>NaN</td>\n      <td>NaN</td>\n      <td>NaN</td>\n      <td>NaN</td>\n      <td>NaN</td>\n      <td>NaN</td>\n      <td>NaN</td>\n      <td>NaN</td>\n      <td>NaN</td>\n      <td>NaN</td>\n      <td>NaN</td>\n      <td>0.25</td>\n      <td>67</td>\n      <td>pociąg</td>\n      <td>KZ</td>\n      <td>NaN</td>\n      <td>NaN</td>\n    </tr>\n    <tr>\n      <th>3</th>\n      <td>4.0</td>\n      <td>LOS_67-67-109</td>\n      <td>NaN</td>\n      <td>2018-04-26</td>\n      <td>17:05</td>\n      <td>67.0</td>\n      <td>raczej się zgadzam</td>\n      <td>całkowicie się zgadzam</td>\n      <td>całkowicie się zgadzam</td>\n      <td>tramwaj</td>\n      <td>mam bliżej przystanek tramwajowy</td>\n      <td>NaN</td>\n      <td>NaN</td>\n      <td>bardzo dobrze</td>\n      <td>bardzo dobrze</td>\n      <td>raczej dobrze</td>\n      <td>raczej dobrze</td>\n      <td>Nie</td>\n      <td>Nie</td>\n      <td>Nie</td>\n      <td>Tak</td>\n      <td>Nie</td>\n      <td>Nie</td>\n      <td>Nie</td>\n      <td>Nie</td>\n      <td>Tak</td>\n      <td>Nie</td>\n      <td>Nie</td>\n      <td>Nie</td>\n      <td>Nie</td>\n      <td>NaN</td>\n      <td>2.0</td>\n      <td>2.0</td>\n      <td>0.0</td>\n      <td>1.0</td>\n      <td>0.0</td>\n      <td>1.0</td>\n      <td>20-24 (wiek studencki)</td>\n      <td>Mężczyzna</td>\n      <td>student</td>\n      <td>brak zajęcia dodatkowego</td>\n      <td>dobry stan zdrowia</td>\n      <td>NaN</td>\n      <td>nie dotyczy</td>\n      <td>Tak</td>\n      <td>Tak</td>\n      <td>0.5</td>\n      <td>Nie</td>\n      <td>opieka nad inną osobą</td>\n      <td>NaN</td>\n      <td>NaN</td>\n      <td>NaN</td>\n      <td>NaN</td>\n      <td>NaN</td>\n      <td>NaN</td>\n      <td>NaN</td>\n      <td>NaN</td>\n      <td>NaN</td>\n      <td>NaN</td>\n      <td>NaN</td>\n      <td>NaN</td>\n      <td>NaN</td>\n      <td>NaN</td>\n      <td>NaN</td>\n      <td>NaN</td>\n      <td>NaN</td>\n      <td>None</td>\n      <td>NaN</td>\n      <td>NaN</td>\n      <td>NaN</td>\n      <td>NaN</td>\n      <td>NaN</td>\n      <td>NaN</td>\n      <td>NaN</td>\n      <td>NaN</td>\n      <td>NaN</td>\n      <td>NaN</td>\n      <td>NaN</td>\n      <td>NaN</td>\n      <td>NaN</td>\n      <td>NaN</td>\n      <td>NaN</td>\n      <td>NaN</td>\n      <td>NaN</td>\n      <td>NaN</td>\n      <td>NaN</td>\n      <td>NaN</td>\n      <td>NaN</td>\n      <td>NaN</td>\n      <td>NaN</td>\n      <td>NaN</td>\n      <td>NaN</td>\n      <td>NaN</td>\n      <td>NaN</td>\n      <td>NaN</td>\n      <td>None</td>\n      <td>NaN</td>\n      <td>None</td>\n      <td>NaN</td>\n      <td>NaN</td>\n      <td>NaN</td>\n      <td>NaN</td>\n      <td>NaN</td>\n      <td>NaN</td>\n      <td>NaN</td>\n      <td>NaN</td>\n      <td>NaN</td>\n      <td>NaN</td>\n      <td>NaN</td>\n      <td>NaN</td>\n      <td>NaN</td>\n      <td>NaN</td>\n      <td>NaN</td>\n      <td>NaN</td>\n      <td>NaN</td>\n      <td>NaN</td>\n      <td>NaN</td>\n      <td>NaN</td>\n      <td>NaN</td>\n      <td>NaN</td>\n      <td>NaN</td>\n      <td>NaN</td>\n      <td>NaN</td>\n      <td>NaN</td>\n      <td>NaN</td>\n      <td>NaN</td>\n      <td>None</td>\n      <td>NaN</td>\n      <td>None</td>\n      <td>NaN</td>\n      <td>NaN</td>\n      <td>NaN</td>\n      <td>NaN</td>\n      <td>NaN</td>\n      <td>NaN</td>\n      <td>NaN</td>\n      <td>NaN</td>\n      <td>NaN</td>\n      <td>NaN</td>\n      <td>NaN</td>\n      <td>NaN</td>\n      <td>NaN</td>\n      <td>NaN</td>\n      <td>NaN</td>\n      <td>NaN</td>\n      <td>NaN</td>\n      <td>NaN</td>\n      <td>NaN</td>\n      <td>NaN</td>\n      <td>NaN</td>\n      <td>NaN</td>\n      <td>NaN</td>\n      <td>NaN</td>\n      <td>NaN</td>\n      <td>NaN</td>\n      <td>NaN</td>\n      <td>NaN</td>\n      <td>None</td>\n      <td>NaN</td>\n      <td>None</td>\n      <td>NaN</td>\n      <td>NaN</td>\n      <td>NaN</td>\n      <td>NaN</td>\n      <td>NaN</td>\n      <td>NaN</td>\n      <td>NaN</td>\n      <td>NaN</td>\n      <td>NaN</td>\n      <td>NaN</td>\n      <td>NaN</td>\n      <td>NaN</td>\n      <td>NaN</td>\n      <td>NaN</td>\n      <td>NaN</td>\n      <td>NaN</td>\n      <td>NaN</td>\n      <td>NaN</td>\n      <td>NaN</td>\n      <td>NaN</td>\n      <td>NaN</td>\n      <td>NaN</td>\n      <td>NaN</td>\n      <td>NaN</td>\n      <td>NaN</td>\n      <td>NaN</td>\n      <td>NaN</td>\n      <td>NaN</td>\n      <td>None</td>\n      <td>NaN</td>\n      <td>None</td>\n      <td>NaN</td>\n      <td>NaN</td>\n      <td>NaN</td>\n      <td>NaN</td>\n      <td>NaN</td>\n      <td>NaN</td>\n      <td>NaN</td>\n      <td>NaN</td>\n      <td>NaN</td>\n      <td>NaN</td>\n      <td>NaN</td>\n      <td>NaN</td>\n      <td>NaN</td>\n      <td>NaN</td>\n      <td>NaN</td>\n      <td>NaN</td>\n      <td>NaN</td>\n      <td>NaN</td>\n      <td>NaN</td>\n      <td>NaN</td>\n      <td>NaN</td>\n      <td>NaN</td>\n      <td>NaN</td>\n      <td>NaN</td>\n      <td>NaN</td>\n      <td>NaN</td>\n      <td>NaN</td>\n      <td>NaN</td>\n      <td>None</td>\n      <td>None</td>\n      <td>None</td>\n      <td>None</td>\n      <td>NaN</td>\n      <td>NaN</td>\n      <td>None</td>\n      <td>None</td>\n      <td>NaN</td>\n      <td>NaN</td>\n      <td>NaN</td>\n      <td>NaN</td>\n      <td>NaN</td>\n      <td>None</td>\n      <td>NaN</td>\n      <td>NaN</td>\n      <td>NaN</td>\n      <td>NaN</td>\n      <td>NaN</td>\n      <td>NaN</td>\n      <td>NaN</td>\n      <td>NaN</td>\n      <td>NaN</td>\n      <td>NaN</td>\n      <td>NaN</td>\n      <td>NaN</td>\n      <td>NaN</td>\n      <td>NaN</td>\n      <td>NaN</td>\n      <td>NaN</td>\n      <td>NaN</td>\n      <td>None</td>\n      <td>0.0</td>\n      <td>NaN</td>\n      <td>NaN</td>\n      <td>NaN</td>\n      <td>NaN</td>\n      <td>NaN</td>\n      <td>NaN</td>\n      <td>-</td>\n      <td>NaN</td>\n      <td>NaN</td>\n      <td>NaN</td>\n      <td>NaN</td>\n      <td>NaN</td>\n      <td>NaN</td>\n      <td>NaN</td>\n      <td>NaN</td>\n      <td>NaN</td>\n      <td>NaN</td>\n      <td>NaN</td>\n      <td>NaN</td>\n      <td>NaN</td>\n      <td>NaN</td>\n      <td>NaN</td>\n      <td>NaN</td>\n      <td>NaN</td>\n      <td>NaN</td>\n      <td>NaN</td>\n      <td>NaN</td>\n      <td>NaN</td>\n      <td>nie</td>\n      <td>NaN</td>\n      <td>NaN</td>\n      <td>NaN</td>\n      <td>NaN</td>\n      <td>NaN</td>\n      <td>NaN</td>\n      <td>NaN</td>\n      <td>NaN</td>\n      <td>NaN</td>\n      <td>NaN</td>\n      <td>NaN</td>\n      <td>NaN</td>\n      <td>NaN</td>\n      <td>0.25</td>\n      <td>67</td>\n      <td>tramwaj</td>\n      <td>KZ</td>\n      <td>NaN</td>\n      <td>NaN</td>\n    </tr>\n    <tr>\n      <th>4</th>\n      <td>5.0</td>\n      <td>LOS_67-67-401</td>\n      <td>NaN</td>\n      <td>2018-04-26</td>\n      <td>17:10</td>\n      <td>67.0</td>\n      <td>całkowicie się zgadzam</td>\n      <td>całkowicie się zgadzam</td>\n      <td>całkowicie się zgadzam</td>\n      <td>tramwaj</td>\n      <td>Inne</td>\n      <td>KORZYSTANIE Z TRAMWAJU JEDYNIE OKAZYJNIE</td>\n      <td>NaN</td>\n      <td>bardzo dobrze</td>\n      <td>bardzo dobrze</td>\n      <td>bardzo dobrze</td>\n      <td>ani dobrze ani źle</td>\n      <td>Nie</td>\n      <td>Tak</td>\n      <td>Nie</td>\n      <td>Nie</td>\n      <td>Nie</td>\n      <td>Nie</td>\n      <td>Nie</td>\n      <td>Nie</td>\n      <td>Nie</td>\n      <td>Nie</td>\n      <td>Nie</td>\n      <td>Nie</td>\n      <td>Nie</td>\n      <td>NaN</td>\n      <td>2.0</td>\n      <td>2.0</td>\n      <td>1.0</td>\n      <td>0.0</td>\n      <td>0.0</td>\n      <td>0.0</td>\n      <td>61 i więcej (emeryci kobiety)</td>\n      <td>Kobieta</td>\n      <td>emeryt</td>\n      <td>brak zajęcia dodatkowego</td>\n      <td>dolegliwości zdrowotne</td>\n      <td>NaN</td>\n      <td>nie dotyczy</td>\n      <td>Nie</td>\n      <td>Nie</td>\n      <td>0.5</td>\n      <td>Nie</td>\n      <td>brak potrzeby</td>\n      <td>NaN</td>\n      <td>NaN</td>\n      <td>NaN</td>\n      <td>NaN</td>\n      <td>NaN</td>\n      <td>NaN</td>\n      <td>NaN</td>\n      <td>NaN</td>\n      <td>NaN</td>\n      <td>NaN</td>\n      <td>NaN</td>\n      <td>NaN</td>\n      <td>NaN</td>\n      <td>NaN</td>\n      <td>NaN</td>\n      <td>NaN</td>\n      <td>NaN</td>\n      <td>None</td>\n      <td>NaN</td>\n      <td>NaN</td>\n      <td>NaN</td>\n      <td>NaN</td>\n      <td>NaN</td>\n      <td>NaN</td>\n      <td>NaN</td>\n      <td>NaN</td>\n      <td>NaN</td>\n      <td>NaN</td>\n      <td>NaN</td>\n      <td>NaN</td>\n      <td>NaN</td>\n      <td>NaN</td>\n      <td>NaN</td>\n      <td>NaN</td>\n      <td>NaN</td>\n      <td>NaN</td>\n      <td>NaN</td>\n      <td>NaN</td>\n      <td>NaN</td>\n      <td>NaN</td>\n      <td>NaN</td>\n      <td>NaN</td>\n      <td>NaN</td>\n      <td>NaN</td>\n      <td>NaN</td>\n      <td>NaN</td>\n      <td>None</td>\n      <td>NaN</td>\n      <td>None</td>\n      <td>NaN</td>\n      <td>NaN</td>\n      <td>NaN</td>\n      <td>NaN</td>\n      <td>NaN</td>\n      <td>NaN</td>\n      <td>NaN</td>\n      <td>NaN</td>\n      <td>NaN</td>\n      <td>NaN</td>\n      <td>NaN</td>\n      <td>NaN</td>\n      <td>NaN</td>\n      <td>NaN</td>\n      <td>NaN</td>\n      <td>NaN</td>\n      <td>NaN</td>\n      <td>NaN</td>\n      <td>NaN</td>\n      <td>NaN</td>\n      <td>NaN</td>\n      <td>NaN</td>\n      <td>NaN</td>\n      <td>NaN</td>\n      <td>NaN</td>\n      <td>NaN</td>\n      <td>NaN</td>\n      <td>NaN</td>\n      <td>None</td>\n      <td>NaN</td>\n      <td>None</td>\n      <td>NaN</td>\n      <td>NaN</td>\n      <td>NaN</td>\n      <td>NaN</td>\n      <td>NaN</td>\n      <td>NaN</td>\n      <td>NaN</td>\n      <td>NaN</td>\n      <td>NaN</td>\n      <td>NaN</td>\n      <td>NaN</td>\n      <td>NaN</td>\n      <td>NaN</td>\n      <td>NaN</td>\n      <td>NaN</td>\n      <td>NaN</td>\n      <td>NaN</td>\n      <td>NaN</td>\n      <td>NaN</td>\n      <td>NaN</td>\n      <td>NaN</td>\n      <td>NaN</td>\n      <td>NaN</td>\n      <td>NaN</td>\n      <td>NaN</td>\n      <td>NaN</td>\n      <td>NaN</td>\n      <td>NaN</td>\n      <td>None</td>\n      <td>NaN</td>\n      <td>None</td>\n      <td>NaN</td>\n      <td>NaN</td>\n      <td>NaN</td>\n      <td>NaN</td>\n      <td>NaN</td>\n      <td>NaN</td>\n      <td>NaN</td>\n      <td>NaN</td>\n      <td>NaN</td>\n      <td>NaN</td>\n      <td>NaN</td>\n      <td>NaN</td>\n      <td>NaN</td>\n      <td>NaN</td>\n      <td>NaN</td>\n      <td>NaN</td>\n      <td>NaN</td>\n      <td>NaN</td>\n      <td>NaN</td>\n      <td>NaN</td>\n      <td>NaN</td>\n      <td>NaN</td>\n      <td>NaN</td>\n      <td>NaN</td>\n      <td>NaN</td>\n      <td>NaN</td>\n      <td>NaN</td>\n      <td>NaN</td>\n      <td>None</td>\n      <td>NaN</td>\n      <td>None</td>\n      <td>NaN</td>\n      <td>NaN</td>\n      <td>NaN</td>\n      <td>NaN</td>\n      <td>NaN</td>\n      <td>NaN</td>\n      <td>NaN</td>\n      <td>NaN</td>\n      <td>NaN</td>\n      <td>NaN</td>\n      <td>NaN</td>\n      <td>NaN</td>\n      <td>NaN</td>\n      <td>NaN</td>\n      <td>NaN</td>\n      <td>NaN</td>\n      <td>NaN</td>\n      <td>NaN</td>\n      <td>NaN</td>\n      <td>NaN</td>\n      <td>NaN</td>\n      <td>NaN</td>\n      <td>NaN</td>\n      <td>NaN</td>\n      <td>NaN</td>\n      <td>NaN</td>\n      <td>NaN</td>\n      <td>NaN</td>\n      <td>None</td>\n      <td>None</td>\n      <td>None</td>\n      <td>None</td>\n      <td>NaN</td>\n      <td>NaN</td>\n      <td>None</td>\n      <td>None</td>\n      <td>NaN</td>\n      <td>NaN</td>\n      <td>NaN</td>\n      <td>NaN</td>\n      <td>NaN</td>\n      <td>None</td>\n      <td>NaN</td>\n      <td>NaN</td>\n      <td>NaN</td>\n      <td>NaN</td>\n      <td>NaN</td>\n      <td>NaN</td>\n      <td>NaN</td>\n      <td>NaN</td>\n      <td>NaN</td>\n      <td>NaN</td>\n      <td>NaN</td>\n      <td>NaN</td>\n      <td>NaN</td>\n      <td>NaN</td>\n      <td>NaN</td>\n      <td>NaN</td>\n      <td>NaN</td>\n      <td>None</td>\n      <td>0.0</td>\n      <td>NaN</td>\n      <td>NaN</td>\n      <td>NaN</td>\n      <td>NaN</td>\n      <td>NaN</td>\n      <td>NaN</td>\n      <td>-</td>\n      <td>NaN</td>\n      <td>NaN</td>\n      <td>NaN</td>\n      <td>NaN</td>\n      <td>NaN</td>\n      <td>NaN</td>\n      <td>NaN</td>\n      <td>NaN</td>\n      <td>NaN</td>\n      <td>NaN</td>\n      <td>NaN</td>\n      <td>NaN</td>\n      <td>NaN</td>\n      <td>NaN</td>\n      <td>NaN</td>\n      <td>NaN</td>\n      <td>NaN</td>\n      <td>NaN</td>\n      <td>NaN</td>\n      <td>NaN</td>\n      <td>NaN</td>\n      <td>nie</td>\n      <td>NaN</td>\n      <td>NaN</td>\n      <td>NaN</td>\n      <td>NaN</td>\n      <td>NaN</td>\n      <td>NaN</td>\n      <td>NaN</td>\n      <td>NaN</td>\n      <td>NaN</td>\n      <td>NaN</td>\n      <td>NaN</td>\n      <td>NaN</td>\n      <td>NaN</td>\n      <td>0.80</td>\n      <td>67</td>\n      <td>NaN</td>\n      <td>NaN</td>\n      <td>NaN</td>\n      <td>NaN</td>\n    </tr>\n  </tbody>\n</table>\n</div>"
     },
     "metadata": {},
     "execution_count": 3
    }
   ],
   "source": [
    "data.head()"
   ]
  },
  {
   "source": [
    "## Dataframe filtering by selected columns + mapping age_bracket and sex values + some processing"
   ],
   "cell_type": "markdown",
   "metadata": {}
  },
  {
   "cell_type": "code",
   "execution_count": 80,
   "metadata": {},
   "outputs": [],
   "source": [
    "chosen_cols = [\n",
    "    'IDENTYFIKACJA ANKIETY_ID_LOS (numer kwestionariusza)',\n",
    "    'IDENTYFIKACJA OSOBY_Nr. osoby w gosp. dom.',\n",
    "    'IDENTYFIKACJA ANKIETY_Data wypełnienia kwestionariusza',\n",
    "    'DANE O RESPONDENCIE_Przedział wiekowy',\n",
    "    'DANE O RESPONDENCIE_Płeć',\n",
    "    'OPIS PODRÓŻY \"ŹRÓDŁO\"_Godzina rozpoczęcia podróży\\n[gg:mm:ss]',\n",
    "    'OPIS PODRÓŻY \"ŹRÓDŁO\"_Z jakiego miejsca',\n",
    "    'OPIS PODRÓŻY \"CEL\"_Do jakiego miejsca',\n",
    "    'OPIS PODRÓŻY \"CEL\"_Do jakiego miejsca [Inne]',\n",
    "    '23:59:00_motywacje'\n",
    "]\n",
    "\n",
    "data_filtered = data[chosen_cols]\n",
    "\n",
    "data_filtered.columns = [\n",
    "    'id', \n",
    "    'household_person_id',\n",
    "    'questionnaire_date',\n",
    "    'age_bracket', \n",
    "    'sex',\n",
    "    'travel_start_time',\n",
    "    'source', \n",
    "    'destination',\n",
    "    'what_inne',\n",
    "    'source-destination'\n",
    "]\n",
    "\n",
    "data_filtered.fillna(0, inplace=True)\n",
    "# data_filtered.dropna(inplace=True)\n",
    "# data_filtered.reset_index(drop=True, inplace=True)"
   ]
  },
  {
   "cell_type": "code",
   "execution_count": 81,
   "metadata": {},
   "outputs": [
    {
     "output_type": "execute_result",
     "data": {
      "text/plain": [
       "              id  household_person_id questionnaire_date  \\\n",
       "0  LOS_67-67-306                  1.0         2018-04-25   \n",
       "1  LOS_67-67-306                  1.0         2018-04-25   \n",
       "2  LOS_67-67-109                  0.0         2018-04-26   \n",
       "3  LOS_67-67-109                  0.0         2018-04-26   \n",
       "4  LOS_67-67-401                  0.0         2018-04-26   \n",
       "\n",
       "                     age_bracket        sex travel_start_time source  \\\n",
       "0  61 i więcej (emeryci kobiety)    Kobieta          09:00:00    dom   \n",
       "1  61 i więcej (emeryci kobiety)    Kobieta          09:40:00   Inne   \n",
       "2         20-24 (wiek studencki)    Kobieta                 0      0   \n",
       "3         20-24 (wiek studencki)  Mężczyzna                 0      0   \n",
       "4  61 i więcej (emeryci kobiety)    Kobieta                 0      0   \n",
       "\n",
       "  destination what_inne source-destination  \n",
       "0        Inne     SKLEP           dom-Inne  \n",
       "1         dom         0           Inne-dom  \n",
       "2           0         0                  -  \n",
       "3           0         0                  -  \n",
       "4           0         0                  -  "
      ],
      "text/html": "<div>\n<style scoped>\n    .dataframe tbody tr th:only-of-type {\n        vertical-align: middle;\n    }\n\n    .dataframe tbody tr th {\n        vertical-align: top;\n    }\n\n    .dataframe thead th {\n        text-align: right;\n    }\n</style>\n<table border=\"1\" class=\"dataframe\">\n  <thead>\n    <tr style=\"text-align: right;\">\n      <th></th>\n      <th>id</th>\n      <th>household_person_id</th>\n      <th>questionnaire_date</th>\n      <th>age_bracket</th>\n      <th>sex</th>\n      <th>travel_start_time</th>\n      <th>source</th>\n      <th>destination</th>\n      <th>what_inne</th>\n      <th>source-destination</th>\n    </tr>\n  </thead>\n  <tbody>\n    <tr>\n      <th>0</th>\n      <td>LOS_67-67-306</td>\n      <td>1.0</td>\n      <td>2018-04-25</td>\n      <td>61 i więcej (emeryci kobiety)</td>\n      <td>Kobieta</td>\n      <td>09:00:00</td>\n      <td>dom</td>\n      <td>Inne</td>\n      <td>SKLEP</td>\n      <td>dom-Inne</td>\n    </tr>\n    <tr>\n      <th>1</th>\n      <td>LOS_67-67-306</td>\n      <td>1.0</td>\n      <td>2018-04-25</td>\n      <td>61 i więcej (emeryci kobiety)</td>\n      <td>Kobieta</td>\n      <td>09:40:00</td>\n      <td>Inne</td>\n      <td>dom</td>\n      <td>0</td>\n      <td>Inne-dom</td>\n    </tr>\n    <tr>\n      <th>2</th>\n      <td>LOS_67-67-109</td>\n      <td>0.0</td>\n      <td>2018-04-26</td>\n      <td>20-24 (wiek studencki)</td>\n      <td>Kobieta</td>\n      <td>0</td>\n      <td>0</td>\n      <td>0</td>\n      <td>0</td>\n      <td>-</td>\n    </tr>\n    <tr>\n      <th>3</th>\n      <td>LOS_67-67-109</td>\n      <td>0.0</td>\n      <td>2018-04-26</td>\n      <td>20-24 (wiek studencki)</td>\n      <td>Mężczyzna</td>\n      <td>0</td>\n      <td>0</td>\n      <td>0</td>\n      <td>0</td>\n      <td>-</td>\n    </tr>\n    <tr>\n      <th>4</th>\n      <td>LOS_67-67-401</td>\n      <td>0.0</td>\n      <td>2018-04-26</td>\n      <td>61 i więcej (emeryci kobiety)</td>\n      <td>Kobieta</td>\n      <td>0</td>\n      <td>0</td>\n      <td>0</td>\n      <td>0</td>\n      <td>-</td>\n    </tr>\n  </tbody>\n</table>\n</div>"
     },
     "metadata": {},
     "execution_count": 81
    }
   ],
   "source": [
    "data_filtered.head()"
   ]
  },
  {
   "cell_type": "code",
   "execution_count": 82,
   "metadata": {},
   "outputs": [],
   "source": [
    "age_bracket_map_dict = {\n",
    "    '6-15 (dzieci)': '6-15',\n",
    "    '16-19 (młodzież)': '16-19',\n",
    "    '20-24 (wiek studencki)': '20-24',\n",
    "    '25-44 (młodsi pracownicy)': '25-44',\n",
    "    '45-60 (starsi pracownicy kobiety)': '45-60',  # '45-60(K)',\n",
    "    '45-65 (starsi pracownicy mężczyźni)': '45-65',  # '45-65(M)',\n",
    "    '61 i więcej (emeryci kobiety)': '61-x',  # '61-(K)',\n",
    "    '66 i więcej (emeryci mężczyźni)': '66-x'  # '66-(M)'\n",
    "}\n",
    "data_filtered.replace({'age_bracket': age_bracket_map_dict}, inplace=True)\n",
    "\n",
    "sex_map_dict = {\n",
    "    'Kobieta': 'K',\n",
    "    'Mężczyzna': 'M'\n",
    "}\n",
    "data_filtered.replace({'sex': sex_map_dict}, inplace=True)\n",
    "\n",
    "data_filtered['age_sex_comb'] = data_filtered['age_bracket'] + '_' + data_filtered['sex']\n",
    "\n",
    "data_filtered['person_id'] = data_filtered['id'] + data_filtered['questionnaire_date'].astype('str') + data_filtered['household_person_id'].astype('str')\n",
    "\n",
    "data_filtered['travel_start_time'] = data_filtered['travel_start_time'].astype('str')\n",
    "\n",
    "data_filtered['source'] = data_filtered['source'].str.replace('Inne', 'inne')\n",
    "data_filtered['destination'] = data_filtered['destination'].str.replace('Inne', 'inne')\n",
    "data_filtered['what_inne'] = data_filtered['what_inne'].str.replace('Inne', 'inne')\n",
    "data_filtered['source-destination'] = data_filtered['source-destination'].str.replace('Inne', 'inne')\n"
   ]
  },
  {
   "cell_type": "code",
   "execution_count": 83,
   "metadata": {},
   "outputs": [
    {
     "output_type": "stream",
     "name": "stderr",
     "text": [
      "100%|██████████| 14241/14241 [00:10<00:00, 1369.72it/s]\n"
     ]
    }
   ],
   "source": [
    "def add_was_travel(row):\n",
    "    row['was_travel'] = 0 if row['travel_start_time'] == '0' else 1\n",
    "    return row\n",
    "\n",
    "data_filtered = data_filtered.progress_apply(add_was_travel, axis=1)"
   ]
  },
  {
   "cell_type": "code",
   "execution_count": 84,
   "metadata": {},
   "outputs": [
    {
     "output_type": "execute_result",
     "data": {
      "text/plain": [
       "              id  household_person_id questionnaire_date age_bracket sex  \\\n",
       "0  LOS_67-67-306                  1.0         2018-04-25        61-x   K   \n",
       "1  LOS_67-67-306                  1.0         2018-04-25        61-x   K   \n",
       "2  LOS_67-67-109                  0.0         2018-04-26       20-24   K   \n",
       "3  LOS_67-67-109                  0.0         2018-04-26       20-24   M   \n",
       "4  LOS_67-67-401                  0.0         2018-04-26        61-x   K   \n",
       "\n",
       "  travel_start_time source destination what_inne source-destination  \\\n",
       "0          09:00:00    dom        inne     SKLEP           dom-inne   \n",
       "1          09:40:00   inne         dom       NaN           inne-dom   \n",
       "2                 0    NaN         NaN       NaN                  -   \n",
       "3                 0    NaN         NaN       NaN                  -   \n",
       "4                 0    NaN         NaN       NaN                  -   \n",
       "\n",
       "  age_sex_comb                   person_id  was_travel  \n",
       "0       61-x_K  LOS_67-67-3062018-04-251.0           1  \n",
       "1       61-x_K  LOS_67-67-3062018-04-251.0           1  \n",
       "2      20-24_K  LOS_67-67-1092018-04-260.0           0  \n",
       "3      20-24_M  LOS_67-67-1092018-04-260.0           0  \n",
       "4       61-x_K  LOS_67-67-4012018-04-260.0           0  "
      ],
      "text/html": "<div>\n<style scoped>\n    .dataframe tbody tr th:only-of-type {\n        vertical-align: middle;\n    }\n\n    .dataframe tbody tr th {\n        vertical-align: top;\n    }\n\n    .dataframe thead th {\n        text-align: right;\n    }\n</style>\n<table border=\"1\" class=\"dataframe\">\n  <thead>\n    <tr style=\"text-align: right;\">\n      <th></th>\n      <th>id</th>\n      <th>household_person_id</th>\n      <th>questionnaire_date</th>\n      <th>age_bracket</th>\n      <th>sex</th>\n      <th>travel_start_time</th>\n      <th>source</th>\n      <th>destination</th>\n      <th>what_inne</th>\n      <th>source-destination</th>\n      <th>age_sex_comb</th>\n      <th>person_id</th>\n      <th>was_travel</th>\n    </tr>\n  </thead>\n  <tbody>\n    <tr>\n      <th>0</th>\n      <td>LOS_67-67-306</td>\n      <td>1.0</td>\n      <td>2018-04-25</td>\n      <td>61-x</td>\n      <td>K</td>\n      <td>09:00:00</td>\n      <td>dom</td>\n      <td>inne</td>\n      <td>SKLEP</td>\n      <td>dom-inne</td>\n      <td>61-x_K</td>\n      <td>LOS_67-67-3062018-04-251.0</td>\n      <td>1</td>\n    </tr>\n    <tr>\n      <th>1</th>\n      <td>LOS_67-67-306</td>\n      <td>1.0</td>\n      <td>2018-04-25</td>\n      <td>61-x</td>\n      <td>K</td>\n      <td>09:40:00</td>\n      <td>inne</td>\n      <td>dom</td>\n      <td>NaN</td>\n      <td>inne-dom</td>\n      <td>61-x_K</td>\n      <td>LOS_67-67-3062018-04-251.0</td>\n      <td>1</td>\n    </tr>\n    <tr>\n      <th>2</th>\n      <td>LOS_67-67-109</td>\n      <td>0.0</td>\n      <td>2018-04-26</td>\n      <td>20-24</td>\n      <td>K</td>\n      <td>0</td>\n      <td>NaN</td>\n      <td>NaN</td>\n      <td>NaN</td>\n      <td>-</td>\n      <td>20-24_K</td>\n      <td>LOS_67-67-1092018-04-260.0</td>\n      <td>0</td>\n    </tr>\n    <tr>\n      <th>3</th>\n      <td>LOS_67-67-109</td>\n      <td>0.0</td>\n      <td>2018-04-26</td>\n      <td>20-24</td>\n      <td>M</td>\n      <td>0</td>\n      <td>NaN</td>\n      <td>NaN</td>\n      <td>NaN</td>\n      <td>-</td>\n      <td>20-24_M</td>\n      <td>LOS_67-67-1092018-04-260.0</td>\n      <td>0</td>\n    </tr>\n    <tr>\n      <th>4</th>\n      <td>LOS_67-67-401</td>\n      <td>0.0</td>\n      <td>2018-04-26</td>\n      <td>61-x</td>\n      <td>K</td>\n      <td>0</td>\n      <td>NaN</td>\n      <td>NaN</td>\n      <td>NaN</td>\n      <td>-</td>\n      <td>61-x_K</td>\n      <td>LOS_67-67-4012018-04-260.0</td>\n      <td>0</td>\n    </tr>\n  </tbody>\n</table>\n</div>"
     },
     "metadata": {},
     "execution_count": 84
    }
   ],
   "source": [
    "data_filtered.head()"
   ]
  },
  {
   "source": [
    "## Distribution: number of travels grouped by combinations of age group and gender"
   ],
   "cell_type": "markdown",
   "metadata": {}
  },
  {
   "source": [
    "### Prepare data"
   ],
   "cell_type": "markdown",
   "metadata": {}
  },
  {
   "cell_type": "code",
   "execution_count": 85,
   "metadata": {},
   "outputs": [
    {
     "output_type": "execute_result",
     "data": {
      "text/plain": [
       "6872"
      ]
     },
     "metadata": {},
     "execution_count": 85
    }
   ],
   "source": [
    "len(data_filtered['person_id'].unique())"
   ]
  },
  {
   "cell_type": "code",
   "execution_count": 86,
   "metadata": {},
   "outputs": [
    {
     "output_type": "execute_result",
     "data": {
      "text/plain": [
       "7304"
      ]
     },
     "metadata": {},
     "execution_count": 86
    }
   ],
   "source": [
    "data_grouped = data_filtered.groupby(['person_id', 'age_sex_comb', 'was_travel'])['person_id'].count().reset_index(name='travel_amount')\n",
    "\n",
    "data_grouped.shape[0]"
   ]
  },
  {
   "cell_type": "code",
   "execution_count": 87,
   "metadata": {},
   "outputs": [
    {
     "output_type": "execute_result",
     "data": {
      "text/plain": [
       "                       person_id age_sex_comb  was_travel  travel_amount\n",
       "0  LOS_100-100-13052018-06-141.0       61-x_K           1              2\n",
       "1   LOS_100-100-1642018-06-221.0      25-44_K           1              1\n",
       "2   LOS_100-100-1642018-06-221.0      45-60_K           0              1\n",
       "3  LOS_100-100-22812018-06-221.0      25-44_K           1              2\n",
       "4    LOS_100-100-482018-06-221.0      20-24_K           1              2"
      ],
      "text/html": "<div>\n<style scoped>\n    .dataframe tbody tr th:only-of-type {\n        vertical-align: middle;\n    }\n\n    .dataframe tbody tr th {\n        vertical-align: top;\n    }\n\n    .dataframe thead th {\n        text-align: right;\n    }\n</style>\n<table border=\"1\" class=\"dataframe\">\n  <thead>\n    <tr style=\"text-align: right;\">\n      <th></th>\n      <th>person_id</th>\n      <th>age_sex_comb</th>\n      <th>was_travel</th>\n      <th>travel_amount</th>\n    </tr>\n  </thead>\n  <tbody>\n    <tr>\n      <th>0</th>\n      <td>LOS_100-100-13052018-06-141.0</td>\n      <td>61-x_K</td>\n      <td>1</td>\n      <td>2</td>\n    </tr>\n    <tr>\n      <th>1</th>\n      <td>LOS_100-100-1642018-06-221.0</td>\n      <td>25-44_K</td>\n      <td>1</td>\n      <td>1</td>\n    </tr>\n    <tr>\n      <th>2</th>\n      <td>LOS_100-100-1642018-06-221.0</td>\n      <td>45-60_K</td>\n      <td>0</td>\n      <td>1</td>\n    </tr>\n    <tr>\n      <th>3</th>\n      <td>LOS_100-100-22812018-06-221.0</td>\n      <td>25-44_K</td>\n      <td>1</td>\n      <td>2</td>\n    </tr>\n    <tr>\n      <th>4</th>\n      <td>LOS_100-100-482018-06-221.0</td>\n      <td>20-24_K</td>\n      <td>1</td>\n      <td>2</td>\n    </tr>\n  </tbody>\n</table>\n</div>"
     },
     "metadata": {},
     "execution_count": 87
    }
   ],
   "source": [
    "data_grouped.head()"
   ]
  },
  {
   "cell_type": "code",
   "execution_count": 88,
   "metadata": {},
   "outputs": [],
   "source": [
    "# data_grouped[data_grouped['was_travel'] == 0]['travel_amount'].value_counts()"
   ]
  },
  {
   "cell_type": "code",
   "execution_count": 89,
   "metadata": {},
   "outputs": [
    {
     "output_type": "stream",
     "name": "stderr",
     "text": [
      "100%|██████████| 7304/7304 [00:00<00:00, 14101.64it/s]\n"
     ]
    }
   ],
   "source": [
    "def update_travel_amount(row):\n",
    "    row['travel_amount'] = 0 if row['was_travel'] == 0 else row['travel_amount']\n",
    "    return row\n",
    "\n",
    "data_grouped = data_grouped.progress_apply(update_travel_amount, axis=1)"
   ]
  },
  {
   "cell_type": "code",
   "execution_count": 90,
   "metadata": {},
   "outputs": [
    {
     "output_type": "execute_result",
     "data": {
      "text/plain": [
       "86"
      ]
     },
     "metadata": {},
     "execution_count": 90
    }
   ],
   "source": [
    "data_grouped = data_grouped.groupby(['age_sex_comb', 'travel_amount'])['travel_amount'].count().reset_index(name='count')\n",
    "\n",
    "data_grouped.shape[0]"
   ]
  },
  {
   "cell_type": "code",
   "execution_count": 91,
   "metadata": {},
   "outputs": [
    {
     "output_type": "execute_result",
     "data": {
      "text/plain": [
       "  age_sex_comb  travel_amount  count\n",
       "0      16-19_K              0     20\n",
       "1      16-19_K              1      2\n",
       "2      16-19_K              2     69\n",
       "3      16-19_K              3      4\n",
       "4      16-19_K              4      6"
      ],
      "text/html": "<div>\n<style scoped>\n    .dataframe tbody tr th:only-of-type {\n        vertical-align: middle;\n    }\n\n    .dataframe tbody tr th {\n        vertical-align: top;\n    }\n\n    .dataframe thead th {\n        text-align: right;\n    }\n</style>\n<table border=\"1\" class=\"dataframe\">\n  <thead>\n    <tr style=\"text-align: right;\">\n      <th></th>\n      <th>age_sex_comb</th>\n      <th>travel_amount</th>\n      <th>count</th>\n    </tr>\n  </thead>\n  <tbody>\n    <tr>\n      <th>0</th>\n      <td>16-19_K</td>\n      <td>0</td>\n      <td>20</td>\n    </tr>\n    <tr>\n      <th>1</th>\n      <td>16-19_K</td>\n      <td>1</td>\n      <td>2</td>\n    </tr>\n    <tr>\n      <th>2</th>\n      <td>16-19_K</td>\n      <td>2</td>\n      <td>69</td>\n    </tr>\n    <tr>\n      <th>3</th>\n      <td>16-19_K</td>\n      <td>3</td>\n      <td>4</td>\n    </tr>\n    <tr>\n      <th>4</th>\n      <td>16-19_K</td>\n      <td>4</td>\n      <td>6</td>\n    </tr>\n  </tbody>\n</table>\n</div>"
     },
     "metadata": {},
     "execution_count": 91
    }
   ],
   "source": [
    "data_grouped.head()"
   ]
  },
  {
   "source": [
    "### Distribution"
   ],
   "cell_type": "markdown",
   "metadata": {}
  },
  {
   "cell_type": "code",
   "execution_count": 92,
   "metadata": {},
   "outputs": [],
   "source": [
    "unique_age_sex_comb = data_grouped['age_sex_comb'].unique()\n",
    "max_travel_amount = 6   # data_grouped['travel_amount'].max()\n",
    "\n",
    "travel_amount_distr = {}\n",
    "\n",
    "for age_sex_comb in unique_age_sex_comb:\n",
    "    travel_amount_distr[age_sex_comb] = {}\n",
    "\n",
    "    for travel_amount in range(0, max_travel_amount+1):\n",
    "        try:\n",
    "            count = int(data_grouped[\n",
    "                (data_grouped['travel_amount'] == travel_amount) & \n",
    "                (data_grouped['age_sex_comb'] == age_sex_comb)\n",
    "            ]['count'])\n",
    "        except TypeError:\n",
    "            count = 1\n",
    "\n",
    "        travel_amount_distr[age_sex_comb][travel_amount] = count"
   ]
  },
  {
   "cell_type": "code",
   "execution_count": 93,
   "metadata": {},
   "outputs": [
    {
     "output_type": "execute_result",
     "data": {
      "text/plain": [
       "{'16-19_K': {0: 20, 1: 2, 2: 69, 3: 4, 4: 6, 5: 1, 6: 1},\n",
       " '16-19_M': {0: 11, 1: 4, 2: 103, 3: 8, 4: 6, 5: 1, 6: 2},\n",
       " '20-24_K': {0: 46, 1: 9, 2: 183, 3: 28, 4: 23, 5: 1, 6: 2},\n",
       " '20-24_M': {0: 58, 1: 10, 2: 174, 3: 20, 4: 23, 5: 2, 6: 4},\n",
       " '25-44_K': {0: 196, 1: 27, 2: 764, 3: 84, 4: 76, 5: 8, 6: 9},\n",
       " '25-44_M': {0: 174, 1: 25, 2: 762, 3: 69, 4: 46, 5: 8, 6: 4},\n",
       " '45-60_K': {0: 162, 1: 19, 2: 531, 3: 49, 4: 35, 5: 8, 6: 1},\n",
       " '45-65_M': {0: 174, 1: 29, 2: 636, 3: 41, 4: 39, 5: 3, 6: 1},\n",
       " '6-15_K': {0: 68, 1: 4, 2: 269, 3: 10, 4: 23, 5: 1, 6: 1},\n",
       " '6-15_M': {0: 40, 1: 5, 2: 223, 3: 10, 4: 11, 5: 1, 6: 1},\n",
       " '61-x_K': {0: 393, 1: 27, 2: 686, 3: 22, 4: 36, 5: 5, 6: 1},\n",
       " '66-x_M': {0: 258, 1: 9, 2: 360, 3: 16, 4: 18, 5: 2, 6: 1}}"
      ]
     },
     "metadata": {},
     "execution_count": 93
    }
   ],
   "source": [
    "travel_amount_distr"
   ]
  },
  {
   "source": [
    "### Probability distribution"
   ],
   "cell_type": "markdown",
   "metadata": {}
  },
  {
   "cell_type": "code",
   "execution_count": 94,
   "metadata": {},
   "outputs": [],
   "source": [
    "for age_sex_comb, travel_amounts in travel_amount_distr.items():\n",
    "    travel_amounts_sum = np.array(list(travel_amounts.values())).sum()\n",
    "    if travel_amounts_sum != 0:\n",
    "        for i in list(travel_amount_distr[age_sex_comb].keys()):\n",
    "            travel_amount_distr[age_sex_comb][i] = travel_amount_distr[age_sex_comb][i] / travel_amounts_sum"
   ]
  },
  {
   "cell_type": "code",
   "execution_count": 95,
   "metadata": {},
   "outputs": [
    {
     "output_type": "stream",
     "name": "stdout",
     "text": [
      "16-19_K\t -  {0: 0.1941747572815534, 1: 0.019417475728155338, 2: 0.6699029126213593, 3: 0.038834951456310676, 4: 0.05825242718446602, 5: 0.009708737864077669, 6: 0.009708737864077669}\n16-19_M\t -  {0: 0.08148148148148149, 1: 0.02962962962962963, 2: 0.762962962962963, 3: 0.05925925925925926, 4: 0.044444444444444446, 5: 0.007407407407407408, 6: 0.014814814814814815}\n20-24_K\t -  {0: 0.15753424657534246, 1: 0.030821917808219176, 2: 0.6267123287671232, 3: 0.0958904109589041, 4: 0.07876712328767123, 5: 0.003424657534246575, 6: 0.00684931506849315}\n20-24_M\t -  {0: 0.19931271477663232, 1: 0.03436426116838488, 2: 0.5979381443298969, 3: 0.06872852233676977, 4: 0.07903780068728522, 5: 0.006872852233676976, 6: 0.013745704467353952}\n25-44_K\t -  {0: 0.16838487972508592, 1: 0.023195876288659795, 2: 0.6563573883161512, 3: 0.07216494845360824, 4: 0.06529209621993128, 5: 0.006872852233676976, 6: 0.007731958762886598}\n25-44_M\t -  {0: 0.15992647058823528, 1: 0.02297794117647059, 2: 0.7003676470588235, 3: 0.06341911764705882, 4: 0.042279411764705885, 5: 0.007352941176470588, 6: 0.003676470588235294}\n45-60_K\t -  {0: 0.20124223602484473, 1: 0.02360248447204969, 2: 0.6596273291925466, 3: 0.06086956521739131, 4: 0.043478260869565216, 5: 0.009937888198757764, 6: 0.0012422360248447205}\n45-65_M\t -  {0: 0.18851570964247022, 1: 0.0314192849404117, 2: 0.6890574214517876, 3: 0.044420368364030335, 4: 0.04225352112676056, 5: 0.0032502708559046588, 6: 0.0010834236186348862}\n6-15_K\t -  {0: 0.18085106382978725, 1: 0.010638297872340425, 2: 0.7154255319148937, 3: 0.026595744680851064, 4: 0.061170212765957445, 5: 0.0026595744680851063, 6: 0.0026595744680851063}\n6-15_M\t -  {0: 0.13745704467353953, 1: 0.01718213058419244, 2: 0.7663230240549829, 3: 0.03436426116838488, 4: 0.037800687285223365, 5: 0.003436426116838488, 6: 0.003436426116838488}\n61-x_K\t -  {0: 0.33589743589743587, 1: 0.023076923076923078, 2: 0.5863247863247864, 3: 0.018803418803418803, 4: 0.03076923076923077, 5: 0.004273504273504274, 6: 0.0008547008547008547}\n66-x_M\t -  {0: 0.3885542168674699, 1: 0.01355421686746988, 2: 0.5421686746987951, 3: 0.024096385542168676, 4: 0.02710843373493976, 5: 0.0030120481927710845, 6: 0.0015060240963855422}\n"
     ]
    }
   ],
   "source": [
    "for age_sex_comb, travel_amounts in travel_amount_distr.items():\n",
    "    print(age_sex_comb, end='\\t -  ')\n",
    "    print(travel_amounts)\n",
    "    \n",
    "# travel_amount_distr"
   ]
  },
  {
   "source": [
    "### Save probability distribution to .json"
   ],
   "cell_type": "markdown",
   "metadata": {}
  },
  {
   "cell_type": "code",
   "execution_count": 52,
   "metadata": {},
   "outputs": [],
   "source": [
    "out_dir = '../../data/processed/mc/travel_planning'\n",
    "\n",
    "if not os.path.exists(out_dir):\n",
    "    os.makedirs(out_dir)"
   ]
  },
  {
   "cell_type": "code",
   "execution_count": 53,
   "metadata": {},
   "outputs": [],
   "source": [
    "out_file = 'travels_num_dist.json'\n",
    "out_path = os.path.join(out_dir, out_file)\n",
    "\n",
    "with open(out_path, 'w') as f:\n",
    "    json.dump(travel_amount_distr, f)"
   ]
  },
  {
   "source": [
    "## Distribution: travel purpose grouped by combinations (age group + gender) and type of starting place"
   ],
   "cell_type": "markdown",
   "metadata": {}
  },
  {
   "source": [
    "### Prepare data"
   ],
   "cell_type": "markdown",
   "metadata": {}
  },
  {
   "cell_type": "code",
   "execution_count": 96,
   "metadata": {},
   "outputs": [
    {
     "output_type": "execute_result",
     "data": {
      "text/plain": [
       "171"
      ]
     },
     "metadata": {},
     "execution_count": 96
    }
   ],
   "source": [
    "data_grouped = data_filtered.groupby(['age_sex_comb', 'source', 'destination'])['destination'].count().reset_index(name='count')\n",
    "\n",
    "data_grouped.shape[0]"
   ]
  },
  {
   "cell_type": "code",
   "execution_count": 97,
   "metadata": {},
   "outputs": [
    {
     "output_type": "execute_result",
     "data": {
      "text/plain": [
       "  age_sex_comb source destination  count\n",
       "0      16-19_K    dom        inne     18\n",
       "1      16-19_K    dom       praca      6\n",
       "2      16-19_K    dom      szkoła     56\n",
       "3      16-19_K    dom    uczelnia     12\n",
       "4      16-19_K   inne         dom     17"
      ],
      "text/html": "<div>\n<style scoped>\n    .dataframe tbody tr th:only-of-type {\n        vertical-align: middle;\n    }\n\n    .dataframe tbody tr th {\n        vertical-align: top;\n    }\n\n    .dataframe thead th {\n        text-align: right;\n    }\n</style>\n<table border=\"1\" class=\"dataframe\">\n  <thead>\n    <tr style=\"text-align: right;\">\n      <th></th>\n      <th>age_sex_comb</th>\n      <th>source</th>\n      <th>destination</th>\n      <th>count</th>\n    </tr>\n  </thead>\n  <tbody>\n    <tr>\n      <th>0</th>\n      <td>16-19_K</td>\n      <td>dom</td>\n      <td>inne</td>\n      <td>18</td>\n    </tr>\n    <tr>\n      <th>1</th>\n      <td>16-19_K</td>\n      <td>dom</td>\n      <td>praca</td>\n      <td>6</td>\n    </tr>\n    <tr>\n      <th>2</th>\n      <td>16-19_K</td>\n      <td>dom</td>\n      <td>szkoła</td>\n      <td>56</td>\n    </tr>\n    <tr>\n      <th>3</th>\n      <td>16-19_K</td>\n      <td>dom</td>\n      <td>uczelnia</td>\n      <td>12</td>\n    </tr>\n    <tr>\n      <th>4</th>\n      <td>16-19_K</td>\n      <td>inne</td>\n      <td>dom</td>\n      <td>17</td>\n    </tr>\n  </tbody>\n</table>\n</div>"
     },
     "metadata": {},
     "execution_count": 97
    }
   ],
   "source": [
    "data_grouped.head()"
   ]
  },
  {
   "cell_type": "code",
   "execution_count": 98,
   "metadata": {},
   "outputs": [],
   "source": [
    "# data_filtered[\n",
    "#     (data_filtered['age_sex_comb'] == '16-19_K') &\n",
    "#     (data_filtered['source'] == 'dom')\n",
    "# ]['destination'].value_counts()"
   ]
  },
  {
   "cell_type": "code",
   "execution_count": 99,
   "metadata": {},
   "outputs": [],
   "source": [
    "data_grouped['source'] = data_grouped['source'].str.replace('szkoła', 'szkola')\n",
    "data_grouped['destination'] = data_grouped['destination'].str.replace('szkoła', 'szkola')"
   ]
  },
  {
   "cell_type": "code",
   "execution_count": 100,
   "metadata": {},
   "outputs": [
    {
     "output_type": "execute_result",
     "data": {
      "text/plain": [
       "  age_sex_comb source destination  count\n",
       "0      16-19_K    dom        inne     18\n",
       "1      16-19_K    dom       praca      6\n",
       "2      16-19_K    dom      szkola     56\n",
       "3      16-19_K    dom    uczelnia     12\n",
       "4      16-19_K   inne         dom     17"
      ],
      "text/html": "<div>\n<style scoped>\n    .dataframe tbody tr th:only-of-type {\n        vertical-align: middle;\n    }\n\n    .dataframe tbody tr th {\n        vertical-align: top;\n    }\n\n    .dataframe thead th {\n        text-align: right;\n    }\n</style>\n<table border=\"1\" class=\"dataframe\">\n  <thead>\n    <tr style=\"text-align: right;\">\n      <th></th>\n      <th>age_sex_comb</th>\n      <th>source</th>\n      <th>destination</th>\n      <th>count</th>\n    </tr>\n  </thead>\n  <tbody>\n    <tr>\n      <th>0</th>\n      <td>16-19_K</td>\n      <td>dom</td>\n      <td>inne</td>\n      <td>18</td>\n    </tr>\n    <tr>\n      <th>1</th>\n      <td>16-19_K</td>\n      <td>dom</td>\n      <td>praca</td>\n      <td>6</td>\n    </tr>\n    <tr>\n      <th>2</th>\n      <td>16-19_K</td>\n      <td>dom</td>\n      <td>szkola</td>\n      <td>56</td>\n    </tr>\n    <tr>\n      <th>3</th>\n      <td>16-19_K</td>\n      <td>dom</td>\n      <td>uczelnia</td>\n      <td>12</td>\n    </tr>\n    <tr>\n      <th>4</th>\n      <td>16-19_K</td>\n      <td>inne</td>\n      <td>dom</td>\n      <td>17</td>\n    </tr>\n  </tbody>\n</table>\n</div>"
     },
     "metadata": {},
     "execution_count": 100
    }
   ],
   "source": [
    "data_grouped.head()"
   ]
  },
  {
   "source": [
    "### Distribution"
   ],
   "cell_type": "markdown",
   "metadata": {}
  },
  {
   "cell_type": "code",
   "execution_count": 104,
   "metadata": {},
   "outputs": [],
   "source": [
    "unique_age_sex_comb = data_grouped['age_sex_comb'].unique()\n",
    "unique_place_types = sorted(data_grouped['source'].unique())\n",
    "\n",
    "travel_purpose_distr = {}\n",
    "\n",
    "for age_sex_comb in unique_age_sex_comb:\n",
    "    travel_purpose_distr[age_sex_comb] = {}\n",
    "\n",
    "    for source_place_type in unique_place_types:\n",
    "        travel_purpose_distr[age_sex_comb][source_place_type] = {}\n",
    "\n",
    "        for destination_place_type in unique_place_types:\n",
    "            try:\n",
    "                count = int(data_grouped[\n",
    "                    (data_grouped['age_sex_comb'] == age_sex_comb) &\n",
    "                    (data_grouped['source'] == source_place_type) &\n",
    "                    (data_grouped['destination'] == destination_place_type)\n",
    "                ]['count'])\n",
    "            except TypeError:\n",
    "                count = 1\n",
    "\n",
    "            travel_purpose_distr[age_sex_comb][source_place_type][destination_place_type] = count"
   ]
  },
  {
   "cell_type": "code",
   "execution_count": 105,
   "metadata": {},
   "outputs": [
    {
     "output_type": "stream",
     "name": "stdout",
     "text": [
      "16-19_K  -  dom  \t{'dom': 1, 'inne': 18, 'praca': 6, 'szkola': 56, 'uczelnia': 12}\n16-19_K  -  inne  \t{'dom': 17, 'inne': 6, 'praca': 1, 'szkola': 2, 'uczelnia': 1}\n16-19_K  -  praca  \t{'dom': 5, 'inne': 1, 'praca': 1, 'szkola': 1, 'uczelnia': 1}\n16-19_K  -  szkola  \t{'dom': 55, 'inne': 3, 'praca': 1, 'szkola': 1, 'uczelnia': 1}\n16-19_K  -  uczelnia  \t{'dom': 11, 'inne': 1, 'praca': 1, 'szkola': 1, 'uczelnia': 1}\n16-19_M  -  dom  \t{'dom': 1, 'inne': 22, 'praca': 5, 'szkola': 92, 'uczelnia': 12}\n16-19_M  -  inne  \t{'dom': 31, 'inne': 5, 'praca': 1, 'szkola': 1, 'uczelnia': 1}\n16-19_M  -  praca  \t{'dom': 4, 'inne': 1, 'praca': 1, 'szkola': 1, 'uczelnia': 1}\n16-19_M  -  szkola  \t{'dom': 83, 'inne': 7, 'praca': 1, 'szkola': 1, 'uczelnia': 1}\n16-19_M  -  uczelnia  \t{'dom': 11, 'inne': 1, 'praca': 1, 'szkola': 1, 'uczelnia': 1}\n20-24_K  -  dom  \t{'dom': 2, 'inne': 82, 'praca': 53, 'szkola': 12, 'uczelnia': 135}\n20-24_K  -  inne  \t{'dom': 110, 'inne': 26, 'praca': 1, 'szkola': 1, 'uczelnia': 4}\n20-24_K  -  praca  \t{'dom': 50, 'inne': 5, 'praca': 1, 'szkola': 1, 'uczelnia': 1}\n20-24_K  -  szkola  \t{'dom': 11, 'inne': 1, 'praca': 1, 'szkola': 1, 'uczelnia': 1}\n20-24_K  -  uczelnia  \t{'dom': 107, 'inne': 29, 'praca': 3, 'szkola': 1, 'uczelnia': 1}\n20-24_M  -  dom  \t{'dom': 1, 'inne': 76, 'praca': 51, 'szkola': 8, 'uczelnia': 130}\n20-24_M  -  inne  \t{'dom': 88, 'inne': 18, 'praca': 3, 'szkola': 1, 'uczelnia': 2}\n20-24_M  -  praca  \t{'dom': 52, 'inne': 3, 'praca': 1, 'szkola': 1, 'uczelnia': 1}\n20-24_M  -  szkola  \t{'dom': 7, 'inne': 1, 'praca': 1, 'szkola': 1, 'uczelnia': 1}\n20-24_M  -  uczelnia  \t{'dom': 112, 'inne': 16, 'praca': 1, 'szkola': 1, 'uczelnia': 1}\n25-44_K  -  dom  \t{'dom': 3, 'inne': 339, 'praca': 600, 'szkola': 65, 'uczelnia': 24}\n25-44_K  -  inne  \t{'dom': 391, 'inne': 32, 'praca': 15, 'szkola': 2, 'uczelnia': 1}\n25-44_K  -  praca  \t{'dom': 555, 'inne': 59, 'praca': 8, 'szkola': 13, 'uczelnia': 1}\n25-44_K  -  szkola  \t{'dom': 55, 'inne': 6, 'praca': 19, 'szkola': 1, 'uczelnia': 1}\n25-44_K  -  uczelnia  \t{'dom': 19, 'inne': 5, 'praca': 1, 'szkola': 1, 'uczelnia': 1}\n25-44_M  -  dom  \t{'dom': 1, 'inne': 206, 'praca': 699, 'szkola': 18, 'uczelnia': 26}\n25-44_M  -  inne  \t{'dom': 257, 'inne': 24, 'praca': 7, 'szkola': 1, 'uczelnia': 1}\n25-44_M  -  praca  \t{'dom': 649, 'inne': 60, 'praca': 15, 'szkola': 3, 'uczelnia': 1}\n25-44_M  -  szkola  \t{'dom': 9, 'inne': 2, 'praca': 10, 'szkola': 1, 'uczelnia': 1}\n25-44_M  -  uczelnia  \t{'dom': 25, 'inne': 1, 'praca': 1, 'szkola': 1, 'uczelnia': 1}\n45-60_K  -  dom  \t{'dom': 2, 'inne': 282, 'praca': 371, 'szkola': 13, 'uczelnia': 1}\n45-60_K  -  inne  \t{'dom': 308, 'inne': 40, 'praca': 5, 'szkola': 1, 'uczelnia': 1}\n45-60_K  -  praca  \t{'dom': 335, 'inne': 35, 'praca': 6, 'szkola': 1, 'uczelnia': 1}\n45-60_K  -  szkola  \t{'dom': 9, 'inne': 2, 'praca': 4, 'szkola': 1, 'uczelnia': 1}\n45-60_K  -  uczelnia  \t{'dom': 1, 'inne': 1, 'praca': 1, 'szkola': 1, 'uczelnia': 1}\n45-65_M  -  dom  \t{'dom': 5, 'inne': 258, 'praca': 494, 'szkola': 9, 'uczelnia': 1}\n45-65_M  -  inne  \t{'dom': 279, 'inne': 30, 'praca': 9, 'szkola': 1, 'uczelnia': 1}\n45-65_M  -  praca  \t{'dom': 461, 'inne': 36, 'praca': 7, 'szkola': 1, 'uczelnia': 1}\n45-65_M  -  szkola  \t{'dom': 4, 'inne': 1, 'praca': 5, 'szkola': 1, 'uczelnia': 1}\n45-65_M  -  uczelnia  \t{'dom': 1, 'inne': 1, 'praca': 1, 'szkola': 1, 'uczelnia': 1}\n6-15_K  -  dom  \t{'dom': 1, 'inne': 48, 'praca': 1, 'szkola': 273, 'uczelnia': 1}\n6-15_K  -  inne  \t{'dom': 54, 'inne': 4, 'praca': 1, 'szkola': 3, 'uczelnia': 1}\n6-15_K  -  praca  \t{'dom': 1, 'inne': 1, 'praca': 1, 'szkola': 1, 'uczelnia': 1}\n6-15_K  -  szkola  \t{'dom': 266, 'inne': 9, 'praca': 1, 'szkola': 4, 'uczelnia': 1}\n6-15_K  -  uczelnia  \t{'dom': 1, 'inne': 1, 'praca': 1, 'szkola': 1, 'uczelnia': 1}\n6-15_M  -  dom  \t{'dom': 1, 'inne': 39, 'praca': 2, 'szkola': 216, 'uczelnia': 1}\n6-15_M  -  inne  \t{'dom': 51, 'inne': 5, 'praca': 1, 'szkola': 1, 'uczelnia': 1}\n6-15_M  -  praca  \t{'dom': 2, 'inne': 1, 'praca': 1, 'szkola': 1, 'uczelnia': 1}\n6-15_M  -  szkola  \t{'dom': 202, 'inne': 12, 'praca': 1, 'szkola': 1, 'uczelnia': 1}\n6-15_M  -  uczelnia  \t{'dom': 1, 'inne': 1, 'praca': 1, 'szkola': 1, 'uczelnia': 1}\n61-x_K  -  dom  \t{'dom': 3, 'inne': 717, 'praca': 70, 'szkola': 1, 'uczelnia': 1}\n61-x_K  -  inne  \t{'dom': 719, 'inne': 49, 'praca': 1, 'szkola': 1, 'uczelnia': 1}\n61-x_K  -  praca  \t{'dom': 66, 'inne': 4, 'praca': 2, 'szkola': 1, 'uczelnia': 1}\n61-x_K  -  szkola  \t{'dom': 1, 'inne': 1, 'praca': 1, 'szkola': 1, 'uczelnia': 1}\n61-x_K  -  uczelnia  \t{'dom': 1, 'inne': 1, 'praca': 1, 'szkola': 1, 'uczelnia': 1}\n66-x_M  -  dom  \t{'dom': 4, 'inne': 383, 'praca': 23, 'szkola': 1, 'uczelnia': 3}\n66-x_M  -  inne  \t{'dom': 379, 'inne': 41, 'praca': 1, 'szkola': 1, 'uczelnia': 1}\n66-x_M  -  praca  \t{'dom': 21, 'inne': 2, 'praca': 1, 'szkola': 1, 'uczelnia': 1}\n66-x_M  -  szkola  \t{'dom': 1, 'inne': 1, 'praca': 1, 'szkola': 1, 'uczelnia': 1}\n66-x_M  -  uczelnia  \t{'dom': 3, 'inne': 1, 'praca': 1, 'szkola': 1, 'uczelnia': 1}\n"
     ]
    }
   ],
   "source": [
    "for age_sex_comb, source_place_types in travel_purpose_distr.items():\n",
    "    for source_place_type, destination_place_types in source_place_types.items():\n",
    "        print(age_sex_comb, end='  -  ')\n",
    "        print(source_place_type, end='  \\t')\n",
    "        print(destination_place_types)\n",
    "\n",
    "# travel_purpose_distr"
   ]
  },
  {
   "source": [
    "### Probability distribution"
   ],
   "cell_type": "markdown",
   "metadata": {}
  },
  {
   "cell_type": "code",
   "execution_count": 106,
   "metadata": {},
   "outputs": [],
   "source": [
    "for age_sex_comb, source_place_types in travel_purpose_distr.items():\n",
    "    for source_place_type, destination_place_types in source_place_types.items():\n",
    "        count_sum = np.array(list(destination_place_types.values())).sum()\n",
    "        if count_sum != 0:\n",
    "            for i in list(travel_purpose_distr[age_sex_comb][source_place_type].keys()):\n",
    "                travel_purpose_distr[age_sex_comb][source_place_type][i] = travel_purpose_distr[age_sex_comb][source_place_type][i] / count_sum"
   ]
  },
  {
   "cell_type": "code",
   "execution_count": 107,
   "metadata": {},
   "outputs": [
    {
     "output_type": "stream",
     "name": "stdout",
     "text": [
      "16-19_K  -  dom  \t{'dom': 0.010752688172043012, 'inne': 0.1935483870967742, 'praca': 0.06451612903225806, 'szkola': 0.6021505376344086, 'uczelnia': 0.12903225806451613}\n16-19_K  -  inne  \t{'dom': 0.6296296296296297, 'inne': 0.2222222222222222, 'praca': 0.037037037037037035, 'szkola': 0.07407407407407407, 'uczelnia': 0.037037037037037035}\n16-19_K  -  praca  \t{'dom': 0.5555555555555556, 'inne': 0.1111111111111111, 'praca': 0.1111111111111111, 'szkola': 0.1111111111111111, 'uczelnia': 0.1111111111111111}\n16-19_K  -  szkola  \t{'dom': 0.9016393442622951, 'inne': 0.04918032786885246, 'praca': 0.01639344262295082, 'szkola': 0.01639344262295082, 'uczelnia': 0.01639344262295082}\n16-19_K  -  uczelnia  \t{'dom': 0.7333333333333333, 'inne': 0.06666666666666667, 'praca': 0.06666666666666667, 'szkola': 0.06666666666666667, 'uczelnia': 0.06666666666666667}\n16-19_M  -  dom  \t{'dom': 0.007575757575757576, 'inne': 0.16666666666666666, 'praca': 0.03787878787878788, 'szkola': 0.696969696969697, 'uczelnia': 0.09090909090909091}\n16-19_M  -  inne  \t{'dom': 0.7948717948717948, 'inne': 0.1282051282051282, 'praca': 0.02564102564102564, 'szkola': 0.02564102564102564, 'uczelnia': 0.02564102564102564}\n16-19_M  -  praca  \t{'dom': 0.5, 'inne': 0.125, 'praca': 0.125, 'szkola': 0.125, 'uczelnia': 0.125}\n16-19_M  -  szkola  \t{'dom': 0.8924731182795699, 'inne': 0.07526881720430108, 'praca': 0.010752688172043012, 'szkola': 0.010752688172043012, 'uczelnia': 0.010752688172043012}\n16-19_M  -  uczelnia  \t{'dom': 0.7333333333333333, 'inne': 0.06666666666666667, 'praca': 0.06666666666666667, 'szkola': 0.06666666666666667, 'uczelnia': 0.06666666666666667}\n20-24_K  -  dom  \t{'dom': 0.007042253521126761, 'inne': 0.2887323943661972, 'praca': 0.18661971830985916, 'szkola': 0.04225352112676056, 'uczelnia': 0.4753521126760563}\n20-24_K  -  inne  \t{'dom': 0.7746478873239436, 'inne': 0.18309859154929578, 'praca': 0.007042253521126761, 'szkola': 0.007042253521126761, 'uczelnia': 0.028169014084507043}\n20-24_K  -  praca  \t{'dom': 0.8620689655172413, 'inne': 0.08620689655172414, 'praca': 0.017241379310344827, 'szkola': 0.017241379310344827, 'uczelnia': 0.017241379310344827}\n20-24_K  -  szkola  \t{'dom': 0.7333333333333333, 'inne': 0.06666666666666667, 'praca': 0.06666666666666667, 'szkola': 0.06666666666666667, 'uczelnia': 0.06666666666666667}\n20-24_K  -  uczelnia  \t{'dom': 0.7588652482269503, 'inne': 0.20567375886524822, 'praca': 0.02127659574468085, 'szkola': 0.0070921985815602835, 'uczelnia': 0.0070921985815602835}\n20-24_M  -  dom  \t{'dom': 0.0037593984962406013, 'inne': 0.2857142857142857, 'praca': 0.19172932330827067, 'szkola': 0.03007518796992481, 'uczelnia': 0.48872180451127817}\n20-24_M  -  inne  \t{'dom': 0.7857142857142857, 'inne': 0.16071428571428573, 'praca': 0.026785714285714284, 'szkola': 0.008928571428571428, 'uczelnia': 0.017857142857142856}\n20-24_M  -  praca  \t{'dom': 0.896551724137931, 'inne': 0.05172413793103448, 'praca': 0.017241379310344827, 'szkola': 0.017241379310344827, 'uczelnia': 0.017241379310344827}\n20-24_M  -  szkola  \t{'dom': 0.6363636363636364, 'inne': 0.09090909090909091, 'praca': 0.09090909090909091, 'szkola': 0.09090909090909091, 'uczelnia': 0.09090909090909091}\n20-24_M  -  uczelnia  \t{'dom': 0.8549618320610687, 'inne': 0.12213740458015267, 'praca': 0.007633587786259542, 'szkola': 0.007633587786259542, 'uczelnia': 0.007633587786259542}\n25-44_K  -  dom  \t{'dom': 0.002909796314258002, 'inne': 0.3288069835111542, 'praca': 0.5819592628516004, 'szkola': 0.06304558680892337, 'uczelnia': 0.023278370514064017}\n25-44_K  -  inne  \t{'dom': 0.8866213151927438, 'inne': 0.07256235827664399, 'praca': 0.034013605442176874, 'szkola': 0.0045351473922902496, 'uczelnia': 0.0022675736961451248}\n25-44_K  -  praca  \t{'dom': 0.8726415094339622, 'inne': 0.09276729559748427, 'praca': 0.012578616352201259, 'szkola': 0.020440251572327043, 'uczelnia': 0.0015723270440251573}\n25-44_K  -  szkola  \t{'dom': 0.6707317073170732, 'inne': 0.07317073170731707, 'praca': 0.23170731707317074, 'szkola': 0.012195121951219513, 'uczelnia': 0.012195121951219513}\n25-44_K  -  uczelnia  \t{'dom': 0.7037037037037037, 'inne': 0.18518518518518517, 'praca': 0.037037037037037035, 'szkola': 0.037037037037037035, 'uczelnia': 0.037037037037037035}\n25-44_M  -  dom  \t{'dom': 0.0010526315789473684, 'inne': 0.2168421052631579, 'praca': 0.7357894736842105, 'szkola': 0.018947368421052633, 'uczelnia': 0.02736842105263158}\n25-44_M  -  inne  \t{'dom': 0.8862068965517241, 'inne': 0.08275862068965517, 'praca': 0.02413793103448276, 'szkola': 0.0034482758620689655, 'uczelnia': 0.0034482758620689655}\n25-44_M  -  praca  \t{'dom': 0.8914835164835165, 'inne': 0.08241758241758242, 'praca': 0.020604395604395604, 'szkola': 0.004120879120879121, 'uczelnia': 0.0013736263736263737}\n25-44_M  -  szkola  \t{'dom': 0.391304347826087, 'inne': 0.08695652173913043, 'praca': 0.43478260869565216, 'szkola': 0.043478260869565216, 'uczelnia': 0.043478260869565216}\n25-44_M  -  uczelnia  \t{'dom': 0.8620689655172413, 'inne': 0.034482758620689655, 'praca': 0.034482758620689655, 'szkola': 0.034482758620689655, 'uczelnia': 0.034482758620689655}\n45-60_K  -  dom  \t{'dom': 0.0029895366218236174, 'inne': 0.42152466367713004, 'praca': 0.554559043348281, 'szkola': 0.01943198804185351, 'uczelnia': 0.0014947683109118087}\n45-60_K  -  inne  \t{'dom': 0.8676056338028169, 'inne': 0.11267605633802817, 'praca': 0.014084507042253521, 'szkola': 0.0028169014084507044, 'uczelnia': 0.0028169014084507044}\n45-60_K  -  praca  \t{'dom': 0.8862433862433863, 'inne': 0.09259259259259259, 'praca': 0.015873015873015872, 'szkola': 0.0026455026455026454, 'uczelnia': 0.0026455026455026454}\n45-60_K  -  szkola  \t{'dom': 0.5294117647058824, 'inne': 0.11764705882352941, 'praca': 0.23529411764705882, 'szkola': 0.058823529411764705, 'uczelnia': 0.058823529411764705}\n45-60_K  -  uczelnia  \t{'dom': 0.2, 'inne': 0.2, 'praca': 0.2, 'szkola': 0.2, 'uczelnia': 0.2}\n45-65_M  -  dom  \t{'dom': 0.00651890482398957, 'inne': 0.3363754889178618, 'praca': 0.6440677966101694, 'szkola': 0.011734028683181226, 'uczelnia': 0.001303780964797914}\n45-65_M  -  inne  \t{'dom': 0.871875, 'inne': 0.09375, 'praca': 0.028125, 'szkola': 0.003125, 'uczelnia': 0.003125}\n45-65_M  -  praca  \t{'dom': 0.9110671936758893, 'inne': 0.07114624505928854, 'praca': 0.01383399209486166, 'szkola': 0.001976284584980237, 'uczelnia': 0.001976284584980237}\n45-65_M  -  szkola  \t{'dom': 0.3333333333333333, 'inne': 0.08333333333333333, 'praca': 0.4166666666666667, 'szkola': 0.08333333333333333, 'uczelnia': 0.08333333333333333}\n45-65_M  -  uczelnia  \t{'dom': 0.2, 'inne': 0.2, 'praca': 0.2, 'szkola': 0.2, 'uczelnia': 0.2}\n6-15_K  -  dom  \t{'dom': 0.0030864197530864196, 'inne': 0.14814814814814814, 'praca': 0.0030864197530864196, 'szkola': 0.8425925925925926, 'uczelnia': 0.0030864197530864196}\n6-15_K  -  inne  \t{'dom': 0.8571428571428571, 'inne': 0.06349206349206349, 'praca': 0.015873015873015872, 'szkola': 0.047619047619047616, 'uczelnia': 0.015873015873015872}\n6-15_K  -  praca  \t{'dom': 0.2, 'inne': 0.2, 'praca': 0.2, 'szkola': 0.2, 'uczelnia': 0.2}\n6-15_K  -  szkola  \t{'dom': 0.9466192170818505, 'inne': 0.03202846975088968, 'praca': 0.0035587188612099642, 'szkola': 0.014234875444839857, 'uczelnia': 0.0035587188612099642}\n6-15_K  -  uczelnia  \t{'dom': 0.2, 'inne': 0.2, 'praca': 0.2, 'szkola': 0.2, 'uczelnia': 0.2}\n6-15_M  -  dom  \t{'dom': 0.003861003861003861, 'inne': 0.15057915057915058, 'praca': 0.007722007722007722, 'szkola': 0.833976833976834, 'uczelnia': 0.003861003861003861}\n6-15_M  -  inne  \t{'dom': 0.864406779661017, 'inne': 0.0847457627118644, 'praca': 0.01694915254237288, 'szkola': 0.01694915254237288, 'uczelnia': 0.01694915254237288}\n6-15_M  -  praca  \t{'dom': 0.3333333333333333, 'inne': 0.16666666666666666, 'praca': 0.16666666666666666, 'szkola': 0.16666666666666666, 'uczelnia': 0.16666666666666666}\n6-15_M  -  szkola  \t{'dom': 0.9308755760368663, 'inne': 0.055299539170506916, 'praca': 0.004608294930875576, 'szkola': 0.004608294930875576, 'uczelnia': 0.004608294930875576}\n6-15_M  -  uczelnia  \t{'dom': 0.2, 'inne': 0.2, 'praca': 0.2, 'szkola': 0.2, 'uczelnia': 0.2}\n61-x_K  -  dom  \t{'dom': 0.003787878787878788, 'inne': 0.9053030303030303, 'praca': 0.08838383838383838, 'szkola': 0.0012626262626262627, 'uczelnia': 0.0012626262626262627}\n61-x_K  -  inne  \t{'dom': 0.9325551232166018, 'inne': 0.06355382619974059, 'praca': 0.0012970168612191958, 'szkola': 0.0012970168612191958, 'uczelnia': 0.0012970168612191958}\n61-x_K  -  praca  \t{'dom': 0.8918918918918919, 'inne': 0.05405405405405406, 'praca': 0.02702702702702703, 'szkola': 0.013513513513513514, 'uczelnia': 0.013513513513513514}\n61-x_K  -  szkola  \t{'dom': 0.2, 'inne': 0.2, 'praca': 0.2, 'szkola': 0.2, 'uczelnia': 0.2}\n61-x_K  -  uczelnia  \t{'dom': 0.2, 'inne': 0.2, 'praca': 0.2, 'szkola': 0.2, 'uczelnia': 0.2}\n66-x_M  -  dom  \t{'dom': 0.00966183574879227, 'inne': 0.9251207729468599, 'praca': 0.05555555555555555, 'szkola': 0.0024154589371980675, 'uczelnia': 0.007246376811594203}\n66-x_M  -  inne  \t{'dom': 0.8959810874704491, 'inne': 0.09692671394799054, 'praca': 0.002364066193853428, 'szkola': 0.002364066193853428, 'uczelnia': 0.002364066193853428}\n66-x_M  -  praca  \t{'dom': 0.8076923076923077, 'inne': 0.07692307692307693, 'praca': 0.038461538461538464, 'szkola': 0.038461538461538464, 'uczelnia': 0.038461538461538464}\n66-x_M  -  szkola  \t{'dom': 0.2, 'inne': 0.2, 'praca': 0.2, 'szkola': 0.2, 'uczelnia': 0.2}\n66-x_M  -  uczelnia  \t{'dom': 0.42857142857142855, 'inne': 0.14285714285714285, 'praca': 0.14285714285714285, 'szkola': 0.14285714285714285, 'uczelnia': 0.14285714285714285}\n"
     ]
    }
   ],
   "source": [
    "# travel_purpose_distr\n",
    "\n",
    "for age_sex_comb, source_place_types in travel_purpose_distr.items():\n",
    "    for source_place_type, destination_place_types in source_place_types.items():\n",
    "        print(age_sex_comb, end='  -  ')\n",
    "        print(source_place_type, end='  \\t')\n",
    "        print(destination_place_types)"
   ]
  },
  {
   "source": [
    "### Save probability distribution to .json"
   ],
   "cell_type": "markdown",
   "metadata": {}
  },
  {
   "cell_type": "code",
   "execution_count": 26,
   "metadata": {},
   "outputs": [],
   "source": [
    "out_dir = '../../data/processed/mc/travel_planning'\n",
    "\n",
    "if not os.path.exists(out_dir):\n",
    "    os.makedirs(out_dir)"
   ]
  },
  {
   "cell_type": "code",
   "execution_count": 27,
   "metadata": {},
   "outputs": [],
   "source": [
    "out_file = 'dest_type_dist.json'\n",
    "out_path = os.path.join(out_dir, out_file)\n",
    "\n",
    "with open(out_path, 'w') as f:\n",
    "    json.dump(travel_purpose_distr, f)"
   ]
  },
  {
   "source": [
    "## Distribution: travel start hour grouped by combinations (age group + gender) and type of destinaton place"
   ],
   "cell_type": "markdown",
   "metadata": {}
  },
  {
   "source": [
    "### Prepare data"
   ],
   "cell_type": "markdown",
   "metadata": {}
  },
  {
   "cell_type": "code",
   "execution_count": 108,
   "metadata": {},
   "outputs": [
    {
     "output_type": "execute_result",
     "data": {
      "text/plain": [
       "(14241, 13)"
      ]
     },
     "metadata": {},
     "execution_count": 108
    }
   ],
   "source": [
    "data_filtered.shape"
   ]
  },
  {
   "cell_type": "code",
   "execution_count": 109,
   "metadata": {},
   "outputs": [],
   "source": [
    "data_filtered = data_filtered[\n",
    "    data_filtered['travel_start_time'] != '0'\n",
    "]"
   ]
  },
  {
   "cell_type": "code",
   "execution_count": 110,
   "metadata": {},
   "outputs": [
    {
     "output_type": "execute_result",
     "data": {
      "text/plain": [
       "(12598, 13)"
      ]
     },
     "metadata": {},
     "execution_count": 110
    }
   ],
   "source": [
    "data_filtered.shape"
   ]
  },
  {
   "cell_type": "code",
   "execution_count": 111,
   "metadata": {},
   "outputs": [],
   "source": [
    "data_filtered['travel_start_hour'] = data_filtered['travel_start_time'].astype('str').apply(lambda x: x.split(':')[0])"
   ]
  },
  {
   "cell_type": "code",
   "execution_count": 112,
   "metadata": {},
   "outputs": [
    {
     "output_type": "execute_result",
     "data": {
      "text/plain": [
       "array(['09', '18', '19', '16', '12', '13', '06', '14', '05', '07', '08',\n",
       "       '15', '10', '11', '17', '20', '04', '21', '22', '23', '03', '01',\n",
       "       '00', '1899-12-30 00'], dtype=object)"
      ]
     },
     "metadata": {},
     "execution_count": 112
    }
   ],
   "source": [
    "data_filtered['travel_start_hour'].unique()"
   ]
  },
  {
   "cell_type": "code",
   "execution_count": 113,
   "metadata": {},
   "outputs": [
    {
     "output_type": "execute_result",
     "data": {
      "text/plain": [
       "array([ 9, 18, 19, 16, 12, 13,  6, 14,  5,  7,  8, 15, 10, 11, 17, 20,  4,\n",
       "       21, 22, 23,  3,  1,  0])"
      ]
     },
     "metadata": {},
     "execution_count": 113
    }
   ],
   "source": [
    "data_filtered = data_filtered[data_filtered['travel_start_hour'] != '1899-12-30 00']\n",
    "data_filtered['travel_start_hour'] = data_filtered['travel_start_hour'].astype('int')\n",
    "\n",
    "data_filtered['travel_start_hour'].unique()"
   ]
  },
  {
   "cell_type": "code",
   "execution_count": 119,
   "metadata": {},
   "outputs": [
    {
     "output_type": "execute_result",
     "data": {
      "text/plain": [
       "87"
      ]
     },
     "metadata": {},
     "execution_count": 119
    }
   ],
   "source": [
    "data_grouped = data_filtered.groupby(['destination', 'travel_start_hour'])['travel_start_hour'].count().reset_index(name='count')\n",
    "\n",
    "data_grouped.shape[0]"
   ]
  },
  {
   "cell_type": "code",
   "execution_count": 124,
   "metadata": {},
   "outputs": [],
   "source": [
    "data_grouped['destination'] = data_grouped['destination'].str.replace('szkoła', 'szkola')"
   ]
  },
  {
   "source": [
    "### Distribution"
   ],
   "cell_type": "markdown",
   "metadata": {}
  },
  {
   "cell_type": "code",
   "execution_count": 132,
   "metadata": {},
   "outputs": [],
   "source": [
    "unique_place_types = sorted(data_grouped['destination'].unique())\n",
    "\n",
    "start_hour_dist = {}\n",
    "\n",
    "for place_type in unique_place_types:\n",
    "    start_hour_dist[place_type] = {}\n",
    "\n",
    "    if place_type in ['uczelnia', 'szkola']:\n",
    "        min_hour = 6\n",
    "        max_hour = 19\n",
    "    else:\n",
    "        min_hour = 4\n",
    "        max_hour = 23\n",
    "\n",
    "    for hour in range(min_hour, max_hour+1):\n",
    "        try:\n",
    "            count = int(data_grouped[\n",
    "                (data_grouped['travel_start_hour'] == hour) & \n",
    "                (data_grouped['destination'] == place_type)\n",
    "            ]['count'])\n",
    "        except TypeError:\n",
    "            count = 1\n",
    "\n",
    "        start_hour_dist[place_type][hour] = count"
   ]
  },
  {
   "cell_type": "code",
   "execution_count": 136,
   "metadata": {},
   "outputs": [
    {
     "output_type": "stream",
     "name": "stdout",
     "text": [
      "dom -  {4: 1, 5: 2, 6: 5, 7: 36, 8: 65, 9: 135, 10: 192, 11: 284, 12: 368, 13: 442, 14: 699, 15: 814, 16: 924, 17: 680, 18: 522, 19: 341, 20: 189, 21: 99, 22: 76, 23: 19}\ninne -  {4: 3, 5: 18, 6: 54, 7: 152, 8: 201, 9: 331, 10: 409, 11: 302, 12: 217, 13: 175, 14: 158, 15: 229, 16: 259, 17: 248, 18: 162, 19: 94, 20: 19, 21: 13, 22: 4, 23: 1}\npraca -  {4: 25, 5: 182, 6: 567, 7: 864, 8: 468, 9: 162, 10: 46, 11: 37, 12: 27, 13: 52, 14: 16, 15: 9, 16: 10, 17: 9, 18: 7, 19: 2, 20: 2, 21: 11, 22: 1, 23: 1}\nszkola -  {6: 15, 7: 609, 8: 82, 9: 30, 10: 7, 11: 7, 12: 7, 13: 10, 14: 13, 15: 11, 16: 5, 17: 2, 18: 1, 19: 1}\nuczelnia -  {6: 8, 7: 102, 8: 96, 9: 68, 10: 42, 11: 12, 12: 8, 13: 6, 14: 3, 15: 3, 16: 3, 17: 2, 18: 1, 19: 1}\n"
     ]
    }
   ],
   "source": [
    "for place_type, hours in start_hour_dist.items():\n",
    "    print(place_type, end=' -  ')\n",
    "    print(hours)\n",
    "    \n",
    "# start_hour_dist"
   ]
  },
  {
   "source": [
    "### Probability distribution"
   ],
   "cell_type": "markdown",
   "metadata": {}
  },
  {
   "cell_type": "code",
   "execution_count": 137,
   "metadata": {},
   "outputs": [],
   "source": [
    "for place_type, hours in start_hour_dist.items():\n",
    "    hours_sum = np.array(list(hours.values())).sum()\n",
    "    if hours_sum != 0:\n",
    "        for i in list(start_hour_dist[place_type].keys()):\n",
    "            start_hour_dist[place_type][i] = start_hour_dist[place_type][i] / hours_sum"
   ]
  },
  {
   "cell_type": "code",
   "execution_count": 139,
   "metadata": {},
   "outputs": [
    {
     "output_type": "stream",
     "name": "stdout",
     "text": [
      "dom -  {4: 0.00016969285593076533, 5: 0.00033938571186153065, 6: 0.0008484642796538266, 7: 0.006108942813507551, 8: 0.011030035635499745, 9: 0.02290853555065332, 10: 0.03258102833870694, 11: 0.04819277108433735, 12: 0.06244697098252164, 13: 0.07500424232139827, 14: 0.11861530629560496, 15: 0.13812998472764296, 16: 0.15679619888002716, 17: 0.11539114203292042, 18: 0.08857967079585949, 19: 0.05786526387239097, 20: 0.03207194977091465, 21: 0.016799592737145767, 22: 0.012896657050738164, 23: 0.003224164262684541}\n\ninne -  {4: 0.0009839291571006887, 5: 0.005903574942604133, 6: 0.0177107248278124, 7: 0.0498524106264349, 8: 0.06592325352574614, 9: 0.10856018366677599, 10: 0.1341423417513939, 11: 0.09904886848146933, 12: 0.07117087569694983, 13: 0.05739586749754018, 14: 0.05182026894063627, 15: 0.07510659232535258, 16: 0.08494588389635946, 17: 0.08133814365365694, 18: 0.05313217448343719, 19: 0.03082978025582158, 20: 0.006231551328304362, 21: 0.004263693014102984, 22: 0.0013119055428009183, 23: 0.00032797638570022957}\n\npraca -  {4: 0.010008006405124099, 5: 0.07285828662930344, 6: 0.22698158526821458, 7: 0.3458767013610889, 8: 0.18734987990392313, 9: 0.06485188150520416, 10: 0.018414731785428344, 11: 0.014811849479583666, 12: 0.010808646917534028, 13: 0.020816653322658127, 14: 0.006405124099279423, 15: 0.003602882305844676, 16: 0.0040032025620496394, 17: 0.003602882305844676, 18: 0.0028022417934347476, 19: 0.0008006405124099279, 20: 0.0008006405124099279, 21: 0.004403522818254604, 22: 0.00040032025620496394, 23: 0.00040032025620496394}\n\nszkola -  {6: 0.01875, 7: 0.76125, 8: 0.1025, 9: 0.0375, 10: 0.00875, 11: 0.00875, 12: 0.00875, 13: 0.0125, 14: 0.01625, 15: 0.01375, 16: 0.00625, 17: 0.0025, 18: 0.00125, 19: 0.00125}\n\nuczelnia -  {6: 0.022535211267605635, 7: 0.28732394366197184, 8: 0.2704225352112676, 9: 0.19154929577464788, 10: 0.11830985915492957, 11: 0.03380281690140845, 12: 0.022535211267605635, 13: 0.016901408450704224, 14: 0.008450704225352112, 15: 0.008450704225352112, 16: 0.008450704225352112, 17: 0.005633802816901409, 18: 0.0028169014084507044, 19: 0.0028169014084507044}\n\n"
     ]
    }
   ],
   "source": [
    "for place_type, hours in start_hour_dist.items():\n",
    "    print(place_type, end=' -  ')\n",
    "    print(hours, end='\\n\\n')\n",
    "    \n",
    "# start_hour_dist"
   ]
  },
  {
   "source": [
    "### Save probability distribution to .json"
   ],
   "cell_type": "markdown",
   "metadata": {}
  },
  {
   "cell_type": "code",
   "execution_count": 140,
   "metadata": {},
   "outputs": [],
   "source": [
    "out_dir = '../../data/processed/mc/travel_planning'\n",
    "\n",
    "if not os.path.exists(out_dir):\n",
    "    os.makedirs(out_dir)"
   ]
  },
  {
   "cell_type": "code",
   "execution_count": 141,
   "metadata": {},
   "outputs": [],
   "source": [
    "out_file = 'start_hour_dist.json'\n",
    "out_path = os.path.join(out_dir, out_file)\n",
    "\n",
    "with open(out_path, 'w') as f:\n",
    "    json.dump(start_hour_dist, f)"
   ]
  },
  {
   "cell_type": "code",
   "execution_count": null,
   "metadata": {},
   "outputs": [],
   "source": []
  }
 ]
}