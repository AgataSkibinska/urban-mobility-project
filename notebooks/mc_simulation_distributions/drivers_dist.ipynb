{
 "metadata": {
  "language_info": {
   "codemirror_mode": {
    "name": "ipython",
    "version": 3
   },
   "file_extension": ".py",
   "mimetype": "text/x-python",
   "name": "python",
   "nbconvert_exporter": "python",
   "pygments_lexer": "ipython3",
   "version": "3.8.2-final"
  },
  "orig_nbformat": 2,
  "kernelspec": {
   "name": "python3",
   "display_name": "Python 3",
   "language": "python"
  }
 },
 "nbformat": 4,
 "nbformat_minor": 2,
 "cells": [
  {
   "cell_type": "code",
   "execution_count": 1,
   "metadata": {},
   "outputs": [],
   "source": [
    "import json\n",
    "import os\n",
    "\n",
    "import numpy as np\n",
    "import pandas as pd\n",
    "from tqdm import tqdm\n",
    "\n",
    "tqdm.pandas()\n",
    "pd.options.display.max_columns = None"
   ]
  },
  {
   "source": [
    "## Load excel file"
   ],
   "cell_type": "markdown",
   "metadata": {}
  },
  {
   "cell_type": "code",
   "execution_count": 2,
   "metadata": {},
   "outputs": [
    {
     "output_type": "stream",
     "name": "stdout",
     "text": [
      "All column names are unique.\n"
     ]
    }
   ],
   "source": [
    "kbr_data_path = '../../data/raw/KBR/'\n",
    "kbr_dir_path = '1_Ankiety_w_gospodarstwach_domowych/'\n",
    "kbr_file_path = 'Etap_V_1_1_Ankiety_w_gospodarstwach_domowych_Wroclaw.xlsx'\n",
    "excel_sheet = 'Wrocław_ankiety+podróże'\n",
    "\n",
    "data = pd.read_excel(os.path.join(kbr_data_path, kbr_dir_path, kbr_file_path), excel_sheet, header=[0,1], engine='openpyxl')\n",
    "\n",
    "data.columns = [f'{i}_{j}' for i, j in data.columns]\n",
    "data = data.iloc[0:14241]\n",
    "\n",
    "if data.shape[1] == len(set(list(data.columns))):\n",
    "    print('All column names are unique.')\n",
    "else:\n",
    "    print('All column names are NOT unique.')"
   ]
  },
  {
   "cell_type": "code",
   "execution_count": 3,
   "metadata": {},
   "outputs": [
    {
     "output_type": "execute_result",
     "data": {
      "text/plain": [
       "ia pojazdów elektrycznych   [Inne]  \\\n",
       "0                                                NaN                                    \n",
       "1                                                NaN                                    \n",
       "2                                                NaN                                    \n",
       "3                                                NaN                                    \n",
       "4                                                NaN                                    \n",
       "\n",
       "   PRZEMIESZCZENIE 6_Przyczyna dla [C]: Carpooling  \\\n",
       "0                                              NaN   \n",
       "1                                              NaN   \n",
       "2                                              NaN   \n",
       "3                                              NaN   \n",
       "4                                              NaN   \n",
       "\n",
       "   PRZEMIESZCZENIE 6_Przyczyna dla [C]: Carpooling [Inne]  \\\n",
       "0                                                NaN        \n",
       "1                                                NaN        \n",
       "2                                                NaN        \n",
       "3                                                NaN        \n",
       "4                                                NaN        \n",
       "\n",
       "   PRZEMIESZCZENIE 6_Przyczyna dla [P] Przemieszczenie piesze.1  \\\n",
       "0                                                NaN              \n",
       "1                                                NaN              \n",
       "2                                                NaN              \n",
       "3                                                NaN              \n",
       "4                                                NaN              \n",
       "\n",
       "   PRZEMIESZCZENIE 6_Przyczyna dla [P] Przemieszczenie piesze [Inne].1  \\\n",
       "0                                                NaN                     \n",
       "1                                                NaN                     \n",
       "2                                                NaN                     \n",
       "3                                                NaN                     \n",
       "4                                                NaN                     \n",
       "\n",
       "   PRZEMIESZCZENIE 6_Przyczyna dla [R] Przemieszczenie rowerem.1  \\\n",
       "0                                                NaN               \n",
       "1                                                NaN               \n",
       "2                                                NaN               \n",
       "3                                                NaN               \n",
       "4                                                NaN               \n",
       "\n",
       "   PRZEMIESZCZENIE 6_Przyczyna dla [R] Przemieszczenie rowerem [Inne].1  \\\n",
       "0                                                NaN                      \n",
       "1                                                NaN                      \n",
       "2                                                NaN                      \n",
       "3                                                NaN                      \n",
       "4                                                NaN                      \n",
       "\n",
       "   PRZEMIESZCZENIE 6_Przyczyna dla [SOK, SOP, M] Samochód, motor .1  \\\n",
       "0                                                NaN                  \n",
       "1                                                NaN                  \n",
       "2                                                NaN                  \n",
       "3                                                NaN                  \n",
       "4                                                NaN                  \n",
       "\n",
       "   PRZEMIESZCZENIE 6_Przyczyna dla [SOK, SOP, M] Samochód, motor  [Inne].1  \\\n",
       "0                                                NaN                         \n",
       "1                                                NaN                         \n",
       "2                                                NaN                         \n",
       "3                                                NaN                         \n",
       "4                                                NaN                         \n",
       "\n",
       "   PRZEMIESZCZENIE 6_Przyczyna dla [KW, KZ , T,  PO] Komunikacja zbiorowa .1  \\\n",
       "0                                                NaN                           \n",
       "1                                                NaN                           \n",
       "2                                                NaN                           \n",
       "3                                                NaN                           \n",
       "4                                                NaN                           \n",
       "\n",
       "   PRZEMIESZCZENIE 6_Przyczyna dla [KW, KZ , T,  PO] Komunikacja zbiorowa  [Inne].1  \\\n",
       "0                                                NaN                                  \n",
       "1                                                NaN                                  \n",
       "2                                                NaN                                  \n",
       "3                                                NaN                                  \n",
       "4                                                NaN                                  \n",
       "\n",
       "   PRZEMIESZCZENIE 6_Przyczyna dla [E]: Wypożyczalnia pojazdów elektrycznych  .1  \\\n",
       "0                                                NaN                               \n",
       "1                                                NaN                               \n",
       "2                                                NaN                               \n",
       "3                                                NaN                               \n",
       "4                                                NaN                               \n",
       "\n",
       "   PRZEMIESZCZENIE 6_Przyczyna dla [E]: Wypożyczalnia pojazdów elektrycznych   [Inne].1  \\\n",
       "0                                                NaN                                      \n",
       "1                                                NaN                                      \n",
       "2                                                NaN                                      \n",
       "3                                                NaN                                      \n",
       "4                                                NaN                                      \n",
       "\n",
       "   PRZEMIESZCZENIE 6_Przyczyna dla [C]: Carpooling.1  \\\n",
       "0                                                NaN   \n",
       "1                                                NaN   \n",
       "2                                                NaN   \n",
       "3                                                NaN   \n",
       "4                                                NaN   \n",
       "\n",
       "   PRZEMIESZCZENIE 6_Przyczyna dla [C]: Carpooling [Inne].1  \\\n",
       "0                                                NaN          \n",
       "1                                                NaN          \n",
       "2                                                NaN          \n",
       "3                                                NaN          \n",
       "4                                                NaN          \n",
       "\n",
       "  PRZEMIESZCZENIE 6_Godzina zakończenia jazdy/dojścia (gg:mm:ss)  \\\n",
       "0                                               None               \n",
       "1                                               None               \n",
       "2                                               None               \n",
       "3                                               None               \n",
       "4                                               None               \n",
       "\n",
       "   DANE DO STATYSTYK_Liczba przemieszczeń DANE DO STATYSTYK_środek transportu  \\\n",
       "0                                     1.0                sam. osobowy pasażer   \n",
       "1                                     1.0                sam. osobowy pasażer   \n",
       "2                                     0.0                                 NaN   \n",
       "3                                     0.0                                 NaN   \n",
       "4                                     0.0                                 NaN   \n",
       "\n",
       "  DANE DO STATYSTYK_typ podróży DANE DO STATYSTYK_czas trwania podróży  \\\n",
       "0                     niepiesze                               00:10:00   \n",
       "1                     niepiesze                               00:10:00   \n",
       "2                           NaN                                    NaN   \n",
       "3                           NaN                                    NaN   \n",
       "4                           NaN                                    NaN   \n",
       "\n",
       "  23:59:00_środek transportu podgrupa 23:59:00_środek transportu grupa  \\\n",
       "0                sam. osobowy pasażer          komunikacja samochodowa   \n",
       "1                sam. osobowy pasażer          komunikacja samochodowa   \n",
       "2                                 NaN                              NaN   \n",
       "3                                 NaN                              NaN   \n",
       "4                                 NaN                              NaN   \n",
       "\n",
       "  23:59:00_pora dnia 23:59:00_motywacje 23:59:00_motywacje grupy  \\\n",
       "0          9:00-9:59           dom-Inne                 dom-Inne   \n",
       "1          9:00-9:59           Inne-dom                 Inne-dom   \n",
       "2                NaN                  -                      NaN   \n",
       "3                NaN                  -                      NaN   \n",
       "4                NaN                  -                      NaN   \n",
       "\n",
       "  23:59:00_ŚT_pom  Przemieszczenie 1_rodzaj autobusu  \\\n",
       "0             NaN                                NaN   \n",
       "1             NaN                                NaN   \n",
       "2             NaN                                NaN   \n",
       "3             NaN                                NaN   \n",
       "4             NaN                                NaN   \n",
       "\n",
       "  Przemieszczenie 2_rodzaj autobusu Przemieszczenie 3_rodzaj autobusu  \\\n",
       "0                               NaN                               NaN   \n",
       "1                               NaN                               NaN   \n",
       "2                               NaN                               NaN   \n",
       "3                               NaN                               NaN   \n",
       "4                               NaN                               NaN   \n",
       "\n",
       "  Przemieszczenie 4_rodzaj autobusu Przemieszczenie 5_rodzaj autobusu  \\\n",
       "0                               NaN                               NaN   \n",
       "1                               NaN                               NaN   \n",
       "2                               NaN                               NaN   \n",
       "3                               NaN                               NaN   \n",
       "4                               NaN                               NaN   \n",
       "\n",
       "   Przemieszczenie 5_liczba przesiadek  \\\n",
       "0                                  0.0   \n",
       "1                                  0.0   \n",
       "2                                  NaN   \n",
       "3                                  NaN   \n",
       "4                                  NaN   \n",
       "\n",
       "   Przemieszczenie 5_przemieszczenie 1\\npiesze [1]/niepiesze[0]  \\\n",
       "0                                                1.0              \n",
       "1                                                1.0              \n",
       "2                                                NaN              \n",
       "3                                                NaN              \n",
       "4                                                NaN              \n",
       "\n",
       "   Przemieszczenie 5_przemieszczenie 2\\npiesze [1]/niepiesze[0]  \\\n",
       "0                                                NaN              \n",
       "1                                                NaN              \n",
       "2                                                NaN              \n",
       "3                                                NaN              \n",
       "4                                                NaN              \n",
       "\n",
       "   Przemieszczenie 5_przemieszczenie 3\\npiesze [1]/niepiesze[0]  \\\n",
       "0                                                NaN              \n",
       "1                                                NaN              \n",
       "2                                                NaN              \n",
       "3                                                NaN              \n",
       "4                                                NaN              \n",
       "\n",
       "   Przemieszczenie 5_przemieszczenie 4\\npiesze [1]/niepiesze[0]  \\\n",
       "0                                                NaN              \n",
       "1                                                NaN              \n",
       "2                                                NaN              \n",
       "3                                                NaN              \n",
       "4                                                NaN              \n",
       "\n",
       "   Przemieszczenie 5_przemieszczenie 5\\npiesze [1]/niepiesze[0]  \\\n",
       "0                                                NaN              \n",
       "1                                                NaN              \n",
       "2                                                NaN              \n",
       "3                                                NaN              \n",
       "4                                                NaN              \n",
       "\n",
       "   Przemieszczenie 5_przemieszczenie 6\\npiesze [1]/niepiesze[0]  \\\n",
       "0                                                NaN              \n",
       "1                                                NaN              \n",
       "2                                                NaN              \n",
       "3                                                NaN              \n",
       "4                                                NaN              \n",
       "\n",
       "   Przemieszczenie 5_liczba przesiadek.1  \\\n",
       "0                                    0.0   \n",
       "1                                    0.0   \n",
       "2                                    NaN   \n",
       "3                                    NaN   \n",
       "4                                    NaN   \n",
       "\n",
       "  Przemieszczenie 5_przemieszczenie 1\\nKomunikacja zbiorowa [KZ]  \\\n",
       "0                                                nie               \n",
       "1                                                nie               \n",
       "2                                                NaN               \n",
       "3                                                NaN               \n",
       "4                                                NaN               \n",
       "\n",
       "  Przemieszczenie 5_przemieszczenie 2\\nKomunikacja zbiorowa [KZ]  \\\n",
       "0                                                nie               \n",
       "1                                                nie               \n",
       "2                                                NaN               \n",
       "3                                                NaN               \n",
       "4                                                NaN               \n",
       "\n",
       "  Przemieszczenie 5_przemieszczenie 3\\nKomunikacja zbiorowa [KZ]  \\\n",
       "0                                                nie               \n",
       "1                                                nie               \n",
       "2                                                NaN               \n",
       "3                                                NaN               \n",
       "4                                                NaN               \n",
       "\n",
       "  Przemieszczenie 5_przemieszczenie 4\\nKomunikacja zbiorowa [KZ]  \\\n",
       "0                                                nie               \n",
       "1                                                nie               \n",
       "2                                                NaN               \n",
       "3                                                NaN               \n",
       "4                                                NaN               \n",
       "\n",
       "  Przemieszczenie 5_przemieszczenie 5\\nKomunikacja zbiorowa [KZ]  \\\n",
       "0                                                nie               \n",
       "1                                                nie               \n",
       "2                                                NaN               \n",
       "3                                                NaN               \n",
       "4                                                NaN               \n",
       "\n",
       "  Przemieszczenie 5_przemieszczenie 6\\nKomunikacja zbiorowa [KZ]  \\\n",
       "0                                                nie               \n",
       "1                                                nie               \n",
       "2                                                NaN               \n",
       "3                                                NaN               \n",
       "4                                                NaN               \n",
       "\n",
       "  Przemieszczenie 5_Czy w przemieszczeniu wystąpiło przemieszczenie KZ?  \\\n",
       "0                                                nie                      \n",
       "1                                                nie                      \n",
       "2                                                nie                      \n",
       "3                                                nie                      \n",
       "4                                                nie                      \n",
       "\n",
       "   Przemieszczenie 5_Liczba przesiadek\\n[komunikacja zbiorowa]  \\\n",
       "0                                                0.0             \n",
       "1                                                0.0             \n",
       "2                                                NaN             \n",
       "3                                                NaN             \n",
       "4                                                NaN             \n",
       "\n",
       "  Przemieszczenie 1_czas dojścia Przemieszczenie 2_czas dojścia  \\\n",
       "0                            NaN                            NaN   \n",
       "1                            NaN                            NaN   \n",
       "2                            NaN                            NaN   \n",
       "3                            NaN                            NaN   \n",
       "4                            NaN                            NaN   \n",
       "\n",
       "  Przemieszczenie 3_czas dojścia Przemieszczenie 4_czas dojścia  \\\n",
       "0                            NaN                            NaN   \n",
       "1                            NaN                            NaN   \n",
       "2                            NaN                            NaN   \n",
       "3                            NaN                            NaN   \n",
       "4                            NaN                            NaN   \n",
       "\n",
       "  Przemieszczenie 5_czas dojścia Przemieszczenie 1_czas ogólnie  \\\n",
       "0                            NaN                            NaN   \n",
       "1                            NaN                            NaN   \n",
       "2                            NaN                            NaN   \n",
       "3                            NaN                            NaN   \n",
       "4                            NaN                            NaN   \n",
       "\n",
       "  Przemieszczenie 2_czas ogólnie Przemieszczenie 3_czas ogólnie  \\\n",
       "0                            NaN                            NaN   \n",
       "1                            NaN                            NaN   \n",
       "2                            NaN                            NaN   \n",
       "3                            NaN                            NaN   \n",
       "4                            NaN                            NaN   \n",
       "\n",
       "  Przemieszczenie 4_czas ogólnie Przemieszczenie 5_czas ogólnie  \\\n",
       "0                            NaN                            NaN   \n",
       "1                            NaN                            NaN   \n",
       "2                            NaN                            NaN   \n",
       "3                            NaN                            NaN   \n",
       "4                            NaN                            NaN   \n",
       "\n",
       "   Przemieszczenie 5_c  Przemieszczenie 5_00:05:00  \\\n",
       "0                  0.0                         NaN   \n",
       "1                  1.0                         NaN   \n",
       "2                  NaN                         NaN   \n",
       "3                  NaN                         NaN   \n",
       "4                  NaN                         NaN   \n",
       "\n",
       "   12290.267442599752_współczynnik korygujący  \\\n",
       "0                                        0.80   \n",
       "1                                        0.80   \n",
       "2                                        0.25   \n",
       "3                                        0.25   \n",
       "4                                        0.80   \n",
       "\n",
       "  12290.267442599752_Numer rejonu zagregowanego  \\\n",
       "0                                            67   \n",
       "1                                            67   \n",
       "2                                            67   \n",
       "3                                            67   \n",
       "4                                            67   \n",
       "\n",
       "                   12290.267442599752_a 12290.267442599752_b  \\\n",
       "0  komunikacja zbiorowa poza Wrocławiem                   KZ   \n",
       "1     komunikacja zbiorowa we Wrocławiu                   KZ   \n",
       "2                                pociąg                   KZ   \n",
       "3                               tramwaj                   KZ   \n",
       "4                                   NaN                  NaN   \n",
       "\n",
       "   12290.267442599752_średnie napełnienie 12290.267442599752_motywacje grupy  \n",
       "0                                     2.0                           dom-Inne  \n",
       "1                                     2.0                           Inne-dom  \n",
       "2                                     NaN                                NaN  \n",
       "3                                     NaN                                NaN  \n",
       "4                                     NaN                                NaN  "
      ],
      "text/html": "<div>\n<style scoped>\n    .dataframe tbody tr th:only-of-type {\n        vertical-align: middle;\n    }\n\n    .dataframe tbody tr th {\n        vertical-align: top;\n    }\n\n    .dataframe thead th {\n        text-align: right;\n    }\n</style>\n<table border=\"1\" class=\"dataframe\">\n  <thead>\n    <tr style=\"text-align: right;\">\n      <th></th>\n      <th>Lp_Lp</th>\n      <th>IDENTYFIKACJA ANKIETY_ID_LOS (numer kwestionariusza)</th>\n      <th>IDENTYFIKACJA ANKIETY_Nr ankietera</th>\n      <th>IDENTYFIKACJA ANKIETY_Data wypełnienia kwestionariusza</th>\n      <th>IDENTYFIKACJA ANKIETY_Godzina wypełnienia kwestionariusza</th>\n      <th>IDENTYFIKACJA ANKIETY_Nr rejonu komunikacyjnego</th>\n      <th>PREFERENCJE DOT. MOBILNOŚCI MIEJSKIEJ_Wprowadzenie opłat za wjazd do centrum dla wszystkich pojazdów</th>\n      <th>PREFERENCJE DOT. MOBILNOŚCI MIEJSKIEJ_Dopuszczenie dojazdu do centrum dla pojazdów, które nie zanieczyszczają środowiska (np. pojazdy elektryczne, hybrydowe lub spełniające najwyższe normy spalania)</th>\n      <th>PREFERENCJE DOT. MOBILNOŚCI MIEJSKIEJ_Jaka jest Pana/Pani opinia na temat rozwiązań wspierających kursowanie tramwajów i autobusów, takich jak priorytet przejazdu na skrzyżowaniach oraz wydzielone pasy na jezdniach?</th>\n      <th>PREFERENCJE DOT. MOBILNOŚCI MIEJSKIEJ_Z jakiego środka transportu zbiorowego korzysta Pan/Pani najczęściej?</th>\n      <th>PREFERENCJE DOT. MOBILNOŚCI MIEJSKIEJ_Dlaczego? \\n[tramwaj/autobus]</th>\n      <th>PREFERENCJE DOT. MOBILNOŚCI MIEJSKIEJ_Dlaczego? [Inne]\\n[tramwaj/autobus]</th>\n      <th>PREFERENCJE DOT. MOBILNOŚCI MIEJSKIEJ_Jaka jest Pana/Pani opinia na temat rozwoju systemu kolei aglomeracyjnej na terenie Wrocławia i wokół niego (rozbudowa układu torowego, zwiększenie częstotliwości itd.)?</th>\n      <th>PREFERENCJE DOT. MOBILNOŚCI MIEJSKIEJ_Jak Pan/Pani ocenia wygodę jazdy pojazdami komunikacji zbiorowej?</th>\n      <th>PREFERENCJE DOT. MOBILNOŚCI MIEJSKIEJ_Jak Pan/Pani ocenia czystość taboru komunikacji zbiorowej we Wrocławiu?</th>\n      <th>PREFERENCJE DOT. MOBILNOŚCI MIEJSKIEJ_Jak Pan/Pani ocenia punktualność komunikacji zbiorowej we Wrocławiu?</th>\n      <th>PREFERENCJE DOT. MOBILNOŚCI MIEJSKIEJ_Jak ocenia Pan/Pani efekty dotychczasowych działań związanych z rozbudową systemu rowerowego we Wrocławiu (dróg i parkingów rowerowych)?</th>\n      <th>PREFERENCJE DOT. MOBILNOŚCI MIEJSKIEJ_Jakie elementy stanowią dla Pana/Pani największa uciążliwość w codziennych podróżach pieszych po Wrocławiu (można wskazać maksymalnie 3 odpowiedzi) [niekorzystne ustawienia sygnalizacji świetlnej]</th>\n      <th>PREFERENCJE DOT. MOBILNOŚCI MIEJSKIEJ_Jakie elementy stanowią dla Pana/Pani największa uciążliwość w codziennych podróżach pieszych po Wrocławiu (można wskazać maksymalnie 3 odpowiedzi) [brak chodników i konieczność poruszania się jezdnią/poboczem/wydeptaną ścieżką]</th>\n      <th>PREFERENCJE DOT. MOBILNOŚCI MIEJSKIEJ_Jakie elementy stanowią dla Pana/Pani największa uciążliwość w codziennych podróżach pieszych po Wrocławiu (można wskazać maksymalnie 3 odpowiedzi) [zły stan nawierzchni chodników]</th>\n      <th>PREFERENCJE DOT. MOBILNOŚCI MIEJSKIEJ_Jakie elementy stanowią dla Pana/Pani największa uciążliwość w codziennych podróżach pieszych po Wrocławiu (można wskazać maksymalnie 3 odpowiedzi) [zastawianie chodników przez parkujące samochody]</th>\n      <th>PREFERENCJE DOT. MOBILNOŚCI MIEJSKIEJ_Jakie elementy stanowią dla Pana/Pani największa uciążliwość w codziennych podróżach pieszych po Wrocławiu (można wskazać maksymalnie 3 odpowiedzi) [niebezpieczne zachowania kierowców]</th>\n      <th>PREFERENCJE DOT. MOBILNOŚCI MIEJSKIEJ_Jakie elementy stanowią dla Pana/Pani największa uciążliwość w codziennych podróżach pieszych po Wrocławiu (można wskazać maksymalnie 3 odpowiedzi) [zagrożenie ze strony rowerzystów poruszających się chodnikami]</th>\n      <th>PREFERENCJE DOT. MOBILNOŚCI MIEJSKIEJ_Jakie elementy stanowią dla Pana/Pani największa uciążliwość w codziennych podróżach pieszych po Wrocławiu (można wskazać maksymalnie 3 odpowiedzi) [zbyt wysokie krawężniki]</th>\n      <th>PREFERENCJE DOT. MOBILNOŚCI MIEJSKIEJ_Jakie elementy stanowią dla Pana/Pani największa uciążliwość w codziennych podróżach pieszych po Wrocławiu (można wskazać maksymalnie 3 odpowiedzi) [brak bieżącego utrzymania czystości/odśnieżania]</th>\n      <th>PREFERENCJE DOT. MOBILNOŚCI MIEJSKIEJ_Jakie elementy stanowią dla Pana/Pani największa uciążliwość w codziennych podróżach pieszych po Wrocławiu (można wskazać maksymalnie 3 odpowiedzi) [niewystarczająca liczba przejść dla pieszych]</th>\n      <th>PREFERENCJE DOT. MOBILNOŚCI MIEJSKIEJ_Jakie elementy stanowią dla Pana/Pani największa uciążliwość w codziennych podróżach pieszych po Wrocławiu (można wskazać maksymalnie 3 odpowiedzi) [brak miejsc wypoczynku na trasie dojścia (np. ławki, zieleń)]</th>\n      <th>PREFERENCJE DOT. MOBILNOŚCI MIEJSKIEJ_Jakie elementy stanowią dla Pana/Pani największa uciążliwość w codziennych podróżach pieszych po Wrocławiu (można wskazać maksymalnie 3 odpowiedzi) [uciążliwy ruch kołowy]</th>\n      <th>PREFERENCJE DOT. MOBILNOŚCI MIEJSKIEJ_Jakie elementy stanowią dla Pana/Pani największa uciążliwość w codziennych podróżach pieszych po Wrocławiu (można wskazać maksymalnie 3 odpowiedzi) [niewłaściwe oświetlenie ciągów pieszych]</th>\n      <th>PREFERENCJE DOT. MOBILNOŚCI MIEJSKIEJ_Jakie elementy stanowią dla Pana/Pani największa uciążliwość w codziennych podróżach pieszych po Wrocławiu (można wskazać maksymalnie 3 odpowiedzi) [nie odczuwam uciążliwości w podróżach pieszych po Wrocławiu]</th>\n      <th>PREFERENCJE DOT. MOBILNOŚCI MIEJSKIEJ_Jakie elementy stanowią dla Pana/Pani największa uciążliwość w codziennych podróżach pieszych po Wrocławiu (można wskazać maksymalnie 3 odpowiedzi) [Inne]</th>\n      <th>DANE O GOSPODARSTWIE DOMOWYM_Liczba osób w gospodarstwie domowym [ogółem]</th>\n      <th>DANE O GOSPODARSTWIE DOMOWYM_Liczba osób w gospodarstwie domowym [powyżej 6 roku życia]</th>\n      <th>DANE O GOSPODARSTWIE DOMOWYM_Liczba środków transportu w gospodarstwie domowym [Samochód prywatny, zarejestrowany na osobę z gosp. domowego]</th>\n      <th>DANE O GOSPODARSTWIE DOMOWYM_Liczba środków transportu w gospodarstwie domowym [Samochód prywatny, nie zarejestrowany na osobę z gosp. domowego [użyczone]]</th>\n      <th>DANE O GOSPODARSTWIE DOMOWYM_Liczba środków transportu w gospodarstwie domowym [Samochód służbowy]</th>\n      <th>DANE O GOSPODARSTWIE DOMOWYM_Liczba środków transportu w gospodarstwie domowym [Rower]</th>\n      <th>DANE O RESPONDENCIE_Przedział wiekowy</th>\n      <th>DANE O RESPONDENCIE_Płeć</th>\n      <th>DANE O RESPONDENCIE_Zajęcie podstawowe</th>\n      <th>DANE O RESPONDENCIE_Zajęcie dodatkowe</th>\n      <th>DANE O RESPONDENCIE_Kondycja fizyczna</th>\n      <th>DANE O RESPONDENCIE_Kondycja fizyczna [Inne]</th>\n      <th>DANE O RESPONDENCIE_Opieka nad innymi osobami</th>\n      <th>DANE O RESPONDENCIE_Posiadanie prawa jazdy kat. B</th>\n      <th>DANE O RESPONDENCIE_Posiadanie biletu okresowego</th>\n      <th>DANE O RESPONDENCIE_Posiadanie ulgi na przejazd komunikacją zbiorową we Wrocławiu</th>\n      <th>DANE O RESPONDENCIE_Czy Pan/Pani odbył/a w dniu wczorajszym co najmniej jedną podróż?</th>\n      <th>DANE O RESPONDENCIE_Jaki był powód nie odbycia podróży?</th>\n      <th>IDENTYFIKACJA OSOBY_Nr. osoby w gosp. dom.</th>\n      <th>IDENTYFIKACJA OSOBY_Nr podróży</th>\n      <th>OPIS PODRÓŻY \"ŹRÓDŁO\"_Godzina rozpoczęcia podróży\\n[gg:mm:ss]</th>\n      <th>OPIS PODRÓŻY \"ŹRÓDŁO\"_Z jakiego miejsca</th>\n      <th>OPIS PODRÓŻY \"ŹRÓDŁO\"_Miejsce rozpoczęcia podróży [Gmina]</th>\n      <th>OPIS PODRÓŻY \"ŹRÓDŁO\"_Miejsce rozpoczęcia podróży \\n[Ulica, tylko poza Wrocławiem]</th>\n      <th>OPIS PODRÓŻY \"ŹRÓDŁO\"_nr</th>\n      <th>OPIS PODRÓŻY \"ŹRÓDŁO\"_Punkt charakterystyczny</th>\n      <th>OPIS PODRÓŻY \"ŹRÓDŁO\"_Nr rejonu</th>\n      <th>OPIS PODRÓŻY \"CEL\"_Mijesce zakończenia podróży [Gmina]</th>\n      <th>OPIS PODRÓŻY \"CEL\"_Mijesce zakończenia podróży\\n[Ulica, tylko poza Wrocławiem]</th>\n      <th>OPIS PODRÓŻY \"CEL\"_nr</th>\n      <th>OPIS PODRÓŻY \"CEL\"_punkt charakterystyczny</th>\n      <th>OPIS PODRÓŻY \"CEL\"_Nr rejonu</th>\n      <th>OPIS PODRÓŻY \"CEL\"_Do jakiego miejsca</th>\n      <th>OPIS PODRÓŻY \"CEL\"_Godzina zakończenia podróży \\n[gg:mm:ss]</th>\n      <th>OPIS PODRÓŻY \"CEL\"_Do jakiego miejsca [Inne]</th>\n      <th>PRZEMIESZCZENIE 1_Godzina rozpoczęcia jazdy/dojścia (gg:mm:ss)</th>\n      <th>PRZEMIESZCZENIE 1_Wykorzystany środek transportu w ramach wykonywanej podróży</th>\n      <th>PRZEMIESZCZENIE 1_Wykorzystany środek transportu w ramach wykonywanej podróży [Inne]</th>\n      <th>PRZEMIESZCZENIE 1_Liczba osób</th>\n      <th>PRZEMIESZCZENIE 1_Numer linii autobusowej (dotyczy komunikacji zbiorowej we Wrocławiu)</th>\n      <th>PRZEMIESZCZENIE 1_Przyczyna dla [P] Przemieszczenie piesze</th>\n      <th>PRZEMIESZCZENIE 1_Przyczyna dla [P] Przemieszczenie piesze [Inne]</th>\n      <th>PRZEMIESZCZENIE 1_Przyczyna dla [R] Przemieszczenie rowerem</th>\n      <th>PRZEMIESZCZENIE 1_Przyczyna dla [R] Przemieszczenie rowerem [Inne]</th>\n      <th>PRZEMIESZCZENIE 1_Przyczyna dla [SOK, SOP, M] Samochód, motor</th>\n      <th>PRZEMIESZCZENIE 1_Przyczyna dla [SOK, SOP, M] Samochód, motor  [Inne]</th>\n      <th>PRZEMIESZCZENIE 1_Przyczyna dla [KW, KZ , T,  PO] Komunikacja zbiorowa</th>\n      <th>PRZEMIESZCZENIE 1_Przyczyna dla [KW, KZ , T,  PO] Komunikacja zbiorowa  [Inne]</th>\n      <th>PRZEMIESZCZENIE 1_Przyczyna dla [E]: Wypożyczalnia pojazdów elektrycznych</th>\n      <th>PRZEMIESZCZENIE 1_Przyczyna dla [E]: Wypożyczalnia pojazdów elektrycznych   [Inne]</th>\n      <th>PRZEMIESZCZENIE 1_Przyczyna dla [C]: Carpooling</th>\n      <th>PRZEMIESZCZENIE 1_Przyczyna dla [C]: Carpooling [Inne]</th>\n      <th>PRZEMIESZCZENIE 1_Przyczyna dla [P] Przemieszczenie piesze.1</th>\n      <th>PRZEMIESZCZENIE 1_Przyczyna dla [P] Przemieszczenie piesze [Inne].1</th>\n      <th>PRZEMIESZCZENIE 1_Przyczyna dla [R] Przemieszczenie rowerem.1</th>\n      <th>PRZEMIESZCZENIE 1_Przyczyna dla [R] Przemieszczenie rowerem [Inne].1</th>\n      <th>PRZEMIESZCZENIE 1_Przyczyna dla [SOK, SOP, M] Samochód, motor .1</th>\n      <th>PRZEMIESZCZENIE 1_Przyczyna dla [SOK, SOP, M] Samochód, motor  [Inne].1</th>\n      <th>PRZEMIESZCZENIE 1_Przyczyna dla [KW, KZ , T,  PO] Komunikacja zbiorowa .1</th>\n      <th>PRZEMIESZCZENIE 1_Przyczyna dla [KW, KZ , T,  PO] Komunikacja zbiorowa  [Inne].1</th>\n      <th>PRZEMIESZCZENIE 1_Przyczyna dla [E]: Wypożyczalnia pojazdów elektrycznych  .1</th>\n      <th>PRZEMIESZCZENIE 1_Przyczyna dla [E]: Wypożyczalnia pojazdów elektrycznych   [Inne].1</th>\n      <th>PRZEMIESZCZENIE 1_Przyczyna dla [C]: Carpooling.1</th>\n      <th>PRZEMIESZCZENIE 1_Przyczyna dla [C]: Carpooling [Inne].1</th>\n      <th>PRZEMIESZCZENIE 1_Godzina zakończenia jazdy/dojścia (gg:mm:ss)</th>\n      <th>PRZEMIESZCZENIE 2_Dodać następną jazdę/dojście?</th>\n      <th>PRZEMIESZCZENIE 2_Godzina rozpoczęcia jazdy/dojścia (gg:mm)</th>\n      <th>PRZEMIESZCZENIE 2_Wykorzystany środek transportu w ramach wykonywanej podróży</th>\n      <th>PRZEMIESZCZENIE 2_Wykorzystany środek transportu w ramach wykonywanej podróży [Inne]</th>\n      <th>PRZEMIESZCZENIE 2_Liczba osób</th>\n      <th>PRZEMIESZCZENIE 2_Numer linii autobusowej (dotyczy komunikacji zbiorowej we Wrocławiu)</th>\n      <th>PRZEMIESZCZENIE 2_Przyczyna dla [P] Przemieszczenie piesze</th>\n      <th>PRZEMIESZCZENIE 2_Przyczyna dla [P] Przemieszczenie piesze [Inne]</th>\n      <th>PRZEMIESZCZENIE 2_Przyczyna dla [R] Przemieszczenie rowerem</th>\n      <th>PRZEMIESZCZENIE 2_Przyczyna dla [R] Przemieszczenie rowerem [Inne]</th>\n      <th>PRZEMIESZCZENIE 2_Przyczyna dla [SOK, SOP, M] Samochód, motor</th>\n      <th>PRZEMIESZCZENIE 2_Przyczyna dla [SOK, SOP, M] Samochód, motor  [Inne]</th>\n      <th>PRZEMIESZCZENIE 2_Przyczyna dla [KW, KZ , T,  PO] Komunikacja zbiorowa</th>\n      <th>PRZEMIESZCZENIE 2_Przyczyna dla [KW, KZ , T,  PO] Komunikacja zbiorowa  [Inne]</th>\n      <th>PRZEMIESZCZENIE 2_Przyczyna dla [E]: Wypożyczalnia pojazdów elektrycznych</th>\n      <th>PRZEMIESZCZENIE 2_Przyczyna dla [E]: Wypożyczalnia pojazdów elektrycznych   [Inne]</th>\n      <th>PRZEMIESZCZENIE 2_Przyczyna dla [C]: Carpooling</th>\n      <th>PRZEMIESZCZENIE 2_Przyczyna dla [C]: Carpooling [Inne]</th>\n      <th>PRZEMIESZCZENIE 2_Przyczyna dla [P] Przemieszczenie piesze.1</th>\n      <th>PRZEMIESZCZENIE 2_Przyczyna dla [P] Przemieszczenie piesze [Inne].1</th>\n      <th>PRZEMIESZCZENIE 2_Przyczyna dla [R] Przemieszczenie rowerem.1</th>\n      <th>PRZEMIESZCZENIE 2_Przyczyna dla [R] Przemieszczenie rowerem [Inne].1</th>\n      <th>PRZEMIESZCZENIE 2_Przyczyna dla [SOK, SOP, M] Samochód, motor .1</th>\n      <th>PRZEMIESZCZENIE 2_Przyczyna dla [SOK, SOP, M] Samochód, motor  [Inne].1</th>\n      <th>PRZEMIESZCZENIE 2_Przyczyna dla [KW, KZ , T,  PO] Komunikacja zbiorowa .1</th>\n      <th>PRZEMIESZCZENIE 2_Przyczyna dla [KW, KZ , T,  PO] Komunikacja zbiorowa  [Inne].1</th>\n      <th>PRZEMIESZCZENIE 2_Przyczyna dla [E]: Wypożyczalnia pojazdów elektrycznych  .1</th>\n      <th>PRZEMIESZCZENIE 2_Przyczyna dla [E]: Wypożyczalnia pojazdów elektrycznych   [Inne].1</th>\n      <th>PRZEMIESZCZENIE 2_Przyczyna dla [C]: Carpooling.1</th>\n      <th>PRZEMIESZCZENIE 2_Przyczyna dla [C]: Carpooling [Inne].1</th>\n      <th>PRZEMIESZCZENIE 2_Godzina zakończenia jazdy/dojścia (gg:mm:ss)</th>\n      <th>PRZEMIESZCZENIE 3_Dodać następną jazdę/dojście?</th>\n      <th>PRZEMIESZCZENIE 3_Godzina rozpoczęcia jazdy/dojścia (gg:mm)</th>\n      <th>PRZEMIESZCZENIE 3_Wykorzystany środek transportu w ramach wykonywanej podróży</th>\n      <th>PRZEMIESZCZENIE 3_Wykorzystany środek transportu w ramach wykonywanej podróży [Inne]</th>\n      <th>PRZEMIESZCZENIE 3_Liczba osób</th>\n      <th>PRZEMIESZCZENIE 3_Numer linii autobusowej (dotyczy komunikacji zbiorowej we Wrocławiu)</th>\n      <th>PRZEMIESZCZENIE 3_Przyczyna dla [P] Przemieszczenie piesze</th>\n      <th>PRZEMIESZCZENIE 3_Przyczyna dla [P] Przemieszczenie piesze [Inne]</th>\n      <th>PRZEMIESZCZENIE 3_Przyczyna dla [R] Przemieszczenie rowerem</th>\n      <th>PRZEMIESZCZENIE 3_Przyczyna dla [R] Przemieszczenie rowerem [Inne]</th>\n      <th>PRZEMIESZCZENIE 3_Przyczyna dla [SOK, SOP, M] Samochód, motor</th>\n      <th>PRZEMIESZCZENIE 3_Przyczyna dla [SOK, SOP, M] Samochód, motor  [Inne]</th>\n      <th>PRZEMIESZCZENIE 3_Przyczyna dla [KW, KZ , T,  PO] Komunikacja zbiorowa</th>\n      <th>PRZEMIESZCZENIE 3_Przyczyna dla [KW, KZ , T,  PO] Komunikacja zbiorowa  [Inne]</th>\n      <th>PRZEMIESZCZENIE 3_Przyczyna dla [E]: Wypożyczalnia pojazdów elektrycznych</th>\n      <th>PRZEMIESZCZENIE 3_Przyczyna dla [E]: Wypożyczalnia pojazdów elektrycznych   [Inne]</th>\n      <th>PRZEMIESZCZENIE 3_Przyczyna dla [C]: Carpooling</th>\n      <th>PRZEMIESZCZENIE 3_Przyczyna dla [C]: Carpooling [Inne]</th>\n      <th>PRZEMIESZCZENIE 3_Przyczyna dla [P] Przemieszczenie piesze.1</th>\n      <th>PRZEMIESZCZENIE 3_Przyczyna dla [P] Przemieszczenie piesze [Inne].1</th>\n      <th>PRZEMIESZCZENIE 3_Przyczyna dla [R] Przemieszczenie rowerem.1</th>\n      <th>PRZEMIESZCZENIE 3_Przyczyna dla [R] Przemieszczenie rowerem [Inne].1</th>\n      <th>PRZEMIESZCZENIE 3_Przyczyna dla [SOK, SOP, M] Samochód, motor .1</th>\n      <th>PRZEMIESZCZENIE 3_Przyczyna dla [SOK, SOP, M] Samochód, motor  [Inne].1</th>\n      <th>PRZEMIESZCZENIE 3_Przyczyna dla [KW, KZ , T,  PO] Komunikacja zbiorowa .1</th>\n      <th>PRZEMIESZCZENIE 3_Przyczyna dla [KW, KZ , T,  PO] Komunikacja zbiorowa  [Inne].1</th>\n      <th>PRZEMIESZCZENIE 3_Przyczyna dla [E]: Wypożyczalnia pojazdów elektrycznych  .1</th>\n      <th>PRZEMIESZCZENIE 3_Przyczyna dla [E]: Wypożyczalnia pojazdów elektrycznych   [Inne].1</th>\n      <th>PRZEMIESZCZENIE 3_Przyczyna dla [C]: Carpooling.1</th>\n      <th>PRZEMIESZCZENIE 3_Przyczyna dla [C]: Carpooling [Inne].1</th>\n      <th>PRZEMIESZCZENIE 3_Godzina zakończenia jazdy/dojścia (gg:mm:ss)</th>\n      <th>PRZEMIESZCZENIE 4_Dodać następną jazdę/dojście?</th>\n      <th>PRZEMIESZCZENIE 4_Godzina rozpoczęcia jazdy/dojścia (gg:mm)</th>\n      <th>PRZEMIESZCZENIE 4_Wykorzystany środek transportu w ramach wykonywanej podróży</th>\n      <th>PRZEMIESZCZENIE 4_Wykorzystany środek transportu w ramach wykonywanej podróży [Inne]</th>\n      <th>PRZEMIESZCZENIE 4_Liczba osób</th>\n      <th>PRZEMIESZCZENIE 4_Numer linii autobusowej (dotyczy komunikacji zbiorowej we Wrocławiu)</th>\n      <th>PRZEMIESZCZENIE 4_Przyczyna dla [P] Przemieszczenie piesze</th>\n      <th>PRZEMIESZCZENIE 4_Przyczyna dla [P] Przemieszczenie piesze [Inne]</th>\n      <th>PRZEMIESZCZENIE 4_Przyczyna dla [R] Przemieszczenie rowerem</th>\n      <th>PRZEMIESZCZENIE 4_Przyczyna dla [R] Przemieszczenie rowerem [Inne]</th>\n      <th>PRZEMIESZCZENIE 4_Przyczyna dla [SOK, SOP, M] Samochód, motor</th>\n      <th>PRZEMIESZCZENIE 4_Przyczyna dla [SOK, SOP, M] Samochód, motor  [Inne]</th>\n      <th>PRZEMIESZCZENIE 4_Przyczyna dla [KW, KZ , T,  PO] Komunikacja zbiorowa</th>\n      <th>PRZEMIESZCZENIE 4_Przyczyna dla [KW, KZ , T,  PO] Komunikacja zbiorowa  [Inne]</th>\n      <th>PRZEMIESZCZENIE 4_Przyczyna dla [E]: Wypożyczalnia pojazdów elektrycznych</th>\n      <th>PRZEMIESZCZENIE 4_Przyczyna dla [E]: Wypożyczalnia pojazdów elektrycznych   [Inne]</th>\n      <th>PRZEMIESZCZENIE 4_Przyczyna dla [C]: Carpooling</th>\n      <th>PRZEMIESZCZENIE 4_Przyczyna dla [C]: Carpooling [Inne]</th>\n      <th>PRZEMIESZCZENIE 4_Przyczyna dla [P] Przemieszczenie piesze.1</th>\n      <th>PRZEMIESZCZENIE 4_Przyczyna dla [P] Przemieszczenie piesze [Inne].1</th>\n      <th>PRZEMIESZCZENIE 4_Przyczyna dla [R] Przemieszczenie rowerem.1</th>\n      <th>PRZEMIESZCZENIE 4_Przyczyna dla [R] Przemieszczenie rowerem [Inne].1</th>\n      <th>PRZEMIESZCZENIE 4_Przyczyna dla [SOK, SOP, M] Samochód, motor .1</th>\n      <th>PRZEMIESZCZENIE 4_Przyczyna dla [SOK, SOP, M] Samochód, motor  [Inne].1</th>\n      <th>PRZEMIESZCZENIE 4_Przyczyna dla [KW, KZ , T,  PO] Komunikacja zbiorowa .1</th>\n      <th>PRZEMIESZCZENIE 4_Przyczyna dla [KW, KZ , T,  PO] Komunikacja zbiorowa  [Inne].1</th>\n      <th>PRZEMIESZCZENIE 4_Przyczyna dla [E]: Wypożyczalnia pojazdów elektrycznych  .1</th>\n      <th>PRZEMIESZCZENIE 4_Przyczyna dla [E]: Wypożyczalnia pojazdów elektrycznych   [Inne].1</th>\n      <th>PRZEMIESZCZENIE 4_Przyczyna dla [C]: Carpooling.1</th>\n      <th>PRZEMIESZCZENIE 4_Przyczyna dla [C]: Carpooling [Inne].1</th>\n      <th>PRZEMIESZCZENIE 4_Godzina zakończenia jazdy/dojścia (gg:mm:ss)</th>\n      <th>PRZEMIESZCZENIE 5_Dodać następną jazdę/dojście?</th>\n      <th>PRZEMIESZCZENIE 5_Godzina rozpoczęcia jazdy/dojścia (gg:mm)</th>\n      <th>PRZEMIESZCZENIE 5_Wykorzystany środek transportu w ramach wykonywanej podróży</th>\n      <th>PRZEMIESZCZENIE 5_Wykorzystany środek transportu w ramach wykonywanej podróży [Inne]</th>\n      <th>PRZEMIESZCZENIE 5_Liczba osób</th>\n      <th>PRZEMIESZCZENIE 5_Numer linii autobusowej (dotyczy komunikacji zbiorowej we Wrocławiu)</th>\n      <th>PRZEMIESZCZENIE 5_Przyczyna dla [P] Przemieszczenie piesze</th>\n      <th>PRZEMIESZCZENIE 5_Przyczyna dla [P] Przemieszczenie piesze [Inne]</th>\n      <th>PRZEMIESZCZENIE 5_Przyczyna dla [R] Przemieszczenie rowerem</th>\n      <th>PRZEMIESZCZENIE 5_Przyczyna dla [R] Przemieszczenie rowerem [Inne]</th>\n      <th>PRZEMIESZCZENIE 5_Przyczyna dla [SOK, SOP, M] Samochód, motor</th>\n      <th>PRZEMIESZCZENIE 5_Przyczyna dla [SOK, SOP, M] Samochód, motor  [Inne]</th>\n      <th>PRZEMIESZCZENIE 5_Przyczyna dla [KW, KZ , T,  PO] Komunikacja zbiorowa</th>\n      <th>PRZEMIESZCZENIE 5_Przyczyna dla [KW, KZ , T,  PO] Komunikacja zbiorowa  [Inne]</th>\n      <th>PRZEMIESZCZENIE 5_Przyczyna dla [E]: Wypożyczalnia pojazdów elektrycznych</th>\n      <th>PRZEMIESZCZENIE 5_Przyczyna dla [E]: Wypożyczalnia pojazdów elektrycznych   [Inne]</th>\n      <th>PRZEMIESZCZENIE 5_Przyczyna dla [C]: Carpooling</th>\n      <th>PRZEMIESZCZENIE 5_Przyczyna dla [C]: Carpooling [Inne]</th>\n      <th>PRZEMIESZCZENIE 5_Przyczyna dla [P] Przemieszczenie piesze.1</th>\n      <th>PRZEMIESZCZENIE 5_Przyczyna dla [P] Przemieszczenie piesze [Inne].1</th>\n      <th>PRZEMIESZCZENIE 5_Przyczyna dla [R] Przemieszczenie rowerem.1</th>\n      <th>PRZEMIESZCZENIE 5_Przyczyna dla [R] Przemieszczenie rowerem [Inne].1</th>\n      <th>PRZEMIESZCZENIE 5_Przyczyna dla [SOK, SOP, M] Samochód, motor .1</th>\n      <th>PRZEMIESZCZENIE 5_Przyczyna dla [SOK, SOP, M] Samochód, motor  [Inne].1</th>\n      <th>PRZEMIESZCZENIE 5_Przyczyna dla [KW, KZ , T,  PO] Komunikacja zbiorowa .1</th>\n      <th>PRZEMIESZCZENIE 5_Przyczyna dla [KW, KZ , T,  PO] Komunikacja zbiorowa  [Inne].1</th>\n      <th>PRZEMIESZCZENIE 5_Przyczyna dla [E]: Wypożyczalnia pojazdów elektrycznych  .1</th>\n      <th>PRZEMIESZCZENIE 5_Przyczyna dla [E]: Wypożyczalnia pojazdów elektrycznych   [Inne].1</th>\n      <th>PRZEMIESZCZENIE 5_Przyczyna dla [C]: Carpooling.1</th>\n      <th>PRZEMIESZCZENIE 5_Przyczyna dla [C]: Carpooling [Inne].1</th>\n      <th>PRZEMIESZCZENIE 5_Godzina zakończenia jazdy/dojścia (gg:mm:ss)</th>\n      <th>PRZEMIESZCZENIE 6_Dodać następną jazdę/dojście?</th>\n      <th>PRZEMIESZCZENIE 6_Godzina rozpoczęcia jazdy/dojścia (gg:mm:ss)</th>\n      <th>PRZEMIESZCZENIE 6_Wykorzystany środek transportu w ramach wykonywanej podróży</th>\n      <th>PRZEMIESZCZENIE 6_Wykorzystany środek transportu w ramach wykonywanej podróży [Inne]</th>\n      <th>PRZEMIESZCZENIE 6_Liczba osób</th>\n      <th>PRZEMIESZCZENIE 6_Numer linii autobusowej (dotyczy komunikacji zbiorowej we Wrocławiu)</th>\n      <th>PRZEMIESZCZENIE 6_Przyczyna dla [P] Przemieszczenie piesze</th>\n      <th>PRZEMIESZCZENIE 6_Przyczyna dla [P] Przemieszczenie piesze [Inne]</th>\n      <th>PRZEMIESZCZENIE 6_Przyczyna dla [R] Przemieszczenie rowerem</th>\n      <th>PRZEMIESZCZENIE 6_Przyczyna dla [R] Przemieszczenie rowerem [Inne]</th>\n      <th>PRZEMIESZCZENIE 6_Przyczyna dla [SOK, SOP, M] Samochód, motor</th>\n      <th>PRZEMIESZCZENIE 6_Przyczyna dla [SOK, SOP, M] Samochód, motor  [Inne]</th>\n      <th>PRZEMIESZCZENIE 6_Przyczyna dla [KW, KZ , T,  PO] Komunikacja zbiorowa</th>\n      <th>PRZEMIESZCZENIE 6_Przyczyna dla [KW, KZ , T,  PO] Komunikacja zbiorowa  [Inne]</th>\n      <th>PRZEMIESZCZENIE 6_Przyczyna dla [E]: Wypożyczalnia pojazdów elektrycznych</th>\n      <th>PRZEMIESZCZENIE 6_Przyczyna dla [E]: Wypożyczalnia pojazdów elektrycznych   [Inne]</th>\n      <th>PRZEMIESZCZENIE 6_Przyczyna dla [C]: Carpooling</th>\n      <th>PRZEMIESZCZENIE 6_Przyczyna dla [C]: Carpooling [Inne]</th>\n      <th>PRZEMIESZCZENIE 6_Przyczyna dla [P] Przemieszczenie piesze.1</th>\n      <th>PRZEMIESZCZENIE 6_Przyczyna dla [P] Przemieszczenie piesze [Inne].1</th>\n      <th>PRZEMIESZCZENIE 6_Przyczyna dla [R] Przemieszczenie rowerem.1</th>\n      <th>PRZEMIESZCZENIE 6_Przyczyna dla [R] Przemieszczenie rowerem [Inne].1</th>\n      <th>PRZEMIESZCZENIE 6_Przyczyna dla [SOK, SOP, M] Samochód, motor .1</th>\n      <th>PRZEMIESZCZENIE 6_Przyczyna dla [SOK, SOP, M] Samochód, motor  [Inne].1</th>\n      <th>PRZEMIESZCZENIE 6_Przyczyna dla [KW, KZ , T,  PO] Komunikacja zbiorowa .1</th>\n      <th>PRZEMIESZCZENIE 6_Przyczyna dla [KW, KZ , T,  PO] Komunikacja zbiorowa  [Inne].1</th>\n      <th>PRZEMIESZCZENIE 6_Przyczyna dla [E]: Wypożyczalnia pojazdów elektrycznych  .1</th>\n      <th>PRZEMIESZCZENIE 6_Przyczyna dla [E]: Wypożyczalnia pojazdów elektrycznych   [Inne].1</th>\n      <th>PRZEMIESZCZENIE 6_Przyczyna dla [C]: Carpooling.1</th>\n      <th>PRZEMIESZCZENIE 6_Przyczyna dla [C]: Carpooling [Inne].1</th>\n      <th>PRZEMIESZCZENIE 6_Godzina zakończenia jazdy/dojścia (gg:mm:ss)</th>\n      <th>DANE DO STATYSTYK_Liczba przemieszczeń</th>\n      <th>DANE DO STATYSTYK_środek transportu</th>\n      <th>DANE DO STATYSTYK_typ podróży</th>\n      <th>DANE DO STATYSTYK_czas trwania podróży</th>\n      <th>23:59:00_środek transportu podgrupa</th>\n      <th>23:59:00_środek transportu grupa</th>\n      <th>23:59:00_pora dnia</th>\n      <th>23:59:00_motywacje</th>\n      <th>23:59:00_motywacje grupy</th>\n      <th>23:59:00_ŚT_pom</th>\n      <th>Przemieszczenie 1_rodzaj autobusu</th>\n      <th>Przemieszczenie 2_rodzaj autobusu</th>\n      <th>Przemieszczenie 3_rodzaj autobusu</th>\n      <th>Przemieszczenie 4_rodzaj autobusu</th>\n      <th>Przemieszczenie 5_rodzaj autobusu</th>\n      <th>Przemieszczenie 5_liczba przesiadek</th>\n      <th>Przemieszczenie 5_przemieszczenie 1\\npiesze [1]/niepiesze[0]</th>\n      <th>Przemieszczenie 5_przemieszczenie 2\\npiesze [1]/niepiesze[0]</th>\n      <th>Przemieszczenie 5_przemieszczenie 3\\npiesze [1]/niepiesze[0]</th>\n      <th>Przemieszczenie 5_przemieszczenie 4\\npiesze [1]/niepiesze[0]</th>\n      <th>Przemieszczenie 5_przemieszczenie 5\\npiesze [1]/niepiesze[0]</th>\n      <th>Przemieszczenie 5_przemieszczenie 6\\npiesze [1]/niepiesze[0]</th>\n      <th>Przemieszczenie 5_liczba przesiadek.1</th>\n      <th>Przemieszczenie 5_przemieszczenie 1\\nKomunikacja zbiorowa [KZ]</th>\n      <th>Przemieszczenie 5_przemieszczenie 2\\nKomunikacja zbiorowa [KZ]</th>\n      <th>Przemieszczenie 5_przemieszczenie 3\\nKomunikacja zbiorowa [KZ]</th>\n      <th>Przemieszczenie 5_przemieszczenie 4\\nKomunikacja zbiorowa [KZ]</th>\n      <th>Przemieszczenie 5_przemieszczenie 5\\nKomunikacja zbiorowa [KZ]</th>\n      <th>Przemieszczenie 5_przemieszczenie 6\\nKomunikacja zbiorowa [KZ]</th>\n      <th>Przemieszczenie 5_Czy w przemieszczeniu wystąpiło przemieszczenie KZ?</th>\n      <th>Przemieszczenie 5_Liczba przesiadek\\n[komunikacja zbiorowa]</th>\n      <th>Przemieszczenie 1_czas dojścia</th>\n      <th>Przemieszczenie 2_czas dojścia</th>\n      <th>Przemieszczenie 3_czas dojścia</th>\n      <th>Przemieszczenie 4_czas dojścia</th>\n      <th>Przemieszczenie 5_czas dojścia</th>\n      <th>Przemieszczenie 1_czas ogólnie</th>\n      <th>Przemieszczenie 2_czas ogólnie</th>\n      <th>Przemieszczenie 3_czas ogólnie</th>\n      <th>Przemieszczenie 4_czas ogólnie</th>\n      <th>Przemieszczenie 5_czas ogólnie</th>\n      <th>Przemieszczenie 5_c</th>\n      <th>Przemieszczenie 5_00:05:00</th>\n      <th>12290.267442599752_współczynnik korygujący</th>\n      <th>12290.267442599752_Numer rejonu zagregowanego</th>\n      <th>12290.267442599752_a</th>\n      <th>12290.267442599752_b</th>\n      <th>12290.267442599752_średnie napełnienie</th>\n      <th>12290.267442599752_motywacje grupy</th>\n    </tr>\n  </thead>\n  <tbody>\n    <tr>\n      <th>0</th>\n      <td>1.0</td>\n      <td>LOS_67-67-306</td>\n      <td>NaN</td>\n      <td>2018-04-25</td>\n      <td>17:20</td>\n      <td>67.0</td>\n      <td>całkowicie się zgadzam</td>\n      <td>całkowicie się zgadzam</td>\n      <td>całkowicie się zgadzam</td>\n      <td>tramwaj</td>\n      <td>częściej kursuje</td>\n      <td>NaN</td>\n      <td>NaN</td>\n      <td>bardzo dobrze</td>\n      <td>raczej dobrze</td>\n      <td>raczej dobrze</td>\n      <td>bardzo dobrze</td>\n      <td>Nie</td>\n      <td>Nie</td>\n      <td>Nie</td>\n      <td>Nie</td>\n      <td>Nie</td>\n      <td>Tak</td>\n      <td>Tak</td>\n      <td>Nie</td>\n      <td>Nie</td>\n      <td>Nie</td>\n      <td>Tak</td>\n      <td>Nie</td>\n      <td>Nie</td>\n      <td>NaN</td>\n      <td>1.0</td>\n      <td>1.0</td>\n      <td>0.0</td>\n      <td>0.0</td>\n      <td>0.0</td>\n      <td>1.0</td>\n      <td>61 i więcej (emeryci kobiety)</td>\n      <td>Kobieta</td>\n      <td>emeryt</td>\n      <td>pracujący prowadzący działalność poza domem</td>\n      <td>dobry stan zdrowia</td>\n      <td>NaN</td>\n      <td>nie dotyczy</td>\n      <td>Tak</td>\n      <td>Tak</td>\n      <td>0.5</td>\n      <td>Tak</td>\n      <td>NaN</td>\n      <td>1.0</td>\n      <td>1.0</td>\n      <td>09:00:00</td>\n      <td>dom</td>\n      <td>NaN</td>\n      <td>NaN</td>\n      <td>NaN</td>\n      <td>NaN</td>\n      <td>67.0</td>\n      <td>WROCŁAW</td>\n      <td>NaN</td>\n      <td>NaN</td>\n      <td>NaN</td>\n      <td>68.0</td>\n      <td>Inne</td>\n      <td>09:10:00</td>\n      <td>SKLEP</td>\n      <td>09:00</td>\n      <td>sam. osobowy pasażer</td>\n      <td>NaN</td>\n      <td>2.0</td>\n      <td>NaN</td>\n      <td>NaN</td>\n      <td>NaN</td>\n      <td>NaN</td>\n      <td>NaN</td>\n      <td>wygoda korzystania</td>\n      <td>NaN</td>\n      <td>NaN</td>\n      <td>NaN</td>\n      <td>NaN</td>\n      <td>NaN</td>\n      <td>NaN</td>\n      <td>NaN</td>\n      <td>NaN</td>\n      <td>NaN</td>\n      <td>NaN</td>\n      <td>NaN</td>\n      <td>krótki czas dojazdu</td>\n      <td>NaN</td>\n      <td>NaN</td>\n      <td>NaN</td>\n      <td>NaN</td>\n      <td>NaN</td>\n      <td>NaN</td>\n      <td>NaN</td>\n      <td>09:10</td>\n      <td>Nie</td>\n      <td>None</td>\n      <td>NaN</td>\n      <td>NaN</td>\n      <td>NaN</td>\n      <td>NaN</td>\n      <td>NaN</td>\n      <td>NaN</td>\n      <td>NaN</td>\n      <td>NaN</td>\n      <td>NaN</td>\n      <td>NaN</td>\n      <td>NaN</td>\n      <td>NaN</td>\n      <td>NaN</td>\n      <td>NaN</td>\n      <td>NaN</td>\n      <td>NaN</td>\n      <td>NaN</td>\n      <td>NaN</td>\n      <td>NaN</td>\n      <td>NaN</td>\n      <td>NaN</td>\n      <td>NaN</td>\n      <td>NaN</td>\n      <td>NaN</td>\n      <td>NaN</td>\n      <td>NaN</td>\n      <td>NaN</td>\n      <td>NaN</td>\n      <td>None</td>\n      <td>NaN</td>\n      <td>None</td>\n      <td>NaN</td>\n      <td>NaN</td>\n      <td>NaN</td>\n      <td>NaN</td>\n      <td>NaN</td>\n      <td>NaN</td>\n      <td>NaN</td>\n      <td>NaN</td>\n      <td>NaN</td>\n      <td>NaN</td>\n      <td>NaN</td>\n      <td>NaN</td>\n      <td>NaN</td>\n      <td>NaN</td>\n      <td>NaN</td>\n      <td>NaN</td>\n      <td>NaN</td>\n      <td>NaN</td>\n      <td>NaN</td>\n      <td>NaN</td>\n      <td>NaN</td>\n      <td>NaN</td>\n      <td>NaN</td>\n      <td>NaN</td>\n      <td>NaN</td>\n      <td>NaN</td>\n      <td>NaN</td>\n      <td>NaN</td>\n      <td>None</td>\n      <td>NaN</td>\n      <td>None</td>\n      <td>NaN</td>\n      <td>NaN</td>\n      <td>NaN</td>\n      <td>NaN</td>\n      <td>NaN</td>\n      <td>NaN</td>\n      <td>NaN</td>\n      <td>NaN</td>\n      <td>NaN</td>\n      <td>NaN</td>\n      <td>NaN</td>\n      <td>NaN</td>\n      <td>NaN</td>\n      <td>NaN</td>\n      <td>NaN</td>\n      <td>NaN</td>\n      <td>NaN</td>\n      <td>NaN</td>\n      <td>NaN</td>\n      <td>NaN</td>\n      <td>NaN</td>\n      <td>NaN</td>\n      <td>NaN</td>\n      <td>NaN</td>\n      <td>NaN</td>\n      <td>NaN</td>\n      <td>NaN</td>\n      <td>NaN</td>\n      <td>None</td>\n      <td>NaN</td>\n      <td>None</td>\n      <td>NaN</td>\n      <td>NaN</td>\n      <td>NaN</td>\n      <td>NaN</td>\n      <td>NaN</td>\n      <td>NaN</td>\n      <td>NaN</td>\n      <td>NaN</td>\n      <td>NaN</td>\n      <td>NaN</td>\n      <td>NaN</td>\n      <td>NaN</td>\n      <td>NaN</td>\n      <td>NaN</td>\n      <td>NaN</td>\n      <td>NaN</td>\n      <td>NaN</td>\n      <td>NaN</td>\n      <td>NaN</td>\n      <td>NaN</td>\n      <td>NaN</td>\n      <td>NaN</td>\n      <td>NaN</td>\n      <td>NaN</td>\n      <td>NaN</td>\n      <td>NaN</td>\n      <td>NaN</td>\n      <td>NaN</td>\n      <td>None</td>\n      <td>None</td>\n      <td>None</td>\n      <td>None</td>\n      <td>NaN</td>\n      <td>NaN</td>\n      <td>None</td>\n      <td>None</td>\n      <td>NaN</td>\n      <td>NaN</td>\n      <td>NaN</td>\n      <td>NaN</td>\n      <td>NaN</td>\n      <td>None</td>\n      <td>NaN</td>\n      <td>NaN</td>\n      <td>NaN</td>\n      <td>NaN</td>\n      <td>NaN</td>\n      <td>NaN</td>\n      <td>NaN</td>\n      <td>NaN</td>\n      <td>NaN</td>\n      <td>NaN</td>\n      <td>NaN</td>\n      <td>NaN</td>\n      <td>NaN</td>\n      <td>NaN</td>\n      <td>NaN</td>\n      <td>NaN</td>\n      <td>NaN</td>\n      <td>None</td>\n      <td>1.0</td>\n      <td>sam. osobowy pasażer</td>\n      <td>niepiesze</td>\n      <td>00:10:00</td>\n      <td>sam. osobowy pasażer</td>\n      <td>komunikacja samochodowa</td>\n      <td>9:00-9:59</td>\n      <td>dom-Inne</td>\n      <td>dom-Inne</td>\n      <td>NaN</td>\n      <td>NaN</td>\n      <td>NaN</td>\n      <td>NaN</td>\n      <td>NaN</td>\n      <td>NaN</td>\n      <td>0.0</td>\n      <td>1.0</td>\n      <td>NaN</td>\n      <td>NaN</td>\n      <td>NaN</td>\n      <td>NaN</td>\n      <td>NaN</td>\n      <td>0.0</td>\n      <td>nie</td>\n      <td>nie</td>\n      <td>nie</td>\n      <td>nie</td>\n      <td>nie</td>\n      <td>nie</td>\n      <td>nie</td>\n      <td>0.0</td>\n      <td>NaN</td>\n      <td>NaN</td>\n      <td>NaN</td>\n      <td>NaN</td>\n      <td>NaN</td>\n      <td>NaN</td>\n      <td>NaN</td>\n      <td>NaN</td>\n      <td>NaN</td>\n      <td>NaN</td>\n      <td>0.0</td>\n      <td>NaN</td>\n      <td>0.80</td>\n      <td>67</td>\n      <td>komunikacja zbiorowa poza Wrocławiem</td>\n      <td>KZ</td>\n      <td>2.0</td>\n      <td>dom-Inne</td>\n    </tr>\n    <tr>\n      <th>1</th>\n      <td>2.0</td>\n      <td>LOS_67-67-306</td>\n      <td>NaN</td>\n      <td>2018-04-25</td>\n      <td>17:20</td>\n      <td>67.0</td>\n      <td>całkowicie się zgadzam</td>\n      <td>całkowicie się zgadzam</td>\n      <td>całkowicie się zgadzam</td>\n      <td>tramwaj</td>\n      <td>częściej kursuje</td>\n      <td>NaN</td>\n      <td>NaN</td>\n      <td>bardzo dobrze</td>\n      <td>raczej dobrze</td>\n      <td>raczej dobrze</td>\n      <td>bardzo dobrze</td>\n      <td>Nie</td>\n      <td>Nie</td>\n      <td>Nie</td>\n      <td>Nie</td>\n      <td>Nie</td>\n      <td>Tak</td>\n      <td>Tak</td>\n      <td>Nie</td>\n      <td>Nie</td>\n      <td>Nie</td>\n      <td>Tak</td>\n      <td>Nie</td>\n      <td>Nie</td>\n      <td>NaN</td>\n      <td>1.0</td>\n      <td>1.0</td>\n      <td>0.0</td>\n      <td>0.0</td>\n      <td>0.0</td>\n      <td>1.0</td>\n      <td>61 i więcej (emeryci kobiety)</td>\n      <td>Kobieta</td>\n      <td>emeryt</td>\n      <td>pracujący prowadzący działalność poza domem</td>\n      <td>dobry stan zdrowia</td>\n      <td>NaN</td>\n      <td>nie dotyczy</td>\n      <td>Tak</td>\n      <td>Tak</td>\n      <td>0.5</td>\n      <td>Tak</td>\n      <td>NaN</td>\n      <td>1.0</td>\n      <td>2.0</td>\n      <td>09:40:00</td>\n      <td>Inne</td>\n      <td>WROCŁAW</td>\n      <td>NaN</td>\n      <td>NaN</td>\n      <td>NaN</td>\n      <td>68.0</td>\n      <td>NaN</td>\n      <td>NaN</td>\n      <td>NaN</td>\n      <td>NaN</td>\n      <td>67.0</td>\n      <td>dom</td>\n      <td>09:50:00</td>\n      <td>NaN</td>\n      <td>09:40</td>\n      <td>sam. osobowy pasażer</td>\n      <td>NaN</td>\n      <td>2.0</td>\n      <td>NaN</td>\n      <td>NaN</td>\n      <td>NaN</td>\n      <td>NaN</td>\n      <td>NaN</td>\n      <td>wygoda korzystania</td>\n      <td>NaN</td>\n      <td>NaN</td>\n      <td>NaN</td>\n      <td>NaN</td>\n      <td>NaN</td>\n      <td>NaN</td>\n      <td>NaN</td>\n      <td>NaN</td>\n      <td>NaN</td>\n      <td>NaN</td>\n      <td>NaN</td>\n      <td>krótki czas dojazdu</td>\n      <td>NaN</td>\n      <td>NaN</td>\n      <td>NaN</td>\n      <td>NaN</td>\n      <td>NaN</td>\n      <td>NaN</td>\n      <td>NaN</td>\n      <td>09:50</td>\n      <td>Nie</td>\n      <td>None</td>\n      <td>NaN</td>\n      <td>NaN</td>\n      <td>NaN</td>\n      <td>NaN</td>\n      <td>NaN</td>\n      <td>NaN</td>\n      <td>NaN</td>\n      <td>NaN</td>\n      <td>NaN</td>\n      <td>NaN</td>\n      <td>NaN</td>\n      <td>NaN</td>\n      <td>NaN</td>\n      <td>NaN</td>\n      <td>NaN</td>\n      <td>NaN</td>\n      <td>NaN</td>\n      <td>NaN</td>\n      <td>NaN</td>\n      <td>NaN</td>\n      <td>NaN</td>\n      <td>NaN</td>\n      <td>NaN</td>\n      <td>NaN</td>\n      <td>NaN</td>\n      <td>NaN</td>\n      <td>NaN</td>\n      <td>NaN</td>\n      <td>None</td>\n      <td>NaN</td>\n      <td>None</td>\n      <td>NaN</td>\n      <td>NaN</td>\n      <td>NaN</td>\n      <td>NaN</td>\n      <td>NaN</td>\n      <td>NaN</td>\n      <td>NaN</td>\n      <td>NaN</td>\n      <td>NaN</td>\n      <td>NaN</td>\n      <td>NaN</td>\n      <td>NaN</td>\n      <td>NaN</td>\n      <td>NaN</td>\n      <td>NaN</td>\n      <td>NaN</td>\n      <td>NaN</td>\n      <td>NaN</td>\n      <td>NaN</td>\n      <td>NaN</td>\n      <td>NaN</td>\n      <td>NaN</td>\n      <td>NaN</td>\n      <td>NaN</td>\n      <td>NaN</td>\n      <td>NaN</td>\n      <td>NaN</td>\n      <td>NaN</td>\n      <td>None</td>\n      <td>NaN</td>\n      <td>None</td>\n      <td>NaN</td>\n      <td>NaN</td>\n      <td>NaN</td>\n      <td>NaN</td>\n      <td>NaN</td>\n      <td>NaN</td>\n      <td>NaN</td>\n      <td>NaN</td>\n      <td>NaN</td>\n      <td>NaN</td>\n      <td>NaN</td>\n      <td>NaN</td>\n      <td>NaN</td>\n      <td>NaN</td>\n      <td>NaN</td>\n      <td>NaN</td>\n      <td>NaN</td>\n      <td>NaN</td>\n      <td>NaN</td>\n      <td>NaN</td>\n      <td>NaN</td>\n      <td>NaN</td>\n      <td>NaN</td>\n      <td>NaN</td>\n      <td>NaN</td>\n      <td>NaN</td>\n      <td>NaN</td>\n      <td>NaN</td>\n      <td>None</td>\n      <td>NaN</td>\n      <td>None</td>\n      <td>NaN</td>\n      <td>NaN</td>\n      <td>NaN</td>\n      <td>NaN</td>\n      <td>NaN</td>\n      <td>NaN</td>\n      <td>NaN</td>\n      <td>NaN</td>\n      <td>NaN</td>\n      <td>NaN</td>\n      <td>NaN</td>\n      <td>NaN</td>\n      <td>NaN</td>\n      <td>NaN</td>\n      <td>NaN</td>\n      <td>NaN</td>\n      <td>NaN</td>\n      <td>NaN</td>\n      <td>NaN</td>\n      <td>NaN</td>\n      <td>NaN</td>\n      <td>NaN</td>\n      <td>NaN</td>\n      <td>NaN</td>\n      <td>NaN</td>\n      <td>NaN</td>\n      <td>NaN</td>\n      <td>NaN</td>\n      <td>None</td>\n      <td>None</td>\n      <td>None</td>\n      <td>None</td>\n      <td>NaN</td>\n      <td>NaN</td>\n      <td>None</td>\n      <td>None</td>\n      <td>NaN</td>\n      <td>NaN</td>\n      <td>NaN</td>\n      <td>NaN</td>\n      <td>NaN</td>\n      <td>None</td>\n      <td>NaN</td>\n      <td>NaN</td>\n      <td>NaN</td>\n      <td>NaN</td>\n      <td>NaN</td>\n      <td>NaN</td>\n      <td>NaN</td>\n      <td>NaN</td>\n      <td>NaN</td>\n      <td>NaN</td>\n      <td>NaN</td>\n      <td>NaN</td>\n      <td>NaN</td>\n      <td>NaN</td>\n      <td>NaN</td>\n      <td>NaN</td>\n      <td>NaN</td>\n      <td>None</td>\n      <td>1.0</td>\n      <td>sam. osobowy pasażer</td>\n      <td>niepiesze</td>\n      <td>00:10:00</td>\n      <td>sam. osobowy pasażer</td>\n      <td>komunikacja samochodowa</td>\n      <td>9:00-9:59</td>\n      <td>Inne-dom</td>\n      <td>Inne-dom</td>\n      <td>NaN</td>\n      <td>NaN</td>\n      <td>NaN</td>\n      <td>NaN</td>\n      <td>NaN</td>\n      <td>NaN</td>\n      <td>0.0</td>\n      <td>1.0</td>\n      <td>NaN</td>\n      <td>NaN</td>\n      <td>NaN</td>\n      <td>NaN</td>\n      <td>NaN</td>\n      <td>0.0</td>\n      <td>nie</td>\n      <td>nie</td>\n      <td>nie</td>\n      <td>nie</td>\n      <td>nie</td>\n      <td>nie</td>\n      <td>nie</td>\n      <td>0.0</td>\n      <td>NaN</td>\n      <td>NaN</td>\n      <td>NaN</td>\n      <td>NaN</td>\n      <td>NaN</td>\n      <td>NaN</td>\n      <td>NaN</td>\n      <td>NaN</td>\n      <td>NaN</td>\n      <td>NaN</td>\n      <td>1.0</td>\n      <td>NaN</td>\n      <td>0.80</td>\n      <td>67</td>\n      <td>komunikacja zbiorowa we Wrocławiu</td>\n      <td>KZ</td>\n      <td>2.0</td>\n      <td>Inne-dom</td>\n    </tr>\n    <tr>\n      <th>2</th>\n      <td>3.0</td>\n      <td>LOS_67-67-109</td>\n      <td>NaN</td>\n      <td>2018-04-26</td>\n      <td>17:05</td>\n      <td>67.0</td>\n      <td>raczej się zgadzam</td>\n      <td>całkowicie się zgadzam</td>\n      <td>całkowicie się zgadzam</td>\n      <td>tramwaj</td>\n      <td>mam bliżej przystanek tramwajowy</td>\n      <td>NaN</td>\n      <td>NaN</td>\n      <td>bardzo dobrze</td>\n      <td>bardzo dobrze</td>\n      <td>raczej dobrze</td>\n      <td>raczej dobrze</td>\n      <td>Nie</td>\n      <td>Nie</td>\n      <td>Nie</td>\n      <td>Tak</td>\n      <td>Nie</td>\n      <td>Nie</td>\n      <td>Nie</td>\n      <td>Nie</td>\n      <td>Tak</td>\n      <td>Nie</td>\n      <td>Nie</td>\n      <td>Nie</td>\n      <td>Nie</td>\n      <td>NaN</td>\n      <td>2.0</td>\n      <td>2.0</td>\n      <td>0.0</td>\n      <td>1.0</td>\n      <td>0.0</td>\n      <td>1.0</td>\n      <td>20-24 (wiek studencki)</td>\n      <td>Kobieta</td>\n      <td>student</td>\n      <td>brak zajęcia dodatkowego</td>\n      <td>dobry stan zdrowia</td>\n      <td>NaN</td>\n      <td>nie dotyczy</td>\n      <td>Tak</td>\n      <td>Tak</td>\n      <td>0.5</td>\n      <td>Nie</td>\n      <td>brak potrzeby</td>\n      <td>NaN</td>\n      <td>NaN</td>\n      <td>NaN</td>\n      <td>NaN</td>\n      <td>NaN</td>\n      <td>NaN</td>\n      <td>NaN</td>\n      <td>NaN</td>\n      <td>NaN</td>\n      <td>NaN</td>\n      <td>NaN</td>\n      <td>NaN</td>\n      <td>NaN</td>\n      <td>NaN</td>\n      <td>NaN</td>\n      <td>NaN</td>\n      <td>NaN</td>\n      <td>None</td>\n      <td>NaN</td>\n      <td>NaN</td>\n      <td>NaN</td>\n      <td>NaN</td>\n      <td>NaN</td>\n      <td>NaN</td>\n      <td>NaN</td>\n      <td>NaN</td>\n      <td>NaN</td>\n      <td>NaN</td>\n      <td>NaN</td>\n      <td>NaN</td>\n      <td>NaN</td>\n      <td>NaN</td>\n      <td>NaN</td>\n      <td>NaN</td>\n      <td>NaN</td>\n      <td>NaN</td>\n      <td>NaN</td>\n      <td>NaN</td>\n      <td>NaN</td>\n      <td>NaN</td>\n      <td>NaN</td>\n      <td>NaN</td>\n      <td>NaN</td>\n      <td>NaN</td>\n      <td>NaN</td>\n      <td>NaN</td>\n      <td>None</td>\n      <td>NaN</td>\n      <td>None</td>\n      <td>NaN</td>\n      <td>NaN</td>\n      <td>NaN</td>\n      <td>NaN</td>\n      <td>NaN</td>\n      <td>NaN</td>\n      <td>NaN</td>\n      <td>NaN</td>\n      <td>NaN</td>\n      <td>NaN</td>\n      <td>NaN</td>\n      <td>NaN</td>\n      <td>NaN</td>\n      <td>NaN</td>\n      <td>NaN</td>\n      <td>NaN</td>\n      <td>NaN</td>\n      <td>NaN</td>\n      <td>NaN</td>\n      <td>NaN</td>\n      <td>NaN</td>\n      <td>NaN</td>\n      <td>NaN</td>\n      <td>NaN</td>\n      <td>NaN</td>\n      <td>NaN</td>\n      <td>NaN</td>\n      <td>NaN</td>\n      <td>None</td>\n      <td>NaN</td>\n      <td>None</td>\n      <td>NaN</td>\n      <td>NaN</td>\n      <td>NaN</td>\n      <td>NaN</td>\n      <td>NaN</td>\n      <td>NaN</td>\n      <td>NaN</td>\n      <td>NaN</td>\n      <td>NaN</td>\n      <td>NaN</td>\n      <td>NaN</td>\n      <td>NaN</td>\n      <td>NaN</td>\n      <td>NaN</td>\n      <td>NaN</td>\n      <td>NaN</td>\n      <td>NaN</td>\n      <td>NaN</td>\n      <td>NaN</td>\n      <td>NaN</td>\n      <td>NaN</td>\n      <td>NaN</td>\n      <td>NaN</td>\n      <td>NaN</td>\n      <td>NaN</td>\n      <td>NaN</td>\n      <td>NaN</td>\n      <td>NaN</td>\n      <td>None</td>\n      <td>NaN</td>\n      <td>None</td>\n      <td>NaN</td>\n      <td>NaN</td>\n      <td>NaN</td>\n      <td>NaN</td>\n      <td>NaN</td>\n      <td>NaN</td>\n      <td>NaN</td>\n      <td>NaN</td>\n      <td>NaN</td>\n      <td>NaN</td>\n      <td>NaN</td>\n      <td>NaN</td>\n      <td>NaN</td>\n      <td>NaN</td>\n      <td>NaN</td>\n      <td>NaN</td>\n      <td>NaN</td>\n      <td>NaN</td>\n      <td>NaN</td>\n      <td>NaN</td>\n      <td>NaN</td>\n      <td>NaN</td>\n      <td>NaN</td>\n      <td>NaN</td>\n      <td>NaN</td>\n      <td>NaN</td>\n      <td>NaN</td>\n      <td>NaN</td>\n      <td>None</td>\n      <td>NaN</td>\n      <td>None</td>\n      <td>NaN</td>\n      <td>NaN</td>\n      <td>NaN</td>\n      <td>NaN</td>\n      <td>NaN</td>\n      <td>NaN</td>\n      <td>NaN</td>\n      <td>NaN</td>\n      <td>NaN</td>\n      <td>NaN</td>\n      <td>NaN</td>\n      <td>NaN</td>\n      <td>NaN</td>\n      <td>NaN</td>\n      <td>NaN</td>\n      <td>NaN</td>\n      <td>NaN</td>\n      <td>NaN</td>\n      <td>NaN</td>\n      <td>NaN</td>\n      <td>NaN</td>\n      <td>NaN</td>\n      <td>NaN</td>\n      <td>NaN</td>\n      <td>NaN</td>\n      <td>NaN</td>\n      <td>NaN</td>\n      <td>NaN</td>\n      <td>None</td>\n      <td>None</td>\n      <td>None</td>\n      <td>None</td>\n      <td>NaN</td>\n      <td>NaN</td>\n      <td>None</td>\n      <td>None</td>\n      <td>NaN</td>\n      <td>NaN</td>\n      <td>NaN</td>\n      <td>NaN</td>\n      <td>NaN</td>\n      <td>None</td>\n      <td>NaN</td>\n      <td>NaN</td>\n      <td>NaN</td>\n      <td>NaN</td>\n      <td>NaN</td>\n      <td>NaN</td>\n      <td>NaN</td>\n      <td>NaN</td>\n      <td>NaN</td>\n      <td>NaN</td>\n      <td>NaN</td>\n      <td>NaN</td>\n      <td>NaN</td>\n      <td>NaN</td>\n      <td>NaN</td>\n      <td>NaN</td>\n      <td>NaN</td>\n      <td>None</td>\n      <td>0.0</td>\n      <td>NaN</td>\n      <td>NaN</td>\n      <td>NaN</td>\n      <td>NaN</td>\n      <td>NaN</td>\n      <td>NaN</td>\n      <td>-</td>\n      <td>NaN</td>\n      <td>NaN</td>\n      <td>NaN</td>\n      <td>NaN</td>\n      <td>NaN</td>\n      <td>NaN</td>\n      <td>NaN</td>\n      <td>NaN</td>\n      <td>NaN</td>\n      <td>NaN</td>\n      <td>NaN</td>\n      <td>NaN</td>\n      <td>NaN</td>\n      <td>NaN</td>\n      <td>NaN</td>\n      <td>NaN</td>\n      <td>NaN</td>\n      <td>NaN</td>\n      <td>NaN</td>\n      <td>NaN</td>\n      <td>NaN</td>\n      <td>nie</td>\n      <td>NaN</td>\n      <td>NaN</td>\n      <td>NaN</td>\n      <td>NaN</td>\n      <td>NaN</td>\n      <td>NaN</td>\n      <td>NaN</td>\n      <td>NaN</td>\n      <td>NaN</td>\n      <td>NaN</td>\n      <td>NaN</td>\n      <td>NaN</td>\n      <td>NaN</td>\n      <td>0.25</td>\n      <td>67</td>\n      <td>pociąg</td>\n      <td>KZ</td>\n      <td>NaN</td>\n      <td>NaN</td>\n    </tr>\n    <tr>\n      <th>3</th>\n      <td>4.0</td>\n      <td>LOS_67-67-109</td>\n      <td>NaN</td>\n      <td>2018-04-26</td>\n      <td>17:05</td>\n      <td>67.0</td>\n      <td>raczej się zgadzam</td>\n      <td>całkowicie się zgadzam</td>\n      <td>całkowicie się zgadzam</td>\n      <td>tramwaj</td>\n      <td>mam bliżej przystanek tramwajowy</td>\n      <td>NaN</td>\n      <td>NaN</td>\n      <td>bardzo dobrze</td>\n      <td>bardzo dobrze</td>\n      <td>raczej dobrze</td>\n      <td>raczej dobrze</td>\n      <td>Nie</td>\n      <td>Nie</td>\n      <td>Nie</td>\n      <td>Tak</td>\n      <td>Nie</td>\n      <td>Nie</td>\n      <td>Nie</td>\n      <td>Nie</td>\n      <td>Tak</td>\n      <td>Nie</td>\n      <td>Nie</td>\n      <td>Nie</td>\n      <td>Nie</td>\n      <td>NaN</td>\n      <td>2.0</td>\n      <td>2.0</td>\n      <td>0.0</td>\n      <td>1.0</td>\n      <td>0.0</td>\n      <td>1.0</td>\n      <td>20-24 (wiek studencki)</td>\n      <td>Mężczyzna</td>\n      <td>student</td>\n      <td>brak zajęcia dodatkowego</td>\n      <td>dobry stan zdrowia</td>\n      <td>NaN</td>\n      <td>nie dotyczy</td>\n      <td>Tak</td>\n      <td>Tak</td>\n      <td>0.5</td>\n      <td>Nie</td>\n      <td>opieka nad inną osobą</td>\n      <td>NaN</td>\n      <td>NaN</td>\n      <td>NaN</td>\n      <td>NaN</td>\n      <td>NaN</td>\n      <td>NaN</td>\n      <td>NaN</td>\n      <td>NaN</td>\n      <td>NaN</td>\n      <td>NaN</td>\n      <td>NaN</td>\n      <td>NaN</td>\n      <td>NaN</td>\n      <td>NaN</td>\n      <td>NaN</td>\n      <td>NaN</td>\n      <td>NaN</td>\n      <td>None</td>\n      <td>NaN</td>\n      <td>NaN</td>\n      <td>NaN</td>\n      <td>NaN</td>\n      <td>NaN</td>\n      <td>NaN</td>\n      <td>NaN</td>\n      <td>NaN</td>\n      <td>NaN</td>\n      <td>NaN</td>\n      <td>NaN</td>\n      <td>NaN</td>\n      <td>NaN</td>\n      <td>NaN</td>\n      <td>NaN</td>\n      <td>NaN</td>\n      <td>NaN</td>\n      <td>NaN</td>\n      <td>NaN</td>\n      <td>NaN</td>\n      <td>NaN</td>\n      <td>NaN</td>\n      <td>NaN</td>\n      <td>NaN</td>\n      <td>NaN</td>\n      <td>NaN</td>\n      <td>NaN</td>\n      <td>NaN</td>\n      <td>None</td>\n      <td>NaN</td>\n      <td>None</td>\n      <td>NaN</td>\n      <td>NaN</td>\n      <td>NaN</td>\n      <td>NaN</td>\n      <td>NaN</td>\n      <td>NaN</td>\n      <td>NaN</td>\n      <td>NaN</td>\n      <td>NaN</td>\n      <td>NaN</td>\n      <td>NaN</td>\n      <td>NaN</td>\n      <td>NaN</td>\n      <td>NaN</td>\n      <td>NaN</td>\n      <td>NaN</td>\n      <td>NaN</td>\n      <td>NaN</td>\n      <td>NaN</td>\n      <td>NaN</td>\n      <td>NaN</td>\n      <td>NaN</td>\n      <td>NaN</td>\n      <td>NaN</td>\n      <td>NaN</td>\n      <td>NaN</td>\n      <td>NaN</td>\n      <td>NaN</td>\n      <td>None</td>\n      <td>NaN</td>\n      <td>None</td>\n      <td>NaN</td>\n      <td>NaN</td>\n      <td>NaN</td>\n      <td>NaN</td>\n      <td>NaN</td>\n      <td>NaN</td>\n      <td>NaN</td>\n      <td>NaN</td>\n      <td>NaN</td>\n      <td>NaN</td>\n      <td>NaN</td>\n      <td>NaN</td>\n      <td>NaN</td>\n      <td>NaN</td>\n      <td>NaN</td>\n      <td>NaN</td>\n      <td>NaN</td>\n      <td>NaN</td>\n      <td>NaN</td>\n      <td>NaN</td>\n      <td>NaN</td>\n      <td>NaN</td>\n      <td>NaN</td>\n      <td>NaN</td>\n      <td>NaN</td>\n      <td>NaN</td>\n      <td>NaN</td>\n      <td>NaN</td>\n      <td>None</td>\n      <td>NaN</td>\n      <td>None</td>\n      <td>NaN</td>\n      <td>NaN</td>\n      <td>NaN</td>\n      <td>NaN</td>\n      <td>NaN</td>\n      <td>NaN</td>\n      <td>NaN</td>\n      <td>NaN</td>\n      <td>NaN</td>\n      <td>NaN</td>\n      <td>NaN</td>\n      <td>NaN</td>\n      <td>NaN</td>\n      <td>NaN</td>\n      <td>NaN</td>\n      <td>NaN</td>\n      <td>NaN</td>\n      <td>NaN</td>\n      <td>NaN</td>\n      <td>NaN</td>\n      <td>NaN</td>\n      <td>NaN</td>\n      <td>NaN</td>\n      <td>NaN</td>\n      <td>NaN</td>\n      <td>NaN</td>\n      <td>NaN</td>\n      <td>NaN</td>\n      <td>None</td>\n      <td>NaN</td>\n      <td>None</td>\n      <td>NaN</td>\n      <td>NaN</td>\n      <td>NaN</td>\n      <td>NaN</td>\n      <td>NaN</td>\n      <td>NaN</td>\n      <td>NaN</td>\n      <td>NaN</td>\n      <td>NaN</td>\n      <td>NaN</td>\n      <td>NaN</td>\n      <td>NaN</td>\n      <td>NaN</td>\n      <td>NaN</td>\n      <td>NaN</td>\n      <td>NaN</td>\n      <td>NaN</td>\n      <td>NaN</td>\n      <td>NaN</td>\n      <td>NaN</td>\n      <td>NaN</td>\n      <td>NaN</td>\n      <td>NaN</td>\n      <td>NaN</td>\n      <td>NaN</td>\n      <td>NaN</td>\n      <td>NaN</td>\n      <td>NaN</td>\n      <td>None</td>\n      <td>None</td>\n      <td>None</td>\n      <td>None</td>\n      <td>NaN</td>\n      <td>NaN</td>\n      <td>None</td>\n      <td>None</td>\n      <td>NaN</td>\n      <td>NaN</td>\n      <td>NaN</td>\n      <td>NaN</td>\n      <td>NaN</td>\n      <td>None</td>\n      <td>NaN</td>\n      <td>NaN</td>\n      <td>NaN</td>\n      <td>NaN</td>\n      <td>NaN</td>\n      <td>NaN</td>\n      <td>NaN</td>\n      <td>NaN</td>\n      <td>NaN</td>\n      <td>NaN</td>\n      <td>NaN</td>\n      <td>NaN</td>\n      <td>NaN</td>\n      <td>NaN</td>\n      <td>NaN</td>\n      <td>NaN</td>\n      <td>NaN</td>\n      <td>None</td>\n      <td>0.0</td>\n      <td>NaN</td>\n      <td>NaN</td>\n      <td>NaN</td>\n      <td>NaN</td>\n      <td>NaN</td>\n      <td>NaN</td>\n      <td>-</td>\n      <td>NaN</td>\n      <td>NaN</td>\n      <td>NaN</td>\n      <td>NaN</td>\n      <td>NaN</td>\n      <td>NaN</td>\n      <td>NaN</td>\n      <td>NaN</td>\n      <td>NaN</td>\n      <td>NaN</td>\n      <td>NaN</td>\n      <td>NaN</td>\n      <td>NaN</td>\n      <td>NaN</td>\n      <td>NaN</td>\n      <td>NaN</td>\n      <td>NaN</td>\n      <td>NaN</td>\n      <td>NaN</td>\n      <td>NaN</td>\n      <td>NaN</td>\n      <td>nie</td>\n      <td>NaN</td>\n      <td>NaN</td>\n      <td>NaN</td>\n      <td>NaN</td>\n      <td>NaN</td>\n      <td>NaN</td>\n      <td>NaN</td>\n      <td>NaN</td>\n      <td>NaN</td>\n      <td>NaN</td>\n      <td>NaN</td>\n      <td>NaN</td>\n      <td>NaN</td>\n      <td>0.25</td>\n      <td>67</td>\n      <td>tramwaj</td>\n      <td>KZ</td>\n      <td>NaN</td>\n      <td>NaN</td>\n    </tr>\n    <tr>\n      <th>4</th>\n      <td>5.0</td>\n      <td>LOS_67-67-401</td>\n      <td>NaN</td>\n      <td>2018-04-26</td>\n      <td>17:10</td>\n      <td>67.0</td>\n      <td>całkowicie się zgadzam</td>\n      <td>całkowicie się zgadzam</td>\n      <td>całkowicie się zgadzam</td>\n      <td>tramwaj</td>\n      <td>Inne</td>\n      <td>KORZYSTANIE Z TRAMWAJU JEDYNIE OKAZYJNIE</td>\n      <td>NaN</td>\n      <td>bardzo dobrze</td>\n      <td>bardzo dobrze</td>\n      <td>bardzo dobrze</td>\n      <td>ani dobrze ani źle</td>\n      <td>Nie</td>\n      <td>Tak</td>\n      <td>Nie</td>\n      <td>Nie</td>\n      <td>Nie</td>\n      <td>Nie</td>\n      <td>Nie</td>\n      <td>Nie</td>\n      <td>Nie</td>\n      <td>Nie</td>\n      <td>Nie</td>\n      <td>Nie</td>\n      <td>Nie</td>\n      <td>NaN</td>\n      <td>2.0</td>\n      <td>2.0</td>\n      <td>1.0</td>\n      <td>0.0</td>\n      <td>0.0</td>\n      <td>0.0</td>\n      <td>61 i więcej (emeryci kobiety)</td>\n      <td>Kobieta</td>\n      <td>emeryt</td>\n      <td>brak zajęcia dodatkowego</td>\n      <td>dolegliwości zdrowotne</td>\n      <td>NaN</td>\n      <td>nie dotyczy</td>\n      <td>Nie</td>\n      <td>Nie</td>\n      <td>0.5</td>\n      <td>Nie</td>\n      <td>brak potrzeby</td>\n      <td>NaN</td>\n      <td>NaN</td>\n      <td>NaN</td>\n      <td>NaN</td>\n      <td>NaN</td>\n      <td>NaN</td>\n      <td>NaN</td>\n      <td>NaN</td>\n      <td>NaN</td>\n      <td>NaN</td>\n      <td>NaN</td>\n      <td>NaN</td>\n      <td>NaN</td>\n      <td>NaN</td>\n      <td>NaN</td>\n      <td>NaN</td>\n      <td>NaN</td>\n      <td>None</td>\n      <td>NaN</td>\n      <td>NaN</td>\n      <td>NaN</td>\n      <td>NaN</td>\n      <td>NaN</td>\n      <td>NaN</td>\n      <td>NaN</td>\n      <td>NaN</td>\n      <td>NaN</td>\n      <td>NaN</td>\n      <td>NaN</td>\n      <td>NaN</td>\n      <td>NaN</td>\n      <td>NaN</td>\n      <td>NaN</td>\n      <td>NaN</td>\n      <td>NaN</td>\n      <td>NaN</td>\n      <td>NaN</td>\n      <td>NaN</td>\n      <td>NaN</td>\n      <td>NaN</td>\n      <td>NaN</td>\n      <td>NaN</td>\n      <td>NaN</td>\n      <td>NaN</td>\n      <td>NaN</td>\n      <td>NaN</td>\n      <td>None</td>\n      <td>NaN</td>\n      <td>None</td>\n      <td>NaN</td>\n      <td>NaN</td>\n      <td>NaN</td>\n      <td>NaN</td>\n      <td>NaN</td>\n      <td>NaN</td>\n      <td>NaN</td>\n      <td>NaN</td>\n      <td>NaN</td>\n      <td>NaN</td>\n      <td>NaN</td>\n      <td>NaN</td>\n      <td>NaN</td>\n      <td>NaN</td>\n      <td>NaN</td>\n      <td>NaN</td>\n      <td>NaN</td>\n      <td>NaN</td>\n      <td>NaN</td>\n      <td>NaN</td>\n      <td>NaN</td>\n      <td>NaN</td>\n      <td>NaN</td>\n      <td>NaN</td>\n      <td>NaN</td>\n      <td>NaN</td>\n      <td>NaN</td>\n      <td>NaN</td>\n      <td>None</td>\n      <td>NaN</td>\n      <td>None</td>\n      <td>NaN</td>\n      <td>NaN</td>\n      <td>NaN</td>\n      <td>NaN</td>\n      <td>NaN</td>\n      <td>NaN</td>\n      <td>NaN</td>\n      <td>NaN</td>\n      <td>NaN</td>\n      <td>NaN</td>\n      <td>NaN</td>\n      <td>NaN</td>\n      <td>NaN</td>\n      <td>NaN</td>\n      <td>NaN</td>\n      <td>NaN</td>\n      <td>NaN</td>\n      <td>NaN</td>\n      <td>NaN</td>\n      <td>NaN</td>\n      <td>NaN</td>\n      <td>NaN</td>\n      <td>NaN</td>\n      <td>NaN</td>\n      <td>NaN</td>\n      <td>NaN</td>\n      <td>NaN</td>\n      <td>NaN</td>\n      <td>None</td>\n      <td>NaN</td>\n      <td>None</td>\n      <td>NaN</td>\n      <td>NaN</td>\n      <td>NaN</td>\n      <td>NaN</td>\n      <td>NaN</td>\n      <td>NaN</td>\n      <td>NaN</td>\n      <td>NaN</td>\n      <td>NaN</td>\n      <td>NaN</td>\n      <td>NaN</td>\n      <td>NaN</td>\n      <td>NaN</td>\n      <td>NaN</td>\n      <td>NaN</td>\n      <td>NaN</td>\n      <td>NaN</td>\n      <td>NaN</td>\n      <td>NaN</td>\n      <td>NaN</td>\n      <td>NaN</td>\n      <td>NaN</td>\n      <td>NaN</td>\n      <td>NaN</td>\n      <td>NaN</td>\n      <td>NaN</td>\n      <td>NaN</td>\n      <td>NaN</td>\n      <td>None</td>\n      <td>NaN</td>\n      <td>None</td>\n      <td>NaN</td>\n      <td>NaN</td>\n      <td>NaN</td>\n      <td>NaN</td>\n      <td>NaN</td>\n      <td>NaN</td>\n      <td>NaN</td>\n      <td>NaN</td>\n      <td>NaN</td>\n      <td>NaN</td>\n      <td>NaN</td>\n      <td>NaN</td>\n      <td>NaN</td>\n      <td>NaN</td>\n      <td>NaN</td>\n      <td>NaN</td>\n      <td>NaN</td>\n      <td>NaN</td>\n      <td>NaN</td>\n      <td>NaN</td>\n      <td>NaN</td>\n      <td>NaN</td>\n      <td>NaN</td>\n      <td>NaN</td>\n      <td>NaN</td>\n      <td>NaN</td>\n      <td>NaN</td>\n      <td>NaN</td>\n      <td>None</td>\n      <td>None</td>\n      <td>None</td>\n      <td>None</td>\n      <td>NaN</td>\n      <td>NaN</td>\n      <td>None</td>\n      <td>None</td>\n      <td>NaN</td>\n      <td>NaN</td>\n      <td>NaN</td>\n      <td>NaN</td>\n      <td>NaN</td>\n      <td>None</td>\n      <td>NaN</td>\n      <td>NaN</td>\n      <td>NaN</td>\n      <td>NaN</td>\n      <td>NaN</td>\n      <td>NaN</td>\n      <td>NaN</td>\n      <td>NaN</td>\n      <td>NaN</td>\n      <td>NaN</td>\n      <td>NaN</td>\n      <td>NaN</td>\n      <td>NaN</td>\n      <td>NaN</td>\n      <td>NaN</td>\n      <td>NaN</td>\n      <td>NaN</td>\n      <td>None</td>\n      <td>0.0</td>\n      <td>NaN</td>\n      <td>NaN</td>\n      <td>NaN</td>\n      <td>NaN</td>\n      <td>NaN</td>\n      <td>NaN</td>\n      <td>-</td>\n      <td>NaN</td>\n      <td>NaN</td>\n      <td>NaN</td>\n      <td>NaN</td>\n      <td>NaN</td>\n      <td>NaN</td>\n      <td>NaN</td>\n      <td>NaN</td>\n      <td>NaN</td>\n      <td>NaN</td>\n      <td>NaN</td>\n      <td>NaN</td>\n      <td>NaN</td>\n      <td>NaN</td>\n      <td>NaN</td>\n      <td>NaN</td>\n      <td>NaN</td>\n      <td>NaN</td>\n      <td>NaN</td>\n      <td>NaN</td>\n      <td>NaN</td>\n      <td>nie</td>\n      <td>NaN</td>\n      <td>NaN</td>\n      <td>NaN</td>\n      <td>NaN</td>\n      <td>NaN</td>\n      <td>NaN</td>\n      <td>NaN</td>\n      <td>NaN</td>\n      <td>NaN</td>\n      <td>NaN</td>\n      <td>NaN</td>\n      <td>NaN</td>\n      <td>NaN</td>\n      <td>0.80</td>\n      <td>67</td>\n      <td>NaN</td>\n      <td>NaN</td>\n      <td>NaN</td>\n      <td>NaN</td>\n    </tr>\n  </tbody>\n</table>\n</div>"
     },
     "metadata": {},
     "execution_count": 3
    }
   ],
   "source": [
    "data.head()"
   ]
  },
  {
   "cell_type": "code",
   "execution_count": 4,
   "metadata": {},
   "outputs": [],
   "source": [
    "chosen_cols = [\n",
    "    'IDENTYFIKACJA ANKIETY_ID_LOS (numer kwestionariusza)',\n",
    "    'IDENTYFIKACJA OSOBY_Nr. osoby w gosp. dom.',\n",
    "    'IDENTYFIKACJA ANKIETY_Data wypełnienia kwestionariusza',\n",
    "    'DANE O RESPONDENCIE_Przedział wiekowy',\n",
    "    'DANE O RESPONDENCIE_Płeć',\n",
    "    'DANE DO STATYSTYK_środek transportu',\n",
    "    '23:59:00_środek transportu podgrupa',\n",
    "    '23:59:00_środek transportu grupa'\n",
    "]\n",
    "\n",
    "data_filtered = data[chosen_cols]\n",
    "\n",
    "data_filtered.columns = [\n",
    "    'id', \n",
    "    'household_person_id',\n",
    "    'questionnaire_date',\n",
    "    'age_bracket', \n",
    "    'sex',\n",
    "    'transport_mode',\n",
    "    'transport_mode_subgroup',\n",
    "    'transport_mode_group'\n",
    "]\n",
    "\n",
    "data_filtered.fillna(0, inplace=True)\n",
    "# data_filtered.dropna(inplace=True)\n",
    "# data_filtered.reset_index(drop=True, inplace=True)"
   ]
  },
  {
   "cell_type": "code",
   "execution_count": 5,
   "metadata": {},
   "outputs": [
    {
     "output_type": "execute_result",
     "data": {
      "text/plain": [
       "              id  household_person_id questionnaire_date  \\\n",
       "0  LOS_67-67-306                  1.0         2018-04-25   \n",
       "1  LOS_67-67-306                  1.0         2018-04-25   \n",
       "2  LOS_67-67-109                  0.0         2018-04-26   \n",
       "3  LOS_67-67-109                  0.0         2018-04-26   \n",
       "4  LOS_67-67-401                  0.0         2018-04-26   \n",
       "\n",
       "                     age_bracket        sex        transport_mode  \\\n",
       "0  61 i więcej (emeryci kobiety)    Kobieta  sam. osobowy pasażer   \n",
       "1  61 i więcej (emeryci kobiety)    Kobieta  sam. osobowy pasażer   \n",
       "2         20-24 (wiek studencki)    Kobieta                     0   \n",
       "3         20-24 (wiek studencki)  Mężczyzna                     0   \n",
       "4  61 i więcej (emeryci kobiety)    Kobieta                     0   \n",
       "\n",
       "  transport_mode_subgroup     transport_mode_group  \n",
       "0    sam. osobowy pasażer  komunikacja samochodowa  \n",
       "1    sam. osobowy pasażer  komunikacja samochodowa  \n",
       "2                       0                        0  \n",
       "3                       0                        0  \n",
       "4                       0                        0  "
      ],
      "text/html": "<div>\n<style scoped>\n    .dataframe tbody tr th:only-of-type {\n        vertical-align: middle;\n    }\n\n    .dataframe tbody tr th {\n        vertical-align: top;\n    }\n\n    .dataframe thead th {\n        text-align: right;\n    }\n</style>\n<table border=\"1\" class=\"dataframe\">\n  <thead>\n    <tr style=\"text-align: right;\">\n      <th></th>\n      <th>id</th>\n      <th>household_person_id</th>\n      <th>questionnaire_date</th>\n      <th>age_bracket</th>\n      <th>sex</th>\n      <th>transport_mode</th>\n      <th>transport_mode_subgroup</th>\n      <th>transport_mode_group</th>\n    </tr>\n  </thead>\n  <tbody>\n    <tr>\n      <th>0</th>\n      <td>LOS_67-67-306</td>\n      <td>1.0</td>\n      <td>2018-04-25</td>\n      <td>61 i więcej (emeryci kobiety)</td>\n      <td>Kobieta</td>\n      <td>sam. osobowy pasażer</td>\n      <td>sam. osobowy pasażer</td>\n      <td>komunikacja samochodowa</td>\n    </tr>\n    <tr>\n      <th>1</th>\n      <td>LOS_67-67-306</td>\n      <td>1.0</td>\n      <td>2018-04-25</td>\n      <td>61 i więcej (emeryci kobiety)</td>\n      <td>Kobieta</td>\n      <td>sam. osobowy pasażer</td>\n      <td>sam. osobowy pasażer</td>\n      <td>komunikacja samochodowa</td>\n    </tr>\n    <tr>\n      <th>2</th>\n      <td>LOS_67-67-109</td>\n      <td>0.0</td>\n      <td>2018-04-26</td>\n      <td>20-24 (wiek studencki)</td>\n      <td>Kobieta</td>\n      <td>0</td>\n      <td>0</td>\n      <td>0</td>\n    </tr>\n    <tr>\n      <th>3</th>\n      <td>LOS_67-67-109</td>\n      <td>0.0</td>\n      <td>2018-04-26</td>\n      <td>20-24 (wiek studencki)</td>\n      <td>Mężczyzna</td>\n      <td>0</td>\n      <td>0</td>\n      <td>0</td>\n    </tr>\n    <tr>\n      <th>4</th>\n      <td>LOS_67-67-401</td>\n      <td>0.0</td>\n      <td>2018-04-26</td>\n      <td>61 i więcej (emeryci kobiety)</td>\n      <td>Kobieta</td>\n      <td>0</td>\n      <td>0</td>\n      <td>0</td>\n    </tr>\n  </tbody>\n</table>\n</div>"
     },
     "metadata": {},
     "execution_count": 5
    }
   ],
   "source": [
    "data_filtered.head()"
   ]
  },
  {
   "cell_type": "code",
   "execution_count": 6,
   "metadata": {},
   "outputs": [],
   "source": [
    "age_bracket_map_dict = {\n",
    "    '6-15 (dzieci)': '6-15',\n",
    "    '16-19 (młodzież)': '16-19',\n",
    "    '20-24 (wiek studencki)': '20-24',\n",
    "    '25-44 (młodsi pracownicy)': '25-44',\n",
    "    '45-60 (starsi pracownicy kobiety)': '45-60',  # '45-60(K)',\n",
    "    '45-65 (starsi pracownicy mężczyźni)': '45-65',  # '45-65(M)',\n",
    "    '61 i więcej (emeryci kobiety)': '61-x',  # '61-(K)',\n",
    "    '66 i więcej (emeryci mężczyźni)': '66-x'  # '66-(M)'\n",
    "}\n",
    "data_filtered.replace({'age_bracket': age_bracket_map_dict}, inplace=True)\n",
    "\n",
    "sex_map_dict = {\n",
    "    'Kobieta': 'K',\n",
    "    'Mężczyzna': 'M'\n",
    "}\n",
    "data_filtered.replace({'sex': sex_map_dict}, inplace=True)\n",
    "\n",
    "data_filtered['age_sex_comb'] = data_filtered['age_bracket'] + '_' + data_filtered['sex']\n",
    "\n",
    "data_filtered['person_id'] = data_filtered['id'] + data_filtered['questionnaire_date'].astype('str') + data_filtered['household_person_id'].astype('str')"
   ]
  },
  {
   "cell_type": "code",
   "execution_count": 17,
   "metadata": {},
   "outputs": [],
   "source": [
    "data_filtered = data_filtered[\n",
    "    data_filtered['transport_mode_group'] == 'komunikacja samochodowa'\n",
    "]"
   ]
  },
  {
   "cell_type": "code",
   "execution_count": 21,
   "metadata": {},
   "outputs": [
    {
     "output_type": "stream",
     "name": "stderr",
     "text": [
      "100%|██████████| 5079/5079 [00:03<00:00, 1293.04it/s]\n"
     ]
    }
   ],
   "source": [
    "def add_is_driver(row):\n",
    "    if row['transport_mode_subgroup'] == 'sam. osobowy kierowca':\n",
    "        row['is_driver'] = 1\n",
    "    elif row['transport_mode_subgroup'] == 'sam. osobowy pasażer':\n",
    "        row['is_driver'] = 0\n",
    "    else:\n",
    "        row['is_driver'] = -1\n",
    "        \n",
    "    return row\n",
    "\n",
    "data_filtered = data_filtered.progress_apply(add_is_driver, axis=1)"
   ]
  },
  {
   "cell_type": "code",
   "execution_count": 23,
   "metadata": {},
   "outputs": [
    {
     "output_type": "execute_result",
     "data": {
      "text/plain": [
       "1    3928\n",
       "0    1015\n",
       "Name: is_driver, dtype: int64"
      ]
     },
     "metadata": {},
     "execution_count": 23
    }
   ],
   "source": [
    "data_filtered = data_filtered[\n",
    "    data_filtered['is_driver'] != -1\n",
    "]\n",
    "\n",
    "data_filtered['is_driver'].value_counts()"
   ]
  },
  {
   "source": [
    "## Distribution: driver or passenger grouped by combinations of age group + gender"
   ],
   "cell_type": "markdown",
   "metadata": {}
  },
  {
   "source": [
    "### Prepare data"
   ],
   "cell_type": "markdown",
   "metadata": {}
  },
  {
   "cell_type": "code",
   "execution_count": 24,
   "metadata": {},
   "outputs": [
    {
     "output_type": "execute_result",
     "data": {
      "text/plain": [
       "22"
      ]
     },
     "metadata": {},
     "execution_count": 24
    }
   ],
   "source": [
    "data_grouped = data_filtered.groupby(['age_sex_comb', 'is_driver'])['is_driver'].count().reset_index(name='count')\n",
    "\n",
    "data_grouped.shape[0]"
   ]
  },
  {
   "cell_type": "code",
   "execution_count": 29,
   "metadata": {},
   "outputs": [
    {
     "output_type": "execute_result",
     "data": {
      "text/plain": [
       "   age_sex_comb  is_driver  count\n",
       "0       16-19_K          0     14\n",
       "1       16-19_K          1      2\n",
       "2       16-19_M          0     20\n",
       "3       16-19_M          1     10\n",
       "4       20-24_K          0     42\n",
       "5       20-24_K          1     79\n",
       "6       20-24_M          0     12\n",
       "7       20-24_M          1    105\n",
       "8       25-44_K          0    145\n",
       "9       25-44_K          1    837\n",
       "10      25-44_M          0     80\n",
       "11      25-44_M          1   1238\n",
       "12      45-60_K          0    124\n",
       "13      45-60_K          1    366\n",
       "14      45-65_M          0     61\n",
       "15      45-65_M          1    918\n",
       "16       6-15_K          0    135\n",
       "17       6-15_M          0    116\n",
       "18       61-x_K          0    227\n",
       "19       61-x_K          1     88\n",
       "20       66-x_M          0     39\n",
       "21       66-x_M          1    285"
      ],
      "text/html": "<div>\n<style scoped>\n    .dataframe tbody tr th:only-of-type {\n        vertical-align: middle;\n    }\n\n    .dataframe tbody tr th {\n        vertical-align: top;\n    }\n\n    .dataframe thead th {\n        text-align: right;\n    }\n</style>\n<table border=\"1\" class=\"dataframe\">\n  <thead>\n    <tr style=\"text-align: right;\">\n      <th></th>\n      <th>age_sex_comb</th>\n      <th>is_driver</th>\n      <th>count</th>\n    </tr>\n  </thead>\n  <tbody>\n    <tr>\n      <th>0</th>\n      <td>16-19_K</td>\n      <td>0</td>\n      <td>14</td>\n    </tr>\n    <tr>\n      <th>1</th>\n      <td>16-19_K</td>\n      <td>1</td>\n      <td>2</td>\n    </tr>\n    <tr>\n      <th>2</th>\n      <td>16-19_M</td>\n      <td>0</td>\n      <td>20</td>\n    </tr>\n    <tr>\n      <th>3</th>\n      <td>16-19_M</td>\n      <td>1</td>\n      <td>10</td>\n    </tr>\n    <tr>\n      <th>4</th>\n      <td>20-24_K</td>\n      <td>0</td>\n      <td>42</td>\n    </tr>\n    <tr>\n      <th>5</th>\n      <td>20-24_K</td>\n      <td>1</td>\n      <td>79</td>\n    </tr>\n    <tr>\n      <th>6</th>\n      <td>20-24_M</td>\n      <td>0</td>\n      <td>12</td>\n    </tr>\n    <tr>\n      <th>7</th>\n      <td>20-24_M</td>\n      <td>1</td>\n      <td>105</td>\n    </tr>\n    <tr>\n      <th>8</th>\n      <td>25-44_K</td>\n      <td>0</td>\n      <td>145</td>\n    </tr>\n    <tr>\n      <th>9</th>\n      <td>25-44_K</td>\n      <td>1</td>\n      <td>837</td>\n    </tr>\n    <tr>\n      <th>10</th>\n      <td>25-44_M</td>\n      <td>0</td>\n      <td>80</td>\n    </tr>\n    <tr>\n      <th>11</th>\n      <td>25-44_M</td>\n      <td>1</td>\n      <td>1238</td>\n    </tr>\n    <tr>\n      <th>12</th>\n      <td>45-60_K</td>\n      <td>0</td>\n      <td>124</td>\n    </tr>\n    <tr>\n      <th>13</th>\n      <td>45-60_K</td>\n      <td>1</td>\n      <td>366</td>\n    </tr>\n    <tr>\n      <th>14</th>\n      <td>45-65_M</td>\n      <td>0</td>\n      <td>61</td>\n    </tr>\n    <tr>\n      <th>15</th>\n      <td>45-65_M</td>\n      <td>1</td>\n      <td>918</td>\n    </tr>\n    <tr>\n      <th>16</th>\n      <td>6-15_K</td>\n      <td>0</td>\n      <td>135</td>\n    </tr>\n    <tr>\n      <th>17</th>\n      <td>6-15_M</td>\n      <td>0</td>\n      <td>116</td>\n    </tr>\n    <tr>\n      <th>18</th>\n      <td>61-x_K</td>\n      <td>0</td>\n      <td>227</td>\n    </tr>\n    <tr>\n      <th>19</th>\n      <td>61-x_K</td>\n      <td>1</td>\n      <td>88</td>\n    </tr>\n    <tr>\n      <th>20</th>\n      <td>66-x_M</td>\n      <td>0</td>\n      <td>39</td>\n    </tr>\n    <tr>\n      <th>21</th>\n      <td>66-x_M</td>\n      <td>1</td>\n      <td>285</td>\n    </tr>\n  </tbody>\n</table>\n</div>"
     },
     "metadata": {},
     "execution_count": 29
    }
   ],
   "source": [
    "data_grouped"
   ]
  },
  {
   "cell_type": "code",
   "execution_count": 28,
   "metadata": {},
   "outputs": [
    {
     "output_type": "execute_result",
     "data": {
      "text/plain": [
       "14"
      ]
     },
     "metadata": {},
     "execution_count": 28
    }
   ],
   "source": [
    "data_filtered[\n",
    "    (data_filtered['age_sex_comb'] == '16-19_K') &\n",
    "    (data_filtered['is_driver'] == 0)\n",
    "].shape[0]"
   ]
  },
  {
   "source": [
    "### Distribution"
   ],
   "cell_type": "markdown",
   "metadata": {}
  },
  {
   "cell_type": "code",
   "execution_count": 31,
   "metadata": {},
   "outputs": [],
   "source": [
    "unique_age_sex_comb = data_grouped['age_sex_comb'].unique()\n",
    "\n",
    "drivers_dist = {}\n",
    "\n",
    "for age_sex_comb in unique_age_sex_comb:\n",
    "    drivers_dist[age_sex_comb] = {}\n",
    "\n",
    "    if age_sex_comb in ['6-15_K', '6-15_M']:\n",
    "        possible_driver = 0\n",
    "    else:\n",
    "        possible_driver = 1\n",
    "\n",
    "    for driver in range(0, possible_driver+1):\n",
    "        try:\n",
    "            count = int(data_grouped[\n",
    "                (data_grouped['is_driver'] == driver) & \n",
    "                (data_grouped['age_sex_comb'] == age_sex_comb)\n",
    "            ]['count'])\n",
    "        except TypeError:\n",
    "            count = 1\n",
    "\n",
    "        drivers_dist[age_sex_comb][driver] = count"
   ]
  },
  {
   "cell_type": "code",
   "execution_count": 32,
   "metadata": {},
   "outputs": [
    {
     "output_type": "execute_result",
     "data": {
      "text/plain": [
       "{'16-19_K': {0: 14, 1: 2},\n",
       " '16-19_M': {0: 20, 1: 10},\n",
       " '20-24_K': {0: 42, 1: 79},\n",
       " '20-24_M': {0: 12, 1: 105},\n",
       " '25-44_K': {0: 145, 1: 837},\n",
       " '25-44_M': {0: 80, 1: 1238},\n",
       " '45-60_K': {0: 124, 1: 366},\n",
       " '45-65_M': {0: 61, 1: 918},\n",
       " '6-15_K': {0: 135},\n",
       " '6-15_M': {0: 116},\n",
       " '61-x_K': {0: 227, 1: 88},\n",
       " '66-x_M': {0: 39, 1: 285}}"
      ]
     },
     "metadata": {},
     "execution_count": 32
    }
   ],
   "source": [
    "drivers_dist"
   ]
  },
  {
   "source": [
    "### Probability distribution"
   ],
   "cell_type": "markdown",
   "metadata": {}
  },
  {
   "cell_type": "code",
   "execution_count": 33,
   "metadata": {},
   "outputs": [],
   "source": [
    "for age_sex_comb, is_driver in drivers_dist.items():\n",
    "    is_driver_sum = np.array(list(is_driver.values())).sum()\n",
    "    if is_driver_sum != 0:\n",
    "        for i in list(drivers_dist[age_sex_comb].keys()):\n",
    "            drivers_dist[age_sex_comb][i] = drivers_dist[age_sex_comb][i] / is_driver_sum"
   ]
  },
  {
   "cell_type": "code",
   "execution_count": 34,
   "metadata": {},
   "outputs": [
    {
     "output_type": "execute_result",
     "data": {
      "text/plain": [
       "{'16-19_K': {0: 0.875, 1: 0.125},\n",
       " '16-19_M': {0: 0.6666666666666666, 1: 0.3333333333333333},\n",
       " '20-24_K': {0: 0.34710743801652894, 1: 0.6528925619834711},\n",
       " '20-24_M': {0: 0.10256410256410256, 1: 0.8974358974358975},\n",
       " '25-44_K': {0: 0.14765784114052954, 1: 0.8523421588594705},\n",
       " '25-44_M': {0: 0.06069802731411229, 1: 0.9393019726858877},\n",
       " '45-60_K': {0: 0.2530612244897959, 1: 0.746938775510204},\n",
       " '45-65_M': {0: 0.06230847803881512, 1: 0.9376915219611849},\n",
       " '6-15_K': {0: 1.0},\n",
       " '6-15_M': {0: 1.0},\n",
       " '61-x_K': {0: 0.7206349206349206, 1: 0.27936507936507937},\n",
       " '66-x_M': {0: 0.12037037037037036, 1: 0.8796296296296297}}"
      ]
     },
     "metadata": {},
     "execution_count": 34
    }
   ],
   "source": [
    "drivers_dist"
   ]
  },
  {
   "source": [
    "### Save probability distribution to .json"
   ],
   "cell_type": "markdown",
   "metadata": {}
  },
  {
   "cell_type": "code",
   "execution_count": 35,
   "metadata": {},
   "outputs": [],
   "source": [
    "out_dir = '../../data/processed/mc/drivers'\n",
    "\n",
    "if not os.path.exists(out_dir):\n",
    "    os.makedirs(out_dir)"
   ]
  },
  {
   "cell_type": "code",
   "execution_count": 36,
   "metadata": {},
   "outputs": [],
   "source": [
    "out_file = 'drivers_dist.json'\n",
    "out_path = os.path.join(out_dir, out_file)\n",
    "\n",
    "with open(out_path, 'w') as f:\n",
    "    json.dump(drivers_dist, f)"
   ]
  },
  {
   "cell_type": "code",
   "execution_count": null,
   "metadata": {},
   "outputs": [],
   "source": []
  }
 ]
}