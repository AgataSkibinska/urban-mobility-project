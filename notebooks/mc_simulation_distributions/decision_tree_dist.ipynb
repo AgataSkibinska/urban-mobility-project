{
 "metadata": {
  "language_info": {
   "codemirror_mode": {
    "name": "ipython",
    "version": 3
   },
   "file_extension": ".py",
   "mimetype": "text/x-python",
   "name": "python",
   "nbconvert_exporter": "python",
   "pygments_lexer": "ipython3",
   "version": "3.8.2-final"
  },
  "orig_nbformat": 2,
  "kernelspec": {
   "name": "python3",
   "display_name": "Python 3.8.2 64-bit",
   "metadata": {
    "interpreter": {
     "hash": "949029d92ec5e65609893ae6417d70f6e4b61e42c3828da5fd372a1d70154353"
    }
   }
  }
 },
 "nbformat": 4,
 "nbformat_minor": 2,
 "cells": [
  {
   "cell_type": "code",
   "execution_count": 1,
   "metadata": {},
   "outputs": [],
   "source": [
    "import json\n",
    "import os\n",
    "\n",
    "import contextily as ctx\n",
    "import geopandas as gpd\n",
    "import matplotlib.pyplot as plt\n",
    "import numpy as np\n",
    "import pandas as pd\n",
    "import plotly.graph_objects as go\n",
    "import seaborn as sn\n",
    "from shapely.geometry import Point, LineString\n",
    "from sklearn.metrics import classification_report, confusion_matrix\n",
    "from sklearn.model_selection import train_test_split\n",
    "from sklearn import tree\n",
    "from sklearn.tree import DecisionTreeClassifier\n",
    "from tqdm import tqdm\n",
    "\n",
    "tqdm.pandas()"
   ]
  },
  {
   "cell_type": "code",
   "execution_count": 2,
   "metadata": {},
   "outputs": [],
   "source": [
    "pd.options.display.max_columns = None"
   ]
  },
  {
   "source": [
    "# Data loading"
   ],
   "cell_type": "markdown",
   "metadata": {}
  },
  {
   "source": [
    "### Kornel"
   ],
   "cell_type": "markdown",
   "metadata": {}
  },
  {
   "cell_type": "code",
   "execution_count": 96,
   "metadata": {},
   "outputs": [],
   "source": [
    "# Kornel\n",
    "data = pd.read_excel('../../data/raw/Ankiety.xlsx', \"Wrocław_ankiety+podróże\", engine='openpyxl', header=[0,1])\n",
    "data.columns = [f'{i}_{j}' for i, j in data.columns]\n",
    "data = data.iloc[0:14241]"
   ]
  },
  {
   "source": [
    "### Marcel"
   ],
   "cell_type": "markdown",
   "metadata": {}
  },
  {
   "cell_type": "code",
   "execution_count": 3,
   "metadata": {},
   "outputs": [
    {
     "output_type": "stream",
     "name": "stdout",
     "text": [
      "All column names are unique.\n"
     ]
    }
   ],
   "source": [
    "# Marcel\n",
    "kbr_data = '../../data/raw/KBR/'\n",
    "kbr_dir = '1_Ankiety_w_gospodarstwach_domowych/'\n",
    "kbr_file = 'Etap_V_1_1_Ankiety_w_gospodarstwach_domowych_Wroclaw.xlsx'\n",
    "excel_sheet = 'Wrocław_ankiety+podróże'\n",
    "\n",
    "data = pd.read_excel(os.path.join(kbr_data, kbr_dir, kbr_file), excel_sheet, header=[0,1], engine='openpyxl')\n",
    "\n",
    "data.columns = [f'{i}_{j}' for i, j in data.columns]\n",
    "data = data.iloc[0:14241]\n",
    "\n",
    "if data.shape[1] == len(set(list(data.columns))):\n",
    "    print('All column names are unique.')\n",
    "else:\n",
    "    print('All column names are NOT unique.')"
   ]
  },
  {
   "cell_type": "code",
   "execution_count": 4,
   "metadata": {},
   "outputs": [],
   "source": [
    "kr_processed_data = '../../data/processed/kr'\n",
    "kr_processed_file = 'distance_between_regions.json'\n",
    "\n",
    "with open(os.path.join(kr_processed_data, kr_processed_file), 'r') as f:\n",
    "    distance_between_regions = json.load(f)"
   ]
  },
  {
   "cell_type": "code",
   "execution_count": 5,
   "metadata": {},
   "outputs": [
    {
     "output_type": "execute_result",
     "data": {
      "text/plain": [
       "ia pojazdów elektrycznych   [Inne]  \\\n",
       "0                                                NaN                                    \n",
       "1                                                NaN                                    \n",
       "2                                                NaN                                    \n",
       "3                                                NaN                                    \n",
       "4                                                NaN                                    \n",
       "\n",
       "   PRZEMIESZCZENIE 6_Przyczyna dla [C]: Carpooling  \\\n",
       "0                                              NaN   \n",
       "1                                              NaN   \n",
       "2                                              NaN   \n",
       "3                                              NaN   \n",
       "4                                              NaN   \n",
       "\n",
       "   PRZEMIESZCZENIE 6_Przyczyna dla [C]: Carpooling [Inne]  \\\n",
       "0                                                NaN        \n",
       "1                                                NaN        \n",
       "2                                                NaN        \n",
       "3                                                NaN        \n",
       "4                                                NaN        \n",
       "\n",
       "   PRZEMIESZCZENIE 6_Przyczyna dla [P] Przemieszczenie piesze.1  \\\n",
       "0                                                NaN              \n",
       "1                                                NaN              \n",
       "2                                                NaN              \n",
       "3                                                NaN              \n",
       "4                                                NaN              \n",
       "\n",
       "   PRZEMIESZCZENIE 6_Przyczyna dla [P] Przemieszczenie piesze [Inne].1  \\\n",
       "0                                                NaN                     \n",
       "1                                                NaN                     \n",
       "2                                                NaN                     \n",
       "3                                                NaN                     \n",
       "4                                                NaN                     \n",
       "\n",
       "   PRZEMIESZCZENIE 6_Przyczyna dla [R] Przemieszczenie rowerem.1  \\\n",
       "0                                                NaN               \n",
       "1                                                NaN               \n",
       "2                                                NaN               \n",
       "3                                                NaN               \n",
       "4                                                NaN               \n",
       "\n",
       "   PRZEMIESZCZENIE 6_Przyczyna dla [R] Przemieszczenie rowerem [Inne].1  \\\n",
       "0                                                NaN                      \n",
       "1                                                NaN                      \n",
       "2                                                NaN                      \n",
       "3                                                NaN                      \n",
       "4                                                NaN                      \n",
       "\n",
       "   PRZEMIESZCZENIE 6_Przyczyna dla [SOK, SOP, M] Samochód, motor .1  \\\n",
       "0                                                NaN                  \n",
       "1                                                NaN                  \n",
       "2                                                NaN                  \n",
       "3                                                NaN                  \n",
       "4                                                NaN                  \n",
       "\n",
       "   PRZEMIESZCZENIE 6_Przyczyna dla [SOK, SOP, M] Samochód, motor  [Inne].1  \\\n",
       "0                                                NaN                         \n",
       "1                                                NaN                         \n",
       "2                                                NaN                         \n",
       "3                                                NaN                         \n",
       "4                                                NaN                         \n",
       "\n",
       "   PRZEMIESZCZENIE 6_Przyczyna dla [KW, KZ , T,  PO] Komunikacja zbiorowa .1  \\\n",
       "0                                                NaN                           \n",
       "1                                                NaN                           \n",
       "2                                                NaN                           \n",
       "3                                                NaN                           \n",
       "4                                                NaN                           \n",
       "\n",
       "   PRZEMIESZCZENIE 6_Przyczyna dla [KW, KZ , T,  PO] Komunikacja zbiorowa  [Inne].1  \\\n",
       "0                                                NaN                                  \n",
       "1                                                NaN                                  \n",
       "2                                                NaN                                  \n",
       "3                                                NaN                                  \n",
       "4                                                NaN                                  \n",
       "\n",
       "   PRZEMIESZCZENIE 6_Przyczyna dla [E]: Wypożyczalnia pojazdów elektrycznych  .1  \\\n",
       "0                                                NaN                               \n",
       "1                                                NaN                               \n",
       "2                                                NaN                               \n",
       "3                                                NaN                               \n",
       "4                                                NaN                               \n",
       "\n",
       "   PRZEMIESZCZENIE 6_Przyczyna dla [E]: Wypożyczalnia pojazdów elektrycznych   [Inne].1  \\\n",
       "0                                                NaN                                      \n",
       "1                                                NaN                                      \n",
       "2                                                NaN                                      \n",
       "3                                                NaN                                      \n",
       "4                                                NaN                                      \n",
       "\n",
       "   PRZEMIESZCZENIE 6_Przyczyna dla [C]: Carpooling.1  \\\n",
       "0                                                NaN   \n",
       "1                                                NaN   \n",
       "2                                                NaN   \n",
       "3                                                NaN   \n",
       "4                                                NaN   \n",
       "\n",
       "   PRZEMIESZCZENIE 6_Przyczyna dla [C]: Carpooling [Inne].1  \\\n",
       "0                                                NaN          \n",
       "1                                                NaN          \n",
       "2                                                NaN          \n",
       "3                                                NaN          \n",
       "4                                                NaN          \n",
       "\n",
       "  PRZEMIESZCZENIE 6_Godzina zakończenia jazdy/dojścia (gg:mm:ss)  \\\n",
       "0                                               None               \n",
       "1                                               None               \n",
       "2                                               None               \n",
       "3                                               None               \n",
       "4                                               None               \n",
       "\n",
       "   DANE DO STATYSTYK_Liczba przemieszczeń DANE DO STATYSTYK_środek transportu  \\\n",
       "0                                     1.0                sam. osobowy pasażer   \n",
       "1                                     1.0                sam. osobowy pasażer   \n",
       "2                                     0.0                                 NaN   \n",
       "3                                     0.0                                 NaN   \n",
       "4                                     0.0                                 NaN   \n",
       "\n",
       "  DANE DO STATYSTYK_typ podróży DANE DO STATYSTYK_czas trwania podróży  \\\n",
       "0                     niepiesze                               00:10:00   \n",
       "1                     niepiesze                               00:10:00   \n",
       "2                           NaN                                    NaN   \n",
       "3                           NaN                                    NaN   \n",
       "4                           NaN                                    NaN   \n",
       "\n",
       "  23:59:00_środek transportu podgrupa 23:59:00_środek transportu grupa  \\\n",
       "0                sam. osobowy pasażer          komunikacja samochodowa   \n",
       "1                sam. osobowy pasażer          komunikacja samochodowa   \n",
       "2                                 NaN                              NaN   \n",
       "3                                 NaN                              NaN   \n",
       "4                                 NaN                              NaN   \n",
       "\n",
       "  23:59:00_pora dnia 23:59:00_motywacje 23:59:00_motywacje grupy  \\\n",
       "0          9:00-9:59           dom-Inne                 dom-Inne   \n",
       "1          9:00-9:59           Inne-dom                 Inne-dom   \n",
       "2                NaN                  -                      NaN   \n",
       "3                NaN                  -                      NaN   \n",
       "4                NaN                  -                      NaN   \n",
       "\n",
       "  23:59:00_ŚT_pom  Przemieszczenie 1_rodzaj autobusu  \\\n",
       "0             NaN                                NaN   \n",
       "1             NaN                                NaN   \n",
       "2             NaN                                NaN   \n",
       "3             NaN                                NaN   \n",
       "4             NaN                                NaN   \n",
       "\n",
       "  Przemieszczenie 2_rodzaj autobusu Przemieszczenie 3_rodzaj autobusu  \\\n",
       "0                               NaN                               NaN   \n",
       "1                               NaN                               NaN   \n",
       "2                               NaN                               NaN   \n",
       "3                               NaN                               NaN   \n",
       "4                               NaN                               NaN   \n",
       "\n",
       "  Przemieszczenie 4_rodzaj autobusu Przemieszczenie 5_rodzaj autobusu  \\\n",
       "0                               NaN                               NaN   \n",
       "1                               NaN                               NaN   \n",
       "2                               NaN                               NaN   \n",
       "3                               NaN                               NaN   \n",
       "4                               NaN                               NaN   \n",
       "\n",
       "   Przemieszczenie 5_liczba przesiadek  \\\n",
       "0                                  0.0   \n",
       "1                                  0.0   \n",
       "2                                  NaN   \n",
       "3                                  NaN   \n",
       "4                                  NaN   \n",
       "\n",
       "   Przemieszczenie 5_przemieszczenie 1\\npiesze [1]/niepiesze[0]  \\\n",
       "0                                                1.0              \n",
       "1                                                1.0              \n",
       "2                                                NaN              \n",
       "3                                                NaN              \n",
       "4                                                NaN              \n",
       "\n",
       "   Przemieszczenie 5_przemieszczenie 2\\npiesze [1]/niepiesze[0]  \\\n",
       "0                                                NaN              \n",
       "1                                                NaN              \n",
       "2                                                NaN              \n",
       "3                                                NaN              \n",
       "4                                                NaN              \n",
       "\n",
       "   Przemieszczenie 5_przemieszczenie 3\\npiesze [1]/niepiesze[0]  \\\n",
       "0                                                NaN              \n",
       "1                                                NaN              \n",
       "2                                                NaN              \n",
       "3                                                NaN              \n",
       "4                                                NaN              \n",
       "\n",
       "   Przemieszczenie 5_przemieszczenie 4\\npiesze [1]/niepiesze[0]  \\\n",
       "0                                                NaN              \n",
       "1                                                NaN              \n",
       "2                                                NaN              \n",
       "3                                                NaN              \n",
       "4                                                NaN              \n",
       "\n",
       "   Przemieszczenie 5_przemieszczenie 5\\npiesze [1]/niepiesze[0]  \\\n",
       "0                                                NaN              \n",
       "1                                                NaN              \n",
       "2                                                NaN              \n",
       "3                                                NaN              \n",
       "4                                                NaN              \n",
       "\n",
       "   Przemieszczenie 5_przemieszczenie 6\\npiesze [1]/niepiesze[0]  \\\n",
       "0                                                NaN              \n",
       "1                                                NaN              \n",
       "2                                                NaN              \n",
       "3                                                NaN              \n",
       "4                                                NaN              \n",
       "\n",
       "   Przemieszczenie 5_liczba przesiadek.1  \\\n",
       "0                                    0.0   \n",
       "1                                    0.0   \n",
       "2                                    NaN   \n",
       "3                                    NaN   \n",
       "4                                    NaN   \n",
       "\n",
       "  Przemieszczenie 5_przemieszczenie 1\\nKomunikacja zbiorowa [KZ]  \\\n",
       "0                                                nie               \n",
       "1                                                nie               \n",
       "2                                                NaN               \n",
       "3                                                NaN               \n",
       "4                                                NaN               \n",
       "\n",
       "  Przemieszczenie 5_przemieszczenie 2\\nKomunikacja zbiorowa [KZ]  \\\n",
       "0                                                nie               \n",
       "1                                                nie               \n",
       "2                                                NaN               \n",
       "3                                                NaN               \n",
       "4                                                NaN               \n",
       "\n",
       "  Przemieszczenie 5_przemieszczenie 3\\nKomunikacja zbiorowa [KZ]  \\\n",
       "0                                                nie               \n",
       "1                                                nie               \n",
       "2                                                NaN               \n",
       "3                                                NaN               \n",
       "4                                                NaN               \n",
       "\n",
       "  Przemieszczenie 5_przemieszczenie 4\\nKomunikacja zbiorowa [KZ]  \\\n",
       "0                                                nie               \n",
       "1                                                nie               \n",
       "2                                                NaN               \n",
       "3                                                NaN               \n",
       "4                                                NaN               \n",
       "\n",
       "  Przemieszczenie 5_przemieszczenie 5\\nKomunikacja zbiorowa [KZ]  \\\n",
       "0                                                nie               \n",
       "1                                                nie               \n",
       "2                                                NaN               \n",
       "3                                                NaN               \n",
       "4                                                NaN               \n",
       "\n",
       "  Przemieszczenie 5_przemieszczenie 6\\nKomunikacja zbiorowa [KZ]  \\\n",
       "0                                                nie               \n",
       "1                                                nie               \n",
       "2                                                NaN               \n",
       "3                                                NaN               \n",
       "4                                                NaN               \n",
       "\n",
       "  Przemieszczenie 5_Czy w przemieszczeniu wystąpiło przemieszczenie KZ?  \\\n",
       "0                                                nie                      \n",
       "1                                                nie                      \n",
       "2                                                nie                      \n",
       "3                                                nie                      \n",
       "4                                                nie                      \n",
       "\n",
       "   Przemieszczenie 5_Liczba przesiadek\\n[komunikacja zbiorowa]  \\\n",
       "0                                                0.0             \n",
       "1                                                0.0             \n",
       "2                                                NaN             \n",
       "3                                                NaN             \n",
       "4                                                NaN             \n",
       "\n",
       "  Przemieszczenie 1_czas dojścia Przemieszczenie 2_czas dojścia  \\\n",
       "0                            NaN                            NaN   \n",
       "1                            NaN                            NaN   \n",
       "2                            NaN                            NaN   \n",
       "3                            NaN                            NaN   \n",
       "4                            NaN                            NaN   \n",
       "\n",
       "  Przemieszczenie 3_czas dojścia Przemieszczenie 4_czas dojścia  \\\n",
       "0                            NaN                            NaN   \n",
       "1                            NaN                            NaN   \n",
       "2                            NaN                            NaN   \n",
       "3                            NaN                            NaN   \n",
       "4                            NaN                            NaN   \n",
       "\n",
       "  Przemieszczenie 5_czas dojścia Przemieszczenie 1_czas ogólnie  \\\n",
       "0                            NaN                            NaN   \n",
       "1                            NaN                            NaN   \n",
       "2                            NaN                            NaN   \n",
       "3                            NaN                            NaN   \n",
       "4                            NaN                            NaN   \n",
       "\n",
       "  Przemieszczenie 2_czas ogólnie Przemieszczenie 3_czas ogólnie  \\\n",
       "0                            NaN                            NaN   \n",
       "1                            NaN                            NaN   \n",
       "2                            NaN                            NaN   \n",
       "3                            NaN                            NaN   \n",
       "4                            NaN                            NaN   \n",
       "\n",
       "  Przemieszczenie 4_czas ogólnie Przemieszczenie 5_czas ogólnie  \\\n",
       "0                            NaN                            NaN   \n",
       "1                            NaN                            NaN   \n",
       "2                            NaN                            NaN   \n",
       "3                            NaN                            NaN   \n",
       "4                            NaN                            NaN   \n",
       "\n",
       "   Przemieszczenie 5_c  Przemieszczenie 5_00:05:00  \\\n",
       "0                  0.0                         NaN   \n",
       "1                  1.0                         NaN   \n",
       "2                  NaN                         NaN   \n",
       "3                  NaN                         NaN   \n",
       "4                  NaN                         NaN   \n",
       "\n",
       "   12290.267442599752_współczynnik korygujący  \\\n",
       "0                                        0.80   \n",
       "1                                        0.80   \n",
       "2                                        0.25   \n",
       "3                                        0.25   \n",
       "4                                        0.80   \n",
       "\n",
       "  12290.267442599752_Numer rejonu zagregowanego  \\\n",
       "0                                            67   \n",
       "1                                            67   \n",
       "2                                            67   \n",
       "3                                            67   \n",
       "4                                            67   \n",
       "\n",
       "                   12290.267442599752_a 12290.267442599752_b  \\\n",
       "0  komunikacja zbiorowa poza Wrocławiem                   KZ   \n",
       "1     komunikacja zbiorowa we Wrocławiu                   KZ   \n",
       "2                                pociąg                   KZ   \n",
       "3                               tramwaj                   KZ   \n",
       "4                                   NaN                  NaN   \n",
       "\n",
       "   12290.267442599752_średnie napełnienie 12290.267442599752_motywacje grupy  \n",
       "0                                     2.0                           dom-Inne  \n",
       "1                                     2.0                           Inne-dom  \n",
       "2                                     NaN                                NaN  \n",
       "3                                     NaN                                NaN  \n",
       "4                                     NaN                                NaN  "
      ],
      "text/html": "<div>\n<style scoped>\n    .dataframe tbody tr th:only-of-type {\n        vertical-align: middle;\n    }\n\n    .dataframe tbody tr th {\n        vertical-align: top;\n    }\n\n    .dataframe thead th {\n        text-align: right;\n    }\n</style>\n<table border=\"1\" class=\"dataframe\">\n  <thead>\n    <tr style=\"text-align: right;\">\n      <th></th>\n      <th>Lp_Lp</th>\n      <th>IDENTYFIKACJA ANKIETY_ID_LOS (numer kwestionariusza)</th>\n      <th>IDENTYFIKACJA ANKIETY_Nr ankietera</th>\n      <th>IDENTYFIKACJA ANKIETY_Data wypełnienia kwestionariusza</th>\n      <th>IDENTYFIKACJA ANKIETY_Godzina wypełnienia kwestionariusza</th>\n      <th>IDENTYFIKACJA ANKIETY_Nr rejonu komunikacyjnego</th>\n      <th>PREFERENCJE DOT. MOBILNOŚCI MIEJSKIEJ_Wprowadzenie opłat za wjazd do centrum dla wszystkich pojazdów</th>\n      <th>PREFERENCJE DOT. MOBILNOŚCI MIEJSKIEJ_Dopuszczenie dojazdu do centrum dla pojazdów, które nie zanieczyszczają środowiska (np. pojazdy elektryczne, hybrydowe lub spełniające najwyższe normy spalania)</th>\n      <th>PREFERENCJE DOT. MOBILNOŚCI MIEJSKIEJ_Jaka jest Pana/Pani opinia na temat rozwiązań wspierających kursowanie tramwajów i autobusów, takich jak priorytet przejazdu na skrzyżowaniach oraz wydzielone pasy na jezdniach?</th>\n      <th>PREFERENCJE DOT. MOBILNOŚCI MIEJSKIEJ_Z jakiego środka transportu zbiorowego korzysta Pan/Pani najczęściej?</th>\n      <th>PREFERENCJE DOT. MOBILNOŚCI MIEJSKIEJ_Dlaczego? \\n[tramwaj/autobus]</th>\n      <th>PREFERENCJE DOT. MOBILNOŚCI MIEJSKIEJ_Dlaczego? [Inne]\\n[tramwaj/autobus]</th>\n      <th>PREFERENCJE DOT. MOBILNOŚCI MIEJSKIEJ_Jaka jest Pana/Pani opinia na temat rozwoju systemu kolei aglomeracyjnej na terenie Wrocławia i wokół niego (rozbudowa układu torowego, zwiększenie częstotliwości itd.)?</th>\n      <th>PREFERENCJE DOT. MOBILNOŚCI MIEJSKIEJ_Jak Pan/Pani ocenia wygodę jazdy pojazdami komunikacji zbiorowej?</th>\n      <th>PREFERENCJE DOT. MOBILNOŚCI MIEJSKIEJ_Jak Pan/Pani ocenia czystość taboru komunikacji zbiorowej we Wrocławiu?</th>\n      <th>PREFERENCJE DOT. MOBILNOŚCI MIEJSKIEJ_Jak Pan/Pani ocenia punktualność komunikacji zbiorowej we Wrocławiu?</th>\n      <th>PREFERENCJE DOT. MOBILNOŚCI MIEJSKIEJ_Jak ocenia Pan/Pani efekty dotychczasowych działań związanych z rozbudową systemu rowerowego we Wrocławiu (dróg i parkingów rowerowych)?</th>\n      <th>PREFERENCJE DOT. MOBILNOŚCI MIEJSKIEJ_Jakie elementy stanowią dla Pana/Pani największa uciążliwość w codziennych podróżach pieszych po Wrocławiu (można wskazać maksymalnie 3 odpowiedzi) [niekorzystne ustawienia sygnalizacji świetlnej]</th>\n      <th>PREFERENCJE DOT. MOBILNOŚCI MIEJSKIEJ_Jakie elementy stanowią dla Pana/Pani największa uciążliwość w codziennych podróżach pieszych po Wrocławiu (można wskazać maksymalnie 3 odpowiedzi) [brak chodników i konieczność poruszania się jezdnią/poboczem/wydeptaną ścieżką]</th>\n      <th>PREFERENCJE DOT. MOBILNOŚCI MIEJSKIEJ_Jakie elementy stanowią dla Pana/Pani największa uciążliwość w codziennych podróżach pieszych po Wrocławiu (można wskazać maksymalnie 3 odpowiedzi) [zły stan nawierzchni chodników]</th>\n      <th>PREFERENCJE DOT. MOBILNOŚCI MIEJSKIEJ_Jakie elementy stanowią dla Pana/Pani największa uciążliwość w codziennych podróżach pieszych po Wrocławiu (można wskazać maksymalnie 3 odpowiedzi) [zastawianie chodników przez parkujące samochody]</th>\n      <th>PREFERENCJE DOT. MOBILNOŚCI MIEJSKIEJ_Jakie elementy stanowią dla Pana/Pani największa uciążliwość w codziennych podróżach pieszych po Wrocławiu (można wskazać maksymalnie 3 odpowiedzi) [niebezpieczne zachowania kierowców]</th>\n      <th>PREFERENCJE DOT. MOBILNOŚCI MIEJSKIEJ_Jakie elementy stanowią dla Pana/Pani największa uciążliwość w codziennych podróżach pieszych po Wrocławiu (można wskazać maksymalnie 3 odpowiedzi) [zagrożenie ze strony rowerzystów poruszających się chodnikami]</th>\n      <th>PREFERENCJE DOT. MOBILNOŚCI MIEJSKIEJ_Jakie elementy stanowią dla Pana/Pani największa uciążliwość w codziennych podróżach pieszych po Wrocławiu (można wskazać maksymalnie 3 odpowiedzi) [zbyt wysokie krawężniki]</th>\n      <th>PREFERENCJE DOT. MOBILNOŚCI MIEJSKIEJ_Jakie elementy stanowią dla Pana/Pani największa uciążliwość w codziennych podróżach pieszych po Wrocławiu (można wskazać maksymalnie 3 odpowiedzi) [brak bieżącego utrzymania czystości/odśnieżania]</th>\n      <th>PREFERENCJE DOT. MOBILNOŚCI MIEJSKIEJ_Jakie elementy stanowią dla Pana/Pani największa uciążliwość w codziennych podróżach pieszych po Wrocławiu (można wskazać maksymalnie 3 odpowiedzi) [niewystarczająca liczba przejść dla pieszych]</th>\n      <th>PREFERENCJE DOT. MOBILNOŚCI MIEJSKIEJ_Jakie elementy stanowią dla Pana/Pani największa uciążliwość w codziennych podróżach pieszych po Wrocławiu (można wskazać maksymalnie 3 odpowiedzi) [brak miejsc wypoczynku na trasie dojścia (np. ławki, zieleń)]</th>\n      <th>PREFERENCJE DOT. MOBILNOŚCI MIEJSKIEJ_Jakie elementy stanowią dla Pana/Pani największa uciążliwość w codziennych podróżach pieszych po Wrocławiu (można wskazać maksymalnie 3 odpowiedzi) [uciążliwy ruch kołowy]</th>\n      <th>PREFERENCJE DOT. MOBILNOŚCI MIEJSKIEJ_Jakie elementy stanowią dla Pana/Pani największa uciążliwość w codziennych podróżach pieszych po Wrocławiu (można wskazać maksymalnie 3 odpowiedzi) [niewłaściwe oświetlenie ciągów pieszych]</th>\n      <th>PREFERENCJE DOT. MOBILNOŚCI MIEJSKIEJ_Jakie elementy stanowią dla Pana/Pani największa uciążliwość w codziennych podróżach pieszych po Wrocławiu (można wskazać maksymalnie 3 odpowiedzi) [nie odczuwam uciążliwości w podróżach pieszych po Wrocławiu]</th>\n      <th>PREFERENCJE DOT. MOBILNOŚCI MIEJSKIEJ_Jakie elementy stanowią dla Pana/Pani największa uciążliwość w codziennych podróżach pieszych po Wrocławiu (można wskazać maksymalnie 3 odpowiedzi) [Inne]</th>\n      <th>DANE O GOSPODARSTWIE DOMOWYM_Liczba osób w gospodarstwie domowym [ogółem]</th>\n      <th>DANE O GOSPODARSTWIE DOMOWYM_Liczba osób w gospodarstwie domowym [powyżej 6 roku życia]</th>\n      <th>DANE O GOSPODARSTWIE DOMOWYM_Liczba środków transportu w gospodarstwie domowym [Samochód prywatny, zarejestrowany na osobę z gosp. domowego]</th>\n      <th>DANE O GOSPODARSTWIE DOMOWYM_Liczba środków transportu w gospodarstwie domowym [Samochód prywatny, nie zarejestrowany na osobę z gosp. domowego [użyczone]]</th>\n      <th>DANE O GOSPODARSTWIE DOMOWYM_Liczba środków transportu w gospodarstwie domowym [Samochód służbowy]</th>\n      <th>DANE O GOSPODARSTWIE DOMOWYM_Liczba środków transportu w gospodarstwie domowym [Rower]</th>\n      <th>DANE O RESPONDENCIE_Przedział wiekowy</th>\n      <th>DANE O RESPONDENCIE_Płeć</th>\n      <th>DANE O RESPONDENCIE_Zajęcie podstawowe</th>\n      <th>DANE O RESPONDENCIE_Zajęcie dodatkowe</th>\n      <th>DANE O RESPONDENCIE_Kondycja fizyczna</th>\n      <th>DANE O RESPONDENCIE_Kondycja fizyczna [Inne]</th>\n      <th>DANE O RESPONDENCIE_Opieka nad innymi osobami</th>\n      <th>DANE O RESPONDENCIE_Posiadanie prawa jazdy kat. B</th>\n      <th>DANE O RESPONDENCIE_Posiadanie biletu okresowego</th>\n      <th>DANE O RESPONDENCIE_Posiadanie ulgi na przejazd komunikacją zbiorową we Wrocławiu</th>\n      <th>DANE O RESPONDENCIE_Czy Pan/Pani odbył/a w dniu wczorajszym co najmniej jedną podróż?</th>\n      <th>DANE O RESPONDENCIE_Jaki był powód nie odbycia podróży?</th>\n      <th>IDENTYFIKACJA OSOBY_Nr. osoby w gosp. dom.</th>\n      <th>IDENTYFIKACJA OSOBY_Nr podróży</th>\n      <th>OPIS PODRÓŻY \"ŹRÓDŁO\"_Godzina rozpoczęcia podróży\\n[gg:mm:ss]</th>\n      <th>OPIS PODRÓŻY \"ŹRÓDŁO\"_Z jakiego miejsca</th>\n      <th>OPIS PODRÓŻY \"ŹRÓDŁO\"_Miejsce rozpoczęcia podróży [Gmina]</th>\n      <th>OPIS PODRÓŻY \"ŹRÓDŁO\"_Miejsce rozpoczęcia podróży \\n[Ulica, tylko poza Wrocławiem]</th>\n      <th>OPIS PODRÓŻY \"ŹRÓDŁO\"_nr</th>\n      <th>OPIS PODRÓŻY \"ŹRÓDŁO\"_Punkt charakterystyczny</th>\n      <th>OPIS PODRÓŻY \"ŹRÓDŁO\"_Nr rejonu</th>\n      <th>OPIS PODRÓŻY \"CEL\"_Mijesce zakończenia podróży [Gmina]</th>\n      <th>OPIS PODRÓŻY \"CEL\"_Mijesce zakończenia podróży\\n[Ulica, tylko poza Wrocławiem]</th>\n      <th>OPIS PODRÓŻY \"CEL\"_nr</th>\n      <th>OPIS PODRÓŻY \"CEL\"_punkt charakterystyczny</th>\n      <th>OPIS PODRÓŻY \"CEL\"_Nr rejonu</th>\n      <th>OPIS PODRÓŻY \"CEL\"_Do jakiego miejsca</th>\n      <th>OPIS PODRÓŻY \"CEL\"_Godzina zakończenia podróży \\n[gg:mm:ss]</th>\n      <th>OPIS PODRÓŻY \"CEL\"_Do jakiego miejsca [Inne]</th>\n      <th>PRZEMIESZCZENIE 1_Godzina rozpoczęcia jazdy/dojścia (gg:mm:ss)</th>\n      <th>PRZEMIESZCZENIE 1_Wykorzystany środek transportu w ramach wykonywanej podróży</th>\n      <th>PRZEMIESZCZENIE 1_Wykorzystany środek transportu w ramach wykonywanej podróży [Inne]</th>\n      <th>PRZEMIESZCZENIE 1_Liczba osób</th>\n      <th>PRZEMIESZCZENIE 1_Numer linii autobusowej (dotyczy komunikacji zbiorowej we Wrocławiu)</th>\n      <th>PRZEMIESZCZENIE 1_Przyczyna dla [P] Przemieszczenie piesze</th>\n      <th>PRZEMIESZCZENIE 1_Przyczyna dla [P] Przemieszczenie piesze [Inne]</th>\n      <th>PRZEMIESZCZENIE 1_Przyczyna dla [R] Przemieszczenie rowerem</th>\n      <th>PRZEMIESZCZENIE 1_Przyczyna dla [R] Przemieszczenie rowerem [Inne]</th>\n      <th>PRZEMIESZCZENIE 1_Przyczyna dla [SOK, SOP, M] Samochód, motor</th>\n      <th>PRZEMIESZCZENIE 1_Przyczyna dla [SOK, SOP, M] Samochód, motor  [Inne]</th>\n      <th>PRZEMIESZCZENIE 1_Przyczyna dla [KW, KZ , T,  PO] Komunikacja zbiorowa</th>\n      <th>PRZEMIESZCZENIE 1_Przyczyna dla [KW, KZ , T,  PO] Komunikacja zbiorowa  [Inne]</th>\n      <th>PRZEMIESZCZENIE 1_Przyczyna dla [E]: Wypożyczalnia pojazdów elektrycznych</th>\n      <th>PRZEMIESZCZENIE 1_Przyczyna dla [E]: Wypożyczalnia pojazdów elektrycznych   [Inne]</th>\n      <th>PRZEMIESZCZENIE 1_Przyczyna dla [C]: Carpooling</th>\n      <th>PRZEMIESZCZENIE 1_Przyczyna dla [C]: Carpooling [Inne]</th>\n      <th>PRZEMIESZCZENIE 1_Przyczyna dla [P] Przemieszczenie piesze.1</th>\n      <th>PRZEMIESZCZENIE 1_Przyczyna dla [P] Przemieszczenie piesze [Inne].1</th>\n      <th>PRZEMIESZCZENIE 1_Przyczyna dla [R] Przemieszczenie rowerem.1</th>\n      <th>PRZEMIESZCZENIE 1_Przyczyna dla [R] Przemieszczenie rowerem [Inne].1</th>\n      <th>PRZEMIESZCZENIE 1_Przyczyna dla [SOK, SOP, M] Samochód, motor .1</th>\n      <th>PRZEMIESZCZENIE 1_Przyczyna dla [SOK, SOP, M] Samochód, motor  [Inne].1</th>\n      <th>PRZEMIESZCZENIE 1_Przyczyna dla [KW, KZ , T,  PO] Komunikacja zbiorowa .1</th>\n      <th>PRZEMIESZCZENIE 1_Przyczyna dla [KW, KZ , T,  PO] Komunikacja zbiorowa  [Inne].1</th>\n      <th>PRZEMIESZCZENIE 1_Przyczyna dla [E]: Wypożyczalnia pojazdów elektrycznych  .1</th>\n      <th>PRZEMIESZCZENIE 1_Przyczyna dla [E]: Wypożyczalnia pojazdów elektrycznych   [Inne].1</th>\n      <th>PRZEMIESZCZENIE 1_Przyczyna dla [C]: Carpooling.1</th>\n      <th>PRZEMIESZCZENIE 1_Przyczyna dla [C]: Carpooling [Inne].1</th>\n      <th>PRZEMIESZCZENIE 1_Godzina zakończenia jazdy/dojścia (gg:mm:ss)</th>\n      <th>PRZEMIESZCZENIE 2_Dodać następną jazdę/dojście?</th>\n      <th>PRZEMIESZCZENIE 2_Godzina rozpoczęcia jazdy/dojścia (gg:mm)</th>\n      <th>PRZEMIESZCZENIE 2_Wykorzystany środek transportu w ramach wykonywanej podróży</th>\n      <th>PRZEMIESZCZENIE 2_Wykorzystany środek transportu w ramach wykonywanej podróży [Inne]</th>\n      <th>PRZEMIESZCZENIE 2_Liczba osób</th>\n      <th>PRZEMIESZCZENIE 2_Numer linii autobusowej (dotyczy komunikacji zbiorowej we Wrocławiu)</th>\n      <th>PRZEMIESZCZENIE 2_Przyczyna dla [P] Przemieszczenie piesze</th>\n      <th>PRZEMIESZCZENIE 2_Przyczyna dla [P] Przemieszczenie piesze [Inne]</th>\n      <th>PRZEMIESZCZENIE 2_Przyczyna dla [R] Przemieszczenie rowerem</th>\n      <th>PRZEMIESZCZENIE 2_Przyczyna dla [R] Przemieszczenie rowerem [Inne]</th>\n      <th>PRZEMIESZCZENIE 2_Przyczyna dla [SOK, SOP, M] Samochód, motor</th>\n      <th>PRZEMIESZCZENIE 2_Przyczyna dla [SOK, SOP, M] Samochód, motor  [Inne]</th>\n      <th>PRZEMIESZCZENIE 2_Przyczyna dla [KW, KZ , T,  PO] Komunikacja zbiorowa</th>\n      <th>PRZEMIESZCZENIE 2_Przyczyna dla [KW, KZ , T,  PO] Komunikacja zbiorowa  [Inne]</th>\n      <th>PRZEMIESZCZENIE 2_Przyczyna dla [E]: Wypożyczalnia pojazdów elektrycznych</th>\n      <th>PRZEMIESZCZENIE 2_Przyczyna dla [E]: Wypożyczalnia pojazdów elektrycznych   [Inne]</th>\n      <th>PRZEMIESZCZENIE 2_Przyczyna dla [C]: Carpooling</th>\n      <th>PRZEMIESZCZENIE 2_Przyczyna dla [C]: Carpooling [Inne]</th>\n      <th>PRZEMIESZCZENIE 2_Przyczyna dla [P] Przemieszczenie piesze.1</th>\n      <th>PRZEMIESZCZENIE 2_Przyczyna dla [P] Przemieszczenie piesze [Inne].1</th>\n      <th>PRZEMIESZCZENIE 2_Przyczyna dla [R] Przemieszczenie rowerem.1</th>\n      <th>PRZEMIESZCZENIE 2_Przyczyna dla [R] Przemieszczenie rowerem [Inne].1</th>\n      <th>PRZEMIESZCZENIE 2_Przyczyna dla [SOK, SOP, M] Samochód, motor .1</th>\n      <th>PRZEMIESZCZENIE 2_Przyczyna dla [SOK, SOP, M] Samochód, motor  [Inne].1</th>\n      <th>PRZEMIESZCZENIE 2_Przyczyna dla [KW, KZ , T,  PO] Komunikacja zbiorowa .1</th>\n      <th>PRZEMIESZCZENIE 2_Przyczyna dla [KW, KZ , T,  PO] Komunikacja zbiorowa  [Inne].1</th>\n      <th>PRZEMIESZCZENIE 2_Przyczyna dla [E]: Wypożyczalnia pojazdów elektrycznych  .1</th>\n      <th>PRZEMIESZCZENIE 2_Przyczyna dla [E]: Wypożyczalnia pojazdów elektrycznych   [Inne].1</th>\n      <th>PRZEMIESZCZENIE 2_Przyczyna dla [C]: Carpooling.1</th>\n      <th>PRZEMIESZCZENIE 2_Przyczyna dla [C]: Carpooling [Inne].1</th>\n      <th>PRZEMIESZCZENIE 2_Godzina zakończenia jazdy/dojścia (gg:mm:ss)</th>\n      <th>PRZEMIESZCZENIE 3_Dodać następną jazdę/dojście?</th>\n      <th>PRZEMIESZCZENIE 3_Godzina rozpoczęcia jazdy/dojścia (gg:mm)</th>\n      <th>PRZEMIESZCZENIE 3_Wykorzystany środek transportu w ramach wykonywanej podróży</th>\n      <th>PRZEMIESZCZENIE 3_Wykorzystany środek transportu w ramach wykonywanej podróży [Inne]</th>\n      <th>PRZEMIESZCZENIE 3_Liczba osób</th>\n      <th>PRZEMIESZCZENIE 3_Numer linii autobusowej (dotyczy komunikacji zbiorowej we Wrocławiu)</th>\n      <th>PRZEMIESZCZENIE 3_Przyczyna dla [P] Przemieszczenie piesze</th>\n      <th>PRZEMIESZCZENIE 3_Przyczyna dla [P] Przemieszczenie piesze [Inne]</th>\n      <th>PRZEMIESZCZENIE 3_Przyczyna dla [R] Przemieszczenie rowerem</th>\n      <th>PRZEMIESZCZENIE 3_Przyczyna dla [R] Przemieszczenie rowerem [Inne]</th>\n      <th>PRZEMIESZCZENIE 3_Przyczyna dla [SOK, SOP, M] Samochód, motor</th>\n      <th>PRZEMIESZCZENIE 3_Przyczyna dla [SOK, SOP, M] Samochód, motor  [Inne]</th>\n      <th>PRZEMIESZCZENIE 3_Przyczyna dla [KW, KZ , T,  PO] Komunikacja zbiorowa</th>\n      <th>PRZEMIESZCZENIE 3_Przyczyna dla [KW, KZ , T,  PO] Komunikacja zbiorowa  [Inne]</th>\n      <th>PRZEMIESZCZENIE 3_Przyczyna dla [E]: Wypożyczalnia pojazdów elektrycznych</th>\n      <th>PRZEMIESZCZENIE 3_Przyczyna dla [E]: Wypożyczalnia pojazdów elektrycznych   [Inne]</th>\n      <th>PRZEMIESZCZENIE 3_Przyczyna dla [C]: Carpooling</th>\n      <th>PRZEMIESZCZENIE 3_Przyczyna dla [C]: Carpooling [Inne]</th>\n      <th>PRZEMIESZCZENIE 3_Przyczyna dla [P] Przemieszczenie piesze.1</th>\n      <th>PRZEMIESZCZENIE 3_Przyczyna dla [P] Przemieszczenie piesze [Inne].1</th>\n      <th>PRZEMIESZCZENIE 3_Przyczyna dla [R] Przemieszczenie rowerem.1</th>\n      <th>PRZEMIESZCZENIE 3_Przyczyna dla [R] Przemieszczenie rowerem [Inne].1</th>\n      <th>PRZEMIESZCZENIE 3_Przyczyna dla [SOK, SOP, M] Samochód, motor .1</th>\n      <th>PRZEMIESZCZENIE 3_Przyczyna dla [SOK, SOP, M] Samochód, motor  [Inne].1</th>\n      <th>PRZEMIESZCZENIE 3_Przyczyna dla [KW, KZ , T,  PO] Komunikacja zbiorowa .1</th>\n      <th>PRZEMIESZCZENIE 3_Przyczyna dla [KW, KZ , T,  PO] Komunikacja zbiorowa  [Inne].1</th>\n      <th>PRZEMIESZCZENIE 3_Przyczyna dla [E]: Wypożyczalnia pojazdów elektrycznych  .1</th>\n      <th>PRZEMIESZCZENIE 3_Przyczyna dla [E]: Wypożyczalnia pojazdów elektrycznych   [Inne].1</th>\n      <th>PRZEMIESZCZENIE 3_Przyczyna dla [C]: Carpooling.1</th>\n      <th>PRZEMIESZCZENIE 3_Przyczyna dla [C]: Carpooling [Inne].1</th>\n      <th>PRZEMIESZCZENIE 3_Godzina zakończenia jazdy/dojścia (gg:mm:ss)</th>\n      <th>PRZEMIESZCZENIE 4_Dodać następną jazdę/dojście?</th>\n      <th>PRZEMIESZCZENIE 4_Godzina rozpoczęcia jazdy/dojścia (gg:mm)</th>\n      <th>PRZEMIESZCZENIE 4_Wykorzystany środek transportu w ramach wykonywanej podróży</th>\n      <th>PRZEMIESZCZENIE 4_Wykorzystany środek transportu w ramach wykonywanej podróży [Inne]</th>\n      <th>PRZEMIESZCZENIE 4_Liczba osób</th>\n      <th>PRZEMIESZCZENIE 4_Numer linii autobusowej (dotyczy komunikacji zbiorowej we Wrocławiu)</th>\n      <th>PRZEMIESZCZENIE 4_Przyczyna dla [P] Przemieszczenie piesze</th>\n      <th>PRZEMIESZCZENIE 4_Przyczyna dla [P] Przemieszczenie piesze [Inne]</th>\n      <th>PRZEMIESZCZENIE 4_Przyczyna dla [R] Przemieszczenie rowerem</th>\n      <th>PRZEMIESZCZENIE 4_Przyczyna dla [R] Przemieszczenie rowerem [Inne]</th>\n      <th>PRZEMIESZCZENIE 4_Przyczyna dla [SOK, SOP, M] Samochód, motor</th>\n      <th>PRZEMIESZCZENIE 4_Przyczyna dla [SOK, SOP, M] Samochód, motor  [Inne]</th>\n      <th>PRZEMIESZCZENIE 4_Przyczyna dla [KW, KZ , T,  PO] Komunikacja zbiorowa</th>\n      <th>PRZEMIESZCZENIE 4_Przyczyna dla [KW, KZ , T,  PO] Komunikacja zbiorowa  [Inne]</th>\n      <th>PRZEMIESZCZENIE 4_Przyczyna dla [E]: Wypożyczalnia pojazdów elektrycznych</th>\n      <th>PRZEMIESZCZENIE 4_Przyczyna dla [E]: Wypożyczalnia pojazdów elektrycznych   [Inne]</th>\n      <th>PRZEMIESZCZENIE 4_Przyczyna dla [C]: Carpooling</th>\n      <th>PRZEMIESZCZENIE 4_Przyczyna dla [C]: Carpooling [Inne]</th>\n      <th>PRZEMIESZCZENIE 4_Przyczyna dla [P] Przemieszczenie piesze.1</th>\n      <th>PRZEMIESZCZENIE 4_Przyczyna dla [P] Przemieszczenie piesze [Inne].1</th>\n      <th>PRZEMIESZCZENIE 4_Przyczyna dla [R] Przemieszczenie rowerem.1</th>\n      <th>PRZEMIESZCZENIE 4_Przyczyna dla [R] Przemieszczenie rowerem [Inne].1</th>\n      <th>PRZEMIESZCZENIE 4_Przyczyna dla [SOK, SOP, M] Samochód, motor .1</th>\n      <th>PRZEMIESZCZENIE 4_Przyczyna dla [SOK, SOP, M] Samochód, motor  [Inne].1</th>\n      <th>PRZEMIESZCZENIE 4_Przyczyna dla [KW, KZ , T,  PO] Komunikacja zbiorowa .1</th>\n      <th>PRZEMIESZCZENIE 4_Przyczyna dla [KW, KZ , T,  PO] Komunikacja zbiorowa  [Inne].1</th>\n      <th>PRZEMIESZCZENIE 4_Przyczyna dla [E]: Wypożyczalnia pojazdów elektrycznych  .1</th>\n      <th>PRZEMIESZCZENIE 4_Przyczyna dla [E]: Wypożyczalnia pojazdów elektrycznych   [Inne].1</th>\n      <th>PRZEMIESZCZENIE 4_Przyczyna dla [C]: Carpooling.1</th>\n      <th>PRZEMIESZCZENIE 4_Przyczyna dla [C]: Carpooling [Inne].1</th>\n      <th>PRZEMIESZCZENIE 4_Godzina zakończenia jazdy/dojścia (gg:mm:ss)</th>\n      <th>PRZEMIESZCZENIE 5_Dodać następną jazdę/dojście?</th>\n      <th>PRZEMIESZCZENIE 5_Godzina rozpoczęcia jazdy/dojścia (gg:mm)</th>\n      <th>PRZEMIESZCZENIE 5_Wykorzystany środek transportu w ramach wykonywanej podróży</th>\n      <th>PRZEMIESZCZENIE 5_Wykorzystany środek transportu w ramach wykonywanej podróży [Inne]</th>\n      <th>PRZEMIESZCZENIE 5_Liczba osób</th>\n      <th>PRZEMIESZCZENIE 5_Numer linii autobusowej (dotyczy komunikacji zbiorowej we Wrocławiu)</th>\n      <th>PRZEMIESZCZENIE 5_Przyczyna dla [P] Przemieszczenie piesze</th>\n      <th>PRZEMIESZCZENIE 5_Przyczyna dla [P] Przemieszczenie piesze [Inne]</th>\n      <th>PRZEMIESZCZENIE 5_Przyczyna dla [R] Przemieszczenie rowerem</th>\n      <th>PRZEMIESZCZENIE 5_Przyczyna dla [R] Przemieszczenie rowerem [Inne]</th>\n      <th>PRZEMIESZCZENIE 5_Przyczyna dla [SOK, SOP, M] Samochód, motor</th>\n      <th>PRZEMIESZCZENIE 5_Przyczyna dla [SOK, SOP, M] Samochód, motor  [Inne]</th>\n      <th>PRZEMIESZCZENIE 5_Przyczyna dla [KW, KZ , T,  PO] Komunikacja zbiorowa</th>\n      <th>PRZEMIESZCZENIE 5_Przyczyna dla [KW, KZ , T,  PO] Komunikacja zbiorowa  [Inne]</th>\n      <th>PRZEMIESZCZENIE 5_Przyczyna dla [E]: Wypożyczalnia pojazdów elektrycznych</th>\n      <th>PRZEMIESZCZENIE 5_Przyczyna dla [E]: Wypożyczalnia pojazdów elektrycznych   [Inne]</th>\n      <th>PRZEMIESZCZENIE 5_Przyczyna dla [C]: Carpooling</th>\n      <th>PRZEMIESZCZENIE 5_Przyczyna dla [C]: Carpooling [Inne]</th>\n      <th>PRZEMIESZCZENIE 5_Przyczyna dla [P] Przemieszczenie piesze.1</th>\n      <th>PRZEMIESZCZENIE 5_Przyczyna dla [P] Przemieszczenie piesze [Inne].1</th>\n      <th>PRZEMIESZCZENIE 5_Przyczyna dla [R] Przemieszczenie rowerem.1</th>\n      <th>PRZEMIESZCZENIE 5_Przyczyna dla [R] Przemieszczenie rowerem [Inne].1</th>\n      <th>PRZEMIESZCZENIE 5_Przyczyna dla [SOK, SOP, M] Samochód, motor .1</th>\n      <th>PRZEMIESZCZENIE 5_Przyczyna dla [SOK, SOP, M] Samochód, motor  [Inne].1</th>\n      <th>PRZEMIESZCZENIE 5_Przyczyna dla [KW, KZ , T,  PO] Komunikacja zbiorowa .1</th>\n      <th>PRZEMIESZCZENIE 5_Przyczyna dla [KW, KZ , T,  PO] Komunikacja zbiorowa  [Inne].1</th>\n      <th>PRZEMIESZCZENIE 5_Przyczyna dla [E]: Wypożyczalnia pojazdów elektrycznych  .1</th>\n      <th>PRZEMIESZCZENIE 5_Przyczyna dla [E]: Wypożyczalnia pojazdów elektrycznych   [Inne].1</th>\n      <th>PRZEMIESZCZENIE 5_Przyczyna dla [C]: Carpooling.1</th>\n      <th>PRZEMIESZCZENIE 5_Przyczyna dla [C]: Carpooling [Inne].1</th>\n      <th>PRZEMIESZCZENIE 5_Godzina zakończenia jazdy/dojścia (gg:mm:ss)</th>\n      <th>PRZEMIESZCZENIE 6_Dodać następną jazdę/dojście?</th>\n      <th>PRZEMIESZCZENIE 6_Godzina rozpoczęcia jazdy/dojścia (gg:mm:ss)</th>\n      <th>PRZEMIESZCZENIE 6_Wykorzystany środek transportu w ramach wykonywanej podróży</th>\n      <th>PRZEMIESZCZENIE 6_Wykorzystany środek transportu w ramach wykonywanej podróży [Inne]</th>\n      <th>PRZEMIESZCZENIE 6_Liczba osób</th>\n      <th>PRZEMIESZCZENIE 6_Numer linii autobusowej (dotyczy komunikacji zbiorowej we Wrocławiu)</th>\n      <th>PRZEMIESZCZENIE 6_Przyczyna dla [P] Przemieszczenie piesze</th>\n      <th>PRZEMIESZCZENIE 6_Przyczyna dla [P] Przemieszczenie piesze [Inne]</th>\n      <th>PRZEMIESZCZENIE 6_Przyczyna dla [R] Przemieszczenie rowerem</th>\n      <th>PRZEMIESZCZENIE 6_Przyczyna dla [R] Przemieszczenie rowerem [Inne]</th>\n      <th>PRZEMIESZCZENIE 6_Przyczyna dla [SOK, SOP, M] Samochód, motor</th>\n      <th>PRZEMIESZCZENIE 6_Przyczyna dla [SOK, SOP, M] Samochód, motor  [Inne]</th>\n      <th>PRZEMIESZCZENIE 6_Przyczyna dla [KW, KZ , T,  PO] Komunikacja zbiorowa</th>\n      <th>PRZEMIESZCZENIE 6_Przyczyna dla [KW, KZ , T,  PO] Komunikacja zbiorowa  [Inne]</th>\n      <th>PRZEMIESZCZENIE 6_Przyczyna dla [E]: Wypożyczalnia pojazdów elektrycznych</th>\n      <th>PRZEMIESZCZENIE 6_Przyczyna dla [E]: Wypożyczalnia pojazdów elektrycznych   [Inne]</th>\n      <th>PRZEMIESZCZENIE 6_Przyczyna dla [C]: Carpooling</th>\n      <th>PRZEMIESZCZENIE 6_Przyczyna dla [C]: Carpooling [Inne]</th>\n      <th>PRZEMIESZCZENIE 6_Przyczyna dla [P] Przemieszczenie piesze.1</th>\n      <th>PRZEMIESZCZENIE 6_Przyczyna dla [P] Przemieszczenie piesze [Inne].1</th>\n      <th>PRZEMIESZCZENIE 6_Przyczyna dla [R] Przemieszczenie rowerem.1</th>\n      <th>PRZEMIESZCZENIE 6_Przyczyna dla [R] Przemieszczenie rowerem [Inne].1</th>\n      <th>PRZEMIESZCZENIE 6_Przyczyna dla [SOK, SOP, M] Samochód, motor .1</th>\n      <th>PRZEMIESZCZENIE 6_Przyczyna dla [SOK, SOP, M] Samochód, motor  [Inne].1</th>\n      <th>PRZEMIESZCZENIE 6_Przyczyna dla [KW, KZ , T,  PO] Komunikacja zbiorowa .1</th>\n      <th>PRZEMIESZCZENIE 6_Przyczyna dla [KW, KZ , T,  PO] Komunikacja zbiorowa  [Inne].1</th>\n      <th>PRZEMIESZCZENIE 6_Przyczyna dla [E]: Wypożyczalnia pojazdów elektrycznych  .1</th>\n      <th>PRZEMIESZCZENIE 6_Przyczyna dla [E]: Wypożyczalnia pojazdów elektrycznych   [Inne].1</th>\n      <th>PRZEMIESZCZENIE 6_Przyczyna dla [C]: Carpooling.1</th>\n      <th>PRZEMIESZCZENIE 6_Przyczyna dla [C]: Carpooling [Inne].1</th>\n      <th>PRZEMIESZCZENIE 6_Godzina zakończenia jazdy/dojścia (gg:mm:ss)</th>\n      <th>DANE DO STATYSTYK_Liczba przemieszczeń</th>\n      <th>DANE DO STATYSTYK_środek transportu</th>\n      <th>DANE DO STATYSTYK_typ podróży</th>\n      <th>DANE DO STATYSTYK_czas trwania podróży</th>\n      <th>23:59:00_środek transportu podgrupa</th>\n      <th>23:59:00_środek transportu grupa</th>\n      <th>23:59:00_pora dnia</th>\n      <th>23:59:00_motywacje</th>\n      <th>23:59:00_motywacje grupy</th>\n      <th>23:59:00_ŚT_pom</th>\n      <th>Przemieszczenie 1_rodzaj autobusu</th>\n      <th>Przemieszczenie 2_rodzaj autobusu</th>\n      <th>Przemieszczenie 3_rodzaj autobusu</th>\n      <th>Przemieszczenie 4_rodzaj autobusu</th>\n      <th>Przemieszczenie 5_rodzaj autobusu</th>\n      <th>Przemieszczenie 5_liczba przesiadek</th>\n      <th>Przemieszczenie 5_przemieszczenie 1\\npiesze [1]/niepiesze[0]</th>\n      <th>Przemieszczenie 5_przemieszczenie 2\\npiesze [1]/niepiesze[0]</th>\n      <th>Przemieszczenie 5_przemieszczenie 3\\npiesze [1]/niepiesze[0]</th>\n      <th>Przemieszczenie 5_przemieszczenie 4\\npiesze [1]/niepiesze[0]</th>\n      <th>Przemieszczenie 5_przemieszczenie 5\\npiesze [1]/niepiesze[0]</th>\n      <th>Przemieszczenie 5_przemieszczenie 6\\npiesze [1]/niepiesze[0]</th>\n      <th>Przemieszczenie 5_liczba przesiadek.1</th>\n      <th>Przemieszczenie 5_przemieszczenie 1\\nKomunikacja zbiorowa [KZ]</th>\n      <th>Przemieszczenie 5_przemieszczenie 2\\nKomunikacja zbiorowa [KZ]</th>\n      <th>Przemieszczenie 5_przemieszczenie 3\\nKomunikacja zbiorowa [KZ]</th>\n      <th>Przemieszczenie 5_przemieszczenie 4\\nKomunikacja zbiorowa [KZ]</th>\n      <th>Przemieszczenie 5_przemieszczenie 5\\nKomunikacja zbiorowa [KZ]</th>\n      <th>Przemieszczenie 5_przemieszczenie 6\\nKomunikacja zbiorowa [KZ]</th>\n      <th>Przemieszczenie 5_Czy w przemieszczeniu wystąpiło przemieszczenie KZ?</th>\n      <th>Przemieszczenie 5_Liczba przesiadek\\n[komunikacja zbiorowa]</th>\n      <th>Przemieszczenie 1_czas dojścia</th>\n      <th>Przemieszczenie 2_czas dojścia</th>\n      <th>Przemieszczenie 3_czas dojścia</th>\n      <th>Przemieszczenie 4_czas dojścia</th>\n      <th>Przemieszczenie 5_czas dojścia</th>\n      <th>Przemieszczenie 1_czas ogólnie</th>\n      <th>Przemieszczenie 2_czas ogólnie</th>\n      <th>Przemieszczenie 3_czas ogólnie</th>\n      <th>Przemieszczenie 4_czas ogólnie</th>\n      <th>Przemieszczenie 5_czas ogólnie</th>\n      <th>Przemieszczenie 5_c</th>\n      <th>Przemieszczenie 5_00:05:00</th>\n      <th>12290.267442599752_współczynnik korygujący</th>\n      <th>12290.267442599752_Numer rejonu zagregowanego</th>\n      <th>12290.267442599752_a</th>\n      <th>12290.267442599752_b</th>\n      <th>12290.267442599752_średnie napełnienie</th>\n      <th>12290.267442599752_motywacje grupy</th>\n    </tr>\n  </thead>\n  <tbody>\n    <tr>\n      <th>0</th>\n      <td>1.0</td>\n      <td>LOS_67-67-306</td>\n      <td>NaN</td>\n      <td>2018-04-25</td>\n      <td>17:20</td>\n      <td>67.0</td>\n      <td>całkowicie się zgadzam</td>\n      <td>całkowicie się zgadzam</td>\n      <td>całkowicie się zgadzam</td>\n      <td>tramwaj</td>\n      <td>częściej kursuje</td>\n      <td>NaN</td>\n      <td>NaN</td>\n      <td>bardzo dobrze</td>\n      <td>raczej dobrze</td>\n      <td>raczej dobrze</td>\n      <td>bardzo dobrze</td>\n      <td>Nie</td>\n      <td>Nie</td>\n      <td>Nie</td>\n      <td>Nie</td>\n      <td>Nie</td>\n      <td>Tak</td>\n      <td>Tak</td>\n      <td>Nie</td>\n      <td>Nie</td>\n      <td>Nie</td>\n      <td>Tak</td>\n      <td>Nie</td>\n      <td>Nie</td>\n      <td>NaN</td>\n      <td>1.0</td>\n      <td>1.0</td>\n      <td>0.0</td>\n      <td>0.0</td>\n      <td>0.0</td>\n      <td>1.0</td>\n      <td>61 i więcej (emeryci kobiety)</td>\n      <td>Kobieta</td>\n      <td>emeryt</td>\n      <td>pracujący prowadzący działalność poza domem</td>\n      <td>dobry stan zdrowia</td>\n      <td>NaN</td>\n      <td>nie dotyczy</td>\n      <td>Tak</td>\n      <td>Tak</td>\n      <td>0.5</td>\n      <td>Tak</td>\n      <td>NaN</td>\n      <td>1.0</td>\n      <td>1.0</td>\n      <td>09:00:00</td>\n      <td>dom</td>\n      <td>NaN</td>\n      <td>NaN</td>\n      <td>NaN</td>\n      <td>NaN</td>\n      <td>67.0</td>\n      <td>WROCŁAW</td>\n      <td>NaN</td>\n      <td>NaN</td>\n      <td>NaN</td>\n      <td>68.0</td>\n      <td>Inne</td>\n      <td>09:10:00</td>\n      <td>SKLEP</td>\n      <td>09:00</td>\n      <td>sam. osobowy pasażer</td>\n      <td>NaN</td>\n      <td>2.0</td>\n      <td>NaN</td>\n      <td>NaN</td>\n      <td>NaN</td>\n      <td>NaN</td>\n      <td>NaN</td>\n      <td>wygoda korzystania</td>\n      <td>NaN</td>\n      <td>NaN</td>\n      <td>NaN</td>\n      <td>NaN</td>\n      <td>NaN</td>\n      <td>NaN</td>\n      <td>NaN</td>\n      <td>NaN</td>\n      <td>NaN</td>\n      <td>NaN</td>\n      <td>NaN</td>\n      <td>krótki czas dojazdu</td>\n      <td>NaN</td>\n      <td>NaN</td>\n      <td>NaN</td>\n      <td>NaN</td>\n      <td>NaN</td>\n      <td>NaN</td>\n      <td>NaN</td>\n      <td>09:10</td>\n      <td>Nie</td>\n      <td>None</td>\n      <td>NaN</td>\n      <td>NaN</td>\n      <td>NaN</td>\n      <td>NaN</td>\n      <td>NaN</td>\n      <td>NaN</td>\n      <td>NaN</td>\n      <td>NaN</td>\n      <td>NaN</td>\n      <td>NaN</td>\n      <td>NaN</td>\n      <td>NaN</td>\n      <td>NaN</td>\n      <td>NaN</td>\n      <td>NaN</td>\n      <td>NaN</td>\n      <td>NaN</td>\n      <td>NaN</td>\n      <td>NaN</td>\n      <td>NaN</td>\n      <td>NaN</td>\n      <td>NaN</td>\n      <td>NaN</td>\n      <td>NaN</td>\n      <td>NaN</td>\n      <td>NaN</td>\n      <td>NaN</td>\n      <td>NaN</td>\n      <td>None</td>\n      <td>NaN</td>\n      <td>None</td>\n      <td>NaN</td>\n      <td>NaN</td>\n      <td>NaN</td>\n      <td>NaN</td>\n      <td>NaN</td>\n      <td>NaN</td>\n      <td>NaN</td>\n      <td>NaN</td>\n      <td>NaN</td>\n      <td>NaN</td>\n      <td>NaN</td>\n      <td>NaN</td>\n      <td>NaN</td>\n      <td>NaN</td>\n      <td>NaN</td>\n      <td>NaN</td>\n      <td>NaN</td>\n      <td>NaN</td>\n      <td>NaN</td>\n      <td>NaN</td>\n      <td>NaN</td>\n      <td>NaN</td>\n      <td>NaN</td>\n      <td>NaN</td>\n      <td>NaN</td>\n      <td>NaN</td>\n      <td>NaN</td>\n      <td>NaN</td>\n      <td>None</td>\n      <td>NaN</td>\n      <td>None</td>\n      <td>NaN</td>\n      <td>NaN</td>\n      <td>NaN</td>\n      <td>NaN</td>\n      <td>NaN</td>\n      <td>NaN</td>\n      <td>NaN</td>\n      <td>NaN</td>\n      <td>NaN</td>\n      <td>NaN</td>\n      <td>NaN</td>\n      <td>NaN</td>\n      <td>NaN</td>\n      <td>NaN</td>\n      <td>NaN</td>\n      <td>NaN</td>\n      <td>NaN</td>\n      <td>NaN</td>\n      <td>NaN</td>\n      <td>NaN</td>\n      <td>NaN</td>\n      <td>NaN</td>\n      <td>NaN</td>\n      <td>NaN</td>\n      <td>NaN</td>\n      <td>NaN</td>\n      <td>NaN</td>\n      <td>NaN</td>\n      <td>None</td>\n      <td>NaN</td>\n      <td>None</td>\n      <td>NaN</td>\n      <td>NaN</td>\n      <td>NaN</td>\n      <td>NaN</td>\n      <td>NaN</td>\n      <td>NaN</td>\n      <td>NaN</td>\n      <td>NaN</td>\n      <td>NaN</td>\n      <td>NaN</td>\n      <td>NaN</td>\n      <td>NaN</td>\n      <td>NaN</td>\n      <td>NaN</td>\n      <td>NaN</td>\n      <td>NaN</td>\n      <td>NaN</td>\n      <td>NaN</td>\n      <td>NaN</td>\n      <td>NaN</td>\n      <td>NaN</td>\n      <td>NaN</td>\n      <td>NaN</td>\n      <td>NaN</td>\n      <td>NaN</td>\n      <td>NaN</td>\n      <td>NaN</td>\n      <td>NaN</td>\n      <td>None</td>\n      <td>None</td>\n      <td>None</td>\n      <td>None</td>\n      <td>NaN</td>\n      <td>NaN</td>\n      <td>None</td>\n      <td>None</td>\n      <td>NaN</td>\n      <td>NaN</td>\n      <td>NaN</td>\n      <td>NaN</td>\n      <td>NaN</td>\n      <td>None</td>\n      <td>NaN</td>\n      <td>NaN</td>\n      <td>NaN</td>\n      <td>NaN</td>\n      <td>NaN</td>\n      <td>NaN</td>\n      <td>NaN</td>\n      <td>NaN</td>\n      <td>NaN</td>\n      <td>NaN</td>\n      <td>NaN</td>\n      <td>NaN</td>\n      <td>NaN</td>\n      <td>NaN</td>\n      <td>NaN</td>\n      <td>NaN</td>\n      <td>NaN</td>\n      <td>None</td>\n      <td>1.0</td>\n      <td>sam. osobowy pasażer</td>\n      <td>niepiesze</td>\n      <td>00:10:00</td>\n      <td>sam. osobowy pasażer</td>\n      <td>komunikacja samochodowa</td>\n      <td>9:00-9:59</td>\n      <td>dom-Inne</td>\n      <td>dom-Inne</td>\n      <td>NaN</td>\n      <td>NaN</td>\n      <td>NaN</td>\n      <td>NaN</td>\n      <td>NaN</td>\n      <td>NaN</td>\n      <td>0.0</td>\n      <td>1.0</td>\n      <td>NaN</td>\n      <td>NaN</td>\n      <td>NaN</td>\n      <td>NaN</td>\n      <td>NaN</td>\n      <td>0.0</td>\n      <td>nie</td>\n      <td>nie</td>\n      <td>nie</td>\n      <td>nie</td>\n      <td>nie</td>\n      <td>nie</td>\n      <td>nie</td>\n      <td>0.0</td>\n      <td>NaN</td>\n      <td>NaN</td>\n      <td>NaN</td>\n      <td>NaN</td>\n      <td>NaN</td>\n      <td>NaN</td>\n      <td>NaN</td>\n      <td>NaN</td>\n      <td>NaN</td>\n      <td>NaN</td>\n      <td>0.0</td>\n      <td>NaN</td>\n      <td>0.80</td>\n      <td>67</td>\n      <td>komunikacja zbiorowa poza Wrocławiem</td>\n      <td>KZ</td>\n      <td>2.0</td>\n      <td>dom-Inne</td>\n    </tr>\n    <tr>\n      <th>1</th>\n      <td>2.0</td>\n      <td>LOS_67-67-306</td>\n      <td>NaN</td>\n      <td>2018-04-25</td>\n      <td>17:20</td>\n      <td>67.0</td>\n      <td>całkowicie się zgadzam</td>\n      <td>całkowicie się zgadzam</td>\n      <td>całkowicie się zgadzam</td>\n      <td>tramwaj</td>\n      <td>częściej kursuje</td>\n      <td>NaN</td>\n      <td>NaN</td>\n      <td>bardzo dobrze</td>\n      <td>raczej dobrze</td>\n      <td>raczej dobrze</td>\n      <td>bardzo dobrze</td>\n      <td>Nie</td>\n      <td>Nie</td>\n      <td>Nie</td>\n      <td>Nie</td>\n      <td>Nie</td>\n      <td>Tak</td>\n      <td>Tak</td>\n      <td>Nie</td>\n      <td>Nie</td>\n      <td>Nie</td>\n      <td>Tak</td>\n      <td>Nie</td>\n      <td>Nie</td>\n      <td>NaN</td>\n      <td>1.0</td>\n      <td>1.0</td>\n      <td>0.0</td>\n      <td>0.0</td>\n      <td>0.0</td>\n      <td>1.0</td>\n      <td>61 i więcej (emeryci kobiety)</td>\n      <td>Kobieta</td>\n      <td>emeryt</td>\n      <td>pracujący prowadzący działalność poza domem</td>\n      <td>dobry stan zdrowia</td>\n      <td>NaN</td>\n      <td>nie dotyczy</td>\n      <td>Tak</td>\n      <td>Tak</td>\n      <td>0.5</td>\n      <td>Tak</td>\n      <td>NaN</td>\n      <td>1.0</td>\n      <td>2.0</td>\n      <td>09:40:00</td>\n      <td>Inne</td>\n      <td>WROCŁAW</td>\n      <td>NaN</td>\n      <td>NaN</td>\n      <td>NaN</td>\n      <td>68.0</td>\n      <td>NaN</td>\n      <td>NaN</td>\n      <td>NaN</td>\n      <td>NaN</td>\n      <td>67.0</td>\n      <td>dom</td>\n      <td>09:50:00</td>\n      <td>NaN</td>\n      <td>09:40</td>\n      <td>sam. osobowy pasażer</td>\n      <td>NaN</td>\n      <td>2.0</td>\n      <td>NaN</td>\n      <td>NaN</td>\n      <td>NaN</td>\n      <td>NaN</td>\n      <td>NaN</td>\n      <td>wygoda korzystania</td>\n      <td>NaN</td>\n      <td>NaN</td>\n      <td>NaN</td>\n      <td>NaN</td>\n      <td>NaN</td>\n      <td>NaN</td>\n      <td>NaN</td>\n      <td>NaN</td>\n      <td>NaN</td>\n      <td>NaN</td>\n      <td>NaN</td>\n      <td>krótki czas dojazdu</td>\n      <td>NaN</td>\n      <td>NaN</td>\n      <td>NaN</td>\n      <td>NaN</td>\n      <td>NaN</td>\n      <td>NaN</td>\n      <td>NaN</td>\n      <td>09:50</td>\n      <td>Nie</td>\n      <td>None</td>\n      <td>NaN</td>\n      <td>NaN</td>\n      <td>NaN</td>\n      <td>NaN</td>\n      <td>NaN</td>\n      <td>NaN</td>\n      <td>NaN</td>\n      <td>NaN</td>\n      <td>NaN</td>\n      <td>NaN</td>\n      <td>NaN</td>\n      <td>NaN</td>\n      <td>NaN</td>\n      <td>NaN</td>\n      <td>NaN</td>\n      <td>NaN</td>\n      <td>NaN</td>\n      <td>NaN</td>\n      <td>NaN</td>\n      <td>NaN</td>\n      <td>NaN</td>\n      <td>NaN</td>\n      <td>NaN</td>\n      <td>NaN</td>\n      <td>NaN</td>\n      <td>NaN</td>\n      <td>NaN</td>\n      <td>NaN</td>\n      <td>None</td>\n      <td>NaN</td>\n      <td>None</td>\n      <td>NaN</td>\n      <td>NaN</td>\n      <td>NaN</td>\n      <td>NaN</td>\n      <td>NaN</td>\n      <td>NaN</td>\n      <td>NaN</td>\n      <td>NaN</td>\n      <td>NaN</td>\n      <td>NaN</td>\n      <td>NaN</td>\n      <td>NaN</td>\n      <td>NaN</td>\n      <td>NaN</td>\n      <td>NaN</td>\n      <td>NaN</td>\n      <td>NaN</td>\n      <td>NaN</td>\n      <td>NaN</td>\n      <td>NaN</td>\n      <td>NaN</td>\n      <td>NaN</td>\n      <td>NaN</td>\n      <td>NaN</td>\n      <td>NaN</td>\n      <td>NaN</td>\n      <td>NaN</td>\n      <td>NaN</td>\n      <td>None</td>\n      <td>NaN</td>\n      <td>None</td>\n      <td>NaN</td>\n      <td>NaN</td>\n      <td>NaN</td>\n      <td>NaN</td>\n      <td>NaN</td>\n      <td>NaN</td>\n      <td>NaN</td>\n      <td>NaN</td>\n      <td>NaN</td>\n      <td>NaN</td>\n      <td>NaN</td>\n      <td>NaN</td>\n      <td>NaN</td>\n      <td>NaN</td>\n      <td>NaN</td>\n      <td>NaN</td>\n      <td>NaN</td>\n      <td>NaN</td>\n      <td>NaN</td>\n      <td>NaN</td>\n      <td>NaN</td>\n      <td>NaN</td>\n      <td>NaN</td>\n      <td>NaN</td>\n      <td>NaN</td>\n      <td>NaN</td>\n      <td>NaN</td>\n      <td>NaN</td>\n      <td>None</td>\n      <td>NaN</td>\n      <td>None</td>\n      <td>NaN</td>\n      <td>NaN</td>\n      <td>NaN</td>\n      <td>NaN</td>\n      <td>NaN</td>\n      <td>NaN</td>\n      <td>NaN</td>\n      <td>NaN</td>\n      <td>NaN</td>\n      <td>NaN</td>\n      <td>NaN</td>\n      <td>NaN</td>\n      <td>NaN</td>\n      <td>NaN</td>\n      <td>NaN</td>\n      <td>NaN</td>\n      <td>NaN</td>\n      <td>NaN</td>\n      <td>NaN</td>\n      <td>NaN</td>\n      <td>NaN</td>\n      <td>NaN</td>\n      <td>NaN</td>\n      <td>NaN</td>\n      <td>NaN</td>\n      <td>NaN</td>\n      <td>NaN</td>\n      <td>NaN</td>\n      <td>None</td>\n      <td>None</td>\n      <td>None</td>\n      <td>None</td>\n      <td>NaN</td>\n      <td>NaN</td>\n      <td>None</td>\n      <td>None</td>\n      <td>NaN</td>\n      <td>NaN</td>\n      <td>NaN</td>\n      <td>NaN</td>\n      <td>NaN</td>\n      <td>None</td>\n      <td>NaN</td>\n      <td>NaN</td>\n      <td>NaN</td>\n      <td>NaN</td>\n      <td>NaN</td>\n      <td>NaN</td>\n      <td>NaN</td>\n      <td>NaN</td>\n      <td>NaN</td>\n      <td>NaN</td>\n      <td>NaN</td>\n      <td>NaN</td>\n      <td>NaN</td>\n      <td>NaN</td>\n      <td>NaN</td>\n      <td>NaN</td>\n      <td>NaN</td>\n      <td>None</td>\n      <td>1.0</td>\n      <td>sam. osobowy pasażer</td>\n      <td>niepiesze</td>\n      <td>00:10:00</td>\n      <td>sam. osobowy pasażer</td>\n      <td>komunikacja samochodowa</td>\n      <td>9:00-9:59</td>\n      <td>Inne-dom</td>\n      <td>Inne-dom</td>\n      <td>NaN</td>\n      <td>NaN</td>\n      <td>NaN</td>\n      <td>NaN</td>\n      <td>NaN</td>\n      <td>NaN</td>\n      <td>0.0</td>\n      <td>1.0</td>\n      <td>NaN</td>\n      <td>NaN</td>\n      <td>NaN</td>\n      <td>NaN</td>\n      <td>NaN</td>\n      <td>0.0</td>\n      <td>nie</td>\n      <td>nie</td>\n      <td>nie</td>\n      <td>nie</td>\n      <td>nie</td>\n      <td>nie</td>\n      <td>nie</td>\n      <td>0.0</td>\n      <td>NaN</td>\n      <td>NaN</td>\n      <td>NaN</td>\n      <td>NaN</td>\n      <td>NaN</td>\n      <td>NaN</td>\n      <td>NaN</td>\n      <td>NaN</td>\n      <td>NaN</td>\n      <td>NaN</td>\n      <td>1.0</td>\n      <td>NaN</td>\n      <td>0.80</td>\n      <td>67</td>\n      <td>komunikacja zbiorowa we Wrocławiu</td>\n      <td>KZ</td>\n      <td>2.0</td>\n      <td>Inne-dom</td>\n    </tr>\n    <tr>\n      <th>2</th>\n      <td>3.0</td>\n      <td>LOS_67-67-109</td>\n      <td>NaN</td>\n      <td>2018-04-26</td>\n      <td>17:05</td>\n      <td>67.0</td>\n      <td>raczej się zgadzam</td>\n      <td>całkowicie się zgadzam</td>\n      <td>całkowicie się zgadzam</td>\n      <td>tramwaj</td>\n      <td>mam bliżej przystanek tramwajowy</td>\n      <td>NaN</td>\n      <td>NaN</td>\n      <td>bardzo dobrze</td>\n      <td>bardzo dobrze</td>\n      <td>raczej dobrze</td>\n      <td>raczej dobrze</td>\n      <td>Nie</td>\n      <td>Nie</td>\n      <td>Nie</td>\n      <td>Tak</td>\n      <td>Nie</td>\n      <td>Nie</td>\n      <td>Nie</td>\n      <td>Nie</td>\n      <td>Tak</td>\n      <td>Nie</td>\n      <td>Nie</td>\n      <td>Nie</td>\n      <td>Nie</td>\n      <td>NaN</td>\n      <td>2.0</td>\n      <td>2.0</td>\n      <td>0.0</td>\n      <td>1.0</td>\n      <td>0.0</td>\n      <td>1.0</td>\n      <td>20-24 (wiek studencki)</td>\n      <td>Kobieta</td>\n      <td>student</td>\n      <td>brak zajęcia dodatkowego</td>\n      <td>dobry stan zdrowia</td>\n      <td>NaN</td>\n      <td>nie dotyczy</td>\n      <td>Tak</td>\n      <td>Tak</td>\n      <td>0.5</td>\n      <td>Nie</td>\n      <td>brak potrzeby</td>\n      <td>NaN</td>\n      <td>NaN</td>\n      <td>NaN</td>\n      <td>NaN</td>\n      <td>NaN</td>\n      <td>NaN</td>\n      <td>NaN</td>\n      <td>NaN</td>\n      <td>NaN</td>\n      <td>NaN</td>\n      <td>NaN</td>\n      <td>NaN</td>\n      <td>NaN</td>\n      <td>NaN</td>\n      <td>NaN</td>\n      <td>NaN</td>\n      <td>NaN</td>\n      <td>None</td>\n      <td>NaN</td>\n      <td>NaN</td>\n      <td>NaN</td>\n      <td>NaN</td>\n      <td>NaN</td>\n      <td>NaN</td>\n      <td>NaN</td>\n      <td>NaN</td>\n      <td>NaN</td>\n      <td>NaN</td>\n      <td>NaN</td>\n      <td>NaN</td>\n      <td>NaN</td>\n      <td>NaN</td>\n      <td>NaN</td>\n      <td>NaN</td>\n      <td>NaN</td>\n      <td>NaN</td>\n      <td>NaN</td>\n      <td>NaN</td>\n      <td>NaN</td>\n      <td>NaN</td>\n      <td>NaN</td>\n      <td>NaN</td>\n      <td>NaN</td>\n      <td>NaN</td>\n      <td>NaN</td>\n      <td>NaN</td>\n      <td>None</td>\n      <td>NaN</td>\n      <td>None</td>\n      <td>NaN</td>\n      <td>NaN</td>\n      <td>NaN</td>\n      <td>NaN</td>\n      <td>NaN</td>\n      <td>NaN</td>\n      <td>NaN</td>\n      <td>NaN</td>\n      <td>NaN</td>\n      <td>NaN</td>\n      <td>NaN</td>\n      <td>NaN</td>\n      <td>NaN</td>\n      <td>NaN</td>\n      <td>NaN</td>\n      <td>NaN</td>\n      <td>NaN</td>\n      <td>NaN</td>\n      <td>NaN</td>\n      <td>NaN</td>\n      <td>NaN</td>\n      <td>NaN</td>\n      <td>NaN</td>\n      <td>NaN</td>\n      <td>NaN</td>\n      <td>NaN</td>\n      <td>NaN</td>\n      <td>NaN</td>\n      <td>None</td>\n      <td>NaN</td>\n      <td>None</td>\n      <td>NaN</td>\n      <td>NaN</td>\n      <td>NaN</td>\n      <td>NaN</td>\n      <td>NaN</td>\n      <td>NaN</td>\n      <td>NaN</td>\n      <td>NaN</td>\n      <td>NaN</td>\n      <td>NaN</td>\n      <td>NaN</td>\n      <td>NaN</td>\n      <td>NaN</td>\n      <td>NaN</td>\n      <td>NaN</td>\n      <td>NaN</td>\n      <td>NaN</td>\n      <td>NaN</td>\n      <td>NaN</td>\n      <td>NaN</td>\n      <td>NaN</td>\n      <td>NaN</td>\n      <td>NaN</td>\n      <td>NaN</td>\n      <td>NaN</td>\n      <td>NaN</td>\n      <td>NaN</td>\n      <td>NaN</td>\n      <td>None</td>\n      <td>NaN</td>\n      <td>None</td>\n      <td>NaN</td>\n      <td>NaN</td>\n      <td>NaN</td>\n      <td>NaN</td>\n      <td>NaN</td>\n      <td>NaN</td>\n      <td>NaN</td>\n      <td>NaN</td>\n      <td>NaN</td>\n      <td>NaN</td>\n      <td>NaN</td>\n      <td>NaN</td>\n      <td>NaN</td>\n      <td>NaN</td>\n      <td>NaN</td>\n      <td>NaN</td>\n      <td>NaN</td>\n      <td>NaN</td>\n      <td>NaN</td>\n      <td>NaN</td>\n      <td>NaN</td>\n      <td>NaN</td>\n      <td>NaN</td>\n      <td>NaN</td>\n      <td>NaN</td>\n      <td>NaN</td>\n      <td>NaN</td>\n      <td>NaN</td>\n      <td>None</td>\n      <td>NaN</td>\n      <td>None</td>\n      <td>NaN</td>\n      <td>NaN</td>\n      <td>NaN</td>\n      <td>NaN</td>\n      <td>NaN</td>\n      <td>NaN</td>\n      <td>NaN</td>\n      <td>NaN</td>\n      <td>NaN</td>\n      <td>NaN</td>\n      <td>NaN</td>\n      <td>NaN</td>\n      <td>NaN</td>\n      <td>NaN</td>\n      <td>NaN</td>\n      <td>NaN</td>\n      <td>NaN</td>\n      <td>NaN</td>\n      <td>NaN</td>\n      <td>NaN</td>\n      <td>NaN</td>\n      <td>NaN</td>\n      <td>NaN</td>\n      <td>NaN</td>\n      <td>NaN</td>\n      <td>NaN</td>\n      <td>NaN</td>\n      <td>NaN</td>\n      <td>None</td>\n      <td>None</td>\n      <td>None</td>\n      <td>None</td>\n      <td>NaN</td>\n      <td>NaN</td>\n      <td>None</td>\n      <td>None</td>\n      <td>NaN</td>\n      <td>NaN</td>\n      <td>NaN</td>\n      <td>NaN</td>\n      <td>NaN</td>\n      <td>None</td>\n      <td>NaN</td>\n      <td>NaN</td>\n      <td>NaN</td>\n      <td>NaN</td>\n      <td>NaN</td>\n      <td>NaN</td>\n      <td>NaN</td>\n      <td>NaN</td>\n      <td>NaN</td>\n      <td>NaN</td>\n      <td>NaN</td>\n      <td>NaN</td>\n      <td>NaN</td>\n      <td>NaN</td>\n      <td>NaN</td>\n      <td>NaN</td>\n      <td>NaN</td>\n      <td>None</td>\n      <td>0.0</td>\n      <td>NaN</td>\n      <td>NaN</td>\n      <td>NaN</td>\n      <td>NaN</td>\n      <td>NaN</td>\n      <td>NaN</td>\n      <td>-</td>\n      <td>NaN</td>\n      <td>NaN</td>\n      <td>NaN</td>\n      <td>NaN</td>\n      <td>NaN</td>\n      <td>NaN</td>\n      <td>NaN</td>\n      <td>NaN</td>\n      <td>NaN</td>\n      <td>NaN</td>\n      <td>NaN</td>\n      <td>NaN</td>\n      <td>NaN</td>\n      <td>NaN</td>\n      <td>NaN</td>\n      <td>NaN</td>\n      <td>NaN</td>\n      <td>NaN</td>\n      <td>NaN</td>\n      <td>NaN</td>\n      <td>NaN</td>\n      <td>nie</td>\n      <td>NaN</td>\n      <td>NaN</td>\n      <td>NaN</td>\n      <td>NaN</td>\n      <td>NaN</td>\n      <td>NaN</td>\n      <td>NaN</td>\n      <td>NaN</td>\n      <td>NaN</td>\n      <td>NaN</td>\n      <td>NaN</td>\n      <td>NaN</td>\n      <td>NaN</td>\n      <td>0.25</td>\n      <td>67</td>\n      <td>pociąg</td>\n      <td>KZ</td>\n      <td>NaN</td>\n      <td>NaN</td>\n    </tr>\n    <tr>\n      <th>3</th>\n      <td>4.0</td>\n      <td>LOS_67-67-109</td>\n      <td>NaN</td>\n      <td>2018-04-26</td>\n      <td>17:05</td>\n      <td>67.0</td>\n      <td>raczej się zgadzam</td>\n      <td>całkowicie się zgadzam</td>\n      <td>całkowicie się zgadzam</td>\n      <td>tramwaj</td>\n      <td>mam bliżej przystanek tramwajowy</td>\n      <td>NaN</td>\n      <td>NaN</td>\n      <td>bardzo dobrze</td>\n      <td>bardzo dobrze</td>\n      <td>raczej dobrze</td>\n      <td>raczej dobrze</td>\n      <td>Nie</td>\n      <td>Nie</td>\n      <td>Nie</td>\n      <td>Tak</td>\n      <td>Nie</td>\n      <td>Nie</td>\n      <td>Nie</td>\n      <td>Nie</td>\n      <td>Tak</td>\n      <td>Nie</td>\n      <td>Nie</td>\n      <td>Nie</td>\n      <td>Nie</td>\n      <td>NaN</td>\n      <td>2.0</td>\n      <td>2.0</td>\n      <td>0.0</td>\n      <td>1.0</td>\n      <td>0.0</td>\n      <td>1.0</td>\n      <td>20-24 (wiek studencki)</td>\n      <td>Mężczyzna</td>\n      <td>student</td>\n      <td>brak zajęcia dodatkowego</td>\n      <td>dobry stan zdrowia</td>\n      <td>NaN</td>\n      <td>nie dotyczy</td>\n      <td>Tak</td>\n      <td>Tak</td>\n      <td>0.5</td>\n      <td>Nie</td>\n      <td>opieka nad inną osobą</td>\n      <td>NaN</td>\n      <td>NaN</td>\n      <td>NaN</td>\n      <td>NaN</td>\n      <td>NaN</td>\n      <td>NaN</td>\n      <td>NaN</td>\n      <td>NaN</td>\n      <td>NaN</td>\n      <td>NaN</td>\n      <td>NaN</td>\n      <td>NaN</td>\n      <td>NaN</td>\n      <td>NaN</td>\n      <td>NaN</td>\n      <td>NaN</td>\n      <td>NaN</td>\n      <td>None</td>\n      <td>NaN</td>\n      <td>NaN</td>\n      <td>NaN</td>\n      <td>NaN</td>\n      <td>NaN</td>\n      <td>NaN</td>\n      <td>NaN</td>\n      <td>NaN</td>\n      <td>NaN</td>\n      <td>NaN</td>\n      <td>NaN</td>\n      <td>NaN</td>\n      <td>NaN</td>\n      <td>NaN</td>\n      <td>NaN</td>\n      <td>NaN</td>\n      <td>NaN</td>\n      <td>NaN</td>\n      <td>NaN</td>\n      <td>NaN</td>\n      <td>NaN</td>\n      <td>NaN</td>\n      <td>NaN</td>\n      <td>NaN</td>\n      <td>NaN</td>\n      <td>NaN</td>\n      <td>NaN</td>\n      <td>NaN</td>\n      <td>None</td>\n      <td>NaN</td>\n      <td>None</td>\n      <td>NaN</td>\n      <td>NaN</td>\n      <td>NaN</td>\n      <td>NaN</td>\n      <td>NaN</td>\n      <td>NaN</td>\n      <td>NaN</td>\n      <td>NaN</td>\n      <td>NaN</td>\n      <td>NaN</td>\n      <td>NaN</td>\n      <td>NaN</td>\n      <td>NaN</td>\n      <td>NaN</td>\n      <td>NaN</td>\n      <td>NaN</td>\n      <td>NaN</td>\n      <td>NaN</td>\n      <td>NaN</td>\n      <td>NaN</td>\n      <td>NaN</td>\n      <td>NaN</td>\n      <td>NaN</td>\n      <td>NaN</td>\n      <td>NaN</td>\n      <td>NaN</td>\n      <td>NaN</td>\n      <td>NaN</td>\n      <td>None</td>\n      <td>NaN</td>\n      <td>None</td>\n      <td>NaN</td>\n      <td>NaN</td>\n      <td>NaN</td>\n      <td>NaN</td>\n      <td>NaN</td>\n      <td>NaN</td>\n      <td>NaN</td>\n      <td>NaN</td>\n      <td>NaN</td>\n      <td>NaN</td>\n      <td>NaN</td>\n      <td>NaN</td>\n      <td>NaN</td>\n      <td>NaN</td>\n      <td>NaN</td>\n      <td>NaN</td>\n      <td>NaN</td>\n      <td>NaN</td>\n      <td>NaN</td>\n      <td>NaN</td>\n      <td>NaN</td>\n      <td>NaN</td>\n      <td>NaN</td>\n      <td>NaN</td>\n      <td>NaN</td>\n      <td>NaN</td>\n      <td>NaN</td>\n      <td>NaN</td>\n      <td>None</td>\n      <td>NaN</td>\n      <td>None</td>\n      <td>NaN</td>\n      <td>NaN</td>\n      <td>NaN</td>\n      <td>NaN</td>\n      <td>NaN</td>\n      <td>NaN</td>\n      <td>NaN</td>\n      <td>NaN</td>\n      <td>NaN</td>\n      <td>NaN</td>\n      <td>NaN</td>\n      <td>NaN</td>\n      <td>NaN</td>\n      <td>NaN</td>\n      <td>NaN</td>\n      <td>NaN</td>\n      <td>NaN</td>\n      <td>NaN</td>\n      <td>NaN</td>\n      <td>NaN</td>\n      <td>NaN</td>\n      <td>NaN</td>\n      <td>NaN</td>\n      <td>NaN</td>\n      <td>NaN</td>\n      <td>NaN</td>\n      <td>NaN</td>\n      <td>NaN</td>\n      <td>None</td>\n      <td>NaN</td>\n      <td>None</td>\n      <td>NaN</td>\n      <td>NaN</td>\n      <td>NaN</td>\n      <td>NaN</td>\n      <td>NaN</td>\n      <td>NaN</td>\n      <td>NaN</td>\n      <td>NaN</td>\n      <td>NaN</td>\n      <td>NaN</td>\n      <td>NaN</td>\n      <td>NaN</td>\n      <td>NaN</td>\n      <td>NaN</td>\n      <td>NaN</td>\n      <td>NaN</td>\n      <td>NaN</td>\n      <td>NaN</td>\n      <td>NaN</td>\n      <td>NaN</td>\n      <td>NaN</td>\n      <td>NaN</td>\n      <td>NaN</td>\n      <td>NaN</td>\n      <td>NaN</td>\n      <td>NaN</td>\n      <td>NaN</td>\n      <td>NaN</td>\n      <td>None</td>\n      <td>None</td>\n      <td>None</td>\n      <td>None</td>\n      <td>NaN</td>\n      <td>NaN</td>\n      <td>None</td>\n      <td>None</td>\n      <td>NaN</td>\n      <td>NaN</td>\n      <td>NaN</td>\n      <td>NaN</td>\n      <td>NaN</td>\n      <td>None</td>\n      <td>NaN</td>\n      <td>NaN</td>\n      <td>NaN</td>\n      <td>NaN</td>\n      <td>NaN</td>\n      <td>NaN</td>\n      <td>NaN</td>\n      <td>NaN</td>\n      <td>NaN</td>\n      <td>NaN</td>\n      <td>NaN</td>\n      <td>NaN</td>\n      <td>NaN</td>\n      <td>NaN</td>\n      <td>NaN</td>\n      <td>NaN</td>\n      <td>NaN</td>\n      <td>None</td>\n      <td>0.0</td>\n      <td>NaN</td>\n      <td>NaN</td>\n      <td>NaN</td>\n      <td>NaN</td>\n      <td>NaN</td>\n      <td>NaN</td>\n      <td>-</td>\n      <td>NaN</td>\n      <td>NaN</td>\n      <td>NaN</td>\n      <td>NaN</td>\n      <td>NaN</td>\n      <td>NaN</td>\n      <td>NaN</td>\n      <td>NaN</td>\n      <td>NaN</td>\n      <td>NaN</td>\n      <td>NaN</td>\n      <td>NaN</td>\n      <td>NaN</td>\n      <td>NaN</td>\n      <td>NaN</td>\n      <td>NaN</td>\n      <td>NaN</td>\n      <td>NaN</td>\n      <td>NaN</td>\n      <td>NaN</td>\n      <td>NaN</td>\n      <td>nie</td>\n      <td>NaN</td>\n      <td>NaN</td>\n      <td>NaN</td>\n      <td>NaN</td>\n      <td>NaN</td>\n      <td>NaN</td>\n      <td>NaN</td>\n      <td>NaN</td>\n      <td>NaN</td>\n      <td>NaN</td>\n      <td>NaN</td>\n      <td>NaN</td>\n      <td>NaN</td>\n      <td>0.25</td>\n      <td>67</td>\n      <td>tramwaj</td>\n      <td>KZ</td>\n      <td>NaN</td>\n      <td>NaN</td>\n    </tr>\n    <tr>\n      <th>4</th>\n      <td>5.0</td>\n      <td>LOS_67-67-401</td>\n      <td>NaN</td>\n      <td>2018-04-26</td>\n      <td>17:10</td>\n      <td>67.0</td>\n      <td>całkowicie się zgadzam</td>\n      <td>całkowicie się zgadzam</td>\n      <td>całkowicie się zgadzam</td>\n      <td>tramwaj</td>\n      <td>Inne</td>\n      <td>KORZYSTANIE Z TRAMWAJU JEDYNIE OKAZYJNIE</td>\n      <td>NaN</td>\n      <td>bardzo dobrze</td>\n      <td>bardzo dobrze</td>\n      <td>bardzo dobrze</td>\n      <td>ani dobrze ani źle</td>\n      <td>Nie</td>\n      <td>Tak</td>\n      <td>Nie</td>\n      <td>Nie</td>\n      <td>Nie</td>\n      <td>Nie</td>\n      <td>Nie</td>\n      <td>Nie</td>\n      <td>Nie</td>\n      <td>Nie</td>\n      <td>Nie</td>\n      <td>Nie</td>\n      <td>Nie</td>\n      <td>NaN</td>\n      <td>2.0</td>\n      <td>2.0</td>\n      <td>1.0</td>\n      <td>0.0</td>\n      <td>0.0</td>\n      <td>0.0</td>\n      <td>61 i więcej (emeryci kobiety)</td>\n      <td>Kobieta</td>\n      <td>emeryt</td>\n      <td>brak zajęcia dodatkowego</td>\n      <td>dolegliwości zdrowotne</td>\n      <td>NaN</td>\n      <td>nie dotyczy</td>\n      <td>Nie</td>\n      <td>Nie</td>\n      <td>0.5</td>\n      <td>Nie</td>\n      <td>brak potrzeby</td>\n      <td>NaN</td>\n      <td>NaN</td>\n      <td>NaN</td>\n      <td>NaN</td>\n      <td>NaN</td>\n      <td>NaN</td>\n      <td>NaN</td>\n      <td>NaN</td>\n      <td>NaN</td>\n      <td>NaN</td>\n      <td>NaN</td>\n      <td>NaN</td>\n      <td>NaN</td>\n      <td>NaN</td>\n      <td>NaN</td>\n      <td>NaN</td>\n      <td>NaN</td>\n      <td>None</td>\n      <td>NaN</td>\n      <td>NaN</td>\n      <td>NaN</td>\n      <td>NaN</td>\n      <td>NaN</td>\n      <td>NaN</td>\n      <td>NaN</td>\n      <td>NaN</td>\n      <td>NaN</td>\n      <td>NaN</td>\n      <td>NaN</td>\n      <td>NaN</td>\n      <td>NaN</td>\n      <td>NaN</td>\n      <td>NaN</td>\n      <td>NaN</td>\n      <td>NaN</td>\n      <td>NaN</td>\n      <td>NaN</td>\n      <td>NaN</td>\n      <td>NaN</td>\n      <td>NaN</td>\n      <td>NaN</td>\n      <td>NaN</td>\n      <td>NaN</td>\n      <td>NaN</td>\n      <td>NaN</td>\n      <td>NaN</td>\n      <td>None</td>\n      <td>NaN</td>\n      <td>None</td>\n      <td>NaN</td>\n      <td>NaN</td>\n      <td>NaN</td>\n      <td>NaN</td>\n      <td>NaN</td>\n      <td>NaN</td>\n      <td>NaN</td>\n      <td>NaN</td>\n      <td>NaN</td>\n      <td>NaN</td>\n      <td>NaN</td>\n      <td>NaN</td>\n      <td>NaN</td>\n      <td>NaN</td>\n      <td>NaN</td>\n      <td>NaN</td>\n      <td>NaN</td>\n      <td>NaN</td>\n      <td>NaN</td>\n      <td>NaN</td>\n      <td>NaN</td>\n      <td>NaN</td>\n      <td>NaN</td>\n      <td>NaN</td>\n      <td>NaN</td>\n      <td>NaN</td>\n      <td>NaN</td>\n      <td>NaN</td>\n      <td>None</td>\n      <td>NaN</td>\n      <td>None</td>\n      <td>NaN</td>\n      <td>NaN</td>\n      <td>NaN</td>\n      <td>NaN</td>\n      <td>NaN</td>\n      <td>NaN</td>\n      <td>NaN</td>\n      <td>NaN</td>\n      <td>NaN</td>\n      <td>NaN</td>\n      <td>NaN</td>\n      <td>NaN</td>\n      <td>NaN</td>\n      <td>NaN</td>\n      <td>NaN</td>\n      <td>NaN</td>\n      <td>NaN</td>\n      <td>NaN</td>\n      <td>NaN</td>\n      <td>NaN</td>\n      <td>NaN</td>\n      <td>NaN</td>\n      <td>NaN</td>\n      <td>NaN</td>\n      <td>NaN</td>\n      <td>NaN</td>\n      <td>NaN</td>\n      <td>NaN</td>\n      <td>None</td>\n      <td>NaN</td>\n      <td>None</td>\n      <td>NaN</td>\n      <td>NaN</td>\n      <td>NaN</td>\n      <td>NaN</td>\n      <td>NaN</td>\n      <td>NaN</td>\n      <td>NaN</td>\n      <td>NaN</td>\n      <td>NaN</td>\n      <td>NaN</td>\n      <td>NaN</td>\n      <td>NaN</td>\n      <td>NaN</td>\n      <td>NaN</td>\n      <td>NaN</td>\n      <td>NaN</td>\n      <td>NaN</td>\n      <td>NaN</td>\n      <td>NaN</td>\n      <td>NaN</td>\n      <td>NaN</td>\n      <td>NaN</td>\n      <td>NaN</td>\n      <td>NaN</td>\n      <td>NaN</td>\n      <td>NaN</td>\n      <td>NaN</td>\n      <td>NaN</td>\n      <td>None</td>\n      <td>NaN</td>\n      <td>None</td>\n      <td>NaN</td>\n      <td>NaN</td>\n      <td>NaN</td>\n      <td>NaN</td>\n      <td>NaN</td>\n      <td>NaN</td>\n      <td>NaN</td>\n      <td>NaN</td>\n      <td>NaN</td>\n      <td>NaN</td>\n      <td>NaN</td>\n      <td>NaN</td>\n      <td>NaN</td>\n      <td>NaN</td>\n      <td>NaN</td>\n      <td>NaN</td>\n      <td>NaN</td>\n      <td>NaN</td>\n      <td>NaN</td>\n      <td>NaN</td>\n      <td>NaN</td>\n      <td>NaN</td>\n      <td>NaN</td>\n      <td>NaN</td>\n      <td>NaN</td>\n      <td>NaN</td>\n      <td>NaN</td>\n      <td>NaN</td>\n      <td>None</td>\n      <td>None</td>\n      <td>None</td>\n      <td>None</td>\n      <td>NaN</td>\n      <td>NaN</td>\n      <td>None</td>\n      <td>None</td>\n      <td>NaN</td>\n      <td>NaN</td>\n      <td>NaN</td>\n      <td>NaN</td>\n      <td>NaN</td>\n      <td>None</td>\n      <td>NaN</td>\n      <td>NaN</td>\n      <td>NaN</td>\n      <td>NaN</td>\n      <td>NaN</td>\n      <td>NaN</td>\n      <td>NaN</td>\n      <td>NaN</td>\n      <td>NaN</td>\n      <td>NaN</td>\n      <td>NaN</td>\n      <td>NaN</td>\n      <td>NaN</td>\n      <td>NaN</td>\n      <td>NaN</td>\n      <td>NaN</td>\n      <td>NaN</td>\n      <td>None</td>\n      <td>0.0</td>\n      <td>NaN</td>\n      <td>NaN</td>\n      <td>NaN</td>\n      <td>NaN</td>\n      <td>NaN</td>\n      <td>NaN</td>\n      <td>-</td>\n      <td>NaN</td>\n      <td>NaN</td>\n      <td>NaN</td>\n      <td>NaN</td>\n      <td>NaN</td>\n      <td>NaN</td>\n      <td>NaN</td>\n      <td>NaN</td>\n      <td>NaN</td>\n      <td>NaN</td>\n      <td>NaN</td>\n      <td>NaN</td>\n      <td>NaN</td>\n      <td>NaN</td>\n      <td>NaN</td>\n      <td>NaN</td>\n      <td>NaN</td>\n      <td>NaN</td>\n      <td>NaN</td>\n      <td>NaN</td>\n      <td>NaN</td>\n      <td>nie</td>\n      <td>NaN</td>\n      <td>NaN</td>\n      <td>NaN</td>\n      <td>NaN</td>\n      <td>NaN</td>\n      <td>NaN</td>\n      <td>NaN</td>\n      <td>NaN</td>\n      <td>NaN</td>\n      <td>NaN</td>\n      <td>NaN</td>\n      <td>NaN</td>\n      <td>NaN</td>\n      <td>0.80</td>\n      <td>67</td>\n      <td>NaN</td>\n      <td>NaN</td>\n      <td>NaN</td>\n      <td>NaN</td>\n    </tr>\n  </tbody>\n</table>\n</div>"
     },
     "metadata": {},
     "execution_count": 5
    }
   ],
   "source": [
    "data.head()"
   ]
  },
  {
   "cell_type": "code",
   "execution_count": 6,
   "metadata": {
    "tags": []
   },
   "outputs": [],
   "source": [
    "chosen_cols = [\n",
    "    # 'PREFERENCJE DOT. MOBILNOŚCI MIEJSKIEJ_Z jakiego środka transportu zbiorowego korzysta Pan/Pani\\xa0najczęściej?',\n",
    "    'PREFERENCJE DOT. MOBILNOŚCI MIEJSKIEJ_Jak Pan/Pani ocenia wygodę jazdy pojazdami komunikacji zbiorowej?\\xa0',\n",
    "    'PREFERENCJE DOT. MOBILNOŚCI MIEJSKIEJ_Jak Pan/Pani ocenia\\xa0punktualność\\xa0komunikacji zbiorowej\\xa0we Wrocławiu?\\xa0',\n",
    "    'PREFERENCJE DOT. MOBILNOŚCI MIEJSKIEJ_Jak ocenia Pan/Pani efekty dotychczasowych działań związanych z rozbudową systemu rowerowego we Wrocławiu (dróg i\\xa0parkingów rowerowych)?',\n",
    "    'PREFERENCJE DOT. MOBILNOŚCI MIEJSKIEJ_Jakie elementy stanowią dla Pana/Pani największa uciążliwość w codziennych podróżach pieszych po Wrocławiu (można wskazać maksymalnie 3 odpowiedzi) [niekorzystne ustawienia sygnalizacji świetlnej]',\n",
    "    'PREFERENCJE DOT. MOBILNOŚCI MIEJSKIEJ_Jakie elementy stanowią dla Pana/Pani największa uciążliwość w codziennych podróżach pieszych po Wrocławiu (można wskazać maksymalnie 3 odpowiedzi) [brak chodników i konieczność poruszania się jezdnią/poboczem/wydeptaną ścieżką]',\n",
    "    'PREFERENCJE DOT. MOBILNOŚCI MIEJSKIEJ_Jakie elementy stanowią dla Pana/Pani największa uciążliwość w codziennych podróżach pieszych po Wrocławiu (można wskazać maksymalnie 3 odpowiedzi) [zły stan nawierzchni chodników]',\n",
    "    'PREFERENCJE DOT. MOBILNOŚCI MIEJSKIEJ_Jakie elementy stanowią dla Pana/Pani największa uciążliwość w codziennych podróżach pieszych po Wrocławiu (można wskazać maksymalnie 3 odpowiedzi) [zastawianie chodników przez parkujące samochody]',\n",
    "    'PREFERENCJE DOT. MOBILNOŚCI MIEJSKIEJ_Jakie elementy stanowią dla Pana/Pani największa uciążliwość w codziennych podróżach pieszych po Wrocławiu (można wskazać maksymalnie 3 odpowiedzi) [niebezpieczne zachowania kierowców]',\n",
    "    'PREFERENCJE DOT. MOBILNOŚCI MIEJSKIEJ_Jakie elementy stanowią dla Pana/Pani największa uciążliwość w codziennych podróżach pieszych po Wrocławiu (można wskazać maksymalnie 3 odpowiedzi) [zagrożenie ze strony rowerzystów poruszających się chodnikami]',\n",
    "    'PREFERENCJE DOT. MOBILNOŚCI MIEJSKIEJ_Jakie elementy stanowią dla Pana/Pani największa uciążliwość w codziennych podróżach pieszych po Wrocławiu (można wskazać maksymalnie 3 odpowiedzi) [zbyt wysokie krawężniki]',\n",
    "    'PREFERENCJE DOT. MOBILNOŚCI MIEJSKIEJ_Jakie elementy stanowią dla Pana/Pani największa uciążliwość w codziennych podróżach pieszych po Wrocławiu (można wskazać maksymalnie 3 odpowiedzi) [brak bieżącego utrzymania czystości/odśnieżania]',\n",
    "    'PREFERENCJE DOT. MOBILNOŚCI MIEJSKIEJ_Jakie elementy stanowią dla Pana/Pani największa uciążliwość w codziennych podróżach pieszych po Wrocławiu (można wskazać maksymalnie 3 odpowiedzi) [niewystarczająca liczba przejść dla pieszych]',\n",
    "    'PREFERENCJE DOT. MOBILNOŚCI MIEJSKIEJ_Jakie elementy stanowią dla Pana/Pani największa uciążliwość w codziennych podróżach pieszych po Wrocławiu (można wskazać maksymalnie 3 odpowiedzi) [brak miejsc wypoczynku na trasie dojścia (np. ławki, zieleń)]',\n",
    "    'PREFERENCJE DOT. MOBILNOŚCI MIEJSKIEJ_Jakie elementy stanowią dla Pana/Pani największa uciążliwość w codziennych podróżach pieszych po Wrocławiu (można wskazać maksymalnie 3 odpowiedzi) [uciążliwy ruch kołowy]',\n",
    "    'PREFERENCJE DOT. MOBILNOŚCI MIEJSKIEJ_Jakie elementy stanowią dla Pana/Pani największa uciążliwość w codziennych podróżach pieszych po Wrocławiu (można wskazać maksymalnie 3 odpowiedzi) [niewłaściwe oświetlenie ciągów pieszych]',\n",
    "    'DANE O GOSPODARSTWIE DOMOWYM_Liczba osób w gospodarstwie domowym [ogółem]',\n",
    "    'DANE O GOSPODARSTWIE DOMOWYM_Liczba osób w gospodarstwie domowym [powyżej 6 roku życia]',\n",
    "    'DANE O GOSPODARSTWIE DOMOWYM_Liczba środków transportu w gospodarstwie domowym [Samochód prywatny, zarejestrowany na osobę z gosp. domowego]',\n",
    "    'DANE O GOSPODARSTWIE DOMOWYM_Liczba środków transportu w gospodarstwie domowym [Samochód prywatny, nie zarejestrowany na osobę z gosp. domowego [użyczone]]',\n",
    "    'DANE O GOSPODARSTWIE DOMOWYM_Liczba środków transportu w gospodarstwie domowym [Samochód służbowy]',\n",
    "    'DANE O GOSPODARSTWIE DOMOWYM_Liczba środków transportu w gospodarstwie domowym [Rower]',\n",
    "    'DANE O RESPONDENCIE_Przedział wiekowy',\n",
    "    'DANE O RESPONDENCIE_Płeć',\n",
    "    # 'DANE O RESPONDENCIE_Zajęcie podstawowe',\n",
    "    'DANE O RESPONDENCIE_Kondycja fizyczna',\n",
    "    'DANE O RESPONDENCIE_Opieka nad innymi osobami',\n",
    "    'DANE O RESPONDENCIE_Posiadanie prawa jazdy kat. B',\n",
    "    'DANE O RESPONDENCIE_Posiadanie biletu okresowego',\n",
    "    'DANE O RESPONDENCIE_Posiadanie ulgi na przejazd komunikacją zbiorową we Wrocławiu',\n",
    "    'OPIS PODRÓŻY \"ŹRÓDŁO\"_Godzina rozpoczęcia podróży\\n[gg:mm:ss]',\n",
    "    'OPIS PODRÓŻY \"ŹRÓDŁO\"_Z jakiego miejsca',\n",
    "    'OPIS PODRÓŻY \"ŹRÓDŁO\"_Nr rejonu',\n",
    "    'OPIS PODRÓŻY \"CEL\"_Do jakiego miejsca',\n",
    "    'OPIS PODRÓŻY \"CEL\"_Nr rejonu',\n",
    "    '23:59:00_pora dnia',\n",
    "    '23:59:00_motywacje',\n",
    "    '23:59:00_środek transportu grupa'\n",
    "]\n",
    "\n",
    "data = data[chosen_cols]\n",
    "\n",
    "data.columns = [\n",
    "    # 'Z jakiego środka transportu zbiorowego korzysta Pan/Pani najczęściej?',\n",
    "    'Jak Pan/Pani ocenia wygodę jazdy pojazdami komunikacji zbiorowej?',\n",
    "    'Jak Pan/Pani ocenia punktualność komunikacji zbiorowej we Wrocławiu?',\n",
    "    'Jak ocenia Pan/Pani efekty dotychczasowych działań związanych z rozbudową systemu rowerowego we Wrocławiu (dróg i parkingów rowerowych)?',\n",
    "    'PIESZO Niekorzystne ustawienia sygnalizacji świetlnej',\n",
    "    'PIESZO Brak chodników i konieczność poruszania się jezdnią/poboczem/wydeptaną ścieżką',\n",
    "    'PIESZO Zły stan nawierzchni chodników',\n",
    "    'PIESZO Zastawianie chodników przez parkujące samochody',\n",
    "    'PIESZO Niebezpieczne zachowania kierowców',\n",
    "    'PIESZO Zagrożenie ze strony rowerzystów poruszających się chodnikami',\n",
    "    'PIESZO Zbyt wysokie krawężniki',\n",
    "    'PIESZO Brak bieżącego utrzymania czystości/odśnieżania',\n",
    "    'PIESZO Niewystarczająca liczba przejść dla pieszych',\n",
    "    'PIESZO Brak miejsc wypoczynku na trasie dojścia (np. ławki, zieleń)',\n",
    "    'PIESZO Uciążliwy ruch kołowy',\n",
    "    'PIESZO Niewłaściwe oświetlenie ciągów pieszych',\n",
    "    'Liczba osób w gospodarstwie domowym [ogółem]',\n",
    "    'Liczba osób w gospodarstwie domowym [powyżej 6 roku życia]',\n",
    "    'Samochód prywatny, zarejestrowany na osobę z gosp. domowego',\n",
    "    'Samochód prywatny, nie zarejestrowany na osobę z gosp. domowego [użyczone]',\n",
    "    'Samochód służbowy',\n",
    "    'Rower',\n",
    "    'Przedział wiekowy',\n",
    "    'Płeć',\n",
    "    # 'Zajęcie podstawowe',\n",
    "    'Kondycja fizyczna',\n",
    "    'Opieka nad innymi osobami',\n",
    "    'Posiadanie prawa jazdy kat. B',\n",
    "    'Posiadanie biletu okresowego',\n",
    "    'Posiadanie ulgi na przejazd komunikację zbiorową',\n",
    "    'ŹRÓDŁO Czas rozpoczęcia',\n",
    "    'ŹRÓDŁO Z jakiego miejsca',\n",
    "    'ŹRÓDŁO Nr rejonu',\n",
    "    'CEL Do jakiego miejsca',\n",
    "    'CEL Nr rejonu',\n",
    "    'Pora dnia (godzina)',\n",
    "    'Motywacje (skąd-dokąd)',\n",
    "    'Środek transportu grupa'\n",
    "]"
   ]
  },
  {
   "cell_type": "code",
   "execution_count": 7,
   "metadata": {},
   "outputs": [
    {
     "output_type": "execute_result",
     "data": {
      "text/plain": [
       "  Jak Pan/Pani ocenia wygodę jazdy pojazdami komunikacji zbiorowej?  \\\n",
       "0                                      bardzo dobrze                  \n",
       "1                                      bardzo dobrze                  \n",
       "2                                      bardzo dobrze                  \n",
       "3                                      bardzo dobrze                  \n",
       "4                                      bardzo dobrze                  \n",
       "\n",
       "  Jak Pan/Pani ocenia punktualność komunikacji zbiorowej we Wrocławiu?  \\\n",
       "0                                      raczej dobrze                     \n",
       "1                                      raczej dobrze                     \n",
       "2                                      raczej dobrze                     \n",
       "3                                      raczej dobrze                     \n",
       "4                                      bardzo dobrze                     \n",
       "\n",
       "  Jak ocenia Pan/Pani efekty dotychczasowych działań związanych z rozbudową systemu rowerowego we Wrocławiu (dróg i parkingów rowerowych)?  \\\n",
       "0                                      bardzo dobrze                                                                                         \n",
       "1                                      bardzo dobrze                                                                                         \n",
       "2                                      raczej dobrze                                                                                         \n",
       "3                                      raczej dobrze                                                                                         \n",
       "4                                 ani dobrze ani źle                                                                                         \n",
       "\n",
       "  PIESZO Niekorzystne ustawienia sygnalizacji świetlnej  \\\n",
       "0                                                Nie      \n",
       "1                                                Nie      \n",
       "2                                                Nie      \n",
       "3                                                Nie      \n",
       "4                                                Nie      \n",
       "\n",
       "  PIESZO Brak chodników i konieczność poruszania się jezdnią/poboczem/wydeptaną ścieżką  \\\n",
       "0                                                Nie                                      \n",
       "1                                                Nie                                      \n",
       "2                                                Nie                                      \n",
       "3                                                Nie                                      \n",
       "4                                                Tak                                      \n",
       "\n",
       "  PIESZO Zły stan nawierzchni chodników  \\\n",
       "0                                   Nie   \n",
       "1                                   Nie   \n",
       "2                                   Nie   \n",
       "3                                   Nie   \n",
       "4                                   Nie   \n",
       "\n",
       "  PIESZO Zastawianie chodników przez parkujące samochody  \\\n",
       "0                                                Nie       \n",
       "1                                                Nie       \n",
       "2                                                Tak       \n",
       "3                                                Tak       \n",
       "4                                                Nie       \n",
       "\n",
       "  PIESZO Niebezpieczne zachowania kierowców  \\\n",
       "0                                       Nie   \n",
       "1                                       Nie   \n",
       "2                                       Nie   \n",
       "3                                       Nie   \n",
       "4                                       Nie   \n",
       "\n",
       "  PIESZO Zagrożenie ze strony rowerzystów poruszających się chodnikami  \\\n",
       "0                                                Tak                     \n",
       "1                                                Tak                     \n",
       "2                                                Nie                     \n",
       "3                                                Nie                     \n",
       "4                                                Nie                     \n",
       "\n",
       "  PIESZO Zbyt wysokie krawężniki  \\\n",
       "0                            Tak   \n",
       "1                            Tak   \n",
       "2                            Nie   \n",
       "3                            Nie   \n",
       "4                            Nie   \n",
       "\n",
       "  PIESZO Brak bieżącego utrzymania czystości/odśnieżania  \\\n",
       "0                                                Nie       \n",
       "1                                                Nie       \n",
       "2                                                Nie       \n",
       "3                                                Nie       \n",
       "4                                                Nie       \n",
       "\n",
       "  PIESZO Niewystarczająca liczba przejść dla pieszych  \\\n",
       "0                                                Nie    \n",
       "1                                                Nie    \n",
       "2                                                Tak    \n",
       "3                                                Tak    \n",
       "4                                                Nie    \n",
       "\n",
       "  PIESZO Brak miejsc wypoczynku na trasie dojścia (np. ławki, zieleń)  \\\n",
       "0                                                Nie                    \n",
       "1                                                Nie                    \n",
       "2                                                Nie                    \n",
       "3                                                Nie                    \n",
       "4                                                Nie                    \n",
       "\n",
       "  PIESZO Uciążliwy ruch kołowy PIESZO Niewłaściwe oświetlenie ciągów pieszych  \\\n",
       "0                          Tak                                            Nie   \n",
       "1                          Tak                                            Nie   \n",
       "2                          Nie                                            Nie   \n",
       "3                          Nie                                            Nie   \n",
       "4                          Nie                                            Nie   \n",
       "\n",
       "   Liczba osób w gospodarstwie domowym [ogółem]  \\\n",
       "0                                           1.0   \n",
       "1                                           1.0   \n",
       "2                                           2.0   \n",
       "3                                           2.0   \n",
       "4                                           2.0   \n",
       "\n",
       "   Liczba osób w gospodarstwie domowym [powyżej 6 roku życia]  \\\n",
       "0                                                1.0            \n",
       "1                                                1.0            \n",
       "2                                                2.0            \n",
       "3                                                2.0            \n",
       "4                                                2.0            \n",
       "\n",
       "   Samochód prywatny, zarejestrowany na osobę z gosp. domowego  \\\n",
       "0                                                0.0             \n",
       "1                                                0.0             \n",
       "2                                                0.0             \n",
       "3                                                0.0             \n",
       "4                                                1.0             \n",
       "\n",
       "   Samochód prywatny, nie zarejestrowany na osobę z gosp. domowego [użyczone]  \\\n",
       "0                                                0.0                            \n",
       "1                                                0.0                            \n",
       "2                                                1.0                            \n",
       "3                                                1.0                            \n",
       "4                                                0.0                            \n",
       "\n",
       "   Samochód służbowy  Rower              Przedział wiekowy       Płeć  \\\n",
       "0                0.0    1.0  61 i więcej (emeryci kobiety)    Kobieta   \n",
       "1                0.0    1.0  61 i więcej (emeryci kobiety)    Kobieta   \n",
       "2                0.0    1.0         20-24 (wiek studencki)    Kobieta   \n",
       "3                0.0    1.0         20-24 (wiek studencki)  Mężczyzna   \n",
       "4                0.0    0.0  61 i więcej (emeryci kobiety)    Kobieta   \n",
       "\n",
       "        Kondycja fizyczna Opieka nad innymi osobami  \\\n",
       "0      dobry stan zdrowia               nie dotyczy   \n",
       "1      dobry stan zdrowia               nie dotyczy   \n",
       "2      dobry stan zdrowia               nie dotyczy   \n",
       "3      dobry stan zdrowia               nie dotyczy   \n",
       "4  dolegliwości zdrowotne               nie dotyczy   \n",
       "\n",
       "  Posiadanie prawa jazdy kat. B Posiadanie biletu okresowego  \\\n",
       "0                           Tak                          Tak   \n",
       "1                           Tak                          Tak   \n",
       "2                           Tak                          Tak   \n",
       "3                           Tak                          Tak   \n",
       "4                           Nie                          Nie   \n",
       "\n",
       "  Posiadanie ulgi na przejazd komunikację zbiorową ŹRÓDŁO Czas rozpoczęcia  \\\n",
       "0                                              0.5                09:00:00   \n",
       "1                                              0.5                09:40:00   \n",
       "2                                              0.5                     NaN   \n",
       "3                                              0.5                     NaN   \n",
       "4                                              0.5                     NaN   \n",
       "\n",
       "  ŹRÓDŁO Z jakiego miejsca  ŹRÓDŁO Nr rejonu CEL Do jakiego miejsca  \\\n",
       "0                      dom              67.0                   Inne   \n",
       "1                     Inne              68.0                    dom   \n",
       "2                      NaN               NaN                    NaN   \n",
       "3                      NaN               NaN                    NaN   \n",
       "4                      NaN               NaN                    NaN   \n",
       "\n",
       "   CEL Nr rejonu Pora dnia (godzina) Motywacje (skąd-dokąd)  \\\n",
       "0           68.0           9:00-9:59               dom-Inne   \n",
       "1           67.0           9:00-9:59               Inne-dom   \n",
       "2            NaN                 NaN                      -   \n",
       "3            NaN                 NaN                      -   \n",
       "4            NaN                 NaN                      -   \n",
       "\n",
       "   Środek transportu grupa  \n",
       "0  komunikacja samochodowa  \n",
       "1  komunikacja samochodowa  \n",
       "2                      NaN  \n",
       "3                      NaN  \n",
       "4                      NaN  "
      ],
      "text/html": "<div>\n<style scoped>\n    .dataframe tbody tr th:only-of-type {\n        vertical-align: middle;\n    }\n\n    .dataframe tbody tr th {\n        vertical-align: top;\n    }\n\n    .dataframe thead th {\n        text-align: right;\n    }\n</style>\n<table border=\"1\" class=\"dataframe\">\n  <thead>\n    <tr style=\"text-align: right;\">\n      <th></th>\n      <th>Jak Pan/Pani ocenia wygodę jazdy pojazdami komunikacji zbiorowej?</th>\n      <th>Jak Pan/Pani ocenia punktualność komunikacji zbiorowej we Wrocławiu?</th>\n      <th>Jak ocenia Pan/Pani efekty dotychczasowych działań związanych z rozbudową systemu rowerowego we Wrocławiu (dróg i parkingów rowerowych)?</th>\n      <th>PIESZO Niekorzystne ustawienia sygnalizacji świetlnej</th>\n      <th>PIESZO Brak chodników i konieczność poruszania się jezdnią/poboczem/wydeptaną ścieżką</th>\n      <th>PIESZO Zły stan nawierzchni chodników</th>\n      <th>PIESZO Zastawianie chodników przez parkujące samochody</th>\n      <th>PIESZO Niebezpieczne zachowania kierowców</th>\n      <th>PIESZO Zagrożenie ze strony rowerzystów poruszających się chodnikami</th>\n      <th>PIESZO Zbyt wysokie krawężniki</th>\n      <th>PIESZO Brak bieżącego utrzymania czystości/odśnieżania</th>\n      <th>PIESZO Niewystarczająca liczba przejść dla pieszych</th>\n      <th>PIESZO Brak miejsc wypoczynku na trasie dojścia (np. ławki, zieleń)</th>\n      <th>PIESZO Uciążliwy ruch kołowy</th>\n      <th>PIESZO Niewłaściwe oświetlenie ciągów pieszych</th>\n      <th>Liczba osób w gospodarstwie domowym [ogółem]</th>\n      <th>Liczba osób w gospodarstwie domowym [powyżej 6 roku życia]</th>\n      <th>Samochód prywatny, zarejestrowany na osobę z gosp. domowego</th>\n      <th>Samochód prywatny, nie zarejestrowany na osobę z gosp. domowego [użyczone]</th>\n      <th>Samochód służbowy</th>\n      <th>Rower</th>\n      <th>Przedział wiekowy</th>\n      <th>Płeć</th>\n      <th>Kondycja fizyczna</th>\n      <th>Opieka nad innymi osobami</th>\n      <th>Posiadanie prawa jazdy kat. B</th>\n      <th>Posiadanie biletu okresowego</th>\n      <th>Posiadanie ulgi na przejazd komunikację zbiorową</th>\n      <th>ŹRÓDŁO Czas rozpoczęcia</th>\n      <th>ŹRÓDŁO Z jakiego miejsca</th>\n      <th>ŹRÓDŁO Nr rejonu</th>\n      <th>CEL Do jakiego miejsca</th>\n      <th>CEL Nr rejonu</th>\n      <th>Pora dnia (godzina)</th>\n      <th>Motywacje (skąd-dokąd)</th>\n      <th>Środek transportu grupa</th>\n    </tr>\n  </thead>\n  <tbody>\n    <tr>\n      <th>0</th>\n      <td>bardzo dobrze</td>\n      <td>raczej dobrze</td>\n      <td>bardzo dobrze</td>\n      <td>Nie</td>\n      <td>Nie</td>\n      <td>Nie</td>\n      <td>Nie</td>\n      <td>Nie</td>\n      <td>Tak</td>\n      <td>Tak</td>\n      <td>Nie</td>\n      <td>Nie</td>\n      <td>Nie</td>\n      <td>Tak</td>\n      <td>Nie</td>\n      <td>1.0</td>\n      <td>1.0</td>\n      <td>0.0</td>\n      <td>0.0</td>\n      <td>0.0</td>\n      <td>1.0</td>\n      <td>61 i więcej (emeryci kobiety)</td>\n      <td>Kobieta</td>\n      <td>dobry stan zdrowia</td>\n      <td>nie dotyczy</td>\n      <td>Tak</td>\n      <td>Tak</td>\n      <td>0.5</td>\n      <td>09:00:00</td>\n      <td>dom</td>\n      <td>67.0</td>\n      <td>Inne</td>\n      <td>68.0</td>\n      <td>9:00-9:59</td>\n      <td>dom-Inne</td>\n      <td>komunikacja samochodowa</td>\n    </tr>\n    <tr>\n      <th>1</th>\n      <td>bardzo dobrze</td>\n      <td>raczej dobrze</td>\n      <td>bardzo dobrze</td>\n      <td>Nie</td>\n      <td>Nie</td>\n      <td>Nie</td>\n      <td>Nie</td>\n      <td>Nie</td>\n      <td>Tak</td>\n      <td>Tak</td>\n      <td>Nie</td>\n      <td>Nie</td>\n      <td>Nie</td>\n      <td>Tak</td>\n      <td>Nie</td>\n      <td>1.0</td>\n      <td>1.0</td>\n      <td>0.0</td>\n      <td>0.0</td>\n      <td>0.0</td>\n      <td>1.0</td>\n      <td>61 i więcej (emeryci kobiety)</td>\n      <td>Kobieta</td>\n      <td>dobry stan zdrowia</td>\n      <td>nie dotyczy</td>\n      <td>Tak</td>\n      <td>Tak</td>\n      <td>0.5</td>\n      <td>09:40:00</td>\n      <td>Inne</td>\n      <td>68.0</td>\n      <td>dom</td>\n      <td>67.0</td>\n      <td>9:00-9:59</td>\n      <td>Inne-dom</td>\n      <td>komunikacja samochodowa</td>\n    </tr>\n    <tr>\n      <th>2</th>\n      <td>bardzo dobrze</td>\n      <td>raczej dobrze</td>\n      <td>raczej dobrze</td>\n      <td>Nie</td>\n      <td>Nie</td>\n      <td>Nie</td>\n      <td>Tak</td>\n      <td>Nie</td>\n      <td>Nie</td>\n      <td>Nie</td>\n      <td>Nie</td>\n      <td>Tak</td>\n      <td>Nie</td>\n      <td>Nie</td>\n      <td>Nie</td>\n      <td>2.0</td>\n      <td>2.0</td>\n      <td>0.0</td>\n      <td>1.0</td>\n      <td>0.0</td>\n      <td>1.0</td>\n      <td>20-24 (wiek studencki)</td>\n      <td>Kobieta</td>\n      <td>dobry stan zdrowia</td>\n      <td>nie dotyczy</td>\n      <td>Tak</td>\n      <td>Tak</td>\n      <td>0.5</td>\n      <td>NaN</td>\n      <td>NaN</td>\n      <td>NaN</td>\n      <td>NaN</td>\n      <td>NaN</td>\n      <td>NaN</td>\n      <td>-</td>\n      <td>NaN</td>\n    </tr>\n    <tr>\n      <th>3</th>\n      <td>bardzo dobrze</td>\n      <td>raczej dobrze</td>\n      <td>raczej dobrze</td>\n      <td>Nie</td>\n      <td>Nie</td>\n      <td>Nie</td>\n      <td>Tak</td>\n      <td>Nie</td>\n      <td>Nie</td>\n      <td>Nie</td>\n      <td>Nie</td>\n      <td>Tak</td>\n      <td>Nie</td>\n      <td>Nie</td>\n      <td>Nie</td>\n      <td>2.0</td>\n      <td>2.0</td>\n      <td>0.0</td>\n      <td>1.0</td>\n      <td>0.0</td>\n      <td>1.0</td>\n      <td>20-24 (wiek studencki)</td>\n      <td>Mężczyzna</td>\n      <td>dobry stan zdrowia</td>\n      <td>nie dotyczy</td>\n      <td>Tak</td>\n      <td>Tak</td>\n      <td>0.5</td>\n      <td>NaN</td>\n      <td>NaN</td>\n      <td>NaN</td>\n      <td>NaN</td>\n      <td>NaN</td>\n      <td>NaN</td>\n      <td>-</td>\n      <td>NaN</td>\n    </tr>\n    <tr>\n      <th>4</th>\n      <td>bardzo dobrze</td>\n      <td>bardzo dobrze</td>\n      <td>ani dobrze ani źle</td>\n      <td>Nie</td>\n      <td>Tak</td>\n      <td>Nie</td>\n      <td>Nie</td>\n      <td>Nie</td>\n      <td>Nie</td>\n      <td>Nie</td>\n      <td>Nie</td>\n      <td>Nie</td>\n      <td>Nie</td>\n      <td>Nie</td>\n      <td>Nie</td>\n      <td>2.0</td>\n      <td>2.0</td>\n      <td>1.0</td>\n      <td>0.0</td>\n      <td>0.0</td>\n      <td>0.0</td>\n      <td>61 i więcej (emeryci kobiety)</td>\n      <td>Kobieta</td>\n      <td>dolegliwości zdrowotne</td>\n      <td>nie dotyczy</td>\n      <td>Nie</td>\n      <td>Nie</td>\n      <td>0.5</td>\n      <td>NaN</td>\n      <td>NaN</td>\n      <td>NaN</td>\n      <td>NaN</td>\n      <td>NaN</td>\n      <td>NaN</td>\n      <td>-</td>\n      <td>NaN</td>\n    </tr>\n  </tbody>\n</table>\n</div>"
     },
     "metadata": {},
     "execution_count": 7
    }
   ],
   "source": [
    "data.head()"
   ]
  },
  {
   "cell_type": "code",
   "execution_count": 8,
   "metadata": {},
   "outputs": [
    {
     "output_type": "execute_result",
     "data": {
      "text/plain": [
       "(14241, 36)"
      ]
     },
     "metadata": {},
     "execution_count": 8
    }
   ],
   "source": [
    "data.shape"
   ]
  },
  {
   "source": [
    "# Data processing"
   ],
   "cell_type": "markdown",
   "metadata": {}
  },
  {
   "source": [
    "## Drop rows with NaN values and prepare column 'Samochód'"
   ],
   "cell_type": "markdown",
   "metadata": {}
  },
  {
   "cell_type": "code",
   "execution_count": 9,
   "metadata": {},
   "outputs": [
    {
     "output_type": "execute_result",
     "data": {
      "text/plain": [
       "(10626, 34)"
      ]
     },
     "metadata": {},
     "execution_count": 9
    }
   ],
   "source": [
    "data = data.dropna()\n",
    "\n",
    "data['Samochód'] = data['Samochód prywatny, zarejestrowany na osobę z gosp. domowego'] + data['Samochód prywatny, nie zarejestrowany na osobę z gosp. domowego [użyczone]'] + data['Samochód służbowy']\n",
    "\n",
    "data = data.drop(columns=['Samochód prywatny, zarejestrowany na osobę z gosp. domowego', 'Samochód prywatny, nie zarejestrowany na osobę z gosp. domowego [użyczone]', 'Samochód służbowy'])\n",
    "\n",
    "data.shape"
   ]
  },
  {
   "source": [
    "## Add column with the dsitance of the trip"
   ],
   "cell_type": "markdown",
   "metadata": {}
  },
  {
   "cell_type": "code",
   "execution_count": 10,
   "metadata": {},
   "outputs": [],
   "source": [
    "regions_unique = distance_between_regions.keys()\n",
    "\n",
    "data = data[\n",
    "    (data['ŹRÓDŁO Nr rejonu'].astype('int').astype('str').isin(regions_unique)) &\n",
    "    (data['CEL Nr rejonu'].astype('int').astype('str').isin(regions_unique))\n",
    "]"
   ]
  },
  {
   "cell_type": "code",
   "execution_count": 11,
   "metadata": {},
   "outputs": [
    {
     "output_type": "stream",
     "name": "stderr",
     "text": [
      "100%|██████████| 10138/10138 [00:09<00:00, 1120.16it/s]\n"
     ]
    }
   ],
   "source": [
    "def add_regions_num(row):\n",
    "    row['Przebyta odległość'] = distance_between_regions[str(int(row['ŹRÓDŁO Nr rejonu']))][str(int(row['CEL Nr rejonu']))]\n",
    "\n",
    "    return row\n",
    "\n",
    "\n",
    "data = data.progress_apply(add_regions_num, axis=1)"
   ]
  },
  {
   "source": [
    "## Add column with age_sex_comb"
   ],
   "cell_type": "markdown",
   "metadata": {}
  },
  {
   "cell_type": "code",
   "execution_count": 12,
   "metadata": {},
   "outputs": [],
   "source": [
    "data['age_bracket'] = data['Przedział wiekowy']\n",
    "data['sex'] = data['Płeć']"
   ]
  },
  {
   "cell_type": "code",
   "execution_count": 13,
   "metadata": {},
   "outputs": [],
   "source": [
    "age_bracket_map_dict = {\n",
    "    '6-15 (dzieci)': '6-15',\n",
    "    '16-19 (młodzież)': '16-19',\n",
    "    '20-24 (wiek studencki)': '20-24',\n",
    "    '25-44 (młodsi pracownicy)': '25-44',\n",
    "    '45-60 (starsi pracownicy kobiety)': '45-60',  # '45-60(K)',\n",
    "    '45-65 (starsi pracownicy mężczyźni)': '45-65',  # '45-65(M)',\n",
    "    '61 i więcej (emeryci kobiety)': '61-x',  # '61-(K)',\n",
    "    '66 i więcej (emeryci mężczyźni)': '66-x'  # '66-(M)'\n",
    "}\n",
    "data.replace({'age_bracket': age_bracket_map_dict}, inplace=True)\n",
    "\n",
    "sex_map_dict = {\n",
    "    'Kobieta': 'K',\n",
    "    'Mężczyzna': 'M'\n",
    "}\n",
    "data.replace({'sex': sex_map_dict}, inplace=True)\n",
    "\n",
    "data['age_sex_comb'] = data['age_bracket'] + '_' + data['sex']"
   ]
  },
  {
   "cell_type": "code",
   "execution_count": 14,
   "metadata": {},
   "outputs": [],
   "source": [
    "data = data.drop(columns=['age_bracket', 'sex'], axis=1)"
   ]
  },
  {
   "cell_type": "code",
   "execution_count": 15,
   "metadata": {},
   "outputs": [],
   "source": [
    "data_copy = data"
   ]
  },
  {
   "cell_type": "code",
   "execution_count": 16,
   "metadata": {},
   "outputs": [
    {
     "output_type": "execute_result",
     "data": {
      "text/plain": [
       "  Jak Pan/Pani ocenia wygodę jazdy pojazdami komunikacji zbiorowej?  \\\n",
       "0                                      bardzo dobrze                  \n",
       "1                                      bardzo dobrze                  \n",
       "5                                      bardzo dobrze                  \n",
       "6                                      bardzo dobrze                  \n",
       "7                                      bardzo dobrze                  \n",
       "\n",
       "  Jak Pan/Pani ocenia punktualność komunikacji zbiorowej we Wrocławiu?  \\\n",
       "0                                      raczej dobrze                     \n",
       "1                                      raczej dobrze                     \n",
       "5                                      bardzo dobrze                     \n",
       "6                                      bardzo dobrze                     \n",
       "7                                      raczej dobrze                     \n",
       "\n",
       "  Jak ocenia Pan/Pani efekty dotychczasowych działań związanych z rozbudową systemu rowerowego we Wrocławiu (dróg i parkingów rowerowych)?  \\\n",
       "0                                      bardzo dobrze                                                                                         \n",
       "1                                      bardzo dobrze                                                                                         \n",
       "5                                      bardzo dobrze                                                                                         \n",
       "6                                      bardzo dobrze                                                                                         \n",
       "7  nie korzystam z systemu dróg i parkingów rower...                                                                                         \n",
       "\n",
       "  PIESZO Niekorzystne ustawienia sygnalizacji świetlnej  \\\n",
       "0                                                Nie      \n",
       "1                                                Nie      \n",
       "5                                                Nie      \n",
       "6                                                Nie      \n",
       "7                                                Nie      \n",
       "\n",
       "  PIESZO Brak chodników i konieczność poruszania się jezdnią/poboczem/wydeptaną ścieżką  \\\n",
       "0                                                Nie                                      \n",
       "1                                                Nie                                      \n",
       "5                                                Tak                                      \n",
       "6                                                Tak                                      \n",
       "7                                                Nie                                      \n",
       "\n",
       "  PIESZO Zły stan nawierzchni chodników  \\\n",
       "0                                   Nie   \n",
       "1                                   Nie   \n",
       "5                                   Nie   \n",
       "6                                   Nie   \n",
       "7                                   Nie   \n",
       "\n",
       "  PIESZO Zastawianie chodników przez parkujące samochody  \\\n",
       "0                                                Nie       \n",
       "1                                                Nie       \n",
       "5                                                Nie       \n",
       "6                                                Nie       \n",
       "7                                                Nie       \n",
       "\n",
       "  PIESZO Niebezpieczne zachowania kierowców  \\\n",
       "0                                       Nie   \n",
       "1                                       Nie   \n",
       "5                                       Nie   \n",
       "6                                       Nie   \n",
       "7                                       Tak   \n",
       "\n",
       "  PIESZO Zagrożenie ze strony rowerzystów poruszających się chodnikami  \\\n",
       "0                                                Tak                     \n",
       "1                                                Tak                     \n",
       "5                                                Nie                     \n",
       "6                                                Nie                     \n",
       "7                                                Nie                     \n",
       "\n",
       "  PIESZO Zbyt wysokie krawężniki  \\\n",
       "0                            Tak   \n",
       "1                            Tak   \n",
       "5                            Nie   \n",
       "6                            Nie   \n",
       "7                            Nie   \n",
       "\n",
       "  PIESZO Brak bieżącego utrzymania czystości/odśnieżania  \\\n",
       "0                                                Nie       \n",
       "1                                                Nie       \n",
       "5                                                Nie       \n",
       "6                                                Nie       \n",
       "7                                                Nie       \n",
       "\n",
       "  PIESZO Niewystarczająca liczba przejść dla pieszych  \\\n",
       "0                                                Nie    \n",
       "1                                                Nie    \n",
       "5                                                Nie    \n",
       "6                                                Nie    \n",
       "7                                                Nie    \n",
       "\n",
       "  PIESZO Brak miejsc wypoczynku na trasie dojścia (np. ławki, zieleń)  \\\n",
       "0                                                Nie                    \n",
       "1                                                Nie                    \n",
       "5                                                Nie                    \n",
       "6                                                Nie                    \n",
       "7                                                Nie                    \n",
       "\n",
       "  PIESZO Uciążliwy ruch kołowy PIESZO Niewłaściwe oświetlenie ciągów pieszych  \\\n",
       "0                          Tak                                            Nie   \n",
       "1                          Tak                                            Nie   \n",
       "5                          Nie                                            Nie   \n",
       "6                          Nie                                            Nie   \n",
       "7                          Nie                                            Nie   \n",
       "\n",
       "   Liczba osób w gospodarstwie domowym [ogółem]  \\\n",
       "0                                           1.0   \n",
       "1                                           1.0   \n",
       "5                                           2.0   \n",
       "6                                           2.0   \n",
       "7                                           1.0   \n",
       "\n",
       "   Liczba osób w gospodarstwie domowym [powyżej 6 roku życia]  Rower  \\\n",
       "0                                                1.0             1.0   \n",
       "1                                                1.0             1.0   \n",
       "5                                                2.0             0.0   \n",
       "6                                                2.0             0.0   \n",
       "7                                                1.0             0.0   \n",
       "\n",
       "                     Przedział wiekowy       Płeć   Kondycja fizyczna  \\\n",
       "0        61 i więcej (emeryci kobiety)    Kobieta  dobry stan zdrowia   \n",
       "1        61 i więcej (emeryci kobiety)    Kobieta  dobry stan zdrowia   \n",
       "5  45-65 (starsi pracownicy mężczyźni)  Mężczyzna  dobry stan zdrowia   \n",
       "6  45-65 (starsi pracownicy mężczyźni)  Mężczyzna  dobry stan zdrowia   \n",
       "7            25-44 (młodsi pracownicy)    Kobieta  dobry stan zdrowia   \n",
       "\n",
       "  Opieka nad innymi osobami Posiadanie prawa jazdy kat. B  \\\n",
       "0               nie dotyczy                           Tak   \n",
       "1               nie dotyczy                           Tak   \n",
       "5               nie dotyczy                           Tak   \n",
       "6               nie dotyczy                           Tak   \n",
       "7               nie dotyczy                           Tak   \n",
       "\n",
       "  Posiadanie biletu okresowego  \\\n",
       "0                          Tak   \n",
       "1                          Tak   \n",
       "5                          Nie   \n",
       "6                          Nie   \n",
       "7                          Tak   \n",
       "\n",
       "  Posiadanie ulgi na przejazd komunikację zbiorową ŹRÓDŁO Czas rozpoczęcia  \\\n",
       "0                                              0.5                09:00:00   \n",
       "1                                              0.5                09:40:00   \n",
       "5                                              0.5                09:00:00   \n",
       "6                                              0.5                09:40:00   \n",
       "7                                              0.5                18:00:00   \n",
       "\n",
       "  ŹRÓDŁO Z jakiego miejsca  ŹRÓDŁO Nr rejonu CEL Do jakiego miejsca  \\\n",
       "0                      dom              67.0                   Inne   \n",
       "1                     Inne              68.0                    dom   \n",
       "5                      dom              67.0                   Inne   \n",
       "6                     Inne              68.0                    dom   \n",
       "7                      dom              67.0                   Inne   \n",
       "\n",
       "   CEL Nr rejonu Pora dnia (godzina) Motywacje (skąd-dokąd)  \\\n",
       "0           68.0           9:00-9:59               dom-Inne   \n",
       "1           67.0           9:00-9:59               Inne-dom   \n",
       "5           68.0           9:00-9:59               dom-Inne   \n",
       "6           67.0           9:00-9:59               Inne-dom   \n",
       "7           29.0         18:00-18:59               dom-Inne   \n",
       "\n",
       "   Środek transportu grupa  Samochód  Przebyta odległość age_sex_comb  \n",
       "0  komunikacja samochodowa       0.0         1223.212986       61-x_K  \n",
       "1  komunikacja samochodowa       0.0         1223.212986       61-x_K  \n",
       "5  komunikacja samochodowa       1.0         1223.212986      45-65_M  \n",
       "6  komunikacja samochodowa       1.0         1223.212986      45-65_M  \n",
       "7     komunikacja zbiorowa       0.0         2637.323757      25-44_K  "
      ],
      "text/html": "<div>\n<style scoped>\n    .dataframe tbody tr th:only-of-type {\n        vertical-align: middle;\n    }\n\n    .dataframe tbody tr th {\n        vertical-align: top;\n    }\n\n    .dataframe thead th {\n        text-align: right;\n    }\n</style>\n<table border=\"1\" class=\"dataframe\">\n  <thead>\n    <tr style=\"text-align: right;\">\n      <th></th>\n      <th>Jak Pan/Pani ocenia wygodę jazdy pojazdami komunikacji zbiorowej?</th>\n      <th>Jak Pan/Pani ocenia punktualność komunikacji zbiorowej we Wrocławiu?</th>\n      <th>Jak ocenia Pan/Pani efekty dotychczasowych działań związanych z rozbudową systemu rowerowego we Wrocławiu (dróg i parkingów rowerowych)?</th>\n      <th>PIESZO Niekorzystne ustawienia sygnalizacji świetlnej</th>\n      <th>PIESZO Brak chodników i konieczność poruszania się jezdnią/poboczem/wydeptaną ścieżką</th>\n      <th>PIESZO Zły stan nawierzchni chodników</th>\n      <th>PIESZO Zastawianie chodników przez parkujące samochody</th>\n      <th>PIESZO Niebezpieczne zachowania kierowców</th>\n      <th>PIESZO Zagrożenie ze strony rowerzystów poruszających się chodnikami</th>\n      <th>PIESZO Zbyt wysokie krawężniki</th>\n      <th>PIESZO Brak bieżącego utrzymania czystości/odśnieżania</th>\n      <th>PIESZO Niewystarczająca liczba przejść dla pieszych</th>\n      <th>PIESZO Brak miejsc wypoczynku na trasie dojścia (np. ławki, zieleń)</th>\n      <th>PIESZO Uciążliwy ruch kołowy</th>\n      <th>PIESZO Niewłaściwe oświetlenie ciągów pieszych</th>\n      <th>Liczba osób w gospodarstwie domowym [ogółem]</th>\n      <th>Liczba osób w gospodarstwie domowym [powyżej 6 roku życia]</th>\n      <th>Rower</th>\n      <th>Przedział wiekowy</th>\n      <th>Płeć</th>\n      <th>Kondycja fizyczna</th>\n      <th>Opieka nad innymi osobami</th>\n      <th>Posiadanie prawa jazdy kat. B</th>\n      <th>Posiadanie biletu okresowego</th>\n      <th>Posiadanie ulgi na przejazd komunikację zbiorową</th>\n      <th>ŹRÓDŁO Czas rozpoczęcia</th>\n      <th>ŹRÓDŁO Z jakiego miejsca</th>\n      <th>ŹRÓDŁO Nr rejonu</th>\n      <th>CEL Do jakiego miejsca</th>\n      <th>CEL Nr rejonu</th>\n      <th>Pora dnia (godzina)</th>\n      <th>Motywacje (skąd-dokąd)</th>\n      <th>Środek transportu grupa</th>\n      <th>Samochód</th>\n      <th>Przebyta odległość</th>\n      <th>age_sex_comb</th>\n    </tr>\n  </thead>\n  <tbody>\n    <tr>\n      <th>0</th>\n      <td>bardzo dobrze</td>\n      <td>raczej dobrze</td>\n      <td>bardzo dobrze</td>\n      <td>Nie</td>\n      <td>Nie</td>\n      <td>Nie</td>\n      <td>Nie</td>\n      <td>Nie</td>\n      <td>Tak</td>\n      <td>Tak</td>\n      <td>Nie</td>\n      <td>Nie</td>\n      <td>Nie</td>\n      <td>Tak</td>\n      <td>Nie</td>\n      <td>1.0</td>\n      <td>1.0</td>\n      <td>1.0</td>\n      <td>61 i więcej (emeryci kobiety)</td>\n      <td>Kobieta</td>\n      <td>dobry stan zdrowia</td>\n      <td>nie dotyczy</td>\n      <td>Tak</td>\n      <td>Tak</td>\n      <td>0.5</td>\n      <td>09:00:00</td>\n      <td>dom</td>\n      <td>67.0</td>\n      <td>Inne</td>\n      <td>68.0</td>\n      <td>9:00-9:59</td>\n      <td>dom-Inne</td>\n      <td>komunikacja samochodowa</td>\n      <td>0.0</td>\n      <td>1223.212986</td>\n      <td>61-x_K</td>\n    </tr>\n    <tr>\n      <th>1</th>\n      <td>bardzo dobrze</td>\n      <td>raczej dobrze</td>\n      <td>bardzo dobrze</td>\n      <td>Nie</td>\n      <td>Nie</td>\n      <td>Nie</td>\n      <td>Nie</td>\n      <td>Nie</td>\n      <td>Tak</td>\n      <td>Tak</td>\n      <td>Nie</td>\n      <td>Nie</td>\n      <td>Nie</td>\n      <td>Tak</td>\n      <td>Nie</td>\n      <td>1.0</td>\n      <td>1.0</td>\n      <td>1.0</td>\n      <td>61 i więcej (emeryci kobiety)</td>\n      <td>Kobieta</td>\n      <td>dobry stan zdrowia</td>\n      <td>nie dotyczy</td>\n      <td>Tak</td>\n      <td>Tak</td>\n      <td>0.5</td>\n      <td>09:40:00</td>\n      <td>Inne</td>\n      <td>68.0</td>\n      <td>dom</td>\n      <td>67.0</td>\n      <td>9:00-9:59</td>\n      <td>Inne-dom</td>\n      <td>komunikacja samochodowa</td>\n      <td>0.0</td>\n      <td>1223.212986</td>\n      <td>61-x_K</td>\n    </tr>\n    <tr>\n      <th>5</th>\n      <td>bardzo dobrze</td>\n      <td>bardzo dobrze</td>\n      <td>bardzo dobrze</td>\n      <td>Nie</td>\n      <td>Tak</td>\n      <td>Nie</td>\n      <td>Nie</td>\n      <td>Nie</td>\n      <td>Nie</td>\n      <td>Nie</td>\n      <td>Nie</td>\n      <td>Nie</td>\n      <td>Nie</td>\n      <td>Nie</td>\n      <td>Nie</td>\n      <td>2.0</td>\n      <td>2.0</td>\n      <td>0.0</td>\n      <td>45-65 (starsi pracownicy mężczyźni)</td>\n      <td>Mężczyzna</td>\n      <td>dobry stan zdrowia</td>\n      <td>nie dotyczy</td>\n      <td>Tak</td>\n      <td>Nie</td>\n      <td>0.5</td>\n      <td>09:00:00</td>\n      <td>dom</td>\n      <td>67.0</td>\n      <td>Inne</td>\n      <td>68.0</td>\n      <td>9:00-9:59</td>\n      <td>dom-Inne</td>\n      <td>komunikacja samochodowa</td>\n      <td>1.0</td>\n      <td>1223.212986</td>\n      <td>45-65_M</td>\n    </tr>\n    <tr>\n      <th>6</th>\n      <td>bardzo dobrze</td>\n      <td>bardzo dobrze</td>\n      <td>bardzo dobrze</td>\n      <td>Nie</td>\n      <td>Tak</td>\n      <td>Nie</td>\n      <td>Nie</td>\n      <td>Nie</td>\n      <td>Nie</td>\n      <td>Nie</td>\n      <td>Nie</td>\n      <td>Nie</td>\n      <td>Nie</td>\n      <td>Nie</td>\n      <td>Nie</td>\n      <td>2.0</td>\n      <td>2.0</td>\n      <td>0.0</td>\n      <td>45-65 (starsi pracownicy mężczyźni)</td>\n      <td>Mężczyzna</td>\n      <td>dobry stan zdrowia</td>\n      <td>nie dotyczy</td>\n      <td>Tak</td>\n      <td>Nie</td>\n      <td>0.5</td>\n      <td>09:40:00</td>\n      <td>Inne</td>\n      <td>68.0</td>\n      <td>dom</td>\n      <td>67.0</td>\n      <td>9:00-9:59</td>\n      <td>Inne-dom</td>\n      <td>komunikacja samochodowa</td>\n      <td>1.0</td>\n      <td>1223.212986</td>\n      <td>45-65_M</td>\n    </tr>\n    <tr>\n      <th>7</th>\n      <td>bardzo dobrze</td>\n      <td>raczej dobrze</td>\n      <td>nie korzystam z systemu dróg i parkingów rower...</td>\n      <td>Nie</td>\n      <td>Nie</td>\n      <td>Nie</td>\n      <td>Nie</td>\n      <td>Tak</td>\n      <td>Nie</td>\n      <td>Nie</td>\n      <td>Nie</td>\n      <td>Nie</td>\n      <td>Nie</td>\n      <td>Nie</td>\n      <td>Nie</td>\n      <td>1.0</td>\n      <td>1.0</td>\n      <td>0.0</td>\n      <td>25-44 (młodsi pracownicy)</td>\n      <td>Kobieta</td>\n      <td>dobry stan zdrowia</td>\n      <td>nie dotyczy</td>\n      <td>Tak</td>\n      <td>Tak</td>\n      <td>0.5</td>\n      <td>18:00:00</td>\n      <td>dom</td>\n      <td>67.0</td>\n      <td>Inne</td>\n      <td>29.0</td>\n      <td>18:00-18:59</td>\n      <td>dom-Inne</td>\n      <td>komunikacja zbiorowa</td>\n      <td>0.0</td>\n      <td>2637.323757</td>\n      <td>25-44_K</td>\n    </tr>\n  </tbody>\n</table>\n</div>"
     },
     "metadata": {},
     "execution_count": 16
    }
   ],
   "source": [
    "data.head()"
   ]
  },
  {
   "source": [
    "## Features dataframe processing - map string values to numerical"
   ],
   "cell_type": "markdown",
   "metadata": {}
  },
  {
   "source": [
    "### 'Jak Pan/Pani ocenia wygodę jazdy pojazdami komunikacji zbiorowej?'"
   ],
   "cell_type": "markdown",
   "metadata": {}
  },
  {
   "cell_type": "code",
   "execution_count": 17,
   "metadata": {},
   "outputs": [
    {
     "output_type": "execute_result",
     "data": {
      "text/plain": [
       "array(['bardzo dobrze', 'raczej dobrze',\n",
       "       'nie korzystam z komunikacji zbiorowej', 'raczej źle',\n",
       "       'ani dobrze ani źle', 'bardzo źle'], dtype=object)"
      ]
     },
     "metadata": {},
     "execution_count": 17
    }
   ],
   "source": [
    "data['Jak Pan/Pani ocenia wygodę jazdy pojazdami komunikacji zbiorowej?'].unique()"
   ]
  },
  {
   "cell_type": "code",
   "execution_count": 18,
   "metadata": {},
   "outputs": [],
   "source": [
    "var_map_dict = {\n",
    "    'bardzo źle': 0,\n",
    "    'raczej źle': 1,\n",
    "    'ani dobrze ani źle': 2,\n",
    "    'nie korzystam z komunikacji zbiorowej': 2,\n",
    "    'raczej dobrze': 3,\n",
    "    'bardzo dobrze': 4\n",
    "}\n",
    "\n",
    "data.replace({'Jak Pan/Pani ocenia wygodę jazdy pojazdami komunikacji zbiorowej?': var_map_dict}, inplace=True)"
   ]
  },
  {
   "source": [
    "### 'Jak Pan/Pani ocenia punktualność komunikacji zbiorowej we Wrocławiu?'"
   ],
   "cell_type": "markdown",
   "metadata": {}
  },
  {
   "cell_type": "code",
   "execution_count": 19,
   "metadata": {},
   "outputs": [
    {
     "output_type": "execute_result",
     "data": {
      "text/plain": [
       "array(['raczej dobrze', 'bardzo dobrze', 'raczej źle',\n",
       "       'ani dobrze ani źle', 'nie korzystam z komunikacji zbiorowej',\n",
       "       'bardzo źle'], dtype=object)"
      ]
     },
     "metadata": {},
     "execution_count": 19
    }
   ],
   "source": [
    "data['Jak Pan/Pani ocenia punktualność komunikacji zbiorowej we Wrocławiu?'].unique()"
   ]
  },
  {
   "cell_type": "code",
   "execution_count": 20,
   "metadata": {},
   "outputs": [],
   "source": [
    "var_map_dict = {\n",
    "    'bardzo źle': 0,\n",
    "    'raczej źle': 1,\n",
    "    'ani dobrze ani źle': 2,\n",
    "    'nie korzystam z komunikacji zbiorowej': 2,\n",
    "    'raczej dobrze': 3,\n",
    "    'bardzo dobrze': 4\n",
    "}\n",
    "\n",
    "data.replace({'Jak Pan/Pani ocenia punktualność komunikacji zbiorowej we Wrocławiu?': var_map_dict}, inplace=True)"
   ]
  },
  {
   "source": [
    "### 'Jak ocenia Pan/Pani efekty dotychczasowych działań związanych z rozbudową systemu rowerowego we Wrocławiu (dróg i parkingów rowerowych)?'"
   ],
   "cell_type": "markdown",
   "metadata": {}
  },
  {
   "cell_type": "code",
   "execution_count": 21,
   "metadata": {},
   "outputs": [
    {
     "output_type": "execute_result",
     "data": {
      "text/plain": [
       "array(['bardzo dobrze',\n",
       "       'nie korzystam z systemu dróg i parkingów rowerowych',\n",
       "       'raczej źle', 'raczej dobrze', 'ani dobrze ani źle', 'bardzo źle',\n",
       "       'nie korzystam z komunikacji zbiorowej'], dtype=object)"
      ]
     },
     "metadata": {},
     "execution_count": 21
    }
   ],
   "source": [
    "data['Jak ocenia Pan/Pani efekty dotychczasowych działań związanych z rozbudową systemu rowerowego we Wrocławiu (dróg i parkingów rowerowych)?'].unique()"
   ]
  },
  {
   "cell_type": "code",
   "execution_count": 22,
   "metadata": {},
   "outputs": [],
   "source": [
    "var_map_dict = {\n",
    "    'bardzo źle': 0,\n",
    "    'raczej źle': 1,\n",
    "    'ani dobrze ani źle': 2,\n",
    "    'nie korzystam z komunikacji zbiorowej': 2,\n",
    "    'nie korzystam z systemu dróg i parkingów rowerowych': 2,\n",
    "    'raczej dobrze': 3,\n",
    "    'bardzo dobrze': 4\n",
    "}\n",
    "\n",
    "data.replace({'Jak ocenia Pan/Pani efekty dotychczasowych działań związanych z rozbudową systemu rowerowego we Wrocławiu (dróg i parkingów rowerowych)?': var_map_dict}, inplace=True)"
   ]
  },
  {
   "source": [
    "### 'PIESZO Niekorzystne ustawienia sygnalizacji świetlnej'"
   ],
   "cell_type": "markdown",
   "metadata": {}
  },
  {
   "cell_type": "code",
   "execution_count": 23,
   "metadata": {},
   "outputs": [
    {
     "output_type": "execute_result",
     "data": {
      "text/plain": [
       "array(['Nie', 'Tak', 'nie', 'tak'], dtype=object)"
      ]
     },
     "metadata": {},
     "execution_count": 23
    }
   ],
   "source": [
    "data['PIESZO Niekorzystne ustawienia sygnalizacji świetlnej'].unique()"
   ]
  },
  {
   "cell_type": "code",
   "execution_count": 24,
   "metadata": {},
   "outputs": [],
   "source": [
    "var_map_dict = {\n",
    "    'Nie': 0,\n",
    "    'nie': 0,\n",
    "    'Tak': 1,\n",
    "    'tak': 1\n",
    "}\n",
    "\n",
    "data.replace({'PIESZO Niekorzystne ustawienia sygnalizacji świetlnej': var_map_dict}, inplace=True)"
   ]
  },
  {
   "source": [
    "### 'PIESZO Brak chodników i konieczność poruszania się jezdnią/poboczem/wydeptaną ścieżką'"
   ],
   "cell_type": "markdown",
   "metadata": {}
  },
  {
   "cell_type": "code",
   "execution_count": 25,
   "metadata": {},
   "outputs": [
    {
     "output_type": "execute_result",
     "data": {
      "text/plain": [
       "array(['Nie', 'Tak', 'nie', 'tak'], dtype=object)"
      ]
     },
     "metadata": {},
     "execution_count": 25
    }
   ],
   "source": [
    "data['PIESZO Brak chodników i konieczność poruszania się jezdnią/poboczem/wydeptaną ścieżką'].unique()"
   ]
  },
  {
   "cell_type": "code",
   "execution_count": 26,
   "metadata": {},
   "outputs": [],
   "source": [
    "var_map_dict = {\n",
    "    'Nie': 0,\n",
    "    'nie': 0,\n",
    "    'Tak': 1,\n",
    "    'tak': 1\n",
    "}\n",
    "\n",
    "data.replace({'PIESZO Brak chodników i konieczność poruszania się jezdnią/poboczem/wydeptaną ścieżką': var_map_dict}, inplace=True)"
   ]
  },
  {
   "source": [
    "### 'PIESZO Zły stan nawierzchni chodników'"
   ],
   "cell_type": "markdown",
   "metadata": {}
  },
  {
   "cell_type": "code",
   "execution_count": 27,
   "metadata": {},
   "outputs": [
    {
     "output_type": "execute_result",
     "data": {
      "text/plain": [
       "array(['Nie', 'Tak', 'nie', 'tak'], dtype=object)"
      ]
     },
     "metadata": {},
     "execution_count": 27
    }
   ],
   "source": [
    "data['PIESZO Zły stan nawierzchni chodników'].unique()"
   ]
  },
  {
   "cell_type": "code",
   "execution_count": 28,
   "metadata": {},
   "outputs": [],
   "source": [
    "var_map_dict = {\n",
    "    'Nie': 0,\n",
    "    'nie': 0,\n",
    "    'Tak': 1,\n",
    "    'tak': 1\n",
    "}\n",
    "\n",
    "data.replace({'PIESZO Zły stan nawierzchni chodników': var_map_dict}, inplace=True)"
   ]
  },
  {
   "source": [
    "### PIESZO Zastawianie chodników przez parkujące samochody"
   ],
   "cell_type": "markdown",
   "metadata": {}
  },
  {
   "cell_type": "code",
   "execution_count": 29,
   "metadata": {},
   "outputs": [
    {
     "output_type": "execute_result",
     "data": {
      "text/plain": [
       "array(['Nie', 'Tak', 'tak', 'nie'], dtype=object)"
      ]
     },
     "metadata": {},
     "execution_count": 29
    }
   ],
   "source": [
    "data['PIESZO Zastawianie chodników przez parkujące samochody'].unique()"
   ]
  },
  {
   "cell_type": "code",
   "execution_count": 30,
   "metadata": {},
   "outputs": [],
   "source": [
    "var_map_dict = {\n",
    "    'Nie': 0,\n",
    "    'nie': 0,\n",
    "    'Tak': 1,\n",
    "    'tak': 1\n",
    "}\n",
    "\n",
    "data.replace({'PIESZO Zastawianie chodników przez parkujące samochody': var_map_dict}, inplace=True)"
   ]
  },
  {
   "source": [
    "### PIESZO Niebezpieczne zachowania kierowców"
   ],
   "cell_type": "markdown",
   "metadata": {}
  },
  {
   "cell_type": "code",
   "execution_count": 31,
   "metadata": {},
   "outputs": [
    {
     "output_type": "execute_result",
     "data": {
      "text/plain": [
       "array(['Nie', 'Tak', 'nie', 'tak'], dtype=object)"
      ]
     },
     "metadata": {},
     "execution_count": 31
    }
   ],
   "source": [
    "data['PIESZO Niebezpieczne zachowania kierowców'].unique()"
   ]
  },
  {
   "cell_type": "code",
   "execution_count": 32,
   "metadata": {},
   "outputs": [],
   "source": [
    "var_map_dict = {\n",
    "    'Nie': 0,\n",
    "    'nie': 0,\n",
    "    'Tak': 1,\n",
    "    'tak': 1\n",
    "}\n",
    "\n",
    "data.replace({'PIESZO Niebezpieczne zachowania kierowców': var_map_dict}, inplace=True)"
   ]
  },
  {
   "source": [
    "### 'PIESZO Zagrożenie ze strony rowerzystów poruszających się chodnikami'"
   ],
   "cell_type": "markdown",
   "metadata": {}
  },
  {
   "cell_type": "code",
   "execution_count": 33,
   "metadata": {},
   "outputs": [
    {
     "output_type": "execute_result",
     "data": {
      "text/plain": [
       "array(['Tak', 'Nie', 'nie', 'tak'], dtype=object)"
      ]
     },
     "metadata": {},
     "execution_count": 33
    }
   ],
   "source": [
    "data['PIESZO Zagrożenie ze strony rowerzystów poruszających się chodnikami'].unique()"
   ]
  },
  {
   "cell_type": "code",
   "execution_count": 34,
   "metadata": {},
   "outputs": [],
   "source": [
    "var_map_dict = {\n",
    "    'Nie': 0,\n",
    "    'nie': 0,\n",
    "    'Tak': 1,\n",
    "    'tak': 1\n",
    "}\n",
    "\n",
    "data.replace({'PIESZO Zagrożenie ze strony rowerzystów poruszających się chodnikami': var_map_dict}, inplace=True)"
   ]
  },
  {
   "source": [
    "### 'PIESZO Zbyt wysokie krawężniki'"
   ],
   "cell_type": "markdown",
   "metadata": {}
  },
  {
   "cell_type": "code",
   "execution_count": 35,
   "metadata": {},
   "outputs": [
    {
     "output_type": "execute_result",
     "data": {
      "text/plain": [
       "array(['Tak', 'Nie', 'nie', 'tak'], dtype=object)"
      ]
     },
     "metadata": {},
     "execution_count": 35
    }
   ],
   "source": [
    "data['PIESZO Zbyt wysokie krawężniki'].unique()"
   ]
  },
  {
   "cell_type": "code",
   "execution_count": 36,
   "metadata": {},
   "outputs": [],
   "source": [
    "var_map_dict = {\n",
    "    'Nie': 0,\n",
    "    'nie': 0,\n",
    "    'Tak': 1,\n",
    "    'tak': 1\n",
    "}\n",
    "\n",
    "data.replace({'PIESZO Zbyt wysokie krawężniki': var_map_dict}, inplace=True)"
   ]
  },
  {
   "source": [
    "### 'PIESZO Brak bieżącego utrzymania czystości/odśnieżania'"
   ],
   "cell_type": "markdown",
   "metadata": {}
  },
  {
   "cell_type": "code",
   "execution_count": 37,
   "metadata": {},
   "outputs": [
    {
     "output_type": "execute_result",
     "data": {
      "text/plain": [
       "array(['Nie', 'Tak', 'tak', 'nie'], dtype=object)"
      ]
     },
     "metadata": {},
     "execution_count": 37
    }
   ],
   "source": [
    "data['PIESZO Brak bieżącego utrzymania czystości/odśnieżania'].unique()"
   ]
  },
  {
   "cell_type": "code",
   "execution_count": 38,
   "metadata": {},
   "outputs": [],
   "source": [
    "var_map_dict = {\n",
    "    'Nie': 0,\n",
    "    'nie': 0,\n",
    "    'Tak': 1,\n",
    "    'tak': 1\n",
    "}\n",
    "\n",
    "data.replace({'PIESZO Brak bieżącego utrzymania czystości/odśnieżania': var_map_dict}, inplace=True)"
   ]
  },
  {
   "source": [
    "### 'PIESZO Niewystarczająca liczba przejść dla pieszych'"
   ],
   "cell_type": "markdown",
   "metadata": {}
  },
  {
   "cell_type": "code",
   "execution_count": 39,
   "metadata": {},
   "outputs": [
    {
     "output_type": "execute_result",
     "data": {
      "text/plain": [
       "array(['Nie', 'Tak', 'nie', 'tak'], dtype=object)"
      ]
     },
     "metadata": {},
     "execution_count": 39
    }
   ],
   "source": [
    "data['PIESZO Niewystarczająca liczba przejść dla pieszych'].unique()"
   ]
  },
  {
   "cell_type": "code",
   "execution_count": 40,
   "metadata": {},
   "outputs": [],
   "source": [
    "var_map_dict = {\n",
    "    'Nie': 0,\n",
    "    'nie': 0,\n",
    "    'Tak': 1,\n",
    "    'tak': 1\n",
    "}\n",
    "\n",
    "data.replace({'PIESZO Niewystarczająca liczba przejść dla pieszych': var_map_dict}, inplace=True)"
   ]
  },
  {
   "source": [
    "### 'PIESZO Brak miejsc wypoczynku na trasie dojścia (np. ławki, zieleń)'"
   ],
   "cell_type": "markdown",
   "metadata": {}
  },
  {
   "cell_type": "code",
   "execution_count": 41,
   "metadata": {},
   "outputs": [
    {
     "output_type": "execute_result",
     "data": {
      "text/plain": [
       "array(['Nie', 'Tak', 'nie', 'tak'], dtype=object)"
      ]
     },
     "metadata": {},
     "execution_count": 41
    }
   ],
   "source": [
    "data['PIESZO Brak miejsc wypoczynku na trasie dojścia (np. ławki, zieleń)'].unique()"
   ]
  },
  {
   "cell_type": "code",
   "execution_count": 42,
   "metadata": {},
   "outputs": [],
   "source": [
    "var_map_dict = {\n",
    "    'Nie': 0,\n",
    "    'nie': 0,\n",
    "    'Tak': 1,\n",
    "    'tak': 1\n",
    "}\n",
    "\n",
    "data.replace({'PIESZO Brak miejsc wypoczynku na trasie dojścia (np. ławki, zieleń)': var_map_dict}, inplace=True)"
   ]
  },
  {
   "source": [
    "### 'PIESZO Uciążliwy ruch kołowy'"
   ],
   "cell_type": "markdown",
   "metadata": {}
  },
  {
   "cell_type": "code",
   "execution_count": 43,
   "metadata": {},
   "outputs": [
    {
     "output_type": "execute_result",
     "data": {
      "text/plain": [
       "array(['Tak', 'Nie', 'nie', 'tak'], dtype=object)"
      ]
     },
     "metadata": {},
     "execution_count": 43
    }
   ],
   "source": [
    "data['PIESZO Uciążliwy ruch kołowy'].unique()"
   ]
  },
  {
   "cell_type": "code",
   "execution_count": 44,
   "metadata": {},
   "outputs": [],
   "source": [
    "var_map_dict = {\n",
    "    'Nie': 0,\n",
    "    'nie': 0,\n",
    "    'Tak': 1,\n",
    "    'tak': 1\n",
    "}\n",
    "\n",
    "data.replace({'PIESZO Uciążliwy ruch kołowy': var_map_dict}, inplace=True)"
   ]
  },
  {
   "source": [
    "### 'PIESZO Niewłaściwe oświetlenie ciągów pieszych'"
   ],
   "cell_type": "markdown",
   "metadata": {}
  },
  {
   "cell_type": "code",
   "execution_count": 45,
   "metadata": {},
   "outputs": [
    {
     "output_type": "execute_result",
     "data": {
      "text/plain": [
       "array(['Nie', 'Tak', 'nie', 'tak'], dtype=object)"
      ]
     },
     "metadata": {},
     "execution_count": 45
    }
   ],
   "source": [
    "data['PIESZO Niewłaściwe oświetlenie ciągów pieszych'].unique()"
   ]
  },
  {
   "cell_type": "code",
   "execution_count": 46,
   "metadata": {},
   "outputs": [],
   "source": [
    "var_map_dict = {\n",
    "    'Nie': 0,\n",
    "    'nie': 0,\n",
    "    'Tak': 1,\n",
    "    'tak': 1\n",
    "}\n",
    "\n",
    "data.replace({'PIESZO Niewłaściwe oświetlenie ciągów pieszych': var_map_dict}, inplace=True)"
   ]
  },
  {
   "source": [
    "### 'Przedział wiekowy'"
   ],
   "cell_type": "markdown",
   "metadata": {}
  },
  {
   "cell_type": "code",
   "execution_count": 47,
   "metadata": {},
   "outputs": [
    {
     "output_type": "execute_result",
     "data": {
      "text/plain": [
       "array(['61 i więcej (emeryci kobiety)',\n",
       "       '45-65 (starsi pracownicy mężczyźni)', '25-44 (młodsi pracownicy)',\n",
       "       '66 i więcej (emeryci mężczyźni)',\n",
       "       '45-60 (starsi pracownicy kobiety)', '20-24 (wiek studencki)',\n",
       "       '16-19 (młodzież)', '6-15 (dzieci)'], dtype=object)"
      ]
     },
     "metadata": {},
     "execution_count": 47
    }
   ],
   "source": [
    "data['Przedział wiekowy'].unique()"
   ]
  },
  {
   "cell_type": "code",
   "execution_count": 48,
   "metadata": {},
   "outputs": [],
   "source": [
    "var_map_dict = {\n",
    "    '6-15 (dzieci)': 0,\n",
    "    '16-19 (młodzież)': 1,\n",
    "    '20-24 (wiek studencki)': 2,\n",
    "    '25-44 (młodsi pracownicy)': 3,\n",
    "    '45-60 (starsi pracownicy kobiety)': 4,\n",
    "    '45-65 (starsi pracownicy mężczyźni)': 4,\n",
    "    '61 i więcej (emeryci kobiety)': 5,\n",
    "    '66 i więcej (emeryci mężczyźni)': 5\n",
    "}\n",
    "\n",
    "data.replace({'Przedział wiekowy': var_map_dict}, inplace=True)"
   ]
  },
  {
   "source": [
    "### 'Płeć'"
   ],
   "cell_type": "markdown",
   "metadata": {}
  },
  {
   "cell_type": "code",
   "execution_count": 49,
   "metadata": {},
   "outputs": [
    {
     "output_type": "execute_result",
     "data": {
      "text/plain": [
       "array(['Kobieta', 'Mężczyzna'], dtype=object)"
      ]
     },
     "metadata": {},
     "execution_count": 49
    }
   ],
   "source": [
    "data['Płeć'].unique()"
   ]
  },
  {
   "cell_type": "code",
   "execution_count": 50,
   "metadata": {},
   "outputs": [],
   "source": [
    "var_map_dict = {\n",
    "    'Mężczyzna': 0,\n",
    "    'Kobieta': 1\n",
    "}\n",
    "\n",
    "data.replace({'Płeć': var_map_dict}, inplace=True)"
   ]
  },
  {
   "source": [
    "### 'Kondycja fizyczna'"
   ],
   "cell_type": "markdown",
   "metadata": {}
  },
  {
   "cell_type": "code",
   "execution_count": 51,
   "metadata": {},
   "outputs": [
    {
     "output_type": "execute_result",
     "data": {
      "text/plain": [
       "array(['dobry stan zdrowia',\n",
       "       'osoba starsza dolegliwości związane z\\xa0wiekiem',\n",
       "       'kłopoty z poruszaniem się', 'dolegliwości zdrowotne', 'Inne',\n",
       "       'inne'], dtype=object)"
      ]
     },
     "metadata": {},
     "execution_count": 51
    }
   ],
   "source": [
    "data['Kondycja fizyczna'].unique()"
   ]
  },
  {
   "cell_type": "code",
   "execution_count": 52,
   "metadata": {},
   "outputs": [],
   "source": [
    "var_map_dict = {\n",
    "    'kłopoty z poruszaniem się': 0,\n",
    "    'dolegliwości zdrowotne': 0,\n",
    "    'osoba starsza dolegliwości związane z\\xa0wiekiem': 0,\n",
    "    'Inne': 0,\n",
    "    'inne': 0,\n",
    "    'dobry stan zdrowia': 1\n",
    "}\n",
    "\n",
    "data.replace({'Kondycja fizyczna': var_map_dict}, inplace=True)"
   ]
  },
  {
   "source": [
    "### 'Opieka nad innymi osobami'"
   ],
   "cell_type": "markdown",
   "metadata": {}
  },
  {
   "cell_type": "code",
   "execution_count": 53,
   "metadata": {},
   "outputs": [
    {
     "output_type": "execute_result",
     "data": {
      "text/plain": [
       "array(['nie dotyczy', 'opieka nad dzieckiem',\n",
       "       'opieka nad osobą w podeszłym wieku', 'opieka nad inną osobą'],\n",
       "      dtype=object)"
      ]
     },
     "metadata": {},
     "execution_count": 53
    }
   ],
   "source": [
    "data['Opieka nad innymi osobami'].unique()"
   ]
  },
  {
   "cell_type": "code",
   "execution_count": 54,
   "metadata": {},
   "outputs": [],
   "source": [
    "var_map_dict = {\n",
    "    'nie dotyczy': 0,\n",
    "    'opieka nad dzieckiem': 1,\n",
    "    'opieka nad osobą w podeszłym wieku': 1,\n",
    "    'opieka nad inną osobą': 1\n",
    "}\n",
    "\n",
    "data.replace({'Opieka nad innymi osobami': var_map_dict}, inplace=True)"
   ]
  },
  {
   "source": [
    "### 'Posiadanie prawa jazdy kat. B'"
   ],
   "cell_type": "markdown",
   "metadata": {}
  },
  {
   "cell_type": "code",
   "execution_count": 55,
   "metadata": {},
   "outputs": [
    {
     "output_type": "execute_result",
     "data": {
      "text/plain": [
       "array(['Tak', 'Nie', 'tak'], dtype=object)"
      ]
     },
     "metadata": {},
     "execution_count": 55
    }
   ],
   "source": [
    "data['Posiadanie prawa jazdy kat. B'].unique()"
   ]
  },
  {
   "cell_type": "code",
   "execution_count": 56,
   "metadata": {},
   "outputs": [],
   "source": [
    "var_map_dict = {\n",
    "    'Nie': 0,\n",
    "    'nie': 0,\n",
    "    'Tak': 1,\n",
    "    'tak': 1\n",
    "}\n",
    "\n",
    "data.replace({'Posiadanie prawa jazdy kat. B': var_map_dict}, inplace=True)"
   ]
  },
  {
   "source": [
    "### 'Posiadanie biletu okresowego'"
   ],
   "cell_type": "markdown",
   "metadata": {}
  },
  {
   "cell_type": "code",
   "execution_count": 57,
   "metadata": {},
   "outputs": [
    {
     "output_type": "execute_result",
     "data": {
      "text/plain": [
       "array(['Tak', 'Nie', 'tak'], dtype=object)"
      ]
     },
     "metadata": {},
     "execution_count": 57
    }
   ],
   "source": [
    "data['Posiadanie biletu okresowego'].unique()"
   ]
  },
  {
   "cell_type": "code",
   "execution_count": 58,
   "metadata": {},
   "outputs": [],
   "source": [
    "var_map_dict = {\n",
    "    'Nie': 0,\n",
    "    'nie': 0,\n",
    "    'Tak': 1,\n",
    "    'tak': 1\n",
    "}\n",
    "\n",
    "data.replace({'Posiadanie biletu okresowego': var_map_dict}, inplace=True)"
   ]
  },
  {
   "source": [
    "### 'Posiadanie ulgi na przejazd komunikację zbiorową'"
   ],
   "cell_type": "markdown",
   "metadata": {}
  },
  {
   "cell_type": "code",
   "execution_count": 59,
   "metadata": {},
   "outputs": [
    {
     "output_type": "execute_result",
     "data": {
      "text/plain": [
       "array([0.5, 1, 'brak ulgi'], dtype=object)"
      ]
     },
     "metadata": {},
     "execution_count": 59
    }
   ],
   "source": [
    "data['Posiadanie ulgi na przejazd komunikację zbiorową'].unique()"
   ]
  },
  {
   "cell_type": "code",
   "execution_count": 60,
   "metadata": {},
   "outputs": [],
   "source": [
    "var_map_dict = {\n",
    "    'brak ulgi': 0,\n",
    "    0.5: 0.5,\n",
    "    1: 1,\n",
    "}\n",
    "\n",
    "data.replace({'Posiadanie ulgi na przejazd komunikację zbiorową': var_map_dict}, inplace=True)"
   ]
  },
  {
   "source": [
    "### 'Pora dnia (godzina)'"
   ],
   "cell_type": "markdown",
   "metadata": {}
  },
  {
   "cell_type": "code",
   "execution_count": 61,
   "metadata": {},
   "outputs": [
    {
     "output_type": "execute_result",
     "data": {
      "text/plain": [
       "['0:00-4:59',\n",
       " '10:00-10:59',\n",
       " '11:00-11:59',\n",
       " '12:00-12:59',\n",
       " '13:00-13:59',\n",
       " '14:00-14:59',\n",
       " '15:00-15:59',\n",
       " '16:00-16:59',\n",
       " '17:00-17:59',\n",
       " '18:00-18:59',\n",
       " '19:00-19:59',\n",
       " '20:00-23:59',\n",
       " '5:00-5:59',\n",
       " '6:00-6:59',\n",
       " '7:00-7:59',\n",
       " '8:00-8:59',\n",
       " '9:00-9:59']"
      ]
     },
     "metadata": {},
     "execution_count": 61
    }
   ],
   "source": [
    "sorted(data['Pora dnia (godzina)'].unique())"
   ]
  },
  {
   "cell_type": "code",
   "execution_count": 62,
   "metadata": {},
   "outputs": [],
   "source": [
    "var_map_dict = {\n",
    "    '0:00-4:59': 0,         # noc           0-5\n",
    "    '5:00-5:59': 1,         # rano          5-10\n",
    "    '6:00-6:59': 1,         # rano          5-10\n",
    "    '7:00-7:59': 1,         # rano          5-10\n",
    "    '8:00-8:59': 1,         # rano          5-10\n",
    "    '9:00-9:59': 1,         # rano          5-10\n",
    "    '10:00-10:59': 2,       # południe      10-14\n",
    "    '11:00-11:59': 2,       # południe      10-14\n",
    "    '12:00-12:59': 2,       # południe      10-14\n",
    "    '13:00-13:59': 2,       # południe      10-14\n",
    "    '14:00-14:59': 3,       # popołudnie    14-19\n",
    "    '15:00-15:59': 3,       # popołudnie    14-19\n",
    "    '16:00-16:59': 3,       # popołudnie    14-19\n",
    "    '17:00-17:59': 3,       # popołudnie    14-19\n",
    "    '18:00-18:59': 3,       # popołudnie    14-19\n",
    "    '19:00-19:59': 4,       # wieczór       19-0\n",
    "    '20:00-23:59': 4        # wieczór       19-0\n",
    "}\n",
    "\n",
    "data.replace({'Pora dnia (godzina)': var_map_dict}, inplace=True)"
   ]
  },
  {
   "source": [
    "### 'Środek transportu grupa'"
   ],
   "cell_type": "markdown",
   "metadata": {}
  },
  {
   "cell_type": "code",
   "execution_count": 63,
   "metadata": {},
   "outputs": [
    {
     "output_type": "execute_result",
     "data": {
      "text/plain": [
       "array(['komunikacja samochodowa', 'komunikacja zbiorowa', 'pieszo',\n",
       "       'rower', 'inne'], dtype=object)"
      ]
     },
     "metadata": {},
     "execution_count": 63
    }
   ],
   "source": [
    "data['Środek transportu grupa'].unique()"
   ]
  },
  {
   "cell_type": "code",
   "execution_count": 64,
   "metadata": {},
   "outputs": [
    {
     "output_type": "execute_result",
     "data": {
      "text/plain": [
       "komunikacja samochodowa    3605\n",
       "komunikacja zbiorowa       2976\n",
       "pieszo                     2752\n",
       "rower                       742\n",
       "inne                         63\n",
       "Name: Środek transportu grupa, dtype: int64"
      ]
     },
     "metadata": {},
     "execution_count": 64
    }
   ],
   "source": [
    "data['Środek transportu grupa'].value_counts()"
   ]
  },
  {
   "cell_type": "code",
   "execution_count": 65,
   "metadata": {},
   "outputs": [],
   "source": [
    "drop_inne = True\n",
    "\n",
    "if drop_inne:\n",
    "    data = data[data['Środek transportu grupa'] != 'inne']\n",
    "    var_map_dict = {\n",
    "        'komunikacja samochodowa': 0,\n",
    "        'komunikacja zbiorowa': 1,\n",
    "        'pieszo': 2,\n",
    "        'rower': 3,\n",
    "    }\n",
    "else:\n",
    "    var_map_dict = {\n",
    "        'komunikacja samochodowa': 0,\n",
    "        'komunikacja zbiorowa': 1,\n",
    "        'pieszo': 2,\n",
    "        'rower': 3,\n",
    "        'inne': 4\n",
    "    }\n",
    "\n",
    "data.replace({'Środek transportu grupa': var_map_dict}, inplace=True)"
   ]
  },
  {
   "source": [
    "### 'CEL Do jakiego miejsca'"
   ],
   "cell_type": "markdown",
   "metadata": {}
  },
  {
   "cell_type": "code",
   "execution_count": 66,
   "metadata": {},
   "outputs": [
    {
     "output_type": "execute_result",
     "data": {
      "text/plain": [
       "['dom', 'inne', 'praca', 'szkoła', 'uczelnia']"
      ]
     },
     "metadata": {},
     "execution_count": 66
    }
   ],
   "source": [
    "data['CEL Do jakiego miejsca'] = data['CEL Do jakiego miejsca'].str.replace('Inne', 'inne')\n",
    "sorted(data['CEL Do jakiego miejsca'].unique())"
   ]
  },
  {
   "cell_type": "code",
   "execution_count": 67,
   "metadata": {},
   "outputs": [],
   "source": [
    "data = data.merge(\n",
    "    pd.get_dummies(data['CEL Do jakiego miejsca'], prefix='CEL'),\n",
    "    left_index=True, \n",
    "    right_index=True\n",
    ")"
   ]
  },
  {
   "source": [
    "### 'ŹRÓDŁO Czas rozpoczęcia'"
   ],
   "cell_type": "markdown",
   "metadata": {}
  },
  {
   "cell_type": "code",
   "execution_count": 92,
   "metadata": {},
   "outputs": [],
   "source": [
    "data['ŹRÓDŁO Godzina rozpoczęcia'] = data['ŹRÓDŁO Czas rozpoczęcia'].astype('str').apply(lambda x: x.split(':')[0])"
   ]
  },
  {
   "cell_type": "code",
   "execution_count": 98,
   "metadata": {},
   "outputs": [
    {
     "output_type": "execute_result",
     "data": {
      "text/plain": [
       "array(['09', '18', '19', '16', '12', '13', '06', '14', '05', '07', '08',\n",
       "       '15', '10', '11', '17', '20', '04', '21', '22', '23', '03', '00',\n",
       "       '1899-12-30 00'], dtype=object)"
      ]
     },
     "metadata": {},
     "execution_count": 98
    }
   ],
   "source": [
    "data['ŹRÓDŁO Godzina rozpoczęcia'].unique()"
   ]
  },
  {
   "cell_type": "code",
   "execution_count": 102,
   "metadata": {},
   "outputs": [],
   "source": [
    "data = data[data['ŹRÓDŁO Godzina rozpoczęcia'] != '1899-12-30 00']"
   ]
  },
  {
   "cell_type": "code",
   "execution_count": 106,
   "metadata": {},
   "outputs": [],
   "source": [
    "data['ŹRÓDŁO Godzina rozpoczęcia'] = data['ŹRÓDŁO Godzina rozpoczęcia'].astype('int')"
   ]
  },
  {
   "cell_type": "code",
   "execution_count": 107,
   "metadata": {},
   "outputs": [
    {
     "output_type": "execute_result",
     "data": {
      "text/plain": [
       "array([ 9, 18, 19, 16, 12, 13,  6, 14,  5,  7,  8, 15, 10, 11, 17, 20,  4,\n",
       "       21, 22, 23,  3,  0])"
      ]
     },
     "metadata": {},
     "execution_count": 107
    }
   ],
   "source": [
    "data['ŹRÓDŁO Godzina rozpoczęcia'].unique()"
   ]
  },
  {
   "cell_type": "code",
   "execution_count": 111,
   "metadata": {},
   "outputs": [
    {
     "output_type": "execute_result",
     "data": {
      "text/plain": [
       "   Jak Pan/Pani ocenia wygodę jazdy pojazdami komunikacji zbiorowej?  \\\n",
       "0                                                  4                   \n",
       "1                                                  4                   \n",
       "5                                                  4                   \n",
       "6                                                  4                   \n",
       "7                                                  4                   \n",
       "\n",
       "   Jak Pan/Pani ocenia punktualność komunikacji zbiorowej we Wrocławiu?  \\\n",
       "0                                                  3                      \n",
       "1                                                  3                      \n",
       "5                                                  4                      \n",
       "6                                                  4                      \n",
       "7                                                  3                      \n",
       "\n",
       "   Jak ocenia Pan/Pani efekty dotychczasowych działań związanych z rozbudową systemu rowerowego we Wrocławiu (dróg i parkingów rowerowych)?  \\\n",
       "0                                                  4                                                                                          \n",
       "1                                                  4                                                                                          \n",
       "5                                                  4                                                                                          \n",
       "6                                                  4                                                                                          \n",
       "7                                                  2                                                                                          \n",
       "\n",
       "   PIESZO Niekorzystne ustawienia sygnalizacji świetlnej  \\\n",
       "0                                                  0       \n",
       "1                                                  0       \n",
       "5                                                  0       \n",
       "6                                                  0       \n",
       "7                                                  0       \n",
       "\n",
       "   PIESZO Brak chodników i konieczność poruszania się jezdnią/poboczem/wydeptaną ścieżką  \\\n",
       "0                                                  0                                       \n",
       "1                                                  0                                       \n",
       "5                                                  1                                       \n",
       "6                                                  1                                       \n",
       "7                                                  0                                       \n",
       "\n",
       "   PIESZO Zły stan nawierzchni chodników  \\\n",
       "0                                      0   \n",
       "1                                      0   \n",
       "5                                      0   \n",
       "6                                      0   \n",
       "7                                      0   \n",
       "\n",
       "   PIESZO Zastawianie chodników przez parkujące samochody  \\\n",
       "0                                                  0        \n",
       "1                                                  0        \n",
       "5                                                  0        \n",
       "6                                                  0        \n",
       "7                                                  0        \n",
       "\n",
       "   PIESZO Niebezpieczne zachowania kierowców  \\\n",
       "0                                          0   \n",
       "1                                          0   \n",
       "5                                          0   \n",
       "6                                          0   \n",
       "7                                          1   \n",
       "\n",
       "   PIESZO Zagrożenie ze strony rowerzystów poruszających się chodnikami  \\\n",
       "0                                                  1                      \n",
       "1                                                  1                      \n",
       "5                                                  0                      \n",
       "6                                                  0                      \n",
       "7                                                  0                      \n",
       "\n",
       "   PIESZO Zbyt wysokie krawężniki  \\\n",
       "0                               1   \n",
       "1                               1   \n",
       "5                               0   \n",
       "6                               0   \n",
       "7                               0   \n",
       "\n",
       "   PIESZO Brak bieżącego utrzymania czystości/odśnieżania  \\\n",
       "0                                                  0        \n",
       "1                                                  0        \n",
       "5                                                  0        \n",
       "6                                                  0        \n",
       "7                                                  0        \n",
       "\n",
       "   PIESZO Niewystarczająca liczba przejść dla pieszych  \\\n",
       "0                                                  0     \n",
       "1                                                  0     \n",
       "5                                                  0     \n",
       "6                                                  0     \n",
       "7                                                  0     \n",
       "\n",
       "   PIESZO Brak miejsc wypoczynku na trasie dojścia (np. ławki, zieleń)  \\\n",
       "0                                                  0                     \n",
       "1                                                  0                     \n",
       "5                                                  0                     \n",
       "6                                                  0                     \n",
       "7                                                  0                     \n",
       "\n",
       "   PIESZO Uciążliwy ruch kołowy  \\\n",
       "0                             1   \n",
       "1                             1   \n",
       "5                             0   \n",
       "6                             0   \n",
       "7                             0   \n",
       "\n",
       "   PIESZO Niewłaściwe oświetlenie ciągów pieszych  \\\n",
       "0                                               0   \n",
       "1                                               0   \n",
       "5                                               0   \n",
       "6                                               0   \n",
       "7                                               0   \n",
       "\n",
       "   Liczba osób w gospodarstwie domowym [ogółem]  \\\n",
       "0                                           1.0   \n",
       "1                                           1.0   \n",
       "5                                           2.0   \n",
       "6                                           2.0   \n",
       "7                                           1.0   \n",
       "\n",
       "   Liczba osób w gospodarstwie domowym [powyżej 6 roku życia]  Rower  \\\n",
       "0                                                1.0             1.0   \n",
       "1                                                1.0             1.0   \n",
       "5                                                2.0             0.0   \n",
       "6                                                2.0             0.0   \n",
       "7                                                1.0             0.0   \n",
       "\n",
       "   Przedział wiekowy  Płeć  Kondycja fizyczna  Opieka nad innymi osobami  \\\n",
       "0                  5     1                  1                          0   \n",
       "1                  5     1                  1                          0   \n",
       "5                  4     0                  1                          0   \n",
       "6                  4     0                  1                          0   \n",
       "7                  3     1                  1                          0   \n",
       "\n",
       "   Posiadanie prawa jazdy kat. B  Posiadanie biletu okresowego  \\\n",
       "0                              1                             1   \n",
       "1                              1                             1   \n",
       "5                              1                             0   \n",
       "6                              1                             0   \n",
       "7                              1                             1   \n",
       "\n",
       "   Posiadanie ulgi na przejazd komunikację zbiorową ŹRÓDŁO Czas rozpoczęcia  \\\n",
       "0                                               0.5                09:00:00   \n",
       "1                                               0.5                09:40:00   \n",
       "5                                               0.5                09:00:00   \n",
       "6                                               0.5                09:40:00   \n",
       "7                                               0.5                18:00:00   \n",
       "\n",
       "  ŹRÓDŁO Z jakiego miejsca  ŹRÓDŁO Nr rejonu CEL Do jakiego miejsca  \\\n",
       "0                      dom              67.0                   inne   \n",
       "1                     Inne              68.0                    dom   \n",
       "5                      dom              67.0                   inne   \n",
       "6                     Inne              68.0                    dom   \n",
       "7                      dom              67.0                   inne   \n",
       "\n",
       "   CEL Nr rejonu  Pora dnia (godzina) Motywacje (skąd-dokąd)  \\\n",
       "0           68.0                    1               dom-Inne   \n",
       "1           67.0                    1               Inne-dom   \n",
       "5           68.0                    1               dom-Inne   \n",
       "6           67.0                    1               Inne-dom   \n",
       "7           29.0                    3               dom-Inne   \n",
       "\n",
       "   Środek transportu grupa  Samochód  Przebyta odległość age_sex_comb  \\\n",
       "0                        0       0.0         1223.212986       61-x_K   \n",
       "1                        0       0.0         1223.212986       61-x_K   \n",
       "5                        0       1.0         1223.212986      45-65_M   \n",
       "6                        0       1.0         1223.212986      45-65_M   \n",
       "7                        1       0.0         2637.323757      25-44_K   \n",
       "\n",
       "   CEL_dom  CEL_inne  CEL_praca  CEL_szkoła  CEL_uczelnia  \\\n",
       "0        0         1          0           0             0   \n",
       "1        1         0          0           0             0   \n",
       "5        0         1          0           0             0   \n",
       "6        1         0          0           0             0   \n",
       "7        0         1          0           0             0   \n",
       "\n",
       "   ŹRÓDŁO Godzina rozpoczęcia  \n",
       "0                           9  \n",
       "1                           9  \n",
       "5                           9  \n",
       "6                           9  \n",
       "7                          18  "
      ],
      "text/html": "<div>\n<style scoped>\n    .dataframe tbody tr th:only-of-type {\n        vertical-align: middle;\n    }\n\n    .dataframe tbody tr th {\n        vertical-align: top;\n    }\n\n    .dataframe thead th {\n        text-align: right;\n    }\n</style>\n<table border=\"1\" class=\"dataframe\">\n  <thead>\n    <tr style=\"text-align: right;\">\n      <th></th>\n      <th>Jak Pan/Pani ocenia wygodę jazdy pojazdami komunikacji zbiorowej?</th>\n      <th>Jak Pan/Pani ocenia punktualność komunikacji zbiorowej we Wrocławiu?</th>\n      <th>Jak ocenia Pan/Pani efekty dotychczasowych działań związanych z rozbudową systemu rowerowego we Wrocławiu (dróg i parkingów rowerowych)?</th>\n      <th>PIESZO Niekorzystne ustawienia sygnalizacji świetlnej</th>\n      <th>PIESZO Brak chodników i konieczność poruszania się jezdnią/poboczem/wydeptaną ścieżką</th>\n      <th>PIESZO Zły stan nawierzchni chodników</th>\n      <th>PIESZO Zastawianie chodników przez parkujące samochody</th>\n      <th>PIESZO Niebezpieczne zachowania kierowców</th>\n      <th>PIESZO Zagrożenie ze strony rowerzystów poruszających się chodnikami</th>\n      <th>PIESZO Zbyt wysokie krawężniki</th>\n      <th>PIESZO Brak bieżącego utrzymania czystości/odśnieżania</th>\n      <th>PIESZO Niewystarczająca liczba przejść dla pieszych</th>\n      <th>PIESZO Brak miejsc wypoczynku na trasie dojścia (np. ławki, zieleń)</th>\n      <th>PIESZO Uciążliwy ruch kołowy</th>\n      <th>PIESZO Niewłaściwe oświetlenie ciągów pieszych</th>\n      <th>Liczba osób w gospodarstwie domowym [ogółem]</th>\n      <th>Liczba osób w gospodarstwie domowym [powyżej 6 roku życia]</th>\n      <th>Rower</th>\n      <th>Przedział wiekowy</th>\n      <th>Płeć</th>\n      <th>Kondycja fizyczna</th>\n      <th>Opieka nad innymi osobami</th>\n      <th>Posiadanie prawa jazdy kat. B</th>\n      <th>Posiadanie biletu okresowego</th>\n      <th>Posiadanie ulgi na przejazd komunikację zbiorową</th>\n      <th>ŹRÓDŁO Czas rozpoczęcia</th>\n      <th>ŹRÓDŁO Z jakiego miejsca</th>\n      <th>ŹRÓDŁO Nr rejonu</th>\n      <th>CEL Do jakiego miejsca</th>\n      <th>CEL Nr rejonu</th>\n      <th>Pora dnia (godzina)</th>\n      <th>Motywacje (skąd-dokąd)</th>\n      <th>Środek transportu grupa</th>\n      <th>Samochód</th>\n      <th>Przebyta odległość</th>\n      <th>age_sex_comb</th>\n      <th>CEL_dom</th>\n      <th>CEL_inne</th>\n      <th>CEL_praca</th>\n      <th>CEL_szkoła</th>\n      <th>CEL_uczelnia</th>\n      <th>ŹRÓDŁO Godzina rozpoczęcia</th>\n    </tr>\n  </thead>\n  <tbody>\n    <tr>\n      <th>0</th>\n      <td>4</td>\n      <td>3</td>\n      <td>4</td>\n      <td>0</td>\n      <td>0</td>\n      <td>0</td>\n      <td>0</td>\n      <td>0</td>\n      <td>1</td>\n      <td>1</td>\n      <td>0</td>\n      <td>0</td>\n      <td>0</td>\n      <td>1</td>\n      <td>0</td>\n      <td>1.0</td>\n      <td>1.0</td>\n      <td>1.0</td>\n      <td>5</td>\n      <td>1</td>\n      <td>1</td>\n      <td>0</td>\n      <td>1</td>\n      <td>1</td>\n      <td>0.5</td>\n      <td>09:00:00</td>\n      <td>dom</td>\n      <td>67.0</td>\n      <td>inne</td>\n      <td>68.0</td>\n      <td>1</td>\n      <td>dom-Inne</td>\n      <td>0</td>\n      <td>0.0</td>\n      <td>1223.212986</td>\n      <td>61-x_K</td>\n      <td>0</td>\n      <td>1</td>\n      <td>0</td>\n      <td>0</td>\n      <td>0</td>\n      <td>9</td>\n    </tr>\n    <tr>\n      <th>1</th>\n      <td>4</td>\n      <td>3</td>\n      <td>4</td>\n      <td>0</td>\n      <td>0</td>\n      <td>0</td>\n      <td>0</td>\n      <td>0</td>\n      <td>1</td>\n      <td>1</td>\n      <td>0</td>\n      <td>0</td>\n      <td>0</td>\n      <td>1</td>\n      <td>0</td>\n      <td>1.0</td>\n      <td>1.0</td>\n      <td>1.0</td>\n      <td>5</td>\n      <td>1</td>\n      <td>1</td>\n      <td>0</td>\n      <td>1</td>\n      <td>1</td>\n      <td>0.5</td>\n      <td>09:40:00</td>\n      <td>Inne</td>\n      <td>68.0</td>\n      <td>dom</td>\n      <td>67.0</td>\n      <td>1</td>\n      <td>Inne-dom</td>\n      <td>0</td>\n      <td>0.0</td>\n      <td>1223.212986</td>\n      <td>61-x_K</td>\n      <td>1</td>\n      <td>0</td>\n      <td>0</td>\n      <td>0</td>\n      <td>0</td>\n      <td>9</td>\n    </tr>\n    <tr>\n      <th>5</th>\n      <td>4</td>\n      <td>4</td>\n      <td>4</td>\n      <td>0</td>\n      <td>1</td>\n      <td>0</td>\n      <td>0</td>\n      <td>0</td>\n      <td>0</td>\n      <td>0</td>\n      <td>0</td>\n      <td>0</td>\n      <td>0</td>\n      <td>0</td>\n      <td>0</td>\n      <td>2.0</td>\n      <td>2.0</td>\n      <td>0.0</td>\n      <td>4</td>\n      <td>0</td>\n      <td>1</td>\n      <td>0</td>\n      <td>1</td>\n      <td>0</td>\n      <td>0.5</td>\n      <td>09:00:00</td>\n      <td>dom</td>\n      <td>67.0</td>\n      <td>inne</td>\n      <td>68.0</td>\n      <td>1</td>\n      <td>dom-Inne</td>\n      <td>0</td>\n      <td>1.0</td>\n      <td>1223.212986</td>\n      <td>45-65_M</td>\n      <td>0</td>\n      <td>1</td>\n      <td>0</td>\n      <td>0</td>\n      <td>0</td>\n      <td>9</td>\n    </tr>\n    <tr>\n      <th>6</th>\n      <td>4</td>\n      <td>4</td>\n      <td>4</td>\n      <td>0</td>\n      <td>1</td>\n      <td>0</td>\n      <td>0</td>\n      <td>0</td>\n      <td>0</td>\n      <td>0</td>\n      <td>0</td>\n      <td>0</td>\n      <td>0</td>\n      <td>0</td>\n      <td>0</td>\n      <td>2.0</td>\n      <td>2.0</td>\n      <td>0.0</td>\n      <td>4</td>\n      <td>0</td>\n      <td>1</td>\n      <td>0</td>\n      <td>1</td>\n      <td>0</td>\n      <td>0.5</td>\n      <td>09:40:00</td>\n      <td>Inne</td>\n      <td>68.0</td>\n      <td>dom</td>\n      <td>67.0</td>\n      <td>1</td>\n      <td>Inne-dom</td>\n      <td>0</td>\n      <td>1.0</td>\n      <td>1223.212986</td>\n      <td>45-65_M</td>\n      <td>1</td>\n      <td>0</td>\n      <td>0</td>\n      <td>0</td>\n      <td>0</td>\n      <td>9</td>\n    </tr>\n    <tr>\n      <th>7</th>\n      <td>4</td>\n      <td>3</td>\n      <td>2</td>\n      <td>0</td>\n      <td>0</td>\n      <td>0</td>\n      <td>0</td>\n      <td>1</td>\n      <td>0</td>\n      <td>0</td>\n      <td>0</td>\n      <td>0</td>\n      <td>0</td>\n      <td>0</td>\n      <td>0</td>\n      <td>1.0</td>\n      <td>1.0</td>\n      <td>0.0</td>\n      <td>3</td>\n      <td>1</td>\n      <td>1</td>\n      <td>0</td>\n      <td>1</td>\n      <td>1</td>\n      <td>0.5</td>\n      <td>18:00:00</td>\n      <td>dom</td>\n      <td>67.0</td>\n      <td>inne</td>\n      <td>29.0</td>\n      <td>3</td>\n      <td>dom-Inne</td>\n      <td>1</td>\n      <td>0.0</td>\n      <td>2637.323757</td>\n      <td>25-44_K</td>\n      <td>0</td>\n      <td>1</td>\n      <td>0</td>\n      <td>0</td>\n      <td>0</td>\n      <td>18</td>\n    </tr>\n  </tbody>\n</table>\n</div>"
     },
     "metadata": {},
     "execution_count": 111
    }
   ],
   "source": [
    "data.head()"
   ]
  },
  {
   "source": [
    "## Save data dataframe"
   ],
   "cell_type": "markdown",
   "metadata": {}
  },
  {
   "cell_type": "code",
   "execution_count": 110,
   "metadata": {},
   "outputs": [
    {
     "output_type": "execute_result",
     "data": {
      "text/plain": [
       "'../../data/processed/mc/decission_tree/data_dist.csv'"
      ]
     },
     "metadata": {},
     "execution_count": 110
    }
   ],
   "source": [
    "out_dir = '../../data/processed/mc/decision_tree'\n",
    "\n",
    "if not os.path.exists(out_dir):\n",
    "    os.makedirs(out_dir)\n",
    "\n",
    "out_file = 'data_dist.csv'\n",
    "out_path = os.path.join(out_dir, out_file)\n",
    "\n",
    "out_path"
   ]
  },
  {
   "cell_type": "code",
   "execution_count": 112,
   "metadata": {},
   "outputs": [],
   "source": [
    "data.to_csv(out_path)"
   ]
  },
  {
   "cell_type": "code",
   "execution_count": 113,
   "metadata": {},
   "outputs": [],
   "source": [
    "data = pd.read_csv(out_path, index_col = 0)"
   ]
  },
  {
   "source": [
    "# Decision Tree distributions"
   ],
   "cell_type": "markdown",
   "metadata": {}
  },
  {
   "source": [
    "## Distribution: rating the comfort of public transport grouped by combinations age group + gender"
   ],
   "cell_type": "markdown",
   "metadata": {}
  },
  {
   "source": [
    "### Prepare data"
   ],
   "cell_type": "markdown",
   "metadata": {}
  },
  {
   "cell_type": "code",
   "execution_count": 171,
   "metadata": {},
   "outputs": [
    {
     "output_type": "execute_result",
     "data": {
      "text/plain": [
       "58"
      ]
     },
     "metadata": {},
     "execution_count": 171
    }
   ],
   "source": [
    "data_grouped = data.groupby(['age_sex_comb', 'Jak Pan/Pani ocenia wygodę jazdy pojazdami komunikacji zbiorowej?'])['Jak Pan/Pani ocenia wygodę jazdy pojazdami komunikacji zbiorowej?'].count().reset_index(name='count')\n",
    "\n",
    "data_grouped.shape[0]"
   ]
  },
  {
   "cell_type": "code",
   "execution_count": 172,
   "metadata": {},
   "outputs": [
    {
     "output_type": "execute_result",
     "data": {
      "text/plain": [
       "  age_sex_comb  \\\n",
       "0      16-19_K   \n",
       "1      16-19_K   \n",
       "2      16-19_K   \n",
       "3      16-19_K   \n",
       "4      16-19_K   \n",
       "\n",
       "   Jak Pan/Pani ocenia wygodę jazdy pojazdami komunikacji zbiorowej?  count  \n",
       "0                                                  0                      2  \n",
       "1                                                  1                      8  \n",
       "2                                                  2                     49  \n",
       "3                                                  3                     85  \n",
       "4                                                  4                     24  "
      ],
      "text/html": "<div>\n<style scoped>\n    .dataframe tbody tr th:only-of-type {\n        vertical-align: middle;\n    }\n\n    .dataframe tbody tr th {\n        vertical-align: top;\n    }\n\n    .dataframe thead th {\n        text-align: right;\n    }\n</style>\n<table border=\"1\" class=\"dataframe\">\n  <thead>\n    <tr style=\"text-align: right;\">\n      <th></th>\n      <th>age_sex_comb</th>\n      <th>Jak Pan/Pani ocenia wygodę jazdy pojazdami komunikacji zbiorowej?</th>\n      <th>count</th>\n    </tr>\n  </thead>\n  <tbody>\n    <tr>\n      <th>0</th>\n      <td>16-19_K</td>\n      <td>0</td>\n      <td>2</td>\n    </tr>\n    <tr>\n      <th>1</th>\n      <td>16-19_K</td>\n      <td>1</td>\n      <td>8</td>\n    </tr>\n    <tr>\n      <th>2</th>\n      <td>16-19_K</td>\n      <td>2</td>\n      <td>49</td>\n    </tr>\n    <tr>\n      <th>3</th>\n      <td>16-19_K</td>\n      <td>3</td>\n      <td>85</td>\n    </tr>\n    <tr>\n      <th>4</th>\n      <td>16-19_K</td>\n      <td>4</td>\n      <td>24</td>\n    </tr>\n  </tbody>\n</table>\n</div>"
     },
     "metadata": {},
     "execution_count": 172
    }
   ],
   "source": [
    "data_grouped.head()"
   ]
  },
  {
   "cell_type": "code",
   "execution_count": 173,
   "metadata": {},
   "outputs": [
    {
     "output_type": "execute_result",
     "data": {
      "text/plain": [
       "49"
      ]
     },
     "metadata": {},
     "execution_count": 173
    }
   ],
   "source": [
    "data[\n",
    "    (data['age_sex_comb'] == '16-19_K') &\n",
    "    (data['Jak Pan/Pani ocenia wygodę jazdy pojazdami komunikacji zbiorowej?'] == 2)\n",
    "].shape[0]"
   ]
  },
  {
   "source": [
    "### Distribution"
   ],
   "cell_type": "markdown",
   "metadata": {}
  },
  {
   "cell_type": "code",
   "execution_count": 174,
   "metadata": {},
   "outputs": [],
   "source": [
    "unique_age_sex_comb = data_grouped['age_sex_comb'].unique()\n",
    "max_rating = data_grouped['Jak Pan/Pani ocenia wygodę jazdy pojazdami komunikacji zbiorowej?'].max()\n",
    "\n",
    "pub_trans_comfort_dist = {}\n",
    "\n",
    "for age_sex_comb in unique_age_sex_comb:\n",
    "    pub_trans_comfort_dist[age_sex_comb] = {}\n",
    "\n",
    "    for rating in range(0, max_rating+1):\n",
    "        try:\n",
    "            count = int(data_grouped[\n",
    "                (data_grouped['Jak Pan/Pani ocenia wygodę jazdy pojazdami komunikacji zbiorowej?'] == rating) & \n",
    "                (data_grouped['age_sex_comb'] == age_sex_comb)\n",
    "            ]['count'])\n",
    "        except TypeError:\n",
    "            count = 1\n",
    "\n",
    "        pub_trans_comfort_dist[age_sex_comb][rating] = count"
   ]
  },
  {
   "cell_type": "code",
   "execution_count": 175,
   "metadata": {},
   "outputs": [
    {
     "output_type": "execute_result",
     "data": {
      "text/plain": [
       "{'16-19_K': {0: 2, 1: 8, 2: 49, 3: 85, 4: 24},\n",
       " '16-19_M': {0: 1, 1: 13, 2: 76, 3: 139, 4: 23},\n",
       " '20-24_K': {0: 3, 1: 26, 2: 130, 3: 256, 4: 129},\n",
       " '20-24_M': {0: 4, 1: 20, 2: 147, 3: 239, 4: 74},\n",
       " '25-44_K': {0: 8, 1: 65, 2: 775, 3: 649, 4: 223},\n",
       " '25-44_M': {0: 8, 1: 44, 2: 827, 3: 464, 4: 116},\n",
       " '45-60_K': {0: 12, 1: 52, 2: 463, 3: 481, 4: 197},\n",
       " '45-65_M': {0: 9, 1: 24, 2: 634, 3: 402, 4: 122},\n",
       " '6-15_K': {0: 2, 1: 20, 2: 258, 3: 183, 4: 78},\n",
       " '6-15_M': {0: 1, 1: 8, 2: 168, 3: 189, 4: 53},\n",
       " '61-x_K': {0: 14, 1: 31, 2: 419, 3: 622, 4: 295},\n",
       " '66-x_M': {0: 2, 1: 12, 2: 252, 3: 306, 4: 140}}"
      ]
     },
     "metadata": {},
     "execution_count": 175
    }
   ],
   "source": [
    "pub_trans_comfort_dist"
   ]
  },
  {
   "source": [
    "### Probability distribution"
   ],
   "cell_type": "markdown",
   "metadata": {}
  },
  {
   "cell_type": "code",
   "execution_count": 176,
   "metadata": {},
   "outputs": [],
   "source": [
    "for age_sex_comb, ratings in pub_trans_comfort_dist.items():\n",
    "    ratings_sum = np.array(list(ratings.values())).sum()\n",
    "    if ratings_sum != 0:\n",
    "        for i in list(pub_trans_comfort_dist[age_sex_comb].keys()):\n",
    "            pub_trans_comfort_dist[age_sex_comb][i] = pub_trans_comfort_dist[age_sex_comb][i] / ratings_sum"
   ]
  },
  {
   "cell_type": "code",
   "execution_count": 177,
   "metadata": {},
   "outputs": [
    {
     "output_type": "execute_result",
     "data": {
      "text/plain": [
       "{'16-19_K': {0: 0.011904761904761904,\n",
       "  1: 0.047619047619047616,\n",
       "  2: 0.2916666666666667,\n",
       "  3: 0.5059523809523809,\n",
       "  4: 0.14285714285714285},\n",
       " '16-19_M': {0: 0.003968253968253968,\n",
       "  1: 0.051587301587301584,\n",
       "  2: 0.30158730158730157,\n",
       "  3: 0.5515873015873016,\n",
       "  4: 0.09126984126984126},\n",
       " '20-24_K': {0: 0.0055147058823529415,\n",
       "  1: 0.04779411764705882,\n",
       "  2: 0.23897058823529413,\n",
       "  3: 0.47058823529411764,\n",
       "  4: 0.23713235294117646},\n",
       " '20-24_M': {0: 0.008264462809917356,\n",
       "  1: 0.04132231404958678,\n",
       "  2: 0.3037190082644628,\n",
       "  3: 0.493801652892562,\n",
       "  4: 0.15289256198347106},\n",
       " '25-44_K': {0: 0.004651162790697674,\n",
       "  1: 0.0377906976744186,\n",
       "  2: 0.45058139534883723,\n",
       "  3: 0.37732558139534883,\n",
       "  4: 0.1296511627906977},\n",
       " '25-44_M': {0: 0.0054832076764907475,\n",
       "  1: 0.03015764222069911,\n",
       "  2: 0.566826593557231,\n",
       "  3: 0.31802604523646333,\n",
       "  4: 0.07950651130911583},\n",
       " '45-60_K': {0: 0.00995850622406639,\n",
       "  1: 0.043153526970954356,\n",
       "  2: 0.38423236514522824,\n",
       "  3: 0.3991701244813278,\n",
       "  4: 0.16348547717842324},\n",
       " '45-65_M': {0: 0.007556675062972292,\n",
       "  1: 0.020151133501259445,\n",
       "  2: 0.5323257766582704,\n",
       "  3: 0.33753148614609574,\n",
       "  4: 0.10243492863140219},\n",
       " '6-15_K': {0: 0.0036968576709796672,\n",
       "  1: 0.036968576709796676,\n",
       "  2: 0.47689463955637706,\n",
       "  3: 0.33826247689463956,\n",
       "  4: 0.14417744916820702},\n",
       " '6-15_M': {0: 0.002386634844868735,\n",
       "  1: 0.01909307875894988,\n",
       "  2: 0.4009546539379475,\n",
       "  3: 0.4510739856801909,\n",
       "  4: 0.12649164677804295},\n",
       " '61-x_K': {0: 0.010137581462708182,\n",
       "  1: 0.022447501810282405,\n",
       "  2: 0.30340333091962346,\n",
       "  3: 0.4503982621288921,\n",
       "  4: 0.21361332367849384},\n",
       " '66-x_M': {0: 0.0028089887640449437,\n",
       "  1: 0.016853932584269662,\n",
       "  2: 0.3539325842696629,\n",
       "  3: 0.4297752808988764,\n",
       "  4: 0.19662921348314608}}"
      ]
     },
     "metadata": {},
     "execution_count": 177
    }
   ],
   "source": [
    "pub_trans_comfort_dist"
   ]
  },
  {
   "source": [
    "### Save probability distribution to .json"
   ],
   "cell_type": "markdown",
   "metadata": {}
  },
  {
   "cell_type": "code",
   "execution_count": 178,
   "metadata": {},
   "outputs": [],
   "source": [
    "out_dir = '../../data/processed/mc/decision_tree'\n",
    "\n",
    "if not os.path.exists(out_dir):\n",
    "    os.makedirs(out_dir)"
   ]
  },
  {
   "cell_type": "code",
   "execution_count": 179,
   "metadata": {},
   "outputs": [],
   "source": [
    "out_file = 'pub_trans_comfort_dist.json'\n",
    "out_path = os.path.join(out_dir, out_file)\n",
    "\n",
    "with open(out_path, 'w') as f:\n",
    "    json.dump(pub_trans_comfort_dist, f)"
   ]
  },
  {
   "source": [
    "## Distribution: rating the punctuality of public transport grouped by combinations age group + gender"
   ],
   "cell_type": "markdown",
   "metadata": {}
  },
  {
   "source": [
    "### Prepare data"
   ],
   "cell_type": "markdown",
   "metadata": {}
  },
  {
   "cell_type": "code",
   "execution_count": 180,
   "metadata": {},
   "outputs": [
    {
     "output_type": "execute_result",
     "data": {
      "text/plain": [
       "58"
      ]
     },
     "metadata": {},
     "execution_count": 180
    }
   ],
   "source": [
    "data_grouped = data.groupby(['age_sex_comb', 'Jak Pan/Pani ocenia punktualność komunikacji zbiorowej we Wrocławiu?'])['Jak Pan/Pani ocenia punktualność komunikacji zbiorowej we Wrocławiu?'].count().reset_index(name='count')\n",
    "\n",
    "data_grouped.shape[0]"
   ]
  },
  {
   "cell_type": "code",
   "execution_count": 181,
   "metadata": {},
   "outputs": [
    {
     "output_type": "execute_result",
     "data": {
      "text/plain": [
       "  age_sex_comb  \\\n",
       "0      16-19_K   \n",
       "1      16-19_K   \n",
       "2      16-19_K   \n",
       "3      16-19_K   \n",
       "4      16-19_K   \n",
       "\n",
       "   Jak Pan/Pani ocenia punktualność komunikacji zbiorowej we Wrocławiu?  count  \n",
       "0                                                  0                         6  \n",
       "1                                                  1                         7  \n",
       "2                                                  2                        52  \n",
       "3                                                  3                        89  \n",
       "4                                                  4                        14  "
      ],
      "text/html": "<div>\n<style scoped>\n    .dataframe tbody tr th:only-of-type {\n        vertical-align: middle;\n    }\n\n    .dataframe tbody tr th {\n        vertical-align: top;\n    }\n\n    .dataframe thead th {\n        text-align: right;\n    }\n</style>\n<table border=\"1\" class=\"dataframe\">\n  <thead>\n    <tr style=\"text-align: right;\">\n      <th></th>\n      <th>age_sex_comb</th>\n      <th>Jak Pan/Pani ocenia punktualność komunikacji zbiorowej we Wrocławiu?</th>\n      <th>count</th>\n    </tr>\n  </thead>\n  <tbody>\n    <tr>\n      <th>0</th>\n      <td>16-19_K</td>\n      <td>0</td>\n      <td>6</td>\n    </tr>\n    <tr>\n      <th>1</th>\n      <td>16-19_K</td>\n      <td>1</td>\n      <td>7</td>\n    </tr>\n    <tr>\n      <th>2</th>\n      <td>16-19_K</td>\n      <td>2</td>\n      <td>52</td>\n    </tr>\n    <tr>\n      <th>3</th>\n      <td>16-19_K</td>\n      <td>3</td>\n      <td>89</td>\n    </tr>\n    <tr>\n      <th>4</th>\n      <td>16-19_K</td>\n      <td>4</td>\n      <td>14</td>\n    </tr>\n  </tbody>\n</table>\n</div>"
     },
     "metadata": {},
     "execution_count": 181
    }
   ],
   "source": [
    "data_grouped.head()"
   ]
  },
  {
   "cell_type": "code",
   "execution_count": 182,
   "metadata": {},
   "outputs": [
    {
     "output_type": "execute_result",
     "data": {
      "text/plain": [
       "52"
      ]
     },
     "metadata": {},
     "execution_count": 182
    }
   ],
   "source": [
    "data[\n",
    "    (data['age_sex_comb'] == '16-19_K') &\n",
    "    (data['Jak Pan/Pani ocenia punktualność komunikacji zbiorowej we Wrocławiu?'] == 2)\n",
    "].shape[0]"
   ]
  },
  {
   "source": [
    "### Distribution"
   ],
   "cell_type": "markdown",
   "metadata": {}
  },
  {
   "cell_type": "code",
   "execution_count": 183,
   "metadata": {},
   "outputs": [],
   "source": [
    "unique_age_sex_comb = data_grouped['age_sex_comb'].unique()\n",
    "max_rating = data_grouped['Jak Pan/Pani ocenia punktualność komunikacji zbiorowej we Wrocławiu?'].max()\n",
    "\n",
    "pub_trans_punctuality_dist = {}\n",
    "\n",
    "for age_sex_comb in unique_age_sex_comb:\n",
    "    pub_trans_punctuality_dist[age_sex_comb] = {}\n",
    "\n",
    "    for rating in range(0, max_rating+1):\n",
    "        try:\n",
    "            count = int(data_grouped[\n",
    "                (data_grouped['Jak Pan/Pani ocenia punktualność komunikacji zbiorowej we Wrocławiu?'] == rating) & \n",
    "                (data_grouped['age_sex_comb'] == age_sex_comb)\n",
    "            ]['count'])\n",
    "        except TypeError:\n",
    "            count = 1\n",
    "\n",
    "        pub_trans_punctuality_dist[age_sex_comb][rating] = count"
   ]
  },
  {
   "cell_type": "code",
   "execution_count": 184,
   "metadata": {},
   "outputs": [
    {
     "output_type": "execute_result",
     "data": {
      "text/plain": [
       "{'16-19_K': {0: 6, 1: 7, 2: 52, 3: 89, 4: 14},\n",
       " '16-19_M': {0: 1, 1: 40, 2: 78, 3: 107, 4: 26},\n",
       " '20-24_K': {0: 14, 1: 57, 2: 166, 3: 217, 4: 90},\n",
       " '20-24_M': {0: 9, 1: 34, 2: 175, 3: 210, 4: 56},\n",
       " '25-44_K': {0: 31, 1: 146, 2: 794, 3: 587, 4: 162},\n",
       " '25-44_M': {0: 22, 1: 73, 2: 840, 3: 404, 4: 120},\n",
       " '45-60_K': {0: 17, 1: 99, 2: 453, 3: 457, 4: 179},\n",
       " '45-65_M': {0: 14, 1: 61, 2: 648, 3: 360, 4: 108},\n",
       " '6-15_K': {0: 10, 1: 28, 2: 247, 3: 193, 4: 63},\n",
       " '6-15_M': {0: 1, 1: 17, 2: 189, 3: 156, 4: 56},\n",
       " '61-x_K': {0: 11, 1: 66, 2: 385, 3: 639, 4: 280},\n",
       " '66-x_M': {0: 4, 1: 24, 2: 283, 3: 291, 4: 110}}"
      ]
     },
     "metadata": {},
     "execution_count": 184
    }
   ],
   "source": [
    "pub_trans_punctuality_dist"
   ]
  },
  {
   "source": [
    "### Probability distribution"
   ],
   "cell_type": "markdown",
   "metadata": {}
  },
  {
   "cell_type": "code",
   "execution_count": 185,
   "metadata": {},
   "outputs": [],
   "source": [
    "for age_sex_comb, ratings in pub_trans_punctuality_dist.items():\n",
    "    ratings_sum = np.array(list(ratings.values())).sum()\n",
    "    if ratings_sum != 0:\n",
    "        for i in list(pub_trans_punctuality_dist[age_sex_comb].keys()):\n",
    "            pub_trans_punctuality_dist[age_sex_comb][i] = pub_trans_punctuality_dist[age_sex_comb][i] / ratings_sum"
   ]
  },
  {
   "cell_type": "code",
   "execution_count": 186,
   "metadata": {},
   "outputs": [
    {
     "output_type": "execute_result",
     "data": {
      "text/plain": [
       "{'16-19_K': {0: 0.03571428571428571,\n",
       "  1: 0.041666666666666664,\n",
       "  2: 0.30952380952380953,\n",
       "  3: 0.5297619047619048,\n",
       "  4: 0.08333333333333333},\n",
       " '16-19_M': {0: 0.003968253968253968,\n",
       "  1: 0.15873015873015872,\n",
       "  2: 0.30952380952380953,\n",
       "  3: 0.4246031746031746,\n",
       "  4: 0.10317460317460317},\n",
       " '20-24_K': {0: 0.025735294117647058,\n",
       "  1: 0.10477941176470588,\n",
       "  2: 0.30514705882352944,\n",
       "  3: 0.39889705882352944,\n",
       "  4: 0.16544117647058823},\n",
       " '20-24_M': {0: 0.01859504132231405,\n",
       "  1: 0.07024793388429752,\n",
       "  2: 0.3615702479338843,\n",
       "  3: 0.43388429752066116,\n",
       "  4: 0.11570247933884298},\n",
       " '25-44_K': {0: 0.01802325581395349,\n",
       "  1: 0.08488372093023255,\n",
       "  2: 0.46162790697674416,\n",
       "  3: 0.3412790697674419,\n",
       "  4: 0.0941860465116279},\n",
       " '25-44_M': {0: 0.015078821110349555,\n",
       "  1: 0.050034270047978065,\n",
       "  2: 0.5757368060315284,\n",
       "  3: 0.27690198766278273,\n",
       "  4: 0.0822481151473612},\n",
       " '45-60_K': {0: 0.014107883817427386,\n",
       "  1: 0.08215767634854772,\n",
       "  2: 0.3759336099585062,\n",
       "  3: 0.379253112033195,\n",
       "  4: 0.14854771784232365},\n",
       " '45-65_M': {0: 0.011754827875734676,\n",
       "  1: 0.051217464315701094,\n",
       "  2: 0.5440806045340051,\n",
       "  3: 0.3022670025188917,\n",
       "  4: 0.0906801007556675},\n",
       " '6-15_K': {0: 0.018484288354898338,\n",
       "  1: 0.051756007393715345,\n",
       "  2: 0.4565619223659889,\n",
       "  3: 0.3567467652495379,\n",
       "  4: 0.11645101663585952},\n",
       " '6-15_M': {0: 0.002386634844868735,\n",
       "  1: 0.0405727923627685,\n",
       "  2: 0.4510739856801909,\n",
       "  3: 0.3723150357995227,\n",
       "  4: 0.13365155131264916},\n",
       " '61-x_K': {0: 0.007965242577842143,\n",
       "  1: 0.04779145546705286,\n",
       "  2: 0.278783490224475,\n",
       "  3: 0.46270818247646633,\n",
       "  4: 0.20275162925416365},\n",
       " '66-x_M': {0: 0.0056179775280898875,\n",
       "  1: 0.033707865168539325,\n",
       "  2: 0.39747191011235955,\n",
       "  3: 0.40870786516853935,\n",
       "  4: 0.1544943820224719}}"
      ]
     },
     "metadata": {},
     "execution_count": 186
    }
   ],
   "source": [
    "pub_trans_punctuality_dist"
   ]
  },
  {
   "source": [
    "### Save probability distribution to .json"
   ],
   "cell_type": "markdown",
   "metadata": {}
  },
  {
   "cell_type": "code",
   "execution_count": 187,
   "metadata": {},
   "outputs": [],
   "source": [
    "out_dir = '../../data/processed/mc/decision_tree'\n",
    "\n",
    "if not os.path.exists(out_dir):\n",
    "    os.makedirs(out_dir)"
   ]
  },
  {
   "cell_type": "code",
   "execution_count": 188,
   "metadata": {},
   "outputs": [],
   "source": [
    "out_file = 'pub_trans_punctuality_dist.json'\n",
    "out_path = os.path.join(out_dir, out_file)\n",
    "\n",
    "with open(out_path, 'w') as f:\n",
    "    json.dump(pub_trans_punctuality_dist, f)"
   ]
  },
  {
   "source": [
    "## Distribution: rating the comfort of bicycle infrastructure grouped by combinations age group + gender"
   ],
   "cell_type": "markdown",
   "metadata": {}
  },
  {
   "source": [
    "### Prepare data"
   ],
   "cell_type": "markdown",
   "metadata": {}
  },
  {
   "cell_type": "code",
   "execution_count": 189,
   "metadata": {},
   "outputs": [
    {
     "output_type": "execute_result",
     "data": {
      "text/plain": [
       "58"
      ]
     },
     "metadata": {},
     "execution_count": 189
    }
   ],
   "source": [
    "data_grouped = data.groupby(['age_sex_comb', 'Jak ocenia Pan/Pani efekty dotychczasowych działań związanych z rozbudową systemu rowerowego we Wrocławiu (dróg i parkingów rowerowych)?'])['Jak ocenia Pan/Pani efekty dotychczasowych działań związanych z rozbudową systemu rowerowego we Wrocławiu (dróg i parkingów rowerowych)?'].count().reset_index(name='count')\n",
    "\n",
    "data_grouped.shape[0]"
   ]
  },
  {
   "cell_type": "code",
   "execution_count": 190,
   "metadata": {},
   "outputs": [
    {
     "output_type": "execute_result",
     "data": {
      "text/plain": [
       "  age_sex_comb  \\\n",
       "0      16-19_K   \n",
       "1      16-19_K   \n",
       "2      16-19_K   \n",
       "3      16-19_K   \n",
       "4      16-19_K   \n",
       "\n",
       "   Jak ocenia Pan/Pani efekty dotychczasowych działań związanych z rozbudową systemu rowerowego we Wrocławiu (dróg i parkingów rowerowych)?  \\\n",
       "0                                                  0                                                                                          \n",
       "1                                                  1                                                                                          \n",
       "2                                                  2                                                                                          \n",
       "3                                                  3                                                                                          \n",
       "4                                                  4                                                                                          \n",
       "\n",
       "   count  \n",
       "0      2  \n",
       "1      4  \n",
       "2     48  \n",
       "3     70  \n",
       "4     44  "
      ],
      "text/html": "<div>\n<style scoped>\n    .dataframe tbody tr th:only-of-type {\n        vertical-align: middle;\n    }\n\n    .dataframe tbody tr th {\n        vertical-align: top;\n    }\n\n    .dataframe thead th {\n        text-align: right;\n    }\n</style>\n<table border=\"1\" class=\"dataframe\">\n  <thead>\n    <tr style=\"text-align: right;\">\n      <th></th>\n      <th>age_sex_comb</th>\n      <th>Jak ocenia Pan/Pani efekty dotychczasowych działań związanych z rozbudową systemu rowerowego we Wrocławiu (dróg i parkingów rowerowych)?</th>\n      <th>count</th>\n    </tr>\n  </thead>\n  <tbody>\n    <tr>\n      <th>0</th>\n      <td>16-19_K</td>\n      <td>0</td>\n      <td>2</td>\n    </tr>\n    <tr>\n      <th>1</th>\n      <td>16-19_K</td>\n      <td>1</td>\n      <td>4</td>\n    </tr>\n    <tr>\n      <th>2</th>\n      <td>16-19_K</td>\n      <td>2</td>\n      <td>48</td>\n    </tr>\n    <tr>\n      <th>3</th>\n      <td>16-19_K</td>\n      <td>3</td>\n      <td>70</td>\n    </tr>\n    <tr>\n      <th>4</th>\n      <td>16-19_K</td>\n      <td>4</td>\n      <td>44</td>\n    </tr>\n  </tbody>\n</table>\n</div>"
     },
     "metadata": {},
     "execution_count": 190
    }
   ],
   "source": [
    "data_grouped.head()"
   ]
  },
  {
   "cell_type": "code",
   "execution_count": 191,
   "metadata": {},
   "outputs": [
    {
     "output_type": "execute_result",
     "data": {
      "text/plain": [
       "48"
      ]
     },
     "metadata": {},
     "execution_count": 191
    }
   ],
   "source": [
    "data[\n",
    "    (data['age_sex_comb'] == '16-19_K') &\n",
    "    (data['Jak ocenia Pan/Pani efekty dotychczasowych działań związanych z rozbudową systemu rowerowego we Wrocławiu (dróg i parkingów rowerowych)?'] == 2)\n",
    "].shape[0]"
   ]
  },
  {
   "source": [
    "### Distribution"
   ],
   "cell_type": "markdown",
   "metadata": {}
  },
  {
   "cell_type": "code",
   "execution_count": 192,
   "metadata": {},
   "outputs": [],
   "source": [
    "unique_age_sex_comb = data_grouped['age_sex_comb'].unique()\n",
    "max_rating = data_grouped['Jak ocenia Pan/Pani efekty dotychczasowych działań związanych z rozbudową systemu rowerowego we Wrocławiu (dróg i parkingów rowerowych)?'].max()\n",
    "\n",
    "bicycle_infrastr_comfort_dist = {}\n",
    "\n",
    "for age_sex_comb in unique_age_sex_comb:\n",
    "    bicycle_infrastr_comfort_dist[age_sex_comb] = {}\n",
    "\n",
    "    for rating in range(0, max_rating+1):\n",
    "        try:\n",
    "            count = int(data_grouped[\n",
    "                (data_grouped['Jak ocenia Pan/Pani efekty dotychczasowych działań związanych z rozbudową systemu rowerowego we Wrocławiu (dróg i parkingów rowerowych)?'] == rating) & \n",
    "                (data_grouped['age_sex_comb'] == age_sex_comb)\n",
    "            ]['count'])\n",
    "        except TypeError:\n",
    "            count = 1\n",
    "\n",
    "        bicycle_infrastr_comfort_dist[age_sex_comb][rating] = count"
   ]
  },
  {
   "cell_type": "code",
   "execution_count": 193,
   "metadata": {},
   "outputs": [
    {
     "output_type": "execute_result",
     "data": {
      "text/plain": [
       "{'16-19_K': {0: 2, 1: 4, 2: 48, 3: 70, 4: 44},\n",
       " '16-19_M': {0: 1, 1: 20, 2: 73, 3: 123, 4: 35},\n",
       " '20-24_K': {0: 8, 1: 25, 2: 114, 3: 231, 4: 166},\n",
       " '20-24_M': {0: 1, 1: 20, 2: 140, 3: 182, 4: 142},\n",
       " '25-44_K': {0: 29, 1: 59, 2: 595, 3: 674, 4: 363},\n",
       " '25-44_M': {0: 8, 1: 59, 2: 536, 3: 547, 4: 309},\n",
       " '45-60_K': {0: 30, 1: 58, 2: 459, 3: 421, 4: 237},\n",
       " '45-65_M': {0: 20, 1: 45, 2: 531, 3: 421, 4: 174},\n",
       " '6-15_K': {0: 2, 1: 16, 2: 215, 3: 196, 4: 112},\n",
       " '6-15_M': {0: 2, 1: 3, 2: 152, 3: 181, 4: 80},\n",
       " '61-x_K': {0: 26, 1: 28, 2: 795, 3: 329, 4: 203},\n",
       " '66-x_M': {0: 18, 1: 26, 2: 375, 3: 172, 4: 121}}"
      ]
     },
     "metadata": {},
     "execution_count": 193
    }
   ],
   "source": [
    "bicycle_infrastr_comfort_dist"
   ]
  },
  {
   "source": [
    "### Probability distribution"
   ],
   "cell_type": "markdown",
   "metadata": {}
  },
  {
   "cell_type": "code",
   "execution_count": 194,
   "metadata": {},
   "outputs": [],
   "source": [
    "for age_sex_comb, ratings in bicycle_infrastr_comfort_dist.items():\n",
    "    ratings_sum = np.array(list(ratings.values())).sum()\n",
    "    if ratings_sum != 0:\n",
    "        for i in list(bicycle_infrastr_comfort_dist[age_sex_comb].keys()):\n",
    "            bicycle_infrastr_comfort_dist[age_sex_comb][i] = bicycle_infrastr_comfort_dist[age_sex_comb][i] / ratings_sum"
   ]
  },
  {
   "cell_type": "code",
   "execution_count": 195,
   "metadata": {},
   "outputs": [
    {
     "output_type": "execute_result",
     "data": {
      "text/plain": [
       "{'16-19_K': {0: 0.011904761904761904,\n",
       "  1: 0.023809523809523808,\n",
       "  2: 0.2857142857142857,\n",
       "  3: 0.4166666666666667,\n",
       "  4: 0.2619047619047619},\n",
       " '16-19_M': {0: 0.003968253968253968,\n",
       "  1: 0.07936507936507936,\n",
       "  2: 0.2896825396825397,\n",
       "  3: 0.4880952380952381,\n",
       "  4: 0.1388888888888889},\n",
       " '20-24_K': {0: 0.014705882352941176,\n",
       "  1: 0.04595588235294118,\n",
       "  2: 0.20955882352941177,\n",
       "  3: 0.42463235294117646,\n",
       "  4: 0.30514705882352944},\n",
       " '20-24_M': {0: 0.002061855670103093,\n",
       "  1: 0.041237113402061855,\n",
       "  2: 0.28865979381443296,\n",
       "  3: 0.3752577319587629,\n",
       "  4: 0.2927835051546392},\n",
       " '25-44_K': {0: 0.01686046511627907,\n",
       "  1: 0.03430232558139535,\n",
       "  2: 0.34593023255813954,\n",
       "  3: 0.3918604651162791,\n",
       "  4: 0.21104651162790697},\n",
       " '25-44_M': {0: 0.0054832076764907475,\n",
       "  1: 0.04043865661411926,\n",
       "  2: 0.36737491432488006,\n",
       "  3: 0.37491432488005483,\n",
       "  4: 0.2117888965044551},\n",
       " '45-60_K': {0: 0.024896265560165973,\n",
       "  1: 0.048132780082987554,\n",
       "  2: 0.3809128630705394,\n",
       "  3: 0.34937759336099583,\n",
       "  4: 0.1966804979253112},\n",
       " '45-65_M': {0: 0.016792611251049538,\n",
       "  1: 0.037783375314861464,\n",
       "  2: 0.44584382871536526,\n",
       "  3: 0.3534844668345928,\n",
       "  4: 0.14609571788413098},\n",
       " '6-15_K': {0: 0.0036968576709796672,\n",
       "  1: 0.029574861367837338,\n",
       "  2: 0.3974121996303142,\n",
       "  3: 0.36229205175600737,\n",
       "  4: 0.20702402957486138},\n",
       " '6-15_M': {0: 0.004784688995215311,\n",
       "  1: 0.007177033492822967,\n",
       "  2: 0.36363636363636365,\n",
       "  3: 0.43301435406698563,\n",
       "  4: 0.19138755980861244},\n",
       " '61-x_K': {0: 0.01882693700217234,\n",
       "  1: 0.020275162925416364,\n",
       "  2: 0.5756698044895003,\n",
       "  3: 0.23823316437364228,\n",
       "  4: 0.14699493120926865},\n",
       " '66-x_M': {0: 0.025280898876404494,\n",
       "  1: 0.03651685393258427,\n",
       "  2: 0.526685393258427,\n",
       "  3: 0.24157303370786518,\n",
       "  4: 0.1699438202247191}}"
      ]
     },
     "metadata": {},
     "execution_count": 195
    }
   ],
   "source": [
    "bicycle_infrastr_comfort_dist"
   ]
  },
  {
   "source": [
    "### Save probability distribution to .json"
   ],
   "cell_type": "markdown",
   "metadata": {}
  },
  {
   "cell_type": "code",
   "execution_count": 196,
   "metadata": {},
   "outputs": [],
   "source": [
    "out_dir = '../../data/processed/mc/decision_tree'\n",
    "\n",
    "if not os.path.exists(out_dir):\n",
    "    os.makedirs(out_dir)"
   ]
  },
  {
   "cell_type": "code",
   "execution_count": 197,
   "metadata": {},
   "outputs": [],
   "source": [
    "out_file = 'bicycle_infrastr_comfort_dist.json'\n",
    "out_path = os.path.join(out_dir, out_file)\n",
    "\n",
    "with open(out_path, 'w') as f:\n",
    "    json.dump(bicycle_infrastr_comfort_dist, f)"
   ]
  },
  {
   "source": [
    "## Distribution: pedestrian inconvenience grouped by combinations age group + gender"
   ],
   "cell_type": "markdown",
   "metadata": {}
  },
  {
   "source": [
    "### Prepare data"
   ],
   "cell_type": "markdown",
   "metadata": {}
  },
  {
   "cell_type": "code",
   "execution_count": 198,
   "metadata": {},
   "outputs": [],
   "source": [
    "data['PIESZO-niedogodności'] = 0\n",
    "for col in data.columns:\n",
    "    if col.startswith('PIESZO '):\n",
    "        data['PIESZO-niedogodności'] += data[col]"
   ]
  },
  {
   "cell_type": "code",
   "execution_count": 199,
   "metadata": {},
   "outputs": [
    {
     "output_type": "execute_result",
     "data": {
      "text/plain": [
       "48"
      ]
     },
     "metadata": {},
     "execution_count": 199
    }
   ],
   "source": [
    "data_grouped = data.groupby(['age_sex_comb', 'PIESZO-niedogodności'])['PIESZO-niedogodności'].count().reset_index(name='count')\n",
    "\n",
    "data_grouped.shape[0]"
   ]
  },
  {
   "cell_type": "code",
   "execution_count": 200,
   "metadata": {},
   "outputs": [
    {
     "output_type": "execute_result",
     "data": {
      "text/plain": [
       "  age_sex_comb  PIESZO-niedogodności  count\n",
       "0      16-19_K                     0     52\n",
       "1      16-19_K                     1     40\n",
       "2      16-19_K                     2     39\n",
       "3      16-19_K                     3     37\n",
       "4      16-19_M                     0     78"
      ],
      "text/html": "<div>\n<style scoped>\n    .dataframe tbody tr th:only-of-type {\n        vertical-align: middle;\n    }\n\n    .dataframe tbody tr th {\n        vertical-align: top;\n    }\n\n    .dataframe thead th {\n        text-align: right;\n    }\n</style>\n<table border=\"1\" class=\"dataframe\">\n  <thead>\n    <tr style=\"text-align: right;\">\n      <th></th>\n      <th>age_sex_comb</th>\n      <th>PIESZO-niedogodności</th>\n      <th>count</th>\n    </tr>\n  </thead>\n  <tbody>\n    <tr>\n      <th>0</th>\n      <td>16-19_K</td>\n      <td>0</td>\n      <td>52</td>\n    </tr>\n    <tr>\n      <th>1</th>\n      <td>16-19_K</td>\n      <td>1</td>\n      <td>40</td>\n    </tr>\n    <tr>\n      <th>2</th>\n      <td>16-19_K</td>\n      <td>2</td>\n      <td>39</td>\n    </tr>\n    <tr>\n      <th>3</th>\n      <td>16-19_K</td>\n      <td>3</td>\n      <td>37</td>\n    </tr>\n    <tr>\n      <th>4</th>\n      <td>16-19_M</td>\n      <td>0</td>\n      <td>78</td>\n    </tr>\n  </tbody>\n</table>\n</div>"
     },
     "metadata": {},
     "execution_count": 200
    }
   ],
   "source": [
    "data_grouped.head()"
   ]
  },
  {
   "cell_type": "code",
   "execution_count": 201,
   "metadata": {},
   "outputs": [
    {
     "output_type": "execute_result",
     "data": {
      "text/plain": [
       "39"
      ]
     },
     "metadata": {},
     "execution_count": 201
    }
   ],
   "source": [
    "data[\n",
    "    (data['age_sex_comb'] == '16-19_K') &\n",
    "    (data['PIESZO-niedogodności'] == 2)\n",
    "].shape[0]"
   ]
  },
  {
   "source": [
    "### Distribution"
   ],
   "cell_type": "markdown",
   "metadata": {}
  },
  {
   "cell_type": "code",
   "execution_count": 202,
   "metadata": {},
   "outputs": [],
   "source": [
    "unique_age_sex_comb = data_grouped['age_sex_comb'].unique()\n",
    "max_inconveniences = data_grouped['PIESZO-niedogodności'].max()\n",
    "\n",
    "pedestrian_inconvenience_dist = {}\n",
    "\n",
    "for age_sex_comb in unique_age_sex_comb:\n",
    "    pedestrian_inconvenience_dist[age_sex_comb] = {}\n",
    "\n",
    "    for inconveniences in range(0, max_inconveniences+1):\n",
    "        try:\n",
    "            count = int(data_grouped[\n",
    "                (data_grouped['PIESZO-niedogodności'] == inconveniences) & \n",
    "                (data_grouped['age_sex_comb'] == age_sex_comb)\n",
    "            ]['count'])\n",
    "        except TypeError:\n",
    "            count = 1\n",
    "\n",
    "        pedestrian_inconvenience_dist[age_sex_comb][inconveniences] = count"
   ]
  },
  {
   "cell_type": "code",
   "execution_count": 203,
   "metadata": {},
   "outputs": [
    {
     "output_type": "execute_result",
     "data": {
      "text/plain": [
       "{'16-19_K': {0: 52, 1: 40, 2: 39, 3: 37},\n",
       " '16-19_M': {0: 78, 1: 49, 2: 71, 3: 53},\n",
       " '20-24_K': {0: 152, 1: 118, 2: 152, 3: 122},\n",
       " '20-24_M': {0: 167, 1: 108, 2: 98, 3: 111},\n",
       " '25-44_K': {0: 426, 1: 395, 2: 459, 3: 440},\n",
       " '25-44_M': {0: 425, 1: 346, 2: 367, 3: 321},\n",
       " '45-60_K': {0: 267, 1: 254, 2: 294, 3: 390},\n",
       " '45-65_M': {0: 285, 1: 274, 2: 284, 3: 348},\n",
       " '6-15_K': {0: 215, 1: 71, 2: 128, 3: 127},\n",
       " '6-15_M': {0: 144, 1: 105, 2: 75, 3: 94},\n",
       " '61-x_K': {0: 273, 1: 316, 2: 364, 3: 428},\n",
       " '66-x_M': {0: 168, 1: 161, 2: 173, 3: 210}}"
      ]
     },
     "metadata": {},
     "execution_count": 203
    }
   ],
   "source": [
    "pedestrian_inconvenience_dist"
   ]
  },
  {
   "source": [
    "### Probability distribution"
   ],
   "cell_type": "markdown",
   "metadata": {}
  },
  {
   "cell_type": "code",
   "execution_count": 204,
   "metadata": {},
   "outputs": [],
   "source": [
    "for age_sex_comb, inconveniences in pedestrian_inconvenience_dist.items():\n",
    "    inconveniences_sum = np.array(list(inconveniences.values())).sum()\n",
    "    if inconveniences_sum != 0:\n",
    "        for i in list(pedestrian_inconvenience_dist[age_sex_comb].keys()):\n",
    "            pedestrian_inconvenience_dist[age_sex_comb][i] = pedestrian_inconvenience_dist[age_sex_comb][i] / inconveniences_sum"
   ]
  },
  {
   "cell_type": "code",
   "execution_count": 205,
   "metadata": {},
   "outputs": [
    {
     "output_type": "execute_result",
     "data": {
      "text/plain": [
       "{'16-19_K': {0: 0.30952380952380953,\n",
       "  1: 0.23809523809523808,\n",
       "  2: 0.23214285714285715,\n",
       "  3: 0.22023809523809523},\n",
       " '16-19_M': {0: 0.3107569721115538,\n",
       "  1: 0.1952191235059761,\n",
       "  2: 0.28286852589641437,\n",
       "  3: 0.21115537848605578},\n",
       " '20-24_K': {0: 0.27941176470588236,\n",
       "  1: 0.21691176470588236,\n",
       "  2: 0.27941176470588236,\n",
       "  3: 0.22426470588235295},\n",
       " '20-24_M': {0: 0.3450413223140496,\n",
       "  1: 0.2231404958677686,\n",
       "  2: 0.2024793388429752,\n",
       "  3: 0.22933884297520662},\n",
       " '25-44_K': {0: 0.24767441860465117,\n",
       "  1: 0.22965116279069767,\n",
       "  2: 0.2668604651162791,\n",
       "  3: 0.2558139534883721},\n",
       " '25-44_M': {0: 0.29129540781357094,\n",
       "  1: 0.2371487320082248,\n",
       "  2: 0.25154215215901304,\n",
       "  3: 0.22001370801919123},\n",
       " '45-60_K': {0: 0.22157676348547717,\n",
       "  1: 0.2107883817427386,\n",
       "  2: 0.24398340248962655,\n",
       "  3: 0.3236514522821577},\n",
       " '45-65_M': {0: 0.23929471032745592,\n",
       "  1: 0.23005877413937867,\n",
       "  2: 0.23845507976490343,\n",
       "  3: 0.29219143576826195},\n",
       " '6-15_K': {0: 0.3974121996303142,\n",
       "  1: 0.13123844731977818,\n",
       "  2: 0.2365988909426987,\n",
       "  3: 0.23475046210720887},\n",
       " '6-15_M': {0: 0.3444976076555024,\n",
       "  1: 0.2511961722488038,\n",
       "  2: 0.17942583732057416,\n",
       "  3: 0.22488038277511962},\n",
       " '61-x_K': {0: 0.19768283852280955,\n",
       "  1: 0.22881969587255613,\n",
       "  2: 0.2635771180304127,\n",
       "  3: 0.3099203475742216},\n",
       " '66-x_M': {0: 0.23595505617977527,\n",
       "  1: 0.22612359550561797,\n",
       "  2: 0.24297752808988765,\n",
       "  3: 0.2949438202247191}}"
      ]
     },
     "metadata": {},
     "execution_count": 205
    }
   ],
   "source": [
    "pedestrian_inconvenience_dist"
   ]
  },
  {
   "source": [
    "### Save probability distribution to .json"
   ],
   "cell_type": "markdown",
   "metadata": {}
  },
  {
   "cell_type": "code",
   "execution_count": 206,
   "metadata": {},
   "outputs": [],
   "source": [
    "out_dir = '../../data/processed/mc/decision_tree'\n",
    "\n",
    "if not os.path.exists(out_dir):\n",
    "    os.makedirs(out_dir)"
   ]
  },
  {
   "cell_type": "code",
   "execution_count": 207,
   "metadata": {},
   "outputs": [],
   "source": [
    "out_file = 'pedestrian_inconvenience_dist.json'\n",
    "out_path = os.path.join(out_dir, out_file)\n",
    "\n",
    "with open(out_path, 'w') as f:\n",
    "    json.dump(pedestrian_inconvenience_dist, f)"
   ]
  },
  {
   "source": [
    "## Distribution: household persons grouped by combinations age group + gender"
   ],
   "cell_type": "markdown",
   "metadata": {}
  },
  {
   "source": [
    "### Prepare data"
   ],
   "cell_type": "markdown",
   "metadata": {}
  },
  {
   "cell_type": "code",
   "execution_count": 219,
   "metadata": {},
   "outputs": [
    {
     "output_type": "execute_result",
     "data": {
      "text/plain": [
       "96"
      ]
     },
     "metadata": {},
     "execution_count": 219
    }
   ],
   "source": [
    "data_grouped = data.groupby(['age_sex_comb', 'Liczba osób w gospodarstwie domowym [ogółem]'])['Liczba osób w gospodarstwie domowym [ogółem]'].count().reset_index(name='count')\n",
    "\n",
    "data_grouped.shape[0]"
   ]
  },
  {
   "cell_type": "code",
   "execution_count": 221,
   "metadata": {},
   "outputs": [],
   "source": [
    "data_grouped['Liczba osób w gospodarstwie domowym [ogółem]'] = data_grouped['Liczba osób w gospodarstwie domowym [ogółem]'].astype('int')"
   ]
  },
  {
   "cell_type": "code",
   "execution_count": 222,
   "metadata": {},
   "outputs": [
    {
     "output_type": "execute_result",
     "data": {
      "text/plain": [
       "  age_sex_comb  Liczba osób w gospodarstwie domowym [ogółem]  count\n",
       "0      16-19_K                                             1     18\n",
       "1      16-19_K                                             2     10\n",
       "2      16-19_K                                             3     58\n",
       "3      16-19_K                                             4     66\n",
       "4      16-19_K                                             5     10"
      ],
      "text/html": "<div>\n<style scoped>\n    .dataframe tbody tr th:only-of-type {\n        vertical-align: middle;\n    }\n\n    .dataframe tbody tr th {\n        vertical-align: top;\n    }\n\n    .dataframe thead th {\n        text-align: right;\n    }\n</style>\n<table border=\"1\" class=\"dataframe\">\n  <thead>\n    <tr style=\"text-align: right;\">\n      <th></th>\n      <th>age_sex_comb</th>\n      <th>Liczba osób w gospodarstwie domowym [ogółem]</th>\n      <th>count</th>\n    </tr>\n  </thead>\n  <tbody>\n    <tr>\n      <th>0</th>\n      <td>16-19_K</td>\n      <td>1</td>\n      <td>18</td>\n    </tr>\n    <tr>\n      <th>1</th>\n      <td>16-19_K</td>\n      <td>2</td>\n      <td>10</td>\n    </tr>\n    <tr>\n      <th>2</th>\n      <td>16-19_K</td>\n      <td>3</td>\n      <td>58</td>\n    </tr>\n    <tr>\n      <th>3</th>\n      <td>16-19_K</td>\n      <td>4</td>\n      <td>66</td>\n    </tr>\n    <tr>\n      <th>4</th>\n      <td>16-19_K</td>\n      <td>5</td>\n      <td>10</td>\n    </tr>\n  </tbody>\n</table>\n</div>"
     },
     "metadata": {},
     "execution_count": 222
    }
   ],
   "source": [
    "data_grouped.head()"
   ]
  },
  {
   "cell_type": "code",
   "execution_count": 223,
   "metadata": {},
   "outputs": [
    {
     "output_type": "execute_result",
     "data": {
      "text/plain": [
       "10"
      ]
     },
     "metadata": {},
     "execution_count": 223
    }
   ],
   "source": [
    "data[\n",
    "    (data['age_sex_comb'] == '16-19_K') &\n",
    "    (data['Liczba osób w gospodarstwie domowym [ogółem]'] == 2)\n",
    "].shape[0]"
   ]
  },
  {
   "source": [
    "### Distribution"
   ],
   "cell_type": "markdown",
   "metadata": {}
  },
  {
   "cell_type": "code",
   "execution_count": 230,
   "metadata": {},
   "outputs": [],
   "source": [
    "unique_age_sex_comb = data_grouped['age_sex_comb'].unique()\n",
    "max_household_persons = data_grouped['Liczba osób w gospodarstwie domowym [ogółem]'].max()\n",
    "\n",
    "household_persons_dist = {}\n",
    "\n",
    "for age_sex_comb in unique_age_sex_comb:\n",
    "    household_persons_dist[age_sex_comb] = {}\n",
    "\n",
    "    for household_persons in range(1, max_household_persons+1):\n",
    "        try:\n",
    "            count = int(data_grouped[\n",
    "                (data_grouped['Liczba osób w gospodarstwie domowym [ogółem]'] == household_persons) & \n",
    "                (data_grouped['age_sex_comb'] == age_sex_comb)\n",
    "            ]['count'])\n",
    "        except TypeError:\n",
    "            count = 1\n",
    "\n",
    "        household_persons_dist[age_sex_comb][household_persons] = count"
   ]
  },
  {
   "cell_type": "code",
   "execution_count": 234,
   "metadata": {},
   "outputs": [
    {
     "output_type": "stream",
     "name": "stdout",
     "text": [
      "16-19_K\t -  {1: 18, 2: 10, 3: 58, 4: 66, 5: 10, 6: 4, 7: 2, 8: 1, 9: 1, 10: 1}\n16-19_M\t -  {1: 20, 2: 19, 3: 93, 4: 83, 5: 19, 6: 14, 7: 2, 8: 1, 9: 1, 10: 1}\n20-24_K\t -  {1: 134, 2: 135, 3: 140, 4: 84, 5: 21, 6: 12, 7: 18, 8: 1, 9: 1, 10: 1}\n20-24_M\t -  {1: 151, 2: 120, 3: 110, 4: 77, 5: 11, 6: 15, 7: 1, 8: 1, 9: 1, 10: 1}\n25-44_K\t -  {1: 140, 2: 427, 3: 560, 4: 414, 5: 110, 6: 50, 7: 15, 8: 4, 9: 1, 10: 1}\n25-44_M\t -  {1: 157, 2: 394, 3: 446, 4: 321, 5: 95, 6: 20, 7: 18, 8: 6, 9: 2, 10: 1}\n45-60_K\t -  {1: 98, 2: 373, 3: 369, 4: 255, 5: 54, 6: 30, 7: 14, 8: 6, 9: 2, 10: 4}\n45-65_M\t -  {1: 101, 2: 378, 3: 394, 4: 227, 5: 45, 6: 37, 7: 6, 8: 3, 9: 1, 10: 1}\n6-15_K\t -  {1: 1, 2: 24, 3: 162, 4: 228, 5: 70, 6: 41, 7: 8, 8: 4, 9: 1, 10: 4}\n6-15_M\t -  {1: 1, 2: 24, 3: 111, 4: 172, 5: 62, 6: 33, 7: 10, 8: 1, 9: 2, 10: 4}\n61-x_K\t -  {1: 366, 2: 650, 3: 187, 4: 110, 5: 39, 6: 17, 7: 8, 8: 4, 9: 1, 10: 1}\n66-x_M\t -  {1: 129, 2: 418, 3: 99, 4: 34, 5: 12, 6: 12, 7: 2, 8: 4, 9: 2, 10: 1}\n"
     ]
    }
   ],
   "source": [
    "for age_sex_comb, household_persons in household_persons_dist.items():\n",
    "    print(age_sex_comb, end='\\t -  ')\n",
    "    print(household_persons)\n",
    "    \n",
    "# household_persons_dist"
   ]
  },
  {
   "source": [
    "### Probability distribution"
   ],
   "cell_type": "markdown",
   "metadata": {}
  },
  {
   "cell_type": "code",
   "execution_count": 235,
   "metadata": {},
   "outputs": [],
   "source": [
    "for age_sex_comb, household_persons in household_persons_dist.items():\n",
    "    household_persons_sum = np.array(list(household_persons.values())).sum()\n",
    "    if household_persons_sum != 0:\n",
    "        for i in list(household_persons_dist[age_sex_comb].keys()):\n",
    "            household_persons_dist[age_sex_comb][i] = household_persons_dist[age_sex_comb][i] / household_persons_sum"
   ]
  },
  {
   "cell_type": "code",
   "execution_count": 236,
   "metadata": {},
   "outputs": [
    {
     "output_type": "stream",
     "name": "stdout",
     "text": [
      "16-19_K\t -  {1: 0.10526315789473684, 2: 0.05847953216374269, 3: 0.3391812865497076, 4: 0.38596491228070173, 5: 0.05847953216374269, 6: 0.023391812865497075, 7: 0.011695906432748537, 8: 0.005847953216374269, 9: 0.005847953216374269, 10: 0.005847953216374269}\n16-19_M\t -  {1: 0.07905138339920949, 2: 0.07509881422924901, 3: 0.3675889328063241, 4: 0.32806324110671936, 5: 0.07509881422924901, 6: 0.05533596837944664, 7: 0.007905138339920948, 8: 0.003952569169960474, 9: 0.003952569169960474, 10: 0.003952569169960474}\n20-24_K\t -  {1: 0.2449725776965265, 2: 0.24680073126142596, 3: 0.25594149908592323, 4: 0.15356489945155394, 5: 0.038391224862888484, 6: 0.021937842778793418, 7: 0.03290676416819013, 8: 0.0018281535648994515, 9: 0.0018281535648994515, 10: 0.0018281535648994515}\n20-24_M\t -  {1: 0.3094262295081967, 2: 0.2459016393442623, 3: 0.22540983606557377, 4: 0.15778688524590165, 5: 0.022540983606557378, 6: 0.030737704918032786, 7: 0.0020491803278688526, 8: 0.0020491803278688526, 9: 0.0020491803278688526, 10: 0.0020491803278688526}\n25-44_K\t -  {1: 0.08130081300813008, 2: 0.24796747967479674, 3: 0.3252032520325203, 4: 0.24041811846689895, 5: 0.06387921022067364, 6: 0.029036004645760744, 7: 0.008710801393728223, 8: 0.0023228803716608595, 9: 0.0005807200929152149, 10: 0.0005807200929152149}\n25-44_M\t -  {1: 0.10753424657534247, 2: 0.26986301369863014, 3: 0.30547945205479454, 4: 0.21986301369863015, 5: 0.06506849315068493, 6: 0.0136986301369863, 7: 0.012328767123287671, 8: 0.00410958904109589, 9: 0.0013698630136986301, 10: 0.0006849315068493151}\n45-60_K\t -  {1: 0.08132780082987552, 2: 0.3095435684647303, 3: 0.3062240663900415, 4: 0.21161825726141079, 5: 0.044813278008298756, 6: 0.024896265560165973, 7: 0.011618257261410789, 8: 0.004979253112033195, 9: 0.0016597510373443983, 10: 0.0033195020746887966}\n45-65_M\t -  {1: 0.08466051969823973, 2: 0.316848281642917, 3: 0.3302598491198659, 4: 0.19027661357921208, 5: 0.037720033528918694, 6: 0.03101424979044426, 7: 0.005029337803855826, 8: 0.002514668901927913, 9: 0.0008382229673093043, 10: 0.0008382229673093043}\n6-15_K\t -  {1: 0.001841620626151013, 2: 0.04419889502762431, 3: 0.2983425414364641, 4: 0.4198895027624309, 5: 0.1289134438305709, 6: 0.07550644567219153, 7: 0.014732965009208104, 8: 0.007366482504604052, 9: 0.001841620626151013, 10: 0.007366482504604052}\n6-15_M\t -  {1: 0.002380952380952381, 2: 0.05714285714285714, 3: 0.2642857142857143, 4: 0.4095238095238095, 5: 0.14761904761904762, 6: 0.07857142857142857, 7: 0.023809523809523808, 8: 0.002380952380952381, 9: 0.004761904761904762, 10: 0.009523809523809525}\n61-x_K\t -  {1: 0.2646420824295011, 2: 0.4699927693420101, 3: 0.13521330441070137, 4: 0.07953723788864786, 5: 0.028199566160520606, 6: 0.012292118582791034, 7: 0.005784526391901663, 8: 0.0028922631959508315, 9: 0.0007230657989877079, 10: 0.0007230657989877079}\n66-x_M\t -  {1: 0.18092566619915848, 2: 0.5862552594670407, 3: 0.1388499298737728, 4: 0.047685834502103785, 5: 0.016830294530154277, 6: 0.016830294530154277, 7: 0.002805049088359046, 8: 0.005610098176718092, 9: 0.002805049088359046, 10: 0.001402524544179523}\n"
     ]
    }
   ],
   "source": [
    "for age_sex_comb, household_persons in household_persons_dist.items():\n",
    "    print(age_sex_comb, end='\\t -  ')\n",
    "    print(household_persons)\n",
    "    \n",
    "# household_persons_dist"
   ]
  },
  {
   "source": [
    "### Save probability distribution to .json"
   ],
   "cell_type": "markdown",
   "metadata": {}
  },
  {
   "cell_type": "code",
   "execution_count": 237,
   "metadata": {},
   "outputs": [],
   "source": [
    "out_dir = '../../data/processed/mc/decision_tree'\n",
    "\n",
    "if not os.path.exists(out_dir):\n",
    "    os.makedirs(out_dir)"
   ]
  },
  {
   "cell_type": "code",
   "execution_count": 238,
   "metadata": {},
   "outputs": [],
   "source": [
    "out_file = 'household_persons_dist.json'\n",
    "out_path = os.path.join(out_dir, out_file)\n",
    "\n",
    "with open(out_path, 'w') as f:\n",
    "    json.dump(household_persons_dist, f)"
   ]
  },
  {
   "source": [
    "## Distribution: household cars grouped by combinations age group + gender"
   ],
   "cell_type": "markdown",
   "metadata": {}
  },
  {
   "source": [
    "### Prepare data"
   ],
   "cell_type": "markdown",
   "metadata": {}
  },
  {
   "cell_type": "code",
   "execution_count": 240,
   "metadata": {},
   "outputs": [
    {
     "output_type": "execute_result",
     "data": {
      "text/plain": [
       "71"
      ]
     },
     "metadata": {},
     "execution_count": 240
    }
   ],
   "source": [
    "data_grouped = data.groupby(['age_sex_comb', 'Samochód'])['Samochód'].count().reset_index(name='count')\n",
    "\n",
    "data_grouped.shape[0]"
   ]
  },
  {
   "cell_type": "code",
   "execution_count": 242,
   "metadata": {},
   "outputs": [],
   "source": [
    "data_grouped['Samochód'] = data_grouped['Samochód'].astype('int')"
   ]
  },
  {
   "cell_type": "code",
   "execution_count": 243,
   "metadata": {},
   "outputs": [
    {
     "output_type": "execute_result",
     "data": {
      "text/plain": [
       "  age_sex_comb  Samochód  count\n",
       "0      16-19_K         0     30\n",
       "1      16-19_K         1     87\n",
       "2      16-19_K         2     42\n",
       "3      16-19_K         3      6\n",
       "4      16-19_K         4      3"
      ],
      "text/html": "<div>\n<style scoped>\n    .dataframe tbody tr th:only-of-type {\n        vertical-align: middle;\n    }\n\n    .dataframe tbody tr th {\n        vertical-align: top;\n    }\n\n    .dataframe thead th {\n        text-align: right;\n    }\n</style>\n<table border=\"1\" class=\"dataframe\">\n  <thead>\n    <tr style=\"text-align: right;\">\n      <th></th>\n      <th>age_sex_comb</th>\n      <th>Samochód</th>\n      <th>count</th>\n    </tr>\n  </thead>\n  <tbody>\n    <tr>\n      <th>0</th>\n      <td>16-19_K</td>\n      <td>0</td>\n      <td>30</td>\n    </tr>\n    <tr>\n      <th>1</th>\n      <td>16-19_K</td>\n      <td>1</td>\n      <td>87</td>\n    </tr>\n    <tr>\n      <th>2</th>\n      <td>16-19_K</td>\n      <td>2</td>\n      <td>42</td>\n    </tr>\n    <tr>\n      <th>3</th>\n      <td>16-19_K</td>\n      <td>3</td>\n      <td>6</td>\n    </tr>\n    <tr>\n      <th>4</th>\n      <td>16-19_K</td>\n      <td>4</td>\n      <td>3</td>\n    </tr>\n  </tbody>\n</table>\n</div>"
     },
     "metadata": {},
     "execution_count": 243
    }
   ],
   "source": [
    "data_grouped.head()"
   ]
  },
  {
   "cell_type": "code",
   "execution_count": 245,
   "metadata": {},
   "outputs": [
    {
     "output_type": "execute_result",
     "data": {
      "text/plain": [
       "42"
      ]
     },
     "metadata": {},
     "execution_count": 245
    }
   ],
   "source": [
    "data[\n",
    "    (data['age_sex_comb'] == '16-19_K') &\n",
    "    (data['Samochód'] == 2)\n",
    "].shape[0]"
   ]
  },
  {
   "source": [
    "### Distribution"
   ],
   "cell_type": "markdown",
   "metadata": {}
  },
  {
   "cell_type": "code",
   "execution_count": 249,
   "metadata": {},
   "outputs": [],
   "source": [
    "unique_age_sex_comb = data_grouped['age_sex_comb'].unique()\n",
    "max_household_cars = data_grouped['Samochód'].max()\n",
    "\n",
    "household_cars_dist = {}\n",
    "\n",
    "for age_sex_comb in unique_age_sex_comb:\n",
    "    household_cars_dist[age_sex_comb] = {}\n",
    "\n",
    "    for household_cars in range(0, max_household_cars+1):\n",
    "        try:\n",
    "            count = int(data_grouped[\n",
    "                (data_grouped['Samochód'] == household_cars) & \n",
    "                (data_grouped['age_sex_comb'] == age_sex_comb)\n",
    "            ]['count'])\n",
    "        except TypeError:\n",
    "            count = 1\n",
    "\n",
    "        household_cars_dist[age_sex_comb][household_cars] = count"
   ]
  },
  {
   "cell_type": "code",
   "execution_count": 252,
   "metadata": {},
   "outputs": [
    {
     "output_type": "stream",
     "name": "stdout",
     "text": [
      "16-19_K\t -  {0: 30, 1: 87, 2: 42, 3: 6, 4: 3, 5: 1, 6: 1, 7: 1}\n16-19_M\t -  {0: 49, 1: 107, 2: 89, 3: 2, 4: 4, 5: 1, 6: 1, 7: 1}\n20-24_K\t -  {0: 239, 1: 176, 2: 103, 3: 12, 4: 6, 5: 5, 6: 1, 7: 3}\n20-24_M\t -  {0: 238, 1: 170, 2: 64, 3: 10, 4: 2, 5: 1, 6: 1, 7: 1}\n25-44_K\t -  {0: 349, 1: 848, 2: 449, 3: 43, 4: 22, 5: 3, 6: 1, 7: 6}\n25-44_M\t -  {0: 235, 1: 759, 2: 391, 3: 49, 4: 23, 5: 1, 6: 1, 7: 2}\n45-60_K\t -  {0: 297, 1: 590, 2: 263, 3: 39, 4: 14, 5: 1, 6: 2, 7: 1}\n45-65_M\t -  {0: 199, 1: 673, 2: 259, 3: 39, 4: 19, 5: 2, 6: 1, 7: 1}\n6-15_K\t -  {0: 48, 1: 314, 2: 163, 3: 6, 4: 8, 5: 1, 6: 1, 7: 2}\n6-15_M\t -  {0: 57, 1: 198, 2: 141, 3: 11, 4: 7, 5: 1, 6: 2, 7: 2}\n61-x_K\t -  {0: 720, 1: 515, 2: 122, 3: 16, 4: 8, 5: 1, 6: 1, 7: 1}\n66-x_M\t -  {0: 301, 1: 340, 2: 57, 3: 8, 4: 4, 5: 1, 6: 2, 7: 1}\n"
     ]
    }
   ],
   "source": [
    "for age_sex_comb, household_cars in household_cars_dist.items():\n",
    "    print(age_sex_comb, end='\\t -  ')\n",
    "    print(household_cars)\n",
    "    \n",
    "# household_cars_dist"
   ]
  },
  {
   "source": [
    "### Probability distribution"
   ],
   "cell_type": "markdown",
   "metadata": {}
  },
  {
   "cell_type": "code",
   "execution_count": 254,
   "metadata": {},
   "outputs": [],
   "source": [
    "for age_sex_comb, household_cars in household_cars_dist.items():\n",
    "    household_cars_sum = np.array(list(household_cars.values())).sum()\n",
    "    if household_cars_sum != 0:\n",
    "        for i in list(household_cars_dist[age_sex_comb].keys()):\n",
    "            household_cars_dist[age_sex_comb][i] = household_cars_dist[age_sex_comb][i] / household_cars_sum"
   ]
  },
  {
   "cell_type": "code",
   "execution_count": 255,
   "metadata": {},
   "outputs": [
    {
     "output_type": "stream",
     "name": "stdout",
     "text": [
      "16-19_K\t -  {0: 0.17543859649122806, 1: 0.5087719298245614, 2: 0.24561403508771928, 3: 0.03508771929824561, 4: 0.017543859649122806, 5: 0.005847953216374269, 6: 0.005847953216374269, 7: 0.005847953216374269}\n16-19_M\t -  {0: 0.19291338582677164, 1: 0.421259842519685, 2: 0.35039370078740156, 3: 0.007874015748031496, 4: 0.015748031496062992, 5: 0.003937007874015748, 6: 0.003937007874015748, 7: 0.003937007874015748}\n20-24_K\t -  {0: 0.43853211009174314, 1: 0.3229357798165138, 2: 0.1889908256880734, 3: 0.022018348623853212, 4: 0.011009174311926606, 5: 0.009174311926605505, 6: 0.001834862385321101, 7: 0.005504587155963303}\n20-24_M\t -  {0: 0.4887063655030801, 1: 0.3490759753593429, 2: 0.13141683778234087, 3: 0.02053388090349076, 4: 0.004106776180698152, 5: 0.002053388090349076, 6: 0.002053388090349076, 7: 0.002053388090349076}\n25-44_K\t -  {0: 0.20278907611853572, 1: 0.4927367809413132, 2: 0.2608948285880302, 3: 0.024985473561882625, 4: 0.012783265543288786, 5: 0.0017431725740848344, 6: 0.0005810575246949448, 7: 0.003486345148169669}\n25-44_M\t -  {0: 0.16084873374401096, 1: 0.5195071868583162, 2: 0.2676249144421629, 3: 0.03353867214236824, 4: 0.01574264202600958, 5: 0.0006844626967830253, 6: 0.0006844626967830253, 7: 0.0013689253935660506}\n45-60_K\t -  {0: 0.24606462303231152, 1: 0.4888152444076222, 2: 0.21789560894780446, 3: 0.03231151615575808, 4: 0.0115990057995029, 5: 0.0008285004142502071, 6: 0.0016570008285004142, 7: 0.0008285004142502071}\n45-65_M\t -  {0: 0.16680637049455155, 1: 0.5641240569991618, 2: 0.21709974853310982, 3: 0.03269069572506287, 4: 0.01592623637887678, 5: 0.0016764459346186086, 6: 0.0008382229673093043, 7: 0.0008382229673093043}\n6-15_K\t -  {0: 0.08839779005524862, 1: 0.578268876611418, 2: 0.3001841620626151, 3: 0.011049723756906077, 4: 0.014732965009208104, 5: 0.001841620626151013, 6: 0.001841620626151013, 7: 0.003683241252302026}\n6-15_M\t -  {0: 0.1360381861575179, 1: 0.47255369928400953, 2: 0.33651551312649164, 3: 0.026252983293556086, 4: 0.016706443914081145, 5: 0.002386634844868735, 6: 0.00477326968973747, 7: 0.00477326968973747}\n61-x_K\t -  {0: 0.5202312138728323, 1: 0.37210982658959535, 2: 0.08815028901734104, 3: 0.011560693641618497, 4: 0.005780346820809248, 5: 0.000722543352601156, 6: 0.000722543352601156, 7: 0.000722543352601156}\n66-x_M\t -  {0: 0.4215686274509804, 1: 0.47619047619047616, 2: 0.07983193277310924, 3: 0.011204481792717087, 4: 0.0056022408963585435, 5: 0.0014005602240896359, 6: 0.0028011204481792717, 7: 0.0014005602240896359}\n"
     ]
    }
   ],
   "source": [
    "for age_sex_comb, household_cars in household_cars_dist.items():\n",
    "    print(age_sex_comb, end='\\t -  ')\n",
    "    print(household_cars)\n",
    "    \n",
    "# household_cars_dist"
   ]
  },
  {
   "source": [
    "### Save probability distribution to .json"
   ],
   "cell_type": "markdown",
   "metadata": {}
  },
  {
   "cell_type": "code",
   "execution_count": 256,
   "metadata": {},
   "outputs": [],
   "source": [
    "out_dir = '../../data/processed/mc/decision_tree'\n",
    "\n",
    "if not os.path.exists(out_dir):\n",
    "    os.makedirs(out_dir)"
   ]
  },
  {
   "cell_type": "code",
   "execution_count": 257,
   "metadata": {},
   "outputs": [],
   "source": [
    "out_file = 'household_cars_dist.json'\n",
    "out_path = os.path.join(out_dir, out_file)\n",
    "\n",
    "with open(out_path, 'w') as f:\n",
    "    json.dump(household_cars_dist, f)"
   ]
  },
  {
   "source": [
    "## Distribution: household bicycles grouped by combinations age group + gender"
   ],
   "cell_type": "markdown",
   "metadata": {}
  },
  {
   "source": [
    "### Prepare data"
   ],
   "cell_type": "markdown",
   "metadata": {}
  },
  {
   "cell_type": "code",
   "execution_count": 259,
   "metadata": {},
   "outputs": [
    {
     "output_type": "execute_result",
     "data": {
      "text/plain": [
       "96"
      ]
     },
     "metadata": {},
     "execution_count": 259
    }
   ],
   "source": [
    "data_grouped = data.groupby(['age_sex_comb', 'Rower'])['Rower'].count().reset_index(name='count')\n",
    "\n",
    "data_grouped.shape[0]"
   ]
  },
  {
   "cell_type": "code",
   "execution_count": 261,
   "metadata": {},
   "outputs": [],
   "source": [
    "data_grouped['Rower'] = data_grouped['Rower'].astype('int')"
   ]
  },
  {
   "cell_type": "code",
   "execution_count": 262,
   "metadata": {},
   "outputs": [
    {
     "output_type": "execute_result",
     "data": {
      "text/plain": [
       "  age_sex_comb  Rower  count\n",
       "0      16-19_K      0     41\n",
       "1      16-19_K      1     17\n",
       "2      16-19_K      2     39\n",
       "3      16-19_K      3     38\n",
       "4      16-19_K      4     29"
      ],
      "text/html": "<div>\n<style scoped>\n    .dataframe tbody tr th:only-of-type {\n        vertical-align: middle;\n    }\n\n    .dataframe tbody tr th {\n        vertical-align: top;\n    }\n\n    .dataframe thead th {\n        text-align: right;\n    }\n</style>\n<table border=\"1\" class=\"dataframe\">\n  <thead>\n    <tr style=\"text-align: right;\">\n      <th></th>\n      <th>age_sex_comb</th>\n      <th>Rower</th>\n      <th>count</th>\n    </tr>\n  </thead>\n  <tbody>\n    <tr>\n      <th>0</th>\n      <td>16-19_K</td>\n      <td>0</td>\n      <td>41</td>\n    </tr>\n    <tr>\n      <th>1</th>\n      <td>16-19_K</td>\n      <td>1</td>\n      <td>17</td>\n    </tr>\n    <tr>\n      <th>2</th>\n      <td>16-19_K</td>\n      <td>2</td>\n      <td>39</td>\n    </tr>\n    <tr>\n      <th>3</th>\n      <td>16-19_K</td>\n      <td>3</td>\n      <td>38</td>\n    </tr>\n    <tr>\n      <th>4</th>\n      <td>16-19_K</td>\n      <td>4</td>\n      <td>29</td>\n    </tr>\n  </tbody>\n</table>\n</div>"
     },
     "metadata": {},
     "execution_count": 262
    }
   ],
   "source": [
    "data_grouped.head()"
   ]
  },
  {
   "cell_type": "code",
   "execution_count": 263,
   "metadata": {},
   "outputs": [
    {
     "output_type": "execute_result",
     "data": {
      "text/plain": [
       "39"
      ]
     },
     "metadata": {},
     "execution_count": 263
    }
   ],
   "source": [
    "data[\n",
    "    (data['age_sex_comb'] == '16-19_K') &\n",
    "    (data['Rower'] == 2)\n",
    "].shape[0]"
   ]
  },
  {
   "source": [
    "### Distribution"
   ],
   "cell_type": "markdown",
   "metadata": {}
  },
  {
   "cell_type": "code",
   "execution_count": 269,
   "metadata": {},
   "outputs": [],
   "source": [
    "unique_age_sex_comb = data_grouped['age_sex_comb'].unique()\n",
    "max_household_bicycles = data_grouped['Rower'].max()\n",
    "\n",
    "household_bicycles_dist = {}\n",
    "\n",
    "for age_sex_comb in unique_age_sex_comb:\n",
    "    household_bicycles_dist[age_sex_comb] = {}\n",
    "\n",
    "    for household_bicycles in range(0, max_household_bicycles+1):\n",
    "        try:\n",
    "            count = int(data_grouped[\n",
    "                (data_grouped['Rower'] == household_bicycles) & \n",
    "                (data_grouped['age_sex_comb'] == age_sex_comb)\n",
    "            ]['count'])\n",
    "        except TypeError:\n",
    "            count = 1\n",
    "\n",
    "        household_bicycles_dist[age_sex_comb][household_bicycles] = count"
   ]
  },
  {
   "cell_type": "code",
   "execution_count": 270,
   "metadata": {},
   "outputs": [
    {
     "output_type": "stream",
     "name": "stdout",
     "text": [
      "16-19_K\t -  {0: 41, 1: 17, 2: 39, 3: 38, 4: 29, 5: 2, 6: 1, 7: 1, 8: 2, 9: 1, 10: 1}\n16-19_M\t -  {0: 46, 1: 38, 2: 84, 3: 48, 4: 29, 5: 2, 6: 2, 7: 1, 8: 2, 9: 1, 10: 1}\n20-24_K\t -  {0: 235, 1: 120, 2: 88, 3: 60, 4: 26, 5: 2, 6: 6, 7: 4, 8: 3, 9: 1, 10: 1}\n20-24_M\t -  {0: 207, 1: 123, 2: 63, 3: 44, 4: 43, 5: 2, 6: 1, 7: 1, 8: 2, 9: 1, 10: 1}\n25-44_K\t -  {0: 424, 1: 359, 2: 477, 3: 248, 4: 160, 5: 29, 6: 13, 7: 4, 8: 6, 9: 1, 10: 1}\n25-44_M\t -  {0: 349, 1: 338, 2: 431, 3: 206, 4: 99, 5: 25, 6: 9, 7: 2, 8: 1, 9: 1, 10: 1}\n45-60_K\t -  {0: 356, 1: 242, 2: 307, 3: 161, 4: 104, 5: 19, 6: 3, 7: 2, 8: 4, 9: 1, 10: 7}\n45-65_M\t -  {0: 326, 1: 271, 2: 313, 3: 162, 4: 86, 5: 12, 6: 9, 7: 4, 8: 8, 9: 1, 10: 1}\n6-15_K\t -  {0: 58, 1: 84, 2: 125, 3: 132, 4: 124, 5: 16, 6: 1, 7: 1, 8: 1, 9: 1, 10: 2}\n6-15_M\t -  {0: 73, 1: 35, 2: 104, 3: 83, 4: 100, 5: 18, 6: 1, 7: 1, 8: 5, 9: 1, 10: 1}\n61-x_K\t -  {0: 771, 1: 268, 2: 256, 3: 59, 4: 19, 5: 4, 6: 2, 7: 1, 8: 2, 9: 1, 10: 1}\n66-x_M\t -  {0: 395, 1: 125, 2: 139, 3: 30, 4: 19, 5: 2, 6: 1, 7: 1, 8: 2, 9: 1, 10: 1}\n"
     ]
    }
   ],
   "source": [
    "for age_sex_comb, household_bicycles in household_bicycles_dist.items():\n",
    "    print(age_sex_comb, end='\\t -  ')\n",
    "    print(household_bicycles)\n",
    "    \n",
    "# household_bicycles_dist"
   ]
  },
  {
   "source": [
    "### Probability distribution"
   ],
   "cell_type": "markdown",
   "metadata": {}
  },
  {
   "cell_type": "code",
   "execution_count": 271,
   "metadata": {},
   "outputs": [],
   "source": [
    "for age_sex_comb, household_bicycles in household_bicycles_dist.items():\n",
    "    household_bicycles_sum = np.array(list(household_bicycles.values())).sum()\n",
    "    if household_bicycles_sum != 0:\n",
    "        for i in list(household_bicycles_dist[age_sex_comb].keys()):\n",
    "            household_bicycles_dist[age_sex_comb][i] = household_bicycles_dist[age_sex_comb][i] / household_bicycles_sum"
   ]
  },
  {
   "cell_type": "code",
   "execution_count": 272,
   "metadata": {},
   "outputs": [
    {
     "output_type": "stream",
     "name": "stdout",
     "text": [
      "16-19_K\t -  {0: 0.23837209302325582, 1: 0.09883720930232558, 2: 0.22674418604651161, 3: 0.22093023255813954, 4: 0.1686046511627907, 5: 0.011627906976744186, 6: 0.005813953488372093, 7: 0.005813953488372093, 8: 0.011627906976744186, 9: 0.005813953488372093, 10: 0.005813953488372093}\n16-19_M\t -  {0: 0.18110236220472442, 1: 0.14960629921259844, 2: 0.33070866141732286, 3: 0.1889763779527559, 4: 0.1141732283464567, 5: 0.007874015748031496, 6: 0.007874015748031496, 7: 0.003937007874015748, 8: 0.007874015748031496, 9: 0.003937007874015748, 10: 0.003937007874015748}\n20-24_K\t -  {0: 0.43040293040293043, 1: 0.21978021978021978, 2: 0.16117216117216118, 3: 0.10989010989010989, 4: 0.047619047619047616, 5: 0.003663003663003663, 6: 0.01098901098901099, 7: 0.007326007326007326, 8: 0.005494505494505495, 9: 0.0018315018315018315, 10: 0.0018315018315018315}\n20-24_M\t -  {0: 0.42418032786885246, 1: 0.2520491803278688, 2: 0.1290983606557377, 3: 0.09016393442622951, 4: 0.08811475409836066, 5: 0.004098360655737705, 6: 0.0020491803278688526, 7: 0.0020491803278688526, 8: 0.004098360655737705, 9: 0.0020491803278688526, 10: 0.0020491803278688526}\n25-44_K\t -  {0: 0.2462253193960511, 1: 0.20847851335656215, 2: 0.2770034843205575, 3: 0.1440185830429733, 4: 0.09291521486643438, 5: 0.01684088269454123, 6: 0.007549361207897794, 7: 0.0023228803716608595, 8: 0.003484320557491289, 9: 0.0005807200929152149, 10: 0.0005807200929152149}\n25-44_M\t -  {0: 0.2387140902872777, 1: 0.23119015047879618, 2: 0.2948016415868673, 3: 0.1409028727770178, 4: 0.0677154582763338, 5: 0.01709986320109439, 6: 0.006155950752393981, 7: 0.0013679890560875513, 8: 0.0006839945280437756, 9: 0.0006839945280437756, 10: 0.0006839945280437756}\n45-60_K\t -  {0: 0.29519071310116085, 1: 0.20066334991708126, 2: 0.25456053067993367, 3: 0.13349917081260365, 4: 0.08623548922056384, 5: 0.015754560530679935, 6: 0.0024875621890547263, 7: 0.001658374792703151, 8: 0.003316749585406302, 9: 0.0008291873963515755, 10: 0.005804311774461028}\n45-65_M\t -  {0: 0.2732606873428332, 1: 0.22715842414082146, 2: 0.26236378876781224, 3: 0.1357921207041073, 4: 0.07208717518860017, 5: 0.010058675607711651, 6: 0.0075440067057837385, 7: 0.003352891869237217, 8: 0.006705783738474434, 9: 0.0008382229673093043, 10: 0.0008382229673093043}\n6-15_K\t -  {0: 0.10642201834862386, 1: 0.15412844036697249, 2: 0.22935779816513763, 3: 0.24220183486238533, 4: 0.22752293577981653, 5: 0.029357798165137616, 6: 0.001834862385321101, 7: 0.001834862385321101, 8: 0.001834862385321101, 9: 0.001834862385321101, 10: 0.003669724770642202}\n6-15_M\t -  {0: 0.17298578199052134, 1: 0.08293838862559241, 2: 0.24644549763033174, 3: 0.1966824644549763, 4: 0.23696682464454977, 5: 0.04265402843601896, 6: 0.002369668246445498, 7: 0.002369668246445498, 8: 0.011848341232227487, 9: 0.002369668246445498, 10: 0.002369668246445498}\n61-x_K\t -  {0: 0.5570809248554913, 1: 0.1936416184971098, 2: 0.18497109826589594, 3: 0.04263005780346821, 4: 0.013728323699421965, 5: 0.002890173410404624, 6: 0.001445086705202312, 7: 0.000722543352601156, 8: 0.001445086705202312, 9: 0.000722543352601156, 10: 0.000722543352601156}\n66-x_M\t -  {0: 0.5516759776536313, 1: 0.17458100558659218, 2: 0.1941340782122905, 3: 0.04189944134078212, 4: 0.02653631284916201, 5: 0.002793296089385475, 6: 0.0013966480446927375, 7: 0.0013966480446927375, 8: 0.002793296089385475, 9: 0.0013966480446927375, 10: 0.0013966480446927375}\n"
     ]
    }
   ],
   "source": [
    "for age_sex_comb, household_bicycles in household_bicycles_dist.items():\n",
    "    print(age_sex_comb, end='\\t -  ')\n",
    "    print(household_bicycles)\n",
    "    \n",
    "# household_bicycles_dist"
   ]
  },
  {
   "source": [
    "### Save probability distribution to .json"
   ],
   "cell_type": "markdown",
   "metadata": {}
  },
  {
   "cell_type": "code",
   "execution_count": 273,
   "metadata": {},
   "outputs": [],
   "source": [
    "out_dir = '../../data/processed/mc/decision_tree'\n",
    "\n",
    "if not os.path.exists(out_dir):\n",
    "    os.makedirs(out_dir)"
   ]
  },
  {
   "cell_type": "code",
   "execution_count": 274,
   "metadata": {},
   "outputs": [],
   "source": [
    "out_file = 'household_bicycles_dist.json'\n",
    "out_path = os.path.join(out_dir, out_file)\n",
    "\n",
    "with open(out_path, 'w') as f:\n",
    "    json.dump(household_bicycles_dist, f)"
   ]
  },
  {
   "cell_type": "code",
   "execution_count": null,
   "metadata": {},
   "outputs": [],
   "source": []
  }
 ]
}